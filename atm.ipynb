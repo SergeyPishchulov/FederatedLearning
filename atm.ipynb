{
 "cells": [
  {
   "cell_type": "markdown",
   "metadata": {},
   "source": [
    "ATM"
   ]
  },
  {
   "cell_type": "code",
   "execution_count": 25,
   "metadata": {},
   "outputs": [
    {
     "data": {
      "text/plain": [
       "['./Datasets/wisabi/byday/enugu_transactions.csv',\n",
       " './Datasets/wisabi/byday/fct_transactions.csv',\n",
       " './Datasets/wisabi/byday/kano_transactions.csv',\n",
       " './Datasets/wisabi/byday/lagos_transactions.csv',\n",
       " './Datasets/wisabi/byday/rivers_transactions.csv']"
      ]
     },
     "execution_count": 25,
     "metadata": {},
     "output_type": "execute_result"
    }
   ],
   "source": [
    "from os import listdir\n",
    "from os.path import isfile, join\n",
    "import pandas as pd\n",
    "import numpy as np\n",
    "import matplotlib.pyplot as plt\n",
    "import copy\n",
    "\n",
    "import plotly.express as px\n",
    "import plotly.graph_objects as go\n",
    "from IPython.display import Markdown as md\n",
    "\n",
    "import seaborn as sns\n",
    "from tsfresh.feature_extraction import settings\n",
    "from tsfresh import extract_features, extract_relevant_features, select_features\n",
    "from tsfresh.utilities.dataframe_functions import (\n",
    "    impute,\n",
    "    make_forecasting_frame,\n",
    "    roll_time_series,\n",
    ")\n",
    "from tsfresh.feature_extraction import (\n",
    "    ComprehensiveFCParameters,\n",
    "    MinimalFCParameters,\n",
    "    EfficientFCParameters,\n",
    "    settings,\n",
    ")\n",
    "from sklearn.model_selection import train_test_split\n",
    "\n",
    "from sklearn.metrics import (\n",
    "    max_error as ME,\n",
    "    mean_absolute_error as MAE,\n",
    "    mean_absolute_percentage_error as MAPE,\n",
    ")\n",
    "\n",
    "from sklearn.preprocessing import StandardScaler\n",
    "\n",
    "mypath = \"./Datasets/wisabi\"\n",
    "files = [\n",
    "    join(mypath, f)\n",
    "    for f in listdir(mypath)\n",
    "    if isfile(join(mypath, f)) and \"transactions.csv\" in f\n",
    "]\n",
    "byday_path = mypath+'/byday'\n",
    "byday_files = [\n",
    "    join(byday_path, f)\n",
    "    for f in listdir(byday_path)\n",
    "    if isfile(join(byday_path, f)) and \"transactions.csv\" in f\n",
    "]\n",
    "byday_files"
   ]
  },
  {
   "cell_type": "code",
   "execution_count": 2,
   "metadata": {},
   "outputs": [],
   "source": [
    "dfs = list(zip(map(pd.read_csv, files), files))"
   ]
  },
  {
   "cell_type": "code",
   "execution_count": 3,
   "metadata": {},
   "outputs": [],
   "source": [
    "full_calendar = pd.read_csv(mypath+'/calendar lookup.csv', index_col='Date')\n",
    "full_calendar.index = pd.to_datetime(full_calendar.index).date\n",
    "cols = ['IsHoliday','Day Name']\n",
    "calendar  = full_calendar[cols]\n",
    "calendar = pd.get_dummies(calendar,drop_first=True)\n",
    "# calendar"
   ]
  },
  {
   "cell_type": "code",
   "execution_count": 4,
   "metadata": {},
   "outputs": [],
   "source": [
    "import multiprocessing\n",
    "pool = multiprocessing.Pool()\n",
    "\n",
    "\n",
    "def transactions_to_cash_ts(args):\n",
    "    df, file = args\n",
    "    for c in [\"TransactionStartDateTime\", \"TransactionEndDateTime\"]:\n",
    "        df[c] = pd.to_datetime(df[c])\n",
    "    df = df.drop(columns=[\"CardholderID\", \"LocationID\"])\n",
    "    df = df[df.TransactionTypeID.isin([1, 2])]\n",
    "    df[\"date\"] = df.TransactionStartDateTime.dt.date  # .round(\"H\")\n",
    "    df.drop(\n",
    "        columns=[\"TransactionStartDateTime\", \"TransactionEndDateTime\"], inplace=True\n",
    "    )\n",
    "    df.loc[df.TransactionTypeID == 2, \"TransactionAmount\"] *= -1\n",
    "    df = df.drop(columns=\"TransactionTypeID\")\n",
    "    ts = df.groupby(\"date\").sum().TransactionAmount\n",
    "    # ts = pd.Series(df.TransactionAmount, index = df.date)\n",
    "    ts.name = file.split(\"/\")[-1].split(\".\")[0]\n",
    "    # ts = ts.to_frame()#.merge(calendar, left_index=True, right_index=True)\n",
    "    # ts.index = pd.to_datetime(ts.index).date\n",
    "    return ts"
   ]
  },
  {
   "cell_type": "code",
   "execution_count": 5,
   "metadata": {},
   "outputs": [],
   "source": [
    "# tss = list(map(transactions_to_cash_ts, dfs))\n"
   ]
  },
  {
   "cell_type": "code",
   "execution_count": 6,
   "metadata": {},
   "outputs": [],
   "source": [
    "# for ts in tss:\n",
    "#     ts.to_frame().to_csv(mypath+f'/byday/{ts.name}.csv')"
   ]
  },
  {
   "cell_type": "code",
   "execution_count": 7,
   "metadata": {},
   "outputs": [
    {
     "data": {
      "text/plain": [
       "Index([2022-01-01, 2022-01-02, 2022-01-03, 2022-01-04, 2022-01-05, 2022-01-06,\n",
       "       2022-01-07, 2022-01-08, 2022-01-09, 2022-01-10,\n",
       "       ...\n",
       "       2022-12-22, 2022-12-23, 2022-12-24, 2022-12-25, 2022-12-26, 2022-12-27,\n",
       "       2022-12-28, 2022-12-29, 2022-12-30, 2022-12-31],\n",
       "      dtype='object', name='date', length=365)"
      ]
     },
     "execution_count": 7,
     "metadata": {},
     "output_type": "execute_result"
    }
   ],
   "source": [
    "tss = list(map(lambda x: pd.read_csv(x, index_col='date').iloc[:,0], byday_files))\n",
    "for ts in tss:\n",
    "    ts.index = pd.to_datetime(ts.index).date\n",
    "    ts.index.name = 'date'\n",
    "tss[0].index"
   ]
  },
  {
   "cell_type": "code",
   "execution_count": 8,
   "metadata": {},
   "outputs": [],
   "source": [
    "# for ts in tss:\n",
    "#     ts.plot()\n",
    "#     plt.title(ts.name)\n",
    "#     plt.show()"
   ]
  },
  {
   "cell_type": "code",
   "execution_count": 9,
   "metadata": {},
   "outputs": [],
   "source": [
    "def extractor_ts(ts_inp, best_features=None):\n",
    "    ts = ts_inp.diff().dropna()\n",
    "    med = ts.median()  # TODO более аккуратно\n",
    "    ts.loc[ts.sort_values().head(7).index] = med\n",
    "    ts.loc[ts.sort_values().tail(7).index] = med\n",
    "    common_name = \"transaction\"\n",
    "\n",
    "    scaler = StandardScaler()\n",
    "    ts_scaled = pd.Series(\n",
    "        scaler.fit_transform(ts.values.reshape(-1, 1)).reshape(-1),\n",
    "        index=ts.index,\n",
    "        name=common_name#ts.name,\n",
    "    )\n",
    "    ts = ts_scaled\n",
    "    dfts = ts.to_frame()\n",
    "    dfts[\"id\"] = common_name#ts.name\n",
    "    dfts.reset_index(inplace=True)\n",
    "    df_rolled = roll_time_series(\n",
    "        dfts, column_id=\"id\", column_sort=\"date\", max_timeshift=20, min_timeshift=5\n",
    "    )\n",
    "    # каждый момент времени описываем окном длины не больше 20, окна длины меньше чем 5 отбрасываем\n",
    "    name = ts.name\n",
    "    X = extract_features(\n",
    "        df_rolled,\n",
    "        column_id=\"id\",\n",
    "        column_sort=\"date\",\n",
    "        column_value=common_name,#name,\n",
    "        impute_function=impute,\n",
    "        show_warnings=False,\n",
    "        default_fc_parameters=extraction_settings,\n",
    "    )\n",
    "    X = X.set_index(X.index.map(lambda x: x[1])).copy()\n",
    "    # if best_features is not None:\n",
    "    #     X = X.loc[:, best_features]\n",
    "    # return X\n",
    "\n",
    "    X[name] = ts[X.index]  # добавялем оригинальный ряд\n",
    "    X[\"y\"] = X[name].shift(-horizon)\n",
    "    # # добавляем target - оригинальный ряд смещенный на 1 в будущее\n",
    "    df = X.dropna().copy()\n",
    "    y = df.y\n",
    "    df.drop(\"y\", axis=1, inplace=True)\n",
    "\n",
    "    if best_features is not None:\n",
    "        df = df[best_features]\n",
    "    # df = df.merge(calendar, left_index=True, right_index=True)\n",
    "    X = df\n",
    "    \n",
    "    X_train, X_test, y_train, y_test = train_test_split(\n",
    "        X, y, test_size=0.3, shuffle=False)\n",
    "    return X_train, X_test, y_train, y_test"
   ]
  },
  {
   "cell_type": "markdown",
   "metadata": {},
   "source": [
    "Extraction settings"
   ]
  },
  {
   "cell_type": "code",
   "execution_count": 10,
   "metadata": {},
   "outputs": [
    {
     "data": {
      "text/plain": [
       "10"
      ]
     },
     "execution_count": 10,
     "metadata": {},
     "output_type": "execute_result"
    }
   ],
   "source": [
    "# extraction_settings = EfficientFCParameters()\n",
    "# extraction_settings = ComprehensiveFCParameters()\n",
    "# del extraction_settings[\"friedrich_coefficients\"]\n",
    "# del extraction_settings[\"max_langevin_fixed_point\"]\n",
    "extraction_settings = MinimalFCParameters()\n",
    "\n",
    "horizon = 1\n",
    "len(extraction_settings)\n"
   ]
  },
  {
   "cell_type": "markdown",
   "metadata": {},
   "source": [
    "Best features"
   ]
  },
  {
   "cell_type": "code",
   "execution_count": 11,
   "metadata": {},
   "outputs": [
    {
     "name": "stderr",
     "output_type": "stream",
     "text": [
      "Rolling: 100%|██████████| 20/20 [00:00<00:00, 51.68it/s]\n",
      "Feature Extraction: 100%|██████████| 20/20 [00:00<00:00, 74.28it/s]\n"
     ]
    },
    {
     "data": {
      "text/plain": [
       "11"
      ]
     },
     "execution_count": 11,
     "metadata": {},
     "output_type": "execute_result"
    }
   ],
   "source": [
    "X_train, X_test, y_train, y_test = extractor_ts(tss[0])\n",
    "X_train_selected = select_features(X_train, y_train)\n",
    "# best_features=X_train_selected.columns\n",
    "best_features=list(X_train.columns)#+list(calendar.columns)\n",
    "len(best_features)"
   ]
  },
  {
   "cell_type": "markdown",
   "metadata": {},
   "source": [
    "#### Boosting"
   ]
  },
  {
   "cell_type": "code",
   "execution_count": 12,
   "metadata": {},
   "outputs": [],
   "source": [
    "# from catboost import CatBoostRegressor\n",
    "# model = CatBoostRegressor(silent=True).fit(X_train, y_train)\n",
    "# y_pred = pd.Series(model.predict(X_test), index=X_test.index)\n",
    "# y_pred_dumb = y_test.shift(1)\n",
    "# MAE(y_test[1:], y_pred_dumb[1:]),MAE(y_test, y_pred)"
   ]
  },
  {
   "cell_type": "markdown",
   "metadata": {},
   "source": [
    "Boosting plot"
   ]
  },
  {
   "cell_type": "code",
   "execution_count": 13,
   "metadata": {},
   "outputs": [],
   "source": [
    "# fig = go.Figure()\n",
    "# fig.update_layout(title_text=f\"CatBoost & tsfresh. MAE={MAE(y_test, y_pred):.4f}\")\n",
    "# fig.add_trace(go.Scatter(x=y_train.index, y=y_train, name=\"Train\"))\n",
    "# fig.add_trace(go.Scatter(x=y_test.index, y=y_test, name=\"Test\"))\n",
    "# fig.add_trace(go.Scatter(x=y_pred.index, y=y_pred, name=\"Predicted\"))"
   ]
  },
  {
   "cell_type": "markdown",
   "metadata": {},
   "source": [
    "#### Torch"
   ]
  },
  {
   "cell_type": "code",
   "execution_count": 14,
   "metadata": {},
   "outputs": [],
   "source": [
    "from datasets import load_dataset, load_from_disk\n",
    "import pandas as pd\n",
    "from transformers import Trainer\n",
    "from transformers import TrainingArguments\n",
    "from transformers import EncoderDecoderModel\n",
    "from transformers import BertTokenizer\n",
    "import numpy as np\n",
    "import os\n",
    "import random\n",
    "import gc\n",
    "import torch\n",
    "import torch.nn as nn\n",
    "import torch.optim as optim\n",
    "import shutil\n",
    "from tqdm import tqdm\n",
    "\n",
    "torch.cuda.empty_cache()\n",
    "gc.collect()\n",
    "\n",
    "SEED = 42\n",
    "\n",
    "\n",
    "def seed_everything(seed=SEED):\n",
    "    random.seed(seed)\n",
    "    os.environ[\"PYTHONHASHSEED\"] = str(seed)\n",
    "    np.random.seed(seed)\n",
    "    torch.manual_seed(seed)\n",
    "    torch.backends.cudnn.deterministic = True\n",
    "    torch.backends.cudnn.benchmark = False\n",
    "\n",
    "\n",
    "torch.backends.cudnn.deterministic = True\n",
    "seed_everything(SEED)\n",
    "device = torch.device(\"cuda:0\" if torch.cuda.is_available() else \"cpu\")"
   ]
  },
  {
   "cell_type": "code",
   "execution_count": 15,
   "metadata": {},
   "outputs": [],
   "source": [
    "# X_train, X_test, y_train, y_test = train_test_split(X, y, test_size=0.3, shuffle=False)\n"
   ]
  },
  {
   "cell_type": "markdown",
   "metadata": {},
   "source": [
    "model"
   ]
  },
  {
   "cell_type": "code",
   "execution_count": 16,
   "metadata": {},
   "outputs": [
    {
     "data": {
      "text/plain": [
       "(365, 7)"
      ]
     },
     "execution_count": 16,
     "metadata": {},
     "output_type": "execute_result"
    }
   ],
   "source": [
    "calendar.shape"
   ]
  },
  {
   "cell_type": "code",
   "execution_count": 17,
   "metadata": {},
   "outputs": [],
   "source": [
    "# feat_cnt = len(best_features)+calendar.shape[1] #X_train.shape[1]\n",
    "def get_model(feat_cnt):\n",
    "    model = nn.Sequential(\n",
    "        nn.Linear(feat_cnt, 1),\n",
    "        # nn.ReLU(),\n",
    "        # nn.Linear(10, 1),\n",
    "        # nn.ReLU(),\n",
    "        # nn.Linear(24, 6),\n",
    "        # nn.ReLU(),\n",
    "        # nn.Linear(6, 1),\n",
    "    )\n",
    "    return model\n",
    "# feat_cnt"
   ]
  },
  {
   "cell_type": "markdown",
   "metadata": {},
   "source": [
    "trainer"
   ]
  },
  {
   "cell_type": "code",
   "execution_count": 49,
   "metadata": {},
   "outputs": [],
   "source": [
    "epochs = 400  # number of epochs to run\n",
    "batchSize = 20  # size of each batch\n",
    "\n",
    "class Trainer:\n",
    "    def __init__(self, dataset_name, lossFunction, model, X_train, X_test, y_train, y_test) -> None:\n",
    "        self.dataset_name = dataset_name\n",
    "        self.lossFunction= lossFunction\n",
    "        self.model = model\n",
    "        self.optimizer = optim.Adam(self.model.parameters(), lr=0.001)\n",
    "\n",
    "        self.dfX_train = X_train\n",
    "        self.dfX_test = X_test\n",
    "        self.dfy_train = y_train\n",
    "        self.dfy_test = y_test\n",
    "\n",
    "        self.X_train = torch.tensor(X_train.values, dtype=torch.float32)\n",
    "        self.y_train = torch.tensor(y_train.values, dtype=torch.float32).reshape(-1, 1)\n",
    "        self.X_test = torch.tensor(X_test.values, dtype=torch.float32)\n",
    "        self.y_test = torch.tensor(y_test.values, dtype=torch.float32).reshape(-1, 1)\n",
    "\n",
    "        self.best_mse = np.inf  # init to infinity\n",
    "        self.best_weights = None\n",
    "        self.history = []\n",
    "        self.train_history = []\n",
    "        self.size = X_train.shape[0]#TODO X?\n",
    "        self.best_weights=None\n",
    "        \n",
    "    def train_one_epoch(self):\n",
    "        self.model.train()\n",
    "\n",
    "        index = 0\n",
    "\n",
    "        while index * batchSize <= self.size:\n",
    "            # take a batch\n",
    "            X_batch = self.X_train[index: index + batchSize]\n",
    "            y_batch = self.y_train[index: index + batchSize]\n",
    "\n",
    "            # forward pass\n",
    "            y_pred = self.model(X_batch)\n",
    "\n",
    "            # print(y_pred)\n",
    "            loss = self.lossFunction(y_pred, y_batch)\n",
    "            # backward pass\n",
    "            self.optimizer.zero_grad()\n",
    "            loss.backward()\n",
    "            # update weights\n",
    "            self.optimizer.step()\n",
    "\n",
    "            index += batchSize\n",
    "\n",
    "        # evaluate accuracy at end of each epoch\n",
    "        self.model.eval()\n",
    "        train_pred = self.model(self.X_train)\n",
    "        train_mse = float(self.lossFunction(train_pred, self.y_train))\n",
    "        self.train_history.append(train_mse)\n",
    "        y_pred = self.model(self.X_test)\n",
    "        test_mse = float(self.lossFunction(y_pred, self.y_test))\n",
    "        self.history.append(test_mse)\n",
    "        if test_mse < self.best_mse:\n",
    "            # print(f\"best mse is {mse} on epoch {epoch}\")\n",
    "            self.best_mse = test_mse\n",
    "            # save the best weights\n",
    "            self.best_weights = copy.deepcopy(self.model.state_dict())\n",
    "        return train_mse, test_mse\n",
    "    \n",
    "    def get_best_model(self):\n",
    "        self.model.load_state_dict(self.best_weights)#TODO bug?\n",
    "        return self.model"
   ]
  },
  {
   "cell_type": "code",
   "execution_count": 37,
   "metadata": {},
   "outputs": [],
   "source": [
    "def train(model, X_train, X_test, y_train, y_test):\n",
    "    lossFunction = nn.MSELoss()  # mean square error\n",
    "    optimizer = optim.Adam(model.parameters(), lr=0.001)\n",
    "\n",
    "\n",
    "    X_train = torch.tensor(X_train.values, dtype=torch.float32)\n",
    "    y_train = torch.tensor(y_train.values, dtype=torch.float32).reshape(-1, 1)\n",
    "    X_test = torch.tensor(X_test.values, dtype=torch.float32)\n",
    "    y_test = torch.tensor(y_test.values, dtype=torch.float32).reshape(-1, 1)\n",
    "\n",
    "    # Hold the best model\n",
    "    \n",
    "    # my redone training loop\n",
    "    for epoch in range(epochs):\n",
    "        model.train()\n",
    "\n",
    "        index = 0\n",
    "\n",
    "        while index * batchSize <= size:\n",
    "            # take a batch\n",
    "            X_batch = X_train[index: index + batchSize]\n",
    "            y_batch = y_train[index: index + batchSize]\n",
    "\n",
    "            # forward pass\n",
    "            y_pred = model(X_batch)\n",
    "\n",
    "            # print(y_pred)\n",
    "            loss = lossFunction(y_pred, y_batch)\n",
    "            # backward pass\n",
    "            optimizer.zero_grad()\n",
    "            loss.backward()\n",
    "            # update weights\n",
    "            optimizer.step()\n",
    "\n",
    "            index += batchSize\n",
    "\n",
    "        # evaluate accuracy at end of each epoch\n",
    "        model.eval()\n",
    "        train_pred = model(X_train)\n",
    "        train_history.append(float(lossFunction(train_pred, y_train)))\n",
    "        y_pred = model(X_test)\n",
    "        mse = lossFunction(y_pred, y_test)\n",
    "        mse = float(mse)\n",
    "        history.append(mse)\n",
    "        if mse < best_mse:\n",
    "            # print(f\"best mse is {mse} on epoch {epoch}\")\n",
    "            best_mse = mse\n",
    "\n",
    "            # save the best weights\n",
    "            best_weights = copy.deepcopy(model.state_dict())\n",
    "\n",
    "    # restore model and return best accuracy\n",
    "    model.load_state_dict(best_weights)\n",
    "    return train_history, history"
   ]
  },
  {
   "cell_type": "code",
   "execution_count": 38,
   "metadata": {},
   "outputs": [],
   "source": [
    "# plt.plot(history)\n",
    "# plt.title(\"test MSE evolution by Epoch\")\n",
    "# plt.xlabel(\"MSE\")\n",
    "# plt.ylabel(\"Epoch\")"
   ]
  },
  {
   "cell_type": "markdown",
   "metadata": {},
   "source": [
    "Torch plots"
   ]
  },
  {
   "cell_type": "code",
   "execution_count": 39,
   "metadata": {},
   "outputs": [],
   "source": [
    "# fig = go.Figure()\n",
    "# fig.update_layout(title_text=f\"NNet & tsfresh. MAE={MAE(dfy_test, dfy_pred):.4f}\")\n",
    "# fig.add_trace(go.Scatter(x=dfy_train.index, y=dfy_train, name=\"Train\"))\n",
    "# fig.add_trace(go.Scatter(x=dfy_test.index, y=dfy_test, name=\"Test\"))\n",
    "# fig.add_trace(go.Scatter(x=dfy_pred.index, y=dfy_pred, name=\"Predicted\"))"
   ]
  },
  {
   "cell_type": "markdown",
   "metadata": {},
   "source": [
    "### FL"
   ]
  },
  {
   "cell_type": "code",
   "execution_count": 40,
   "metadata": {},
   "outputs": [],
   "source": [
    "def avg_models(models):\n",
    "    feat_cnt= dict(models[0][0].named_parameters())['weight'].data.shape[1]\n",
    "    models_params = [dict(m.named_parameters()) for m in models]\n",
    "    res = get_model(feat_cnt)\n",
    "\n",
    "    res_params = dict(res.named_parameters())\n",
    "    for name1, param1 in res.named_parameters():\n",
    "        arrays = [param_dict[name1].detach().numpy() for param_dict in models_params]\n",
    "        res_params[name1].data.copy_(torch.from_numpy(np.mean(arrays, axis=0)))\n",
    "\n",
    "    res = get_model(feat_cnt)\n",
    "    res.load_state_dict(res_params)\n",
    "    return res"
   ]
  },
  {
   "cell_type": "markdown",
   "metadata": {},
   "source": [
    "parallel training"
   ]
  },
  {
   "cell_type": "code",
   "execution_count": 52,
   "metadata": {},
   "outputs": [
    {
     "name": "stderr",
     "output_type": "stream",
     "text": [
      "Rolling: 100%|██████████| 20/20 [00:01<00:00, 17.99it/s]\n",
      "Feature Extraction: 100%|██████████| 20/20 [00:00<00:00, 36.75it/s]\n",
      "Rolling: 100%|██████████| 20/20 [00:00<00:00, 33.54it/s]\n",
      "Feature Extraction: 100%|██████████| 20/20 [00:00<00:00, 71.46it/s]\n",
      "Rolling: 100%|██████████| 20/20 [00:00<00:00, 43.58it/s]\n",
      "Feature Extraction: 100%|██████████| 20/20 [00:00<00:00, 66.13it/s]\n",
      "Rolling: 100%|██████████| 20/20 [00:00<00:00, 40.91it/s]\n",
      "Feature Extraction: 100%|██████████| 20/20 [00:00<00:00, 67.39it/s]\n",
      "Rolling: 100%|██████████| 20/20 [00:00<00:00, 22.96it/s]\n",
      "Feature Extraction: 100%|██████████| 20/20 [00:00<00:00, 70.13it/s]\n"
     ]
    }
   ],
   "source": [
    "trainers = []\n",
    "for ts in tss:\n",
    "    X_train, X_test, y_train, y_test = extractor_ts(\n",
    "        ts, best_features=best_features)\n",
    "    X_train = X_train.merge(calendar, left_index=True, right_index=True)\n",
    "    X_test = X_test.merge(calendar, left_index=True, right_index=True)\n",
    "\n",
    "    model = get_model(X_train.shape[1])\n",
    "    trainers.append(Trainer(ts.name,\n",
    "                            nn.MSELoss(),\n",
    "                            model,\n",
    "                            X_train, X_test, y_train, y_test))\n",
    "\n",
    "metrics = {}\n",
    "for stage in ['local','avg']:  # ['train', 'test']:\n",
    "    for name in [t.dataset_name for t in trainers]:\n",
    "        metrics[(stage, name)] = []\n",
    "\n",
    "for ep in range(epochs):\n",
    "    for t in trainers:\n",
    "        t: Trainer\n",
    "        train_metric, test_metric = t.train_one_epoch()\n",
    "        # metrics[('train', t.dataset_name)].append(train_metric)\n",
    "        metrics[('local', t.dataset_name)].append(test_metric)\n",
    "\n",
    "    avg_model = avg_models([t.model for t in trainers])\n",
    "    for t in trainers:\n",
    "        avg_out = avg_model(torch.tensor(t.X_test.data.numpy(), dtype=torch.float32) )\n",
    "        avg_out = avg_out.detach().numpy().reshape(-1)\n",
    "        dfy_pred = pd.Series(avg_out, index=t.dfX_test.index)\n",
    "        test_metric = MAE(t.dfy_test, dfy_pred)\n",
    "        metrics[('avg', t.dataset_name)].append(test_metric)\n",
    "\n",
    "    # training_result.loc[ts.name, 'aggr'] = np.round(mae, 2)"
   ]
  },
  {
   "cell_type": "code",
   "execution_count": 61,
   "metadata": {},
   "outputs": [
    {
     "data": {
      "application/vnd.plotly.v1+json": {
       "config": {
        "plotlyServerURL": "https://plot.ly"
       },
       "data": [
        {
         "line": {
          "dash": "dot"
         },
         "name": "local enugu_transactions",
         "type": "scatter",
         "x": [
          0,
          1,
          2,
          3,
          4,
          5,
          6,
          7,
          8,
          9,
          10,
          11,
          12,
          13,
          14,
          15,
          16,
          17,
          18,
          19,
          20,
          21,
          22,
          23,
          24,
          25,
          26,
          27,
          28,
          29,
          30,
          31,
          32,
          33,
          34,
          35,
          36,
          37,
          38,
          39,
          40,
          41,
          42,
          43,
          44,
          45,
          46,
          47,
          48,
          49,
          50,
          51,
          52,
          53,
          54,
          55,
          56,
          57,
          58,
          59,
          60,
          61,
          62,
          63,
          64,
          65,
          66,
          67,
          68,
          69,
          70,
          71,
          72,
          73,
          74,
          75,
          76,
          77,
          78,
          79,
          80,
          81,
          82,
          83,
          84,
          85,
          86,
          87,
          88,
          89,
          90,
          91,
          92,
          93,
          94,
          95,
          96,
          97,
          98,
          99,
          100,
          101,
          102,
          103,
          104,
          105,
          106,
          107,
          108,
          109,
          110,
          111,
          112,
          113,
          114,
          115,
          116,
          117,
          118,
          119,
          120,
          121,
          122,
          123,
          124,
          125,
          126,
          127,
          128,
          129,
          130,
          131,
          132,
          133,
          134,
          135,
          136,
          137,
          138,
          139,
          140,
          141,
          142,
          143,
          144,
          145,
          146,
          147,
          148,
          149,
          150,
          151,
          152,
          153,
          154,
          155,
          156,
          157,
          158,
          159,
          160,
          161,
          162,
          163,
          164,
          165,
          166,
          167,
          168,
          169,
          170,
          171,
          172,
          173,
          174,
          175,
          176,
          177,
          178,
          179,
          180,
          181,
          182,
          183,
          184,
          185,
          186,
          187,
          188,
          189,
          190,
          191,
          192,
          193,
          194,
          195,
          196,
          197,
          198,
          199,
          200,
          201,
          202,
          203,
          204,
          205,
          206,
          207,
          208,
          209,
          210,
          211,
          212,
          213,
          214,
          215,
          216,
          217,
          218,
          219,
          220,
          221,
          222,
          223,
          224,
          225,
          226,
          227,
          228,
          229,
          230,
          231,
          232,
          233,
          234,
          235,
          236,
          237,
          238,
          239,
          240,
          241,
          242,
          243,
          244,
          245,
          246,
          247,
          248,
          249,
          250,
          251,
          252,
          253,
          254,
          255,
          256,
          257,
          258,
          259,
          260,
          261,
          262,
          263,
          264,
          265,
          266,
          267,
          268,
          269,
          270,
          271,
          272,
          273,
          274,
          275,
          276,
          277,
          278,
          279,
          280,
          281,
          282,
          283,
          284,
          285,
          286,
          287,
          288,
          289,
          290,
          291,
          292,
          293,
          294,
          295,
          296,
          297,
          298,
          299,
          300,
          301,
          302,
          303,
          304,
          305,
          306,
          307,
          308,
          309,
          310,
          311,
          312,
          313,
          314,
          315,
          316,
          317,
          318,
          319,
          320,
          321,
          322,
          323,
          324,
          325,
          326,
          327,
          328,
          329,
          330,
          331,
          332,
          333,
          334,
          335,
          336,
          337,
          338,
          339,
          340,
          341,
          342,
          343,
          344,
          345,
          346,
          347,
          348,
          349,
          350,
          351,
          352,
          353,
          354,
          355,
          356,
          357,
          358,
          359,
          360,
          361,
          362,
          363,
          364,
          365,
          366,
          367,
          368,
          369,
          370,
          371,
          372,
          373,
          374,
          375,
          376,
          377,
          378,
          379,
          380,
          381,
          382,
          383,
          384,
          385,
          386,
          387,
          388,
          389,
          390,
          391,
          392,
          393,
          394,
          395,
          396,
          397,
          398,
          399
         ],
         "y": [
          29.213184356689453,
          28.874292373657227,
          28.537569046020508,
          28.203035354614258,
          27.870744705200195,
          27.54071807861328,
          27.212997436523438,
          26.88760757446289,
          26.5645751953125,
          26.24394989013672,
          25.925731658935547,
          25.609962463378906,
          25.29665756225586,
          24.985849380493164,
          24.677553176879883,
          24.371782302856445,
          24.068571090698242,
          23.767921447753906,
          23.469850540161133,
          23.174375534057617,
          22.881502151489258,
          22.591245651245117,
          22.30360984802246,
          22.01859474182129,
          21.73621940612793,
          21.456480026245117,
          21.179380416870117,
          20.90492057800293,
          20.63310432434082,
          20.36392593383789,
          20.097387313842773,
          19.833486557006836,
          19.572221755981445,
          19.313587188720703,
          19.05757713317871,
          18.804187774658203,
          18.553415298461914,
          18.305246353149414,
          18.059680938720703,
          17.816713333129883,
          17.57632827758789,
          17.33852195739746,
          17.103286743164062,
          16.870607376098633,
          16.640478134155273,
          16.412887573242188,
          16.18781852722168,
          15.965267181396484,
          15.745219230651855,
          15.52765941619873,
          15.31257438659668,
          15.099953651428223,
          14.88978099822998,
          14.682042121887207,
          14.476722717285156,
          14.273807525634766,
          14.073281288146973,
          13.87513256072998,
          13.679339408874512,
          13.48589038848877,
          13.294763565063477,
          13.10594654083252,
          12.919426918029785,
          12.735177040100098,
          12.553192138671875,
          12.373444557189941,
          12.195924758911133,
          12.020612716674805,
          11.847495079040527,
          11.676545143127441,
          11.507753372192383,
          11.34109878540039,
          11.176563262939453,
          11.01413631439209,
          10.853792190551758,
          10.695518493652344,
          10.539290428161621,
          10.38509750366211,
          10.232918739318848,
          10.08273983001709,
          9.934535026550293,
          9.78829574584961,
          9.644001007080078,
          9.501629829406738,
          9.361166000366211,
          9.222596168518066,
          9.085899353027344,
          8.951058387756348,
          8.818056106567383,
          8.686873435974121,
          8.557493209838867,
          8.429900169372559,
          8.304073333740234,
          8.180001258850098,
          8.057661056518555,
          7.937037944793701,
          7.818110942840576,
          7.700867652893066,
          7.585290908813477,
          7.4713592529296875,
          7.359060287475586,
          7.2483744621276855,
          7.139285087585449,
          7.031774520874023,
          6.925829887390137,
          6.821430206298828,
          6.71856164932251,
          6.617206573486328,
          6.517348289489746,
          6.418970584869385,
          6.32205867767334,
          6.226593017578125,
          6.132559776306152,
          6.039943218231201,
          5.948724746704102,
          5.858892440795898,
          5.770427703857422,
          5.683313846588135,
          5.597537994384766,
          5.513082504272461,
          5.429933547973633,
          5.348073959350586,
          5.267488479614258,
          5.1881632804870605,
          5.110082149505615,
          5.033230781555176,
          4.9575934410095215,
          4.8831562995910645,
          4.809902667999268,
          4.737819671630859,
          4.666892051696777,
          4.597106456756592,
          4.528445720672607,
          4.460897922515869,
          4.394448280334473,
          4.32908296585083,
          4.264787673950195,
          4.201546669006348,
          4.139349937438965,
          4.078181743621826,
          4.0180277824401855,
          3.958875894546509,
          3.9007115364074707,
          3.8435232639312744,
          3.7872960567474365,
          3.73201847076416,
          3.677675247192383,
          3.624255657196045,
          3.5717458724975586,
          3.5201339721679688,
          3.4694066047668457,
          3.4195525646209717,
          3.370558500289917,
          3.3224120140075684,
          3.275102138519287,
          3.2286159992218018,
          3.182943105697632,
          3.1380693912506104,
          3.093984603881836,
          3.05067777633667,
          3.008136034011841,
          2.966348886489868,
          2.9253053665161133,
          2.8849942684173584,
          2.8454036712646484,
          2.8065242767333984,
          2.768343687057495,
          2.7308523654937744,
          2.694040536880493,
          2.65789532661438,
          2.622408151626587,
          2.587569236755371,
          2.553367853164673,
          2.5197932720184326,
          2.4868364334106445,
          2.4544873237609863,
          2.422736167907715,
          2.3915741443634033,
          2.3609914779663086,
          2.3309781551361084,
          2.301525354385376,
          2.2726247310638428,
          2.2442665100097656,
          2.2164418697357178,
          2.1891424655914307,
          2.1623592376708984,
          2.1360836029052734,
          2.110306978225708,
          2.0850212574005127,
          2.060218334197998,
          2.0358896255493164,
          2.0120275020599365,
          1.9886243343353271,
          1.9656708240509033,
          1.9431610107421875,
          1.9210858345031738,
          1.8994393348693848,
          1.878212809562683,
          1.8573989868164062,
          1.8369911909103394,
          1.816982388496399,
          1.7973650693893433,
          1.778132438659668,
          1.7592779397964478,
          1.7407944202423096,
          1.7226753234863281,
          1.7049139738082886,
          1.687504529953003,
          1.6704400777816772,
          1.653714656829834,
          1.6373220682144165,
          1.62125563621521,
          1.6055102348327637,
          1.590079426765442,
          1.5749574899673462,
          1.5601387023925781,
          1.5456175804138184,
          1.531388759613037,
          1.5174460411071777,
          1.5037848949432373,
          1.4903993606567383,
          1.4772847890853882,
          1.4644358158111572,
          1.4518470764160156,
          1.4395136833190918,
          1.427431344985962,
          1.4155946969985962,
          1.4039993286132812,
          1.392640471458435,
          1.381512999534607,
          1.3706133365631104,
          1.3599364757537842,
          1.3494782447814941,
          1.339234471321106,
          1.3292007446289062,
          1.3193731307983398,
          1.3097472190856934,
          1.3003194332122803,
          1.2910853624343872,
          1.2820419073104858,
          1.273184895515442,
          1.2645102739334106,
          1.2560148239135742,
          1.247694492340088,
          1.2395464181900024,
          1.2315665483474731,
          1.2237516641616821,
          1.2160983085632324,
          1.2086037397384644,
          1.2012642621994019,
          1.1940765380859375,
          1.1870378255844116,
          1.180145263671875,
          1.1733955144882202,
          1.1667855978012085,
          1.1603126525878906,
          1.153974175453186,
          1.1477668285369873,
          1.141688346862793,
          1.135736107826233,
          1.1299073696136475,
          1.124199390411377,
          1.1186096668243408,
          1.1131361722946167,
          1.1077758073806763,
          1.1025266647338867,
          1.097386360168457,
          1.0923525094985962,
          1.0874228477478027,
          1.0825954675674438,
          1.077867865562439,
          1.0732380151748657,
          1.0687040090560913,
          1.0642634630203247,
          1.0599147081375122,
          1.055655598640442,
          1.0514847040176392,
          1.047399640083313,
          1.0433987379074097,
          1.039480209350586,
          1.035642147064209,
          1.0318833589553833,
          1.0282014608383179,
          1.0245951414108276,
          1.021062970161438,
          1.017602801322937,
          1.0142136812210083,
          1.010893702507019,
          1.0076416730880737,
          1.004455804824829,
          1.0013350248336792,
          0.9982779026031494,
          0.9952826499938965,
          0.9923482537269592,
          0.9894734025001526,
          0.986656904220581,
          0.9838971495628357,
          0.9811932444572449,
          0.9785439372062683,
          0.975947916507721,
          0.9734042286872864,
          0.9709115028381348,
          0.9684688448905945,
          0.9660750031471252,
          0.9637291431427002,
          0.9614301323890686,
          0.9591766595840454,
          0.9569682478904724,
          0.9548035860061646,
          0.9526819586753845,
          0.9506020545959473,
          0.9485635161399841,
          0.9465651512145996,
          0.9446059465408325,
          0.9426852464675903,
          0.9408023357391357,
          0.9389561414718628,
          0.937146008014679,
          0.9353712797164917,
          0.9336308240890503,
          0.9319244027137756,
          0.9302510023117065,
          0.9286097884178162,
          0.9270003437995911,
          0.925421953201294,
          0.923873782157898,
          0.9223552346229553,
          0.9208657145500183,
          0.9194046258926392,
          0.9179713129997253,
          0.9165653586387634,
          0.9151859879493713,
          0.9138324856758118,
          0.9125046730041504,
          0.9112018942832947,
          0.9099234342575073,
          0.9086689352989197,
          0.9074378609657288,
          0.9062297344207764,
          0.9050440788269043,
          0.9038803577423096,
          0.9027381539344788,
          0.9016170501708984,
          0.9005165696144104,
          0.8994361758232117,
          0.8983756899833679,
          0.8973345160484314,
          0.8963122367858887,
          0.8953086137771606,
          0.8943229913711548,
          0.8933552503585815,
          0.8924050331115723,
          0.8914718627929688,
          0.8905553221702576,
          0.8896552920341492,
          0.888771116733551,
          0.8879027962684631,
          0.8870497941970825,
          0.8862118124961853,
          0.8853888511657715,
          0.884580135345459,
          0.8837857246398926,
          0.8830051422119141,
          0.8822381496429443,
          0.8814845085144043,
          0.8807438015937805,
          0.880016028881073,
          0.8793008327484131,
          0.8785980343818665,
          0.8779071569442749,
          0.8772282004356384,
          0.876560628414154,
          0.8759045600891113,
          0.8752596378326416,
          0.8746256232261658,
          0.8740021586418152,
          0.8733893036842346,
          0.8727866411209106,
          0.872194230556488,
          0.8716115355491638,
          0.8710387349128723,
          0.8704753518104553,
          0.8699212074279785,
          0.8693763017654419,
          0.8688404560089111,
          0.8683132529258728,
          0.8677948117256165,
          0.8672847151756287,
          0.8667830228805542,
          0.8662895560264587,
          0.8658039569854736,
          0.8653262853622437,
          0.8648563027381897,
          0.8643938899040222,
          0.8639388084411621,
          0.8634911179542542,
          0.8630506992340088,
          0.8626171350479126,
          0.8621905446052551,
          0.8617706298828125
         ]
        },
        {
         "line": {
          "dash": "dot"
         },
         "name": "local fct_transactions",
         "type": "scatter",
         "x": [
          0,
          1,
          2,
          3,
          4,
          5,
          6,
          7,
          8,
          9,
          10,
          11,
          12,
          13,
          14,
          15,
          16,
          17,
          18,
          19,
          20,
          21,
          22,
          23,
          24,
          25,
          26,
          27,
          28,
          29,
          30,
          31,
          32,
          33,
          34,
          35,
          36,
          37,
          38,
          39,
          40,
          41,
          42,
          43,
          44,
          45,
          46,
          47,
          48,
          49,
          50,
          51,
          52,
          53,
          54,
          55,
          56,
          57,
          58,
          59,
          60,
          61,
          62,
          63,
          64,
          65,
          66,
          67,
          68,
          69,
          70,
          71,
          72,
          73,
          74,
          75,
          76,
          77,
          78,
          79,
          80,
          81,
          82,
          83,
          84,
          85,
          86,
          87,
          88,
          89,
          90,
          91,
          92,
          93,
          94,
          95,
          96,
          97,
          98,
          99,
          100,
          101,
          102,
          103,
          104,
          105,
          106,
          107,
          108,
          109,
          110,
          111,
          112,
          113,
          114,
          115,
          116,
          117,
          118,
          119,
          120,
          121,
          122,
          123,
          124,
          125,
          126,
          127,
          128,
          129,
          130,
          131,
          132,
          133,
          134,
          135,
          136,
          137,
          138,
          139,
          140,
          141,
          142,
          143,
          144,
          145,
          146,
          147,
          148,
          149,
          150,
          151,
          152,
          153,
          154,
          155,
          156,
          157,
          158,
          159,
          160,
          161,
          162,
          163,
          164,
          165,
          166,
          167,
          168,
          169,
          170,
          171,
          172,
          173,
          174,
          175,
          176,
          177,
          178,
          179,
          180,
          181,
          182,
          183,
          184,
          185,
          186,
          187,
          188,
          189,
          190,
          191,
          192,
          193,
          194,
          195,
          196,
          197,
          198,
          199,
          200,
          201,
          202,
          203,
          204,
          205,
          206,
          207,
          208,
          209,
          210,
          211,
          212,
          213,
          214,
          215,
          216,
          217,
          218,
          219,
          220,
          221,
          222,
          223,
          224,
          225,
          226,
          227,
          228,
          229,
          230,
          231,
          232,
          233,
          234,
          235,
          236,
          237,
          238,
          239,
          240,
          241,
          242,
          243,
          244,
          245,
          246,
          247,
          248,
          249,
          250,
          251,
          252,
          253,
          254,
          255,
          256,
          257,
          258,
          259,
          260,
          261,
          262,
          263,
          264,
          265,
          266,
          267,
          268,
          269,
          270,
          271,
          272,
          273,
          274,
          275,
          276,
          277,
          278,
          279,
          280,
          281,
          282,
          283,
          284,
          285,
          286,
          287,
          288,
          289,
          290,
          291,
          292,
          293,
          294,
          295,
          296,
          297,
          298,
          299,
          300,
          301,
          302,
          303,
          304,
          305,
          306,
          307,
          308,
          309,
          310,
          311,
          312,
          313,
          314,
          315,
          316,
          317,
          318,
          319,
          320,
          321,
          322,
          323,
          324,
          325,
          326,
          327,
          328,
          329,
          330,
          331,
          332,
          333,
          334,
          335,
          336,
          337,
          338,
          339,
          340,
          341,
          342,
          343,
          344,
          345,
          346,
          347,
          348,
          349,
          350,
          351,
          352,
          353,
          354,
          355,
          356,
          357,
          358,
          359,
          360,
          361,
          362,
          363,
          364,
          365,
          366,
          367,
          368,
          369,
          370,
          371,
          372,
          373,
          374,
          375,
          376,
          377,
          378,
          379,
          380,
          381,
          382,
          383,
          384,
          385,
          386,
          387,
          388,
          389,
          390,
          391,
          392,
          393,
          394,
          395,
          396,
          397,
          398,
          399
         ],
         "y": [
          12.854097366333008,
          12.63150691986084,
          12.411161422729492,
          12.193097114562988,
          11.977343559265137,
          11.763936042785645,
          11.552901268005371,
          11.344268798828125,
          11.1380615234375,
          10.934307098388672,
          10.733031272888184,
          10.534249305725098,
          10.33798599243164,
          10.144254684448242,
          9.953075408935547,
          9.764458656311035,
          9.57841682434082,
          9.394964218139648,
          9.214106559753418,
          9.035847663879395,
          8.860199928283691,
          8.687159538269043,
          8.516732215881348,
          8.34891414642334,
          8.18370532989502,
          8.021101951599121,
          7.8610968589782715,
          7.703686714172363,
          7.548861980438232,
          7.396612644195557,
          7.2469258308410645,
          7.099794387817383,
          6.9552001953125,
          6.81312894821167,
          6.673566818237305,
          6.536495208740234,
          6.401897430419922,
          6.269754409790039,
          6.140047073364258,
          6.012753009796143,
          5.887853145599365,
          5.765322685241699,
          5.645142555236816,
          5.527286529541016,
          5.411732196807861,
          5.298455715179443,
          5.187429428100586,
          5.078630447387695,
          4.972031116485596,
          4.867609024047852,
          4.765334129333496,
          4.665180206298828,
          4.567122459411621,
          4.471131324768066,
          4.377180099487305,
          4.285241603851318,
          4.195288181304932,
          4.107292652130127,
          4.0212249755859375,
          3.9370596408843994,
          3.854767322540283,
          3.7743208408355713,
          3.695692300796509,
          3.6188535690307617,
          3.543776273727417,
          3.470433473587036,
          3.3987975120544434,
          3.328840494155884,
          3.2605345249176025,
          3.193852663040161,
          3.128767728805542,
          3.0652523040771484,
          3.0032801628112793,
          2.942823648452759,
          2.883857250213623,
          2.8263537883758545,
          2.7702865600585938,
          2.7156307697296143,
          2.662360191345215,
          2.6104490756988525,
          2.5598714351654053,
          2.510603189468384,
          2.4626193046569824,
          2.4158945083618164,
          2.3704049587249756,
          2.3261260986328125,
          2.283033847808838,
          2.2411043643951416,
          2.200315237045288,
          2.160642623901367,
          2.122063398361206,
          2.084554672241211,
          2.0480945110321045,
          2.012660264968872,
          1.9782304763793945,
          1.9447838068008423,
          1.9122978448867798,
          1.8807519674301147,
          1.850125789642334,
          1.8203980922698975,
          1.7915494441986084,
          1.7635587453842163,
          1.7364071607589722,
          1.710074543952942,
          1.6845420598983765,
          1.6597906351089478,
          1.6358017921447754,
          1.612557053565979,
          1.5900381803512573,
          1.5682278871536255,
          1.5471078157424927,
          1.5266613960266113,
          1.5068713426589966,
          1.4877206087112427,
          1.4691935777664185,
          1.4512733221054077,
          1.433944582939148,
          1.4171911478042603,
          1.4009981155395508,
          1.385350227355957,
          1.3702329397201538,
          1.3556312322616577,
          1.3415312767028809,
          1.3279190063476562,
          1.3147804737091064,
          1.3021024465560913,
          1.2898718118667603,
          1.2780755758285522,
          1.2667008638381958,
          1.2557356357574463,
          1.24516761302948,
          1.2349847555160522,
          1.2251756191253662,
          1.2157288789749146,
          1.2066330909729004,
          1.1978777647018433,
          1.189452052116394,
          1.1813453435897827,
          1.1735479831695557,
          1.1660497188568115,
          1.1588408946990967,
          1.1519122123718262,
          1.1452542543411255,
          1.1388581991195679,
          1.132715106010437,
          1.1268166303634644,
          1.1211543083190918,
          1.1157200336456299,
          1.1105058193206787,
          1.1055041551589966,
          1.1007075309753418,
          1.0961085557937622,
          1.0916998386383057,
          1.087475299835205,
          1.0834273099899292,
          1.07955002784729,
          1.0758368968963623,
          1.0722817182540894,
          1.068878412246704,
          1.0656216144561768,
          1.0625051259994507,
          1.0595239400863647,
          1.0566725730895996,
          1.0539460182189941,
          1.0513392686843872,
          1.0488474369049072,
          1.0464659929275513,
          1.0441904067993164,
          1.0420162677764893,
          1.039939284324646,
          1.037955403327942,
          1.0360609292984009,
          1.0342515707015991,
          1.0325242280960083,
          1.0308748483657837,
          1.0293002128601074,
          1.0277971029281616,
          1.0263622999191284,
          1.02499258518219,
          1.0236849784851074,
          1.0224367380142212,
          1.0212451219558716,
          1.0201075077056885,
          1.0190210342407227,
          1.0179836750030518,
          1.0169929265975952,
          1.016046404838562,
          1.0151419639587402,
          1.0142775774002075,
          1.013451337814331,
          1.0126609802246094,
          1.0119050741195679,
          1.0111814737319946,
          1.010488748550415,
          1.0098252296447754,
          1.009189248085022,
          1.0085793733596802,
          1.007994294166565,
          1.007432460784912,
          1.0068926811218262,
          1.006373643875122,
          1.0058742761611938,
          1.0053932666778564,
          1.0049299001693726,
          1.004482626914978,
          1.0040509700775146,
          1.003633737564087,
          1.0032299757003784,
          1.0028390884399414,
          1.0024601221084595,
          1.0020924806594849,
          1.0017350912094116,
          1.001387596130371,
          1.0010491609573364,
          1.0007195472717285,
          1.0003976821899414,
          1.000083327293396,
          0.9997758269309998,
          0.999474823474884,
          0.9991798400878906,
          0.9988904595375061,
          0.9986062049865723,
          0.9983267784118652,
          0.9980517625808716,
          0.9977807402610779,
          0.9975138306617737,
          0.9972502589225769,
          0.9969899654388428,
          0.9967326521873474,
          0.9964780211448669,
          0.9962261319160461,
          0.9959765672683716,
          0.9957290887832642,
          0.9954837560653687,
          0.995240330696106,
          0.9949984550476074,
          0.9947581887245178,
          0.9945196509361267,
          0.9942823052406311,
          0.9940463304519653,
          0.9938115477561951,
          0.9935778975486755,
          0.9933453798294067,
          0.9931139945983887,
          0.9928834438323975,
          0.9926539063453674,
          0.9924252033233643,
          0.9921973943710327,
          0.9919704794883728,
          0.9917445778846741,
          0.9915192723274231,
          0.9912949204444885,
          0.991071343421936,
          0.9908486604690552,
          0.9906269311904907,
          0.9904060363769531,
          0.9901859760284424,
          0.9899669289588928,
          0.9897487163543701,
          0.9895314574241638,
          0.9893153309822083,
          0.9891000390052795,
          0.9888858795166016,
          0.9886729121208191,
          0.9884609580039978,
          0.9882502555847168,
          0.988040566444397,
          0.987832248210907,
          0.987625241279602,
          0.9874195456504822,
          0.9872152805328369,
          0.9870123267173767,
          0.9868107438087463,
          0.9866107702255249,
          0.9864123463630676,
          0.986215353012085,
          0.9860202074050903,
          0.9858265519142151,
          0.9856346249580383,
          0.9854445457458496,
          0.9852561354637146,
          0.9850696921348572,
          0.984885036945343,
          0.9847023487091064,
          0.9845215678215027,
          0.9843428134918213,
          0.9841660261154175,
          0.9839913249015808,
          0.9838188290596008,
          0.9836483597755432,
          0.9834800958633423,
          0.9833140969276428,
          0.9831502437591553,
          0.982988715171814,
          0.9828295111656189,
          0.9826727509498596,
          0.9825180768966675,
          0.9823660254478455,
          0.9822162985801697,
          0.9820690155029297,
          0.981924295425415,
          0.9817820191383362,
          0.9816421866416931,
          0.9815049767494202,
          0.9813703894615173,
          0.9812382459640503,
          0.9811088442802429,
          0.9809819459915161,
          0.9808577299118042,
          0.9807361960411072,
          0.9806172251701355,
          0.980501115322113,
          0.9803875088691711,
          0.9802767634391785,
          0.9801686406135559,
          0.9800633192062378,
          0.9799608588218689,
          0.9798610210418701,
          0.9797638654708862,
          0.9796695113182068,
          0.9795780181884766,
          0.9794891476631165,
          0.9794031977653503,
          0.9793200492858887,
          0.9792395830154419,
          0.9791618585586548,
          0.9790871143341064,
          0.979015052318573,
          0.9789458513259888,
          0.9788793921470642,
          0.9788156151771545,
          0.9787546992301941,
          0.9786965847015381,
          0.9786412715911865,
          0.9785887598991394,
          0.9785389304161072,
          0.978492021560669,
          0.9784477353096008,
          0.9784062504768372,
          0.9783676862716675,
          0.9783315062522888,
          0.9782984256744385,
          0.9782679080963135,
          0.9782399535179138,
          0.9782149791717529,
          0.9781926274299622,
          0.9781728386878967,
          0.978155791759491,
          0.9781414270401001,
          0.9781296849250793,
          0.9781206846237183,
          0.9781142473220825,
          0.9781104326248169,
          0.9781093001365662,
          0.9781107306480408,
          0.978114664554596,
          0.978121280670166,
          0.9781303405761719,
          0.9781420826911926,
          0.9781562685966492,
          0.9781729578971863,
          0.978192150592804,
          0.978213906288147,
          0.9782379865646362,
          0.9782646894454956,
          0.9782937169075012,
          0.9783253073692322,
          0.9783592224121094,
          0.9783954620361328,
          0.9784340858459473,
          0.9784752130508423,
          0.978518545627594,
          0.9785643815994263,
          0.9786124229431152,
          0.9786626100540161,
          0.9787153601646423,
          0.9787701368331909,
          0.9788272976875305,
          0.9788867235183716,
          0.9789482355117798,
          0.9790119528770447,
          0.9790779948234558,
          0.9791461825370789,
          0.9792163968086243,
          0.9792888760566711,
          0.9793633222579956,
          0.979439914226532,
          0.9795187711715698,
          0.9795995354652405,
          0.9796822667121887,
          0.9797671437263489,
          0.9798540472984314,
          0.9799428582191467,
          0.9800338745117188,
          0.980126678943634,
          0.9802214503288269,
          0.9803181290626526,
          0.9804167747497559,
          0.9805173277854919,
          0.9806197881698608
         ]
        },
        {
         "line": {
          "dash": "dot"
         },
         "name": "local kano_transactions",
         "type": "scatter",
         "x": [
          0,
          1,
          2,
          3,
          4,
          5,
          6,
          7,
          8,
          9,
          10,
          11,
          12,
          13,
          14,
          15,
          16,
          17,
          18,
          19,
          20,
          21,
          22,
          23,
          24,
          25,
          26,
          27,
          28,
          29,
          30,
          31,
          32,
          33,
          34,
          35,
          36,
          37,
          38,
          39,
          40,
          41,
          42,
          43,
          44,
          45,
          46,
          47,
          48,
          49,
          50,
          51,
          52,
          53,
          54,
          55,
          56,
          57,
          58,
          59,
          60,
          61,
          62,
          63,
          64,
          65,
          66,
          67,
          68,
          69,
          70,
          71,
          72,
          73,
          74,
          75,
          76,
          77,
          78,
          79,
          80,
          81,
          82,
          83,
          84,
          85,
          86,
          87,
          88,
          89,
          90,
          91,
          92,
          93,
          94,
          95,
          96,
          97,
          98,
          99,
          100,
          101,
          102,
          103,
          104,
          105,
          106,
          107,
          108,
          109,
          110,
          111,
          112,
          113,
          114,
          115,
          116,
          117,
          118,
          119,
          120,
          121,
          122,
          123,
          124,
          125,
          126,
          127,
          128,
          129,
          130,
          131,
          132,
          133,
          134,
          135,
          136,
          137,
          138,
          139,
          140,
          141,
          142,
          143,
          144,
          145,
          146,
          147,
          148,
          149,
          150,
          151,
          152,
          153,
          154,
          155,
          156,
          157,
          158,
          159,
          160,
          161,
          162,
          163,
          164,
          165,
          166,
          167,
          168,
          169,
          170,
          171,
          172,
          173,
          174,
          175,
          176,
          177,
          178,
          179,
          180,
          181,
          182,
          183,
          184,
          185,
          186,
          187,
          188,
          189,
          190,
          191,
          192,
          193,
          194,
          195,
          196,
          197,
          198,
          199,
          200,
          201,
          202,
          203,
          204,
          205,
          206,
          207,
          208,
          209,
          210,
          211,
          212,
          213,
          214,
          215,
          216,
          217,
          218,
          219,
          220,
          221,
          222,
          223,
          224,
          225,
          226,
          227,
          228,
          229,
          230,
          231,
          232,
          233,
          234,
          235,
          236,
          237,
          238,
          239,
          240,
          241,
          242,
          243,
          244,
          245,
          246,
          247,
          248,
          249,
          250,
          251,
          252,
          253,
          254,
          255,
          256,
          257,
          258,
          259,
          260,
          261,
          262,
          263,
          264,
          265,
          266,
          267,
          268,
          269,
          270,
          271,
          272,
          273,
          274,
          275,
          276,
          277,
          278,
          279,
          280,
          281,
          282,
          283,
          284,
          285,
          286,
          287,
          288,
          289,
          290,
          291,
          292,
          293,
          294,
          295,
          296,
          297,
          298,
          299,
          300,
          301,
          302,
          303,
          304,
          305,
          306,
          307,
          308,
          309,
          310,
          311,
          312,
          313,
          314,
          315,
          316,
          317,
          318,
          319,
          320,
          321,
          322,
          323,
          324,
          325,
          326,
          327,
          328,
          329,
          330,
          331,
          332,
          333,
          334,
          335,
          336,
          337,
          338,
          339,
          340,
          341,
          342,
          343,
          344,
          345,
          346,
          347,
          348,
          349,
          350,
          351,
          352,
          353,
          354,
          355,
          356,
          357,
          358,
          359,
          360,
          361,
          362,
          363,
          364,
          365,
          366,
          367,
          368,
          369,
          370,
          371,
          372,
          373,
          374,
          375,
          376,
          377,
          378,
          379,
          380,
          381,
          382,
          383,
          384,
          385,
          386,
          387,
          388,
          389,
          390,
          391,
          392,
          393,
          394,
          395,
          396,
          397,
          398,
          399
         ],
         "y": [
          21.94446563720703,
          21.661083221435547,
          21.379716873168945,
          21.100404739379883,
          20.82318115234375,
          20.548078536987305,
          20.27512550354004,
          20.00436019897461,
          19.735803604125977,
          19.469491958618164,
          19.205448150634766,
          18.943695068359375,
          18.684268951416016,
          18.427183151245117,
          18.172456741333008,
          17.920114517211914,
          17.67017364501953,
          17.422649383544922,
          17.177560806274414,
          16.934917449951172,
          16.694734573364258,
          16.457019805908203,
          16.221782684326172,
          15.989030838012695,
          15.75877571105957,
          15.531012535095215,
          15.305753707885742,
          15.082995414733887,
          14.862743377685547,
          14.64499282836914,
          14.429741859436035,
          14.21699047088623,
          14.006735801696777,
          13.798967361450195,
          13.593683242797852,
          13.390875816345215,
          13.19054126739502,
          12.99266242980957,
          12.797234535217285,
          12.604247093200684,
          12.413691520690918,
          12.22555160522461,
          12.039817810058594,
          11.856473922729492,
          11.675507545471191,
          11.496905326843262,
          11.320653915405273,
          11.146735191345215,
          10.975138664245605,
          10.805843353271484,
          10.638834953308105,
          10.47409439086914,
          10.311609268188477,
          10.151358604431152,
          9.993324279785156,
          9.837493896484375,
          9.683842658996582,
          9.532357215881348,
          9.383017539978027,
          9.235801696777344,
          9.090697288513184,
          8.947681427001953,
          8.806736946105957,
          8.667840003967285,
          8.530978202819824,
          8.396126747131348,
          8.263270378112793,
          8.132386207580566,
          8.003458023071289,
          7.876462459564209,
          7.751382827758789,
          7.628202438354492,
          7.506896018981934,
          7.387446880340576,
          7.269833564758301,
          7.154037952423096,
          7.040040969848633,
          6.927820205688477,
          6.8173604011535645,
          6.7086405754089355,
          6.601638317108154,
          6.496338844299316,
          6.392719268798828,
          6.290761470794678,
          6.190445899963379,
          6.09175443649292,
          5.9946675300598145,
          5.899165630340576,
          5.805229663848877,
          5.712841033935547,
          5.621979713439941,
          5.53262996673584,
          5.4447712898254395,
          5.3583831787109375,
          5.2734503746032715,
          5.189951419830322,
          5.107872486114502,
          5.027190208435059,
          4.9478888511657715,
          4.869950294494629,
          4.7933573722839355,
          4.718090534210205,
          4.644134044647217,
          4.571467876434326,
          4.500076770782471,
          4.429942607879639,
          4.361047267913818,
          4.293375492095947,
          4.2269086837768555,
          4.161629676818848,
          4.097522735595703,
          4.034571647644043,
          3.9727582931518555,
          3.912066698074341,
          3.8524816036224365,
          3.793985605239868,
          3.736562967300415,
          3.6801977157592773,
          3.6248748302459717,
          3.5705783367156982,
          3.5172927379608154,
          3.4650022983551025,
          3.4136922359466553,
          3.3633477687835693,
          3.3139522075653076,
          3.2654922008514404,
          3.217953681945801,
          3.171320915222168,
          3.1255786418914795,
          3.080714702606201,
          3.0367140769958496,
          2.9935624599456787,
          2.951246500015259,
          2.9097533226013184,
          2.869067430496216,
          2.829176664352417,
          2.7900681495666504,
          2.7517282962799072,
          2.7141435146331787,
          2.677302122116089,
          2.641190767288208,
          2.605797052383423,
          2.571108102798462,
          2.5371127128601074,
          2.503798484802246,
          2.4711532592773438,
          2.4391651153564453,
          2.407822847366333,
          2.377114772796631,
          2.347029447555542,
          2.3175554275512695,
          2.288682460784912,
          2.260399103164673,
          2.232694387435913,
          2.2055583000183105,
          2.1789798736572266,
          2.152949094772339,
          2.127455472946167,
          2.1024889945983887,
          2.078040361404419,
          2.054098606109619,
          2.0306553840637207,
          2.007700204849243,
          1.9852246046066284,
          1.9632182121276855,
          1.9416735172271729,
          1.9205801486968994,
          1.8999300003051758,
          1.8797143697738647,
          1.8599241971969604,
          1.840551733970642,
          1.821588397026062,
          1.8030264377593994,
          1.7848572731018066,
          1.7670730352401733,
          1.749666452407837,
          1.7326300144195557,
          1.715955376625061,
          1.6996359825134277,
          1.683664083480835,
          1.6680330038070679,
          1.6527351140975952,
          1.6377639770507812,
          1.6231125593185425,
          1.6087745428085327,
          1.5947431325912476,
          1.5810118913650513,
          1.567574381828308,
          1.5544248819351196,
          1.5415565967559814,
          1.5289644002914429,
          1.5166419744491577,
          1.5045835971832275,
          1.492783546447754,
          1.481236219406128,
          1.469936490058899,
          1.4588783979415894,
          1.4480576515197754,
          1.4374680519104004,
          1.427105188369751,
          1.416964054107666,
          1.4070396423339844,
          1.3973273038864136,
          1.3878222703933716,
          1.378520131111145,
          1.3694162368774414,
          1.360506296157837,
          1.3517857789993286,
          1.3432508707046509,
          1.3348969221115112,
          1.3267204761505127,
          1.3187172412872314,
          1.3108831644058228,
          1.303214430809021,
          1.2957078218460083,
          1.28835928440094,
          1.2811652421951294,
          1.2741219997406006,
          1.2672264575958252,
          1.2604753971099854,
          1.253865122795105,
          1.2473928928375244,
          1.2410550117492676,
          1.2348486185073853,
          1.22877037525177,
          1.2228182554244995,
          1.216988444328308,
          1.2112786769866943,
          1.2056859731674194,
          1.2002073526382446,
          1.1948407888412476,
          1.1895830631256104,
          1.184432029724121,
          1.1793851852416992,
          1.1744400262832642,
          1.1695942878723145,
          1.164845585823059,
          1.1601916551589966,
          1.155630350112915,
          1.151159405708313,
          1.1467769145965576,
          1.1424803733825684,
          1.1382681131362915,
          1.1341383457183838,
          1.1300885677337646,
          1.1261175870895386,
          1.1222230195999146,
          1.1184035539627075,
          1.114656925201416,
          1.1109817028045654,
          1.1073760986328125,
          1.103838562965393,
          1.100367546081543,
          1.096961259841919,
          1.093618631362915,
          1.0903376340866089,
          1.0871171951293945,
          1.0839556455612183,
          1.0808517932891846,
          1.0778042078018188,
          1.074811577796936,
          1.0718724727630615,
          1.0689860582351685,
          1.066150426864624,
          1.06336510181427,
          1.0606285333633423,
          1.0579396486282349,
          1.0552971363067627,
          1.0527000427246094,
          1.0501474142074585,
          1.047638177871704,
          1.0451710224151611,
          1.0427454710006714,
          1.0403602123260498,
          1.03801429271698,
          1.035706877708435,
          1.0334370136260986,
          1.031204104423523,
          1.029006838798523,
          1.0268446207046509,
          1.0247167348861694,
          1.022621989250183,
          1.0205601453781128,
          1.018530011177063,
          1.0165311098098755,
          1.0145626068115234,
          1.0126237869262695,
          1.0107139348983765,
          1.008832573890686,
          1.0069787502288818,
          1.0051518678665161,
          1.0033518075942993,
          1.0015771389007568,
          0.9998278021812439,
          0.9981030821800232,
          0.9964026212692261,
          0.9947253465652466,
          0.9930711388587952,
          0.9914395213127136,
          0.9898297190666199,
          0.9882414937019348,
          0.9866740703582764,
          0.9851269125938416,
          0.9836001396179199,
          0.9820926189422607,
          0.9806041717529297,
          0.9791346192359924,
          0.9776831269264221,
          0.9762493371963501,
          0.974833071231842,
          0.9734339714050293,
          0.9720513820648193,
          0.9706848859786987,
          0.9693344831466675,
          0.9679995179176331,
          0.9666798710823059,
          0.9653748869895935,
          0.9640845656394958,
          0.96280837059021,
          0.9615460634231567,
          0.9602972865104675,
          0.9590617418289185,
          0.9578391909599304,
          0.95662921667099,
          0.9554316997528076,
          0.954246461391449,
          0.9530727863311768,
          0.9519108533859253,
          0.9507603645324707,
          0.94962078332901,
          0.948492169380188,
          0.9473741054534912,
          0.9462665319442749,
          0.9451690316200256,
          0.9440814852714539,
          0.9430035948753357,
          0.9419353008270264,
          0.940876305103302,
          0.9398264288902283,
          0.9387852549552917,
          0.9377530217170715,
          0.9367291927337646,
          0.9357137084007263,
          0.9347065091133118,
          0.9337073564529419,
          0.9327159523963928,
          0.931732177734375,
          0.9307559132575989,
          0.9297870397567749,
          0.9288253784179688,
          0.9278706908226013,
          0.9269230365753174,
          0.9259820580482483,
          0.9250476360321045,
          0.9241197109222412,
          0.9231982827186584,
          0.9222831130027771,
          0.9213737845420837,
          0.920470654964447,
          0.9195732474327087,
          0.9186817407608032,
          0.9177958369255066,
          0.9169154167175293,
          0.916040301322937,
          0.915170431137085,
          0.9143059253692627,
          0.9134465456008911,
          0.9125922918319702,
          0.911742627620697,
          0.9108979105949402,
          0.9100579619407654,
          0.9092225432395935,
          0.9083918333053589,
          0.9075655937194824,
          0.9067436456680298,
          0.905925989151001,
          0.9051125645637512,
          0.9043033123016357,
          0.903498113155365,
          0.9026969075202942,
          0.9018996953964233,
          0.9011062979698181,
          0.9003167152404785,
          0.899530827999115,
          0.8987486362457275,
          0.8979700803756714,
          0.8971949219703674,
          0.89642333984375,
          0.8956552147865295,
          0.894890546798706,
          0.8941290378570557,
          0.8933708071708679,
          0.892615795135498,
          0.891864001750946,
          0.8911152482032776,
          0.8903696537017822,
          0.8896270394325256,
          0.8888874053955078,
          0.8881505131721497,
          0.8874167203903198
         ]
        },
        {
         "line": {
          "dash": "dot"
         },
         "name": "local lagos_transactions",
         "type": "scatter",
         "x": [
          0,
          1,
          2,
          3,
          4,
          5,
          6,
          7,
          8,
          9,
          10,
          11,
          12,
          13,
          14,
          15,
          16,
          17,
          18,
          19,
          20,
          21,
          22,
          23,
          24,
          25,
          26,
          27,
          28,
          29,
          30,
          31,
          32,
          33,
          34,
          35,
          36,
          37,
          38,
          39,
          40,
          41,
          42,
          43,
          44,
          45,
          46,
          47,
          48,
          49,
          50,
          51,
          52,
          53,
          54,
          55,
          56,
          57,
          58,
          59,
          60,
          61,
          62,
          63,
          64,
          65,
          66,
          67,
          68,
          69,
          70,
          71,
          72,
          73,
          74,
          75,
          76,
          77,
          78,
          79,
          80,
          81,
          82,
          83,
          84,
          85,
          86,
          87,
          88,
          89,
          90,
          91,
          92,
          93,
          94,
          95,
          96,
          97,
          98,
          99,
          100,
          101,
          102,
          103,
          104,
          105,
          106,
          107,
          108,
          109,
          110,
          111,
          112,
          113,
          114,
          115,
          116,
          117,
          118,
          119,
          120,
          121,
          122,
          123,
          124,
          125,
          126,
          127,
          128,
          129,
          130,
          131,
          132,
          133,
          134,
          135,
          136,
          137,
          138,
          139,
          140,
          141,
          142,
          143,
          144,
          145,
          146,
          147,
          148,
          149,
          150,
          151,
          152,
          153,
          154,
          155,
          156,
          157,
          158,
          159,
          160,
          161,
          162,
          163,
          164,
          165,
          166,
          167,
          168,
          169,
          170,
          171,
          172,
          173,
          174,
          175,
          176,
          177,
          178,
          179,
          180,
          181,
          182,
          183,
          184,
          185,
          186,
          187,
          188,
          189,
          190,
          191,
          192,
          193,
          194,
          195,
          196,
          197,
          198,
          199,
          200,
          201,
          202,
          203,
          204,
          205,
          206,
          207,
          208,
          209,
          210,
          211,
          212,
          213,
          214,
          215,
          216,
          217,
          218,
          219,
          220,
          221,
          222,
          223,
          224,
          225,
          226,
          227,
          228,
          229,
          230,
          231,
          232,
          233,
          234,
          235,
          236,
          237,
          238,
          239,
          240,
          241,
          242,
          243,
          244,
          245,
          246,
          247,
          248,
          249,
          250,
          251,
          252,
          253,
          254,
          255,
          256,
          257,
          258,
          259,
          260,
          261,
          262,
          263,
          264,
          265,
          266,
          267,
          268,
          269,
          270,
          271,
          272,
          273,
          274,
          275,
          276,
          277,
          278,
          279,
          280,
          281,
          282,
          283,
          284,
          285,
          286,
          287,
          288,
          289,
          290,
          291,
          292,
          293,
          294,
          295,
          296,
          297,
          298,
          299,
          300,
          301,
          302,
          303,
          304,
          305,
          306,
          307,
          308,
          309,
          310,
          311,
          312,
          313,
          314,
          315,
          316,
          317,
          318,
          319,
          320,
          321,
          322,
          323,
          324,
          325,
          326,
          327,
          328,
          329,
          330,
          331,
          332,
          333,
          334,
          335,
          336,
          337,
          338,
          339,
          340,
          341,
          342,
          343,
          344,
          345,
          346,
          347,
          348,
          349,
          350,
          351,
          352,
          353,
          354,
          355,
          356,
          357,
          358,
          359,
          360,
          361,
          362,
          363,
          364,
          365,
          366,
          367,
          368,
          369,
          370,
          371,
          372,
          373,
          374,
          375,
          376,
          377,
          378,
          379,
          380,
          381,
          382,
          383,
          384,
          385,
          386,
          387,
          388,
          389,
          390,
          391,
          392,
          393,
          394,
          395,
          396,
          397,
          398,
          399
         ],
         "y": [
          22.71825408935547,
          22.422298431396484,
          22.128494262695312,
          21.836889266967773,
          21.547517776489258,
          21.260421752929688,
          20.975624084472656,
          20.693172454833984,
          20.41309928894043,
          20.135435104370117,
          19.860212326049805,
          19.58745574951172,
          19.317197799682617,
          19.049463272094727,
          18.78427505493164,
          18.52165412902832,
          18.261629104614258,
          18.00420570373535,
          17.749414443969727,
          17.49726104736328,
          17.247758865356445,
          17.000926971435547,
          16.75676727294922,
          16.51529312133789,
          16.276508331298828,
          16.040420532226562,
          15.807029724121094,
          15.576336860656738,
          15.348344802856445,
          15.123053550720215,
          14.900453567504883,
          14.680550575256348,
          14.46333122253418,
          14.24879264831543,
          14.036924362182617,
          13.827717781066895,
          13.621166229248047,
          13.417256355285645,
          13.215978622436523,
          13.017315864562988,
          12.821258544921875,
          12.627791404724121,
          12.43690013885498,
          12.248566627502441,
          12.062779426574707,
          11.879515647888184,
          11.69876480102539,
          11.520501136779785,
          11.344709396362305,
          11.17137622833252,
          11.000480651855469,
          10.83199691772461,
          10.665912628173828,
          10.502203941345215,
          10.34085464477539,
          10.18183708190918,
          10.025138854980469,
          9.870733261108398,
          9.718602180480957,
          9.568720817565918,
          9.42107105255127,
          9.275630950927734,
          9.132378578186035,
          8.991291046142578,
          8.852350234985352,
          8.715529441833496,
          8.580809593200684,
          8.44816780090332,
          8.317582130432129,
          8.189030647277832,
          8.062492370605469,
          7.937942028045654,
          7.815361499786377,
          7.6947245597839355,
          7.576013565063477,
          7.459203720092773,
          7.344274044036865,
          7.231201171875,
          7.119965553283691,
          7.0105438232421875,
          6.902913570404053,
          6.797054290771484,
          6.69294548034668,
          6.5905632972717285,
          6.489887714385986,
          6.390895843505859,
          6.293569564819336,
          6.197883129119873,
          6.103818893432617,
          6.011354923248291,
          5.920469284057617,
          5.831141948699951,
          5.74335241317749,
          5.657081127166748,
          5.572305202484131,
          5.4890055656433105,
          5.407163143157959,
          5.326755523681641,
          5.2477641105651855,
          5.170169830322266,
          5.09395170211792,
          5.01909065246582,
          4.945567607879639,
          4.873362064361572,
          4.802456378936768,
          4.732831001281738,
          4.664466381072998,
          4.597345352172852,
          4.5314483642578125,
          4.466756820678711,
          4.403253555297852,
          4.340919494628906,
          4.27973747253418,
          4.219689846038818,
          4.160757541656494,
          4.102925777435303,
          4.046173572540283,
          3.990488052368164,
          3.9358489513397217,
          3.88224196434021,
          3.829648733139038,
          3.7780535221099854,
          3.72744083404541,
          3.6777920722961426,
          3.629094362258911,
          3.5813305377960205,
          3.534485101699829,
          3.4885427951812744,
          3.443488836288452,
          3.3993074893951416,
          3.3559834957122803,
          3.3135037422180176,
          3.2718522548675537,
          3.231015920639038,
          3.19097900390625,
          3.1517293453216553,
          3.1132521629333496,
          3.0755341053009033,
          3.0385615825653076,
          3.0023210048675537,
          2.96679949760437,
          2.9319849014282227,
          2.8978633880615234,
          2.8644227981567383,
          2.831650733947754,
          2.799534797668457,
          2.7680630683898926,
          2.7372241020202637,
          2.707005739212036,
          2.677396059036255,
          2.6483840942382812,
          2.6199588775634766,
          2.592109203338623,
          2.564824104309082,
          2.538092613220215,
          2.5119049549102783,
          2.486250162124634,
          2.461117744445801,
          2.4364986419677734,
          2.4123823642730713,
          2.388758420944214,
          2.3656184673309326,
          2.342952251434326,
          2.320751428604126,
          2.2990055084228516,
          2.2777066230773926,
          2.256845474243164,
          2.2364137172698975,
          2.216402769088745,
          2.1968038082122803,
          2.1776092052459717,
          2.15881085395813,
          2.1404001712799072,
          2.1223697662353516,
          2.1047117710113525,
          2.0874195098876953,
          2.0704846382141113,
          2.0539002418518066,
          2.037659168243408,
          2.021754264831543,
          2.0061793327331543,
          1.990925908088684,
          1.9759894609451294,
          1.9613624811172485,
          1.9470387697219849,
          1.9330114126205444,
          1.9192754030227661,
          1.9058241844177246,
          1.8926516771316528,
          1.8797526359558105,
          1.8671208620071411,
          1.8547507524490356,
          1.8426369428634644,
          1.8307744264602661,
          1.8191581964492798,
          1.8077820539474487,
          1.7966418266296387,
          1.7857320308685303,
          1.7750482559204102,
          1.7645859718322754,
          1.7543396949768066,
          1.7443056106567383,
          1.7344787120819092,
          1.724854826927185,
          1.715429663658142,
          1.7061994075775146,
          1.6971595287322998,
          1.6883058547973633,
          1.679634928703308,
          1.671142578125,
          1.6628252267837524,
          1.6546785831451416,
          1.6467000246047974,
          1.638885259628296,
          1.6312309503555298,
          1.6237335205078125,
          1.6163901090621948,
          1.6091971397399902,
          1.60215163230896,
          1.595250129699707,
          1.5884896516799927,
          1.5818674564361572,
          1.5753800868988037,
          1.5690252780914307,
          1.5627999305725098,
          1.556701421737671,
          1.5507265329360962,
          1.5448732376098633,
          1.5391387939453125,
          1.5335206985473633,
          1.5280160903930664,
          1.5226234197616577,
          1.5173393487930298,
          1.512162208557129,
          1.5070892572402954,
          1.502118706703186,
          1.4972480535507202,
          1.4924752712249756,
          1.487798810005188,
          1.483215570449829,
          1.478724479675293,
          1.474323034286499,
          1.4700095653533936,
          1.4657822847366333,
          1.461639165878296,
          1.4575785398483276,
          1.4535984992980957,
          1.449697732925415,
          1.4458740949630737,
          1.4421261548995972,
          1.4384522438049316,
          1.434851050376892,
          1.4313207864761353,
          1.4278597831726074,
          1.4244669675827026,
          1.4211409091949463,
          1.4178797006607056,
          1.4146822690963745,
          1.411547303199768,
          1.4084733724594116,
          1.4054595232009888,
          1.4025039672851562,
          1.3996061086654663,
          1.396763801574707,
          1.3939770460128784,
          1.3912436962127686,
          1.3885630369186401,
          1.385933756828308,
          1.3833550214767456,
          1.3808257579803467,
          1.3783445358276367,
          1.3759106397628784,
          1.373523235321045,
          1.3711810111999512,
          1.3688830137252808,
          1.3666287660598755,
          1.3644169569015503,
          1.3622468709945679,
          1.3601171970367432,
          1.358027458190918,
          1.3559770584106445,
          1.3539648056030273,
          1.35198974609375,
          1.3500514030456543,
          1.3481489419937134,
          1.34628164768219,
          1.3444486856460571,
          1.3426493406295776,
          1.3408830165863037,
          1.3391488790512085,
          1.3374464511871338,
          1.3357747793197632,
          1.3341333866119385,
          1.3325220346450806,
          1.3309392929077148,
          1.3293848037719727,
          1.3278582096099854,
          1.3263589143753052,
          1.3248863220214844,
          1.3234397172927856,
          1.3220187425613403,
          1.3206228017807007,
          1.3192514181137085,
          1.3179038763046265,
          1.3165799379348755,
          1.3152791261672974,
          1.3140004873275757,
          1.312743902206421,
          1.3115090131759644,
          1.3102953433990479,
          1.3091024160385132,
          1.307929515838623,
          1.306776523590088,
          1.3056432008743286,
          1.3045287132263184,
          1.3034329414367676,
          1.3023552894592285,
          1.3012956380844116,
          1.3002533912658691,
          1.299228549003601,
          1.298220157623291,
          1.2972283363342285,
          1.296252727508545,
          1.2952927350997925,
          1.2943482398986816,
          1.2934188842773438,
          1.2925044298171997,
          1.2916045188903809,
          1.290718913078308,
          1.2898472547531128,
          1.2889891862869263,
          1.2881444692611694,
          1.287312626838684,
          1.2864938974380493,
          1.285688042640686,
          1.2848939895629883,
          1.284112572669983,
          1.2833425998687744,
          1.2825844287872314,
          1.2818377017974854,
          1.281101942062378,
          1.2803773880004883,
          1.2796635627746582,
          1.278960108757019,
          1.2782669067382812,
          1.2775840759277344,
          1.2769109010696411,
          1.2762476205825806,
          1.2755937576293945,
          1.274949550628662,
          1.2743141651153564,
          1.2736879587173462,
          1.2730704545974731,
          1.2724616527557373,
          1.2718615531921387,
          1.271269679069519,
          1.2706856727600098,
          1.2701102495193481,
          1.2695420980453491,
          1.268982172012329,
          1.2684297561645508,
          1.2678847312927246,
          1.2673470973968506,
          1.2668167352676392,
          1.2662931680679321,
          1.2657767534255981,
          1.2652671337127686,
          1.2647643089294434,
          1.2642678022384644,
          1.2637779712677002,
          1.2632943391799927,
          1.262817144393921,
          1.2623463869094849,
          1.2618813514709473,
          1.261422038078308,
          1.260968804359436,
          1.260521411895752,
          1.2600793838500977,
          1.2596430778503418,
          1.2592120170593262,
          1.258786916732788,
          1.2583667039871216,
          1.2579518556594849,
          1.2575418949127197,
          1.2571371793746948,
          1.2567373514175415,
          1.2563424110412598,
          1.2559523582458496,
          1.255567193031311,
          1.2551865577697754,
          1.2548104524612427,
          1.254439353942871,
          1.2540720701217651,
          1.2537099123001099,
          1.2533518075942993,
          1.2529977560043335,
          1.2526482343673706,
          1.2523030042648315,
          1.251961588859558,
          1.2516242265701294
         ]
        },
        {
         "line": {
          "dash": "dot"
         },
         "name": "local rivers_transactions",
         "type": "scatter",
         "x": [
          0,
          1,
          2,
          3,
          4,
          5,
          6,
          7,
          8,
          9,
          10,
          11,
          12,
          13,
          14,
          15,
          16,
          17,
          18,
          19,
          20,
          21,
          22,
          23,
          24,
          25,
          26,
          27,
          28,
          29,
          30,
          31,
          32,
          33,
          34,
          35,
          36,
          37,
          38,
          39,
          40,
          41,
          42,
          43,
          44,
          45,
          46,
          47,
          48,
          49,
          50,
          51,
          52,
          53,
          54,
          55,
          56,
          57,
          58,
          59,
          60,
          61,
          62,
          63,
          64,
          65,
          66,
          67,
          68,
          69,
          70,
          71,
          72,
          73,
          74,
          75,
          76,
          77,
          78,
          79,
          80,
          81,
          82,
          83,
          84,
          85,
          86,
          87,
          88,
          89,
          90,
          91,
          92,
          93,
          94,
          95,
          96,
          97,
          98,
          99,
          100,
          101,
          102,
          103,
          104,
          105,
          106,
          107,
          108,
          109,
          110,
          111,
          112,
          113,
          114,
          115,
          116,
          117,
          118,
          119,
          120,
          121,
          122,
          123,
          124,
          125,
          126,
          127,
          128,
          129,
          130,
          131,
          132,
          133,
          134,
          135,
          136,
          137,
          138,
          139,
          140,
          141,
          142,
          143,
          144,
          145,
          146,
          147,
          148,
          149,
          150,
          151,
          152,
          153,
          154,
          155,
          156,
          157,
          158,
          159,
          160,
          161,
          162,
          163,
          164,
          165,
          166,
          167,
          168,
          169,
          170,
          171,
          172,
          173,
          174,
          175,
          176,
          177,
          178,
          179,
          180,
          181,
          182,
          183,
          184,
          185,
          186,
          187,
          188,
          189,
          190,
          191,
          192,
          193,
          194,
          195,
          196,
          197,
          198,
          199,
          200,
          201,
          202,
          203,
          204,
          205,
          206,
          207,
          208,
          209,
          210,
          211,
          212,
          213,
          214,
          215,
          216,
          217,
          218,
          219,
          220,
          221,
          222,
          223,
          224,
          225,
          226,
          227,
          228,
          229,
          230,
          231,
          232,
          233,
          234,
          235,
          236,
          237,
          238,
          239,
          240,
          241,
          242,
          243,
          244,
          245,
          246,
          247,
          248,
          249,
          250,
          251,
          252,
          253,
          254,
          255,
          256,
          257,
          258,
          259,
          260,
          261,
          262,
          263,
          264,
          265,
          266,
          267,
          268,
          269,
          270,
          271,
          272,
          273,
          274,
          275,
          276,
          277,
          278,
          279,
          280,
          281,
          282,
          283,
          284,
          285,
          286,
          287,
          288,
          289,
          290,
          291,
          292,
          293,
          294,
          295,
          296,
          297,
          298,
          299,
          300,
          301,
          302,
          303,
          304,
          305,
          306,
          307,
          308,
          309,
          310,
          311,
          312,
          313,
          314,
          315,
          316,
          317,
          318,
          319,
          320,
          321,
          322,
          323,
          324,
          325,
          326,
          327,
          328,
          329,
          330,
          331,
          332,
          333,
          334,
          335,
          336,
          337,
          338,
          339,
          340,
          341,
          342,
          343,
          344,
          345,
          346,
          347,
          348,
          349,
          350,
          351,
          352,
          353,
          354,
          355,
          356,
          357,
          358,
          359,
          360,
          361,
          362,
          363,
          364,
          365,
          366,
          367,
          368,
          369,
          370,
          371,
          372,
          373,
          374,
          375,
          376,
          377,
          378,
          379,
          380,
          381,
          382,
          383,
          384,
          385,
          386,
          387,
          388,
          389,
          390,
          391,
          392,
          393,
          394,
          395,
          396,
          397,
          398,
          399
         ],
         "y": [
          19.01399040222168,
          18.744943618774414,
          18.478012084960938,
          18.21323013305664,
          17.950634002685547,
          17.69025421142578,
          17.432125091552734,
          17.176273345947266,
          16.922739028930664,
          16.671541213989258,
          16.42270851135254,
          16.176267623901367,
          15.932246208190918,
          15.69066047668457,
          15.451531410217285,
          15.21488094329834,
          14.98072624206543,
          14.74908447265625,
          14.519964218139648,
          14.293379783630371,
          14.069347381591797,
          13.847869873046875,
          13.628959655761719,
          13.412619590759277,
          13.1988525390625,
          12.987668991088867,
          12.779061317443848,
          12.57303524017334,
          12.369589805603027,
          12.168717384338379,
          11.970417022705078,
          11.77468490600586,
          11.58151626586914,
          11.39090347290039,
          11.202831268310547,
          11.017298698425293,
          10.834291458129883,
          10.65379810333252,
          10.475810050964355,
          10.300309181213379,
          10.12728500366211,
          9.956721305847168,
          9.788605690002441,
          9.622920036315918,
          9.459649085998535,
          9.298775672912598,
          9.140283584594727,
          8.984153747558594,
          8.830366134643555,
          8.678905487060547,
          8.52974796295166,
          8.382879257202148,
          8.238276481628418,
          8.09592056274414,
          7.955790042877197,
          7.817866802215576,
          7.682126045227051,
          7.548549652099609,
          7.417116641998291,
          7.2878031730651855,
          7.16058874130249,
          7.0354533195495605,
          6.9123711585998535,
          6.791324138641357,
          6.6722893714904785,
          6.555243968963623,
          6.440166473388672,
          6.327036380767822,
          6.215828895568848,
          6.1065216064453125,
          5.999095439910889,
          5.893525123596191,
          5.789789199829102,
          5.687867164611816,
          5.587734699249268,
          5.489371299743652,
          5.3927531242370605,
          5.297860622406006,
          5.204671859741211,
          5.113161563873291,
          5.023311138153076,
          4.935097694396973,
          4.848499298095703,
          4.763494968414307,
          4.680063247680664,
          4.5981831550598145,
          4.517831802368164,
          4.438990116119385,
          4.361635208129883,
          4.2857465744018555,
          4.211304664611816,
          4.13828706741333,
          4.06667423248291,
          3.996445655822754,
          3.927579879760742,
          3.860058546066284,
          3.7938601970672607,
          3.7289655208587646,
          3.6653549671173096,
          3.60300874710083,
          3.5419063568115234,
          3.4820306301116943,
          3.4233598709106445,
          3.3658769130706787,
          3.3095622062683105,
          3.254396677017212,
          3.2003631591796875,
          3.1474416255950928,
          3.0956156253814697,
          3.044865369796753,
          2.9951741695404053,
          2.946523427963257,
          2.8988962173461914,
          2.8522751331329346,
          2.806642770767212,
          2.761981725692749,
          2.7182769775390625,
          2.675509452819824,
          2.63366436958313,
          2.592724561691284,
          2.5526742935180664,
          2.5134966373443604,
          2.47517728805542,
          2.4377002716064453,
          2.401049852371216,
          2.365210771560669,
          2.3301684856414795,
          2.2959072589874268,
          2.2624125480651855,
          2.229671001434326,
          2.197667121887207,
          2.1663875579833984,
          2.1358180046081543,
          2.1059446334838867,
          2.076753616333008,
          2.048232078552246,
          2.0203664302825928,
          1.9931436777114868,
          1.9665513038635254,
          1.9405766725540161,
          1.9152066707611084,
          1.890429139137268,
          1.8662322759628296,
          1.8426047563552856,
          1.8195337057113647,
          1.7970080375671387,
          1.7750158309936523,
          1.7535463571548462,
          1.732588768005371,
          1.7121316194534302,
          1.6921648979187012,
          1.6726773977279663,
          1.653658390045166,
          1.635098934173584,
          1.6169878244400024,
          1.5993163585662842,
          1.5820738077163696,
          1.5652509927749634,
          1.5488386154174805,
          1.532827615737915,
          1.5172085762023926,
          1.5019727945327759,
          1.4871119260787964,
          1.4726166725158691,
          1.458479404449463,
          1.44469153881073,
          1.4312447309494019,
          1.418131709098816,
          1.4053438901901245,
          1.3928741216659546,
          1.3807145357131958,
          1.3688584566116333,
          1.3572982549667358,
          1.3460266590118408,
          1.335037112236023,
          1.3243224620819092,
          1.3138763904571533,
          1.3036924600601196,
          1.2937638759613037,
          1.2840845584869385,
          1.274648904800415,
          1.265450119972229,
          1.2564829587936401,
          1.2477411031723022,
          1.2392196655273438,
          1.2309123277664185,
          1.2228144407272339,
          1.2149202823638916,
          1.2072250843048096,
          1.1997233629226685,
          1.1924105882644653,
          1.1852819919586182,
          1.1783324480056763,
          1.1715576648712158,
          1.1649532318115234,
          1.1585146188735962,
          1.1522376537322998,
          1.1461180448532104,
          1.140151858329773,
          1.134334921836853,
          1.128663420677185,
          1.1231335401535034,
          1.117741584777832,
          1.112484097480774,
          1.1073572635650635,
          1.1023577451705933,
          1.0974822044372559,
          1.0927273035049438,
          1.088089942932129,
          1.0835672616958618,
          1.0791555643081665,
          1.0748523473739624,
          1.0706545114517212,
          1.0665596723556519,
          1.062564730644226,
          1.0586668252944946,
          1.0548635721206665,
          1.0511525869369507,
          1.0475311279296875,
          1.0439969301223755,
          1.040547490119934,
          1.037180781364441,
          1.0338943004608154,
          1.0306862592697144,
          1.0275541543960571,
          1.0244959592819214,
          1.0215100049972534,
          1.0185937881469727,
          1.0157461166381836,
          1.0129647254943848,
          1.0102479457855225,
          1.0075937509536743,
          1.0050008296966553,
          1.0024672746658325,
          0.9999915361404419,
          0.9975723028182983,
          0.995207667350769,
          0.9928964972496033,
          0.9906370639801025,
          0.9884281158447266,
          0.986268162727356,
          0.98415607213974,
          0.9820904731750488,
          0.9800702333450317,
          0.9780938625335693,
          0.9761605858802795,
          0.9742687940597534,
          0.9724177122116089,
          0.9706061482429504,
          0.9688328504562378,
          0.9670972228050232,
          0.9653980135917664,
          0.9637343287467957,
          0.9621050357818604,
          0.9605094790458679,
          0.9589466452598572,
          0.9574156999588013,
          0.9559156894683838,
          0.9544460773468018,
          0.9530059099197388,
          0.9515944123268127,
          0.9502108097076416,
          0.948854386806488,
          0.94752436876297,
          0.9462202787399292,
          0.9449413418769836,
          0.9436870813369751,
          0.9424564838409424,
          0.9412493109703064,
          0.9400647282600403,
          0.9389023184776306,
          0.9377613663673401,
          0.9366416335105896,
          0.9355420470237732,
          0.9344627857208252,
          0.933402955532074,
          0.932361900806427,
          0.9313396215438843,
          0.930335283279419,
          0.9293486475944519,
          0.9283791184425354,
          0.9274263978004456,
          0.926490068435669,
          0.9255697727203369,
          0.9246650338172913,
          0.9237754940986633,
          0.9229007959365845,
          0.9220406413078308,
          0.9211945533752441,
          0.9203625321388245,
          0.9195438623428345,
          0.9187382459640503,
          0.9179456233978271,
          0.9171657562255859,
          0.9163981080055237,
          0.915642261505127,
          0.9148982763290405,
          0.9141658544540405,
          0.9134446382522583,
          0.9127342104911804,
          0.9120346307754517,
          0.9113456606864929,
          0.9106667637825012,
          0.9099979400634766,
          0.9093388319015503,
          0.908689558506012,
          0.908049464225769,
          0.9074186682701111,
          0.9067966938018799,
          0.906183660030365,
          0.9055789709091187,
          0.9049831032752991,
          0.9043951630592346,
          0.9038154482841492,
          0.9032436609268188,
          0.902679443359375,
          0.9021229147911072,
          0.901573896408081,
          0.9010319113731384,
          0.900497317314148,
          0.8999695181846619,
          0.8994487524032593,
          0.8989346027374268,
          0.8984270691871643,
          0.8979259133338928,
          0.8974310755729675,
          0.8969424366950989,
          0.8964599967002869,
          0.8959832787513733,
          0.8955127000808716,
          0.895047664642334,
          0.8945883512496948,
          0.894134521484375,
          0.893686056137085,
          0.8932430744171143,
          0.8928052186965942,
          0.8923725485801697,
          0.8919448852539062,
          0.8915221691131592,
          0.8911042213439941,
          0.8906912207603455,
          0.8902828097343445,
          0.8898788690567017,
          0.8894796967506409,
          0.8890847563743591,
          0.8886944055557251,
          0.8883081078529358,
          0.8879261612892151,
          0.8875483274459839,
          0.8871745467185974,
          0.8868048191070557,
          0.8864389061927795,
          0.8860770463943481,
          0.8857190012931824,
          0.8853646516799927,
          0.8850140571594238,
          0.8846669793128967,
          0.8843235969543457,
          0.8839837312698364,
          0.8836472034454346,
          0.8833141922950745,
          0.8829845786094666,
          0.8826582431793213,
          0.8823351860046387,
          0.8820152282714844,
          0.8816986680030823,
          0.8813849687576294,
          0.8810744881629944,
          0.8807669878005981,
          0.8804624080657959,
          0.8801608681678772,
          0.8798621892929077,
          0.8795664310455322,
          0.8792732954025269,
          0.8789830207824707,
          0.878695547580719,
          0.8784108757972717,
          0.878128707408905,
          0.877849280834198,
          0.8775722980499268,
          0.8772980570793152,
          0.8770262598991394,
          0.876757025718689,
          0.8764901161193848,
          0.8762257695198059,
          0.8759636878967285,
          0.8757041692733765,
          0.8754469752311707,
          0.8751919865608215,
          0.8749393820762634,
          0.8746888637542725,
          0.8744408488273621,
          0.874194860458374,
          0.8739510774612427,
          0.8737095594406128,
          0.8734700679779053,
          0.8732326626777649,
          0.8729975819587708,
          0.8727643489837646,
          0.8725330829620361
         ]
        },
        {
         "name": "avg enugu_transactions",
         "type": "scatter",
         "x": [
          0,
          1,
          2,
          3,
          4,
          5,
          6,
          7,
          8,
          9,
          10,
          11,
          12,
          13,
          14,
          15,
          16,
          17,
          18,
          19,
          20,
          21,
          22,
          23,
          24,
          25,
          26,
          27,
          28,
          29,
          30,
          31,
          32,
          33,
          34,
          35,
          36,
          37,
          38,
          39,
          40,
          41,
          42,
          43,
          44,
          45,
          46,
          47,
          48,
          49,
          50,
          51,
          52,
          53,
          54,
          55,
          56,
          57,
          58,
          59,
          60,
          61,
          62,
          63,
          64,
          65,
          66,
          67,
          68,
          69,
          70,
          71,
          72,
          73,
          74,
          75,
          76,
          77,
          78,
          79,
          80,
          81,
          82,
          83,
          84,
          85,
          86,
          87,
          88,
          89,
          90,
          91,
          92,
          93,
          94,
          95,
          96,
          97,
          98,
          99,
          100,
          101,
          102,
          103,
          104,
          105,
          106,
          107,
          108,
          109,
          110,
          111,
          112,
          113,
          114,
          115,
          116,
          117,
          118,
          119,
          120,
          121,
          122,
          123,
          124,
          125,
          126,
          127,
          128,
          129,
          130,
          131,
          132,
          133,
          134,
          135,
          136,
          137,
          138,
          139,
          140,
          141,
          142,
          143,
          144,
          145,
          146,
          147,
          148,
          149,
          150,
          151,
          152,
          153,
          154,
          155,
          156,
          157,
          158,
          159,
          160,
          161,
          162,
          163,
          164,
          165,
          166,
          167,
          168,
          169,
          170,
          171,
          172,
          173,
          174,
          175,
          176,
          177,
          178,
          179,
          180,
          181,
          182,
          183,
          184,
          185,
          186,
          187,
          188,
          189,
          190,
          191,
          192,
          193,
          194,
          195,
          196,
          197,
          198,
          199,
          200,
          201,
          202,
          203,
          204,
          205,
          206,
          207,
          208,
          209,
          210,
          211,
          212,
          213,
          214,
          215,
          216,
          217,
          218,
          219,
          220,
          221,
          222,
          223,
          224,
          225,
          226,
          227,
          228,
          229,
          230,
          231,
          232,
          233,
          234,
          235,
          236,
          237,
          238,
          239,
          240,
          241,
          242,
          243,
          244,
          245,
          246,
          247,
          248,
          249,
          250,
          251,
          252,
          253,
          254,
          255,
          256,
          257,
          258,
          259,
          260,
          261,
          262,
          263,
          264,
          265,
          266,
          267,
          268,
          269,
          270,
          271,
          272,
          273,
          274,
          275,
          276,
          277,
          278,
          279,
          280,
          281,
          282,
          283,
          284,
          285,
          286,
          287,
          288,
          289,
          290,
          291,
          292,
          293,
          294,
          295,
          296,
          297,
          298,
          299,
          300,
          301,
          302,
          303,
          304,
          305,
          306,
          307,
          308,
          309,
          310,
          311,
          312,
          313,
          314,
          315,
          316,
          317,
          318,
          319,
          320,
          321,
          322,
          323,
          324,
          325,
          326,
          327,
          328,
          329,
          330,
          331,
          332,
          333,
          334,
          335,
          336,
          337,
          338,
          339,
          340,
          341,
          342,
          343,
          344,
          345,
          346,
          347,
          348,
          349,
          350,
          351,
          352,
          353,
          354,
          355,
          356,
          357,
          358,
          359,
          360,
          361,
          362,
          363,
          364,
          365,
          366,
          367,
          368,
          369,
          370,
          371,
          372,
          373,
          374,
          375,
          376,
          377,
          378,
          379,
          380,
          381,
          382,
          383,
          384,
          385,
          386,
          387,
          388,
          389,
          390,
          391,
          392,
          393,
          394,
          395,
          396,
          397,
          398,
          399
         ],
         "y": [
          2.647181994150637,
          2.628075599435858,
          2.608975403604135,
          2.589884362604334,
          2.5708052756471798,
          2.5517412686651535,
          2.532694268875103,
          2.5136675545324914,
          2.494663494370053,
          2.4756845851601303,
          2.4567336614347197,
          2.4378136173304616,
          2.418926373441465,
          2.4000748790938577,
          2.3812615957387098,
          2.362489404267186,
          2.3437594327523783,
          2.3250754429096454,
          2.30643911029178,
          2.2878527914898292,
          2.2693182514635533,
          2.2508381271665874,
          2.232414405420425,
          2.214048916308419,
          2.1957439645435,
          2.1775007653981473,
          2.1593213167317518,
          2.1412076594515006,
          2.123161513261776,
          2.1051840227925145,
          2.087277060071078,
          2.069441824916891,
          2.051679715831525,
          2.033992397329876,
          2.0163808418506854,
          1.998845893793087,
          1.9813896437348069,
          1.9640123024996814,
          1.9467150445199706,
          1.929499171163752,
          1.9123655599438512,
          1.8953146181586746,
          1.8783476670445145,
          1.8615770848360882,
          1.8450841186874998,
          1.8286757745776467,
          1.8123516573498097,
          1.7961130098712117,
          1.779960369687445,
          1.7638945094513123,
          1.7479153706619588,
          1.7320241730070227,
          1.7164141151440147,
          1.700976434881908,
          1.6858281743483785,
          1.6708428900287482,
          1.6559422961828156,
          1.6411278420864805,
          1.6263990652518514,
          1.6117566875574036,
          1.5976105273601193,
          1.5839397931509733,
          1.5704388366774462,
          1.5570199811869383,
          1.543683792923575,
          1.5304302498115618,
          1.5172596211755902,
          1.5041720471969542,
          1.4911677629828637,
          1.4782468402796507,
          1.4654097757926878,
          1.452836504193638,
          1.4403963613855006,
          1.4280378151284816,
          1.4159877208685723,
          1.4040263325013784,
          1.3921447812444923,
          1.3803436322382492,
          1.3686230433245787,
          1.3569826414225565,
          1.3455535013248292,
          1.3343210821783973,
          1.323167212571567,
          1.3120919885340432,
          1.301095556317964,
          1.2901777409726591,
          1.2793385794750838,
          1.268578269403598,
          1.2578966446378488,
          1.2472936422618222,
          1.2367694719955649,
          1.2263237883528948,
          1.2159567607655342,
          1.2058815740548374,
          1.1960660091928335,
          1.1863253458454126,
          1.1766592462529213,
          1.1672982909968697,
          1.1581435474293886,
          1.1491334195803395,
          1.1401942157396248,
          1.1313254679004034,
          1.1225272720923813,
          1.1138801571239887,
          1.105433329041233,
          1.0974321922367978,
          1.0895066779670397,
          1.081645787273905,
          1.073964280862492,
          1.066393474937582,
          1.059232825500781,
          1.0525738960977833,
          1.0461256084429773,
          1.039730776772322,
          1.0334971669150694,
          1.0275031711279463,
          1.0215919682336294,
          1.0158108927084297,
          1.0101888026954908,
          1.0048355150759753,
          0.9996789715562135,
          0.994566568587277,
          0.9894983817787616,
          0.984473918288558,
          0.9795485929894331,
          0.9747475042523162,
          0.9699879687829254,
          0.9652810969489224,
          0.9607900413090825,
          0.9564600870005904,
          0.952168197156473,
          0.9479141835805835,
          0.9436979008486267,
          0.939536626052263,
          0.9356142676045315,
          0.9318574450692462,
          0.9281345430957868,
          0.9244453850777982,
          0.9207898564970973,
          0.9171678342811305,
          0.9135791067782193,
          0.9100235843054492,
          0.9065011266815259,
          0.9030114121517466,
          0.8995544870752796,
          0.8961299852698859,
          0.892764865648913,
          0.8896232207760869,
          0.8865586552775672,
          0.8835230111392662,
          0.8805162298603293,
          0.8775380859917064,
          0.8746560136656584,
          0.8719736804744225,
          0.8693166575953429,
          0.8666849117767546,
          0.8641544404684988,
          0.8616895400543498,
          0.8592481945127843,
          0.8568303613478981,
          0.8544358335991191,
          0.8520644746724697,
          0.8497161726022803,
          0.8473907393993646,
          0.8450880428159169,
          0.8428080041034397,
          0.840550325238709,
          0.8383979879232825,
          0.8362916096544181,
          0.8342059406882439,
          0.8321408601942794,
          0.8300961668688746,
          0.828071760163685,
          0.8260674590571967,
          0.8241462295425606,
          0.8222723126307024,
          0.8204169478714912,
          0.8185799272005652,
          0.8167612769709036,
          0.8149607388267257,
          0.8131781841765294,
          0.8114135238203081,
          0.8096851750649635,
          0.8080768472524396,
          0.8066053918710152,
          0.8051715332817446,
          0.8038902274252315,
          0.8026471065035248,
          0.8014162943893788,
          0.8001977259247067,
          0.7989912742771712,
          0.7977968874651752,
          0.7966144334133803,
          0.7954438428589818,
          0.7942849672042889,
          0.7931377193706406,
          0.7920020546718004,
          0.7908778188014147,
          0.7897649566562315,
          0.7886633214839582,
          0.7875728691847463,
          0.7864934757719665,
          0.7854250325050847,
          0.7844096778815776,
          0.7835092660411873,
          0.7826177257726822,
          0.7817349645646866,
          0.7808609509419469,
          0.7799955447576621,
          0.7791387195898659,
          0.7782903811162777,
          0.777450428598839,
          0.7766188294757528,
          0.7757954871309257,
          0.7749848815923198,
          0.7742587669787293,
          0.7735398031805938,
          0.7728279163647291,
          0.7721230406141929,
          0.7714250982152905,
          0.7707340297013507,
          0.7700497965949539,
          0.7693723101617548,
          0.768701494585197,
          0.7680372925716955,
          0.7673796629878368,
          0.7667285171337688,
          0.7660838157214762,
          0.7654454663775572,
          0.7648134423006174,
          0.7641876345776559,
          0.7635680312566997,
          0.7629545425513539,
          0.7623471097193092,
          0.7617456704654337,
          0.7611502008857812,
          0.7605605850134445,
          0.7599767910799756,
          0.759398748856754,
          0.7588431762473815,
          0.7583208371862029,
          0.7578034629021894,
          0.7572909496391073,
          0.7567832722857406,
          0.7562804071451039,
          0.7557822591188141,
          0.7552888152373421,
          0.7547999986148355,
          0.754315803697852,
          0.7538446235157081,
          0.7534001588542512,
          0.7529596074032923,
          0.7525229598840989,
          0.7520901406870756,
          0.7516611498467156,
          0.7512359458674243,
          0.7508144359618785,
          0.7503966446893995,
          0.7499825124108489,
          0.7495719886278472,
          0.7491650613366814,
          0.7487616662933403,
          0.7483893380185639,
          0.7480546089763889,
          0.7477534765961944,
          0.7474626964404474,
          0.7471738978286984,
          0.7469156793505681,
          0.7466652955960659,
          0.7464164182903213,
          0.7461690544182541,
          0.7459231846118038,
          0.7456815028370686,
          0.7454612485406317,
          0.7452420608672434,
          0.7450239264334535,
          0.744806828656546,
          0.7445907876289433,
          0.7443757731085315,
          0.7441618021436881,
          0.7439488517876595,
          0.7437369288873911,
          0.7435681390320333,
          0.7434040604834827,
          0.7432405760842413,
          0.7430777127391834,
          0.7429154602727477,
          0.7427614085596624,
          0.7426337667650803,
          0.7425063965717555,
          0.7423792950822403,
          0.74225246909174,
          0.7421259071484364,
          0.7419996297759194,
          0.7418736394749628,
          0.7417479350900364,
          0.7416225212950002,
          0.7414973941403562,
          0.7413903050526274,
          0.7412853678676115,
          0.7411883635583252,
          0.7410984897743449,
          0.7410083783996279,
          0.7409180383507253,
          0.740827490409928,
          0.7407367378282417,
          0.7406457892807636,
          0.7405546460437507,
          0.7404633422570739,
          0.7403718651322946,
          0.7402802325456321,
          0.7401884654001044,
          0.7400965508512208,
          0.7400045075081862,
          0.7399123602321394,
          0.7398200951524101,
          0.7397277290478956,
          0.7396352661084699,
          0.739542721219125,
          0.7394501027962577,
          0.739357406317995,
          0.7392646501456203,
          0.7391718504220579,
          0.7390789968046692,
          0.738986102116386,
          0.7388931791348681,
          0.7388002254757569,
          0.7387072558893051,
          0.7386142739628291,
          0.7385212877591679,
          0.7384282998825755,
          0.7383353204137564,
          0.7382423478091296,
          0.7381494089563226,
          0.7380564848667033,
          0.7379635973659883,
          0.7378707381067682,
          0.7377779336403594,
          0.7376851627188101,
          0.7375924474696547,
          0.7374997909973018,
          0.7374091399958141,
          0.7373352015722534,
          0.7372611564605178,
          0.7371870075925486,
          0.7371127485525683,
          0.7370383976048471,
          0.7369639596129587,
          0.736889449064143,
          0.7368148668724759,
          0.7367402126757765,
          0.7366669549197619,
          0.736616727899964,
          0.7365662922811561,
          0.7365156246078067,
          0.7364647476800722,
          0.7364136951290455,
          0.7363624419469909,
          0.7363110053461291,
          0.7362594044703132,
          0.7362076208310655,
          0.7361556855242118,
          0.736103595962745,
          0.7360513660130233,
          0.7359989788077604,
          0.73594647920566,
          0.7358938417160785,
          0.735841080395088,
          0.7357882087468658,
          0.735735222235526,
          0.7356821416088661,
          0.7356289593818119,
          0.7355756789002262,
          0.7355223262756344,
          0.73546889676519,
          0.7354153671030753,
          0.7353617937895267,
          0.7353081434693985,
          0.735254430198763,
          0.7352006649637772,
          0.7351468482818425,
          0.7350929957612353,
          0.7350390889307248,
          0.7349851490900029,
          0.7349311859317232,
          0.7348771792254899,
          0.7348231707600916,
          0.7347691256626722,
          0.734715069855043,
          0.7346610068210405,
          0.734606935405135,
          0.7345528576424385,
          0.7344987745160139,
          0.7344447002888939,
          0.7343906366512564,
          0.73433657579034,
          0.7342825398509257,
          0.734228509257993,
          0.7341745028449538,
          0.7341205244405786
         ]
        },
        {
         "name": "avg fct_transactions",
         "type": "scatter",
         "x": [
          0,
          1,
          2,
          3,
          4,
          5,
          6,
          7,
          8,
          9,
          10,
          11,
          12,
          13,
          14,
          15,
          16,
          17,
          18,
          19,
          20,
          21,
          22,
          23,
          24,
          25,
          26,
          27,
          28,
          29,
          30,
          31,
          32,
          33,
          34,
          35,
          36,
          37,
          38,
          39,
          40,
          41,
          42,
          43,
          44,
          45,
          46,
          47,
          48,
          49,
          50,
          51,
          52,
          53,
          54,
          55,
          56,
          57,
          58,
          59,
          60,
          61,
          62,
          63,
          64,
          65,
          66,
          67,
          68,
          69,
          70,
          71,
          72,
          73,
          74,
          75,
          76,
          77,
          78,
          79,
          80,
          81,
          82,
          83,
          84,
          85,
          86,
          87,
          88,
          89,
          90,
          91,
          92,
          93,
          94,
          95,
          96,
          97,
          98,
          99,
          100,
          101,
          102,
          103,
          104,
          105,
          106,
          107,
          108,
          109,
          110,
          111,
          112,
          113,
          114,
          115,
          116,
          117,
          118,
          119,
          120,
          121,
          122,
          123,
          124,
          125,
          126,
          127,
          128,
          129,
          130,
          131,
          132,
          133,
          134,
          135,
          136,
          137,
          138,
          139,
          140,
          141,
          142,
          143,
          144,
          145,
          146,
          147,
          148,
          149,
          150,
          151,
          152,
          153,
          154,
          155,
          156,
          157,
          158,
          159,
          160,
          161,
          162,
          163,
          164,
          165,
          166,
          167,
          168,
          169,
          170,
          171,
          172,
          173,
          174,
          175,
          176,
          177,
          178,
          179,
          180,
          181,
          182,
          183,
          184,
          185,
          186,
          187,
          188,
          189,
          190,
          191,
          192,
          193,
          194,
          195,
          196,
          197,
          198,
          199,
          200,
          201,
          202,
          203,
          204,
          205,
          206,
          207,
          208,
          209,
          210,
          211,
          212,
          213,
          214,
          215,
          216,
          217,
          218,
          219,
          220,
          221,
          222,
          223,
          224,
          225,
          226,
          227,
          228,
          229,
          230,
          231,
          232,
          233,
          234,
          235,
          236,
          237,
          238,
          239,
          240,
          241,
          242,
          243,
          244,
          245,
          246,
          247,
          248,
          249,
          250,
          251,
          252,
          253,
          254,
          255,
          256,
          257,
          258,
          259,
          260,
          261,
          262,
          263,
          264,
          265,
          266,
          267,
          268,
          269,
          270,
          271,
          272,
          273,
          274,
          275,
          276,
          277,
          278,
          279,
          280,
          281,
          282,
          283,
          284,
          285,
          286,
          287,
          288,
          289,
          290,
          291,
          292,
          293,
          294,
          295,
          296,
          297,
          298,
          299,
          300,
          301,
          302,
          303,
          304,
          305,
          306,
          307,
          308,
          309,
          310,
          311,
          312,
          313,
          314,
          315,
          316,
          317,
          318,
          319,
          320,
          321,
          322,
          323,
          324,
          325,
          326,
          327,
          328,
          329,
          330,
          331,
          332,
          333,
          334,
          335,
          336,
          337,
          338,
          339,
          340,
          341,
          342,
          343,
          344,
          345,
          346,
          347,
          348,
          349,
          350,
          351,
          352,
          353,
          354,
          355,
          356,
          357,
          358,
          359,
          360,
          361,
          362,
          363,
          364,
          365,
          366,
          367,
          368,
          369,
          370,
          371,
          372,
          373,
          374,
          375,
          376,
          377,
          378,
          379,
          380,
          381,
          382,
          383,
          384,
          385,
          386,
          387,
          388,
          389,
          390,
          391,
          392,
          393,
          394,
          395,
          396,
          397,
          398,
          399
         ],
         "y": [
          2.633933300284619,
          2.614313170928941,
          2.594699414855095,
          2.5750947606312646,
          2.5555024644371174,
          2.535925413786556,
          2.516365778730167,
          2.496826941279645,
          2.477310972144502,
          2.4578208824630883,
          2.438359204329018,
          2.418928878238099,
          2.3995320322969085,
          2.3801715429814516,
          2.3608500130278833,
          2.3415700429647797,
          2.3223332421175495,
          2.303143007950945,
          2.284001276512132,
          2.2649102653146533,
          2.2458717315917403,
          2.22688846793138,
          2.2079623872011536,
          2.1890953338336803,
          2.1702895827395685,
          2.1517500748254,
          2.1334112234706595,
          2.115137683353537,
          2.096931312152128,
          2.078793101069599,
          2.060724994983433,
          2.0427281451463064,
          2.024803972135586,
          2.0071541658360457,
          1.990045654794334,
          1.9730103283222988,
          1.9560502427801851,
          1.939165585812245,
          1.922357669824453,
          1.905627648277065,
          1.8891229192778767,
          1.872935138466956,
          1.85706844825513,
          1.8412784052013265,
          1.825565816175829,
          1.8099321392848553,
          1.7943769120405135,
          1.7789015671618575,
          1.7635065836936252,
          1.748293274935,
          1.7333474908342201,
          1.7187681490406408,
          1.7045583277722767,
          1.6904250763966544,
          1.6763690163473854,
          1.6623903694862032,
          1.6484893665051585,
          1.634667219365362,
          1.6209312853771383,
          1.6075661171147273,
          1.594436108566941,
          1.581500009858894,
          1.5687133794481374,
          1.5562135801171082,
          1.543789085735804,
          1.531699743404586,
          1.5196874978472692,
          1.5080008504674294,
          1.4963862209515342,
          1.4848437053292893,
          1.4733737097953108,
          1.4619760754038793,
          1.4506513672953305,
          1.4393992443986416,
          1.428220221079821,
          1.4171315989217892,
          1.406349443747993,
          1.3956387595103363,
          1.3850452429827798,
          1.374914667918938,
          1.36499251601362,
          1.3552383742899519,
          1.3456871648315756,
          1.3364981193514547,
          1.3276144572010151,
          1.3194949223640409,
          1.3116950646195766,
          1.3039476418537743,
          1.2962524763564889,
          1.2886096310437347,
          1.2810192841775507,
          1.273481261359162,
          1.2659957149115495,
          1.258722602122104,
          1.2516012334313307,
          1.2445307980133078,
          1.2375111038086242,
          1.2305422076624504,
          1.22362386011831,
          1.2167561660362267,
          1.2099393395514053,
          1.2031730456636662,
          1.1964573875773485,
          1.1897923498393963,
          1.1831778126886245,
          1.17661371210523,
          1.1701000938964863,
          1.163636762139718,
          1.1572238862666466,
          1.1508611290695139,
          1.1446961757729983,
          1.138634023011998,
          1.1326201894737484,
          1.1267227960048023,
          1.121141175526242,
          1.1156099312703636,
          1.1101229470505476,
          1.104791309590563,
          1.099549209950017,
          1.094349204986054,
          1.0891913600982144,
          1.0840755066826193,
          1.0791509261413958,
          1.0742768269574303,
          1.0694428011351265,
          1.064648860264276,
          1.0598945887680509,
          1.0551800818483137,
          1.0505052200198275,
          1.0458697667956454,
          1.0412736759545729,
          1.0367167634396743,
          1.032329791831476,
          1.028003263548295,
          1.0237138881371555,
          1.0194614718829618,
          1.0152459140649022,
          1.01106702055396,
          1.006924654204263,
          1.0028187304379237,
          0.9988641559885229,
          0.9950422956360242,
          0.9913077745511107,
          0.9876058430645835,
          0.98393652670158,
          0.9802995358552729,
          0.9766948606605413,
          0.9731221776380115,
          0.9695815223849013,
          0.9660725489321214,
          0.9625952467936691,
          0.9591493621668965,
          0.9557347477648628,
          0.9523513616435588,
          0.9489988232024925,
          0.9456770928432076,
          0.9424161588724325,
          0.9392531247760723,
          0.9361253116850525,
          0.9331596693387764,
          0.9302211110947334,
          0.9273461003645512,
          0.9245863886166312,
          0.9218518840800092,
          0.9191424580597025,
          0.9164989347498496,
          0.9139353445315019,
          0.9113951355803113,
          0.9090066409951417,
          0.906655507911286,
          0.9043259061775132,
          0.9020176722949712,
          0.8997306904347264,
          0.897464779954693,
          0.8952198526551736,
          0.8929957609042936,
          0.89080300383618,
          0.8886910751607183,
          0.8865984516984388,
          0.8845756586644398,
          0.8826199260647111,
          0.8806818256778862,
          0.878761192142468,
          0.8768579193911632,
          0.8749719097385816,
          0.8731029660202851,
          0.8714054954013436,
          0.8697303815899445,
          0.8680698540837222,
          0.8664669614550562,
          0.8649167814971266,
          0.8633798466708795,
          0.8618560291264215,
          0.8603452700697032,
          0.8588474292331969,
          0.8573624223494565,
          0.8558901983337139,
          0.8544603622202728,
          0.8530917874221656,
          0.8517346469197216,
          0.8503889139805335,
          0.8490544664978636,
          0.8477312254990073,
          0.8464190989382496,
          0.845118006394162,
          0.8438893841584223,
          0.8426819491377282,
          0.8414843851877558,
          0.8402965629581475,
          0.8391184338131688,
          0.8379917663814122,
          0.8368854606781674,
          0.8357878200001567,
          0.8346987117029003,
          0.8336531154672362,
          0.8326789946535728,
          0.8317123243342728,
          0.8307530331251854,
          0.8298010636292454,
          0.8288563770413455,
          0.8279189033743188,
          0.8269885965621915,
          0.826065410194055,
          0.8251492741102754,
          0.8242917538582171,
          0.8235135581512966,
          0.8227406910237335,
          0.8219731630995037,
          0.8212108757791415,
          0.8204538458781934,
          0.8197020057550455,
          0.8190108200860868,
          0.8183417125551309,
          0.8176769315349355,
          0.8170164532595282,
          0.8163602753488626,
          0.8157083296784168,
          0.8150606073488864,
          0.8144170819727983,
          0.8137777399597417,
          0.8131425344676403,
          0.8125114583908479,
          0.811884451089917,
          0.8112615177388617,
          0.810642625551678,
          0.8100277314460735,
          0.809416824039217,
          0.8088530805207463,
          0.80829293516126,
          0.8077361304386022,
          0.8071826232014934,
          0.8066324141915424,
          0.8060854819710834,
          0.8055417925985826,
          0.8050013416933743,
          0.8044900803060825,
          0.8039920838439184,
          0.8034967459800172,
          0.8030040564870774,
          0.8025139870287473,
          0.8020265304993806,
          0.8015416775685047,
          0.801059434565664,
          0.8005797712401213,
          0.8001026473251104,
          0.7996281090720075,
          0.7991561189217805,
          0.7986866393153972,
          0.7982197038322103,
          0.7977552566704756,
          0.797293313714417,
          0.7968338482488742,
          0.7963768707598492,
          0.7959223365611053,
          0.7954702532067034,
          0.7950206097449799,
          0.7945733756406269,
          0.7941285708394696,
          0.7936861426183024,
          0.7932461140014888,
          0.7928084479603332,
          0.792373146754155,
          0.7919401856856595,
          0.791509572515868,
          0.7910812649558369,
          0.790655284098298,
          0.7902316086435589,
          0.7898101985619957,
          0.789391072048892,
          0.7889742103398227,
          0.7885595833910114,
          0.7881471975837422,
          0.7877370193214157,
          0.7873290649539172,
          0.7869233110947019,
          0.7865197393587723,
          0.7861183474005754,
          0.7857191013820575,
          0.7853220321403439,
          0.7849270739654529,
          0.7845342354462483,
          0.7841435217912379,
          0.783754895126637,
          0.7833683598676043,
          0.7829839010094984,
          0.7826015116708803,
          0.7822211568581666,
          0.7818428268097171,
          0.7814665402554632,
          0.7810922684451326,
          0.7807199777993721,
          0.7803496887382915,
          0.7799813794447973,
          0.7796150149597995,
          0.7792506090634228,
          0.7788881503900825,
          0.7785276063262417,
          0.77816897545767,
          0.7778122623030064,
          0.7774574243146065,
          0.7771044718060058,
          0.7767533852884169,
          0.7764041607433553,
          0.7760567549505549,
          0.7757112036797013,
          0.7753674548974573,
          0.7750255289032059,
          0.7746853882198363,
          0.7743470351411619,
          0.7740104436763842,
          0.773675633383277,
          0.773342553763461,
          0.7730111909505776,
          0.7726815731602517,
          0.7723536841460783,
          0.7720274814121532,
          0.7717029697185696,
          0.771380142511576,
          0.7710589819580699,
          0.7707394804350035,
          0.7704216246969001,
          0.7701054020846714,
          0.7697907950756557,
          0.7694778029799844,
          0.769166422865716,
          0.768856618238803,
          0.7685484008270111,
          0.7682417400691627,
          0.7679366507974318,
          0.7676331068657997,
          0.7673310918898877,
          0.7670305971773517,
          0.7667316274882849,
          0.7664341686803816,
          0.7661381874329897,
          0.7658436880577876,
          0.7655506812822318,
          0.7652591228512533,
          0.7649690238372426,
          0.7646803537825022,
          0.7643931226211396,
          0.7641073279731082,
          0.7638229400360856,
          0.7635399453921281,
          0.7632592242028642,
          0.7629842303441846,
          0.7627104934950333,
          0.7624380306606707,
          0.7621668111074518,
          0.7618968252806967,
          0.7616280938419694,
          0.7613605784000838,
          0.7610943034108806,
          0.7608292185829408,
          0.7605653553397782,
          0.7603026686674682,
          0.7600412071327584,
          0.759780902921568,
          0.7595217672442612,
          0.7592637967549756,
          0.7590069904878951,
          0.7587513386813795,
          0.7584968315392948,
          0.758243472821425,
          0.7579912233777284,
          0.7577400988682216,
          0.7574901029837016,
          0.757241203679773,
          0.7569934027845876,
          0.7567467055411465,
          0.756501104878297,
          0.756256551884357,
          0.7560130977130813,
          0.7557706736190667,
          0.7555293566951261,
          0.7552890582586543,
          0.7550498217023849,
          0.7548116019434062,
          0.7545744299568176,
          0.7543382727669008
         ]
        },
        {
         "name": "avg kano_transactions",
         "type": "scatter",
         "x": [
          0,
          1,
          2,
          3,
          4,
          5,
          6,
          7,
          8,
          9,
          10,
          11,
          12,
          13,
          14,
          15,
          16,
          17,
          18,
          19,
          20,
          21,
          22,
          23,
          24,
          25,
          26,
          27,
          28,
          29,
          30,
          31,
          32,
          33,
          34,
          35,
          36,
          37,
          38,
          39,
          40,
          41,
          42,
          43,
          44,
          45,
          46,
          47,
          48,
          49,
          50,
          51,
          52,
          53,
          54,
          55,
          56,
          57,
          58,
          59,
          60,
          61,
          62,
          63,
          64,
          65,
          66,
          67,
          68,
          69,
          70,
          71,
          72,
          73,
          74,
          75,
          76,
          77,
          78,
          79,
          80,
          81,
          82,
          83,
          84,
          85,
          86,
          87,
          88,
          89,
          90,
          91,
          92,
          93,
          94,
          95,
          96,
          97,
          98,
          99,
          100,
          101,
          102,
          103,
          104,
          105,
          106,
          107,
          108,
          109,
          110,
          111,
          112,
          113,
          114,
          115,
          116,
          117,
          118,
          119,
          120,
          121,
          122,
          123,
          124,
          125,
          126,
          127,
          128,
          129,
          130,
          131,
          132,
          133,
          134,
          135,
          136,
          137,
          138,
          139,
          140,
          141,
          142,
          143,
          144,
          145,
          146,
          147,
          148,
          149,
          150,
          151,
          152,
          153,
          154,
          155,
          156,
          157,
          158,
          159,
          160,
          161,
          162,
          163,
          164,
          165,
          166,
          167,
          168,
          169,
          170,
          171,
          172,
          173,
          174,
          175,
          176,
          177,
          178,
          179,
          180,
          181,
          182,
          183,
          184,
          185,
          186,
          187,
          188,
          189,
          190,
          191,
          192,
          193,
          194,
          195,
          196,
          197,
          198,
          199,
          200,
          201,
          202,
          203,
          204,
          205,
          206,
          207,
          208,
          209,
          210,
          211,
          212,
          213,
          214,
          215,
          216,
          217,
          218,
          219,
          220,
          221,
          222,
          223,
          224,
          225,
          226,
          227,
          228,
          229,
          230,
          231,
          232,
          233,
          234,
          235,
          236,
          237,
          238,
          239,
          240,
          241,
          242,
          243,
          244,
          245,
          246,
          247,
          248,
          249,
          250,
          251,
          252,
          253,
          254,
          255,
          256,
          257,
          258,
          259,
          260,
          261,
          262,
          263,
          264,
          265,
          266,
          267,
          268,
          269,
          270,
          271,
          272,
          273,
          274,
          275,
          276,
          277,
          278,
          279,
          280,
          281,
          282,
          283,
          284,
          285,
          286,
          287,
          288,
          289,
          290,
          291,
          292,
          293,
          294,
          295,
          296,
          297,
          298,
          299,
          300,
          301,
          302,
          303,
          304,
          305,
          306,
          307,
          308,
          309,
          310,
          311,
          312,
          313,
          314,
          315,
          316,
          317,
          318,
          319,
          320,
          321,
          322,
          323,
          324,
          325,
          326,
          327,
          328,
          329,
          330,
          331,
          332,
          333,
          334,
          335,
          336,
          337,
          338,
          339,
          340,
          341,
          342,
          343,
          344,
          345,
          346,
          347,
          348,
          349,
          350,
          351,
          352,
          353,
          354,
          355,
          356,
          357,
          358,
          359,
          360,
          361,
          362,
          363,
          364,
          365,
          366,
          367,
          368,
          369,
          370,
          371,
          372,
          373,
          374,
          375,
          376,
          377,
          378,
          379,
          380,
          381,
          382,
          383,
          384,
          385,
          386,
          387,
          388,
          389,
          390,
          391,
          392,
          393,
          394,
          395,
          396,
          397,
          398,
          399
         ],
         "y": [
          2.5181713626026214,
          2.500040565675629,
          2.4819154731338986,
          2.463798835621409,
          2.445693518576268,
          2.4276020430541907,
          2.409526490802587,
          2.3914702217573574,
          2.3734345450131085,
          2.355422767523835,
          2.3374370019430573,
          2.319479950348005,
          2.301553428472765,
          2.2836601825461553,
          2.2658027049253593,
          2.2479832076049724,
          2.230203102332043,
          2.2124657887789043,
          2.1947727658919924,
          2.177126157362725,
          2.1595275813468287,
          2.14197951695601,
          2.1244838295948933,
          2.1073611919048236,
          2.0903230187591055,
          2.0733402580648135,
          2.0564148072364734,
          2.0395485217446003,
          2.022742859695413,
          2.0059988156034465,
          1.9893181058617129,
          1.9727018199106636,
          1.9561511995137317,
          1.9396677193339802,
          1.9232523606404688,
          1.9069057525933368,
          1.890782460684559,
          1.8748726818335089,
          1.8590334340416534,
          1.8432658851185142,
          1.8275709147844965,
          1.8119488530727261,
          1.7964009450580047,
          1.7809276521244346,
          1.7655297391982907,
          1.7503156973044722,
          1.7353551058646246,
          1.7204704363929546,
          1.7056620531400688,
          1.6909308192695274,
          1.676276768998811,
          1.6617008946348764,
          1.6472031100821256,
          1.6329163336789336,
          1.61887794861442,
          1.6049469705643,
          1.5913428792908861,
          1.5778163049617926,
          1.5643667155503749,
          1.550994949936819,
          1.5377006052378777,
          1.524484660515031,
          1.5113469457846622,
          1.4982877557586263,
          1.485453522254163,
          1.4727854159631337,
          1.4601947029919762,
          1.447681271857929,
          1.4353457230913824,
          1.4232182011261438,
          1.4111671618542592,
          1.3991921847318465,
          1.3872939419668437,
          1.3754721244981298,
          1.363727014895873,
          1.3520587820398993,
          1.3404671720585744,
          1.3289526617890561,
          1.317515320218202,
          1.306154963013129,
          1.2948715730650964,
          1.2836655653990385,
          1.2725367485074388,
          1.2618573761612197,
          1.2512843207040338,
          1.2407849421067392,
          1.2303592381617559,
          1.2200075068923082,
          1.2098753638870012,
          1.199888220258563,
          1.1901917868689347,
          1.1806069716833738,
          1.171266200864805,
          1.1619936232788075,
          1.1527889138593097,
          1.1436525395093624,
          1.1345841922716342,
          1.125583996874363,
          1.1166514273617485,
          1.1078954992564125,
          1.0993210581810875,
          1.0908124879647672,
          1.0823699144394798,
          1.0739932255705686,
          1.065682189010298,
          1.057587728349547,
          1.0495930898005899,
          1.0416622243582785,
          1.0337953334642365,
          1.025991906615719,
          1.0182519890681045,
          1.0105752331276319,
          1.0030170211842302,
          0.9956364804600765,
          0.988317388261422,
          0.9810594791268398,
          0.9738626810340506,
          0.9667269059558246,
          0.9596560403508085,
          0.9528374389721205,
          0.9460777824479037,
          0.939522045623082,
          0.9332762272500232,
          0.9271320322828063,
          0.9210413275172216,
          0.9150041124013741,
          0.9090198314530885,
          0.9030885699401202,
          0.8972101184183704,
          0.8913841253308137,
          0.885791604309621,
          0.8802625932962898,
          0.8747840050529642,
          0.8693556822896095,
          0.8639774025925975,
          0.8586489286471388,
          0.8534067798262436,
          0.8483093093385342,
          0.8432594898668747,
          0.8382571268683273,
          0.8333019496384637,
          0.8283937269333379,
          0.8235323795560376,
          0.8187173604407839,
          0.814038878715092,
          0.8095923797078326,
          0.8053853602128465,
          0.8012975320069798,
          0.7973724705281543,
          0.7935908032040264,
          0.7898457092623379,
          0.7861368907488517,
          0.7824641766451486,
          0.7788275196262442,
          0.7752263893901661,
          0.7717621619124159,
          0.7685363916749286,
          0.7654975586280256,
          0.7625334997370868,
          0.7595985696498472,
          0.7566925007662868,
          0.753843103076371,
          0.7511120706827742,
          0.7484081418457045,
          0.7458267927768175,
          0.7432984707440612,
          0.7408296092669311,
          0.7386059817118935,
          0.7364978074357253,
          0.734427747297928,
          0.7324506950581845,
          0.7305365746064649,
          0.7286419807467526,
          0.726766730042994,
          0.7249107232231011,
          0.7230738171048516,
          0.7212558155241167,
          0.7195017801391208,
          0.7177846724236907,
          0.7160849302179737,
          0.7144024626317853,
          0.7127371626320163,
          0.7110888486797513,
          0.7095067520242914,
          0.708002441061547,
          0.7065794825785242,
          0.7051709544558873,
          0.7037767287230154,
          0.7023966571616458,
          0.7010306579878589,
          0.6996785679097633,
          0.6983403516405815,
          0.6970158121193554,
          0.6957899797092468,
          0.6945779681521744,
          0.6933783734878216,
          0.6921911580838574,
          0.6910161474035329,
          0.6898532630605314,
          0.6887023602686858,
          0.6875634045863076,
          0.686436238188714,
          0.6853207241542397,
          0.6842168062930893,
          0.6831243514951216,
          0.6820432629372822,
          0.6809734240662756,
          0.6799147510803167,
          0.6788671059022107,
          0.6778304057477285,
          0.6768045547423851,
          0.6757893970621164,
          0.6747849042325972,
          0.6737909001821204,
          0.6728073361714716,
          0.6718990455638794,
          0.6710293096264517,
          0.6701688308284552,
          0.6693175005155895,
          0.6684752544265968,
          0.6676419717137498,
          0.6668175925309497,
          0.6660020178648095,
          0.6651951009112965,
          0.6643994683994258,
          0.6636431561515082,
          0.6628946565789552,
          0.6621539072659075,
          0.6614329472614849,
          0.6607499341531674,
          0.6600840897994025,
          0.6594474563828336,
          0.6588170368108462,
          0.6581927815767465,
          0.6575746172698951,
          0.6569625274714198,
          0.656356379209153,
          0.6557561526579967,
          0.6551617614205353,
          0.6545914341523051,
          0.6540556108596198,
          0.6535249481977876,
          0.6529993435316114,
          0.6525049185199336,
          0.652023939839228,
          0.651547328932047,
          0.651075066395837,
          0.6506160729464754,
          0.650200564932015,
          0.6497887407639985,
          0.6493805895252557,
          0.6489760474201902,
          0.6485751024278422,
          0.6481776820085311,
          0.647783788818251,
          0.647393386259474,
          0.6470063825193161,
          0.6466228100302239,
          0.64624260221988,
          0.6458657152040196,
          0.645492138919185,
          0.6451218140625488,
          0.6447547270264535,
          0.6443908520529312,
          0.6440301059783253,
          0.643672512465128,
          0.6433180202216107,
          0.6429665785079398,
          0.6426181792440296,
          0.6422727697497913,
          0.6419303293119208,
          0.6415908184181958,
          0.6412542314116936,
          0.6409205054453874,
          0.6405941899264458,
          0.640282829766626,
          0.6399739539097739,
          0.6396675753944057,
          0.6393636266651411,
          0.6390620954423197,
          0.6387629711537056,
          0.6384662229104333,
          0.6381718143909224,
          0.6378797419043761,
          0.6375899577808759,
          0.6373024609338788,
          0.637017221647296,
          0.6367342125850853,
          0.6364534128269822,
          0.6361748022288242,
          0.635898341330129,
          0.6356240242756371,
          0.6353518288257104,
          0.6350817352242374,
          0.634813714203544,
          0.6345477455418577,
          0.6342838144803026,
          0.6340218880129791,
          0.6337619683690251,
          0.6335040045067895,
          0.6332611999381981,
          0.633046110058268,
          0.632832430200716,
          0.6326201580544821,
          0.6324092834547843,
          0.6321997832565318,
          0.6319931407791125,
          0.6318216864489651,
          0.6316513327696337,
          0.631482054647149,
          0.6313138443032429,
          0.6311638466623698,
          0.6310320519753887,
          0.6309010499775807,
          0.6307708546042908,
          0.6306414451896437,
          0.6305128183338808,
          0.630384978157889,
          0.6302579083646009,
          0.6301316133691757,
          0.630006089444167,
          0.6298813193331593,
          0.6297732195426746,
          0.6296695866576777,
          0.6295781758838459,
          0.6294951646580487,
          0.6294125454543802,
          0.6293303199845768,
          0.6292484794183208,
          0.6291670388551106,
          0.6290859814966465,
          0.6290053235462165,
          0.6289480568130846,
          0.6289014085123833,
          0.6288548872251098,
          0.6288084718671558,
          0.6287621818583218,
          0.6287160088511977,
          0.6286699649874707,
          0.628632492696182,
          0.6285979038414221,
          0.6285633189189131,
          0.6285287461208442,
          0.628494196950774,
          0.6284596707878207,
          0.628425171995403,
          0.6283907102144345,
          0.6283562724926323,
          0.6283218844068741,
          0.6282875440600212,
          0.6282532491065204,
          0.6282190137921577,
          0.6281848325289979,
          0.6281507145957732,
          0.6281166583712924,
          0.6280826628897395,
          0.628048759816082,
          0.6280149182787014,
          0.6279811541100813,
          0.6279474762095263,
          0.6279138822659768,
          0.6278803759357361,
          0.6278469664975367,
          0.6278136453625146,
          0.6277804145657824,
          0.6277472948378905,
          0.6277142778314292,
          0.6276813606834439,
          0.6276485505340745,
          0.6276158544199804,
          0.6275832668911997,
          0.6275507968125438,
          0.6275184477023422,
          0.6274862117305867,
          0.6274541054886166,
          0.6274221082458811,
          0.6273902565654147,
          0.6273585216796979,
          0.6273269098665345,
          0.6272954345093751,
          0.6272640965395421,
          0.6272328925421862,
          0.6272018214825045,
          0.6271708936395386,
          0.627140102597511,
          0.6271094518402578,
          0.6270789500256297,
          0.6270485793550175,
          0.6270183651465978,
          0.6269883059861401,
          0.6269583784526063,
          0.626928610037259,
          0.6268989870979472,
          0.6268695079099994,
          0.6268402051386928,
          0.6268110411861898,
          0.6267820341098006,
          0.6267531795461062,
          0.6267244892746128,
          0.6266959482389386
         ]
        },
        {
         "name": "avg lagos_transactions",
         "type": "scatter",
         "x": [
          0,
          1,
          2,
          3,
          4,
          5,
          6,
          7,
          8,
          9,
          10,
          11,
          12,
          13,
          14,
          15,
          16,
          17,
          18,
          19,
          20,
          21,
          22,
          23,
          24,
          25,
          26,
          27,
          28,
          29,
          30,
          31,
          32,
          33,
          34,
          35,
          36,
          37,
          38,
          39,
          40,
          41,
          42,
          43,
          44,
          45,
          46,
          47,
          48,
          49,
          50,
          51,
          52,
          53,
          54,
          55,
          56,
          57,
          58,
          59,
          60,
          61,
          62,
          63,
          64,
          65,
          66,
          67,
          68,
          69,
          70,
          71,
          72,
          73,
          74,
          75,
          76,
          77,
          78,
          79,
          80,
          81,
          82,
          83,
          84,
          85,
          86,
          87,
          88,
          89,
          90,
          91,
          92,
          93,
          94,
          95,
          96,
          97,
          98,
          99,
          100,
          101,
          102,
          103,
          104,
          105,
          106,
          107,
          108,
          109,
          110,
          111,
          112,
          113,
          114,
          115,
          116,
          117,
          118,
          119,
          120,
          121,
          122,
          123,
          124,
          125,
          126,
          127,
          128,
          129,
          130,
          131,
          132,
          133,
          134,
          135,
          136,
          137,
          138,
          139,
          140,
          141,
          142,
          143,
          144,
          145,
          146,
          147,
          148,
          149,
          150,
          151,
          152,
          153,
          154,
          155,
          156,
          157,
          158,
          159,
          160,
          161,
          162,
          163,
          164,
          165,
          166,
          167,
          168,
          169,
          170,
          171,
          172,
          173,
          174,
          175,
          176,
          177,
          178,
          179,
          180,
          181,
          182,
          183,
          184,
          185,
          186,
          187,
          188,
          189,
          190,
          191,
          192,
          193,
          194,
          195,
          196,
          197,
          198,
          199,
          200,
          201,
          202,
          203,
          204,
          205,
          206,
          207,
          208,
          209,
          210,
          211,
          212,
          213,
          214,
          215,
          216,
          217,
          218,
          219,
          220,
          221,
          222,
          223,
          224,
          225,
          226,
          227,
          228,
          229,
          230,
          231,
          232,
          233,
          234,
          235,
          236,
          237,
          238,
          239,
          240,
          241,
          242,
          243,
          244,
          245,
          246,
          247,
          248,
          249,
          250,
          251,
          252,
          253,
          254,
          255,
          256,
          257,
          258,
          259,
          260,
          261,
          262,
          263,
          264,
          265,
          266,
          267,
          268,
          269,
          270,
          271,
          272,
          273,
          274,
          275,
          276,
          277,
          278,
          279,
          280,
          281,
          282,
          283,
          284,
          285,
          286,
          287,
          288,
          289,
          290,
          291,
          292,
          293,
          294,
          295,
          296,
          297,
          298,
          299,
          300,
          301,
          302,
          303,
          304,
          305,
          306,
          307,
          308,
          309,
          310,
          311,
          312,
          313,
          314,
          315,
          316,
          317,
          318,
          319,
          320,
          321,
          322,
          323,
          324,
          325,
          326,
          327,
          328,
          329,
          330,
          331,
          332,
          333,
          334,
          335,
          336,
          337,
          338,
          339,
          340,
          341,
          342,
          343,
          344,
          345,
          346,
          347,
          348,
          349,
          350,
          351,
          352,
          353,
          354,
          355,
          356,
          357,
          358,
          359,
          360,
          361,
          362,
          363,
          364,
          365,
          366,
          367,
          368,
          369,
          370,
          371,
          372,
          373,
          374,
          375,
          376,
          377,
          378,
          379,
          380,
          381,
          382,
          383,
          384,
          385,
          386,
          387,
          388,
          389,
          390,
          391,
          392,
          393,
          394,
          395,
          396,
          397,
          398,
          399
         ],
         "y": [
          2.5170530806148945,
          2.49846779385633,
          2.4798883483529544,
          2.4613175499382294,
          2.442758151463713,
          2.424212883705167,
          2.40568378867357,
          2.387174025415095,
          2.3689405676768898,
          2.3508045211259976,
          2.3326942392347045,
          2.31461246602425,
          2.2965611618251724,
          2.278542847693189,
          2.26055990339893,
          2.2426148036389453,
          2.224708632334737,
          2.206844809026852,
          2.18902490109669,
          2.1712508644596307,
          2.1535242212416965,
          2.1358476006699947,
          2.1182225513615003,
          2.100650854832818,
          2.0831345133584973,
          2.0656744419802133,
          2.048310227807626,
          2.0313097733641534,
          2.0143695935658155,
          1.99749075136211,
          1.9806748902959275,
          1.9639230589675003,
          1.947236513489527,
          1.930616864291207,
          1.914064943629987,
          1.8977024649002867,
          1.8816293290361639,
          1.8659243749241463,
          1.8502879738801483,
          1.834956141722965,
          1.8197604143746373,
          1.804634662879276,
          1.7895800660842998,
          1.774597093100339,
          1.7596865342408319,
          1.7448497250913368,
          1.7301076277823473,
          1.7157002999007815,
          1.7013664733765415,
          1.6871067729546079,
          1.6729213487503818,
          1.6588112504678858,
          1.6447765277776567,
          1.630817582459152,
          1.616935396885221,
          1.6031300361794567,
          1.589401431906897,
          1.5757509869842732,
          1.5621782113289504,
          1.548683907396054,
          1.5352678191063693,
          1.5219308504636755,
          1.5086729175799536,
          1.4954942445245167,
          1.48239547701435,
          1.4693763468285514,
          1.4565621035881096,
          1.443956902273113,
          1.4314306175077987,
          1.4189832669528026,
          1.4066152126511522,
          1.3944115562020538,
          1.3824286323567299,
          1.371032767134607,
          1.3597142016158392,
          1.3484702760134917,
          1.33730065256791,
          1.326404764231894,
          1.3156499521369935,
          1.3049683306826134,
          1.2943600516398395,
          1.2838253600499896,
          1.2733640881370263,
          1.262976308751071,
          1.2526621289597264,
          1.2424214163082266,
          1.232254191216681,
          1.2223551121653133,
          1.2127529882248809,
          1.2032205073448148,
          1.1937578290227293,
          1.1843646381266597,
          1.175165832176084,
          1.1662401218597291,
          1.157607469424429,
          1.1492267121189252,
          1.1409999747388975,
          1.1328354044514757,
          1.1247325900949896,
          1.116691643704096,
          1.1087127556825207,
          1.1007955259064917,
          1.0930841424969722,
          1.0855894418932528,
          1.0782388712675237,
          1.0709463991654997,
          1.063711983091277,
          1.056535393180646,
          1.0495748006975967,
          1.042730090787723,
          1.0362082643035875,
          1.029842869324976,
          1.0235301411208668,
          1.0172696310007399,
          1.0110613602125471,
          1.0049050743327586,
          0.9990040708406591,
          0.9931669322364244,
          0.9874888459810124,
          0.9819133394814924,
          0.9765347642280557,
          0.9714085313921657,
          0.9663678416412117,
          0.961371517890133,
          0.9564195962880427,
          0.95151203185551,
          0.9466625203106545,
          0.942005460540715,
          0.9373907480772301,
          0.9328181276688275,
          0.9282875194287264,
          0.9237986729346346,
          0.9193514637342611,
          0.9151113534252501,
          0.9111871297274022,
          0.9072994402274589,
          0.903448155782023,
          0.8996330614280469,
          0.8958539624846191,
          0.8921107913446195,
          0.8884032910320042,
          0.8847313035668698,
          0.881094736782775,
          0.877548033500018,
          0.8741404532739101,
          0.8707691482508442,
          0.8675743006237496,
          0.8644108185267376,
          0.86127869664782,
          0.8582527236137962,
          0.8553935537205535,
          0.8525622432728341,
          0.8497586607127011,
          0.8469827373292445,
          0.8443330457645426,
          0.8419026635108715,
          0.8394965352770899,
          0.8371145639641961,
          0.8347827610473899,
          0.8325800709857942,
          0.830399637464126,
          0.8282413756975379,
          0.8261051445389193,
          0.8240966638687857,
          0.8222669518617535,
          0.8204879811822783,
          0.8187277348811394,
          0.8169862043004863,
          0.8152631912755711,
          0.8135585656281941,
          0.8118722176864985,
          0.8102039586162092,
          0.8085536964405984,
          0.8069212443605032,
          0.8053065083813302,
          0.8037093642577495,
          0.802129629174589,
          0.8006072693399747,
          0.7991609830546097,
          0.7977618788973787,
          0.7963960822862518,
          0.7950447566342761,
          0.7937077503600792,
          0.7923849670890215,
          0.7911073135455594,
          0.789883599678883,
          0.7886727449451753,
          0.7874838303964161,
          0.7863764505160618,
          0.7852806065317647,
          0.7841961837528747,
          0.7831231298873536,
          0.7821654482939578,
          0.781396278568756,
          0.78063520286457,
          0.7798821179080742,
          0.7791370163176748,
          0.7783997701917383,
          0.7776703371033474,
          0.7769486252999818,
          0.7762345890088616,
          0.7755595793416252,
          0.7749288724135067,
          0.7743507892935975,
          0.7738037001625314,
          0.7732620790332615,
          0.7727258526417451,
          0.7722272712056173,
          0.7717872871715602,
          0.7713516667286996,
          0.7709203531870853,
          0.7704932909433102,
          0.7700704630783476,
          0.769651816731018,
          0.769237296263421,
          0.7688268807897854,
          0.7684205151378721,
          0.7680935588096305,
          0.7677742619878166,
          0.7674579900327382,
          0.7671447120900233,
          0.7668344024793143,
          0.7665270370207177,
          0.766222557230625,
          0.7659209420680448,
          0.7656221782875007,
          0.7653262337928569,
          0.7650330559471415,
          0.7647426317808254,
          0.764454940839305,
          0.7641699181887012,
          0.763887577453918,
          0.7636078619450055,
          0.7633307457746455,
          0.7630562036764016,
          0.7627842212665137,
          0.7625147420102524,
          0.762247765045282,
          0.7619832342163005,
          0.7617211398996413,
          0.7614614481882641,
          0.7612041531148057,
          0.7609491932119761,
          0.7606965498533239,
          0.7604462239701716,
          0.7601981531984001,
          0.7599523216020455,
          0.759708707484741,
          0.7594672916336469,
          0.7592280389344528,
          0.7589909245863834,
          0.7587559175798463,
          0.7585230044968979,
          0.758292145911549,
          0.7580633369947198,
          0.7578365452191069,
          0.7576117152917441,
          0.7573888748073744,
          0.7571679646787545,
          0.7569572527619378,
          0.756771367329796,
          0.7566153945791015,
          0.7564848428153949,
          0.7563551212740232,
          0.7562262178132998,
          0.7560981191532546,
          0.7559708292778786,
          0.7558443195231326,
          0.7557185955114454,
          0.7555936363570459,
          0.7554694371359972,
          0.7553459889921116,
          0.7552232743854804,
          0.7551012941956863,
          0.7549800326937256,
          0.7548594811139557,
          0.7547396334545202,
          0.7546204795571042,
          0.7545020143296154,
          0.7543842069866685,
          0.7542670729770081,
          0.7541506018879304,
          0.7540347677890002,
          0.7539195842275118,
          0.7538050287137495,
          0.753691087691796,
          0.7535777598250311,
          0.7534893125478139,
          0.7534219469750602,
          0.753366756764795,
          0.7533115298880152,
          0.7532562647580229,
          0.7532009620991802,
          0.7531456311729727,
          0.7530902592858187,
          0.7530578987924247,
          0.753041109791585,
          0.7530492341840647,
          0.7530567043741757,
          0.7530635199652439,
          0.7530696911845708,
          0.7530752314673467,
          0.7530801465049876,
          0.7530844549239447,
          0.7530881416333431,
          0.7530912374185681,
          0.7530937418312048,
          0.7530956601315012,
          0.753097003805769,
          0.7530977757514564,
          0.7530979971302818,
          0.7530976698566304,
          0.7531152382604284,
          0.7531325661723977,
          0.7531636402330077,
          0.7531937977687241,
          0.7532230514731284,
          0.7532514177995864,
          0.7532789047505732,
          0.7533055406451942,
          0.7533313190331777,
          0.7533562565058634,
          0.7533803780709868,
          0.7534036896269243,
          0.7534261942780844,
          0.7534479200331313,
          0.7534688609591953,
          0.7534890388906166,
          0.7535084582770476,
          0.7535271482309421,
          0.7535451018881079,
          0.7535623374955686,
          0.753578868229814,
          0.7535946946686091,
          0.7536098372148169,
          0.7536365212115874,
          0.7536630069821832,
          0.753688661685355,
          0.7537134975317763,
          0.753737522855922,
          0.7537607639072912,
          0.753783220793676,
          0.7538049083300039,
          0.7538258429459262,
          0.7538460309429612,
          0.7538654839992903,
          0.753884213954783,
          0.7539022337703449,
          0.7539195526018256,
          0.7539361870384086,
          0.7539521370024835,
          0.7539674315698549,
          0.753982057900344,
          0.7539960390528079,
          0.7540209774225539,
          0.7540672671037005,
          0.754112749379915,
          0.7541574357030157,
          0.7542013415950457,
          0.75426056743448,
          0.7543209524585861,
          0.7543805923556456,
          0.7544394973745185,
          0.7544976776476496,
          0.7545551376678079,
          0.7546119039043883,
          0.7546679639440681,
          0.7547233225469404,
          0.7547780171211287,
          0.754832042005399,
          0.754885403279218,
          0.7549381100962796,
          0.754990161645988,
          0.7550415970956316,
          0.7550924020053986,
          0.7551425906641922,
          0.7551921497446136,
          0.7552411253643769,
          0.7552895027085548,
          0.7553372981054738,
          0.755384510442721,
          0.7554311626670498,
          0.7554772342548701,
          0.7555227531415475,
          0.7555677326760388,
          0.75561216113489,
          0.7556560665871288,
          0.7556994343126844,
          0.7557422890260983,
          0.7557846276919491,
          0.7558264535267488,
          0.7558677972124023,
          0.7559086296795725,
          0.7559489898109769,
          0.7559888523746726,
          0.7560282511914662,
          0.7560671848902439,
          0.7561056573170233,
          0.7561436682734668,
          0.7561812331005271
         ]
        },
        {
         "name": "avg rivers_transactions",
         "type": "scatter",
         "x": [
          0,
          1,
          2,
          3,
          4,
          5,
          6,
          7,
          8,
          9,
          10,
          11,
          12,
          13,
          14,
          15,
          16,
          17,
          18,
          19,
          20,
          21,
          22,
          23,
          24,
          25,
          26,
          27,
          28,
          29,
          30,
          31,
          32,
          33,
          34,
          35,
          36,
          37,
          38,
          39,
          40,
          41,
          42,
          43,
          44,
          45,
          46,
          47,
          48,
          49,
          50,
          51,
          52,
          53,
          54,
          55,
          56,
          57,
          58,
          59,
          60,
          61,
          62,
          63,
          64,
          65,
          66,
          67,
          68,
          69,
          70,
          71,
          72,
          73,
          74,
          75,
          76,
          77,
          78,
          79,
          80,
          81,
          82,
          83,
          84,
          85,
          86,
          87,
          88,
          89,
          90,
          91,
          92,
          93,
          94,
          95,
          96,
          97,
          98,
          99,
          100,
          101,
          102,
          103,
          104,
          105,
          106,
          107,
          108,
          109,
          110,
          111,
          112,
          113,
          114,
          115,
          116,
          117,
          118,
          119,
          120,
          121,
          122,
          123,
          124,
          125,
          126,
          127,
          128,
          129,
          130,
          131,
          132,
          133,
          134,
          135,
          136,
          137,
          138,
          139,
          140,
          141,
          142,
          143,
          144,
          145,
          146,
          147,
          148,
          149,
          150,
          151,
          152,
          153,
          154,
          155,
          156,
          157,
          158,
          159,
          160,
          161,
          162,
          163,
          164,
          165,
          166,
          167,
          168,
          169,
          170,
          171,
          172,
          173,
          174,
          175,
          176,
          177,
          178,
          179,
          180,
          181,
          182,
          183,
          184,
          185,
          186,
          187,
          188,
          189,
          190,
          191,
          192,
          193,
          194,
          195,
          196,
          197,
          198,
          199,
          200,
          201,
          202,
          203,
          204,
          205,
          206,
          207,
          208,
          209,
          210,
          211,
          212,
          213,
          214,
          215,
          216,
          217,
          218,
          219,
          220,
          221,
          222,
          223,
          224,
          225,
          226,
          227,
          228,
          229,
          230,
          231,
          232,
          233,
          234,
          235,
          236,
          237,
          238,
          239,
          240,
          241,
          242,
          243,
          244,
          245,
          246,
          247,
          248,
          249,
          250,
          251,
          252,
          253,
          254,
          255,
          256,
          257,
          258,
          259,
          260,
          261,
          262,
          263,
          264,
          265,
          266,
          267,
          268,
          269,
          270,
          271,
          272,
          273,
          274,
          275,
          276,
          277,
          278,
          279,
          280,
          281,
          282,
          283,
          284,
          285,
          286,
          287,
          288,
          289,
          290,
          291,
          292,
          293,
          294,
          295,
          296,
          297,
          298,
          299,
          300,
          301,
          302,
          303,
          304,
          305,
          306,
          307,
          308,
          309,
          310,
          311,
          312,
          313,
          314,
          315,
          316,
          317,
          318,
          319,
          320,
          321,
          322,
          323,
          324,
          325,
          326,
          327,
          328,
          329,
          330,
          331,
          332,
          333,
          334,
          335,
          336,
          337,
          338,
          339,
          340,
          341,
          342,
          343,
          344,
          345,
          346,
          347,
          348,
          349,
          350,
          351,
          352,
          353,
          354,
          355,
          356,
          357,
          358,
          359,
          360,
          361,
          362,
          363,
          364,
          365,
          366,
          367,
          368,
          369,
          370,
          371,
          372,
          373,
          374,
          375,
          376,
          377,
          378,
          379,
          380,
          381,
          382,
          383,
          384,
          385,
          386,
          387,
          388,
          389,
          390,
          391,
          392,
          393,
          394,
          395,
          396,
          397,
          398,
          399
         ],
         "y": [
          2.5907503670891248,
          2.5720153468401463,
          2.5532862561495335,
          2.5345661083632165,
          2.5158575525765183,
          2.497163829516052,
          2.4784864403358333,
          2.459829129090586,
          2.441193602239215,
          2.4225828598821724,
          2.4039992641294563,
          2.3857156037989125,
          2.3675709896322292,
          2.349460394264656,
          2.3313860164453124,
          2.3133504202777124,
          2.295354866289715,
          2.27740279830524,
          2.2594958565558083,
          2.241636056561446,
          2.2238250970545277,
          2.20606565914028,
          2.188359345521373,
          2.170707931091673,
          2.1531136421950414,
          2.1355774523740103,
          2.1181012711847913,
          2.1006871461573113,
          2.0833366005213816,
          2.0660505824323696,
          2.048831024626072,
          2.031678969079983,
          2.0145957767668237,
          1.9975830029263077,
          1.9806417060927748,
          1.9637725882764856,
          1.9470454483370536,
          1.9306226556197912,
          1.9142736093011719,
          1.8981114281580318,
          1.8822321061766725,
          1.866427686261791,
          1.8506993549873345,
          1.8350477061921713,
          1.8194735710299592,
          1.803978182433813,
          1.7885611882948127,
          1.773223948481891,
          1.7579668879540895,
          1.7427907583922062,
          1.72769568121311,
          1.712682711639771,
          1.697751797794073,
          1.6829035997422668,
          1.6681389331849548,
          1.653523459452046,
          1.6391977159799114,
          1.6249550580712244,
          1.6107949106515422,
          1.5967180938366252,
          1.582724408944324,
          1.5688147423177823,
          1.5549889990310843,
          1.5412474682771362,
          1.52759080791461,
          1.5140186581080575,
          1.5005316314607724,
          1.4871297224538058,
          1.473813295337765,
          1.4605823434899117,
          1.447437365823198,
          1.4343779870491202,
          1.421404947810579,
          1.408517889375916,
          1.3957170854849812,
          1.3830028407837371,
          1.3703747435586184,
          1.3580483365952536,
          1.345859704060243,
          1.3339789679520635,
          1.3221808041451129,
          1.310465537705463,
          1.2988329809888621,
          1.2872832096049054,
          1.2758163057859273,
          1.2645900558090235,
          1.2535355372109263,
          1.242562430831064,
          1.2319826763822481,
          1.2216592468330663,
          1.2114134308098048,
          1.2015930889521036,
          1.1919387723148527,
          1.1823584498770363,
          1.173048278104979,
          1.163821327874557,
          1.1546660682344285,
          1.1455826266723057,
          1.1365875902755316,
          1.1278524065111444,
          1.1191870164744202,
          1.1108250803509248,
          1.102911242094149,
          1.0950767672965467,
          1.0873059452925111,
          1.0795987887756235,
          1.0719552381412394,
          1.0643750328949853,
          1.0568582922461505,
          1.0494045459803152,
          1.0422216272177702,
          1.035242489333586,
          1.028408107946666,
          1.0217757661158473,
          1.0152010702549492,
          1.0087321180424935,
          1.002529298044914,
          0.9964898908026867,
          0.9905038349605343,
          0.9845707359136329,
          0.9786906121504602,
          0.9728709124491679,
          0.9672710351005153,
          0.9617215187096442,
          0.9563469523898378,
          0.9510706435464548,
          0.9459802797476987,
          0.9409771798315408,
          0.9360205734699397,
          0.9311101549131435,
          0.9262458560021372,
          0.9214274352829198,
          0.9166546877265512,
          0.9119274342431498,
          0.907245486912516,
          0.9026085954503313,
          0.8980165847679515,
          0.8935376561328904,
          0.8893201969634456,
          0.8851575889039774,
          0.8811374522640102,
          0.8772844964531428,
          0.8735632504712678,
          0.8699526847647322,
          0.8663776663301194,
          0.8629380759818006,
          0.8595612378860386,
          0.8562178702818447,
          0.8529480359043738,
          0.8497594587342006,
          0.8466026320752673,
          0.8434773157153367,
          0.8403833657478244,
          0.8373207103229182,
          0.8342889265511825,
          0.8313418506331284,
          0.8286114883433707,
          0.825908878604001,
          0.8232336926581502,
          0.8205859007034959,
          0.8179652257578058,
          0.8153715263980225,
          0.8128046637880951,
          0.8102643797792036,
          0.8077505336726524,
          0.805282428033071,
          0.8029219831721932,
          0.8006209440301041,
          0.7984338881840487,
          0.796277085045792,
          0.7942295217636399,
          0.7922034349525257,
          0.7902810937164497,
          0.7884229245380058,
          0.7866415227092849,
          0.7849315261246199,
          0.7832395456647201,
          0.7816815923946941,
          0.7801408048766697,
          0.7786163675887784,
          0.7771081630119085,
          0.7757027506539063,
          0.774319679233537,
          0.7729513692069885,
          0.7716393563579014,
          0.7703874175188378,
          0.7691487214831504,
          0.76792314567844,
          0.7667105786736854,
          0.7655783932960929,
          0.764461208451673,
          0.7633558006813638,
          0.7622620141438545,
          0.7611797837155518,
          0.7601089856685269,
          0.7590494991550524,
          0.7580012911821639,
          0.7569641996134996,
          0.7559381638785988,
          0.7549230502119451,
          0.7539188062525137,
          0.7529253050989807,
          0.7519424292149876,
          0.7509701156672736,
          0.7500082327944217,
          0.749056712782351,
          0.748115436232058,
          0.7471843404344894,
          0.7462632658575375,
          0.7453521807672481,
          0.7444509619013535,
          0.743559482703464,
          0.7426777167171196,
          0.7418055068937397,
          0.7409427927490969,
          0.7400894460538703,
          0.7392454177756508,
          0.7384105807544137,
          0.7375848516540351,
          0.7367689929971554,
          0.7359912509823024,
          0.7352217320111352,
          0.7344603555932379,
          0.7337070103838225,
          0.7329616151163713,
          0.7322241246562327,
          0.7314944485443898,
          0.730772496821981,
          0.7300581554709774,
          0.7293514311313642,
          0.7286598374860646,
          0.7280229484731892,
          0.7273926479121541,
          0.7267688796821508,
          0.7261515680356098,
          0.7255406900688945,
          0.7249361133617322,
          0.7243721153879265,
          0.7238560988687465,
          0.7233454679293146,
          0.7228401205208224,
          0.7223400501757518,
          0.7218451451785106,
          0.7213553677070543,
          0.7208706832938243,
          0.7203909957970116,
          0.7199363495497488,
          0.7195536395774644,
          0.7191746638292764,
          0.7187993594236645,
          0.7184276973257849,
          0.7180596284256185,
          0.7176951291900239,
          0.717334130019885,
          0.7169766238785426,
          0.7166225708915929,
          0.7162718858775138,
          0.7159245931024325,
          0.7155806198024612,
          0.7152399238956169,
          0.7149024953443116,
          0.7145682733711242,
          0.7142372343135626,
          0.7139093467826065,
          0.7135845539675791,
          0.7132628423815497,
          0.7129441600256745,
          0.712628490325861,
          0.7123157904240242,
          0.7120060084937871,
          0.7116991304014678,
          0.7113951142116802,
          0.7110939418584908,
          0.7107955595925147,
          0.7104999375596891,
          0.7102323061737953,
          0.7099898451718119,
          0.7097496041668989,
          0.7095115350148533,
          0.7092756202275068,
          0.7090418288815004,
          0.7088101597436941,
          0.7085805491564654,
          0.70835300889932,
          0.7081274883876447,
          0.7079039824646721,
          0.7076824573699588,
          0.7074628914243848,
          0.7072452633110112,
          0.7070295516180423,
          0.7068157176266041,
          0.7066037509627981,
          0.7063936319826167,
          0.7061853356869473,
          0.7059788473126026,
          0.7057741270024257,
          0.7055711659950856,
          0.7053699492514475,
          0.7051926469529411,
          0.7050238998562343,
          0.704868603334628,
          0.704714386198639,
          0.704561219784228,
          0.7044090953818043,
          0.7042580155438816,
          0.7041079444490342,
          0.7039717849887241,
          0.7038465084430406,
          0.7037219845439711,
          0.7035981831442589,
          0.7034751063480031,
          0.7033527459112745,
          0.7032311014201517,
          0.7031101513852286,
          0.7029898944957551,
          0.702870326957454,
          0.702751444734594,
          0.7026332414113975,
          0.7025157015003151,
          0.7023988163090025,
          0.702282589942178,
          0.7021670099132201,
          0.7020520754977672,
          0.7019377675864594,
          0.7018240974241547,
          0.701711035794919,
          0.7015985941850639,
          0.7014867659373578,
          0.701375534063787,
          0.7012649029967571,
          0.7011548655961285,
          0.7010454050808479,
          0.7009365213129418,
          0.7008282144821238,
          0.7007204757063363,
          0.7006132910847275,
          0.7005066674814894,
          0.7004005887881911,
          0.700295060472041,
          0.7001900688908881,
          0.7000856046797663,
          0.6999816741854666,
          0.6998782649041212,
          0.6997753685400604,
          0.6996729875768111,
          0.6995711078030806,
          0.6994697322887841,
          0.6993688561703482,
          0.699268468271902,
          0.6991685622639012,
          0.6990691397330437,
          0.6989701903313009,
          0.6988754893293924,
          0.6987836105889995,
          0.6986920882519585,
          0.6986009118667605,
          0.6985100823216115,
          0.6984195952530925,
          0.6983294476085352,
          0.6982396414144284,
          0.6981501686682968,
          0.6980610268478084,
          0.6979722211959642,
          0.6978837389113908,
          0.6977955750572159,
          0.6977077447372498,
          0.6976202280875891,
          0.6975330361978712,
          0.6974461529079248,
          0.6973595817490145,
          0.6972733288868409,
          0.6971873771911048,
          0.6971017301628892,
          0.6970163952010348,
          0.6969313544853738,
          0.6968466113014052,
          0.696762172414153,
          0.6966780245608936,
          0.6965941623390938,
          0.6965105909357029,
          0.6964273152099828,
          0.6963443213645619,
          0.6962616099513352,
          0.6961791885502335,
          0.6960970322397547,
          0.6960151588185078,
          0.6959335636385036,
          0.6958522348340024,
          0.6957711815888795,
          0.6956903944605591,
          0.695609883348655,
          0.6955296244182081,
          0.6954496382617953,
          0.6953699010444573,
          0.6952904374634891,
          0.6952112232010235,
          0.6951322620168441,
          0.6950535583950967,
          0.6949751135947916,
          0.6948969086617895
         ]
        }
       ],
       "layout": {
        "template": {
         "data": {
          "bar": [
           {
            "error_x": {
             "color": "#2a3f5f"
            },
            "error_y": {
             "color": "#2a3f5f"
            },
            "marker": {
             "line": {
              "color": "#E5ECF6",
              "width": 0.5
             },
             "pattern": {
              "fillmode": "overlay",
              "size": 10,
              "solidity": 0.2
             }
            },
            "type": "bar"
           }
          ],
          "barpolar": [
           {
            "marker": {
             "line": {
              "color": "#E5ECF6",
              "width": 0.5
             },
             "pattern": {
              "fillmode": "overlay",
              "size": 10,
              "solidity": 0.2
             }
            },
            "type": "barpolar"
           }
          ],
          "carpet": [
           {
            "aaxis": {
             "endlinecolor": "#2a3f5f",
             "gridcolor": "white",
             "linecolor": "white",
             "minorgridcolor": "white",
             "startlinecolor": "#2a3f5f"
            },
            "baxis": {
             "endlinecolor": "#2a3f5f",
             "gridcolor": "white",
             "linecolor": "white",
             "minorgridcolor": "white",
             "startlinecolor": "#2a3f5f"
            },
            "type": "carpet"
           }
          ],
          "choropleth": [
           {
            "colorbar": {
             "outlinewidth": 0,
             "ticks": ""
            },
            "type": "choropleth"
           }
          ],
          "contour": [
           {
            "colorbar": {
             "outlinewidth": 0,
             "ticks": ""
            },
            "colorscale": [
             [
              0,
              "#0d0887"
             ],
             [
              0.1111111111111111,
              "#46039f"
             ],
             [
              0.2222222222222222,
              "#7201a8"
             ],
             [
              0.3333333333333333,
              "#9c179e"
             ],
             [
              0.4444444444444444,
              "#bd3786"
             ],
             [
              0.5555555555555556,
              "#d8576b"
             ],
             [
              0.6666666666666666,
              "#ed7953"
             ],
             [
              0.7777777777777778,
              "#fb9f3a"
             ],
             [
              0.8888888888888888,
              "#fdca26"
             ],
             [
              1,
              "#f0f921"
             ]
            ],
            "type": "contour"
           }
          ],
          "contourcarpet": [
           {
            "colorbar": {
             "outlinewidth": 0,
             "ticks": ""
            },
            "type": "contourcarpet"
           }
          ],
          "heatmap": [
           {
            "colorbar": {
             "outlinewidth": 0,
             "ticks": ""
            },
            "colorscale": [
             [
              0,
              "#0d0887"
             ],
             [
              0.1111111111111111,
              "#46039f"
             ],
             [
              0.2222222222222222,
              "#7201a8"
             ],
             [
              0.3333333333333333,
              "#9c179e"
             ],
             [
              0.4444444444444444,
              "#bd3786"
             ],
             [
              0.5555555555555556,
              "#d8576b"
             ],
             [
              0.6666666666666666,
              "#ed7953"
             ],
             [
              0.7777777777777778,
              "#fb9f3a"
             ],
             [
              0.8888888888888888,
              "#fdca26"
             ],
             [
              1,
              "#f0f921"
             ]
            ],
            "type": "heatmap"
           }
          ],
          "heatmapgl": [
           {
            "colorbar": {
             "outlinewidth": 0,
             "ticks": ""
            },
            "colorscale": [
             [
              0,
              "#0d0887"
             ],
             [
              0.1111111111111111,
              "#46039f"
             ],
             [
              0.2222222222222222,
              "#7201a8"
             ],
             [
              0.3333333333333333,
              "#9c179e"
             ],
             [
              0.4444444444444444,
              "#bd3786"
             ],
             [
              0.5555555555555556,
              "#d8576b"
             ],
             [
              0.6666666666666666,
              "#ed7953"
             ],
             [
              0.7777777777777778,
              "#fb9f3a"
             ],
             [
              0.8888888888888888,
              "#fdca26"
             ],
             [
              1,
              "#f0f921"
             ]
            ],
            "type": "heatmapgl"
           }
          ],
          "histogram": [
           {
            "marker": {
             "pattern": {
              "fillmode": "overlay",
              "size": 10,
              "solidity": 0.2
             }
            },
            "type": "histogram"
           }
          ],
          "histogram2d": [
           {
            "colorbar": {
             "outlinewidth": 0,
             "ticks": ""
            },
            "colorscale": [
             [
              0,
              "#0d0887"
             ],
             [
              0.1111111111111111,
              "#46039f"
             ],
             [
              0.2222222222222222,
              "#7201a8"
             ],
             [
              0.3333333333333333,
              "#9c179e"
             ],
             [
              0.4444444444444444,
              "#bd3786"
             ],
             [
              0.5555555555555556,
              "#d8576b"
             ],
             [
              0.6666666666666666,
              "#ed7953"
             ],
             [
              0.7777777777777778,
              "#fb9f3a"
             ],
             [
              0.8888888888888888,
              "#fdca26"
             ],
             [
              1,
              "#f0f921"
             ]
            ],
            "type": "histogram2d"
           }
          ],
          "histogram2dcontour": [
           {
            "colorbar": {
             "outlinewidth": 0,
             "ticks": ""
            },
            "colorscale": [
             [
              0,
              "#0d0887"
             ],
             [
              0.1111111111111111,
              "#46039f"
             ],
             [
              0.2222222222222222,
              "#7201a8"
             ],
             [
              0.3333333333333333,
              "#9c179e"
             ],
             [
              0.4444444444444444,
              "#bd3786"
             ],
             [
              0.5555555555555556,
              "#d8576b"
             ],
             [
              0.6666666666666666,
              "#ed7953"
             ],
             [
              0.7777777777777778,
              "#fb9f3a"
             ],
             [
              0.8888888888888888,
              "#fdca26"
             ],
             [
              1,
              "#f0f921"
             ]
            ],
            "type": "histogram2dcontour"
           }
          ],
          "mesh3d": [
           {
            "colorbar": {
             "outlinewidth": 0,
             "ticks": ""
            },
            "type": "mesh3d"
           }
          ],
          "parcoords": [
           {
            "line": {
             "colorbar": {
              "outlinewidth": 0,
              "ticks": ""
             }
            },
            "type": "parcoords"
           }
          ],
          "pie": [
           {
            "automargin": true,
            "type": "pie"
           }
          ],
          "scatter": [
           {
            "fillpattern": {
             "fillmode": "overlay",
             "size": 10,
             "solidity": 0.2
            },
            "type": "scatter"
           }
          ],
          "scatter3d": [
           {
            "line": {
             "colorbar": {
              "outlinewidth": 0,
              "ticks": ""
             }
            },
            "marker": {
             "colorbar": {
              "outlinewidth": 0,
              "ticks": ""
             }
            },
            "type": "scatter3d"
           }
          ],
          "scattercarpet": [
           {
            "marker": {
             "colorbar": {
              "outlinewidth": 0,
              "ticks": ""
             }
            },
            "type": "scattercarpet"
           }
          ],
          "scattergeo": [
           {
            "marker": {
             "colorbar": {
              "outlinewidth": 0,
              "ticks": ""
             }
            },
            "type": "scattergeo"
           }
          ],
          "scattergl": [
           {
            "marker": {
             "colorbar": {
              "outlinewidth": 0,
              "ticks": ""
             }
            },
            "type": "scattergl"
           }
          ],
          "scattermapbox": [
           {
            "marker": {
             "colorbar": {
              "outlinewidth": 0,
              "ticks": ""
             }
            },
            "type": "scattermapbox"
           }
          ],
          "scatterpolar": [
           {
            "marker": {
             "colorbar": {
              "outlinewidth": 0,
              "ticks": ""
             }
            },
            "type": "scatterpolar"
           }
          ],
          "scatterpolargl": [
           {
            "marker": {
             "colorbar": {
              "outlinewidth": 0,
              "ticks": ""
             }
            },
            "type": "scatterpolargl"
           }
          ],
          "scatterternary": [
           {
            "marker": {
             "colorbar": {
              "outlinewidth": 0,
              "ticks": ""
             }
            },
            "type": "scatterternary"
           }
          ],
          "surface": [
           {
            "colorbar": {
             "outlinewidth": 0,
             "ticks": ""
            },
            "colorscale": [
             [
              0,
              "#0d0887"
             ],
             [
              0.1111111111111111,
              "#46039f"
             ],
             [
              0.2222222222222222,
              "#7201a8"
             ],
             [
              0.3333333333333333,
              "#9c179e"
             ],
             [
              0.4444444444444444,
              "#bd3786"
             ],
             [
              0.5555555555555556,
              "#d8576b"
             ],
             [
              0.6666666666666666,
              "#ed7953"
             ],
             [
              0.7777777777777778,
              "#fb9f3a"
             ],
             [
              0.8888888888888888,
              "#fdca26"
             ],
             [
              1,
              "#f0f921"
             ]
            ],
            "type": "surface"
           }
          ],
          "table": [
           {
            "cells": {
             "fill": {
              "color": "#EBF0F8"
             },
             "line": {
              "color": "white"
             }
            },
            "header": {
             "fill": {
              "color": "#C8D4E3"
             },
             "line": {
              "color": "white"
             }
            },
            "type": "table"
           }
          ]
         },
         "layout": {
          "annotationdefaults": {
           "arrowcolor": "#2a3f5f",
           "arrowhead": 0,
           "arrowwidth": 1
          },
          "autotypenumbers": "strict",
          "coloraxis": {
           "colorbar": {
            "outlinewidth": 0,
            "ticks": ""
           }
          },
          "colorscale": {
           "diverging": [
            [
             0,
             "#8e0152"
            ],
            [
             0.1,
             "#c51b7d"
            ],
            [
             0.2,
             "#de77ae"
            ],
            [
             0.3,
             "#f1b6da"
            ],
            [
             0.4,
             "#fde0ef"
            ],
            [
             0.5,
             "#f7f7f7"
            ],
            [
             0.6,
             "#e6f5d0"
            ],
            [
             0.7,
             "#b8e186"
            ],
            [
             0.8,
             "#7fbc41"
            ],
            [
             0.9,
             "#4d9221"
            ],
            [
             1,
             "#276419"
            ]
           ],
           "sequential": [
            [
             0,
             "#0d0887"
            ],
            [
             0.1111111111111111,
             "#46039f"
            ],
            [
             0.2222222222222222,
             "#7201a8"
            ],
            [
             0.3333333333333333,
             "#9c179e"
            ],
            [
             0.4444444444444444,
             "#bd3786"
            ],
            [
             0.5555555555555556,
             "#d8576b"
            ],
            [
             0.6666666666666666,
             "#ed7953"
            ],
            [
             0.7777777777777778,
             "#fb9f3a"
            ],
            [
             0.8888888888888888,
             "#fdca26"
            ],
            [
             1,
             "#f0f921"
            ]
           ],
           "sequentialminus": [
            [
             0,
             "#0d0887"
            ],
            [
             0.1111111111111111,
             "#46039f"
            ],
            [
             0.2222222222222222,
             "#7201a8"
            ],
            [
             0.3333333333333333,
             "#9c179e"
            ],
            [
             0.4444444444444444,
             "#bd3786"
            ],
            [
             0.5555555555555556,
             "#d8576b"
            ],
            [
             0.6666666666666666,
             "#ed7953"
            ],
            [
             0.7777777777777778,
             "#fb9f3a"
            ],
            [
             0.8888888888888888,
             "#fdca26"
            ],
            [
             1,
             "#f0f921"
            ]
           ]
          },
          "colorway": [
           "#636efa",
           "#EF553B",
           "#00cc96",
           "#ab63fa",
           "#FFA15A",
           "#19d3f3",
           "#FF6692",
           "#B6E880",
           "#FF97FF",
           "#FECB52"
          ],
          "font": {
           "color": "#2a3f5f"
          },
          "geo": {
           "bgcolor": "white",
           "lakecolor": "white",
           "landcolor": "#E5ECF6",
           "showlakes": true,
           "showland": true,
           "subunitcolor": "white"
          },
          "hoverlabel": {
           "align": "left"
          },
          "hovermode": "closest",
          "mapbox": {
           "style": "light"
          },
          "paper_bgcolor": "white",
          "plot_bgcolor": "#E5ECF6",
          "polar": {
           "angularaxis": {
            "gridcolor": "white",
            "linecolor": "white",
            "ticks": ""
           },
           "bgcolor": "#E5ECF6",
           "radialaxis": {
            "gridcolor": "white",
            "linecolor": "white",
            "ticks": ""
           }
          },
          "scene": {
           "xaxis": {
            "backgroundcolor": "#E5ECF6",
            "gridcolor": "white",
            "gridwidth": 2,
            "linecolor": "white",
            "showbackground": true,
            "ticks": "",
            "zerolinecolor": "white"
           },
           "yaxis": {
            "backgroundcolor": "#E5ECF6",
            "gridcolor": "white",
            "gridwidth": 2,
            "linecolor": "white",
            "showbackground": true,
            "ticks": "",
            "zerolinecolor": "white"
           },
           "zaxis": {
            "backgroundcolor": "#E5ECF6",
            "gridcolor": "white",
            "gridwidth": 2,
            "linecolor": "white",
            "showbackground": true,
            "ticks": "",
            "zerolinecolor": "white"
           }
          },
          "shapedefaults": {
           "line": {
            "color": "#2a3f5f"
           }
          },
          "ternary": {
           "aaxis": {
            "gridcolor": "white",
            "linecolor": "white",
            "ticks": ""
           },
           "baxis": {
            "gridcolor": "white",
            "linecolor": "white",
            "ticks": ""
           },
           "bgcolor": "#E5ECF6",
           "caxis": {
            "gridcolor": "white",
            "linecolor": "white",
            "ticks": ""
           }
          },
          "title": {
           "x": 0.05
          },
          "xaxis": {
           "automargin": true,
           "gridcolor": "white",
           "linecolor": "white",
           "ticks": "",
           "title": {
            "standoff": 15
           },
           "zerolinecolor": "white",
           "zerolinewidth": 2
          },
          "yaxis": {
           "automargin": true,
           "gridcolor": "white",
           "linecolor": "white",
           "ticks": "",
           "title": {
            "standoff": 15
           },
           "zerolinecolor": "white",
           "zerolinewidth": 2
          }
         }
        },
        "title": {
         "text": "ALL"
        }
       }
      }
     },
     "metadata": {},
     "output_type": "display_data"
    }
   ],
   "source": [
    "def get_line_mode(avg):\n",
    "    return {} if avg else {\"dash\": \"dot\"}\n",
    "\n",
    "fig = go.Figure()\n",
    "fig.update_layout(title_text=f\"ALL\")\n",
    "for (stage, dataset), m in metrics.items():\n",
    "    s = pd.Series(m)\n",
    "    d = \"dot\" if dataset=='local' else 'solid'\n",
    "    fig.add_trace(go.Scatter(x=s.index, y=s,line=get_line_mode(stage=='avg'),name=f\"{stage} {dataset}\")\n",
    "                  )\n",
    "fig.show()"
   ]
  },
  {
   "cell_type": "code",
   "execution_count": 22,
   "metadata": {},
   "outputs": [
    {
     "name": "stderr",
     "output_type": "stream",
     "text": [
      "Rolling: 100%|██████████| 20/20 [00:00<00:00, 45.56it/s]\n",
      "Feature Extraction: 100%|██████████| 20/20 [00:00<00:00, 64.45it/s]\n"
     ]
    },
    {
     "data": {
      "image/png": "[encoded data removed]",
      "text/plain": [
       "<Figure size 640x480 with 1 Axes>"
      ]
     },
     "metadata": {},
     "output_type": "display_data"
    },
    {
     "data": {
      "application/vnd.plotly.v1+json": {
       "config": {
        "plotlyServerURL": "https://plot.ly"
       },
       "data": [
        {
         "name": "Train",
         "type": "scatter",
         "x": [
          "2022-01-07",
          "2022-01-08",
          "2022-01-09",
          "2022-01-10",
          "2022-01-11",
          "2022-01-12",
          "2022-01-13",
          "2022-01-14",
          "2022-01-15",
          "2022-01-16",
          "2022-01-17",
          "2022-01-18",
          "2022-01-19",
          "2022-01-20",
          "2022-01-21",
          "2022-01-22",
          "2022-01-23",
          "2022-01-24",
          "2022-01-25",
          "2022-01-26",
          "2022-01-27",
          "2022-01-28",
          "2022-01-29",
          "2022-01-30",
          "2022-01-31",
          "2022-02-01",
          "2022-02-02",
          "2022-02-03",
          "2022-02-04",
          "2022-02-05",
          "2022-02-06",
          "2022-02-07",
          "2022-02-08",
          "2022-02-09",
          "2022-02-10",
          "2022-02-11",
          "2022-02-12",
          "2022-02-13",
          "2022-02-14",
          "2022-02-15",
          "2022-02-16",
          "2022-02-17",
          "2022-02-18",
          "2022-02-19",
          "2022-02-20",
          "2022-02-21",
          "2022-02-22",
          "2022-02-23",
          "2022-02-24",
          "2022-02-25",
          "2022-02-26",
          "2022-02-27",
          "2022-02-28",
          "2022-03-01",
          "2022-03-02",
          "2022-03-03",
          "2022-03-04",
          "2022-03-05",
          "2022-03-06",
          "2022-03-07",
          "2022-03-08",
          "2022-03-09",
          "2022-03-10",
          "2022-03-11",
          "2022-03-12",
          "2022-03-13",
          "2022-03-14",
          "2022-03-15",
          "2022-03-16",
          "2022-03-17",
          "2022-03-18",
          "2022-03-19",
          "2022-03-20",
          "2022-03-21",
          "2022-03-22",
          "2022-03-23",
          "2022-03-24",
          "2022-03-25",
          "2022-03-26",
          "2022-03-27",
          "2022-03-28",
          "2022-03-29",
          "2022-03-30",
          "2022-03-31",
          "2022-04-01",
          "2022-04-02",
          "2022-04-03",
          "2022-04-04",
          "2022-04-05",
          "2022-04-06",
          "2022-04-07",
          "2022-04-08",
          "2022-04-09",
          "2022-04-10",
          "2022-04-11",
          "2022-04-12",
          "2022-04-13",
          "2022-04-14",
          "2022-04-15",
          "2022-04-16",
          "2022-04-17",
          "2022-04-18",
          "2022-04-19",
          "2022-04-20",
          "2022-04-21",
          "2022-04-22",
          "2022-04-23",
          "2022-04-24",
          "2022-04-25",
          "2022-04-26",
          "2022-04-27",
          "2022-04-28",
          "2022-04-29",
          "2022-04-30",
          "2022-05-01",
          "2022-05-02",
          "2022-05-03",
          "2022-05-04",
          "2022-05-05",
          "2022-05-06",
          "2022-05-07",
          "2022-05-08",
          "2022-05-09",
          "2022-05-10",
          "2022-05-11",
          "2022-05-12",
          "2022-05-13",
          "2022-05-14",
          "2022-05-15",
          "2022-05-16",
          "2022-05-17",
          "2022-05-18",
          "2022-05-19",
          "2022-05-20",
          "2022-05-21",
          "2022-05-22",
          "2022-05-23",
          "2022-05-24",
          "2022-05-25",
          "2022-05-26",
          "2022-05-27",
          "2022-05-28",
          "2022-05-29",
          "2022-05-30",
          "2022-05-31",
          "2022-06-01",
          "2022-06-02",
          "2022-06-03",
          "2022-06-04",
          "2022-06-05",
          "2022-06-06",
          "2022-06-07",
          "2022-06-08",
          "2022-06-09",
          "2022-06-10",
          "2022-06-11",
          "2022-06-12",
          "2022-06-13",
          "2022-06-14",
          "2022-06-15",
          "2022-06-16",
          "2022-06-17",
          "2022-06-18",
          "2022-06-19",
          "2022-06-20",
          "2022-06-21",
          "2022-06-22",
          "2022-06-23",
          "2022-06-24",
          "2022-06-25",
          "2022-06-26",
          "2022-06-27",
          "2022-06-28",
          "2022-06-29",
          "2022-06-30",
          "2022-07-01",
          "2022-07-02",
          "2022-07-03",
          "2022-07-04",
          "2022-07-05",
          "2022-07-06",
          "2022-07-07",
          "2022-07-08",
          "2022-07-09",
          "2022-07-10",
          "2022-07-11",
          "2022-07-12",
          "2022-07-13",
          "2022-07-14",
          "2022-07-15",
          "2022-07-16",
          "2022-07-17",
          "2022-07-18",
          "2022-07-19",
          "2022-07-20",
          "2022-07-21",
          "2022-07-22",
          "2022-07-23",
          "2022-07-24",
          "2022-07-25",
          "2022-07-26",
          "2022-07-27",
          "2022-07-28",
          "2022-07-29",
          "2022-07-30",
          "2022-07-31",
          "2022-08-01",
          "2022-08-02",
          "2022-08-03",
          "2022-08-04",
          "2022-08-05",
          "2022-08-06",
          "2022-08-07",
          "2022-08-08",
          "2022-08-09",
          "2022-08-10",
          "2022-08-11",
          "2022-08-12",
          "2022-08-13",
          "2022-08-14",
          "2022-08-15",
          "2022-08-16",
          "2022-08-17",
          "2022-08-18",
          "2022-08-19",
          "2022-08-20",
          "2022-08-21",
          "2022-08-22",
          "2022-08-23",
          "2022-08-24",
          "2022-08-25",
          "2022-08-26",
          "2022-08-27",
          "2022-08-28",
          "2022-08-29",
          "2022-08-30",
          "2022-08-31",
          "2022-09-01",
          "2022-09-02",
          "2022-09-03",
          "2022-09-04",
          "2022-09-05",
          "2022-09-06",
          "2022-09-07",
          "2022-09-08",
          "2022-09-09",
          "2022-09-10",
          "2022-09-11",
          "2022-09-12",
          "2022-09-13"
         ],
         "y": [
          1.9127046445096438,
          -0.3391186396249671,
          -0.18061155105055077,
          -0.7185130258256667,
          -0.6244313990589164,
          0.3920592205731468,
          0.3756971985267554,
          -0.25117277112561354,
          0.3112717367190894,
          -0.38206894749674436,
          0.9780241351095373,
          -0.7870289931449305,
          1.346169631153343,
          -1.693075963963852,
          -0.6643138277969953,
          0.6037428807983349,
          0.24173314302192617,
          0.3112717367190894,
          -1.6409220186909794,
          0.6845303646523924,
          1.5987583464945097,
          -0.8974726419580722,
          0.7029376394545825,
          -1.6705781836500637,
          0.5607925729265577,
          -0.1652721553820589,
          0.6753267272512972,
          -0.08039416601640369,
          0.09038443909280612,
          -0.4833089589087909,
          0.6098786390657317,
          -0.2971909581310892,
          1.743971292156233,
          -0.8412281911736019,
          -2.1675746033092014,
          2.12745618386853,
          -0.10902770459758857,
          -0.8432734439294008,
          0.5474984300138647,
          0.11492747216239316,
          -1.8055648655327925,
          1.7848763472722113,
          -0.5957978604777315,
          -0.7307845423604602,
          -0.10391457270809126,
          0.5505663091475631,
          0.5382947926127696,
          1.3932104445367182,
          -1.6746686891616616,
          0.4892087264735955,
          -1.5018448312966528,
          1.44638701618749,
          0.07402241704641475,
          -0.2266297380560265,
          -0.0773262868827053,
          0.07402241704641475,
          2.2798275141755497,
          -1.9599814485956109,
          0.5331816607232722,
          0.4984123638746906,
          0.43807740757862246,
          -0.28798732072999406,
          -1.399582193506707,
          0.6190822764668269,
          0.3245658796317824,
          -0.41070248607792925,
          -0.327869749468073,
          0.5710188367055523,
          -0.49251259630988603,
          0.46364306702610897,
          1.2469748724970955,
          1.046540102428801,
          -0.990531642346923,
          -1.9252121517470293,
          0.6354442985132183,
          0.07606766980221367,
          -0.07119052861530854,
          -0.6407934211053078,
          0.43091902293332623,
          0.3061586048295921,
          0.38285558317205165,
          -0.11618608924288479,
          0.7591820902390529,
          -1.6204694911329902,
          -0.38718207938624166,
          1.8360076661671842,
          0.2816155717600051,
          0.25195940680092077,
          -1.4149215891751987,
          0.6722588481175988,
          0.9095081677902735,
          -2.1307600537048206,
          0.908485541412374,
          -0.290032573485793,
          2.1847232610309,
          0.07402241704641475,
          -0.13970649593457238,
          1.1068750587248695,
          0.6507836941817101,
          -0.6039788715009272,
          -1.1081336758053608,
          0.6129465181994301,
          0.8297433103141156,
          -0.4383133982812147,
          -0.9220156750276592,
          1.6110298630293032,
          -0.20515458412013782,
          -1.8873749757647493,
          0.7520237055937566,
          -0.11107295735338749,
          0.7581594638611534,
          0.5198875178105793,
          0.7162317823672756,
          0.07402241704641475,
          0.07402241704641475,
          2.1039357771768428,
          -1.3873106769719135,
          -0.3892273321420406,
          -0.03846648452252584,
          0.11799535129609154,
          0.36751618750355974,
          -1.7912480962422,
          1.3911651917809191,
          0.41148912175323654,
          -1.188921159659418,
          -0.1080050782196891,
          1.2265223449391063,
          -0.32991500222387193,
          0.12822161507508614,
          0.10163332924970017,
          0.20696384617334454,
          -1.3474282482338344,
          1.1058524323469698,
          -0.5191008821352721,
          -1.1848306541478204,
          0.539317418990669,
          0.2611630442020159,
          0.4493262977355165,
          0.4319416493112257,
          -1.6347862604235825,
          0.5168196386768809,
          1.026087574870812,
          -1.3658355230360246,
          2.22256043701318,
          -1.3525413801233317,
          -0.3882047057641411,
          -0.052783253813118276,
          0.31536224223068726,
          -0.8995178947138711,
          0.8103134091340258,
          1.0179065638476164,
          -1.7513656675041211,
          0.4738693308051036,
          -0.9629207301436377,
          0.7745214859075448,
          0.14049313160987964,
          1.0680152563646899,
          -1.6501256560920745,
          0.5055707485199868,
          -0.5487570470943564,
          1.1201692016375624,
          -0.5876168494545359,
          0.3399052753002743,
          1.166187388643038,
          -1.5386593809010334,
          1.3277623563511527,
          -1.4302609848436907,
          0.18548869223745587,
          -0.1080050782196891,
          -0.8136172789703164,
          1.2306128504507041,
          -0.3513901561597606,
          -0.2409465073466189,
          1.2848120484793755,
          0.07402241704641475,
          0.07402241704641475,
          0.07402241704641475,
          0.07402241704641475,
          0.9851825197548335,
          0.668168342606001,
          -0.8995178947138711,
          0.4830729682061987,
          -0.40354410143263303,
          1.308332455171063,
          -1.7523882938820206,
          0.42580589104382893,
          0.8236075520467189,
          -1.8761260856078552,
          0.5076160012757858,
          0.5434079245022668,
          -1.1541518628108365,
          0.07402241704641475,
          -1.0866585218694722,
          -0.20106407860853998,
          -0.5508022998501553,
          0.1619682855457683,
          -1.066205994311483,
          1.1651647622651387,
          1.2091376965148153,
          -1.4895733147618593,
          -0.9884863895911241,
          1.2275449713170057,
          -0.8105493998366181,
          -0.48126370615299197,
          0.2672988024694127,
          0.6569194524491069,
          -1.0385950821081977,
          1.179481531555731,
          0.0003933178376536386,
          -0.35241278253766006,
          0.2928644619168992,
          -0.17243054002735508,
          -0.45263016757180713,
          0.11083696665079532,
          0.14253838436567856,
          -1.3187947096526496,
          1.5159256098846534,
          -1.3637902702802258,
          1.9536096996256223,
          -1.284025412804068,
          1.8411207980566815,
          -2.20745703204728,
          1.406504587449411,
          -0.2266297380560265,
          -0.23378812270132268,
          1.0271102012487114,
          -0.6735174651980904,
          -0.8105493998366181,
          1.306287202415264,
          -1.8321531513581784,
          0.07197716429061583,
          0.31331698947488834,
          0.7704309803959469,
          -0.3646842990724536,
          0.27036668160311106,
          -0.8074815207029197,
          0.946322717394654,
          -1.5857001942844087,
          1.3308302354848511,
          -0.14788750695776806,
          0.5270459024558755,
          0.3552446709687662,
          -0.6182956407915197,
          -0.06300951759211287,
          -0.4761505742634947,
          0.7428200681926616,
          -1.4046953253962042,
          1.5915999618492134,
          0.5669283311939545,
          -1.6746686891616616
         ]
        },
        {
         "name": "Test",
         "type": "scatter",
         "x": [
          "2022-09-14",
          "2022-09-15",
          "2022-09-16",
          "2022-09-17",
          "2022-09-18",
          "2022-09-19",
          "2022-09-20",
          "2022-09-21",
          "2022-09-22",
          "2022-09-23",
          "2022-09-24",
          "2022-09-25",
          "2022-09-26",
          "2022-09-27",
          "2022-09-28",
          "2022-09-29",
          "2022-09-30",
          "2022-10-01",
          "2022-10-02",
          "2022-10-03",
          "2022-10-04",
          "2022-10-05",
          "2022-10-06",
          "2022-10-07",
          "2022-10-08",
          "2022-10-09",
          "2022-10-10",
          "2022-10-11",
          "2022-10-12",
          "2022-10-13",
          "2022-10-14",
          "2022-10-15",
          "2022-10-16",
          "2022-10-17",
          "2022-10-18",
          "2022-10-19",
          "2022-10-20",
          "2022-10-21",
          "2022-10-22",
          "2022-10-23",
          "2022-10-24",
          "2022-10-25",
          "2022-10-26",
          "2022-10-27",
          "2022-10-28",
          "2022-10-29",
          "2022-10-30",
          "2022-10-31",
          "2022-11-01",
          "2022-11-02",
          "2022-11-03",
          "2022-11-04",
          "2022-11-05",
          "2022-11-06",
          "2022-11-07",
          "2022-11-08",
          "2022-11-09",
          "2022-11-10",
          "2022-11-11",
          "2022-11-12",
          "2022-11-13",
          "2022-11-14",
          "2022-11-15",
          "2022-11-16",
          "2022-11-17",
          "2022-11-18",
          "2022-11-19",
          "2022-11-20",
          "2022-11-21",
          "2022-11-22",
          "2022-11-23",
          "2022-11-24",
          "2022-11-25",
          "2022-11-26",
          "2022-11-27",
          "2022-11-28",
          "2022-11-29",
          "2022-11-30",
          "2022-12-01",
          "2022-12-02",
          "2022-12-03",
          "2022-12-04",
          "2022-12-05",
          "2022-12-06",
          "2022-12-07",
          "2022-12-08",
          "2022-12-09",
          "2022-12-10",
          "2022-12-11",
          "2022-12-12",
          "2022-12-13",
          "2022-12-14",
          "2022-12-15",
          "2022-12-16",
          "2022-12-17",
          "2022-12-18",
          "2022-12-19",
          "2022-12-20",
          "2022-12-21",
          "2022-12-22",
          "2022-12-23",
          "2022-12-24",
          "2022-12-25",
          "2022-12-26",
          "2022-12-27",
          "2022-12-28",
          "2022-12-29",
          "2022-12-30"
         ],
         "y": [
          0.5515889355254625,
          0.8430374532268086,
          -0.6182956407915197,
          -0.5088746183562775,
          0.8246301784246183,
          -0.8310019273946073,
          1.2367486087181008,
          -0.3227566175785757,
          -0.08448467152800153,
          0.4810277154503998,
          -1.6194468647550908,
          0.8563315961395016,
          -1.295274302960962,
          1.3717352906008295,
          -1.0559797305324885,
          1.1089203114806683,
          0.07402241704641475,
          0.07402241704641475,
          -1.6818270738069578,
          1.1027845532132716,
          1.0179065638476164,
          -2.4549326154989495,
          1.6785232039706675,
          -0.1928830675853443,
          0.10470120838339855,
          -0.5845489703208374,
          0.9003045303891783,
          0.14458363712147748,
          -1.0518892250208907,
          0.6221501556005252,
          0.6773719800070961,
          -1.6726234364058628,
          -0.05687375932471612,
          -0.20719983687593674,
          1.1723231469104347,
          -1.0733643789567793,
          1.101761926835372,
          -0.1898151884516459,
          -1.2870932919377662,
          -0.4454717829265109,
          1.281744169345677,
          1.7490844240457302,
          -1.3106136986294539,
          -1.4159442155530981,
          0.041298372953632034,
          0.20900909892914346,
          0.4053533634858398,
          0.8532637170058032,
          -1.284025412804068,
          1.4187761039842046,
          0.7939513870876346,
          -0.1622042762483605,
          0.5567020674149599,
          -0.46490168410660065,
          -2.062244086385557,
          0.9074629150344746,
          -2.0786061084319485,
          1.1835720370673288,
          0.6109012654436312,
          -0.3830915738746438,
          0.5250006497000765,
          0.539317418990669,
          -1.2318714675311955,
          -0.8320245537725067,
          2.0384876889912773,
          -0.8872463781790776,
          0.4656883197819079,
          0.15480990090047209,
          -1.864877195450961,
          1.9096367653759454,
          -0.08448467152800153,
          -0.3943404640315379,
          0.2672988024694127,
          0.10470120838339855,
          0.057660395000023394,
          -0.1468648805798686,
          -1.6296731285340853,
          0.07402241704641475,
          0.07402241704641475,
          -0.015968704208737722,
          1.590577335471314,
          -2.0857644930772445,
          1.7204508854645453,
          -1.5427498864126312,
          1.166187388643038,
          -0.4250192553685217,
          -0.4127477388337282,
          -0.2583311557709097,
          1.577283192558621,
          -0.0088103195634415,
          -0.8964500155801727,
          -1.3883333033498129,
          1.2009566854916196,
          0.4575073087587122,
          -0.0047198140518436614,
          -1.7094379860102433,
          0.9401869591272572,
          1.1876625425789267,
          0.6068107599320334,
          -1.700234348609148,
          0.9902956516443309,
          -0.570232201030245,
          -0.6602233222853975,
          -0.38718207938624166,
          0.5515889355254625,
          -0.3207113648227768,
          -0.928151433295056,
          0.4002402315963425
         ]
        },
        {
         "name": "Predicted",
         "type": "scatter",
         "x": [
          "2022-09-14",
          "2022-09-15",
          "2022-09-16",
          "2022-09-17",
          "2022-09-18",
          "2022-09-19",
          "2022-09-20",
          "2022-09-21",
          "2022-09-22",
          "2022-09-23",
          "2022-09-24",
          "2022-09-25",
          "2022-09-26",
          "2022-09-27",
          "2022-09-28",
          "2022-09-29",
          "2022-09-30",
          "2022-10-01",
          "2022-10-02",
          "2022-10-03",
          "2022-10-04",
          "2022-10-05",
          "2022-10-06",
          "2022-10-07",
          "2022-10-08",
          "2022-10-09",
          "2022-10-10",
          "2022-10-11",
          "2022-10-12",
          "2022-10-13",
          "2022-10-14",
          "2022-10-15",
          "2022-10-16",
          "2022-10-17",
          "2022-10-18",
          "2022-10-19",
          "2022-10-20",
          "2022-10-21",
          "2022-10-22",
          "2022-10-23",
          "2022-10-24",
          "2022-10-25",
          "2022-10-26",
          "2022-10-27",
          "2022-10-28",
          "2022-10-29",
          "2022-10-30",
          "2022-10-31",
          "2022-11-01",
          "2022-11-02",
          "2022-11-03",
          "2022-11-04",
          "2022-11-05",
          "2022-11-06",
          "2022-11-07",
          "2022-11-08",
          "2022-11-09",
          "2022-11-10",
          "2022-11-11",
          "2022-11-12",
          "2022-11-13",
          "2022-11-14",
          "2022-11-15",
          "2022-11-16",
          "2022-11-17",
          "2022-11-18",
          "2022-11-19",
          "2022-11-20",
          "2022-11-21",
          "2022-11-22",
          "2022-11-23",
          "2022-11-24",
          "2022-11-25",
          "2022-11-26",
          "2022-11-27",
          "2022-11-28",
          "2022-11-29",
          "2022-11-30",
          "2022-12-01",
          "2022-12-02",
          "2022-12-03",
          "2022-12-04",
          "2022-12-05",
          "2022-12-06",
          "2022-12-07",
          "2022-12-08",
          "2022-12-09",
          "2022-12-10",
          "2022-12-11",
          "2022-12-12",
          "2022-12-13",
          "2022-12-14",
          "2022-12-15",
          "2022-12-16",
          "2022-12-17",
          "2022-12-18",
          "2022-12-19",
          "2022-12-20",
          "2022-12-21",
          "2022-12-22",
          "2022-12-23",
          "2022-12-24",
          "2022-12-25",
          "2022-12-26",
          "2022-12-27",
          "2022-12-28",
          "2022-12-29",
          "2022-12-30"
         ],
         "y": [
          0.6459150910377502,
          0.49877843260765076,
          0.841401219367981,
          0.9029678106307983,
          0.48402664065361023,
          0.6475340127944946,
          0.5385576486587524,
          0.7764673829078674,
          0.4342179596424103,
          0.989121675491333,
          0.6768847107887268,
          0.7342221140861511,
          0.3700069487094879,
          0.32013386487960815,
          0.29494336247444153,
          0.28442904353141785,
          0.5496571063995361,
          0.4889182150363922,
          0.8236305713653564,
          0.614080548286438,
          -0.036076486110687256,
          0.7274339199066162,
          0.5041680335998535,
          0.006883859634399414,
          0.4792517125606537,
          0.5320683121681213,
          0.47127875685691833,
          0.42050692439079285,
          0.48142629861831665,
          0.27477458119392395,
          0.3085939288139343,
          0.31039297580718994,
          0.7760419249534607,
          0.3289439082145691,
          0.5087746381759644,
          0.2977886199951172,
          0.4862326681613922,
          0.2515302896499634,
          0.44210803508758545,
          0.2937176525592804,
          0.5226553678512573,
          0.07125034928321838,
          0.22669199109077454,
          0.8427178859710693,
          0.3855094909667969,
          0.1363905966281891,
          0.10002678632736206,
          0.40681329369544983,
          0.18626412749290466,
          0.39795809984207153,
          0.09371793270111084,
          0.49424076080322266,
          0.4639022946357727,
          0.8406893014907837,
          1.0645394325256348,
          0.8549683094024658,
          0.28986164927482605,
          0.37714245915412903,
          -0.07318289577960968,
          0.2423008382320404,
          0.6526579260826111,
          0.8281881213188171,
          0.5626161098480225,
          0.3711675703525543,
          0.11786529421806335,
          0.5241212844848633,
          0.9055695533752441,
          0.6647968888282776,
          0.7770965099334717,
          0.3677680194377899,
          0.4507010281085968,
          0.1942785680294037,
          0.16877047717571259,
          0.16187065839767456,
          0.06365883350372314,
          0.2916317880153656,
          0.7027628421783447,
          0.5404074192047119,
          0.4227205812931061,
          0.42942288517951965,
          0.2842403054237366,
          0.3241499662399292,
          0.5789005756378174,
          -0.1258552372455597,
          0.613629937171936,
          0.18571898341178894,
          0.2607231140136719,
          0.3445044457912445,
          0.10991169512271881,
          0.09800468385219574,
          0.7840955257415771,
          0.5119219422340393,
          0.014437898993492126,
          0.0282076895236969,
          0.20056280493736267,
          0.25237494707107544,
          0.28528741002082825,
          -0.16705937683582306,
          0.5439879298210144,
          0.494608074426651,
          0.7863936424255371,
          0.39617273211479187,
          0.2989574074745178,
          0.7527345418930054,
          0.037570156157016754,
          0.5220651626586914,
          0.04048147797584534,
          0.28112661838531494
         ]
        }
       ],
       "layout": {
        "template": {
         "data": {
          "bar": [
           {
            "error_x": {
             "color": "#2a3f5f"
            },
            "error_y": {
             "color": "#2a3f5f"
            },
            "marker": {
             "line": {
              "color": "#E5ECF6",
              "width": 0.5
             },
             "pattern": {
              "fillmode": "overlay",
              "size": 10,
              "solidity": 0.2
             }
            },
            "type": "bar"
           }
          ],
          "barpolar": [
           {
            "marker": {
             "line": {
              "color": "#E5ECF6",
              "width": 0.5
             },
             "pattern": {
              "fillmode": "overlay",
              "size": 10,
              "solidity": 0.2
             }
            },
            "type": "barpolar"
           }
          ],
          "carpet": [
           {
            "aaxis": {
             "endlinecolor": "#2a3f5f",
             "gridcolor": "white",
             "linecolor": "white",
             "minorgridcolor": "white",
             "startlinecolor": "#2a3f5f"
            },
            "baxis": {
             "endlinecolor": "#2a3f5f",
             "gridcolor": "white",
             "linecolor": "white",
             "minorgridcolor": "white",
             "startlinecolor": "#2a3f5f"
            },
            "type": "carpet"
           }
          ],
          "choropleth": [
           {
            "colorbar": {
             "outlinewidth": 0,
             "ticks": ""
            },
            "type": "choropleth"
           }
          ],
          "contour": [
           {
            "colorbar": {
             "outlinewidth": 0,
             "ticks": ""
            },
            "colorscale": [
             [
              0,
              "#0d0887"
             ],
             [
              0.1111111111111111,
              "#46039f"
             ],
             [
              0.2222222222222222,
              "#7201a8"
             ],
             [
              0.3333333333333333,
              "#9c179e"
             ],
             [
              0.4444444444444444,
              "#bd3786"
             ],
             [
              0.5555555555555556,
              "#d8576b"
             ],
             [
              0.6666666666666666,
              "#ed7953"
             ],
             [
              0.7777777777777778,
              "#fb9f3a"
             ],
             [
              0.8888888888888888,
              "#fdca26"
             ],
             [
              1,
              "#f0f921"
             ]
            ],
            "type": "contour"
           }
          ],
          "contourcarpet": [
           {
            "colorbar": {
             "outlinewidth": 0,
             "ticks": ""
            },
            "type": "contourcarpet"
           }
          ],
          "heatmap": [
           {
            "colorbar": {
             "outlinewidth": 0,
             "ticks": ""
            },
            "colorscale": [
             [
              0,
              "#0d0887"
             ],
             [
              0.1111111111111111,
              "#46039f"
             ],
             [
              0.2222222222222222,
              "#7201a8"
             ],
             [
              0.3333333333333333,
              "#9c179e"
             ],
             [
              0.4444444444444444,
              "#bd3786"
             ],
             [
              0.5555555555555556,
              "#d8576b"
             ],
             [
              0.6666666666666666,
              "#ed7953"
             ],
             [
              0.7777777777777778,
              "#fb9f3a"
             ],
             [
              0.8888888888888888,
              "#fdca26"
             ],
             [
              1,
              "#f0f921"
             ]
            ],
            "type": "heatmap"
           }
          ],
          "heatmapgl": [
           {
            "colorbar": {
             "outlinewidth": 0,
             "ticks": ""
            },
            "colorscale": [
             [
              0,
              "#0d0887"
             ],
             [
              0.1111111111111111,
              "#46039f"
             ],
             [
              0.2222222222222222,
              "#7201a8"
             ],
             [
              0.3333333333333333,
              "#9c179e"
             ],
             [
              0.4444444444444444,
              "#bd3786"
             ],
             [
              0.5555555555555556,
              "#d8576b"
             ],
             [
              0.6666666666666666,
              "#ed7953"
             ],
             [
              0.7777777777777778,
              "#fb9f3a"
             ],
             [
              0.8888888888888888,
              "#fdca26"
             ],
             [
              1,
              "#f0f921"
             ]
            ],
            "type": "heatmapgl"
           }
          ],
          "histogram": [
           {
            "marker": {
             "pattern": {
              "fillmode": "overlay",
              "size": 10,
              "solidity": 0.2
             }
            },
            "type": "histogram"
           }
          ],
          "histogram2d": [
           {
            "colorbar": {
             "outlinewidth": 0,
             "ticks": ""
            },
            "colorscale": [
             [
              0,
              "#0d0887"
             ],
             [
              0.1111111111111111,
              "#46039f"
             ],
             [
              0.2222222222222222,
              "#7201a8"
             ],
             [
              0.3333333333333333,
              "#9c179e"
             ],
             [
              0.4444444444444444,
              "#bd3786"
             ],
             [
              0.5555555555555556,
              "#d8576b"
             ],
             [
              0.6666666666666666,
              "#ed7953"
             ],
             [
              0.7777777777777778,
              "#fb9f3a"
             ],
             [
              0.8888888888888888,
              "#fdca26"
             ],
             [
              1,
              "#f0f921"
             ]
            ],
            "type": "histogram2d"
           }
          ],
          "histogram2dcontour": [
           {
            "colorbar": {
             "outlinewidth": 0,
             "ticks": ""
            },
            "colorscale": [
             [
              0,
              "#0d0887"
             ],
             [
              0.1111111111111111,
              "#46039f"
             ],
             [
              0.2222222222222222,
              "#7201a8"
             ],
             [
              0.3333333333333333,
              "#9c179e"
             ],
             [
              0.4444444444444444,
              "#bd3786"
             ],
             [
              0.5555555555555556,
              "#d8576b"
             ],
             [
              0.6666666666666666,
              "#ed7953"
             ],
             [
              0.7777777777777778,
              "#fb9f3a"
             ],
             [
              0.8888888888888888,
              "#fdca26"
             ],
             [
              1,
              "#f0f921"
             ]
            ],
            "type": "histogram2dcontour"
           }
          ],
          "mesh3d": [
           {
            "colorbar": {
             "outlinewidth": 0,
             "ticks": ""
            },
            "type": "mesh3d"
           }
          ],
          "parcoords": [
           {
            "line": {
             "colorbar": {
              "outlinewidth": 0,
              "ticks": ""
             }
            },
            "type": "parcoords"
           }
          ],
          "pie": [
           {
            "automargin": true,
            "type": "pie"
           }
          ],
          "scatter": [
           {
            "fillpattern": {
             "fillmode": "overlay",
             "size": 10,
             "solidity": 0.2
            },
            "type": "scatter"
           }
          ],
          "scatter3d": [
           {
            "line": {
             "colorbar": {
              "outlinewidth": 0,
              "ticks": ""
             }
            },
            "marker": {
             "colorbar": {
              "outlinewidth": 0,
              "ticks": ""
             }
            },
            "type": "scatter3d"
           }
          ],
          "scattercarpet": [
           {
            "marker": {
             "colorbar": {
              "outlinewidth": 0,
              "ticks": ""
             }
            },
            "type": "scattercarpet"
           }
          ],
          "scattergeo": [
           {
            "marker": {
             "colorbar": {
              "outlinewidth": 0,
              "ticks": ""
             }
            },
            "type": "scattergeo"
           }
          ],
          "scattergl": [
           {
            "marker": {
             "colorbar": {
              "outlinewidth": 0,
              "ticks": ""
             }
            },
            "type": "scattergl"
           }
          ],
          "scattermapbox": [
           {
            "marker": {
             "colorbar": {
              "outlinewidth": 0,
              "ticks": ""
             }
            },
            "type": "scattermapbox"
           }
          ],
          "scatterpolar": [
           {
            "marker": {
             "colorbar": {
              "outlinewidth": 0,
              "ticks": ""
             }
            },
            "type": "scatterpolar"
           }
          ],
          "scatterpolargl": [
           {
            "marker": {
             "colorbar": {
              "outlinewidth": 0,
              "ticks": ""
             }
            },
            "type": "scatterpolargl"
           }
          ],
          "scatterternary": [
           {
            "marker": {
             "colorbar": {
              "outlinewidth": 0,
              "ticks": ""
             }
            },
            "type": "scatterternary"
           }
          ],
          "surface": [
           {
            "colorbar": {
             "outlinewidth": 0,
             "ticks": ""
            },
            "colorscale": [
             [
              0,
              "#0d0887"
             ],
             [
              0.1111111111111111,
              "#46039f"
             ],
             [
              0.2222222222222222,
              "#7201a8"
             ],
             [
              0.3333333333333333,
              "#9c179e"
             ],
             [
              0.4444444444444444,
              "#bd3786"
             ],
             [
              0.5555555555555556,
              "#d8576b"
             ],
             [
              0.6666666666666666,
              "#ed7953"
             ],
             [
              0.7777777777777778,
              "#fb9f3a"
             ],
             [
              0.8888888888888888,
              "#fdca26"
             ],
             [
              1,
              "#f0f921"
             ]
            ],
            "type": "surface"
           }
          ],
          "table": [
           {
            "cells": {
             "fill": {
              "color": "#EBF0F8"
             },
             "line": {
              "color": "white"
             }
            },
            "header": {
             "fill": {
              "color": "#C8D4E3"
             },
             "line": {
              "color": "white"
             }
            },
            "type": "table"
           }
          ]
         },
         "layout": {
          "annotationdefaults": {
           "arrowcolor": "#2a3f5f",
           "arrowhead": 0,
           "arrowwidth": 1
          },
          "autotypenumbers": "strict",
          "coloraxis": {
           "colorbar": {
            "outlinewidth": 0,
            "ticks": ""
           }
          },
          "colorscale": {
           "diverging": [
            [
             0,
             "#8e0152"
            ],
            [
             0.1,
             "#c51b7d"
            ],
            [
             0.2,
             "#de77ae"
            ],
            [
             0.3,
             "#f1b6da"
            ],
            [
             0.4,
             "#fde0ef"
            ],
            [
             0.5,
             "#f7f7f7"
            ],
            [
             0.6,
             "#e6f5d0"
            ],
            [
             0.7,
             "#b8e186"
            ],
            [
             0.8,
             "#7fbc41"
            ],
            [
             0.9,
             "#4d9221"
            ],
            [
             1,
             "#276419"
            ]
           ],
           "sequential": [
            [
             0,
             "#0d0887"
            ],
            [
             0.1111111111111111,
             "#46039f"
            ],
            [
             0.2222222222222222,
             "#7201a8"
            ],
            [
             0.3333333333333333,
             "#9c179e"
            ],
            [
             0.4444444444444444,
             "#bd3786"
            ],
            [
             0.5555555555555556,
             "#d8576b"
            ],
            [
             0.6666666666666666,
             "#ed7953"
            ],
            [
             0.7777777777777778,
             "#fb9f3a"
            ],
            [
             0.8888888888888888,
             "#fdca26"
            ],
            [
             1,
             "#f0f921"
            ]
           ],
           "sequentialminus": [
            [
             0,
             "#0d0887"
            ],
            [
             0.1111111111111111,
             "#46039f"
            ],
            [
             0.2222222222222222,
             "#7201a8"
            ],
            [
             0.3333333333333333,
             "#9c179e"
            ],
            [
             0.4444444444444444,
             "#bd3786"
            ],
            [
             0.5555555555555556,
             "#d8576b"
            ],
            [
             0.6666666666666666,
             "#ed7953"
            ],
            [
             0.7777777777777778,
             "#fb9f3a"
            ],
            [
             0.8888888888888888,
             "#fdca26"
            ],
            [
             1,
             "#f0f921"
            ]
           ]
          },
          "colorway": [
           "#636efa",
           "#EF553B",
           "#00cc96",
           "#ab63fa",
           "#FFA15A",
           "#19d3f3",
           "#FF6692",
           "#B6E880",
           "#FF97FF",
           "#FECB52"
          ],
          "font": {
           "color": "#2a3f5f"
          },
          "geo": {
           "bgcolor": "white",
           "lakecolor": "white",
           "landcolor": "#E5ECF6",
           "showlakes": true,
           "showland": true,
           "subunitcolor": "white"
          },
          "hoverlabel": {
           "align": "left"
          },
          "hovermode": "closest",
          "mapbox": {
           "style": "light"
          },
          "paper_bgcolor": "white",
          "plot_bgcolor": "#E5ECF6",
          "polar": {
           "angularaxis": {
            "gridcolor": "white",
            "linecolor": "white",
            "ticks": ""
           },
           "bgcolor": "#E5ECF6",
           "radialaxis": {
            "gridcolor": "white",
            "linecolor": "white",
            "ticks": ""
           }
          },
          "scene": {
           "xaxis": {
            "backgroundcolor": "#E5ECF6",
            "gridcolor": "white",
            "gridwidth": 2,
            "linecolor": "white",
            "showbackground": true,
            "ticks": "",
            "zerolinecolor": "white"
           },
           "yaxis": {
            "backgroundcolor": "#E5ECF6",
            "gridcolor": "white",
            "gridwidth": 2,
            "linecolor": "white",
            "showbackground": true,
            "ticks": "",
            "zerolinecolor": "white"
           },
           "zaxis": {
            "backgroundcolor": "#E5ECF6",
            "gridcolor": "white",
            "gridwidth": 2,
            "linecolor": "white",
            "showbackground": true,
            "ticks": "",
            "zerolinecolor": "white"
           }
          },
          "shapedefaults": {
           "line": {
            "color": "#2a3f5f"
           }
          },
          "ternary": {
           "aaxis": {
            "gridcolor": "white",
            "linecolor": "white",
            "ticks": ""
           },
           "baxis": {
            "gridcolor": "white",
            "linecolor": "white",
            "ticks": ""
           },
           "bgcolor": "#E5ECF6",
           "caxis": {
            "gridcolor": "white",
            "linecolor": "white",
            "ticks": ""
           }
          },
          "title": {
           "x": 0.05
          },
          "xaxis": {
           "automargin": true,
           "gridcolor": "white",
           "linecolor": "white",
           "ticks": "",
           "title": {
            "standoff": 15
           },
           "zerolinecolor": "white",
           "zerolinewidth": 2
          },
          "yaxis": {
           "automargin": true,
           "gridcolor": "white",
           "linecolor": "white",
           "ticks": "",
           "title": {
            "standoff": 15
           },
           "zerolinecolor": "white",
           "zerolinewidth": 2
          }
         }
        },
        "title": {
         "text": " enugu_transactions NNet & tsfresh. MAE=0.9561"
        }
       }
      }
     },
     "metadata": {},
     "output_type": "display_data"
    },
    {
     "name": "stderr",
     "output_type": "stream",
     "text": [
      "Rolling: 100%|██████████| 20/20 [00:00<00:00, 28.61it/s]\n",
      "Feature Extraction: 100%|██████████| 20/20 [00:00<00:00, 63.64it/s]\n"
     ]
    },
    {
     "data": {
      "image/png": "[encoded data removed]",
      "text/plain": [
       "<Figure size 640x480 with 1 Axes>"
      ]
     },
     "metadata": {},
     "output_type": "display_data"
    },
    {
     "data": {
      "application/vnd.plotly.v1+json": {
       "config": {
        "plotlyServerURL": "https://plot.ly"
       },
       "data": [
        {
         "name": "Train",
         "type": "scatter",
         "x": [
          "2022-01-07",
          "2022-01-08",
          "2022-01-09",
          "2022-01-10",
          "2022-01-11",
          "2022-01-12",
          "2022-01-13",
          "2022-01-14",
          "2022-01-15",
          "2022-01-16",
          "2022-01-17",
          "2022-01-18",
          "2022-01-19",
          "2022-01-20",
          "2022-01-21",
          "2022-01-22",
          "2022-01-23",
          "2022-01-24",
          "2022-01-25",
          "2022-01-26",
          "2022-01-27",
          "2022-01-28",
          "2022-01-29",
          "2022-01-30",
          "2022-01-31",
          "2022-02-01",
          "2022-02-02",
          "2022-02-03",
          "2022-02-04",
          "2022-02-05",
          "2022-02-06",
          "2022-02-07",
          "2022-02-08",
          "2022-02-09",
          "2022-02-10",
          "2022-02-11",
          "2022-02-12",
          "2022-02-13",
          "2022-02-14",
          "2022-02-15",
          "2022-02-16",
          "2022-02-17",
          "2022-02-18",
          "2022-02-19",
          "2022-02-20",
          "2022-02-21",
          "2022-02-22",
          "2022-02-23",
          "2022-02-24",
          "2022-02-25",
          "2022-02-26",
          "2022-02-27",
          "2022-02-28",
          "2022-03-01",
          "2022-03-02",
          "2022-03-03",
          "2022-03-04",
          "2022-03-05",
          "2022-03-06",
          "2022-03-07",
          "2022-03-08",
          "2022-03-09",
          "2022-03-10",
          "2022-03-11",
          "2022-03-12",
          "2022-03-13",
          "2022-03-14",
          "2022-03-15",
          "2022-03-16",
          "2022-03-17",
          "2022-03-18",
          "2022-03-19",
          "2022-03-20",
          "2022-03-21",
          "2022-03-22",
          "2022-03-23",
          "2022-03-24",
          "2022-03-25",
          "2022-03-26",
          "2022-03-27",
          "2022-03-28",
          "2022-03-29",
          "2022-03-30",
          "2022-03-31",
          "2022-04-01",
          "2022-04-02",
          "2022-04-03",
          "2022-04-04",
          "2022-04-05",
          "2022-04-06",
          "2022-04-07",
          "2022-04-08",
          "2022-04-09",
          "2022-04-10",
          "2022-04-11",
          "2022-04-12",
          "2022-04-13",
          "2022-04-14",
          "2022-04-15",
          "2022-04-16",
          "2022-04-17",
          "2022-04-18",
          "2022-04-19",
          "2022-04-20",
          "2022-04-21",
          "2022-04-22",
          "2022-04-23",
          "2022-04-24",
          "2022-04-25",
          "2022-04-26",
          "2022-04-27",
          "2022-04-28",
          "2022-04-29",
          "2022-04-30",
          "2022-05-01",
          "2022-05-02",
          "2022-05-03",
          "2022-05-04",
          "2022-05-05",
          "2022-05-06",
          "2022-05-07",
          "2022-05-08",
          "2022-05-09",
          "2022-05-10",
          "2022-05-11",
          "2022-05-12",
          "2022-05-13",
          "2022-05-14",
          "2022-05-15",
          "2022-05-16",
          "2022-05-17",
          "2022-05-18",
          "2022-05-19",
          "2022-05-20",
          "2022-05-21",
          "2022-05-22",
          "2022-05-23",
          "2022-05-24",
          "2022-05-25",
          "2022-05-26",
          "2022-05-27",
          "2022-05-28",
          "2022-05-29",
          "2022-05-30",
          "2022-05-31",
          "2022-06-01",
          "2022-06-02",
          "2022-06-03",
          "2022-06-04",
          "2022-06-05",
          "2022-06-06",
          "2022-06-07",
          "2022-06-08",
          "2022-06-09",
          "2022-06-10",
          "2022-06-11",
          "2022-06-12",
          "2022-06-13",
          "2022-06-14",
          "2022-06-15",
          "2022-06-16",
          "2022-06-17",
          "2022-06-18",
          "2022-06-19",
          "2022-06-20",
          "2022-06-21",
          "2022-06-22",
          "2022-06-23",
          "2022-06-24",
          "2022-06-25",
          "2022-06-26",
          "2022-06-27",
          "2022-06-28",
          "2022-06-29",
          "2022-06-30",
          "2022-07-01",
          "2022-07-02",
          "2022-07-03",
          "2022-07-04",
          "2022-07-05",
          "2022-07-06",
          "2022-07-07",
          "2022-07-08",
          "2022-07-09",
          "2022-07-10",
          "2022-07-11",
          "2022-07-12",
          "2022-07-13",
          "2022-07-14",
          "2022-07-15",
          "2022-07-16",
          "2022-07-17",
          "2022-07-18",
          "2022-07-19",
          "2022-07-20",
          "2022-07-21",
          "2022-07-22",
          "2022-07-23",
          "2022-07-24",
          "2022-07-25",
          "2022-07-26",
          "2022-07-27",
          "2022-07-28",
          "2022-07-29",
          "2022-07-30",
          "2022-07-31",
          "2022-08-01",
          "2022-08-02",
          "2022-08-03",
          "2022-08-04",
          "2022-08-05",
          "2022-08-06",
          "2022-08-07",
          "2022-08-08",
          "2022-08-09",
          "2022-08-10",
          "2022-08-11",
          "2022-08-12",
          "2022-08-13",
          "2022-08-14",
          "2022-08-15",
          "2022-08-16",
          "2022-08-17",
          "2022-08-18",
          "2022-08-19",
          "2022-08-20",
          "2022-08-21",
          "2022-08-22",
          "2022-08-23",
          "2022-08-24",
          "2022-08-25",
          "2022-08-26",
          "2022-08-27",
          "2022-08-28",
          "2022-08-29",
          "2022-08-30",
          "2022-08-31",
          "2022-09-01",
          "2022-09-02",
          "2022-09-03",
          "2022-09-04",
          "2022-09-05",
          "2022-09-06",
          "2022-09-07",
          "2022-09-08",
          "2022-09-09",
          "2022-09-10",
          "2022-09-11",
          "2022-09-12",
          "2022-09-13"
         ],
         "y": [
          -0.16414607220052266,
          -1.4464088295005493,
          0.5126037163744914,
          0.8944330707704993,
          -1.7042861173575548,
          -0.033070323676519915,
          -1.7042861173575548,
          0.6308568373254939,
          -0.6343090832105324,
          -0.15559765381852247,
          -0.5573733177725307,
          0.29176957483948684,
          1.2021761325225058,
          -0.2923723479305253,
          -0.8337721787905366,
          0.7277389123214959,
          -0.614362773652532,
          0.9272020079015,
          -0.8351969151875366,
          -0.6813253843115333,
          1.499946039495512,
          -1.0303858015765406,
          -0.047317687646520216,
          1.9145443310225205,
          -0.9449016177565389,
          0.5054800343894913,
          -1.0275363287825405,
          0.3672806038804884,
          -0.2681518291815248,
          -1.0973484122355421,
          0.4684368880674905,
          0.8246209873174979,
          -0.015973486912519562,
          -0.7069706394575339,
          -0.25390446521152454,
          1.1836545593615053,
          -1.3523762272985473,
          -0.16984501778852276,
          -0.43627072402752826,
          1.1252403670845041,
          -0.08151136117452093,
          -0.5445506901995305,
          1.8803506574945197,
          -1.0147137012095404,
          0.9613956814295007,
          -0.7910300868805357,
          -0.9819447640785397,
          1.260590324799507,
          -0.41062546888152773,
          1.4401071108215107,
          -2.012029179109561,
          1.4458060564095108,
          -0.033070323676519915,
          -0.2681518291815248,
          -1.1571873409095432,
          -0.033070323676519915,
          0.029618077791481387,
          -0.24535604682952433,
          2.37188471445953,
          -0.033070323676519915,
          -0.03876926926452003,
          0.4071732229964893,
          -0.16557080859752268,
          -0.29807129351852546,
          0.9257772715045,
          -1.3010857170065464,
          -0.21401184609552368,
          1.0981703755415035,
          -1.4578067206765495,
          1.2548913792115068,
          0.11510226161148315,
          0.49693161600749114,
          -1.0218373831945404,
          -0.3906791593235273,
          1.1451866766425045,
          0.8417178240814982,
          -1.3737472732535478,
          1.076799329586503,
          -0.9691221365055395,
          0.08518279727448254,
          -0.1997644821255234,
          -0.228259210065524,
          -0.027371378088519797,
          1.458628683982511,
          -0.3066197119005256,
          -1.3523762272985473,
          0.5667436994604925,
          0.9699440998115009,
          1.264864533990507,
          -2.2257396386595656,
          1.219272969286506,
          -1.7555766276495557,
          0.4185711141724895,
          -0.5858680457125314,
          -0.033070323676519915,
          0.14787119874248383,
          1.1879287685525055,
          -1.7897703011775565,
          1.846156983966519,
          -1.3224567629615467,
          1.2491924336235067,
          -1.5703608960395519,
          1.2933592619305077,
          -0.6343090832105324,
          0.17494119028548438,
          -0.1513234446275224,
          1.2548913792115068,
          -0.6984222210755338,
          -0.5559485813755307,
          0.17494119028548438,
          1.6580917795625152,
          -2.3154980316705673,
          1.1964771869345057,
          -0.033070323676519915,
          -0.033070323676519915,
          1.8561301387455194,
          -0.033070323676519915,
          1.40733817369051,
          -0.8266484968055364,
          0.4812595156404908,
          0.5781415906364928,
          0.20201118182848496,
          -0.7967290324685359,
          2.1652979368945258,
          -2.2727559397605663,
          -0.10288240712952137,
          -0.471889133952529,
          1.9672595777115216,
          -0.08863504315952107,
          0.2233822277834854,
          -0.8651163795245372,
          0.09658068845048276,
          0.11652699800848318,
          -0.12140398029052177,
          0.11367752521448313,
          -0.27100130197552486,
          0.2618501105024862,
          0.8174973053324978,
          -1.618801933537553,
          0.3772537586594886,
          -0.8394711243785368,
          0.7633573222464966,
          0.20343591822548499,
          0.881610443197499,
          -0.3422381218255264,
          -1.427887256339549,
          0.9300514806955,
          -0.39922757770552747,
          1.1109930031145039,
          -0.15987186300952255,
          0.47271109725849064,
          0.031042814188481416,
          -0.7668095681315352,
          0.4684368880674905,
          0.878760970403499,
          -1.4079409467815485,
          0.12792488918448341,
          -0.611513300858532,
          -0.15559765381852247,
          0.4285442689514897,
          -0.7468632585735347,
          0.8687878156244988,
          0.3815279678504887,
          0.005397559042480881,
          -0.16984501778852276,
          -0.1570223902155225,
          -0.5929917276975315,
          -0.5303033262295302,
          0.9898904093695012,
          0.3900763862324889,
          0.154994880727484,
          -1.5960061511855523,
          1.454354474791511,
          -0.803852714453536,
          -0.033070323676519915,
          -0.033070323676519915,
          -0.2197107916835238,
          -0.08863504315952107,
          0.7049431299694955,
          -1.038934219958541,
          0.24902748292948593,
          0.541098444314492,
          0.5311252895354919,
          -1.7570013640465558,
          1.7350275450005168,
          -0.9648479273145393,
          0.4684368880674905,
          -0.4761633431435291,
          -0.23253341925652407,
          0.6792978748234949,
          -0.13422660786352203,
          -0.03164558727951989,
          1.066826174807503,
          -0.9406274085655388,
          -1.7270818997095552,
          0.18348960866748457,
          1.2876603163425075,
          0.032467550585481446,
          -0.5388517446115304,
          0.6636257744564946,
          -0.25390446521152454,
          -0.7397395765885346,
          0.7647820586434966,
          -0.028796114485519827,
          0.17636592668248444,
          -0.2339581556535241,
          1.648118624783515,
          0.15784435352148404,
          -1.9792602419785603,
          -0.802427978056536,
          -0.033070323676519915,
          -1.862431857424558,
          0.022494395806481236,
          0.20628539101948504,
          0.5738673814454928,
          -1.142939976939543,
          0.9414493718715002,
          -0.6001154096825316,
          1.457203947585511,
          -0.5516743721845306,
          -0.6357338196075324,
          0.6921205023964951,
          -0.8408958607755368,
          0.12934962558148344,
          -0.2866734023425252,
          -0.10288240712952137,
          0.9086804347404996,
          -0.33938864903152627,
          -0.053016633234520334,
          1.1095682667175037,
          0.3387858759404878,
          -0.9634231909175393,
          -0.9050089986405381,
          1.1466114130395046,
          -0.5117817530685298,
          -0.04161874205852009,
          0.21768328219548527,
          0.682147347617495,
          -1.4891509214105503,
          1.5369891858175126,
          -0.4476686152035285,
          -0.8765142707005374,
          0.24047906454748574,
          0.21625854579848525,
          -0.661379074753533,
          -0.5616475269635308,
          2.467342053058532,
          -1.5076724945715505,
          0.9485730538565005,
          0.40574848659948926
         ]
        },
        {
         "name": "Test",
         "type": "scatter",
         "x": [
          "2022-09-14",
          "2022-09-15",
          "2022-09-16",
          "2022-09-17",
          "2022-09-18",
          "2022-09-19",
          "2022-09-20",
          "2022-09-21",
          "2022-09-22",
          "2022-09-23",
          "2022-09-24",
          "2022-09-25",
          "2022-09-26",
          "2022-09-27",
          "2022-09-28",
          "2022-09-29",
          "2022-09-30",
          "2022-10-01",
          "2022-10-02",
          "2022-10-03",
          "2022-10-04",
          "2022-10-05",
          "2022-10-06",
          "2022-10-07",
          "2022-10-08",
          "2022-10-09",
          "2022-10-10",
          "2022-10-11",
          "2022-10-12",
          "2022-10-13",
          "2022-10-14",
          "2022-10-15",
          "2022-10-16",
          "2022-10-17",
          "2022-10-18",
          "2022-10-19",
          "2022-10-20",
          "2022-10-21",
          "2022-10-22",
          "2022-10-23",
          "2022-10-24",
          "2022-10-25",
          "2022-10-26",
          "2022-10-27",
          "2022-10-28",
          "2022-10-29",
          "2022-10-30",
          "2022-10-31",
          "2022-11-01",
          "2022-11-02",
          "2022-11-03",
          "2022-11-04",
          "2022-11-05",
          "2022-11-06",
          "2022-11-07",
          "2022-11-08",
          "2022-11-09",
          "2022-11-10",
          "2022-11-11",
          "2022-11-12",
          "2022-11-13",
          "2022-11-14",
          "2022-11-15",
          "2022-11-16",
          "2022-11-17",
          "2022-11-18",
          "2022-11-19",
          "2022-11-20",
          "2022-11-21",
          "2022-11-22",
          "2022-11-23",
          "2022-11-24",
          "2022-11-25",
          "2022-11-26",
          "2022-11-27",
          "2022-11-28",
          "2022-11-29",
          "2022-11-30",
          "2022-12-01",
          "2022-12-02",
          "2022-12-03",
          "2022-12-04",
          "2022-12-05",
          "2022-12-06",
          "2022-12-07",
          "2022-12-08",
          "2022-12-09",
          "2022-12-10",
          "2022-12-11",
          "2022-12-12",
          "2022-12-13",
          "2022-12-14",
          "2022-12-15",
          "2022-12-16",
          "2022-12-17",
          "2022-12-18",
          "2022-12-19",
          "2022-12-20",
          "2022-12-21",
          "2022-12-22",
          "2022-12-23",
          "2022-12-24",
          "2022-12-25",
          "2022-12-26",
          "2022-12-27",
          "2022-12-28",
          "2022-12-29",
          "2022-12-30"
         ],
         "y": [
          -0.6884490662965335,
          -0.9591489817265392,
          0.5126037163744914,
          1.9245174858015206,
          -2.2884280401275667,
          1.2406440152415066,
          -0.06298978801352054,
          -0.033070323676519915,
          -0.5303033262295302,
          0.7149162847484957,
          -0.5730454181395311,
          -0.8366216515845367,
          1.2064503417135057,
          -1.2768651982575459,
          1.2078750781105059,
          -1.3424030725195473,
          -0.033070323676519915,
          -0.033070323676519915,
          1.6395702064015147,
          -1.6586945526535537,
          2.126830054175525,
          -1.185682068849544,
          0.27324800167848645,
          0.5012058251984912,
          -0.48756123431952936,
          -1.2170262695835445,
          0.5211521347564916,
          -0.9548747725355391,
          1.7264791266185167,
          1.1152672123055039,
          -1.9236955224955592,
          0.22195749138648538,
          0.0737849060984823,
          0.0780591152894824,
          -0.050167160440520275,
          1.0953209027475035,
          -1.8068671379415568,
          1.2890850527395075,
          -0.801003241659536,
          0.2718232652814864,
          -0.30804444829752564,
          -1.3979677920025484,
          1.8319096199965188,
          -0.5944164640945315,
          0.8730620248154989,
          -0.7653848317345352,
          1.5241665582445123,
          -2.2813043581425667,
          1.5412633950085128,
          -0.7967290324685359,
          0.42996900534848975,
          0.022494395806481236,
          -0.5730454181395311,
          0.2419038009444858,
          0.25472642851748606,
          -0.8237990240115364,
          1.3774187093535093,
          -0.8651163795245372,
          1.4771502571435113,
          -0.6015401460795317,
          -1.6971624353725545,
          1.4856986755255115,
          0.2860706292514867,
          -2.086115471753563,
          1.9273669585955209,
          -0.21686131888952376,
          0.881610443197499,
          -1.4079409467815485,
          -0.20118921852252342,
          -0.35648548579552664,
          -0.17269449058252284,
          1.603951796476514,
          -0.18694185455252313,
          0.2760974744724865,
          -1.8439102842635575,
          0.7120668119544956,
          -0.20546342771352352,
          -0.033070323676519915,
          -0.033070323676519915,
          0.3444848215284879,
          -0.8237990240115364,
          -0.02024769610351965,
          2.075539543883524,
          -1.9635881416115601,
          -0.7511374677645349,
          2.064141652707524,
          -0.7497127313675349,
          0.5225768711534916,
          0.34590955792548794,
          -0.42487283285152805,
          -0.5331527990235303,
          -0.9349284629775387,
          1.938764849771521,
          -1.2554941523025454,
          0.9699440998115009,
          -1.4022420011935484,
          0.8217715145234978,
          0.4627379424794904,
          -1.051756847531541,
          0.9699440998115009,
          -1.9507655140385598,
          1.2833861071515074,
          0.9670946270175008,
          -1.7926197739715566,
          1.4258597468515104,
          -0.7425890493825347,
          1.2947839983275076,
          -0.9691221365055395
         ]
        },
        {
         "name": "Predicted",
         "type": "scatter",
         "x": [
          "2022-09-14",
          "2022-09-15",
          "2022-09-16",
          "2022-09-17",
          "2022-09-18",
          "2022-09-19",
          "2022-09-20",
          "2022-09-21",
          "2022-09-22",
          "2022-09-23",
          "2022-09-24",
          "2022-09-25",
          "2022-09-26",
          "2022-09-27",
          "2022-09-28",
          "2022-09-29",
          "2022-09-30",
          "2022-10-01",
          "2022-10-02",
          "2022-10-03",
          "2022-10-04",
          "2022-10-05",
          "2022-10-06",
          "2022-10-07",
          "2022-10-08",
          "2022-10-09",
          "2022-10-10",
          "2022-10-11",
          "2022-10-12",
          "2022-10-13",
          "2022-10-14",
          "2022-10-15",
          "2022-10-16",
          "2022-10-17",
          "2022-10-18",
          "2022-10-19",
          "2022-10-20",
          "2022-10-21",
          "2022-10-22",
          "2022-10-23",
          "2022-10-24",
          "2022-10-25",
          "2022-10-26",
          "2022-10-27",
          "2022-10-28",
          "2022-10-29",
          "2022-10-30",
          "2022-10-31",
          "2022-11-01",
          "2022-11-02",
          "2022-11-03",
          "2022-11-04",
          "2022-11-05",
          "2022-11-06",
          "2022-11-07",
          "2022-11-08",
          "2022-11-09",
          "2022-11-10",
          "2022-11-11",
          "2022-11-12",
          "2022-11-13",
          "2022-11-14",
          "2022-11-15",
          "2022-11-16",
          "2022-11-17",
          "2022-11-18",
          "2022-11-19",
          "2022-11-20",
          "2022-11-21",
          "2022-11-22",
          "2022-11-23",
          "2022-11-24",
          "2022-11-25",
          "2022-11-26",
          "2022-11-27",
          "2022-11-28",
          "2022-11-29",
          "2022-11-30",
          "2022-12-01",
          "2022-12-02",
          "2022-12-03",
          "2022-12-04",
          "2022-12-05",
          "2022-12-06",
          "2022-12-07",
          "2022-12-08",
          "2022-12-09",
          "2022-12-10",
          "2022-12-11",
          "2022-12-12",
          "2022-12-13",
          "2022-12-14",
          "2022-12-15",
          "2022-12-16",
          "2022-12-17",
          "2022-12-18",
          "2022-12-19",
          "2022-12-20",
          "2022-12-21",
          "2022-12-22",
          "2022-12-23",
          "2022-12-24",
          "2022-12-25",
          "2022-12-26",
          "2022-12-27",
          "2022-12-28",
          "2022-12-29",
          "2022-12-30"
         ],
         "y": [
          -0.6316593885421753,
          -0.4178467392921448,
          -0.12603649497032166,
          -0.4954952597618103,
          -1.1136610507965088,
          0.04903775453567505,
          -0.8194329738616943,
          -0.47400885820388794,
          -0.6248092651367188,
          -0.34921905398368835,
          -0.5946511626243591,
          -0.23619171977043152,
          -0.34628063440322876,
          -0.75908362865448,
          -0.03623475879430771,
          -0.9680207371711731,
          -0.14452093839645386,
          -0.36114633083343506,
          -0.3264613449573517,
          -0.8723371028900146,
          0.14198309183120728,
          -1.0034723281860352,
          -0.2665821611881256,
          -0.6166009306907654,
          -0.5088430643081665,
          -0.22671058773994446,
          -0.2507151663303375,
          -0.482540100812912,
          -0.06452261656522751,
          -1.0782926082611084,
          -0.8662635087966919,
          0.23664544522762299,
          -0.464307576417923,
          -0.6652473211288452,
          -0.3984621465206146,
          -0.41539549827575684,
          -0.9345177412033081,
          -0.01904696226119995,
          -0.7595707774162292,
          -0.23038378357887268,
          -0.6765918135643005,
          -0.31836989521980286,
          0.10113442689180374,
          -1.1033942699432373,
          -0.30482301115989685,
          -0.5568796992301941,
          -0.16783800721168518,
          -1.0885913372039795,
          0.26206138730049133,
          -0.9082074761390686,
          -0.3727871775627136,
          -0.5993518829345703,
          -0.36328959465026855,
          -0.23960012197494507,
          -0.6672981381416321,
          -0.44644030928611755,
          -0.14299091696739197,
          -0.9720212817192078,
          -0.27338075637817383,
          -0.7647215723991394,
          -0.26531246304512024,
          -0.03120073676109314,
          -0.8216742277145386,
          -0.5975056290626526,
          0.028049439191818237,
          -1.1377370357513428,
          -0.2853206396102905,
          -0.7661108374595642,
          -0.1840101182460785,
          -0.3317907154560089,
          -0.19836699962615967,
          -0.47584670782089233,
          -0.9214019775390625,
          -0.2397439032793045,
          -0.4743369519710541,
          -0.018228739500045776,
          -0.5187612771987915,
          -0.2989705204963684,
          -0.5020328760147095,
          -0.4353090822696686,
          -0.3303412199020386,
          -0.0744442269206047,
          -0.5672751665115356,
          -0.9478566646575928,
          0.2505984306335449,
          -0.3261849582195282,
          -1.026581048965454,
          -0.05295942723751068,
          -0.47403547167778015,
          -0.6970210075378418,
          -0.244930237531662,
          -0.22973763942718506,
          -0.2987869083881378,
          -1.0230669975280762,
          0.07066614925861359,
          -0.652572751045227,
          -0.19268283247947693,
          -0.5889662504196167,
          -0.5291463136672974,
          -0.27994221448898315,
          -0.7882425785064697,
          0.34481877088546753,
          -0.5764518976211548,
          -0.7917858362197876,
          0.28138503432273865,
          -0.8998011946678162,
          -0.4956689476966858,
          -0.9319170713424683
         ]
        }
       ],
       "layout": {
        "template": {
         "data": {
          "bar": [
           {
            "error_x": {
             "color": "#2a3f5f"
            },
            "error_y": {
             "color": "#2a3f5f"
            },
            "marker": {
             "line": {
              "color": "#E5ECF6",
              "width": 0.5
             },
             "pattern": {
              "fillmode": "overlay",
              "size": 10,
              "solidity": 0.2
             }
            },
            "type": "bar"
           }
          ],
          "barpolar": [
           {
            "marker": {
             "line": {
              "color": "#E5ECF6",
              "width": 0.5
             },
             "pattern": {
              "fillmode": "overlay",
              "size": 10,
              "solidity": 0.2
             }
            },
            "type": "barpolar"
           }
          ],
          "carpet": [
           {
            "aaxis": {
             "endlinecolor": "#2a3f5f",
             "gridcolor": "white",
             "linecolor": "white",
             "minorgridcolor": "white",
             "startlinecolor": "#2a3f5f"
            },
            "baxis": {
             "endlinecolor": "#2a3f5f",
             "gridcolor": "white",
             "linecolor": "white",
             "minorgridcolor": "white",
             "startlinecolor": "#2a3f5f"
            },
            "type": "carpet"
           }
          ],
          "choropleth": [
           {
            "colorbar": {
             "outlinewidth": 0,
             "ticks": ""
            },
            "type": "choropleth"
           }
          ],
          "contour": [
           {
            "colorbar": {
             "outlinewidth": 0,
             "ticks": ""
            },
            "colorscale": [
             [
              0,
              "#0d0887"
             ],
             [
              0.1111111111111111,
              "#46039f"
             ],
             [
              0.2222222222222222,
              "#7201a8"
             ],
             [
              0.3333333333333333,
              "#9c179e"
             ],
             [
              0.4444444444444444,
              "#bd3786"
             ],
             [
              0.5555555555555556,
              "#d8576b"
             ],
             [
              0.6666666666666666,
              "#ed7953"
             ],
             [
              0.7777777777777778,
              "#fb9f3a"
             ],
             [
              0.8888888888888888,
              "#fdca26"
             ],
             [
              1,
              "#f0f921"
             ]
            ],
            "type": "contour"
           }
          ],
          "contourcarpet": [
           {
            "colorbar": {
             "outlinewidth": 0,
             "ticks": ""
            },
            "type": "contourcarpet"
           }
          ],
          "heatmap": [
           {
            "colorbar": {
             "outlinewidth": 0,
             "ticks": ""
            },
            "colorscale": [
             [
              0,
              "#0d0887"
             ],
             [
              0.1111111111111111,
              "#46039f"
             ],
             [
              0.2222222222222222,
              "#7201a8"
             ],
             [
              0.3333333333333333,
              "#9c179e"
             ],
             [
              0.4444444444444444,
              "#bd3786"
             ],
             [
              0.5555555555555556,
              "#d8576b"
             ],
             [
              0.6666666666666666,
              "#ed7953"
             ],
             [
              0.7777777777777778,
              "#fb9f3a"
             ],
             [
              0.8888888888888888,
              "#fdca26"
             ],
             [
              1,
              "#f0f921"
             ]
            ],
            "type": "heatmap"
           }
          ],
          "heatmapgl": [
           {
            "colorbar": {
             "outlinewidth": 0,
             "ticks": ""
            },
            "colorscale": [
             [
              0,
              "#0d0887"
             ],
             [
              0.1111111111111111,
              "#46039f"
             ],
             [
              0.2222222222222222,
              "#7201a8"
             ],
             [
              0.3333333333333333,
              "#9c179e"
             ],
             [
              0.4444444444444444,
              "#bd3786"
             ],
             [
              0.5555555555555556,
              "#d8576b"
             ],
             [
              0.6666666666666666,
              "#ed7953"
             ],
             [
              0.7777777777777778,
              "#fb9f3a"
             ],
             [
              0.8888888888888888,
              "#fdca26"
             ],
             [
              1,
              "#f0f921"
             ]
            ],
            "type": "heatmapgl"
           }
          ],
          "histogram": [
           {
            "marker": {
             "pattern": {
              "fillmode": "overlay",
              "size": 10,
              "solidity": 0.2
             }
            },
            "type": "histogram"
           }
          ],
          "histogram2d": [
           {
            "colorbar": {
             "outlinewidth": 0,
             "ticks": ""
            },
            "colorscale": [
             [
              0,
              "#0d0887"
             ],
             [
              0.1111111111111111,
              "#46039f"
             ],
             [
              0.2222222222222222,
              "#7201a8"
             ],
             [
              0.3333333333333333,
              "#9c179e"
             ],
             [
              0.4444444444444444,
              "#bd3786"
             ],
             [
              0.5555555555555556,
              "#d8576b"
             ],
             [
              0.6666666666666666,
              "#ed7953"
             ],
             [
              0.7777777777777778,
              "#fb9f3a"
             ],
             [
              0.8888888888888888,
              "#fdca26"
             ],
             [
              1,
              "#f0f921"
             ]
            ],
            "type": "histogram2d"
           }
          ],
          "histogram2dcontour": [
           {
            "colorbar": {
             "outlinewidth": 0,
             "ticks": ""
            },
            "colorscale": [
             [
              0,
              "#0d0887"
             ],
             [
              0.1111111111111111,
              "#46039f"
             ],
             [
              0.2222222222222222,
              "#7201a8"
             ],
             [
              0.3333333333333333,
              "#9c179e"
             ],
             [
              0.4444444444444444,
              "#bd3786"
             ],
             [
              0.5555555555555556,
              "#d8576b"
             ],
             [
              0.6666666666666666,
              "#ed7953"
             ],
             [
              0.7777777777777778,
              "#fb9f3a"
             ],
             [
              0.8888888888888888,
              "#fdca26"
             ],
             [
              1,
              "#f0f921"
             ]
            ],
            "type": "histogram2dcontour"
           }
          ],
          "mesh3d": [
           {
            "colorbar": {
             "outlinewidth": 0,
             "ticks": ""
            },
            "type": "mesh3d"
           }
          ],
          "parcoords": [
           {
            "line": {
             "colorbar": {
              "outlinewidth": 0,
              "ticks": ""
             }
            },
            "type": "parcoords"
           }
          ],
          "pie": [
           {
            "automargin": true,
            "type": "pie"
           }
          ],
          "scatter": [
           {
            "fillpattern": {
             "fillmode": "overlay",
             "size": 10,
             "solidity": 0.2
            },
            "type": "scatter"
           }
          ],
          "scatter3d": [
           {
            "line": {
             "colorbar": {
              "outlinewidth": 0,
              "ticks": ""
             }
            },
            "marker": {
             "colorbar": {
              "outlinewidth": 0,
              "ticks": ""
             }
            },
            "type": "scatter3d"
           }
          ],
          "scattercarpet": [
           {
            "marker": {
             "colorbar": {
              "outlinewidth": 0,
              "ticks": ""
             }
            },
            "type": "scattercarpet"
           }
          ],
          "scattergeo": [
           {
            "marker": {
             "colorbar": {
              "outlinewidth": 0,
              "ticks": ""
             }
            },
            "type": "scattergeo"
           }
          ],
          "scattergl": [
           {
            "marker": {
             "colorbar": {
              "outlinewidth": 0,
              "ticks": ""
             }
            },
            "type": "scattergl"
           }
          ],
          "scattermapbox": [
           {
            "marker": {
             "colorbar": {
              "outlinewidth": 0,
              "ticks": ""
             }
            },
            "type": "scattermapbox"
           }
          ],
          "scatterpolar": [
           {
            "marker": {
             "colorbar": {
              "outlinewidth": 0,
              "ticks": ""
             }
            },
            "type": "scatterpolar"
           }
          ],
          "scatterpolargl": [
           {
            "marker": {
             "colorbar": {
              "outlinewidth": 0,
              "ticks": ""
             }
            },
            "type": "scatterpolargl"
           }
          ],
          "scatterternary": [
           {
            "marker": {
             "colorbar": {
              "outlinewidth": 0,
              "ticks": ""
             }
            },
            "type": "scatterternary"
           }
          ],
          "surface": [
           {
            "colorbar": {
             "outlinewidth": 0,
             "ticks": ""
            },
            "colorscale": [
             [
              0,
              "#0d0887"
             ],
             [
              0.1111111111111111,
              "#46039f"
             ],
             [
              0.2222222222222222,
              "#7201a8"
             ],
             [
              0.3333333333333333,
              "#9c179e"
             ],
             [
              0.4444444444444444,
              "#bd3786"
             ],
             [
              0.5555555555555556,
              "#d8576b"
             ],
             [
              0.6666666666666666,
              "#ed7953"
             ],
             [
              0.7777777777777778,
              "#fb9f3a"
             ],
             [
              0.8888888888888888,
              "#fdca26"
             ],
             [
              1,
              "#f0f921"
             ]
            ],
            "type": "surface"
           }
          ],
          "table": [
           {
            "cells": {
             "fill": {
              "color": "#EBF0F8"
             },
             "line": {
              "color": "white"
             }
            },
            "header": {
             "fill": {
              "color": "#C8D4E3"
             },
             "line": {
              "color": "white"
             }
            },
            "type": "table"
           }
          ]
         },
         "layout": {
          "annotationdefaults": {
           "arrowcolor": "#2a3f5f",
           "arrowhead": 0,
           "arrowwidth": 1
          },
          "autotypenumbers": "strict",
          "coloraxis": {
           "colorbar": {
            "outlinewidth": 0,
            "ticks": ""
           }
          },
          "colorscale": {
           "diverging": [
            [
             0,
             "#8e0152"
            ],
            [
             0.1,
             "#c51b7d"
            ],
            [
             0.2,
             "#de77ae"
            ],
            [
             0.3,
             "#f1b6da"
            ],
            [
             0.4,
             "#fde0ef"
            ],
            [
             0.5,
             "#f7f7f7"
            ],
            [
             0.6,
             "#e6f5d0"
            ],
            [
             0.7,
             "#b8e186"
            ],
            [
             0.8,
             "#7fbc41"
            ],
            [
             0.9,
             "#4d9221"
            ],
            [
             1,
             "#276419"
            ]
           ],
           "sequential": [
            [
             0,
             "#0d0887"
            ],
            [
             0.1111111111111111,
             "#46039f"
            ],
            [
             0.2222222222222222,
             "#7201a8"
            ],
            [
             0.3333333333333333,
             "#9c179e"
            ],
            [
             0.4444444444444444,
             "#bd3786"
            ],
            [
             0.5555555555555556,
             "#d8576b"
            ],
            [
             0.6666666666666666,
             "#ed7953"
            ],
            [
             0.7777777777777778,
             "#fb9f3a"
            ],
            [
             0.8888888888888888,
             "#fdca26"
            ],
            [
             1,
             "#f0f921"
            ]
           ],
           "sequentialminus": [
            [
             0,
             "#0d0887"
            ],
            [
             0.1111111111111111,
             "#46039f"
            ],
            [
             0.2222222222222222,
             "#7201a8"
            ],
            [
             0.3333333333333333,
             "#9c179e"
            ],
            [
             0.4444444444444444,
             "#bd3786"
            ],
            [
             0.5555555555555556,
             "#d8576b"
            ],
            [
             0.6666666666666666,
             "#ed7953"
            ],
            [
             0.7777777777777778,
             "#fb9f3a"
            ],
            [
             0.8888888888888888,
             "#fdca26"
            ],
            [
             1,
             "#f0f921"
            ]
           ]
          },
          "colorway": [
           "#636efa",
           "#EF553B",
           "#00cc96",
           "#ab63fa",
           "#FFA15A",
           "#19d3f3",
           "#FF6692",
           "#B6E880",
           "#FF97FF",
           "#FECB52"
          ],
          "font": {
           "color": "#2a3f5f"
          },
          "geo": {
           "bgcolor": "white",
           "lakecolor": "white",
           "landcolor": "#E5ECF6",
           "showlakes": true,
           "showland": true,
           "subunitcolor": "white"
          },
          "hoverlabel": {
           "align": "left"
          },
          "hovermode": "closest",
          "mapbox": {
           "style": "light"
          },
          "paper_bgcolor": "white",
          "plot_bgcolor": "#E5ECF6",
          "polar": {
           "angularaxis": {
            "gridcolor": "white",
            "linecolor": "white",
            "ticks": ""
           },
           "bgcolor": "#E5ECF6",
           "radialaxis": {
            "gridcolor": "white",
            "linecolor": "white",
            "ticks": ""
           }
          },
          "scene": {
           "xaxis": {
            "backgroundcolor": "#E5ECF6",
            "gridcolor": "white",
            "gridwidth": 2,
            "linecolor": "white",
            "showbackground": true,
            "ticks": "",
            "zerolinecolor": "white"
           },
           "yaxis": {
            "backgroundcolor": "#E5ECF6",
            "gridcolor": "white",
            "gridwidth": 2,
            "linecolor": "white",
            "showbackground": true,
            "ticks": "",
            "zerolinecolor": "white"
           },
           "zaxis": {
            "backgroundcolor": "#E5ECF6",
            "gridcolor": "white",
            "gridwidth": 2,
            "linecolor": "white",
            "showbackground": true,
            "ticks": "",
            "zerolinecolor": "white"
           }
          },
          "shapedefaults": {
           "line": {
            "color": "#2a3f5f"
           }
          },
          "ternary": {
           "aaxis": {
            "gridcolor": "white",
            "linecolor": "white",
            "ticks": ""
           },
           "baxis": {
            "gridcolor": "white",
            "linecolor": "white",
            "ticks": ""
           },
           "bgcolor": "#E5ECF6",
           "caxis": {
            "gridcolor": "white",
            "linecolor": "white",
            "ticks": ""
           }
          },
          "title": {
           "x": 0.05
          },
          "xaxis": {
           "automargin": true,
           "gridcolor": "white",
           "linecolor": "white",
           "ticks": "",
           "title": {
            "standoff": 15
           },
           "zerolinecolor": "white",
           "zerolinewidth": 2
          },
          "yaxis": {
           "automargin": true,
           "gridcolor": "white",
           "linecolor": "white",
           "ticks": "",
           "title": {
            "standoff": 15
           },
           "zerolinecolor": "white",
           "zerolinewidth": 2
          }
         }
        },
        "title": {
         "text": " fct_transactions NNet & tsfresh. MAE=0.8607"
        }
       }
      }
     },
     "metadata": {},
     "output_type": "display_data"
    },
    {
     "name": "stderr",
     "output_type": "stream",
     "text": [
      "Rolling: 100%|██████████| 20/20 [00:00<00:00, 29.34it/s]\n",
      "Feature Extraction: 100%|██████████| 20/20 [00:00<00:00, 47.32it/s]\n"
     ]
    },
    {
     "data": {
      "image/png": "[encoded data removed]",
      "text/plain": [
       "<Figure size 640x480 with 1 Axes>"
      ]
     },
     "metadata": {},
     "output_type": "display_data"
    },
    {
     "data": {
      "application/vnd.plotly.v1+json": {
       "config": {
        "plotlyServerURL": "https://plot.ly"
       },
       "data": [
        {
         "name": "Train",
         "type": "scatter",
         "x": [
          "2022-01-07",
          "2022-01-08",
          "2022-01-09",
          "2022-01-10",
          "2022-01-11",
          "2022-01-12",
          "2022-01-13",
          "2022-01-14",
          "2022-01-15",
          "2022-01-16",
          "2022-01-17",
          "2022-01-18",
          "2022-01-19",
          "2022-01-20",
          "2022-01-21",
          "2022-01-22",
          "2022-01-23",
          "2022-01-24",
          "2022-01-25",
          "2022-01-26",
          "2022-01-27",
          "2022-01-28",
          "2022-01-29",
          "2022-01-30",
          "2022-01-31",
          "2022-02-01",
          "2022-02-02",
          "2022-02-03",
          "2022-02-04",
          "2022-02-05",
          "2022-02-06",
          "2022-02-07",
          "2022-02-08",
          "2022-02-09",
          "2022-02-10",
          "2022-02-11",
          "2022-02-12",
          "2022-02-13",
          "2022-02-14",
          "2022-02-15",
          "2022-02-16",
          "2022-02-17",
          "2022-02-18",
          "2022-02-19",
          "2022-02-20",
          "2022-02-21",
          "2022-02-22",
          "2022-02-23",
          "2022-02-24",
          "2022-02-25",
          "2022-02-26",
          "2022-02-27",
          "2022-02-28",
          "2022-03-01",
          "2022-03-02",
          "2022-03-03",
          "2022-03-04",
          "2022-03-05",
          "2022-03-06",
          "2022-03-07",
          "2022-03-08",
          "2022-03-09",
          "2022-03-10",
          "2022-03-11",
          "2022-03-12",
          "2022-03-13",
          "2022-03-14",
          "2022-03-15",
          "2022-03-16",
          "2022-03-17",
          "2022-03-18",
          "2022-03-19",
          "2022-03-20",
          "2022-03-21",
          "2022-03-22",
          "2022-03-23",
          "2022-03-24",
          "2022-03-25",
          "2022-03-26",
          "2022-03-27",
          "2022-03-28",
          "2022-03-29",
          "2022-03-30",
          "2022-03-31",
          "2022-04-01",
          "2022-04-02",
          "2022-04-03",
          "2022-04-04",
          "2022-04-05",
          "2022-04-06",
          "2022-04-07",
          "2022-04-08",
          "2022-04-09",
          "2022-04-10",
          "2022-04-11",
          "2022-04-12",
          "2022-04-13",
          "2022-04-14",
          "2022-04-15",
          "2022-04-16",
          "2022-04-17",
          "2022-04-18",
          "2022-04-19",
          "2022-04-20",
          "2022-04-21",
          "2022-04-22",
          "2022-04-23",
          "2022-04-24",
          "2022-04-25",
          "2022-04-26",
          "2022-04-27",
          "2022-04-28",
          "2022-04-29",
          "2022-04-30",
          "2022-05-01",
          "2022-05-02",
          "2022-05-03",
          "2022-05-04",
          "2022-05-05",
          "2022-05-06",
          "2022-05-07",
          "2022-05-08",
          "2022-05-09",
          "2022-05-10",
          "2022-05-11",
          "2022-05-12",
          "2022-05-13",
          "2022-05-14",
          "2022-05-15",
          "2022-05-16",
          "2022-05-17",
          "2022-05-18",
          "2022-05-19",
          "2022-05-20",
          "2022-05-21",
          "2022-05-22",
          "2022-05-23",
          "2022-05-24",
          "2022-05-25",
          "2022-05-26",
          "2022-05-27",
          "2022-05-28",
          "2022-05-29",
          "2022-05-30",
          "2022-05-31",
          "2022-06-01",
          "2022-06-02",
          "2022-06-03",
          "2022-06-04",
          "2022-06-05",
          "2022-06-06",
          "2022-06-07",
          "2022-06-08",
          "2022-06-09",
          "2022-06-10",
          "2022-06-11",
          "2022-06-12",
          "2022-06-13",
          "2022-06-14",
          "2022-06-15",
          "2022-06-16",
          "2022-06-17",
          "2022-06-18",
          "2022-06-19",
          "2022-06-20",
          "2022-06-21",
          "2022-06-22",
          "2022-06-23",
          "2022-06-24",
          "2022-06-25",
          "2022-06-26",
          "2022-06-27",
          "2022-06-28",
          "2022-06-29",
          "2022-06-30",
          "2022-07-01",
          "2022-07-02",
          "2022-07-03",
          "2022-07-04",
          "2022-07-05",
          "2022-07-06",
          "2022-07-07",
          "2022-07-08",
          "2022-07-09",
          "2022-07-10",
          "2022-07-11",
          "2022-07-12",
          "2022-07-13",
          "2022-07-14",
          "2022-07-15",
          "2022-07-16",
          "2022-07-17",
          "2022-07-18",
          "2022-07-19",
          "2022-07-20",
          "2022-07-21",
          "2022-07-22",
          "2022-07-23",
          "2022-07-24",
          "2022-07-25",
          "2022-07-26",
          "2022-07-27",
          "2022-07-28",
          "2022-07-29",
          "2022-07-30",
          "2022-07-31",
          "2022-08-01",
          "2022-08-02",
          "2022-08-03",
          "2022-08-04",
          "2022-08-05",
          "2022-08-06",
          "2022-08-07",
          "2022-08-08",
          "2022-08-09",
          "2022-08-10",
          "2022-08-11",
          "2022-08-12",
          "2022-08-13",
          "2022-08-14",
          "2022-08-15",
          "2022-08-16",
          "2022-08-17",
          "2022-08-18",
          "2022-08-19",
          "2022-08-20",
          "2022-08-21",
          "2022-08-22",
          "2022-08-23",
          "2022-08-24",
          "2022-08-25",
          "2022-08-26",
          "2022-08-27",
          "2022-08-28",
          "2022-08-29",
          "2022-08-30",
          "2022-08-31",
          "2022-09-01",
          "2022-09-02",
          "2022-09-03",
          "2022-09-04",
          "2022-09-05",
          "2022-09-06",
          "2022-09-07",
          "2022-09-08",
          "2022-09-09",
          "2022-09-10",
          "2022-09-11",
          "2022-09-12",
          "2022-09-13"
         ],
         "y": [
          0.8204647763962049,
          -1.1764343496432388,
          0.25474094097865974,
          -0.08450060939097549,
          1.284994399345535,
          -0.7186510075251232,
          -1.4385755476561388,
          1.87481209487456,
          -1.0135598552896357,
          0.18631437826205718,
          0.17667683421746527,
          -0.5528852499581424,
          0.41954294414118143,
          1.2262053806735242,
          -1.6091600772454155,
          0.4937520332845391,
          -1.5744649186848847,
          1.1279024314186867,
          0.6826478965585405,
          -0.9971760304138294,
          -1.1215003485890649,
          0.45520185710617145,
          0.543867262316417,
          0.6662640716827343,
          0.5824174384947847,
          -2.1450075261247257,
          1.4006449278806379,
          0.4291804881857733,
          -0.904655607585747,
          0.5602510871922233,
          -0.9017643443723695,
          -0.7880413246461849,
          0.4976070509023759,
          -0.4979512489039684,
          2.5542589500182897,
          -0.873815466643053,
          -0.6309493567193368,
          -0.7032309370537762,
          1.1327212034409828,
          1.4632889641704854,
          0.04030558598648974,
          0.7693857929598676,
          0.3462976094022829,
          -0.3726631763242736,
          -0.2955628239675383,
          0.17860434302638364,
          -0.11244948712029203,
          0.3877390487940281,
          -0.9807922055380232,
          1.2734293464920248,
          0.5881999649215398,
          -0.0729355565374652,
          0.04030558598648974,
          0.5573598239788456,
          -0.9268219588883084,
          0.04030558598648974,
          1.3341458739729537,
          -1.7951646773060395,
          1.2184953454378509,
          1.12404741380085,
          -1.1099352957355546,
          0.5082083493514269,
          0.26534223942771085,
          -1.7007167456690386,
          -0.677209568133378,
          2.1899597851327153,
          -0.5548127587670607,
          -0.20882492756621113,
          1.8121680585847124,
          -2.0168281903316534,
          0.3655726974914667,
          1.2310241526958203,
          -1.7151730617359267,
          0.6334964219311218,
          -0.2425563317222828,
          0.33569631095323177,
          0.06873634091803588,
          0.2595597130009557,
          -1.874192538471693,
          2.0058826938810097,
          -0.2647226830248442,
          0.9438253401669813,
          -0.7976788686907769,
          -1.5397697601243538,
          1.7851829352598552,
          -0.9027280987768287,
          -0.8015338863086137,
          0.3983403472430792,
          -0.7273247971652559,
          1.2676468200652695,
          0.670119089300571,
          -0.49698749449950924,
          0.09764897305181161,
          -0.18665857626364973,
          -1.9532203996373467,
          1.0748959391734314,
          0.0880114290072197,
          -0.005472748225321834,
          0.11788781554545462,
          1.7369952150368955,
          -0.3610981234707633,
          -1.9349090659526222,
          0.39737659283862004,
          0.6209676146731523,
          0.15836550053274065,
          -0.2329187876776909,
          -1.1658330511941877,
          2.6265405303527287,
          -0.9489883101908698,
          -1.5744649186848847,
          0.765530775342031,
          -0.04209541559477109,
          0.4947157876889983,
          0.04030558598648974,
          0.04030558598648974,
          -0.41121335250264124,
          -0.9836834687514008,
          -0.8102076759487463,
          0.2884723451347314,
          2.2853714711741753,
          -1.3711127393439955,
          0.9216589888644199,
          -2.0081544006915206,
          1.3418559092086273,
          -0.8998368355634512,
          -0.2801427534961913,
          -0.480603669623703,
          0.37328273272714024,
          0.8098634779471537,
          -1.459778144554241,
          1.5211142284380368,
          -0.32351170169685484,
          -0.3061641224165894,
          1.12404741380085,
          -0.8015338863086137,
          -0.6492606904040614,
          1.2859581537499942,
          -1.146557963105004,
          -0.5779428644740814,
          2.0193752555434386,
          -1.6139788492677116,
          0.30967494203283363,
          -0.17027475138784348,
          0.46965817317305936,
          -1.0829501724106974,
          0.7308356167815,
          0.6537352644247647,
          -0.0411316611903119,
          -1.136920419060412,
          -0.5923991805409692,
          0.9149127080332056,
          1.1385037298677378,
          -0.8815255018787265,
          0.44556431306157956,
          0.7790233370044596,
          -1.5320597248886803,
          -0.48638619605045813,
          1.87481209487456,
          -1.076203891579483,
          -0.9759734335157272,
          1.6309822305463846,
          -0.5403564427001729,
          0.01862111188615794,
          -0.034385380359097564,
          -0.26954145504714017,
          0.8773262862592971,
          -1.293048632582801,
          -1.3923153362420977,
          0.04030558598648974,
          -2.3310121261853496,
          0.645061474784632,
          -2.019719453545031,
          2.733517269247699,
          1.1529600459346259,
          0.04030558598648974,
          0.04030558598648974,
          -1.9965893478380103,
          2.1485183457409702,
          -0.8921268003277776,
          0.6913216861986732,
          -0.6550432168308166,
          -0.43530721261412103,
          0.1313803772078833,
          0.2730522746633844,
          1.8208418482248452,
          -1.177398104047698,
          -0.06811678451516924,
          0.8185372675872864,
          0.04753374401993367,
          -0.7928600966684809,
          -0.04884169642598543,
          0.36460894308700753,
          -0.6858833577735107,
          0.3212399948863439,
          -0.0931743990311082,
          -0.7157597443117456,
          0.4291804881857733,
          0.28750859073027224,
          -0.22810001565539495,
          -0.2512301213624155,
          -0.14232587365852695,
          2.1870685219193375,
          -2.756027818551853,
          0.8860000758994298,
          0.2990736435837825,
          -0.6839558489645924,
          1.1452500106989523,
          0.08993893781613808,
          -0.374590685133192,
          -1.3576201776815668,
          0.9746654811096753,
          0.4715856819819777,
          -1.066566347534891,
          0.442673049848202,
          0.8638337245968684,
          -2.0187556991405717,
          -0.6174567950569082,
          1.724466407778926,
          -0.4719298799835703,
          0.031149919144127423,
          0.5833811928992438,
          -0.6588982344486534,
          1.1625975899792178,
          -0.023784081910046464,
          -0.5654140572161118,
          0.8175735131828272,
          -2.250056756210778,
          0.32895003012201746,
          0.9592454106383284,
          -0.0016177306074850696,
          0.4002678560519976,
          -0.6232393214836633,
          0.12367034197220977,
          -0.9730821703023497,
          1.3746235589602398,
          -0.9008005899679103,
          0.3482251182112013,
          -0.3109828944388854,
          0.19980693992448587,
          0.8840725670905114,
          -1.3152149838853624,
          -0.12015952235596555,
          0.7472194416573062,
          0.6036200353928868,
          0.3125662052462112,
          -1.9021414162010097,
          1.2637918024474328,
          -0.4381984758274986,
          0.609402561819642,
          -1.1128265589489321
         ]
        },
        {
         "name": "Test",
         "type": "scatter",
         "x": [
          "2022-09-14",
          "2022-09-15",
          "2022-09-16",
          "2022-09-17",
          "2022-09-18",
          "2022-09-19",
          "2022-09-20",
          "2022-09-21",
          "2022-09-22",
          "2022-09-23",
          "2022-09-24",
          "2022-09-25",
          "2022-09-26",
          "2022-09-27",
          "2022-09-28",
          "2022-09-29",
          "2022-09-30",
          "2022-10-01",
          "2022-10-02",
          "2022-10-03",
          "2022-10-04",
          "2022-10-05",
          "2022-10-06",
          "2022-10-07",
          "2022-10-08",
          "2022-10-09",
          "2022-10-10",
          "2022-10-11",
          "2022-10-12",
          "2022-10-13",
          "2022-10-14",
          "2022-10-15",
          "2022-10-16",
          "2022-10-17",
          "2022-10-18",
          "2022-10-19",
          "2022-10-20",
          "2022-10-21",
          "2022-10-22",
          "2022-10-23",
          "2022-10-24",
          "2022-10-25",
          "2022-10-26",
          "2022-10-27",
          "2022-10-28",
          "2022-10-29",
          "2022-10-30",
          "2022-10-31",
          "2022-11-01",
          "2022-11-02",
          "2022-11-03",
          "2022-11-04",
          "2022-11-05",
          "2022-11-06",
          "2022-11-07",
          "2022-11-08",
          "2022-11-09",
          "2022-11-10",
          "2022-11-11",
          "2022-11-12",
          "2022-11-13",
          "2022-11-14",
          "2022-11-15",
          "2022-11-16",
          "2022-11-17",
          "2022-11-18",
          "2022-11-19",
          "2022-11-20",
          "2022-11-21",
          "2022-11-22",
          "2022-11-23",
          "2022-11-24",
          "2022-11-25",
          "2022-11-26",
          "2022-11-27",
          "2022-11-28",
          "2022-11-29",
          "2022-11-30",
          "2022-12-01",
          "2022-12-02",
          "2022-12-03",
          "2022-12-04",
          "2022-12-05",
          "2022-12-06",
          "2022-12-07",
          "2022-12-08",
          "2022-12-09",
          "2022-12-10",
          "2022-12-11",
          "2022-12-12",
          "2022-12-13",
          "2022-12-14",
          "2022-12-15",
          "2022-12-16",
          "2022-12-17",
          "2022-12-18",
          "2022-12-19",
          "2022-12-20",
          "2022-12-21",
          "2022-12-22",
          "2022-12-23",
          "2022-12-24",
          "2022-12-25",
          "2022-12-26",
          "2022-12-27",
          "2022-12-28",
          "2022-12-29",
          "2022-12-30"
         ],
         "y": [
          0.9688829546829202,
          0.5255559286316923,
          -0.7273247971652559,
          0.29425487156148655,
          -0.4381984758274986,
          -0.8901992915188592,
          -0.20689741875729276,
          0.3212399948863439,
          0.7250530903547449,
          0.483150734835488,
          0.4272529793768549,
          -0.546138969126928,
          -0.9104381340125023,
          0.3019649067971601,
          -0.7109409722894497,
          0.9862305339631856,
          0.04030558598648974,
          0.04030558598648974,
          0.886963830303889,
          -0.3967570364357534,
          -0.7976788686907769,
          0.4070141368832119,
          0.26726974823662925,
          -0.2213537348241806,
          0.4889332612622432,
          -1.167760560003106,
          1.2464442231671673,
          -1.9522566452328876,
          1.043092043826278,
          -0.44012598463641694,
          2.001063921858714,
          -1.2940123869872602,
          0.5872362105170806,
          1.5461718429539757,
          -1.9185252410768159,
          0.3761739959405178,
          -1.6101238316498747,
          0.6431339659757137,
          0.40605038247875275,
          0.18824188707097556,
          -0.3919382644134574,
          -0.42181465095169235,
          -0.29267156075416073,
          0.6122938250330195,
          -1.1494492263183815,
          2.259350102253777,
          -0.7687662365570012,
          -0.018001555483291316,
          1.2329516615047387,
          0.04030558598648974,
          0.9534628842115732,
          0.11306904352315866,
          -0.9836834687514008,
          1.492201596304261,
          -0.8979093267545327,
          1.2734293464920248,
          0.3655726974914667,
          -0.2955628239675383,
          -0.6116742686301531,
          0.4002678560519976,
          -1.5416972689332722,
          1.0816422200046456,
          -0.9017643443723695,
          0.4648394011507634,
          0.624822632290989,
          -0.3967570364357534,
          0.08608392019830131,
          -1.1311378926336568,
          1.3052332418391779,
          -0.5567402675759792,
          0.2576322041920373,
          0.10825027150086271,
          -0.6627532520664902,
          0.21040823837353695,
          -0.2974903327764567,
          1.7591615663394569,
          -0.027639099527883227,
          0.04030558598648974,
          0.04030558598648974,
          -1.071385119557187,
          0.4407455410392836,
          -0.18762233066810893,
          0.8156460043739089,
          -0.9171844148437166,
          0.24510339693406782,
          0.48122322602656964,
          -1.38942407302872,
          1.2368066791225754,
          -1.0800589091973198,
          -0.566377811620571,
          0.8532324261478172,
          -0.4449447566587129,
          -0.0931743990311082,
          0.03307742795304581,
          0.7886608810490515,
          0.42532547056793657,
          -0.19918738352161922,
          -1.5339872336975986,
          1.6194171776928743,
          -0.9460970469774923,
          0.22293704563150643,
          -1.4530318637230266,
          0.04030558598648974,
          -1.5648273746402928,
          -0.3832644747733247,
          0.7896246354535107,
          -0.2955628239675383,
          0.7616757577241942
         ]
        },
        {
         "name": "Predicted",
         "type": "scatter",
         "x": [
          "2022-09-14",
          "2022-09-15",
          "2022-09-16",
          "2022-09-17",
          "2022-09-18",
          "2022-09-19",
          "2022-09-20",
          "2022-09-21",
          "2022-09-22",
          "2022-09-23",
          "2022-09-24",
          "2022-09-25",
          "2022-09-26",
          "2022-09-27",
          "2022-09-28",
          "2022-09-29",
          "2022-09-30",
          "2022-10-01",
          "2022-10-02",
          "2022-10-03",
          "2022-10-04",
          "2022-10-05",
          "2022-10-06",
          "2022-10-07",
          "2022-10-08",
          "2022-10-09",
          "2022-10-10",
          "2022-10-11",
          "2022-10-12",
          "2022-10-13",
          "2022-10-14",
          "2022-10-15",
          "2022-10-16",
          "2022-10-17",
          "2022-10-18",
          "2022-10-19",
          "2022-10-20",
          "2022-10-21",
          "2022-10-22",
          "2022-10-23",
          "2022-10-24",
          "2022-10-25",
          "2022-10-26",
          "2022-10-27",
          "2022-10-28",
          "2022-10-29",
          "2022-10-30",
          "2022-10-31",
          "2022-11-01",
          "2022-11-02",
          "2022-11-03",
          "2022-11-04",
          "2022-11-05",
          "2022-11-06",
          "2022-11-07",
          "2022-11-08",
          "2022-11-09",
          "2022-11-10",
          "2022-11-11",
          "2022-11-12",
          "2022-11-13",
          "2022-11-14",
          "2022-11-15",
          "2022-11-16",
          "2022-11-17",
          "2022-11-18",
          "2022-11-19",
          "2022-11-20",
          "2022-11-21",
          "2022-11-22",
          "2022-11-23",
          "2022-11-24",
          "2022-11-25",
          "2022-11-26",
          "2022-11-27",
          "2022-11-28",
          "2022-11-29",
          "2022-11-30",
          "2022-12-01",
          "2022-12-02",
          "2022-12-03",
          "2022-12-04",
          "2022-12-05",
          "2022-12-06",
          "2022-12-07",
          "2022-12-08",
          "2022-12-09",
          "2022-12-10",
          "2022-12-11",
          "2022-12-12",
          "2022-12-13",
          "2022-12-14",
          "2022-12-15",
          "2022-12-16",
          "2022-12-17",
          "2022-12-18",
          "2022-12-19",
          "2022-12-20",
          "2022-12-21",
          "2022-12-22",
          "2022-12-23",
          "2022-12-24",
          "2022-12-25",
          "2022-12-26",
          "2022-12-27",
          "2022-12-28",
          "2022-12-29",
          "2022-12-30"
         ],
         "y": [
          0.055318042635917664,
          -0.13985343277454376,
          -0.1541879028081894,
          -0.31943491101264954,
          -0.5630779266357422,
          -0.28462910652160645,
          0.4429905414581299,
          -0.058350447565317154,
          0.027190210297703743,
          -0.21759769320487976,
          -0.5225189328193665,
          -0.5685753226280212,
          -0.32011908292770386,
          0.1513354778289795,
          -0.20066320896148682,
          0.20416176319122314,
          -0.04015718773007393,
          -0.6839888095855713,
          -0.5297031402587891,
          -0.6938618421554565,
          0.08582204580307007,
          -0.29190582036972046,
          -0.18228429555892944,
          -0.16260430216789246,
          -0.48972296714782715,
          -0.6839029788970947,
          -0.08620566874742508,
          -0.3778819739818573,
          -0.059471771121025085,
          -0.25709250569343567,
          0.07283096760511398,
          -0.659805178642273,
          -0.24203769862651825,
          -0.23605509102344513,
          -0.4417879283428192,
          -0.04889209568500519,
          -0.3440874516963959,
          0.27624160051345825,
          -0.32143154740333557,
          -0.5083840489387512,
          -0.03645525127649307,
          0.3120748996734619,
          -0.08281884342432022,
          0.1617678999900818,
          0.017635639756917953,
          0.033459752798080444,
          -0.5518001317977905,
          -0.08484314382076263,
          0.4136333167552948,
          -0.6107749342918396,
          -0.2115023285150528,
          -0.56681889295578,
          -0.5049172639846802,
          -0.5989841222763062,
          -0.5775782465934753,
          0.29541170597076416,
          -0.7575510740280151,
          -0.5705934166908264,
          -0.8026984930038452,
          -0.8279582262039185,
          -1.0146148204803467,
          -0.22095291316509247,
          -0.3449818193912506,
          -0.4472479224205017,
          -0.5696037411689758,
          -0.6110493540763855,
          -0.9492477178573608,
          -0.7866172790527344,
          -0.3095979690551758,
          -0.37617215514183044,
          -0.2938283085823059,
          -0.27520421147346497,
          -0.16856959462165833,
          -0.2511863708496094,
          -0.6382720470428467,
          0.004268571734428406,
          -0.26937445998191833,
          -0.2800240218639374,
          -0.10123954713344574,
          -0.18391799926757812,
          -0.2937401831150055,
          -0.5233691334724426,
          -0.4100756049156189,
          -0.14014065265655518,
          -0.3435826301574707,
          -0.27512794733047485,
          -0.2997211217880249,
          -0.25264257192611694,
          -0.7179814577102661,
          -0.23900732398033142,
          0.30835580825805664,
          -0.3432047963142395,
          -0.01616997830569744,
          -0.016763940453529358,
          -0.43569910526275635,
          -0.6884522438049316,
          -0.4574772119522095,
          0.19203944504261017,
          0.24595557153224945,
          -0.11421310901641846,
          0.25043004751205444,
          -0.3673027455806732,
          -0.13986198604106903,
          -0.0018962621688842773,
          0.9995696544647217,
          0.49049246311187744,
          0.44846734404563904,
          0.650321900844574
         ]
        }
       ],
       "layout": {
        "template": {
         "data": {
          "bar": [
           {
            "error_x": {
             "color": "#2a3f5f"
            },
            "error_y": {
             "color": "#2a3f5f"
            },
            "marker": {
             "line": {
              "color": "#E5ECF6",
              "width": 0.5
             },
             "pattern": {
              "fillmode": "overlay",
              "size": 10,
              "solidity": 0.2
             }
            },
            "type": "bar"
           }
          ],
          "barpolar": [
           {
            "marker": {
             "line": {
              "color": "#E5ECF6",
              "width": 0.5
             },
             "pattern": {
              "fillmode": "overlay",
              "size": 10,
              "solidity": 0.2
             }
            },
            "type": "barpolar"
           }
          ],
          "carpet": [
           {
            "aaxis": {
             "endlinecolor": "#2a3f5f",
             "gridcolor": "white",
             "linecolor": "white",
             "minorgridcolor": "white",
             "startlinecolor": "#2a3f5f"
            },
            "baxis": {
             "endlinecolor": "#2a3f5f",
             "gridcolor": "white",
             "linecolor": "white",
             "minorgridcolor": "white",
             "startlinecolor": "#2a3f5f"
            },
            "type": "carpet"
           }
          ],
          "choropleth": [
           {
            "colorbar": {
             "outlinewidth": 0,
             "ticks": ""
            },
            "type": "choropleth"
           }
          ],
          "contour": [
           {
            "colorbar": {
             "outlinewidth": 0,
             "ticks": ""
            },
            "colorscale": [
             [
              0,
              "#0d0887"
             ],
             [
              0.1111111111111111,
              "#46039f"
             ],
             [
              0.2222222222222222,
              "#7201a8"
             ],
             [
              0.3333333333333333,
              "#9c179e"
             ],
             [
              0.4444444444444444,
              "#bd3786"
             ],
             [
              0.5555555555555556,
              "#d8576b"
             ],
             [
              0.6666666666666666,
              "#ed7953"
             ],
             [
              0.7777777777777778,
              "#fb9f3a"
             ],
             [
              0.8888888888888888,
              "#fdca26"
             ],
             [
              1,
              "#f0f921"
             ]
            ],
            "type": "contour"
           }
          ],
          "contourcarpet": [
           {
            "colorbar": {
             "outlinewidth": 0,
             "ticks": ""
            },
            "type": "contourcarpet"
           }
          ],
          "heatmap": [
           {
            "colorbar": {
             "outlinewidth": 0,
             "ticks": ""
            },
            "colorscale": [
             [
              0,
              "#0d0887"
             ],
             [
              0.1111111111111111,
              "#46039f"
             ],
             [
              0.2222222222222222,
              "#7201a8"
             ],
             [
              0.3333333333333333,
              "#9c179e"
             ],
             [
              0.4444444444444444,
              "#bd3786"
             ],
             [
              0.5555555555555556,
              "#d8576b"
             ],
             [
              0.6666666666666666,
              "#ed7953"
             ],
             [
              0.7777777777777778,
              "#fb9f3a"
             ],
             [
              0.8888888888888888,
              "#fdca26"
             ],
             [
              1,
              "#f0f921"
             ]
            ],
            "type": "heatmap"
           }
          ],
          "heatmapgl": [
           {
            "colorbar": {
             "outlinewidth": 0,
             "ticks": ""
            },
            "colorscale": [
             [
              0,
              "#0d0887"
             ],
             [
              0.1111111111111111,
              "#46039f"
             ],
             [
              0.2222222222222222,
              "#7201a8"
             ],
             [
              0.3333333333333333,
              "#9c179e"
             ],
             [
              0.4444444444444444,
              "#bd3786"
             ],
             [
              0.5555555555555556,
              "#d8576b"
             ],
             [
              0.6666666666666666,
              "#ed7953"
             ],
             [
              0.7777777777777778,
              "#fb9f3a"
             ],
             [
              0.8888888888888888,
              "#fdca26"
             ],
             [
              1,
              "#f0f921"
             ]
            ],
            "type": "heatmapgl"
           }
          ],
          "histogram": [
           {
            "marker": {
             "pattern": {
              "fillmode": "overlay",
              "size": 10,
              "solidity": 0.2
             }
            },
            "type": "histogram"
           }
          ],
          "histogram2d": [
           {
            "colorbar": {
             "outlinewidth": 0,
             "ticks": ""
            },
            "colorscale": [
             [
              0,
              "#0d0887"
             ],
             [
              0.1111111111111111,
              "#46039f"
             ],
             [
              0.2222222222222222,
              "#7201a8"
             ],
             [
              0.3333333333333333,
              "#9c179e"
             ],
             [
              0.4444444444444444,
              "#bd3786"
             ],
             [
              0.5555555555555556,
              "#d8576b"
             ],
             [
              0.6666666666666666,
              "#ed7953"
             ],
             [
              0.7777777777777778,
              "#fb9f3a"
             ],
             [
              0.8888888888888888,
              "#fdca26"
             ],
             [
              1,
              "#f0f921"
             ]
            ],
            "type": "histogram2d"
           }
          ],
          "histogram2dcontour": [
           {
            "colorbar": {
             "outlinewidth": 0,
             "ticks": ""
            },
            "colorscale": [
             [
              0,
              "#0d0887"
             ],
             [
              0.1111111111111111,
              "#46039f"
             ],
             [
              0.2222222222222222,
              "#7201a8"
             ],
             [
              0.3333333333333333,
              "#9c179e"
             ],
             [
              0.4444444444444444,
              "#bd3786"
             ],
             [
              0.5555555555555556,
              "#d8576b"
             ],
             [
              0.6666666666666666,
              "#ed7953"
             ],
             [
              0.7777777777777778,
              "#fb9f3a"
             ],
             [
              0.8888888888888888,
              "#fdca26"
             ],
             [
              1,
              "#f0f921"
             ]
            ],
            "type": "histogram2dcontour"
           }
          ],
          "mesh3d": [
           {
            "colorbar": {
             "outlinewidth": 0,
             "ticks": ""
            },
            "type": "mesh3d"
           }
          ],
          "parcoords": [
           {
            "line": {
             "colorbar": {
              "outlinewidth": 0,
              "ticks": ""
             }
            },
            "type": "parcoords"
           }
          ],
          "pie": [
           {
            "automargin": true,
            "type": "pie"
           }
          ],
          "scatter": [
           {
            "fillpattern": {
             "fillmode": "overlay",
             "size": 10,
             "solidity": 0.2
            },
            "type": "scatter"
           }
          ],
          "scatter3d": [
           {
            "line": {
             "colorbar": {
              "outlinewidth": 0,
              "ticks": ""
             }
            },
            "marker": {
             "colorbar": {
              "outlinewidth": 0,
              "ticks": ""
             }
            },
            "type": "scatter3d"
           }
          ],
          "scattercarpet": [
           {
            "marker": {
             "colorbar": {
              "outlinewidth": 0,
              "ticks": ""
             }
            },
            "type": "scattercarpet"
           }
          ],
          "scattergeo": [
           {
            "marker": {
             "colorbar": {
              "outlinewidth": 0,
              "ticks": ""
             }
            },
            "type": "scattergeo"
           }
          ],
          "scattergl": [
           {
            "marker": {
             "colorbar": {
              "outlinewidth": 0,
              "ticks": ""
             }
            },
            "type": "scattergl"
           }
          ],
          "scattermapbox": [
           {
            "marker": {
             "colorbar": {
              "outlinewidth": 0,
              "ticks": ""
             }
            },
            "type": "scattermapbox"
           }
          ],
          "scatterpolar": [
           {
            "marker": {
             "colorbar": {
              "outlinewidth": 0,
              "ticks": ""
             }
            },
            "type": "scatterpolar"
           }
          ],
          "scatterpolargl": [
           {
            "marker": {
             "colorbar": {
              "outlinewidth": 0,
              "ticks": ""
             }
            },
            "type": "scatterpolargl"
           }
          ],
          "scatterternary": [
           {
            "marker": {
             "colorbar": {
              "outlinewidth": 0,
              "ticks": ""
             }
            },
            "type": "scatterternary"
           }
          ],
          "surface": [
           {
            "colorbar": {
             "outlinewidth": 0,
             "ticks": ""
            },
            "colorscale": [
             [
              0,
              "#0d0887"
             ],
             [
              0.1111111111111111,
              "#46039f"
             ],
             [
              0.2222222222222222,
              "#7201a8"
             ],
             [
              0.3333333333333333,
              "#9c179e"
             ],
             [
              0.4444444444444444,
              "#bd3786"
             ],
             [
              0.5555555555555556,
              "#d8576b"
             ],
             [
              0.6666666666666666,
              "#ed7953"
             ],
             [
              0.7777777777777778,
              "#fb9f3a"
             ],
             [
              0.8888888888888888,
              "#fdca26"
             ],
             [
              1,
              "#f0f921"
             ]
            ],
            "type": "surface"
           }
          ],
          "table": [
           {
            "cells": {
             "fill": {
              "color": "#EBF0F8"
             },
             "line": {
              "color": "white"
             }
            },
            "header": {
             "fill": {
              "color": "#C8D4E3"
             },
             "line": {
              "color": "white"
             }
            },
            "type": "table"
           }
          ]
         },
         "layout": {
          "annotationdefaults": {
           "arrowcolor": "#2a3f5f",
           "arrowhead": 0,
           "arrowwidth": 1
          },
          "autotypenumbers": "strict",
          "coloraxis": {
           "colorbar": {
            "outlinewidth": 0,
            "ticks": ""
           }
          },
          "colorscale": {
           "diverging": [
            [
             0,
             "#8e0152"
            ],
            [
             0.1,
             "#c51b7d"
            ],
            [
             0.2,
             "#de77ae"
            ],
            [
             0.3,
             "#f1b6da"
            ],
            [
             0.4,
             "#fde0ef"
            ],
            [
             0.5,
             "#f7f7f7"
            ],
            [
             0.6,
             "#e6f5d0"
            ],
            [
             0.7,
             "#b8e186"
            ],
            [
             0.8,
             "#7fbc41"
            ],
            [
             0.9,
             "#4d9221"
            ],
            [
             1,
             "#276419"
            ]
           ],
           "sequential": [
            [
             0,
             "#0d0887"
            ],
            [
             0.1111111111111111,
             "#46039f"
            ],
            [
             0.2222222222222222,
             "#7201a8"
            ],
            [
             0.3333333333333333,
             "#9c179e"
            ],
            [
             0.4444444444444444,
             "#bd3786"
            ],
            [
             0.5555555555555556,
             "#d8576b"
            ],
            [
             0.6666666666666666,
             "#ed7953"
            ],
            [
             0.7777777777777778,
             "#fb9f3a"
            ],
            [
             0.8888888888888888,
             "#fdca26"
            ],
            [
             1,
             "#f0f921"
            ]
           ],
           "sequentialminus": [
            [
             0,
             "#0d0887"
            ],
            [
             0.1111111111111111,
             "#46039f"
            ],
            [
             0.2222222222222222,
             "#7201a8"
            ],
            [
             0.3333333333333333,
             "#9c179e"
            ],
            [
             0.4444444444444444,
             "#bd3786"
            ],
            [
             0.5555555555555556,
             "#d8576b"
            ],
            [
             0.6666666666666666,
             "#ed7953"
            ],
            [
             0.7777777777777778,
             "#fb9f3a"
            ],
            [
             0.8888888888888888,
             "#fdca26"
            ],
            [
             1,
             "#f0f921"
            ]
           ]
          },
          "colorway": [
           "#636efa",
           "#EF553B",
           "#00cc96",
           "#ab63fa",
           "#FFA15A",
           "#19d3f3",
           "#FF6692",
           "#B6E880",
           "#FF97FF",
           "#FECB52"
          ],
          "font": {
           "color": "#2a3f5f"
          },
          "geo": {
           "bgcolor": "white",
           "lakecolor": "white",
           "landcolor": "#E5ECF6",
           "showlakes": true,
           "showland": true,
           "subunitcolor": "white"
          },
          "hoverlabel": {
           "align": "left"
          },
          "hovermode": "closest",
          "mapbox": {
           "style": "light"
          },
          "paper_bgcolor": "white",
          "plot_bgcolor": "#E5ECF6",
          "polar": {
           "angularaxis": {
            "gridcolor": "white",
            "linecolor": "white",
            "ticks": ""
           },
           "bgcolor": "#E5ECF6",
           "radialaxis": {
            "gridcolor": "white",
            "linecolor": "white",
            "ticks": ""
           }
          },
          "scene": {
           "xaxis": {
            "backgroundcolor": "#E5ECF6",
            "gridcolor": "white",
            "gridwidth": 2,
            "linecolor": "white",
            "showbackground": true,
            "ticks": "",
            "zerolinecolor": "white"
           },
           "yaxis": {
            "backgroundcolor": "#E5ECF6",
            "gridcolor": "white",
            "gridwidth": 2,
            "linecolor": "white",
            "showbackground": true,
            "ticks": "",
            "zerolinecolor": "white"
           },
           "zaxis": {
            "backgroundcolor": "#E5ECF6",
            "gridcolor": "white",
            "gridwidth": 2,
            "linecolor": "white",
            "showbackground": true,
            "ticks": "",
            "zerolinecolor": "white"
           }
          },
          "shapedefaults": {
           "line": {
            "color": "#2a3f5f"
           }
          },
          "ternary": {
           "aaxis": {
            "gridcolor": "white",
            "linecolor": "white",
            "ticks": ""
           },
           "baxis": {
            "gridcolor": "white",
            "linecolor": "white",
            "ticks": ""
           },
           "bgcolor": "#E5ECF6",
           "caxis": {
            "gridcolor": "white",
            "linecolor": "white",
            "ticks": ""
           }
          },
          "title": {
           "x": 0.05
          },
          "xaxis": {
           "automargin": true,
           "gridcolor": "white",
           "linecolor": "white",
           "ticks": "",
           "title": {
            "standoff": 15
           },
           "zerolinecolor": "white",
           "zerolinewidth": 2
          },
          "yaxis": {
           "automargin": true,
           "gridcolor": "white",
           "linecolor": "white",
           "ticks": "",
           "title": {
            "standoff": 15
           },
           "zerolinecolor": "white",
           "zerolinewidth": 2
          }
         }
        },
        "title": {
         "text": " kano_transactions NNet & tsfresh. MAE=0.7277"
        }
       }
      }
     },
     "metadata": {},
     "output_type": "display_data"
    },
    {
     "name": "stderr",
     "output_type": "stream",
     "text": [
      "Rolling: 100%|██████████| 20/20 [00:00<00:00, 22.84it/s]\n",
      "Feature Extraction: 100%|██████████| 20/20 [00:00<00:00, 59.60it/s]\n"
     ]
    },
    {
     "data": {
      "image/png": "[encoded data removed]",
      "text/plain": [
       "<Figure size 640x480 with 1 Axes>"
      ]
     },
     "metadata": {},
     "output_type": "display_data"
    },
    {
     "data": {
      "application/vnd.plotly.v1+json": {
       "config": {
        "plotlyServerURL": "https://plot.ly"
       },
       "data": [
        {
         "name": "Train",
         "type": "scatter",
         "x": [
          "2022-01-07",
          "2022-01-08",
          "2022-01-09",
          "2022-01-10",
          "2022-01-11",
          "2022-01-12",
          "2022-01-13",
          "2022-01-14",
          "2022-01-15",
          "2022-01-16",
          "2022-01-17",
          "2022-01-18",
          "2022-01-19",
          "2022-01-20",
          "2022-01-21",
          "2022-01-22",
          "2022-01-23",
          "2022-01-24",
          "2022-01-25",
          "2022-01-26",
          "2022-01-27",
          "2022-01-28",
          "2022-01-29",
          "2022-01-30",
          "2022-01-31",
          "2022-02-01",
          "2022-02-02",
          "2022-02-03",
          "2022-02-04",
          "2022-02-05",
          "2022-02-06",
          "2022-02-07",
          "2022-02-08",
          "2022-02-09",
          "2022-02-10",
          "2022-02-11",
          "2022-02-12",
          "2022-02-13",
          "2022-02-14",
          "2022-02-15",
          "2022-02-16",
          "2022-02-17",
          "2022-02-18",
          "2022-02-19",
          "2022-02-20",
          "2022-02-21",
          "2022-02-22",
          "2022-02-23",
          "2022-02-24",
          "2022-02-25",
          "2022-02-26",
          "2022-02-27",
          "2022-02-28",
          "2022-03-01",
          "2022-03-02",
          "2022-03-03",
          "2022-03-04",
          "2022-03-05",
          "2022-03-06",
          "2022-03-07",
          "2022-03-08",
          "2022-03-09",
          "2022-03-10",
          "2022-03-11",
          "2022-03-12",
          "2022-03-13",
          "2022-03-14",
          "2022-03-15",
          "2022-03-16",
          "2022-03-17",
          "2022-03-18",
          "2022-03-19",
          "2022-03-20",
          "2022-03-21",
          "2022-03-22",
          "2022-03-23",
          "2022-03-24",
          "2022-03-25",
          "2022-03-26",
          "2022-03-27",
          "2022-03-28",
          "2022-03-29",
          "2022-03-30",
          "2022-03-31",
          "2022-04-01",
          "2022-04-02",
          "2022-04-03",
          "2022-04-04",
          "2022-04-05",
          "2022-04-06",
          "2022-04-07",
          "2022-04-08",
          "2022-04-09",
          "2022-04-10",
          "2022-04-11",
          "2022-04-12",
          "2022-04-13",
          "2022-04-14",
          "2022-04-15",
          "2022-04-16",
          "2022-04-17",
          "2022-04-18",
          "2022-04-19",
          "2022-04-20",
          "2022-04-21",
          "2022-04-22",
          "2022-04-23",
          "2022-04-24",
          "2022-04-25",
          "2022-04-26",
          "2022-04-27",
          "2022-04-28",
          "2022-04-29",
          "2022-04-30",
          "2022-05-01",
          "2022-05-02",
          "2022-05-03",
          "2022-05-04",
          "2022-05-05",
          "2022-05-06",
          "2022-05-07",
          "2022-05-08",
          "2022-05-09",
          "2022-05-10",
          "2022-05-11",
          "2022-05-12",
          "2022-05-13",
          "2022-05-14",
          "2022-05-15",
          "2022-05-16",
          "2022-05-17",
          "2022-05-18",
          "2022-05-19",
          "2022-05-20",
          "2022-05-21",
          "2022-05-22",
          "2022-05-23",
          "2022-05-24",
          "2022-05-25",
          "2022-05-26",
          "2022-05-27",
          "2022-05-28",
          "2022-05-29",
          "2022-05-30",
          "2022-05-31",
          "2022-06-01",
          "2022-06-02",
          "2022-06-03",
          "2022-06-04",
          "2022-06-05",
          "2022-06-06",
          "2022-06-07",
          "2022-06-08",
          "2022-06-09",
          "2022-06-10",
          "2022-06-11",
          "2022-06-12",
          "2022-06-13",
          "2022-06-14",
          "2022-06-15",
          "2022-06-16",
          "2022-06-17",
          "2022-06-18",
          "2022-06-19",
          "2022-06-20",
          "2022-06-21",
          "2022-06-22",
          "2022-06-23",
          "2022-06-24",
          "2022-06-25",
          "2022-06-26",
          "2022-06-27",
          "2022-06-28",
          "2022-06-29",
          "2022-06-30",
          "2022-07-01",
          "2022-07-02",
          "2022-07-03",
          "2022-07-04",
          "2022-07-05",
          "2022-07-06",
          "2022-07-07",
          "2022-07-08",
          "2022-07-09",
          "2022-07-10",
          "2022-07-11",
          "2022-07-12",
          "2022-07-13",
          "2022-07-14",
          "2022-07-15",
          "2022-07-16",
          "2022-07-17",
          "2022-07-18",
          "2022-07-19",
          "2022-07-20",
          "2022-07-21",
          "2022-07-22",
          "2022-07-23",
          "2022-07-24",
          "2022-07-25",
          "2022-07-26",
          "2022-07-27",
          "2022-07-28",
          "2022-07-29",
          "2022-07-30",
          "2022-07-31",
          "2022-08-01",
          "2022-08-02",
          "2022-08-03",
          "2022-08-04",
          "2022-08-05",
          "2022-08-06",
          "2022-08-07",
          "2022-08-08",
          "2022-08-09",
          "2022-08-10",
          "2022-08-11",
          "2022-08-12",
          "2022-08-13",
          "2022-08-14",
          "2022-08-15",
          "2022-08-16",
          "2022-08-17",
          "2022-08-18",
          "2022-08-19",
          "2022-08-20",
          "2022-08-21",
          "2022-08-22",
          "2022-08-23",
          "2022-08-24",
          "2022-08-25",
          "2022-08-26",
          "2022-08-27",
          "2022-08-28",
          "2022-08-29",
          "2022-08-30",
          "2022-08-31",
          "2022-09-01",
          "2022-09-02",
          "2022-09-03",
          "2022-09-04",
          "2022-09-05",
          "2022-09-06",
          "2022-09-07",
          "2022-09-08",
          "2022-09-09",
          "2022-09-10",
          "2022-09-11",
          "2022-09-12",
          "2022-09-13"
         ],
         "y": [
          0.9610202873172389,
          1.103829162451138,
          -1.5482361430842493,
          -0.6495851727294686,
          0.8084586109546831,
          -0.7032255794870795,
          1.4075592578578702,
          -1.6903483895589586,
          0.6078295571080345,
          -0.5179223561426054,
          -1.0222815053959862,
          1.335109877302136,
          0.28320060192560986,
          0.1215827529935873,
          -0.4510460048603891,
          1.275896441271007,
          -0.27688884006295106,
          -0.8704164576926201,
          1.0871100746305842,
          -2.117381757642277,
          0.7158069992824462,
          -0.23578774917075568,
          0.49079594236415613,
          -1.4040340106319704,
          0.04181877151636065,
          -1.2793374806370048,
          1.9307273809093741,
          -2.668415027061371,
          0.8203012981609089,
          -1.2918767965024203,
          1.5761433933817903,
          0.057492916348130085,
          -0.042821610575194256,
          -0.268529296152674,
          -1.3907980661073651,
          2.2846147397777683,
          -1.594213634590773,
          0.457357766723048,
          -1.8115617762579757,
          0.6733126510718712,
          1.3211773041183408,
          -1.4381688149322684,
          1.2877391284772328,
          -0.42457411581117854,
          -0.3131135303408182,
          1.3392896492572743,
          -1.3775621215827598,
          -0.3465517059819263,
          1.334413248642946,
          -0.699045807531941,
          1.4709524658441377,
          -0.634259342227294,
          0.04181877151636065,
          0.5653352088974596,
          0.4796498838171201,
          0.04181877151636065,
          0.6635598498432147,
          0.3208185495218565,
          0.4984588576152434,
          -0.18841700034585251,
          -0.9574950400913392,
          -0.262956266879156,
          1.5071771561220049,
          -0.986056815118119,
          0.912952909833146,
          -0.19677654425612953,
          -1.217337529969117,
          1.5225029866241793,
          -1.5663484882231828,
          -0.3430685626859775,
          0.105560293832223,
          -0.11596761979011826,
          0.9491776001110132,
          -1.2897869105248512,
          0.6586834492288864,
          0.9728629745234647,
          0.9840090330705007,
          -1.7321461091103438,
          0.8042788389995446,
          0.0017626236129498958,
          -0.5485740171469544,
          -0.36187753648410087,
          0.6593800778880762,
          -1.4103036685646781,
          0.05888617366650959,
          1.4347277755662706,
          -0.9609781833872879,
          -0.5430009878734364,
          0.6642564785024044,
          -1.3594497764438263,
          0.7262564291702924,
          0.5353801765523003,
          -0.8934052034458819,
          -0.7352704978098081,
          1.6708848910315965,
          -0.3291359895021825,
          -0.184237228390714,
          0.39675107337353954,
          0.9415146848599258,
          -1.4235396130892835,
          0.8314473567079449,
          -0.005900291638137381,
          0.3737623276202777,
          -0.2072259741439758,
          1.2159863765806882,
          -0.628686312953776,
          -1.8895841860872278,
          1.4939412115973996,
          0.21214447868825512,
          0.0895378346708587,
          0.026144626684591228,
          -0.7916974192041781,
          -0.25041695101374045,
          0.04181877151636065,
          0.04181877151636065,
          -1.025068020032745,
          0.09302097796680746,
          0.0010659949537601434,
          0.2929534031542664,
          0.09511086394437672,
          -1.6513371846443325,
          1.2382784936747604,
          -0.12641704967796455,
          0.2741444293561431,
          -0.36954045173518807,
          0.4998521149336229,
          -1.5405732278331619,
          0.9491776001110132,
          0.4113802752165243,
          0.8655821610082428,
          -2.0177638593781424,
          0.4120769038757141,
          0.7729305493360058,
          -0.4712482359768919,
          0.8997169653085407,
          -1.4625508180039097,
          1.0111775507789011,
          0.4587510240414275,
          0.4246162197411296,
          -0.8648434284191021,
          0.012908682159985934,
          -0.09297887403685644,
          -0.07974292951225113,
          -0.6140571111107912,
          1.016750580052419,
          0.29922306108697416,
          -1.9529773940734954,
          0.8216945554792884,
          0.41625667583085263,
          -1.0076523035530014,
          0.5681217235342186,
          0.018481711433503953,
          0.18706584695742404,
          1.315604274844823,
          -2.4789320317617585,
          1.2577840961320734,
          -0.6516750587070378,
          -0.07486652889792288,
          1.4542333780235837,
          0.40232410264705754,
          -1.0605960816514226,
          0.8091552396138729,
          -0.45034937620119936,
          -1.6771124450343533,
          1.3873570267413673,
          -0.06929349962440486,
          -0.7659221588141573,
          0.34102078063835933,
          -0.747113185016034,
          -0.17866419911719597,
          2.2219181604506906,
          -1.467427218618238,
          2.254659707432609,
          0.04181877151636065,
          0.04181877151636065,
          0.04181877151636065,
          -0.23230460587480692,
          -0.37163033771275733,
          0.6698295077759224,
          0.14108835545090037,
          -1.2013150708077525,
          -0.10203504660632322,
          -1.8777414988810022,
          0.04181877151636065,
          -0.16403499727421117,
          -0.5673829909450777,
          0.5012453722520024,
          0.8802113628512276,
          -1.537090084537213,
          0.2713579147193841,
          0.8133350115690113,
          0.18985236159418303,
          0.2616051134907275,
          -0.6307761989313453,
          -0.24623717905860196,
          -0.09019235940009743,
          0.49427908566010487,
          -0.6356525995456735,
          0.6363913321348144,
          -0.4057651420130552,
          0.8154248975465807,
          -0.06790024230602534,
          -0.37581010966789585,
          -1.256348734883743,
          0.30827923365644094,
          0.18149281768390602,
          1.2584807247912633,
          -1.5447529997883005,
          1.227829063786914,
          -1.6596967285546096,
          0.9714697172050851,
          0.10347040785465374,
          0.600863270516137,
          -2.0428424911089733,
          1.5315591591936462,
          -0.9728208705935137,
          0.6140992150407423,
          0.8627956463714838,
          -1.8192246915090629,
          0.7499418035827439,
          -0.5248886427345029,
          1.7098960959462226,
          -0.8063266210471629,
          -0.4294505164255068,
          0.8084586109546831,
          -0.7290008398771003,
          -0.8613602851231533,
          0.3382342660016003,
          -0.648191915411089,
          1.7342780990178641,
          1.2292223211052935,
          -1.9836290550778444,
          0.0073356528864679145,
          0.2588185988539685,
          1.537132188467164,
          -1.9696964818940494,
          -0.1271136783371543,
          0.20169504880040884,
          -1.104483687180377,
          1.6632219757805093,
          -0.6461020294335198,
          -0.3528213639146341,
          0.76108786212978,
          -0.6593379739581251,
          0.9477843427926336,
          -0.42109097251522976,
          -1.3956744667216934,
          0.392571301418401,
          1.0975595045184303,
          -0.2720124394486228
         ]
        },
        {
         "name": "Test",
         "type": "scatter",
         "x": [
          "2022-09-14",
          "2022-09-15",
          "2022-09-16",
          "2022-09-17",
          "2022-09-18",
          "2022-09-19",
          "2022-09-20",
          "2022-09-21",
          "2022-09-22",
          "2022-09-23",
          "2022-09-24",
          "2022-09-25",
          "2022-09-26",
          "2022-09-27",
          "2022-09-28",
          "2022-09-29",
          "2022-09-30",
          "2022-10-01",
          "2022-10-02",
          "2022-10-03",
          "2022-10-04",
          "2022-10-05",
          "2022-10-06",
          "2022-10-07",
          "2022-10-08",
          "2022-10-09",
          "2022-10-10",
          "2022-10-11",
          "2022-10-12",
          "2022-10-13",
          "2022-10-14",
          "2022-10-15",
          "2022-10-16",
          "2022-10-17",
          "2022-10-18",
          "2022-10-19",
          "2022-10-20",
          "2022-10-21",
          "2022-10-22",
          "2022-10-23",
          "2022-10-24",
          "2022-10-25",
          "2022-10-26",
          "2022-10-27",
          "2022-10-28",
          "2022-10-29",
          "2022-10-30",
          "2022-10-31",
          "2022-11-01",
          "2022-11-02",
          "2022-11-03",
          "2022-11-04",
          "2022-11-05",
          "2022-11-06",
          "2022-11-07",
          "2022-11-08",
          "2022-11-09",
          "2022-11-10",
          "2022-11-11",
          "2022-11-12",
          "2022-11-13",
          "2022-11-14",
          "2022-11-15",
          "2022-11-16",
          "2022-11-17",
          "2022-11-18",
          "2022-11-19",
          "2022-11-20",
          "2022-11-21",
          "2022-11-22",
          "2022-11-23",
          "2022-11-24",
          "2022-11-25",
          "2022-11-26",
          "2022-11-27",
          "2022-11-28",
          "2022-11-29",
          "2022-11-30",
          "2022-12-01",
          "2022-12-02",
          "2022-12-03",
          "2022-12-04",
          "2022-12-05",
          "2022-12-06",
          "2022-12-07",
          "2022-12-08",
          "2022-12-09",
          "2022-12-10",
          "2022-12-11",
          "2022-12-12",
          "2022-12-13",
          "2022-12-14",
          "2022-12-15",
          "2022-12-16",
          "2022-12-17",
          "2022-12-18",
          "2022-12-19",
          "2022-12-20",
          "2022-12-21",
          "2022-12-22",
          "2022-12-23",
          "2022-12-24",
          "2022-12-25",
          "2022-12-26",
          "2022-12-27",
          "2022-12-28",
          "2022-12-29",
          "2022-12-30"
         ],
         "y": [
          1.2877391284772328,
          -0.16612488325178043,
          -0.8432479399842198,
          -0.5374279585999184,
          0.6990879114618921,
          0.8502563305060683,
          -1.4089104112462987,
          -0.5604167043531803,
          0.9171326817882844,
          0.8168181548649601,
          -1.1421016347766235,
          -0.10482156124308223,
          0.8377170146406527,
          -0.25668660894644824,
          -1.5565956869945263,
          1.5225029866241793,
          0.04181877151636065,
          0.04181877151636065,
          0.6154924723591217,
          1.77398593259168,
          -0.5618099616715597,
          -0.6488885440702788,
          -0.12502379235958505,
          0.7924361517933188,
          -0.2782820973813306,
          1.264750382723971,
          -2.231628857749396,
          0.12297601031196681,
          1.9084352638153022,
          -1.2814273666145741,
          -0.007990177615706638,
          2.1020980310700534,
          -1.4771800198468945,
          0.2866837452215586,
          -1.3260116008027183,
          1.0655145861957018,
          -0.8188659369125785,
          -0.4392033176541633,
          1.0383460684873014,
          0.5695149808525981,
          -1.1469780353909518,
          0.4566611380638582,
          -0.15288893872717513,
          -1.1260791756152593,
          1.2431548942890887,
          -0.07625978621630237,
          0.26648151410505583,
          0.14875127070198765,
          -0.980483785844601,
          -0.963764698024047,
          1.247334666244227,
          0.33475112270565155,
          0.34798706723025685,
          -2.3974264786365573,
          0.44342519353925297,
          0.8774248482144686,
          0.4998521149336229,
          -0.2002596875520783,
          0.45805439538223774,
          -1.1630004945523162,
          -0.7039222081462693,
          0.8014923243627856,
          0.15780744327145443,
          0.23304333846394767,
          -0.634259342227294,
          0.9011102226269202,
          0.31524552024833846,
          -0.20443945950721681,
          0.07560526148706365,
          -0.7220345532852028,
          0.37167244164270846,
          -0.47960777988716896,
          1.9474464687299282,
          -1.2681914220899688,
          -0.09088898805928718,
          -0.09506876001442569,
          -0.749899699652793,
          0.04181877151636065,
          0.04181877151636065,
          0.40929038923895505,
          0.6705261364351123,
          1.2013571747377034,
          -0.46219206340742514,
          -0.2950011852018846,
          0.27902082997047134,
          -1.3608430337622057,
          1.0522786416710965,
          0.4427285648800632,
          -1.4242362417484733,
          0.6545036772737479,
          -0.2058327168255963,
          -1.525944025990177,
          1.3218739327775306,
          -1.765584284751452,
          0.8432900439141707,
          0.8767282195552789,
          0.35773986845891337,
          -1.1274724329336387,
          1.1741886570293032,
          1.3079413595937355,
          0.04181877151636065,
          2.3208394300556354,
          -0.07556315755711263,
          -1.129562318911208,
          1.950929612025877,
          0.3236050641586155,
          -1.4945957363266382,
          -0.7868210185898499
         ]
        },
        {
         "name": "Predicted",
         "type": "scatter",
         "x": [
          "2022-09-14",
          "2022-09-15",
          "2022-09-16",
          "2022-09-17",
          "2022-09-18",
          "2022-09-19",
          "2022-09-20",
          "2022-09-21",
          "2022-09-22",
          "2022-09-23",
          "2022-09-24",
          "2022-09-25",
          "2022-09-26",
          "2022-09-27",
          "2022-09-28",
          "2022-09-29",
          "2022-09-30",
          "2022-10-01",
          "2022-10-02",
          "2022-10-03",
          "2022-10-04",
          "2022-10-05",
          "2022-10-06",
          "2022-10-07",
          "2022-10-08",
          "2022-10-09",
          "2022-10-10",
          "2022-10-11",
          "2022-10-12",
          "2022-10-13",
          "2022-10-14",
          "2022-10-15",
          "2022-10-16",
          "2022-10-17",
          "2022-10-18",
          "2022-10-19",
          "2022-10-20",
          "2022-10-21",
          "2022-10-22",
          "2022-10-23",
          "2022-10-24",
          "2022-10-25",
          "2022-10-26",
          "2022-10-27",
          "2022-10-28",
          "2022-10-29",
          "2022-10-30",
          "2022-10-31",
          "2022-11-01",
          "2022-11-02",
          "2022-11-03",
          "2022-11-04",
          "2022-11-05",
          "2022-11-06",
          "2022-11-07",
          "2022-11-08",
          "2022-11-09",
          "2022-11-10",
          "2022-11-11",
          "2022-11-12",
          "2022-11-13",
          "2022-11-14",
          "2022-11-15",
          "2022-11-16",
          "2022-11-17",
          "2022-11-18",
          "2022-11-19",
          "2022-11-20",
          "2022-11-21",
          "2022-11-22",
          "2022-11-23",
          "2022-11-24",
          "2022-11-25",
          "2022-11-26",
          "2022-11-27",
          "2022-11-28",
          "2022-11-29",
          "2022-11-30",
          "2022-12-01",
          "2022-12-02",
          "2022-12-03",
          "2022-12-04",
          "2022-12-05",
          "2022-12-06",
          "2022-12-07",
          "2022-12-08",
          "2022-12-09",
          "2022-12-10",
          "2022-12-11",
          "2022-12-12",
          "2022-12-13",
          "2022-12-14",
          "2022-12-15",
          "2022-12-16",
          "2022-12-17",
          "2022-12-18",
          "2022-12-19",
          "2022-12-20",
          "2022-12-21",
          "2022-12-22",
          "2022-12-23",
          "2022-12-24",
          "2022-12-25",
          "2022-12-26",
          "2022-12-27",
          "2022-12-28",
          "2022-12-29",
          "2022-12-30"
         ],
         "y": [
          -0.2763923108577728,
          0.02749103307723999,
          0.13726866245269775,
          0.45075148344039917,
          0.15464873611927032,
          -0.36337023973464966,
          -0.24431531131267548,
          0.09122651815414429,
          0.5283216238021851,
          -0.130859836935997,
          0.015122205018997192,
          0.34499412775039673,
          -0.1181405633687973,
          -0.3183469772338867,
          -0.19362762570381165,
          0.7291032075881958,
          -0.22568872570991516,
          0.3301853537559509,
          -0.04252955690026283,
          -0.5438871383666992,
          -0.5923920273780823,
          -0.2612069547176361,
          0.4968533515930176,
          0.0965375155210495,
          0.06565484404563904,
          -0.008458597585558891,
          -0.6015121340751648,
          0.347311794757843,
          -0.43314191699028015,
          -0.4134847819805145,
          0.16386792063713074,
          0.23790103197097778,
          -0.7336899042129517,
          -0.08131593465805054,
          -0.30949217081069946,
          -0.05540496110916138,
          -0.19620338082313538,
          0.11851732432842255,
          0.34872251749038696,
          -0.32068273425102234,
          -0.44030824303627014,
          0.2423456758260727,
          -0.33945053815841675,
          0.33955255150794983,
          0.34689605236053467,
          0.09083977341651917,
          0.07377167791128159,
          -0.13141867518424988,
          -0.08300456404685974,
          0.042987287044525146,
          0.8775746822357178,
          -0.08299612998962402,
          0.3864828944206238,
          0.18791891634464264,
          0.45354121923446655,
          -0.06178799271583557,
          -0.5072680115699768,
          0.219175785779953,
          0.02114633098244667,
          0.09415121376514435,
          0.342139333486557,
          0.11425039172172546,
          -0.2592158913612366,
          -0.3035796284675598,
          0.25988537073135376,
          0.10807016491889954,
          0.09525945782661438,
          -0.08417162299156189,
          -0.16209161281585693,
          -0.12379604578018188,
          -0.16272597014904022,
          0.10425463318824768,
          0.09581160545349121,
          -0.16880112886428833,
          0.357657253742218,
          -0.12317915260791779,
          -0.0014531314373016357,
          0.06409358978271484,
          0.5382071733474731,
          0.2577344477176666,
          0.4618839621543884,
          -0.030833957716822624,
          -0.5281822085380554,
          0.015332520008087158,
          -0.16010306775569916,
          0.31375405192375183,
          0.41736000776290894,
          0.1775621920824051,
          0.01954568363726139,
          0.28671932220458984,
          -0.10809925198554993,
          -0.15731191635131836,
          0.8414613008499146,
          -0.17141419649124146,
          0.9508621692657471,
          -0.02705894224345684,
          -0.34205132722854614,
          -0.13319051265716553,
          0.029091835021972656,
          0.06351998448371887,
          -0.35359203815460205,
          0.2081323266029358,
          -0.7299696207046509,
          -0.3554922640323639,
          0.15662328898906708,
          -0.8472667336463928,
          0.08497568964958191,
          0.18879325687885284
         ]
        }
       ],
       "layout": {
        "template": {
         "data": {
          "bar": [
           {
            "error_x": {
             "color": "#2a3f5f"
            },
            "error_y": {
             "color": "#2a3f5f"
            },
            "marker": {
             "line": {
              "color": "#E5ECF6",
              "width": 0.5
             },
             "pattern": {
              "fillmode": "overlay",
              "size": 10,
              "solidity": 0.2
             }
            },
            "type": "bar"
           }
          ],
          "barpolar": [
           {
            "marker": {
             "line": {
              "color": "#E5ECF6",
              "width": 0.5
             },
             "pattern": {
              "fillmode": "overlay",
              "size": 10,
              "solidity": 0.2
             }
            },
            "type": "barpolar"
           }
          ],
          "carpet": [
           {
            "aaxis": {
             "endlinecolor": "#2a3f5f",
             "gridcolor": "white",
             "linecolor": "white",
             "minorgridcolor": "white",
             "startlinecolor": "#2a3f5f"
            },
            "baxis": {
             "endlinecolor": "#2a3f5f",
             "gridcolor": "white",
             "linecolor": "white",
             "minorgridcolor": "white",
             "startlinecolor": "#2a3f5f"
            },
            "type": "carpet"
           }
          ],
          "choropleth": [
           {
            "colorbar": {
             "outlinewidth": 0,
             "ticks": ""
            },
            "type": "choropleth"
           }
          ],
          "contour": [
           {
            "colorbar": {
             "outlinewidth": 0,
             "ticks": ""
            },
            "colorscale": [
             [
              0,
              "#0d0887"
             ],
             [
              0.1111111111111111,
              "#46039f"
             ],
             [
              0.2222222222222222,
              "#7201a8"
             ],
             [
              0.3333333333333333,
              "#9c179e"
             ],
             [
              0.4444444444444444,
              "#bd3786"
             ],
             [
              0.5555555555555556,
              "#d8576b"
             ],
             [
              0.6666666666666666,
              "#ed7953"
             ],
             [
              0.7777777777777778,
              "#fb9f3a"
             ],
             [
              0.8888888888888888,
              "#fdca26"
             ],
             [
              1,
              "#f0f921"
             ]
            ],
            "type": "contour"
           }
          ],
          "contourcarpet": [
           {
            "colorbar": {
             "outlinewidth": 0,
             "ticks": ""
            },
            "type": "contourcarpet"
           }
          ],
          "heatmap": [
           {
            "colorbar": {
             "outlinewidth": 0,
             "ticks": ""
            },
            "colorscale": [
             [
              0,
              "#0d0887"
             ],
             [
              0.1111111111111111,
              "#46039f"
             ],
             [
              0.2222222222222222,
              "#7201a8"
             ],
             [
              0.3333333333333333,
              "#9c179e"
             ],
             [
              0.4444444444444444,
              "#bd3786"
             ],
             [
              0.5555555555555556,
              "#d8576b"
             ],
             [
              0.6666666666666666,
              "#ed7953"
             ],
             [
              0.7777777777777778,
              "#fb9f3a"
             ],
             [
              0.8888888888888888,
              "#fdca26"
             ],
             [
              1,
              "#f0f921"
             ]
            ],
            "type": "heatmap"
           }
          ],
          "heatmapgl": [
           {
            "colorbar": {
             "outlinewidth": 0,
             "ticks": ""
            },
            "colorscale": [
             [
              0,
              "#0d0887"
             ],
             [
              0.1111111111111111,
              "#46039f"
             ],
             [
              0.2222222222222222,
              "#7201a8"
             ],
             [
              0.3333333333333333,
              "#9c179e"
             ],
             [
              0.4444444444444444,
              "#bd3786"
             ],
             [
              0.5555555555555556,
              "#d8576b"
             ],
             [
              0.6666666666666666,
              "#ed7953"
             ],
             [
              0.7777777777777778,
              "#fb9f3a"
             ],
             [
              0.8888888888888888,
              "#fdca26"
             ],
             [
              1,
              "#f0f921"
             ]
            ],
            "type": "heatmapgl"
           }
          ],
          "histogram": [
           {
            "marker": {
             "pattern": {
              "fillmode": "overlay",
              "size": 10,
              "solidity": 0.2
             }
            },
            "type": "histogram"
           }
          ],
          "histogram2d": [
           {
            "colorbar": {
             "outlinewidth": 0,
             "ticks": ""
            },
            "colorscale": [
             [
              0,
              "#0d0887"
             ],
             [
              0.1111111111111111,
              "#46039f"
             ],
             [
              0.2222222222222222,
              "#7201a8"
             ],
             [
              0.3333333333333333,
              "#9c179e"
             ],
             [
              0.4444444444444444,
              "#bd3786"
             ],
             [
              0.5555555555555556,
              "#d8576b"
             ],
             [
              0.6666666666666666,
              "#ed7953"
             ],
             [
              0.7777777777777778,
              "#fb9f3a"
             ],
             [
              0.8888888888888888,
              "#fdca26"
             ],
             [
              1,
              "#f0f921"
             ]
            ],
            "type": "histogram2d"
           }
          ],
          "histogram2dcontour": [
           {
            "colorbar": {
             "outlinewidth": 0,
             "ticks": ""
            },
            "colorscale": [
             [
              0,
              "#0d0887"
             ],
             [
              0.1111111111111111,
              "#46039f"
             ],
             [
              0.2222222222222222,
              "#7201a8"
             ],
             [
              0.3333333333333333,
              "#9c179e"
             ],
             [
              0.4444444444444444,
              "#bd3786"
             ],
             [
              0.5555555555555556,
              "#d8576b"
             ],
             [
              0.6666666666666666,
              "#ed7953"
             ],
             [
              0.7777777777777778,
              "#fb9f3a"
             ],
             [
              0.8888888888888888,
              "#fdca26"
             ],
             [
              1,
              "#f0f921"
             ]
            ],
            "type": "histogram2dcontour"
           }
          ],
          "mesh3d": [
           {
            "colorbar": {
             "outlinewidth": 0,
             "ticks": ""
            },
            "type": "mesh3d"
           }
          ],
          "parcoords": [
           {
            "line": {
             "colorbar": {
              "outlinewidth": 0,
              "ticks": ""
             }
            },
            "type": "parcoords"
           }
          ],
          "pie": [
           {
            "automargin": true,
            "type": "pie"
           }
          ],
          "scatter": [
           {
            "fillpattern": {
             "fillmode": "overlay",
             "size": 10,
             "solidity": 0.2
            },
            "type": "scatter"
           }
          ],
          "scatter3d": [
           {
            "line": {
             "colorbar": {
              "outlinewidth": 0,
              "ticks": ""
             }
            },
            "marker": {
             "colorbar": {
              "outlinewidth": 0,
              "ticks": ""
             }
            },
            "type": "scatter3d"
           }
          ],
          "scattercarpet": [
           {
            "marker": {
             "colorbar": {
              "outlinewidth": 0,
              "ticks": ""
             }
            },
            "type": "scattercarpet"
           }
          ],
          "scattergeo": [
           {
            "marker": {
             "colorbar": {
              "outlinewidth": 0,
              "ticks": ""
             }
            },
            "type": "scattergeo"
           }
          ],
          "scattergl": [
           {
            "marker": {
             "colorbar": {
              "outlinewidth": 0,
              "ticks": ""
             }
            },
            "type": "scattergl"
           }
          ],
          "scattermapbox": [
           {
            "marker": {
             "colorbar": {
              "outlinewidth": 0,
              "ticks": ""
             }
            },
            "type": "scattermapbox"
           }
          ],
          "scatterpolar": [
           {
            "marker": {
             "colorbar": {
              "outlinewidth": 0,
              "ticks": ""
             }
            },
            "type": "scatterpolar"
           }
          ],
          "scatterpolargl": [
           {
            "marker": {
             "colorbar": {
              "outlinewidth": 0,
              "ticks": ""
             }
            },
            "type": "scatterpolargl"
           }
          ],
          "scatterternary": [
           {
            "marker": {
             "colorbar": {
              "outlinewidth": 0,
              "ticks": ""
             }
            },
            "type": "scatterternary"
           }
          ],
          "surface": [
           {
            "colorbar": {
             "outlinewidth": 0,
             "ticks": ""
            },
            "colorscale": [
             [
              0,
              "#0d0887"
             ],
             [
              0.1111111111111111,
              "#46039f"
             ],
             [
              0.2222222222222222,
              "#7201a8"
             ],
             [
              0.3333333333333333,
              "#9c179e"
             ],
             [
              0.4444444444444444,
              "#bd3786"
             ],
             [
              0.5555555555555556,
              "#d8576b"
             ],
             [
              0.6666666666666666,
              "#ed7953"
             ],
             [
              0.7777777777777778,
              "#fb9f3a"
             ],
             [
              0.8888888888888888,
              "#fdca26"
             ],
             [
              1,
              "#f0f921"
             ]
            ],
            "type": "surface"
           }
          ],
          "table": [
           {
            "cells": {
             "fill": {
              "color": "#EBF0F8"
             },
             "line": {
              "color": "white"
             }
            },
            "header": {
             "fill": {
              "color": "#C8D4E3"
             },
             "line": {
              "color": "white"
             }
            },
            "type": "table"
           }
          ]
         },
         "layout": {
          "annotationdefaults": {
           "arrowcolor": "#2a3f5f",
           "arrowhead": 0,
           "arrowwidth": 1
          },
          "autotypenumbers": "strict",
          "coloraxis": {
           "colorbar": {
            "outlinewidth": 0,
            "ticks": ""
           }
          },
          "colorscale": {
           "diverging": [
            [
             0,
             "#8e0152"
            ],
            [
             0.1,
             "#c51b7d"
            ],
            [
             0.2,
             "#de77ae"
            ],
            [
             0.3,
             "#f1b6da"
            ],
            [
             0.4,
             "#fde0ef"
            ],
            [
             0.5,
             "#f7f7f7"
            ],
            [
             0.6,
             "#e6f5d0"
            ],
            [
             0.7,
             "#b8e186"
            ],
            [
             0.8,
             "#7fbc41"
            ],
            [
             0.9,
             "#4d9221"
            ],
            [
             1,
             "#276419"
            ]
           ],
           "sequential": [
            [
             0,
             "#0d0887"
            ],
            [
             0.1111111111111111,
             "#46039f"
            ],
            [
             0.2222222222222222,
             "#7201a8"
            ],
            [
             0.3333333333333333,
             "#9c179e"
            ],
            [
             0.4444444444444444,
             "#bd3786"
            ],
            [
             0.5555555555555556,
             "#d8576b"
            ],
            [
             0.6666666666666666,
             "#ed7953"
            ],
            [
             0.7777777777777778,
             "#fb9f3a"
            ],
            [
             0.8888888888888888,
             "#fdca26"
            ],
            [
             1,
             "#f0f921"
            ]
           ],
           "sequentialminus": [
            [
             0,
             "#0d0887"
            ],
            [
             0.1111111111111111,
             "#46039f"
            ],
            [
             0.2222222222222222,
             "#7201a8"
            ],
            [
             0.3333333333333333,
             "#9c179e"
            ],
            [
             0.4444444444444444,
             "#bd3786"
            ],
            [
             0.5555555555555556,
             "#d8576b"
            ],
            [
             0.6666666666666666,
             "#ed7953"
            ],
            [
             0.7777777777777778,
             "#fb9f3a"
            ],
            [
             0.8888888888888888,
             "#fdca26"
            ],
            [
             1,
             "#f0f921"
            ]
           ]
          },
          "colorway": [
           "#636efa",
           "#EF553B",
           "#00cc96",
           "#ab63fa",
           "#FFA15A",
           "#19d3f3",
           "#FF6692",
           "#B6E880",
           "#FF97FF",
           "#FECB52"
          ],
          "font": {
           "color": "#2a3f5f"
          },
          "geo": {
           "bgcolor": "white",
           "lakecolor": "white",
           "landcolor": "#E5ECF6",
           "showlakes": true,
           "showland": true,
           "subunitcolor": "white"
          },
          "hoverlabel": {
           "align": "left"
          },
          "hovermode": "closest",
          "mapbox": {
           "style": "light"
          },
          "paper_bgcolor": "white",
          "plot_bgcolor": "#E5ECF6",
          "polar": {
           "angularaxis": {
            "gridcolor": "white",
            "linecolor": "white",
            "ticks": ""
           },
           "bgcolor": "#E5ECF6",
           "radialaxis": {
            "gridcolor": "white",
            "linecolor": "white",
            "ticks": ""
           }
          },
          "scene": {
           "xaxis": {
            "backgroundcolor": "#E5ECF6",
            "gridcolor": "white",
            "gridwidth": 2,
            "linecolor": "white",
            "showbackground": true,
            "ticks": "",
            "zerolinecolor": "white"
           },
           "yaxis": {
            "backgroundcolor": "#E5ECF6",
            "gridcolor": "white",
            "gridwidth": 2,
            "linecolor": "white",
            "showbackground": true,
            "ticks": "",
            "zerolinecolor": "white"
           },
           "zaxis": {
            "backgroundcolor": "#E5ECF6",
            "gridcolor": "white",
            "gridwidth": 2,
            "linecolor": "white",
            "showbackground": true,
            "ticks": "",
            "zerolinecolor": "white"
           }
          },
          "shapedefaults": {
           "line": {
            "color": "#2a3f5f"
           }
          },
          "ternary": {
           "aaxis": {
            "gridcolor": "white",
            "linecolor": "white",
            "ticks": ""
           },
           "baxis": {
            "gridcolor": "white",
            "linecolor": "white",
            "ticks": ""
           },
           "bgcolor": "#E5ECF6",
           "caxis": {
            "gridcolor": "white",
            "linecolor": "white",
            "ticks": ""
           }
          },
          "title": {
           "x": 0.05
          },
          "xaxis": {
           "automargin": true,
           "gridcolor": "white",
           "linecolor": "white",
           "ticks": "",
           "title": {
            "standoff": 15
           },
           "zerolinecolor": "white",
           "zerolinewidth": 2
          },
          "yaxis": {
           "automargin": true,
           "gridcolor": "white",
           "linecolor": "white",
           "ticks": "",
           "title": {
            "standoff": 15
           },
           "zerolinecolor": "white",
           "zerolinewidth": 2
          }
         }
        },
        "title": {
         "text": " lagos_transactions NNet & tsfresh. MAE=0.7700"
        }
       }
      }
     },
     "metadata": {},
     "output_type": "display_data"
    },
    {
     "name": "stderr",
     "output_type": "stream",
     "text": [
      "Rolling: 100%|██████████| 20/20 [00:00<00:00, 42.11it/s]\n",
      "Feature Extraction: 100%|██████████| 20/20 [00:00<00:00, 65.35it/s]\n"
     ]
    },
    {
     "data": {
      "image/png": "[encoded data removed]",
      "text/plain": [
       "<Figure size 640x480 with 1 Axes>"
      ]
     },
     "metadata": {},
     "output_type": "display_data"
    },
    {
     "data": {
      "application/vnd.plotly.v1+json": {
       "config": {
        "plotlyServerURL": "https://plot.ly"
       },
       "data": [
        {
         "name": "Train",
         "type": "scatter",
         "x": [
          "2022-01-07",
          "2022-01-08",
          "2022-01-09",
          "2022-01-10",
          "2022-01-11",
          "2022-01-12",
          "2022-01-13",
          "2022-01-14",
          "2022-01-15",
          "2022-01-16",
          "2022-01-17",
          "2022-01-18",
          "2022-01-19",
          "2022-01-20",
          "2022-01-21",
          "2022-01-22",
          "2022-01-23",
          "2022-01-24",
          "2022-01-25",
          "2022-01-26",
          "2022-01-27",
          "2022-01-28",
          "2022-01-29",
          "2022-01-30",
          "2022-01-31",
          "2022-02-01",
          "2022-02-02",
          "2022-02-03",
          "2022-02-04",
          "2022-02-05",
          "2022-02-06",
          "2022-02-07",
          "2022-02-08",
          "2022-02-09",
          "2022-02-10",
          "2022-02-11",
          "2022-02-12",
          "2022-02-13",
          "2022-02-14",
          "2022-02-15",
          "2022-02-16",
          "2022-02-17",
          "2022-02-18",
          "2022-02-19",
          "2022-02-20",
          "2022-02-21",
          "2022-02-22",
          "2022-02-23",
          "2022-02-24",
          "2022-02-25",
          "2022-02-26",
          "2022-02-27",
          "2022-02-28",
          "2022-03-01",
          "2022-03-02",
          "2022-03-03",
          "2022-03-04",
          "2022-03-05",
          "2022-03-06",
          "2022-03-07",
          "2022-03-08",
          "2022-03-09",
          "2022-03-10",
          "2022-03-11",
          "2022-03-12",
          "2022-03-13",
          "2022-03-14",
          "2022-03-15",
          "2022-03-16",
          "2022-03-17",
          "2022-03-18",
          "2022-03-19",
          "2022-03-20",
          "2022-03-21",
          "2022-03-22",
          "2022-03-23",
          "2022-03-24",
          "2022-03-25",
          "2022-03-26",
          "2022-03-27",
          "2022-03-28",
          "2022-03-29",
          "2022-03-30",
          "2022-03-31",
          "2022-04-01",
          "2022-04-02",
          "2022-04-03",
          "2022-04-04",
          "2022-04-05",
          "2022-04-06",
          "2022-04-07",
          "2022-04-08",
          "2022-04-09",
          "2022-04-10",
          "2022-04-11",
          "2022-04-12",
          "2022-04-13",
          "2022-04-14",
          "2022-04-15",
          "2022-04-16",
          "2022-04-17",
          "2022-04-18",
          "2022-04-19",
          "2022-04-20",
          "2022-04-21",
          "2022-04-22",
          "2022-04-23",
          "2022-04-24",
          "2022-04-25",
          "2022-04-26",
          "2022-04-27",
          "2022-04-28",
          "2022-04-29",
          "2022-04-30",
          "2022-05-01",
          "2022-05-02",
          "2022-05-03",
          "2022-05-04",
          "2022-05-05",
          "2022-05-06",
          "2022-05-07",
          "2022-05-08",
          "2022-05-09",
          "2022-05-10",
          "2022-05-11",
          "2022-05-12",
          "2022-05-13",
          "2022-05-14",
          "2022-05-15",
          "2022-05-16",
          "2022-05-17",
          "2022-05-18",
          "2022-05-19",
          "2022-05-20",
          "2022-05-21",
          "2022-05-22",
          "2022-05-23",
          "2022-05-24",
          "2022-05-25",
          "2022-05-26",
          "2022-05-27",
          "2022-05-28",
          "2022-05-29",
          "2022-05-30",
          "2022-05-31",
          "2022-06-01",
          "2022-06-02",
          "2022-06-03",
          "2022-06-04",
          "2022-06-05",
          "2022-06-06",
          "2022-06-07",
          "2022-06-08",
          "2022-06-09",
          "2022-06-10",
          "2022-06-11",
          "2022-06-12",
          "2022-06-13",
          "2022-06-14",
          "2022-06-15",
          "2022-06-16",
          "2022-06-17",
          "2022-06-18",
          "2022-06-19",
          "2022-06-20",
          "2022-06-21",
          "2022-06-22",
          "2022-06-23",
          "2022-06-24",
          "2022-06-25",
          "2022-06-26",
          "2022-06-27",
          "2022-06-28",
          "2022-06-29",
          "2022-06-30",
          "2022-07-01",
          "2022-07-02",
          "2022-07-03",
          "2022-07-04",
          "2022-07-05",
          "2022-07-06",
          "2022-07-07",
          "2022-07-08",
          "2022-07-09",
          "2022-07-10",
          "2022-07-11",
          "2022-07-12",
          "2022-07-13",
          "2022-07-14",
          "2022-07-15",
          "2022-07-16",
          "2022-07-17",
          "2022-07-18",
          "2022-07-19",
          "2022-07-20",
          "2022-07-21",
          "2022-07-22",
          "2022-07-23",
          "2022-07-24",
          "2022-07-25",
          "2022-07-26",
          "2022-07-27",
          "2022-07-28",
          "2022-07-29",
          "2022-07-30",
          "2022-07-31",
          "2022-08-01",
          "2022-08-02",
          "2022-08-03",
          "2022-08-04",
          "2022-08-05",
          "2022-08-06",
          "2022-08-07",
          "2022-08-08",
          "2022-08-09",
          "2022-08-10",
          "2022-08-11",
          "2022-08-12",
          "2022-08-13",
          "2022-08-14",
          "2022-08-15",
          "2022-08-16",
          "2022-08-17",
          "2022-08-18",
          "2022-08-19",
          "2022-08-20",
          "2022-08-21",
          "2022-08-22",
          "2022-08-23",
          "2022-08-24",
          "2022-08-25",
          "2022-08-26",
          "2022-08-27",
          "2022-08-28",
          "2022-08-29",
          "2022-08-30",
          "2022-08-31",
          "2022-09-01",
          "2022-09-02",
          "2022-09-03",
          "2022-09-04",
          "2022-09-05",
          "2022-09-06",
          "2022-09-07",
          "2022-09-08",
          "2022-09-09",
          "2022-09-10",
          "2022-09-11",
          "2022-09-12",
          "2022-09-13"
         ],
         "y": [
          -0.46942176458348,
          -0.1968533768530211,
          1.3699862859497423,
          0.9765621036595517,
          -1.7688358394242838,
          1.7505534688186848,
          -1.4594107200195805,
          0.5959949207906091,
          -1.3668403241865945,
          0.9859905699018002,
          -0.19256771037927173,
          0.6225660529278552,
          0.6859939167393455,
          -2.0885465583659855,
          2.2494050463631097,
          -1.5374098498418187,
          -0.8628459468736706,
          0.6585656513073497,
          0.7314219813610887,
          -2.2411162848314623,
          1.8585522639571685,
          -0.5251354287422215,
          0.8368493766153228,
          -2.4768279408876768,
          2.499687968430072,
          -0.3091378384652541,
          0.1588569404681752,
          0.7742786460985822,
          -1.7131221752655421,
          0.6979937828658438,
          0.5908521210221099,
          -1.1928422653523707,
          -0.11199718067278391,
          -0.5328496283949704,
          -0.06999764923004026,
          0.3482833986078966,
          2.2314052471733623,
          -2.1742598878409725,
          1.8799805963259153,
          -2.291687149221705,
          1.212273759715766,
          0.18628520590017106,
          -1.2331275302056146,
          0.41085412912463715,
          -0.9854160080229021,
          0.19485653884766976,
          2.5202591675040686,
          -1.1756995994573733,
          0.42542539513538496,
          0.15371414069967598,
          -0.6785622885024484,
          -0.26113837395926137,
          0.010572880476447579,
          0.45285366056738074,
          1.3425580205177465,
          0.010572880476447579,
          0.8128496443623264,
          -0.482278764004728,
          -0.7625613513879357,
          0.02685841307669512,
          0.5634238555901141,
          -0.36485150262399574,
          0.9568480378803047,
          -1.0839863369191372,
          0.4151397955983865,
          0.9662765041225533,
          0.6534228515388505,
          -0.9391308101064091,
          0.3748545307451426,
          -1.5245528504205708,
          0.22057053769016588,
          1.171988494862522,
          -2.001118962301499,
          0.8531349092155703,
          0.3517119317868961,
          1.0905608318612845,
          -1.157699800267626,
          0.4691391931676283,
          -1.0634151378451402,
          0.09114341018293541,
          0.6868510500340954,
          -0.43942209926723447,
          0.23428467040616383,
          -0.42827936643548614,
          0.6611370511915993,
          -0.1385683128100299,
          -0.49685003001547584,
          -0.38542270169799264,
          0.8985629738373134,
          -0.9991301407389,
          -0.29370943915975645,
          1.6579830729856988,
          -0.5431352279319689,
          -0.5611350271217161,
          -0.3837084351084929,
          -0.08285464865128832,
          0.9002772404268132,
          0.7185649819398406,
          -1.5896949808215608,
          0.09457194336193489,
          -0.6691338222601998,
          0.010572880476447579,
          -1.3068409935541034,
          0.649994318359851,
          -0.5654206935954655,
          0.8634205087525688,
          0.4202825953668857,
          -1.7799785722560322,
          0.11857167561493129,
          -0.2345672418220154,
          -0.1582823785892769,
          0.6259945861068547,
          -1.19712793182612,
          0.010572880476447579,
          0.010572880476447579,
          0.45285366056738074,
          -1.436268121061334,
          1.7136967371444405,
          -1.2159848643106173,
          -0.19513911026352135,
          1.18655976087327,
          -0.15742524529452703,
          0.12800014185717987,
          -1.5442669161998177,
          0.3525690650816459,
          0.19742793873191938,
          0.14000000798367804,
          -0.8748458130001687,
          1.326272487917499,
          -0.19771051014777097,
          -0.18056784425277356,
          0.8359922433205729,
          -0.8542746139261719,
          0.15628554058392558,
          1.0082760355652969,
          -0.283423839622758,
          -1.1294144015408802,
          -0.7719898176301843,
          0.18885660578442068,
          1.2894157562432544,
          -1.2254133305528658,
          0.6997080494553435,
          -0.9751304084859036,
          0.7211363818240902,
          0.14771420763642687,
          -0.003998385534300221,
          -0.8448461476839233,
          -0.4471362989199833,
          2.1319777849823773,
          -1.382268723492092,
          0.5857093212536107,
          -0.6974192209869455,
          0.4005685295876387,
          1.4239856835189841,
          -1.1894137321733713,
          -0.15999664517877665,
          0.9774192369543016,
          -1.674551177001798,
          0.9405625052800571,
          0.12028594220443102,
          0.44085379444088263,
          -0.7659898845669352,
          0.32942646612339943,
          -0.6982763542816954,
          -0.06828338264054051,
          -0.5054213629629746,
          1.941694193547906,
          0.5231385907368702,
          0.338854932365648,
          -2.3988288110654388,
          0.8668490419315682,
          -1.0291298060551455,
          0.9097057066690618,
          -0.44542203233048355,
          0.010572880476447579,
          0.010572880476447579,
          0.8874202410055652,
          -0.5337067616897203,
          0.7879927788145802,
          0.4159969288931364,
          0.8702775751105677,
          -0.7762754841039337,
          0.25914153595391004,
          -1.7156935751497917,
          1.325415354622749,
          -0.5748491598377141,
          1.311701221906751,
          -0.9442736098749083,
          0.34056919895514776,
          -1.2142705977211175,
          0.7417075808980872,
          -0.11199718067278391,
          0.014001413655447062,
          -0.9999872740336498,
          1.6982683378389427,
          -1.6839796432440466,
          1.0194187683970453,
          0.15114274081542636,
          -0.15399671211552757,
          0.11685740902543154,
          -0.26799544031726036,
          0.11257174255168219,
          -1.0008444073283997,
          1.0939893650402839,
          -0.760847084798436,
          1.5028419466359721,
          -0.11885424703078287,
          -0.1411397126942795,
          -0.49342149683647635,
          -0.31170923834950376,
          1.18655976087327,
          -2.0225472946702454,
          1.6254120077852037,
          -0.7231332198294417,
          -0.4437077657409838,
          1.3271296212122488,
          -0.6785622885024484,
          -0.22685304216926655,
          -0.03142665096629608,
          0.5462811896951166,
          0.17257107318417314,
          -0.47027889787822985,
          -0.23799577500101488,
          -1.0351297391183947,
          1.8516951975991696,
          -0.5319924951002205,
          -0.36485150262399574,
          1.040847100765792,
          -1.5459811827893175,
          -0.0279981177872966,
          1.153988695672775,
          0.5068530581366226,
          -2.283972949568956,
          1.1342746298935278,
          -0.35885156956074665,
          0.5222814574421203,
          -0.2919951725702567,
          0.03971541249794318,
          0.13485720821517883,
          -0.02885525108204647,
          0.4811390592941265,
          -1.4259825215243356,
          1.4274142166979835,
          -1.9496909646165064,
          1.974265258748401,
          -1.085700603508637,
          0.08342921053018658,
          -0.06314058287204129,
          1.1642742952097733,
          -0.9699876087174044
         ]
        },
        {
         "name": "Test",
         "type": "scatter",
         "x": [
          "2022-09-14",
          "2022-09-15",
          "2022-09-16",
          "2022-09-17",
          "2022-09-18",
          "2022-09-19",
          "2022-09-20",
          "2022-09-21",
          "2022-09-22",
          "2022-09-23",
          "2022-09-24",
          "2022-09-25",
          "2022-09-26",
          "2022-09-27",
          "2022-09-28",
          "2022-09-29",
          "2022-09-30",
          "2022-10-01",
          "2022-10-02",
          "2022-10-03",
          "2022-10-04",
          "2022-10-05",
          "2022-10-06",
          "2022-10-07",
          "2022-10-08",
          "2022-10-09",
          "2022-10-10",
          "2022-10-11",
          "2022-10-12",
          "2022-10-13",
          "2022-10-14",
          "2022-10-15",
          "2022-10-16",
          "2022-10-17",
          "2022-10-18",
          "2022-10-19",
          "2022-10-20",
          "2022-10-21",
          "2022-10-22",
          "2022-10-23",
          "2022-10-24",
          "2022-10-25",
          "2022-10-26",
          "2022-10-27",
          "2022-10-28",
          "2022-10-29",
          "2022-10-30",
          "2022-10-31",
          "2022-11-01",
          "2022-11-02",
          "2022-11-03",
          "2022-11-04",
          "2022-11-05",
          "2022-11-06",
          "2022-11-07",
          "2022-11-08",
          "2022-11-09",
          "2022-11-10",
          "2022-11-11",
          "2022-11-12",
          "2022-11-13",
          "2022-11-14",
          "2022-11-15",
          "2022-11-16",
          "2022-11-17",
          "2022-11-18",
          "2022-11-19",
          "2022-11-20",
          "2022-11-21",
          "2022-11-22",
          "2022-11-23",
          "2022-11-24",
          "2022-11-25",
          "2022-11-26",
          "2022-11-27",
          "2022-11-28",
          "2022-11-29",
          "2022-11-30",
          "2022-12-01",
          "2022-12-02",
          "2022-12-03",
          "2022-12-04",
          "2022-12-05",
          "2022-12-06",
          "2022-12-07",
          "2022-12-08",
          "2022-12-09",
          "2022-12-10",
          "2022-12-11",
          "2022-12-12",
          "2022-12-13",
          "2022-12-14",
          "2022-12-15",
          "2022-12-16",
          "2022-12-17",
          "2022-12-18",
          "2022-12-19",
          "2022-12-20",
          "2022-12-21",
          "2022-12-22",
          "2022-12-23",
          "2022-12-24",
          "2022-12-25",
          "2022-12-26",
          "2022-12-27",
          "2022-12-28",
          "2022-12-29",
          "2022-12-30"
         ],
         "y": [
          -0.12313991350453223,
          0.6705655174338478,
          -0.9014169451374148,
          -0.27656677326475904,
          -0.4334221662039854,
          0.033715479434694086,
          2.080549787297385,
          -0.35456590308699726,
          -1.118271668709132,
          1.6442689402697008,
          -0.7128476202924432,
          0.7699929796248329,
          -0.6862764881551973,
          -1.1199859352986317,
          -0.018569651545048024,
          0.2917126011544051,
          0.010572880476447579,
          0.010572880476447579,
          0.9868477031965501,
          -0.661419622607451,
          1.2842729564747553,
          -0.8628459468736706,
          0.4159969288931364,
          -0.2139960427480185,
          0.9979904360282984,
          -0.9339880103379098,
          -0.5602778938269662,
          0.23514180370091367,
          2.4799739026508245,
          -2.2745444833267072,
          0.37056886427139324,
          -0.986273141317652,
          -1.0411296721816437,
          2.5091164346723205,
          -1.5871235809373112,
          1.0717038993767873,
          -0.3502802366132479,
          -0.5525636941742175,
          -0.2859952395070076,
          0.18971373907917055,
          -0.2225673756955172,
          -0.2722811067910097,
          0.8368493766153228,
          -0.08971171500928728,
          -0.5654206935954655,
          0.78884991210933,
          0.8711347084053176,
          -0.356280169676497,
          -1.4508393870720817,
          0.5925663876116096,
          0.4434251943251322,
          -0.4274222331407363,
          0.4468537275041317,
          -0.6245628909332066,
          0.8385636432048226,
          -1.1774138660468731,
          0.5359955901581182,
          0.09114341018293541,
          0.58999498772736,
          -1.1259858683618809,
          -0.28428097291750787,
          0.007144347297448096,
          1.1282746968302788,
          0.3859972635768909,
          -1.6599799109910502,
          0.9157056397323109,
          -0.7334188193664402,
          1.9382656603689066,
          -2.371400545633443,
          0.010572880476447579,
          -1.9419767649637576,
          0.26257006913290953,
          0.010572880476447579,
          1.4676994815512274,
          1.1222747637670296,
          -0.6579910894284515,
          -0.009141185302799445,
          0.010572880476447579,
          0.010572880476447579,
          0.829135176962574,
          0.5805665214851115,
          -1.0642722711398902,
          0.6422801187071021,
          0.3568547315553953,
          0.05685807839294059,
          -0.38113703522424325,
          0.8977058405425636,
          -2.0002618290067486,
          1.332272420980748,
          0.22999900393241446,
          -0.8371319480311744,
          1.0228473015760446,
          -0.8757029462949186,
          -0.6031345585644597,
          0.6097090535066071,
          0.6534228515388505,
          -1.912834232942262,
          -0.24656710794851358,
          1.1119891642300312,
          0.9397053719853072,
          -0.7317045527769404,
          -1.091700536571886,
          0.9225627060903099,
          0.398854262998139,
          0.15114274081542636,
          -1.1259858683618809,
          0.954276637996055,
          1.2174165594842654
         ]
        },
        {
         "name": "Predicted",
         "type": "scatter",
         "x": [
          "2022-09-14",
          "2022-09-15",
          "2022-09-16",
          "2022-09-17",
          "2022-09-18",
          "2022-09-19",
          "2022-09-20",
          "2022-09-21",
          "2022-09-22",
          "2022-09-23",
          "2022-09-24",
          "2022-09-25",
          "2022-09-26",
          "2022-09-27",
          "2022-09-28",
          "2022-09-29",
          "2022-09-30",
          "2022-10-01",
          "2022-10-02",
          "2022-10-03",
          "2022-10-04",
          "2022-10-05",
          "2022-10-06",
          "2022-10-07",
          "2022-10-08",
          "2022-10-09",
          "2022-10-10",
          "2022-10-11",
          "2022-10-12",
          "2022-10-13",
          "2022-10-14",
          "2022-10-15",
          "2022-10-16",
          "2022-10-17",
          "2022-10-18",
          "2022-10-19",
          "2022-10-20",
          "2022-10-21",
          "2022-10-22",
          "2022-10-23",
          "2022-10-24",
          "2022-10-25",
          "2022-10-26",
          "2022-10-27",
          "2022-10-28",
          "2022-10-29",
          "2022-10-30",
          "2022-10-31",
          "2022-11-01",
          "2022-11-02",
          "2022-11-03",
          "2022-11-04",
          "2022-11-05",
          "2022-11-06",
          "2022-11-07",
          "2022-11-08",
          "2022-11-09",
          "2022-11-10",
          "2022-11-11",
          "2022-11-12",
          "2022-11-13",
          "2022-11-14",
          "2022-11-15",
          "2022-11-16",
          "2022-11-17",
          "2022-11-18",
          "2022-11-19",
          "2022-11-20",
          "2022-11-21",
          "2022-11-22",
          "2022-11-23",
          "2022-11-24",
          "2022-11-25",
          "2022-11-26",
          "2022-11-27",
          "2022-11-28",
          "2022-11-29",
          "2022-11-30",
          "2022-12-01",
          "2022-12-02",
          "2022-12-03",
          "2022-12-04",
          "2022-12-05",
          "2022-12-06",
          "2022-12-07",
          "2022-12-08",
          "2022-12-09",
          "2022-12-10",
          "2022-12-11",
          "2022-12-12",
          "2022-12-13",
          "2022-12-14",
          "2022-12-15",
          "2022-12-16",
          "2022-12-17",
          "2022-12-18",
          "2022-12-19",
          "2022-12-20",
          "2022-12-21",
          "2022-12-22",
          "2022-12-23",
          "2022-12-24",
          "2022-12-25",
          "2022-12-26",
          "2022-12-27",
          "2022-12-28",
          "2022-12-29",
          "2022-12-30"
         ],
         "y": [
          1.2157645225524902,
          0.6980025768280029,
          1.0075494050979614,
          1.6073055267333984,
          1.2398412227630615,
          1.6457202434539795,
          1.4199047088623047,
          0.5655539631843567,
          0.6446229815483093,
          1.4272555112838745,
          0.29648885130882263,
          1.2511234283447266,
          0.7642746567726135,
          0.8238726258277893,
          1.7873345613479614,
          0.6296643614768982,
          1.4293439388275146,
          1.0154634714126587,
          1.3369120359420776,
          0.5082669258117676,
          1.5829588174819946,
          0.5556356310844421,
          0.7730433344841003,
          0.915957510471344,
          0.706640899181366,
          0.3803969621658325,
          0.7546482682228088,
          0.8574720025062561,
          1.4048776626586914,
          -0.3941487967967987,
          1.0485572814941406,
          0.8429021239280701,
          1.4688613414764404,
          1.9066996574401855,
          0.1887943148612976,
          1.1228216886520386,
          -0.09823493659496307,
          0.6547078490257263,
          0.8061814904212952,
          1.1702995300292969,
          1.2122204303741455,
          1.1283279657363892,
          1.69904625415802,
          0.5761614441871643,
          1.2008501291275024,
          1.2769054174423218,
          1.3939260244369507,
          0.6998897194862366,
          0.8580354452133179,
          1.6096686124801636,
          1.4905612468719482,
          1.0648542642593384,
          1.350752830505371,
          1.052368402481079,
          1.0147943496704102,
          1.451428771018982,
          1.763736367225647,
          1.2616665363311768,
          1.4641820192337036,
          0.8318133354187012,
          1.6814056634902954,
          1.6117863655090332,
          1.4437741041183472,
          0.7850283980369568,
          0.6753683686256409,
          1.7965068817138672,
          0.6293767094612122,
          1.7988206148147583,
          0.7221010327339172,
          2.0597116947174072,
          1.2628697156906128,
          1.9813206195831299,
          1.929815411567688,
          1.7141166925430298,
          1.4089120626449585,
          0.7855130434036255,
          1.586469054222107,
          1.1886409521102905,
          0.9570927023887634,
          1.280959963798523,
          0.9212160110473633,
          0.7694796323776245,
          1.1704435348510742,
          0.6492162346839905,
          1.0020040273666382,
          0.768548309803009,
          0.8032842874526978,
          0.4406436085700989,
          1.6067768335342407,
          1.1489996910095215,
          0.6024467349052429,
          1.0959465503692627,
          -0.5377482175827026,
          0.5008354783058167,
          0.49454641342163086,
          0.8702296018600464,
          0.8922247290611267,
          1.6849194765090942,
          1.5013364553451538,
          0.4502744674682617,
          0.4462405741214752,
          1.137446641921997,
          1.8745723962783813,
          0.7243612408638,
          1.0701361894607544,
          1.2620817422866821,
          1.4466545581817627,
          0.9209473133087158
         ]
        }
       ],
       "layout": {
        "template": {
         "data": {
          "bar": [
           {
            "error_x": {
             "color": "#2a3f5f"
            },
            "error_y": {
             "color": "#2a3f5f"
            },
            "marker": {
             "line": {
              "color": "#E5ECF6",
              "width": 0.5
             },
             "pattern": {
              "fillmode": "overlay",
              "size": 10,
              "solidity": 0.2
             }
            },
            "type": "bar"
           }
          ],
          "barpolar": [
           {
            "marker": {
             "line": {
              "color": "#E5ECF6",
              "width": 0.5
             },
             "pattern": {
              "fillmode": "overlay",
              "size": 10,
              "solidity": 0.2
             }
            },
            "type": "barpolar"
           }
          ],
          "carpet": [
           {
            "aaxis": {
             "endlinecolor": "#2a3f5f",
             "gridcolor": "white",
             "linecolor": "white",
             "minorgridcolor": "white",
             "startlinecolor": "#2a3f5f"
            },
            "baxis": {
             "endlinecolor": "#2a3f5f",
             "gridcolor": "white",
             "linecolor": "white",
             "minorgridcolor": "white",
             "startlinecolor": "#2a3f5f"
            },
            "type": "carpet"
           }
          ],
          "choropleth": [
           {
            "colorbar": {
             "outlinewidth": 0,
             "ticks": ""
            },
            "type": "choropleth"
           }
          ],
          "contour": [
           {
            "colorbar": {
             "outlinewidth": 0,
             "ticks": ""
            },
            "colorscale": [
             [
              0,
              "#0d0887"
             ],
             [
              0.1111111111111111,
              "#46039f"
             ],
             [
              0.2222222222222222,
              "#7201a8"
             ],
             [
              0.3333333333333333,
              "#9c179e"
             ],
             [
              0.4444444444444444,
              "#bd3786"
             ],
             [
              0.5555555555555556,
              "#d8576b"
             ],
             [
              0.6666666666666666,
              "#ed7953"
             ],
             [
              0.7777777777777778,
              "#fb9f3a"
             ],
             [
              0.8888888888888888,
              "#fdca26"
             ],
             [
              1,
              "#f0f921"
             ]
            ],
            "type": "contour"
           }
          ],
          "contourcarpet": [
           {
            "colorbar": {
             "outlinewidth": 0,
             "ticks": ""
            },
            "type": "contourcarpet"
           }
          ],
          "heatmap": [
           {
            "colorbar": {
             "outlinewidth": 0,
             "ticks": ""
            },
            "colorscale": [
             [
              0,
              "#0d0887"
             ],
             [
              0.1111111111111111,
              "#46039f"
             ],
             [
              0.2222222222222222,
              "#7201a8"
             ],
             [
              0.3333333333333333,
              "#9c179e"
             ],
             [
              0.4444444444444444,
              "#bd3786"
             ],
             [
              0.5555555555555556,
              "#d8576b"
             ],
             [
              0.6666666666666666,
              "#ed7953"
             ],
             [
              0.7777777777777778,
              "#fb9f3a"
             ],
             [
              0.8888888888888888,
              "#fdca26"
             ],
             [
              1,
              "#f0f921"
             ]
            ],
            "type": "heatmap"
           }
          ],
          "heatmapgl": [
           {
            "colorbar": {
             "outlinewidth": 0,
             "ticks": ""
            },
            "colorscale": [
             [
              0,
              "#0d0887"
             ],
             [
              0.1111111111111111,
              "#46039f"
             ],
             [
              0.2222222222222222,
              "#7201a8"
             ],
             [
              0.3333333333333333,
              "#9c179e"
             ],
             [
              0.4444444444444444,
              "#bd3786"
             ],
             [
              0.5555555555555556,
              "#d8576b"
             ],
             [
              0.6666666666666666,
              "#ed7953"
             ],
             [
              0.7777777777777778,
              "#fb9f3a"
             ],
             [
              0.8888888888888888,
              "#fdca26"
             ],
             [
              1,
              "#f0f921"
             ]
            ],
            "type": "heatmapgl"
           }
          ],
          "histogram": [
           {
            "marker": {
             "pattern": {
              "fillmode": "overlay",
              "size": 10,
              "solidity": 0.2
             }
            },
            "type": "histogram"
           }
          ],
          "histogram2d": [
           {
            "colorbar": {
             "outlinewidth": 0,
             "ticks": ""
            },
            "colorscale": [
             [
              0,
              "#0d0887"
             ],
             [
              0.1111111111111111,
              "#46039f"
             ],
             [
              0.2222222222222222,
              "#7201a8"
             ],
             [
              0.3333333333333333,
              "#9c179e"
             ],
             [
              0.4444444444444444,
              "#bd3786"
             ],
             [
              0.5555555555555556,
              "#d8576b"
             ],
             [
              0.6666666666666666,
              "#ed7953"
             ],
             [
              0.7777777777777778,
              "#fb9f3a"
             ],
             [
              0.8888888888888888,
              "#fdca26"
             ],
             [
              1,
              "#f0f921"
             ]
            ],
            "type": "histogram2d"
           }
          ],
          "histogram2dcontour": [
           {
            "colorbar": {
             "outlinewidth": 0,
             "ticks": ""
            },
            "colorscale": [
             [
              0,
              "#0d0887"
             ],
             [
              0.1111111111111111,
              "#46039f"
             ],
             [
              0.2222222222222222,
              "#7201a8"
             ],
             [
              0.3333333333333333,
              "#9c179e"
             ],
             [
              0.4444444444444444,
              "#bd3786"
             ],
             [
              0.5555555555555556,
              "#d8576b"
             ],
             [
              0.6666666666666666,
              "#ed7953"
             ],
             [
              0.7777777777777778,
              "#fb9f3a"
             ],
             [
              0.8888888888888888,
              "#fdca26"
             ],
             [
              1,
              "#f0f921"
             ]
            ],
            "type": "histogram2dcontour"
           }
          ],
          "mesh3d": [
           {
            "colorbar": {
             "outlinewidth": 0,
             "ticks": ""
            },
            "type": "mesh3d"
           }
          ],
          "parcoords": [
           {
            "line": {
             "colorbar": {
              "outlinewidth": 0,
              "ticks": ""
             }
            },
            "type": "parcoords"
           }
          ],
          "pie": [
           {
            "automargin": true,
            "type": "pie"
           }
          ],
          "scatter": [
           {
            "fillpattern": {
             "fillmode": "overlay",
             "size": 10,
             "solidity": 0.2
            },
            "type": "scatter"
           }
          ],
          "scatter3d": [
           {
            "line": {
             "colorbar": {
              "outlinewidth": 0,
              "ticks": ""
             }
            },
            "marker": {
             "colorbar": {
              "outlinewidth": 0,
              "ticks": ""
             }
            },
            "type": "scatter3d"
           }
          ],
          "scattercarpet": [
           {
            "marker": {
             "colorbar": {
              "outlinewidth": 0,
              "ticks": ""
             }
            },
            "type": "scattercarpet"
           }
          ],
          "scattergeo": [
           {
            "marker": {
             "colorbar": {
              "outlinewidth": 0,
              "ticks": ""
             }
            },
            "type": "scattergeo"
           }
          ],
          "scattergl": [
           {
            "marker": {
             "colorbar": {
              "outlinewidth": 0,
              "ticks": ""
             }
            },
            "type": "scattergl"
           }
          ],
          "scattermapbox": [
           {
            "marker": {
             "colorbar": {
              "outlinewidth": 0,
              "ticks": ""
             }
            },
            "type": "scattermapbox"
           }
          ],
          "scatterpolar": [
           {
            "marker": {
             "colorbar": {
              "outlinewidth": 0,
              "ticks": ""
             }
            },
            "type": "scatterpolar"
           }
          ],
          "scatterpolargl": [
           {
            "marker": {
             "colorbar": {
              "outlinewidth": 0,
              "ticks": ""
             }
            },
            "type": "scatterpolargl"
           }
          ],
          "scatterternary": [
           {
            "marker": {
             "colorbar": {
              "outlinewidth": 0,
              "ticks": ""
             }
            },
            "type": "scatterternary"
           }
          ],
          "surface": [
           {
            "colorbar": {
             "outlinewidth": 0,
             "ticks": ""
            },
            "colorscale": [
             [
              0,
              "#0d0887"
             ],
             [
              0.1111111111111111,
              "#46039f"
             ],
             [
              0.2222222222222222,
              "#7201a8"
             ],
             [
              0.3333333333333333,
              "#9c179e"
             ],
             [
              0.4444444444444444,
              "#bd3786"
             ],
             [
              0.5555555555555556,
              "#d8576b"
             ],
             [
              0.6666666666666666,
              "#ed7953"
             ],
             [
              0.7777777777777778,
              "#fb9f3a"
             ],
             [
              0.8888888888888888,
              "#fdca26"
             ],
             [
              1,
              "#f0f921"
             ]
            ],
            "type": "surface"
           }
          ],
          "table": [
           {
            "cells": {
             "fill": {
              "color": "#EBF0F8"
             },
             "line": {
              "color": "white"
             }
            },
            "header": {
             "fill": {
              "color": "#C8D4E3"
             },
             "line": {
              "color": "white"
             }
            },
            "type": "table"
           }
          ]
         },
         "layout": {
          "annotationdefaults": {
           "arrowcolor": "#2a3f5f",
           "arrowhead": 0,
           "arrowwidth": 1
          },
          "autotypenumbers": "strict",
          "coloraxis": {
           "colorbar": {
            "outlinewidth": 0,
            "ticks": ""
           }
          },
          "colorscale": {
           "diverging": [
            [
             0,
             "#8e0152"
            ],
            [
             0.1,
             "#c51b7d"
            ],
            [
             0.2,
             "#de77ae"
            ],
            [
             0.3,
             "#f1b6da"
            ],
            [
             0.4,
             "#fde0ef"
            ],
            [
             0.5,
             "#f7f7f7"
            ],
            [
             0.6,
             "#e6f5d0"
            ],
            [
             0.7,
             "#b8e186"
            ],
            [
             0.8,
             "#7fbc41"
            ],
            [
             0.9,
             "#4d9221"
            ],
            [
             1,
             "#276419"
            ]
           ],
           "sequential": [
            [
             0,
             "#0d0887"
            ],
            [
             0.1111111111111111,
             "#46039f"
            ],
            [
             0.2222222222222222,
             "#7201a8"
            ],
            [
             0.3333333333333333,
             "#9c179e"
            ],
            [
             0.4444444444444444,
             "#bd3786"
            ],
            [
             0.5555555555555556,
             "#d8576b"
            ],
            [
             0.6666666666666666,
             "#ed7953"
            ],
            [
             0.7777777777777778,
             "#fb9f3a"
            ],
            [
             0.8888888888888888,
             "#fdca26"
            ],
            [
             1,
             "#f0f921"
            ]
           ],
           "sequentialminus": [
            [
             0,
             "#0d0887"
            ],
            [
             0.1111111111111111,
             "#46039f"
            ],
            [
             0.2222222222222222,
             "#7201a8"
            ],
            [
             0.3333333333333333,
             "#9c179e"
            ],
            [
             0.4444444444444444,
             "#bd3786"
            ],
            [
             0.5555555555555556,
             "#d8576b"
            ],
            [
             0.6666666666666666,
             "#ed7953"
            ],
            [
             0.7777777777777778,
             "#fb9f3a"
            ],
            [
             0.8888888888888888,
             "#fdca26"
            ],
            [
             1,
             "#f0f921"
            ]
           ]
          },
          "colorway": [
           "#636efa",
           "#EF553B",
           "#00cc96",
           "#ab63fa",
           "#FFA15A",
           "#19d3f3",
           "#FF6692",
           "#B6E880",
           "#FF97FF",
           "#FECB52"
          ],
          "font": {
           "color": "#2a3f5f"
          },
          "geo": {
           "bgcolor": "white",
           "lakecolor": "white",
           "landcolor": "#E5ECF6",
           "showlakes": true,
           "showland": true,
           "subunitcolor": "white"
          },
          "hoverlabel": {
           "align": "left"
          },
          "hovermode": "closest",
          "mapbox": {
           "style": "light"
          },
          "paper_bgcolor": "white",
          "plot_bgcolor": "#E5ECF6",
          "polar": {
           "angularaxis": {
            "gridcolor": "white",
            "linecolor": "white",
            "ticks": ""
           },
           "bgcolor": "#E5ECF6",
           "radialaxis": {
            "gridcolor": "white",
            "linecolor": "white",
            "ticks": ""
           }
          },
          "scene": {
           "xaxis": {
            "backgroundcolor": "#E5ECF6",
            "gridcolor": "white",
            "gridwidth": 2,
            "linecolor": "white",
            "showbackground": true,
            "ticks": "",
            "zerolinecolor": "white"
           },
           "yaxis": {
            "backgroundcolor": "#E5ECF6",
            "gridcolor": "white",
            "gridwidth": 2,
            "linecolor": "white",
            "showbackground": true,
            "ticks": "",
            "zerolinecolor": "white"
           },
           "zaxis": {
            "backgroundcolor": "#E5ECF6",
            "gridcolor": "white",
            "gridwidth": 2,
            "linecolor": "white",
            "showbackground": true,
            "ticks": "",
            "zerolinecolor": "white"
           }
          },
          "shapedefaults": {
           "line": {
            "color": "#2a3f5f"
           }
          },
          "ternary": {
           "aaxis": {
            "gridcolor": "white",
            "linecolor": "white",
            "ticks": ""
           },
           "baxis": {
            "gridcolor": "white",
            "linecolor": "white",
            "ticks": ""
           },
           "bgcolor": "#E5ECF6",
           "caxis": {
            "gridcolor": "white",
            "linecolor": "white",
            "ticks": ""
           }
          },
          "title": {
           "x": 0.05
          },
          "xaxis": {
           "automargin": true,
           "gridcolor": "white",
           "linecolor": "white",
           "ticks": "",
           "title": {
            "standoff": 15
           },
           "zerolinecolor": "white",
           "zerolinewidth": 2
          },
          "yaxis": {
           "automargin": true,
           "gridcolor": "white",
           "linecolor": "white",
           "ticks": "",
           "title": {
            "standoff": 15
           },
           "zerolinecolor": "white",
           "zerolinewidth": 2
          }
         }
        },
        "title": {
         "text": " rivers_transactions NNet & tsfresh. MAE=1.1294"
        }
       }
      }
     },
     "metadata": {},
     "output_type": "display_data"
    }
   ],
   "source": [
    "training_result = pd.DataFrame(index = [ts.name for ts in tss], columns=['local', 'aggr'])\n",
    "models = []\n",
    "for ts in tss:\n",
    "    X_train, X_test, y_train, y_test = extractor_ts(ts, best_features=best_features)\n",
    "    X_train = X_train.merge(calendar, left_index=True, right_index=True)\n",
    "    X_test = X_test.merge(calendar, left_index=True, right_index=True)\n",
    "\n",
    "    model = get_model(X_train.shape[1])\n",
    "    train_history, history = train(model, X_train, X_test, y_train, y_test)\n",
    "    models.append(model)\n",
    "    dfX_train = X_train\n",
    "    dfX_test = X_test\n",
    "    dfy_train = y_train\n",
    "    dfy_test = y_test\n",
    "\n",
    "    dfy_pred = pd.Series(model(torch.tensor(X_test.values, dtype=torch.float32)).detach(\n",
    "    ).numpy().reshape(-1), index=dfy_test.index)\n",
    "\n",
    "    plt.plot(train_history)\n",
    "    plt.plot(history)\n",
    "    plt.title(f\" {ts.name} evolution by Epoch\")\n",
    "    plt.ylabel(\"MAE\")\n",
    "    plt.xlabel(\"Epoch\")\n",
    "    plt.legend(['train', 'test'])\n",
    "    plt.show()\n",
    "\n",
    "    mae = MAE(dfy_test, dfy_pred)\n",
    "    training_result.loc[ts.name, 'local'] = np.round(mae, 2)\n",
    "    fig = go.Figure()\n",
    "    fig.update_layout(\n",
    "        title_text=f\" {ts.name} NNet & tsfresh. MAE={mae:.4f}\")\n",
    "    fig.add_trace(go.Scatter(x=dfy_train.index, y=dfy_train, name=\"Train\"))\n",
    "    fig.add_trace(go.Scatter(x=dfy_test.index, y=dfy_test, name=\"Test\"))\n",
    "    fig.add_trace(go.Scatter(x=dfy_pred.index, y=dfy_pred, name=\"Predicted\"))\n",
    "    fig.show()"
   ]
  },
  {
   "cell_type": "markdown",
   "metadata": {},
   "source": [
    "AVG"
   ]
  },
  {
   "cell_type": "code",
   "execution_count": 23,
   "metadata": {},
   "outputs": [
    {
     "name": "stderr",
     "output_type": "stream",
     "text": [
      "Rolling: 100%|██████████| 20/20 [00:00<00:00, 41.58it/s]\n",
      "Feature Extraction: 100%|██████████| 20/20 [00:00<00:00, 75.60it/s]\n"
     ]
    },
    {
     "data": {
      "application/vnd.plotly.v1+json": {
       "config": {
        "plotlyServerURL": "https://plot.ly"
       },
       "data": [
        {
         "name": "Train",
         "type": "scatter",
         "x": [
          "2022-01-07",
          "2022-01-08",
          "2022-01-09",
          "2022-01-10",
          "2022-01-11",
          "2022-01-12",
          "2022-01-13",
          "2022-01-14",
          "2022-01-15",
          "2022-01-16",
          "2022-01-17",
          "2022-01-18",
          "2022-01-19",
          "2022-01-20",
          "2022-01-21",
          "2022-01-22",
          "2022-01-23",
          "2022-01-24",
          "2022-01-25",
          "2022-01-26",
          "2022-01-27",
          "2022-01-28",
          "2022-01-29",
          "2022-01-30",
          "2022-01-31",
          "2022-02-01",
          "2022-02-02",
          "2022-02-03",
          "2022-02-04",
          "2022-02-05",
          "2022-02-06",
          "2022-02-07",
          "2022-02-08",
          "2022-02-09",
          "2022-02-10",
          "2022-02-11",
          "2022-02-12",
          "2022-02-13",
          "2022-02-14",
          "2022-02-15",
          "2022-02-16",
          "2022-02-17",
          "2022-02-18",
          "2022-02-19",
          "2022-02-20",
          "2022-02-21",
          "2022-02-22",
          "2022-02-23",
          "2022-02-24",
          "2022-02-25",
          "2022-02-26",
          "2022-02-27",
          "2022-02-28",
          "2022-03-01",
          "2022-03-02",
          "2022-03-03",
          "2022-03-04",
          "2022-03-05",
          "2022-03-06",
          "2022-03-07",
          "2022-03-08",
          "2022-03-09",
          "2022-03-10",
          "2022-03-11",
          "2022-03-12",
          "2022-03-13",
          "2022-03-14",
          "2022-03-15",
          "2022-03-16",
          "2022-03-17",
          "2022-03-18",
          "2022-03-19",
          "2022-03-20",
          "2022-03-21",
          "2022-03-22",
          "2022-03-23",
          "2022-03-24",
          "2022-03-25",
          "2022-03-26",
          "2022-03-27",
          "2022-03-28",
          "2022-03-29",
          "2022-03-30",
          "2022-03-31",
          "2022-04-01",
          "2022-04-02",
          "2022-04-03",
          "2022-04-04",
          "2022-04-05",
          "2022-04-06",
          "2022-04-07",
          "2022-04-08",
          "2022-04-09",
          "2022-04-10",
          "2022-04-11",
          "2022-04-12",
          "2022-04-13",
          "2022-04-14",
          "2022-04-15",
          "2022-04-16",
          "2022-04-17",
          "2022-04-18",
          "2022-04-19",
          "2022-04-20",
          "2022-04-21",
          "2022-04-22",
          "2022-04-23",
          "2022-04-24",
          "2022-04-25",
          "2022-04-26",
          "2022-04-27",
          "2022-04-28",
          "2022-04-29",
          "2022-04-30",
          "2022-05-01",
          "2022-05-02",
          "2022-05-03",
          "2022-05-04",
          "2022-05-05",
          "2022-05-06",
          "2022-05-07",
          "2022-05-08",
          "2022-05-09",
          "2022-05-10",
          "2022-05-11",
          "2022-05-12",
          "2022-05-13",
          "2022-05-14",
          "2022-05-15",
          "2022-05-16",
          "2022-05-17",
          "2022-05-18",
          "2022-05-19",
          "2022-05-20",
          "2022-05-21",
          "2022-05-22",
          "2022-05-23",
          "2022-05-24",
          "2022-05-25",
          "2022-05-26",
          "2022-05-27",
          "2022-05-28",
          "2022-05-29",
          "2022-05-30",
          "2022-05-31",
          "2022-06-01",
          "2022-06-02",
          "2022-06-03",
          "2022-06-04",
          "2022-06-05",
          "2022-06-06",
          "2022-06-07",
          "2022-06-08",
          "2022-06-09",
          "2022-06-10",
          "2022-06-11",
          "2022-06-12",
          "2022-06-13",
          "2022-06-14",
          "2022-06-15",
          "2022-06-16",
          "2022-06-17",
          "2022-06-18",
          "2022-06-19",
          "2022-06-20",
          "2022-06-21",
          "2022-06-22",
          "2022-06-23",
          "2022-06-24",
          "2022-06-25",
          "2022-06-26",
          "2022-06-27",
          "2022-06-28",
          "2022-06-29",
          "2022-06-30",
          "2022-07-01",
          "2022-07-02",
          "2022-07-03",
          "2022-07-04",
          "2022-07-05",
          "2022-07-06",
          "2022-07-07",
          "2022-07-08",
          "2022-07-09",
          "2022-07-10",
          "2022-07-11",
          "2022-07-12",
          "2022-07-13",
          "2022-07-14",
          "2022-07-15",
          "2022-07-16",
          "2022-07-17",
          "2022-07-18",
          "2022-07-19",
          "2022-07-20",
          "2022-07-21",
          "2022-07-22",
          "2022-07-23",
          "2022-07-24",
          "2022-07-25",
          "2022-07-26",
          "2022-07-27",
          "2022-07-28",
          "2022-07-29",
          "2022-07-30",
          "2022-07-31",
          "2022-08-01",
          "2022-08-02",
          "2022-08-03",
          "2022-08-04",
          "2022-08-05",
          "2022-08-06",
          "2022-08-07",
          "2022-08-08",
          "2022-08-09",
          "2022-08-10",
          "2022-08-11",
          "2022-08-12",
          "2022-08-13",
          "2022-08-14",
          "2022-08-15",
          "2022-08-16",
          "2022-08-17",
          "2022-08-18",
          "2022-08-19",
          "2022-08-20",
          "2022-08-21",
          "2022-08-22",
          "2022-08-23",
          "2022-08-24",
          "2022-08-25",
          "2022-08-26",
          "2022-08-27",
          "2022-08-28",
          "2022-08-29",
          "2022-08-30",
          "2022-08-31",
          "2022-09-01",
          "2022-09-02",
          "2022-09-03",
          "2022-09-04",
          "2022-09-05",
          "2022-09-06",
          "2022-09-07",
          "2022-09-08",
          "2022-09-09",
          "2022-09-10",
          "2022-09-11",
          "2022-09-12",
          "2022-09-13"
         ],
         "y": [
          1.9127046445096438,
          -0.3391186396249671,
          -0.18061155105055077,
          -0.7185130258256667,
          -0.6244313990589164,
          0.3920592205731468,
          0.3756971985267554,
          -0.25117277112561354,
          0.3112717367190894,
          -0.38206894749674436,
          0.9780241351095373,
          -0.7870289931449305,
          1.346169631153343,
          -1.693075963963852,
          -0.6643138277969953,
          0.6037428807983349,
          0.24173314302192617,
          0.3112717367190894,
          -1.6409220186909794,
          0.6845303646523924,
          1.5987583464945097,
          -0.8974726419580722,
          0.7029376394545825,
          -1.6705781836500637,
          0.5607925729265577,
          -0.1652721553820589,
          0.6753267272512972,
          -0.08039416601640369,
          0.09038443909280612,
          -0.4833089589087909,
          0.6098786390657317,
          -0.2971909581310892,
          1.743971292156233,
          -0.8412281911736019,
          -2.1675746033092014,
          2.12745618386853,
          -0.10902770459758857,
          -0.8432734439294008,
          0.5474984300138647,
          0.11492747216239316,
          -1.8055648655327925,
          1.7848763472722113,
          -0.5957978604777315,
          -0.7307845423604602,
          -0.10391457270809126,
          0.5505663091475631,
          0.5382947926127696,
          1.3932104445367182,
          -1.6746686891616616,
          0.4892087264735955,
          -1.5018448312966528,
          1.44638701618749,
          0.07402241704641475,
          -0.2266297380560265,
          -0.0773262868827053,
          0.07402241704641475,
          2.2798275141755497,
          -1.9599814485956109,
          0.5331816607232722,
          0.4984123638746906,
          0.43807740757862246,
          -0.28798732072999406,
          -1.399582193506707,
          0.6190822764668269,
          0.3245658796317824,
          -0.41070248607792925,
          -0.327869749468073,
          0.5710188367055523,
          -0.49251259630988603,
          0.46364306702610897,
          1.2469748724970955,
          1.046540102428801,
          -0.990531642346923,
          -1.9252121517470293,
          0.6354442985132183,
          0.07606766980221367,
          -0.07119052861530854,
          -0.6407934211053078,
          0.43091902293332623,
          0.3061586048295921,
          0.38285558317205165,
          -0.11618608924288479,
          0.7591820902390529,
          -1.6204694911329902,
          -0.38718207938624166,
          1.8360076661671842,
          0.2816155717600051,
          0.25195940680092077,
          -1.4149215891751987,
          0.6722588481175988,
          0.9095081677902735,
          -2.1307600537048206,
          0.908485541412374,
          -0.290032573485793,
          2.1847232610309,
          0.07402241704641475,
          -0.13970649593457238,
          1.1068750587248695,
          0.6507836941817101,
          -0.6039788715009272,
          -1.1081336758053608,
          0.6129465181994301,
          0.8297433103141156,
          -0.4383133982812147,
          -0.9220156750276592,
          1.6110298630293032,
          -0.20515458412013782,
          -1.8873749757647493,
          0.7520237055937566,
          -0.11107295735338749,
          0.7581594638611534,
          0.5198875178105793,
          0.7162317823672756,
          0.07402241704641475,
          0.07402241704641475,
          2.1039357771768428,
          -1.3873106769719135,
          -0.3892273321420406,
          -0.03846648452252584,
          0.11799535129609154,
          0.36751618750355974,
          -1.7912480962422,
          1.3911651917809191,
          0.41148912175323654,
          -1.188921159659418,
          -0.1080050782196891,
          1.2265223449391063,
          -0.32991500222387193,
          0.12822161507508614,
          0.10163332924970017,
          0.20696384617334454,
          -1.3474282482338344,
          1.1058524323469698,
          -0.5191008821352721,
          -1.1848306541478204,
          0.539317418990669,
          0.2611630442020159,
          0.4493262977355165,
          0.4319416493112257,
          -1.6347862604235825,
          0.5168196386768809,
          1.026087574870812,
          -1.3658355230360246,
          2.22256043701318,
          -1.3525413801233317,
          -0.3882047057641411,
          -0.052783253813118276,
          0.31536224223068726,
          -0.8995178947138711,
          0.8103134091340258,
          1.0179065638476164,
          -1.7513656675041211,
          0.4738693308051036,
          -0.9629207301436377,
          0.7745214859075448,
          0.14049313160987964,
          1.0680152563646899,
          -1.6501256560920745,
          0.5055707485199868,
          -0.5487570470943564,
          1.1201692016375624,
          -0.5876168494545359,
          0.3399052753002743,
          1.166187388643038,
          -1.5386593809010334,
          1.3277623563511527,
          -1.4302609848436907,
          0.18548869223745587,
          -0.1080050782196891,
          -0.8136172789703164,
          1.2306128504507041,
          -0.3513901561597606,
          -0.2409465073466189,
          1.2848120484793755,
          0.07402241704641475,
          0.07402241704641475,
          0.07402241704641475,
          0.07402241704641475,
          0.9851825197548335,
          0.668168342606001,
          -0.8995178947138711,
          0.4830729682061987,
          -0.40354410143263303,
          1.308332455171063,
          -1.7523882938820206,
          0.42580589104382893,
          0.8236075520467189,
          -1.8761260856078552,
          0.5076160012757858,
          0.5434079245022668,
          -1.1541518628108365,
          0.07402241704641475,
          -1.0866585218694722,
          -0.20106407860853998,
          -0.5508022998501553,
          0.1619682855457683,
          -1.066205994311483,
          1.1651647622651387,
          1.2091376965148153,
          -1.4895733147618593,
          -0.9884863895911241,
          1.2275449713170057,
          -0.8105493998366181,
          -0.48126370615299197,
          0.2672988024694127,
          0.6569194524491069,
          -1.0385950821081977,
          1.179481531555731,
          0.0003933178376536386,
          -0.35241278253766006,
          0.2928644619168992,
          -0.17243054002735508,
          -0.45263016757180713,
          0.11083696665079532,
          0.14253838436567856,
          -1.3187947096526496,
          1.5159256098846534,
          -1.3637902702802258,
          1.9536096996256223,
          -1.284025412804068,
          1.8411207980566815,
          -2.20745703204728,
          1.406504587449411,
          -0.2266297380560265,
          -0.23378812270132268,
          1.0271102012487114,
          -0.6735174651980904,
          -0.8105493998366181,
          1.306287202415264,
          -1.8321531513581784,
          0.07197716429061583,
          0.31331698947488834,
          0.7704309803959469,
          -0.3646842990724536,
          0.27036668160311106,
          -0.8074815207029197,
          0.946322717394654,
          -1.5857001942844087,
          1.3308302354848511,
          -0.14788750695776806,
          0.5270459024558755,
          0.3552446709687662,
          -0.6182956407915197,
          -0.06300951759211287,
          -0.4761505742634947,
          0.7428200681926616,
          -1.4046953253962042,
          1.5915999618492134,
          0.5669283311939545,
          -1.6746686891616616
         ]
        },
        {
         "name": "Test",
         "type": "scatter",
         "x": [
          "2022-09-14",
          "2022-09-15",
          "2022-09-16",
          "2022-09-17",
          "2022-09-18",
          "2022-09-19",
          "2022-09-20",
          "2022-09-21",
          "2022-09-22",
          "2022-09-23",
          "2022-09-24",
          "2022-09-25",
          "2022-09-26",
          "2022-09-27",
          "2022-09-28",
          "2022-09-29",
          "2022-09-30",
          "2022-10-01",
          "2022-10-02",
          "2022-10-03",
          "2022-10-04",
          "2022-10-05",
          "2022-10-06",
          "2022-10-07",
          "2022-10-08",
          "2022-10-09",
          "2022-10-10",
          "2022-10-11",
          "2022-10-12",
          "2022-10-13",
          "2022-10-14",
          "2022-10-15",
          "2022-10-16",
          "2022-10-17",
          "2022-10-18",
          "2022-10-19",
          "2022-10-20",
          "2022-10-21",
          "2022-10-22",
          "2022-10-23",
          "2022-10-24",
          "2022-10-25",
          "2022-10-26",
          "2022-10-27",
          "2022-10-28",
          "2022-10-29",
          "2022-10-30",
          "2022-10-31",
          "2022-11-01",
          "2022-11-02",
          "2022-11-03",
          "2022-11-04",
          "2022-11-05",
          "2022-11-06",
          "2022-11-07",
          "2022-11-08",
          "2022-11-09",
          "2022-11-10",
          "2022-11-11",
          "2022-11-12",
          "2022-11-13",
          "2022-11-14",
          "2022-11-15",
          "2022-11-16",
          "2022-11-17",
          "2022-11-18",
          "2022-11-19",
          "2022-11-20",
          "2022-11-21",
          "2022-11-22",
          "2022-11-23",
          "2022-11-24",
          "2022-11-25",
          "2022-11-26",
          "2022-11-27",
          "2022-11-28",
          "2022-11-29",
          "2022-11-30",
          "2022-12-01",
          "2022-12-02",
          "2022-12-03",
          "2022-12-04",
          "2022-12-05",
          "2022-12-06",
          "2022-12-07",
          "2022-12-08",
          "2022-12-09",
          "2022-12-10",
          "2022-12-11",
          "2022-12-12",
          "2022-12-13",
          "2022-12-14",
          "2022-12-15",
          "2022-12-16",
          "2022-12-17",
          "2022-12-18",
          "2022-12-19",
          "2022-12-20",
          "2022-12-21",
          "2022-12-22",
          "2022-12-23",
          "2022-12-24",
          "2022-12-25",
          "2022-12-26",
          "2022-12-27",
          "2022-12-28",
          "2022-12-29",
          "2022-12-30"
         ],
         "y": [
          0.5515889355254625,
          0.8430374532268086,
          -0.6182956407915197,
          -0.5088746183562775,
          0.8246301784246183,
          -0.8310019273946073,
          1.2367486087181008,
          -0.3227566175785757,
          -0.08448467152800153,
          0.4810277154503998,
          -1.6194468647550908,
          0.8563315961395016,
          -1.295274302960962,
          1.3717352906008295,
          -1.0559797305324885,
          1.1089203114806683,
          0.07402241704641475,
          0.07402241704641475,
          -1.6818270738069578,
          1.1027845532132716,
          1.0179065638476164,
          -2.4549326154989495,
          1.6785232039706675,
          -0.1928830675853443,
          0.10470120838339855,
          -0.5845489703208374,
          0.9003045303891783,
          0.14458363712147748,
          -1.0518892250208907,
          0.6221501556005252,
          0.6773719800070961,
          -1.6726234364058628,
          -0.05687375932471612,
          -0.20719983687593674,
          1.1723231469104347,
          -1.0733643789567793,
          1.101761926835372,
          -0.1898151884516459,
          -1.2870932919377662,
          -0.4454717829265109,
          1.281744169345677,
          1.7490844240457302,
          -1.3106136986294539,
          -1.4159442155530981,
          0.041298372953632034,
          0.20900909892914346,
          0.4053533634858398,
          0.8532637170058032,
          -1.284025412804068,
          1.4187761039842046,
          0.7939513870876346,
          -0.1622042762483605,
          0.5567020674149599,
          -0.46490168410660065,
          -2.062244086385557,
          0.9074629150344746,
          -2.0786061084319485,
          1.1835720370673288,
          0.6109012654436312,
          -0.3830915738746438,
          0.5250006497000765,
          0.539317418990669,
          -1.2318714675311955,
          -0.8320245537725067,
          2.0384876889912773,
          -0.8872463781790776,
          0.4656883197819079,
          0.15480990090047209,
          -1.864877195450961,
          1.9096367653759454,
          -0.08448467152800153,
          -0.3943404640315379,
          0.2672988024694127,
          0.10470120838339855,
          0.057660395000023394,
          -0.1468648805798686,
          -1.6296731285340853,
          0.07402241704641475,
          0.07402241704641475,
          -0.015968704208737722,
          1.590577335471314,
          -2.0857644930772445,
          1.7204508854645453,
          -1.5427498864126312,
          1.166187388643038,
          -0.4250192553685217,
          -0.4127477388337282,
          -0.2583311557709097,
          1.577283192558621,
          -0.0088103195634415,
          -0.8964500155801727,
          -1.3883333033498129,
          1.2009566854916196,
          0.4575073087587122,
          -0.0047198140518436614,
          -1.7094379860102433,
          0.9401869591272572,
          1.1876625425789267,
          0.6068107599320334,
          -1.700234348609148,
          0.9902956516443309,
          -0.570232201030245,
          -0.6602233222853975,
          -0.38718207938624166,
          0.5515889355254625,
          -0.3207113648227768,
          -0.928151433295056,
          0.4002402315963425
         ]
        },
        {
         "name": "Predicted",
         "type": "scatter",
         "x": [
          "2022-09-14",
          "2022-09-15",
          "2022-09-16",
          "2022-09-17",
          "2022-09-18",
          "2022-09-19",
          "2022-09-20",
          "2022-09-21",
          "2022-09-22",
          "2022-09-23",
          "2022-09-24",
          "2022-09-25",
          "2022-09-26",
          "2022-09-27",
          "2022-09-28",
          "2022-09-29",
          "2022-09-30",
          "2022-10-01",
          "2022-10-02",
          "2022-10-03",
          "2022-10-04",
          "2022-10-05",
          "2022-10-06",
          "2022-10-07",
          "2022-10-08",
          "2022-10-09",
          "2022-10-10",
          "2022-10-11",
          "2022-10-12",
          "2022-10-13",
          "2022-10-14",
          "2022-10-15",
          "2022-10-16",
          "2022-10-17",
          "2022-10-18",
          "2022-10-19",
          "2022-10-20",
          "2022-10-21",
          "2022-10-22",
          "2022-10-23",
          "2022-10-24",
          "2022-10-25",
          "2022-10-26",
          "2022-10-27",
          "2022-10-28",
          "2022-10-29",
          "2022-10-30",
          "2022-10-31",
          "2022-11-01",
          "2022-11-02",
          "2022-11-03",
          "2022-11-04",
          "2022-11-05",
          "2022-11-06",
          "2022-11-07",
          "2022-11-08",
          "2022-11-09",
          "2022-11-10",
          "2022-11-11",
          "2022-11-12",
          "2022-11-13",
          "2022-11-14",
          "2022-11-15",
          "2022-11-16",
          "2022-11-17",
          "2022-11-18",
          "2022-11-19",
          "2022-11-20",
          "2022-11-21",
          "2022-11-22",
          "2022-11-23",
          "2022-11-24",
          "2022-11-25",
          "2022-11-26",
          "2022-11-27",
          "2022-11-28",
          "2022-11-29",
          "2022-11-30",
          "2022-12-01",
          "2022-12-02",
          "2022-12-03",
          "2022-12-04",
          "2022-12-05",
          "2022-12-06",
          "2022-12-07",
          "2022-12-08",
          "2022-12-09",
          "2022-12-10",
          "2022-12-11",
          "2022-12-12",
          "2022-12-13",
          "2022-12-14",
          "2022-12-15",
          "2022-12-16",
          "2022-12-17",
          "2022-12-18",
          "2022-12-19",
          "2022-12-20",
          "2022-12-21",
          "2022-12-22",
          "2022-12-23",
          "2022-12-24",
          "2022-12-25",
          "2022-12-26",
          "2022-12-27",
          "2022-12-28",
          "2022-12-29",
          "2022-12-30"
         ],
         "y": [
          0.6389002203941345,
          0.0028474926948547363,
          -0.05177241563796997,
          0.29993680119514465,
          0.3594350814819336,
          -0.03212601691484451,
          0.48797619342803955,
          -0.1610511988401413,
          0.23090696334838867,
          0.14901961386203766,
          0.10920087993144989,
          0.5701062679290771,
          0.04680595546960831,
          0.6742960810661316,
          -0.05776703730225563,
          0.44442427158355713,
          -0.06914196908473969,
          0.2131473422050476,
          0.07674307376146317,
          0.5891712307929993,
          0.15597984194755554,
          -0.08529640734195709,
          0.7512750625610352,
          -0.057821124792099,
          0.27473756670951843,
          0.1370076835155487,
          0.3475742042064667,
          0.03910934180021286,
          0.19502709805965424,
          0.44110333919525146,
          0.12771368026733398,
          0.10527191311120987,
          0.5217181444168091,
          0.25833240151405334,
          0.31474998593330383,
          -0.0056187547743320465,
          0.3938579857349396,
          0.03892563283443451,
          0.30830806493759155,
          0.5835877656936646,
          0.3185780346393585,
          0.07333432883024216,
          -0.14898619055747986,
          0.33331915736198425,
          0.6490219831466675,
          0.3453424870967865,
          0.26792892813682556,
          0.1292097568511963,
          0.14715999364852905,
          0.5902090668678284,
          -0.14780759811401367,
          0.020872563123703003,
          0.2759367525577545,
          -0.051748126745224,
          0.14919573068618774,
          0.6695042848587036,
          0.04887067899107933,
          0.6514984965324402,
          0.08103343844413757,
          0.12250480055809021,
          0.2156715989112854,
          -0.06624092906713486,
          0.08819589018821716,
          0.6022169589996338,
          0.46194618940353394,
          -0.3190035820007324,
          0.3086778223514557,
          -0.01200498640537262,
          0.042636021971702576,
          0.7402568459510803,
          -0.31342318654060364,
          0.17376360297203064,
          0.399941086769104,
          0.2264435589313507,
          0.2571190893650055,
          0.20613327622413635,
          0.22216588258743286,
          0.6141076683998108,
          0.11713781207799911,
          0.2626982629299164,
          0.3301716446876526,
          -0.16570758819580078,
          0.6876072287559509,
          -0.03505801409482956,
          0.5390996932983398,
          -0.15881115198135376,
          0.4022534489631653,
          0.37070950865745544,
          0.36143386363983154,
          -0.12329087406396866,
          0.15938550233840942,
          0.4750402271747589,
          0.6242352724075317,
          0.0702870637178421,
          0.2017422318458557,
          0.26061564683914185,
          0.6826214790344238,
          0.19338184595108032,
          -0.12310783565044403,
          -0.08306556940078735,
          0.5391619205474854,
          -0.048990391194820404,
          0.33158043026924133,
          0.23281288146972656,
          0.5067344903945923,
          0.0928877592086792,
          0.3574710190296173,
          0.5695614218711853
         ]
        }
       ],
       "layout": {
        "template": {
         "data": {
          "bar": [
           {
            "error_x": {
             "color": "#2a3f5f"
            },
            "error_y": {
             "color": "#2a3f5f"
            },
            "marker": {
             "line": {
              "color": "#E5ECF6",
              "width": 0.5
             },
             "pattern": {
              "fillmode": "overlay",
              "size": 10,
              "solidity": 0.2
             }
            },
            "type": "bar"
           }
          ],
          "barpolar": [
           {
            "marker": {
             "line": {
              "color": "#E5ECF6",
              "width": 0.5
             },
             "pattern": {
              "fillmode": "overlay",
              "size": 10,
              "solidity": 0.2
             }
            },
            "type": "barpolar"
           }
          ],
          "carpet": [
           {
            "aaxis": {
             "endlinecolor": "#2a3f5f",
             "gridcolor": "white",
             "linecolor": "white",
             "minorgridcolor": "white",
             "startlinecolor": "#2a3f5f"
            },
            "baxis": {
             "endlinecolor": "#2a3f5f",
             "gridcolor": "white",
             "linecolor": "white",
             "minorgridcolor": "white",
             "startlinecolor": "#2a3f5f"
            },
            "type": "carpet"
           }
          ],
          "choropleth": [
           {
            "colorbar": {
             "outlinewidth": 0,
             "ticks": ""
            },
            "type": "choropleth"
           }
          ],
          "contour": [
           {
            "colorbar": {
             "outlinewidth": 0,
             "ticks": ""
            },
            "colorscale": [
             [
              0,
              "#0d0887"
             ],
             [
              0.1111111111111111,
              "#46039f"
             ],
             [
              0.2222222222222222,
              "#7201a8"
             ],
             [
              0.3333333333333333,
              "#9c179e"
             ],
             [
              0.4444444444444444,
              "#bd3786"
             ],
             [
              0.5555555555555556,
              "#d8576b"
             ],
             [
              0.6666666666666666,
              "#ed7953"
             ],
             [
              0.7777777777777778,
              "#fb9f3a"
             ],
             [
              0.8888888888888888,
              "#fdca26"
             ],
             [
              1,
              "#f0f921"
             ]
            ],
            "type": "contour"
           }
          ],
          "contourcarpet": [
           {
            "colorbar": {
             "outlinewidth": 0,
             "ticks": ""
            },
            "type": "contourcarpet"
           }
          ],
          "heatmap": [
           {
            "colorbar": {
             "outlinewidth": 0,
             "ticks": ""
            },
            "colorscale": [
             [
              0,
              "#0d0887"
             ],
             [
              0.1111111111111111,
              "#46039f"
             ],
             [
              0.2222222222222222,
              "#7201a8"
             ],
             [
              0.3333333333333333,
              "#9c179e"
             ],
             [
              0.4444444444444444,
              "#bd3786"
             ],
             [
              0.5555555555555556,
              "#d8576b"
             ],
             [
              0.6666666666666666,
              "#ed7953"
             ],
             [
              0.7777777777777778,
              "#fb9f3a"
             ],
             [
              0.8888888888888888,
              "#fdca26"
             ],
             [
              1,
              "#f0f921"
             ]
            ],
            "type": "heatmap"
           }
          ],
          "heatmapgl": [
           {
            "colorbar": {
             "outlinewidth": 0,
             "ticks": ""
            },
            "colorscale": [
             [
              0,
              "#0d0887"
             ],
             [
              0.1111111111111111,
              "#46039f"
             ],
             [
              0.2222222222222222,
              "#7201a8"
             ],
             [
              0.3333333333333333,
              "#9c179e"
             ],
             [
              0.4444444444444444,
              "#bd3786"
             ],
             [
              0.5555555555555556,
              "#d8576b"
             ],
             [
              0.6666666666666666,
              "#ed7953"
             ],
             [
              0.7777777777777778,
              "#fb9f3a"
             ],
             [
              0.8888888888888888,
              "#fdca26"
             ],
             [
              1,
              "#f0f921"
             ]
            ],
            "type": "heatmapgl"
           }
          ],
          "histogram": [
           {
            "marker": {
             "pattern": {
              "fillmode": "overlay",
              "size": 10,
              "solidity": 0.2
             }
            },
            "type": "histogram"
           }
          ],
          "histogram2d": [
           {
            "colorbar": {
             "outlinewidth": 0,
             "ticks": ""
            },
            "colorscale": [
             [
              0,
              "#0d0887"
             ],
             [
              0.1111111111111111,
              "#46039f"
             ],
             [
              0.2222222222222222,
              "#7201a8"
             ],
             [
              0.3333333333333333,
              "#9c179e"
             ],
             [
              0.4444444444444444,
              "#bd3786"
             ],
             [
              0.5555555555555556,
              "#d8576b"
             ],
             [
              0.6666666666666666,
              "#ed7953"
             ],
             [
              0.7777777777777778,
              "#fb9f3a"
             ],
             [
              0.8888888888888888,
              "#fdca26"
             ],
             [
              1,
              "#f0f921"
             ]
            ],
            "type": "histogram2d"
           }
          ],
          "histogram2dcontour": [
           {
            "colorbar": {
             "outlinewidth": 0,
             "ticks": ""
            },
            "colorscale": [
             [
              0,
              "#0d0887"
             ],
             [
              0.1111111111111111,
              "#46039f"
             ],
             [
              0.2222222222222222,
              "#7201a8"
             ],
             [
              0.3333333333333333,
              "#9c179e"
             ],
             [
              0.4444444444444444,
              "#bd3786"
             ],
             [
              0.5555555555555556,
              "#d8576b"
             ],
             [
              0.6666666666666666,
              "#ed7953"
             ],
             [
              0.7777777777777778,
              "#fb9f3a"
             ],
             [
              0.8888888888888888,
              "#fdca26"
             ],
             [
              1,
              "#f0f921"
             ]
            ],
            "type": "histogram2dcontour"
           }
          ],
          "mesh3d": [
           {
            "colorbar": {
             "outlinewidth": 0,
             "ticks": ""
            },
            "type": "mesh3d"
           }
          ],
          "parcoords": [
           {
            "line": {
             "colorbar": {
              "outlinewidth": 0,
              "ticks": ""
             }
            },
            "type": "parcoords"
           }
          ],
          "pie": [
           {
            "automargin": true,
            "type": "pie"
           }
          ],
          "scatter": [
           {
            "fillpattern": {
             "fillmode": "overlay",
             "size": 10,
             "solidity": 0.2
            },
            "type": "scatter"
           }
          ],
          "scatter3d": [
           {
            "line": {
             "colorbar": {
              "outlinewidth": 0,
              "ticks": ""
             }
            },
            "marker": {
             "colorbar": {
              "outlinewidth": 0,
              "ticks": ""
             }
            },
            "type": "scatter3d"
           }
          ],
          "scattercarpet": [
           {
            "marker": {
             "colorbar": {
              "outlinewidth": 0,
              "ticks": ""
             }
            },
            "type": "scattercarpet"
           }
          ],
          "scattergeo": [
           {
            "marker": {
             "colorbar": {
              "outlinewidth": 0,
              "ticks": ""
             }
            },
            "type": "scattergeo"
           }
          ],
          "scattergl": [
           {
            "marker": {
             "colorbar": {
              "outlinewidth": 0,
              "ticks": ""
             }
            },
            "type": "scattergl"
           }
          ],
          "scattermapbox": [
           {
            "marker": {
             "colorbar": {
              "outlinewidth": 0,
              "ticks": ""
             }
            },
            "type": "scattermapbox"
           }
          ],
          "scatterpolar": [
           {
            "marker": {
             "colorbar": {
              "outlinewidth": 0,
              "ticks": ""
             }
            },
            "type": "scatterpolar"
           }
          ],
          "scatterpolargl": [
           {
            "marker": {
             "colorbar": {
              "outlinewidth": 0,
              "ticks": ""
             }
            },
            "type": "scatterpolargl"
           }
          ],
          "scatterternary": [
           {
            "marker": {
             "colorbar": {
              "outlinewidth": 0,
              "ticks": ""
             }
            },
            "type": "scatterternary"
           }
          ],
          "surface": [
           {
            "colorbar": {
             "outlinewidth": 0,
             "ticks": ""
            },
            "colorscale": [
             [
              0,
              "#0d0887"
             ],
             [
              0.1111111111111111,
              "#46039f"
             ],
             [
              0.2222222222222222,
              "#7201a8"
             ],
             [
              0.3333333333333333,
              "#9c179e"
             ],
             [
              0.4444444444444444,
              "#bd3786"
             ],
             [
              0.5555555555555556,
              "#d8576b"
             ],
             [
              0.6666666666666666,
              "#ed7953"
             ],
             [
              0.7777777777777778,
              "#fb9f3a"
             ],
             [
              0.8888888888888888,
              "#fdca26"
             ],
             [
              1,
              "#f0f921"
             ]
            ],
            "type": "surface"
           }
          ],
          "table": [
           {
            "cells": {
             "fill": {
              "color": "#EBF0F8"
             },
             "line": {
              "color": "white"
             }
            },
            "header": {
             "fill": {
              "color": "#C8D4E3"
             },
             "line": {
              "color": "white"
             }
            },
            "type": "table"
           }
          ]
         },
         "layout": {
          "annotationdefaults": {
           "arrowcolor": "#2a3f5f",
           "arrowhead": 0,
           "arrowwidth": 1
          },
          "autotypenumbers": "strict",
          "coloraxis": {
           "colorbar": {
            "outlinewidth": 0,
            "ticks": ""
           }
          },
          "colorscale": {
           "diverging": [
            [
             0,
             "#8e0152"
            ],
            [
             0.1,
             "#c51b7d"
            ],
            [
             0.2,
             "#de77ae"
            ],
            [
             0.3,
             "#f1b6da"
            ],
            [
             0.4,
             "#fde0ef"
            ],
            [
             0.5,
             "#f7f7f7"
            ],
            [
             0.6,
             "#e6f5d0"
            ],
            [
             0.7,
             "#b8e186"
            ],
            [
             0.8,
             "#7fbc41"
            ],
            [
             0.9,
             "#4d9221"
            ],
            [
             1,
             "#276419"
            ]
           ],
           "sequential": [
            [
             0,
             "#0d0887"
            ],
            [
             0.1111111111111111,
             "#46039f"
            ],
            [
             0.2222222222222222,
             "#7201a8"
            ],
            [
             0.3333333333333333,
             "#9c179e"
            ],
            [
             0.4444444444444444,
             "#bd3786"
            ],
            [
             0.5555555555555556,
             "#d8576b"
            ],
            [
             0.6666666666666666,
             "#ed7953"
            ],
            [
             0.7777777777777778,
             "#fb9f3a"
            ],
            [
             0.8888888888888888,
             "#fdca26"
            ],
            [
             1,
             "#f0f921"
            ]
           ],
           "sequentialminus": [
            [
             0,
             "#0d0887"
            ],
            [
             0.1111111111111111,
             "#46039f"
            ],
            [
             0.2222222222222222,
             "#7201a8"
            ],
            [
             0.3333333333333333,
             "#9c179e"
            ],
            [
             0.4444444444444444,
             "#bd3786"
            ],
            [
             0.5555555555555556,
             "#d8576b"
            ],
            [
             0.6666666666666666,
             "#ed7953"
            ],
            [
             0.7777777777777778,
             "#fb9f3a"
            ],
            [
             0.8888888888888888,
             "#fdca26"
            ],
            [
             1,
             "#f0f921"
            ]
           ]
          },
          "colorway": [
           "#636efa",
           "#EF553B",
           "#00cc96",
           "#ab63fa",
           "#FFA15A",
           "#19d3f3",
           "#FF6692",
           "#B6E880",
           "#FF97FF",
           "#FECB52"
          ],
          "font": {
           "color": "#2a3f5f"
          },
          "geo": {
           "bgcolor": "white",
           "lakecolor": "white",
           "landcolor": "#E5ECF6",
           "showlakes": true,
           "showland": true,
           "subunitcolor": "white"
          },
          "hoverlabel": {
           "align": "left"
          },
          "hovermode": "closest",
          "mapbox": {
           "style": "light"
          },
          "paper_bgcolor": "white",
          "plot_bgcolor": "#E5ECF6",
          "polar": {
           "angularaxis": {
            "gridcolor": "white",
            "linecolor": "white",
            "ticks": ""
           },
           "bgcolor": "#E5ECF6",
           "radialaxis": {
            "gridcolor": "white",
            "linecolor": "white",
            "ticks": ""
           }
          },
          "scene": {
           "xaxis": {
            "backgroundcolor": "#E5ECF6",
            "gridcolor": "white",
            "gridwidth": 2,
            "linecolor": "white",
            "showbackground": true,
            "ticks": "",
            "zerolinecolor": "white"
           },
           "yaxis": {
            "backgroundcolor": "#E5ECF6",
            "gridcolor": "white",
            "gridwidth": 2,
            "linecolor": "white",
            "showbackground": true,
            "ticks": "",
            "zerolinecolor": "white"
           },
           "zaxis": {
            "backgroundcolor": "#E5ECF6",
            "gridcolor": "white",
            "gridwidth": 2,
            "linecolor": "white",
            "showbackground": true,
            "ticks": "",
            "zerolinecolor": "white"
           }
          },
          "shapedefaults": {
           "line": {
            "color": "#2a3f5f"
           }
          },
          "ternary": {
           "aaxis": {
            "gridcolor": "white",
            "linecolor": "white",
            "ticks": ""
           },
           "baxis": {
            "gridcolor": "white",
            "linecolor": "white",
            "ticks": ""
           },
           "bgcolor": "#E5ECF6",
           "caxis": {
            "gridcolor": "white",
            "linecolor": "white",
            "ticks": ""
           }
          },
          "title": {
           "x": 0.05
          },
          "xaxis": {
           "automargin": true,
           "gridcolor": "white",
           "linecolor": "white",
           "ticks": "",
           "title": {
            "standoff": 15
           },
           "zerolinecolor": "white",
           "zerolinewidth": 2
          },
          "yaxis": {
           "automargin": true,
           "gridcolor": "white",
           "linecolor": "white",
           "ticks": "",
           "title": {
            "standoff": 15
           },
           "zerolinecolor": "white",
           "zerolinewidth": 2
          }
         }
        },
        "title": {
         "text": " enugu_transactions Aggregated NNet & tsfresh. MAE=0.7776"
        }
       }
      }
     },
     "metadata": {},
     "output_type": "display_data"
    },
    {
     "name": "stderr",
     "output_type": "stream",
     "text": [
      "Rolling: 100%|██████████| 20/20 [00:00<00:00, 42.14it/s]\n",
      "Feature Extraction: 100%|██████████| 20/20 [00:00<00:00, 74.87it/s]\n"
     ]
    },
    {
     "data": {
      "application/vnd.plotly.v1+json": {
       "config": {
        "plotlyServerURL": "https://plot.ly"
       },
       "data": [
        {
         "name": "Train",
         "type": "scatter",
         "x": [
          "2022-01-07",
          "2022-01-08",
          "2022-01-09",
          "2022-01-10",
          "2022-01-11",
          "2022-01-12",
          "2022-01-13",
          "2022-01-14",
          "2022-01-15",
          "2022-01-16",
          "2022-01-17",
          "2022-01-18",
          "2022-01-19",
          "2022-01-20",
          "2022-01-21",
          "2022-01-22",
          "2022-01-23",
          "2022-01-24",
          "2022-01-25",
          "2022-01-26",
          "2022-01-27",
          "2022-01-28",
          "2022-01-29",
          "2022-01-30",
          "2022-01-31",
          "2022-02-01",
          "2022-02-02",
          "2022-02-03",
          "2022-02-04",
          "2022-02-05",
          "2022-02-06",
          "2022-02-07",
          "2022-02-08",
          "2022-02-09",
          "2022-02-10",
          "2022-02-11",
          "2022-02-12",
          "2022-02-13",
          "2022-02-14",
          "2022-02-15",
          "2022-02-16",
          "2022-02-17",
          "2022-02-18",
          "2022-02-19",
          "2022-02-20",
          "2022-02-21",
          "2022-02-22",
          "2022-02-23",
          "2022-02-24",
          "2022-02-25",
          "2022-02-26",
          "2022-02-27",
          "2022-02-28",
          "2022-03-01",
          "2022-03-02",
          "2022-03-03",
          "2022-03-04",
          "2022-03-05",
          "2022-03-06",
          "2022-03-07",
          "2022-03-08",
          "2022-03-09",
          "2022-03-10",
          "2022-03-11",
          "2022-03-12",
          "2022-03-13",
          "2022-03-14",
          "2022-03-15",
          "2022-03-16",
          "2022-03-17",
          "2022-03-18",
          "2022-03-19",
          "2022-03-20",
          "2022-03-21",
          "2022-03-22",
          "2022-03-23",
          "2022-03-24",
          "2022-03-25",
          "2022-03-26",
          "2022-03-27",
          "2022-03-28",
          "2022-03-29",
          "2022-03-30",
          "2022-03-31",
          "2022-04-01",
          "2022-04-02",
          "2022-04-03",
          "2022-04-04",
          "2022-04-05",
          "2022-04-06",
          "2022-04-07",
          "2022-04-08",
          "2022-04-09",
          "2022-04-10",
          "2022-04-11",
          "2022-04-12",
          "2022-04-13",
          "2022-04-14",
          "2022-04-15",
          "2022-04-16",
          "2022-04-17",
          "2022-04-18",
          "2022-04-19",
          "2022-04-20",
          "2022-04-21",
          "2022-04-22",
          "2022-04-23",
          "2022-04-24",
          "2022-04-25",
          "2022-04-26",
          "2022-04-27",
          "2022-04-28",
          "2022-04-29",
          "2022-04-30",
          "2022-05-01",
          "2022-05-02",
          "2022-05-03",
          "2022-05-04",
          "2022-05-05",
          "2022-05-06",
          "2022-05-07",
          "2022-05-08",
          "2022-05-09",
          "2022-05-10",
          "2022-05-11",
          "2022-05-12",
          "2022-05-13",
          "2022-05-14",
          "2022-05-15",
          "2022-05-16",
          "2022-05-17",
          "2022-05-18",
          "2022-05-19",
          "2022-05-20",
          "2022-05-21",
          "2022-05-22",
          "2022-05-23",
          "2022-05-24",
          "2022-05-25",
          "2022-05-26",
          "2022-05-27",
          "2022-05-28",
          "2022-05-29",
          "2022-05-30",
          "2022-05-31",
          "2022-06-01",
          "2022-06-02",
          "2022-06-03",
          "2022-06-04",
          "2022-06-05",
          "2022-06-06",
          "2022-06-07",
          "2022-06-08",
          "2022-06-09",
          "2022-06-10",
          "2022-06-11",
          "2022-06-12",
          "2022-06-13",
          "2022-06-14",
          "2022-06-15",
          "2022-06-16",
          "2022-06-17",
          "2022-06-18",
          "2022-06-19",
          "2022-06-20",
          "2022-06-21",
          "2022-06-22",
          "2022-06-23",
          "2022-06-24",
          "2022-06-25",
          "2022-06-26",
          "2022-06-27",
          "2022-06-28",
          "2022-06-29",
          "2022-06-30",
          "2022-07-01",
          "2022-07-02",
          "2022-07-03",
          "2022-07-04",
          "2022-07-05",
          "2022-07-06",
          "2022-07-07",
          "2022-07-08",
          "2022-07-09",
          "2022-07-10",
          "2022-07-11",
          "2022-07-12",
          "2022-07-13",
          "2022-07-14",
          "2022-07-15",
          "2022-07-16",
          "2022-07-17",
          "2022-07-18",
          "2022-07-19",
          "2022-07-20",
          "2022-07-21",
          "2022-07-22",
          "2022-07-23",
          "2022-07-24",
          "2022-07-25",
          "2022-07-26",
          "2022-07-27",
          "2022-07-28",
          "2022-07-29",
          "2022-07-30",
          "2022-07-31",
          "2022-08-01",
          "2022-08-02",
          "2022-08-03",
          "2022-08-04",
          "2022-08-05",
          "2022-08-06",
          "2022-08-07",
          "2022-08-08",
          "2022-08-09",
          "2022-08-10",
          "2022-08-11",
          "2022-08-12",
          "2022-08-13",
          "2022-08-14",
          "2022-08-15",
          "2022-08-16",
          "2022-08-17",
          "2022-08-18",
          "2022-08-19",
          "2022-08-20",
          "2022-08-21",
          "2022-08-22",
          "2022-08-23",
          "2022-08-24",
          "2022-08-25",
          "2022-08-26",
          "2022-08-27",
          "2022-08-28",
          "2022-08-29",
          "2022-08-30",
          "2022-08-31",
          "2022-09-01",
          "2022-09-02",
          "2022-09-03",
          "2022-09-04",
          "2022-09-05",
          "2022-09-06",
          "2022-09-07",
          "2022-09-08",
          "2022-09-09",
          "2022-09-10",
          "2022-09-11",
          "2022-09-12",
          "2022-09-13"
         ],
         "y": [
          -0.16414607220052266,
          -1.4464088295005493,
          0.5126037163744914,
          0.8944330707704993,
          -1.7042861173575548,
          -0.033070323676519915,
          -1.7042861173575548,
          0.6308568373254939,
          -0.6343090832105324,
          -0.15559765381852247,
          -0.5573733177725307,
          0.29176957483948684,
          1.2021761325225058,
          -0.2923723479305253,
          -0.8337721787905366,
          0.7277389123214959,
          -0.614362773652532,
          0.9272020079015,
          -0.8351969151875366,
          -0.6813253843115333,
          1.499946039495512,
          -1.0303858015765406,
          -0.047317687646520216,
          1.9145443310225205,
          -0.9449016177565389,
          0.5054800343894913,
          -1.0275363287825405,
          0.3672806038804884,
          -0.2681518291815248,
          -1.0973484122355421,
          0.4684368880674905,
          0.8246209873174979,
          -0.015973486912519562,
          -0.7069706394575339,
          -0.25390446521152454,
          1.1836545593615053,
          -1.3523762272985473,
          -0.16984501778852276,
          -0.43627072402752826,
          1.1252403670845041,
          -0.08151136117452093,
          -0.5445506901995305,
          1.8803506574945197,
          -1.0147137012095404,
          0.9613956814295007,
          -0.7910300868805357,
          -0.9819447640785397,
          1.260590324799507,
          -0.41062546888152773,
          1.4401071108215107,
          -2.012029179109561,
          1.4458060564095108,
          -0.033070323676519915,
          -0.2681518291815248,
          -1.1571873409095432,
          -0.033070323676519915,
          0.029618077791481387,
          -0.24535604682952433,
          2.37188471445953,
          -0.033070323676519915,
          -0.03876926926452003,
          0.4071732229964893,
          -0.16557080859752268,
          -0.29807129351852546,
          0.9257772715045,
          -1.3010857170065464,
          -0.21401184609552368,
          1.0981703755415035,
          -1.4578067206765495,
          1.2548913792115068,
          0.11510226161148315,
          0.49693161600749114,
          -1.0218373831945404,
          -0.3906791593235273,
          1.1451866766425045,
          0.8417178240814982,
          -1.3737472732535478,
          1.076799329586503,
          -0.9691221365055395,
          0.08518279727448254,
          -0.1997644821255234,
          -0.228259210065524,
          -0.027371378088519797,
          1.458628683982511,
          -0.3066197119005256,
          -1.3523762272985473,
          0.5667436994604925,
          0.9699440998115009,
          1.264864533990507,
          -2.2257396386595656,
          1.219272969286506,
          -1.7555766276495557,
          0.4185711141724895,
          -0.5858680457125314,
          -0.033070323676519915,
          0.14787119874248383,
          1.1879287685525055,
          -1.7897703011775565,
          1.846156983966519,
          -1.3224567629615467,
          1.2491924336235067,
          -1.5703608960395519,
          1.2933592619305077,
          -0.6343090832105324,
          0.17494119028548438,
          -0.1513234446275224,
          1.2548913792115068,
          -0.6984222210755338,
          -0.5559485813755307,
          0.17494119028548438,
          1.6580917795625152,
          -2.3154980316705673,
          1.1964771869345057,
          -0.033070323676519915,
          -0.033070323676519915,
          1.8561301387455194,
          -0.033070323676519915,
          1.40733817369051,
          -0.8266484968055364,
          0.4812595156404908,
          0.5781415906364928,
          0.20201118182848496,
          -0.7967290324685359,
          2.1652979368945258,
          -2.2727559397605663,
          -0.10288240712952137,
          -0.471889133952529,
          1.9672595777115216,
          -0.08863504315952107,
          0.2233822277834854,
          -0.8651163795245372,
          0.09658068845048276,
          0.11652699800848318,
          -0.12140398029052177,
          0.11367752521448313,
          -0.27100130197552486,
          0.2618501105024862,
          0.8174973053324978,
          -1.618801933537553,
          0.3772537586594886,
          -0.8394711243785368,
          0.7633573222464966,
          0.20343591822548499,
          0.881610443197499,
          -0.3422381218255264,
          -1.427887256339549,
          0.9300514806955,
          -0.39922757770552747,
          1.1109930031145039,
          -0.15987186300952255,
          0.47271109725849064,
          0.031042814188481416,
          -0.7668095681315352,
          0.4684368880674905,
          0.878760970403499,
          -1.4079409467815485,
          0.12792488918448341,
          -0.611513300858532,
          -0.15559765381852247,
          0.4285442689514897,
          -0.7468632585735347,
          0.8687878156244988,
          0.3815279678504887,
          0.005397559042480881,
          -0.16984501778852276,
          -0.1570223902155225,
          -0.5929917276975315,
          -0.5303033262295302,
          0.9898904093695012,
          0.3900763862324889,
          0.154994880727484,
          -1.5960061511855523,
          1.454354474791511,
          -0.803852714453536,
          -0.033070323676519915,
          -0.033070323676519915,
          -0.2197107916835238,
          -0.08863504315952107,
          0.7049431299694955,
          -1.038934219958541,
          0.24902748292948593,
          0.541098444314492,
          0.5311252895354919,
          -1.7570013640465558,
          1.7350275450005168,
          -0.9648479273145393,
          0.4684368880674905,
          -0.4761633431435291,
          -0.23253341925652407,
          0.6792978748234949,
          -0.13422660786352203,
          -0.03164558727951989,
          1.066826174807503,
          -0.9406274085655388,
          -1.7270818997095552,
          0.18348960866748457,
          1.2876603163425075,
          0.032467550585481446,
          -0.5388517446115304,
          0.6636257744564946,
          -0.25390446521152454,
          -0.7397395765885346,
          0.7647820586434966,
          -0.028796114485519827,
          0.17636592668248444,
          -0.2339581556535241,
          1.648118624783515,
          0.15784435352148404,
          -1.9792602419785603,
          -0.802427978056536,
          -0.033070323676519915,
          -1.862431857424558,
          0.022494395806481236,
          0.20628539101948504,
          0.5738673814454928,
          -1.142939976939543,
          0.9414493718715002,
          -0.6001154096825316,
          1.457203947585511,
          -0.5516743721845306,
          -0.6357338196075324,
          0.6921205023964951,
          -0.8408958607755368,
          0.12934962558148344,
          -0.2866734023425252,
          -0.10288240712952137,
          0.9086804347404996,
          -0.33938864903152627,
          -0.053016633234520334,
          1.1095682667175037,
          0.3387858759404878,
          -0.9634231909175393,
          -0.9050089986405381,
          1.1466114130395046,
          -0.5117817530685298,
          -0.04161874205852009,
          0.21768328219548527,
          0.682147347617495,
          -1.4891509214105503,
          1.5369891858175126,
          -0.4476686152035285,
          -0.8765142707005374,
          0.24047906454748574,
          0.21625854579848525,
          -0.661379074753533,
          -0.5616475269635308,
          2.467342053058532,
          -1.5076724945715505,
          0.9485730538565005,
          0.40574848659948926
         ]
        },
        {
         "name": "Test",
         "type": "scatter",
         "x": [
          "2022-09-14",
          "2022-09-15",
          "2022-09-16",
          "2022-09-17",
          "2022-09-18",
          "2022-09-19",
          "2022-09-20",
          "2022-09-21",
          "2022-09-22",
          "2022-09-23",
          "2022-09-24",
          "2022-09-25",
          "2022-09-26",
          "2022-09-27",
          "2022-09-28",
          "2022-09-29",
          "2022-09-30",
          "2022-10-01",
          "2022-10-02",
          "2022-10-03",
          "2022-10-04",
          "2022-10-05",
          "2022-10-06",
          "2022-10-07",
          "2022-10-08",
          "2022-10-09",
          "2022-10-10",
          "2022-10-11",
          "2022-10-12",
          "2022-10-13",
          "2022-10-14",
          "2022-10-15",
          "2022-10-16",
          "2022-10-17",
          "2022-10-18",
          "2022-10-19",
          "2022-10-20",
          "2022-10-21",
          "2022-10-22",
          "2022-10-23",
          "2022-10-24",
          "2022-10-25",
          "2022-10-26",
          "2022-10-27",
          "2022-10-28",
          "2022-10-29",
          "2022-10-30",
          "2022-10-31",
          "2022-11-01",
          "2022-11-02",
          "2022-11-03",
          "2022-11-04",
          "2022-11-05",
          "2022-11-06",
          "2022-11-07",
          "2022-11-08",
          "2022-11-09",
          "2022-11-10",
          "2022-11-11",
          "2022-11-12",
          "2022-11-13",
          "2022-11-14",
          "2022-11-15",
          "2022-11-16",
          "2022-11-17",
          "2022-11-18",
          "2022-11-19",
          "2022-11-20",
          "2022-11-21",
          "2022-11-22",
          "2022-11-23",
          "2022-11-24",
          "2022-11-25",
          "2022-11-26",
          "2022-11-27",
          "2022-11-28",
          "2022-11-29",
          "2022-11-30",
          "2022-12-01",
          "2022-12-02",
          "2022-12-03",
          "2022-12-04",
          "2022-12-05",
          "2022-12-06",
          "2022-12-07",
          "2022-12-08",
          "2022-12-09",
          "2022-12-10",
          "2022-12-11",
          "2022-12-12",
          "2022-12-13",
          "2022-12-14",
          "2022-12-15",
          "2022-12-16",
          "2022-12-17",
          "2022-12-18",
          "2022-12-19",
          "2022-12-20",
          "2022-12-21",
          "2022-12-22",
          "2022-12-23",
          "2022-12-24",
          "2022-12-25",
          "2022-12-26",
          "2022-12-27",
          "2022-12-28",
          "2022-12-29",
          "2022-12-30"
         ],
         "y": [
          -0.6884490662965335,
          -0.9591489817265392,
          0.5126037163744914,
          1.9245174858015206,
          -2.2884280401275667,
          1.2406440152415066,
          -0.06298978801352054,
          -0.033070323676519915,
          -0.5303033262295302,
          0.7149162847484957,
          -0.5730454181395311,
          -0.8366216515845367,
          1.2064503417135057,
          -1.2768651982575459,
          1.2078750781105059,
          -1.3424030725195473,
          -0.033070323676519915,
          -0.033070323676519915,
          1.6395702064015147,
          -1.6586945526535537,
          2.126830054175525,
          -1.185682068849544,
          0.27324800167848645,
          0.5012058251984912,
          -0.48756123431952936,
          -1.2170262695835445,
          0.5211521347564916,
          -0.9548747725355391,
          1.7264791266185167,
          1.1152672123055039,
          -1.9236955224955592,
          0.22195749138648538,
          0.0737849060984823,
          0.0780591152894824,
          -0.050167160440520275,
          1.0953209027475035,
          -1.8068671379415568,
          1.2890850527395075,
          -0.801003241659536,
          0.2718232652814864,
          -0.30804444829752564,
          -1.3979677920025484,
          1.8319096199965188,
          -0.5944164640945315,
          0.8730620248154989,
          -0.7653848317345352,
          1.5241665582445123,
          -2.2813043581425667,
          1.5412633950085128,
          -0.7967290324685359,
          0.42996900534848975,
          0.022494395806481236,
          -0.5730454181395311,
          0.2419038009444858,
          0.25472642851748606,
          -0.8237990240115364,
          1.3774187093535093,
          -0.8651163795245372,
          1.4771502571435113,
          -0.6015401460795317,
          -1.6971624353725545,
          1.4856986755255115,
          0.2860706292514867,
          -2.086115471753563,
          1.9273669585955209,
          -0.21686131888952376,
          0.881610443197499,
          -1.4079409467815485,
          -0.20118921852252342,
          -0.35648548579552664,
          -0.17269449058252284,
          1.603951796476514,
          -0.18694185455252313,
          0.2760974744724865,
          -1.8439102842635575,
          0.7120668119544956,
          -0.20546342771352352,
          -0.033070323676519915,
          -0.033070323676519915,
          0.3444848215284879,
          -0.8237990240115364,
          -0.02024769610351965,
          2.075539543883524,
          -1.9635881416115601,
          -0.7511374677645349,
          2.064141652707524,
          -0.7497127313675349,
          0.5225768711534916,
          0.34590955792548794,
          -0.42487283285152805,
          -0.5331527990235303,
          -0.9349284629775387,
          1.938764849771521,
          -1.2554941523025454,
          0.9699440998115009,
          -1.4022420011935484,
          0.8217715145234978,
          0.4627379424794904,
          -1.051756847531541,
          0.9699440998115009,
          -1.9507655140385598,
          1.2833861071515074,
          0.9670946270175008,
          -1.7926197739715566,
          1.4258597468515104,
          -0.7425890493825347,
          1.2947839983275076,
          -0.9691221365055395
         ]
        },
        {
         "name": "Predicted",
         "type": "scatter",
         "x": [
          "2022-09-14",
          "2022-09-15",
          "2022-09-16",
          "2022-09-17",
          "2022-09-18",
          "2022-09-19",
          "2022-09-20",
          "2022-09-21",
          "2022-09-22",
          "2022-09-23",
          "2022-09-24",
          "2022-09-25",
          "2022-09-26",
          "2022-09-27",
          "2022-09-28",
          "2022-09-29",
          "2022-09-30",
          "2022-10-01",
          "2022-10-02",
          "2022-10-03",
          "2022-10-04",
          "2022-10-05",
          "2022-10-06",
          "2022-10-07",
          "2022-10-08",
          "2022-10-09",
          "2022-10-10",
          "2022-10-11",
          "2022-10-12",
          "2022-10-13",
          "2022-10-14",
          "2022-10-15",
          "2022-10-16",
          "2022-10-17",
          "2022-10-18",
          "2022-10-19",
          "2022-10-20",
          "2022-10-21",
          "2022-10-22",
          "2022-10-23",
          "2022-10-24",
          "2022-10-25",
          "2022-10-26",
          "2022-10-27",
          "2022-10-28",
          "2022-10-29",
          "2022-10-30",
          "2022-10-31",
          "2022-11-01",
          "2022-11-02",
          "2022-11-03",
          "2022-11-04",
          "2022-11-05",
          "2022-11-06",
          "2022-11-07",
          "2022-11-08",
          "2022-11-09",
          "2022-11-10",
          "2022-11-11",
          "2022-11-12",
          "2022-11-13",
          "2022-11-14",
          "2022-11-15",
          "2022-11-16",
          "2022-11-17",
          "2022-11-18",
          "2022-11-19",
          "2022-11-20",
          "2022-11-21",
          "2022-11-22",
          "2022-11-23",
          "2022-11-24",
          "2022-11-25",
          "2022-11-26",
          "2022-11-27",
          "2022-11-28",
          "2022-11-29",
          "2022-11-30",
          "2022-12-01",
          "2022-12-02",
          "2022-12-03",
          "2022-12-04",
          "2022-12-05",
          "2022-12-06",
          "2022-12-07",
          "2022-12-08",
          "2022-12-09",
          "2022-12-10",
          "2022-12-11",
          "2022-12-12",
          "2022-12-13",
          "2022-12-14",
          "2022-12-15",
          "2022-12-16",
          "2022-12-17",
          "2022-12-18",
          "2022-12-19",
          "2022-12-20",
          "2022-12-21",
          "2022-12-22",
          "2022-12-23",
          "2022-12-24",
          "2022-12-25",
          "2022-12-26",
          "2022-12-27",
          "2022-12-28",
          "2022-12-29",
          "2022-12-30"
         ],
         "y": [
          0.014990810304880142,
          0.34287282824516296,
          0.5783014893531799,
          0.16394232213497162,
          -0.37481290102005005,
          0.6446029543876648,
          -0.08093392103910446,
          0.09916284680366516,
          0.098232202231884,
          0.3447345197200775,
          -0.045381106436252594,
          0.322792112827301,
          0.3763510584831238,
          -0.06822479516267776,
          0.44225558638572693,
          -0.14180779457092285,
          0.45373761653900146,
          0.16634882986545563,
          0.3409223258495331,
          -0.2712710201740265,
          0.6840770840644836,
          -0.2573726773262024,
          0.37837544083595276,
          0.07499082386493683,
          0.03495674580335617,
          0.36938396096229553,
          0.43029505014419556,
          0.25251662731170654,
          0.5251703858375549,
          -0.15686851739883423,
          -0.09783206135034561,
          0.6605501770973206,
          0.15525773167610168,
          0.08931348472833633,
          0.27353379130363464,
          0.14409680664539337,
          -0.09934046119451523,
          0.5478805899620056,
          -0.14258979260921478,
          0.2734220623970032,
          0.14970973134040833,
          0.27304717898368835,
          0.6802364587783813,
          -0.19857093691825867,
          0.3901083767414093,
          0.08327274769544601,
          0.3787083327770233,
          -0.28175264596939087,
          0.7366654276847839,
          -0.2505074143409729,
          0.3523814082145691,
          0.23100951313972473,
          0.18430617451667786,
          0.3206779956817627,
          0.1289198100566864,
          0.2139320969581604,
          0.40247151255607605,
          -0.07458702474832535,
          0.3580474257469177,
          -0.10346237570047379,
          0.24435460567474365,
          0.5887312293052673,
          -0.08153720945119858,
          -0.05381885915994644,
          0.672895073890686,
          -0.2568531632423401,
          0.2540547847747803,
          -0.12907850742340088,
          0.5139147043228149,
          0.24791574478149414,
          0.3659159541130066,
          0.2532593905925751,
          -0.11694522202014923,
          0.24539914727210999,
          0.0581875815987587,
          0.5812461972236633,
          0.1571497619152069,
          0.21945951879024506,
          0.26034319400787354,
          0.2638651728630066,
          0.28168848156929016,
          0.48309385776519775,
          0.184159517288208,
          -0.17207059264183044,
          0.6911299824714661,
          0.3447316288948059,
          -0.14505523443222046,
          0.43407198786735535,
          0.1795770227909088,
          0.06017979234457016,
          0.3237772285938263,
          0.2851128578186035,
          0.3813938498497009,
          -0.13574832677841187,
          0.5515051484107971,
          0.03464528173208237,
          0.4393671154975891,
          0.10460106283426285,
          0.05383985862135887,
          0.3811296820640564,
          -0.02025081217288971,
          0.7272555232048035,
          -0.15761390328407288,
          -0.2214447259902954,
          0.7894712686538696,
          -0.1957949995994568,
          0.18716877698898315,
          -0.07823064923286438
         ]
        }
       ],
       "layout": {
        "template": {
         "data": {
          "bar": [
           {
            "error_x": {
             "color": "#2a3f5f"
            },
            "error_y": {
             "color": "#2a3f5f"
            },
            "marker": {
             "line": {
              "color": "#E5ECF6",
              "width": 0.5
             },
             "pattern": {
              "fillmode": "overlay",
              "size": 10,
              "solidity": 0.2
             }
            },
            "type": "bar"
           }
          ],
          "barpolar": [
           {
            "marker": {
             "line": {
              "color": "#E5ECF6",
              "width": 0.5
             },
             "pattern": {
              "fillmode": "overlay",
              "size": 10,
              "solidity": 0.2
             }
            },
            "type": "barpolar"
           }
          ],
          "carpet": [
           {
            "aaxis": {
             "endlinecolor": "#2a3f5f",
             "gridcolor": "white",
             "linecolor": "white",
             "minorgridcolor": "white",
             "startlinecolor": "#2a3f5f"
            },
            "baxis": {
             "endlinecolor": "#2a3f5f",
             "gridcolor": "white",
             "linecolor": "white",
             "minorgridcolor": "white",
             "startlinecolor": "#2a3f5f"
            },
            "type": "carpet"
           }
          ],
          "choropleth": [
           {
            "colorbar": {
             "outlinewidth": 0,
             "ticks": ""
            },
            "type": "choropleth"
           }
          ],
          "contour": [
           {
            "colorbar": {
             "outlinewidth": 0,
             "ticks": ""
            },
            "colorscale": [
             [
              0,
              "#0d0887"
             ],
             [
              0.1111111111111111,
              "#46039f"
             ],
             [
              0.2222222222222222,
              "#7201a8"
             ],
             [
              0.3333333333333333,
              "#9c179e"
             ],
             [
              0.4444444444444444,
              "#bd3786"
             ],
             [
              0.5555555555555556,
              "#d8576b"
             ],
             [
              0.6666666666666666,
              "#ed7953"
             ],
             [
              0.7777777777777778,
              "#fb9f3a"
             ],
             [
              0.8888888888888888,
              "#fdca26"
             ],
             [
              1,
              "#f0f921"
             ]
            ],
            "type": "contour"
           }
          ],
          "contourcarpet": [
           {
            "colorbar": {
             "outlinewidth": 0,
             "ticks": ""
            },
            "type": "contourcarpet"
           }
          ],
          "heatmap": [
           {
            "colorbar": {
             "outlinewidth": 0,
             "ticks": ""
            },
            "colorscale": [
             [
              0,
              "#0d0887"
             ],
             [
              0.1111111111111111,
              "#46039f"
             ],
             [
              0.2222222222222222,
              "#7201a8"
             ],
             [
              0.3333333333333333,
              "#9c179e"
             ],
             [
              0.4444444444444444,
              "#bd3786"
             ],
             [
              0.5555555555555556,
              "#d8576b"
             ],
             [
              0.6666666666666666,
              "#ed7953"
             ],
             [
              0.7777777777777778,
              "#fb9f3a"
             ],
             [
              0.8888888888888888,
              "#fdca26"
             ],
             [
              1,
              "#f0f921"
             ]
            ],
            "type": "heatmap"
           }
          ],
          "heatmapgl": [
           {
            "colorbar": {
             "outlinewidth": 0,
             "ticks": ""
            },
            "colorscale": [
             [
              0,
              "#0d0887"
             ],
             [
              0.1111111111111111,
              "#46039f"
             ],
             [
              0.2222222222222222,
              "#7201a8"
             ],
             [
              0.3333333333333333,
              "#9c179e"
             ],
             [
              0.4444444444444444,
              "#bd3786"
             ],
             [
              0.5555555555555556,
              "#d8576b"
             ],
             [
              0.6666666666666666,
              "#ed7953"
             ],
             [
              0.7777777777777778,
              "#fb9f3a"
             ],
             [
              0.8888888888888888,
              "#fdca26"
             ],
             [
              1,
              "#f0f921"
             ]
            ],
            "type": "heatmapgl"
           }
          ],
          "histogram": [
           {
            "marker": {
             "pattern": {
              "fillmode": "overlay",
              "size": 10,
              "solidity": 0.2
             }
            },
            "type": "histogram"
           }
          ],
          "histogram2d": [
           {
            "colorbar": {
             "outlinewidth": 0,
             "ticks": ""
            },
            "colorscale": [
             [
              0,
              "#0d0887"
             ],
             [
              0.1111111111111111,
              "#46039f"
             ],
             [
              0.2222222222222222,
              "#7201a8"
             ],
             [
              0.3333333333333333,
              "#9c179e"
             ],
             [
              0.4444444444444444,
              "#bd3786"
             ],
             [
              0.5555555555555556,
              "#d8576b"
             ],
             [
              0.6666666666666666,
              "#ed7953"
             ],
             [
              0.7777777777777778,
              "#fb9f3a"
             ],
             [
              0.8888888888888888,
              "#fdca26"
             ],
             [
              1,
              "#f0f921"
             ]
            ],
            "type": "histogram2d"
           }
          ],
          "histogram2dcontour": [
           {
            "colorbar": {
             "outlinewidth": 0,
             "ticks": ""
            },
            "colorscale": [
             [
              0,
              "#0d0887"
             ],
             [
              0.1111111111111111,
              "#46039f"
             ],
             [
              0.2222222222222222,
              "#7201a8"
             ],
             [
              0.3333333333333333,
              "#9c179e"
             ],
             [
              0.4444444444444444,
              "#bd3786"
             ],
             [
              0.5555555555555556,
              "#d8576b"
             ],
             [
              0.6666666666666666,
              "#ed7953"
             ],
             [
              0.7777777777777778,
              "#fb9f3a"
             ],
             [
              0.8888888888888888,
              "#fdca26"
             ],
             [
              1,
              "#f0f921"
             ]
            ],
            "type": "histogram2dcontour"
           }
          ],
          "mesh3d": [
           {
            "colorbar": {
             "outlinewidth": 0,
             "ticks": ""
            },
            "type": "mesh3d"
           }
          ],
          "parcoords": [
           {
            "line": {
             "colorbar": {
              "outlinewidth": 0,
              "ticks": ""
             }
            },
            "type": "parcoords"
           }
          ],
          "pie": [
           {
            "automargin": true,
            "type": "pie"
           }
          ],
          "scatter": [
           {
            "fillpattern": {
             "fillmode": "overlay",
             "size": 10,
             "solidity": 0.2
            },
            "type": "scatter"
           }
          ],
          "scatter3d": [
           {
            "line": {
             "colorbar": {
              "outlinewidth": 0,
              "ticks": ""
             }
            },
            "marker": {
             "colorbar": {
              "outlinewidth": 0,
              "ticks": ""
             }
            },
            "type": "scatter3d"
           }
          ],
          "scattercarpet": [
           {
            "marker": {
             "colorbar": {
              "outlinewidth": 0,
              "ticks": ""
             }
            },
            "type": "scattercarpet"
           }
          ],
          "scattergeo": [
           {
            "marker": {
             "colorbar": {
              "outlinewidth": 0,
              "ticks": ""
             }
            },
            "type": "scattergeo"
           }
          ],
          "scattergl": [
           {
            "marker": {
             "colorbar": {
              "outlinewidth": 0,
              "ticks": ""
             }
            },
            "type": "scattergl"
           }
          ],
          "scattermapbox": [
           {
            "marker": {
             "colorbar": {
              "outlinewidth": 0,
              "ticks": ""
             }
            },
            "type": "scattermapbox"
           }
          ],
          "scatterpolar": [
           {
            "marker": {
             "colorbar": {
              "outlinewidth": 0,
              "ticks": ""
             }
            },
            "type": "scatterpolar"
           }
          ],
          "scatterpolargl": [
           {
            "marker": {
             "colorbar": {
              "outlinewidth": 0,
              "ticks": ""
             }
            },
            "type": "scatterpolargl"
           }
          ],
          "scatterternary": [
           {
            "marker": {
             "colorbar": {
              "outlinewidth": 0,
              "ticks": ""
             }
            },
            "type": "scatterternary"
           }
          ],
          "surface": [
           {
            "colorbar": {
             "outlinewidth": 0,
             "ticks": ""
            },
            "colorscale": [
             [
              0,
              "#0d0887"
             ],
             [
              0.1111111111111111,
              "#46039f"
             ],
             [
              0.2222222222222222,
              "#7201a8"
             ],
             [
              0.3333333333333333,
              "#9c179e"
             ],
             [
              0.4444444444444444,
              "#bd3786"
             ],
             [
              0.5555555555555556,
              "#d8576b"
             ],
             [
              0.6666666666666666,
              "#ed7953"
             ],
             [
              0.7777777777777778,
              "#fb9f3a"
             ],
             [
              0.8888888888888888,
              "#fdca26"
             ],
             [
              1,
              "#f0f921"
             ]
            ],
            "type": "surface"
           }
          ],
          "table": [
           {
            "cells": {
             "fill": {
              "color": "#EBF0F8"
             },
             "line": {
              "color": "white"
             }
            },
            "header": {
             "fill": {
              "color": "#C8D4E3"
             },
             "line": {
              "color": "white"
             }
            },
            "type": "table"
           }
          ]
         },
         "layout": {
          "annotationdefaults": {
           "arrowcolor": "#2a3f5f",
           "arrowhead": 0,
           "arrowwidth": 1
          },
          "autotypenumbers": "strict",
          "coloraxis": {
           "colorbar": {
            "outlinewidth": 0,
            "ticks": ""
           }
          },
          "colorscale": {
           "diverging": [
            [
             0,
             "#8e0152"
            ],
            [
             0.1,
             "#c51b7d"
            ],
            [
             0.2,
             "#de77ae"
            ],
            [
             0.3,
             "#f1b6da"
            ],
            [
             0.4,
             "#fde0ef"
            ],
            [
             0.5,
             "#f7f7f7"
            ],
            [
             0.6,
             "#e6f5d0"
            ],
            [
             0.7,
             "#b8e186"
            ],
            [
             0.8,
             "#7fbc41"
            ],
            [
             0.9,
             "#4d9221"
            ],
            [
             1,
             "#276419"
            ]
           ],
           "sequential": [
            [
             0,
             "#0d0887"
            ],
            [
             0.1111111111111111,
             "#46039f"
            ],
            [
             0.2222222222222222,
             "#7201a8"
            ],
            [
             0.3333333333333333,
             "#9c179e"
            ],
            [
             0.4444444444444444,
             "#bd3786"
            ],
            [
             0.5555555555555556,
             "#d8576b"
            ],
            [
             0.6666666666666666,
             "#ed7953"
            ],
            [
             0.7777777777777778,
             "#fb9f3a"
            ],
            [
             0.8888888888888888,
             "#fdca26"
            ],
            [
             1,
             "#f0f921"
            ]
           ],
           "sequentialminus": [
            [
             0,
             "#0d0887"
            ],
            [
             0.1111111111111111,
             "#46039f"
            ],
            [
             0.2222222222222222,
             "#7201a8"
            ],
            [
             0.3333333333333333,
             "#9c179e"
            ],
            [
             0.4444444444444444,
             "#bd3786"
            ],
            [
             0.5555555555555556,
             "#d8576b"
            ],
            [
             0.6666666666666666,
             "#ed7953"
            ],
            [
             0.7777777777777778,
             "#fb9f3a"
            ],
            [
             0.8888888888888888,
             "#fdca26"
            ],
            [
             1,
             "#f0f921"
            ]
           ]
          },
          "colorway": [
           "#636efa",
           "#EF553B",
           "#00cc96",
           "#ab63fa",
           "#FFA15A",
           "#19d3f3",
           "#FF6692",
           "#B6E880",
           "#FF97FF",
           "#FECB52"
          ],
          "font": {
           "color": "#2a3f5f"
          },
          "geo": {
           "bgcolor": "white",
           "lakecolor": "white",
           "landcolor": "#E5ECF6",
           "showlakes": true,
           "showland": true,
           "subunitcolor": "white"
          },
          "hoverlabel": {
           "align": "left"
          },
          "hovermode": "closest",
          "mapbox": {
           "style": "light"
          },
          "paper_bgcolor": "white",
          "plot_bgcolor": "#E5ECF6",
          "polar": {
           "angularaxis": {
            "gridcolor": "white",
            "linecolor": "white",
            "ticks": ""
           },
           "bgcolor": "#E5ECF6",
           "radialaxis": {
            "gridcolor": "white",
            "linecolor": "white",
            "ticks": ""
           }
          },
          "scene": {
           "xaxis": {
            "backgroundcolor": "#E5ECF6",
            "gridcolor": "white",
            "gridwidth": 2,
            "linecolor": "white",
            "showbackground": true,
            "ticks": "",
            "zerolinecolor": "white"
           },
           "yaxis": {
            "backgroundcolor": "#E5ECF6",
            "gridcolor": "white",
            "gridwidth": 2,
            "linecolor": "white",
            "showbackground": true,
            "ticks": "",
            "zerolinecolor": "white"
           },
           "zaxis": {
            "backgroundcolor": "#E5ECF6",
            "gridcolor": "white",
            "gridwidth": 2,
            "linecolor": "white",
            "showbackground": true,
            "ticks": "",
            "zerolinecolor": "white"
           }
          },
          "shapedefaults": {
           "line": {
            "color": "#2a3f5f"
           }
          },
          "ternary": {
           "aaxis": {
            "gridcolor": "white",
            "linecolor": "white",
            "ticks": ""
           },
           "baxis": {
            "gridcolor": "white",
            "linecolor": "white",
            "ticks": ""
           },
           "bgcolor": "#E5ECF6",
           "caxis": {
            "gridcolor": "white",
            "linecolor": "white",
            "ticks": ""
           }
          },
          "title": {
           "x": 0.05
          },
          "xaxis": {
           "automargin": true,
           "gridcolor": "white",
           "linecolor": "white",
           "ticks": "",
           "title": {
            "standoff": 15
           },
           "zerolinecolor": "white",
           "zerolinewidth": 2
          },
          "yaxis": {
           "automargin": true,
           "gridcolor": "white",
           "linecolor": "white",
           "ticks": "",
           "title": {
            "standoff": 15
           },
           "zerolinecolor": "white",
           "zerolinewidth": 2
          }
         }
        },
        "title": {
         "text": " fct_transactions Aggregated NNet & tsfresh. MAE=0.8262"
        }
       }
      }
     },
     "metadata": {},
     "output_type": "display_data"
    },
    {
     "name": "stderr",
     "output_type": "stream",
     "text": [
      "Rolling: 100%|██████████| 20/20 [00:00<00:00, 25.58it/s]\n",
      "Feature Extraction: 100%|██████████| 20/20 [00:00<00:00, 67.83it/s]\n"
     ]
    },
    {
     "data": {
      "application/vnd.plotly.v1+json": {
       "config": {
        "plotlyServerURL": "https://plot.ly"
       },
       "data": [
        {
         "name": "Train",
         "type": "scatter",
         "x": [
          "2022-01-07",
          "2022-01-08",
          "2022-01-09",
          "2022-01-10",
          "2022-01-11",
          "2022-01-12",
          "2022-01-13",
          "2022-01-14",
          "2022-01-15",
          "2022-01-16",
          "2022-01-17",
          "2022-01-18",
          "2022-01-19",
          "2022-01-20",
          "2022-01-21",
          "2022-01-22",
          "2022-01-23",
          "2022-01-24",
          "2022-01-25",
          "2022-01-26",
          "2022-01-27",
          "2022-01-28",
          "2022-01-29",
          "2022-01-30",
          "2022-01-31",
          "2022-02-01",
          "2022-02-02",
          "2022-02-03",
          "2022-02-04",
          "2022-02-05",
          "2022-02-06",
          "2022-02-07",
          "2022-02-08",
          "2022-02-09",
          "2022-02-10",
          "2022-02-11",
          "2022-02-12",
          "2022-02-13",
          "2022-02-14",
          "2022-02-15",
          "2022-02-16",
          "2022-02-17",
          "2022-02-18",
          "2022-02-19",
          "2022-02-20",
          "2022-02-21",
          "2022-02-22",
          "2022-02-23",
          "2022-02-24",
          "2022-02-25",
          "2022-02-26",
          "2022-02-27",
          "2022-02-28",
          "2022-03-01",
          "2022-03-02",
          "2022-03-03",
          "2022-03-04",
          "2022-03-05",
          "2022-03-06",
          "2022-03-07",
          "2022-03-08",
          "2022-03-09",
          "2022-03-10",
          "2022-03-11",
          "2022-03-12",
          "2022-03-13",
          "2022-03-14",
          "2022-03-15",
          "2022-03-16",
          "2022-03-17",
          "2022-03-18",
          "2022-03-19",
          "2022-03-20",
          "2022-03-21",
          "2022-03-22",
          "2022-03-23",
          "2022-03-24",
          "2022-03-25",
          "2022-03-26",
          "2022-03-27",
          "2022-03-28",
          "2022-03-29",
          "2022-03-30",
          "2022-03-31",
          "2022-04-01",
          "2022-04-02",
          "2022-04-03",
          "2022-04-04",
          "2022-04-05",
          "2022-04-06",
          "2022-04-07",
          "2022-04-08",
          "2022-04-09",
          "2022-04-10",
          "2022-04-11",
          "2022-04-12",
          "2022-04-13",
          "2022-04-14",
          "2022-04-15",
          "2022-04-16",
          "2022-04-17",
          "2022-04-18",
          "2022-04-19",
          "2022-04-20",
          "2022-04-21",
          "2022-04-22",
          "2022-04-23",
          "2022-04-24",
          "2022-04-25",
          "2022-04-26",
          "2022-04-27",
          "2022-04-28",
          "2022-04-29",
          "2022-04-30",
          "2022-05-01",
          "2022-05-02",
          "2022-05-03",
          "2022-05-04",
          "2022-05-05",
          "2022-05-06",
          "2022-05-07",
          "2022-05-08",
          "2022-05-09",
          "2022-05-10",
          "2022-05-11",
          "2022-05-12",
          "2022-05-13",
          "2022-05-14",
          "2022-05-15",
          "2022-05-16",
          "2022-05-17",
          "2022-05-18",
          "2022-05-19",
          "2022-05-20",
          "2022-05-21",
          "2022-05-22",
          "2022-05-23",
          "2022-05-24",
          "2022-05-25",
          "2022-05-26",
          "2022-05-27",
          "2022-05-28",
          "2022-05-29",
          "2022-05-30",
          "2022-05-31",
          "2022-06-01",
          "2022-06-02",
          "2022-06-03",
          "2022-06-04",
          "2022-06-05",
          "2022-06-06",
          "2022-06-07",
          "2022-06-08",
          "2022-06-09",
          "2022-06-10",
          "2022-06-11",
          "2022-06-12",
          "2022-06-13",
          "2022-06-14",
          "2022-06-15",
          "2022-06-16",
          "2022-06-17",
          "2022-06-18",
          "2022-06-19",
          "2022-06-20",
          "2022-06-21",
          "2022-06-22",
          "2022-06-23",
          "2022-06-24",
          "2022-06-25",
          "2022-06-26",
          "2022-06-27",
          "2022-06-28",
          "2022-06-29",
          "2022-06-30",
          "2022-07-01",
          "2022-07-02",
          "2022-07-03",
          "2022-07-04",
          "2022-07-05",
          "2022-07-06",
          "2022-07-07",
          "2022-07-08",
          "2022-07-09",
          "2022-07-10",
          "2022-07-11",
          "2022-07-12",
          "2022-07-13",
          "2022-07-14",
          "2022-07-15",
          "2022-07-16",
          "2022-07-17",
          "2022-07-18",
          "2022-07-19",
          "2022-07-20",
          "2022-07-21",
          "2022-07-22",
          "2022-07-23",
          "2022-07-24",
          "2022-07-25",
          "2022-07-26",
          "2022-07-27",
          "2022-07-28",
          "2022-07-29",
          "2022-07-30",
          "2022-07-31",
          "2022-08-01",
          "2022-08-02",
          "2022-08-03",
          "2022-08-04",
          "2022-08-05",
          "2022-08-06",
          "2022-08-07",
          "2022-08-08",
          "2022-08-09",
          "2022-08-10",
          "2022-08-11",
          "2022-08-12",
          "2022-08-13",
          "2022-08-14",
          "2022-08-15",
          "2022-08-16",
          "2022-08-17",
          "2022-08-18",
          "2022-08-19",
          "2022-08-20",
          "2022-08-21",
          "2022-08-22",
          "2022-08-23",
          "2022-08-24",
          "2022-08-25",
          "2022-08-26",
          "2022-08-27",
          "2022-08-28",
          "2022-08-29",
          "2022-08-30",
          "2022-08-31",
          "2022-09-01",
          "2022-09-02",
          "2022-09-03",
          "2022-09-04",
          "2022-09-05",
          "2022-09-06",
          "2022-09-07",
          "2022-09-08",
          "2022-09-09",
          "2022-09-10",
          "2022-09-11",
          "2022-09-12",
          "2022-09-13"
         ],
         "y": [
          0.8204647763962049,
          -1.1764343496432388,
          0.25474094097865974,
          -0.08450060939097549,
          1.284994399345535,
          -0.7186510075251232,
          -1.4385755476561388,
          1.87481209487456,
          -1.0135598552896357,
          0.18631437826205718,
          0.17667683421746527,
          -0.5528852499581424,
          0.41954294414118143,
          1.2262053806735242,
          -1.6091600772454155,
          0.4937520332845391,
          -1.5744649186848847,
          1.1279024314186867,
          0.6826478965585405,
          -0.9971760304138294,
          -1.1215003485890649,
          0.45520185710617145,
          0.543867262316417,
          0.6662640716827343,
          0.5824174384947847,
          -2.1450075261247257,
          1.4006449278806379,
          0.4291804881857733,
          -0.904655607585747,
          0.5602510871922233,
          -0.9017643443723695,
          -0.7880413246461849,
          0.4976070509023759,
          -0.4979512489039684,
          2.5542589500182897,
          -0.873815466643053,
          -0.6309493567193368,
          -0.7032309370537762,
          1.1327212034409828,
          1.4632889641704854,
          0.04030558598648974,
          0.7693857929598676,
          0.3462976094022829,
          -0.3726631763242736,
          -0.2955628239675383,
          0.17860434302638364,
          -0.11244948712029203,
          0.3877390487940281,
          -0.9807922055380232,
          1.2734293464920248,
          0.5881999649215398,
          -0.0729355565374652,
          0.04030558598648974,
          0.5573598239788456,
          -0.9268219588883084,
          0.04030558598648974,
          1.3341458739729537,
          -1.7951646773060395,
          1.2184953454378509,
          1.12404741380085,
          -1.1099352957355546,
          0.5082083493514269,
          0.26534223942771085,
          -1.7007167456690386,
          -0.677209568133378,
          2.1899597851327153,
          -0.5548127587670607,
          -0.20882492756621113,
          1.8121680585847124,
          -2.0168281903316534,
          0.3655726974914667,
          1.2310241526958203,
          -1.7151730617359267,
          0.6334964219311218,
          -0.2425563317222828,
          0.33569631095323177,
          0.06873634091803588,
          0.2595597130009557,
          -1.874192538471693,
          2.0058826938810097,
          -0.2647226830248442,
          0.9438253401669813,
          -0.7976788686907769,
          -1.5397697601243538,
          1.7851829352598552,
          -0.9027280987768287,
          -0.8015338863086137,
          0.3983403472430792,
          -0.7273247971652559,
          1.2676468200652695,
          0.670119089300571,
          -0.49698749449950924,
          0.09764897305181161,
          -0.18665857626364973,
          -1.9532203996373467,
          1.0748959391734314,
          0.0880114290072197,
          -0.005472748225321834,
          0.11788781554545462,
          1.7369952150368955,
          -0.3610981234707633,
          -1.9349090659526222,
          0.39737659283862004,
          0.6209676146731523,
          0.15836550053274065,
          -0.2329187876776909,
          -1.1658330511941877,
          2.6265405303527287,
          -0.9489883101908698,
          -1.5744649186848847,
          0.765530775342031,
          -0.04209541559477109,
          0.4947157876889983,
          0.04030558598648974,
          0.04030558598648974,
          -0.41121335250264124,
          -0.9836834687514008,
          -0.8102076759487463,
          0.2884723451347314,
          2.2853714711741753,
          -1.3711127393439955,
          0.9216589888644199,
          -2.0081544006915206,
          1.3418559092086273,
          -0.8998368355634512,
          -0.2801427534961913,
          -0.480603669623703,
          0.37328273272714024,
          0.8098634779471537,
          -1.459778144554241,
          1.5211142284380368,
          -0.32351170169685484,
          -0.3061641224165894,
          1.12404741380085,
          -0.8015338863086137,
          -0.6492606904040614,
          1.2859581537499942,
          -1.146557963105004,
          -0.5779428644740814,
          2.0193752555434386,
          -1.6139788492677116,
          0.30967494203283363,
          -0.17027475138784348,
          0.46965817317305936,
          -1.0829501724106974,
          0.7308356167815,
          0.6537352644247647,
          -0.0411316611903119,
          -1.136920419060412,
          -0.5923991805409692,
          0.9149127080332056,
          1.1385037298677378,
          -0.8815255018787265,
          0.44556431306157956,
          0.7790233370044596,
          -1.5320597248886803,
          -0.48638619605045813,
          1.87481209487456,
          -1.076203891579483,
          -0.9759734335157272,
          1.6309822305463846,
          -0.5403564427001729,
          0.01862111188615794,
          -0.034385380359097564,
          -0.26954145504714017,
          0.8773262862592971,
          -1.293048632582801,
          -1.3923153362420977,
          0.04030558598648974,
          -2.3310121261853496,
          0.645061474784632,
          -2.019719453545031,
          2.733517269247699,
          1.1529600459346259,
          0.04030558598648974,
          0.04030558598648974,
          -1.9965893478380103,
          2.1485183457409702,
          -0.8921268003277776,
          0.6913216861986732,
          -0.6550432168308166,
          -0.43530721261412103,
          0.1313803772078833,
          0.2730522746633844,
          1.8208418482248452,
          -1.177398104047698,
          -0.06811678451516924,
          0.8185372675872864,
          0.04753374401993367,
          -0.7928600966684809,
          -0.04884169642598543,
          0.36460894308700753,
          -0.6858833577735107,
          0.3212399948863439,
          -0.0931743990311082,
          -0.7157597443117456,
          0.4291804881857733,
          0.28750859073027224,
          -0.22810001565539495,
          -0.2512301213624155,
          -0.14232587365852695,
          2.1870685219193375,
          -2.756027818551853,
          0.8860000758994298,
          0.2990736435837825,
          -0.6839558489645924,
          1.1452500106989523,
          0.08993893781613808,
          -0.374590685133192,
          -1.3576201776815668,
          0.9746654811096753,
          0.4715856819819777,
          -1.066566347534891,
          0.442673049848202,
          0.8638337245968684,
          -2.0187556991405717,
          -0.6174567950569082,
          1.724466407778926,
          -0.4719298799835703,
          0.031149919144127423,
          0.5833811928992438,
          -0.6588982344486534,
          1.1625975899792178,
          -0.023784081910046464,
          -0.5654140572161118,
          0.8175735131828272,
          -2.250056756210778,
          0.32895003012201746,
          0.9592454106383284,
          -0.0016177306074850696,
          0.4002678560519976,
          -0.6232393214836633,
          0.12367034197220977,
          -0.9730821703023497,
          1.3746235589602398,
          -0.9008005899679103,
          0.3482251182112013,
          -0.3109828944388854,
          0.19980693992448587,
          0.8840725670905114,
          -1.3152149838853624,
          -0.12015952235596555,
          0.7472194416573062,
          0.6036200353928868,
          0.3125662052462112,
          -1.9021414162010097,
          1.2637918024474328,
          -0.4381984758274986,
          0.609402561819642,
          -1.1128265589489321
         ]
        },
        {
         "name": "Test",
         "type": "scatter",
         "x": [
          "2022-09-14",
          "2022-09-15",
          "2022-09-16",
          "2022-09-17",
          "2022-09-18",
          "2022-09-19",
          "2022-09-20",
          "2022-09-21",
          "2022-09-22",
          "2022-09-23",
          "2022-09-24",
          "2022-09-25",
          "2022-09-26",
          "2022-09-27",
          "2022-09-28",
          "2022-09-29",
          "2022-09-30",
          "2022-10-01",
          "2022-10-02",
          "2022-10-03",
          "2022-10-04",
          "2022-10-05",
          "2022-10-06",
          "2022-10-07",
          "2022-10-08",
          "2022-10-09",
          "2022-10-10",
          "2022-10-11",
          "2022-10-12",
          "2022-10-13",
          "2022-10-14",
          "2022-10-15",
          "2022-10-16",
          "2022-10-17",
          "2022-10-18",
          "2022-10-19",
          "2022-10-20",
          "2022-10-21",
          "2022-10-22",
          "2022-10-23",
          "2022-10-24",
          "2022-10-25",
          "2022-10-26",
          "2022-10-27",
          "2022-10-28",
          "2022-10-29",
          "2022-10-30",
          "2022-10-31",
          "2022-11-01",
          "2022-11-02",
          "2022-11-03",
          "2022-11-04",
          "2022-11-05",
          "2022-11-06",
          "2022-11-07",
          "2022-11-08",
          "2022-11-09",
          "2022-11-10",
          "2022-11-11",
          "2022-11-12",
          "2022-11-13",
          "2022-11-14",
          "2022-11-15",
          "2022-11-16",
          "2022-11-17",
          "2022-11-18",
          "2022-11-19",
          "2022-11-20",
          "2022-11-21",
          "2022-11-22",
          "2022-11-23",
          "2022-11-24",
          "2022-11-25",
          "2022-11-26",
          "2022-11-27",
          "2022-11-28",
          "2022-11-29",
          "2022-11-30",
          "2022-12-01",
          "2022-12-02",
          "2022-12-03",
          "2022-12-04",
          "2022-12-05",
          "2022-12-06",
          "2022-12-07",
          "2022-12-08",
          "2022-12-09",
          "2022-12-10",
          "2022-12-11",
          "2022-12-12",
          "2022-12-13",
          "2022-12-14",
          "2022-12-15",
          "2022-12-16",
          "2022-12-17",
          "2022-12-18",
          "2022-12-19",
          "2022-12-20",
          "2022-12-21",
          "2022-12-22",
          "2022-12-23",
          "2022-12-24",
          "2022-12-25",
          "2022-12-26",
          "2022-12-27",
          "2022-12-28",
          "2022-12-29",
          "2022-12-30"
         ],
         "y": [
          0.9688829546829202,
          0.5255559286316923,
          -0.7273247971652559,
          0.29425487156148655,
          -0.4381984758274986,
          -0.8901992915188592,
          -0.20689741875729276,
          0.3212399948863439,
          0.7250530903547449,
          0.483150734835488,
          0.4272529793768549,
          -0.546138969126928,
          -0.9104381340125023,
          0.3019649067971601,
          -0.7109409722894497,
          0.9862305339631856,
          0.04030558598648974,
          0.04030558598648974,
          0.886963830303889,
          -0.3967570364357534,
          -0.7976788686907769,
          0.4070141368832119,
          0.26726974823662925,
          -0.2213537348241806,
          0.4889332612622432,
          -1.167760560003106,
          1.2464442231671673,
          -1.9522566452328876,
          1.043092043826278,
          -0.44012598463641694,
          2.001063921858714,
          -1.2940123869872602,
          0.5872362105170806,
          1.5461718429539757,
          -1.9185252410768159,
          0.3761739959405178,
          -1.6101238316498747,
          0.6431339659757137,
          0.40605038247875275,
          0.18824188707097556,
          -0.3919382644134574,
          -0.42181465095169235,
          -0.29267156075416073,
          0.6122938250330195,
          -1.1494492263183815,
          2.259350102253777,
          -0.7687662365570012,
          -0.018001555483291316,
          1.2329516615047387,
          0.04030558598648974,
          0.9534628842115732,
          0.11306904352315866,
          -0.9836834687514008,
          1.492201596304261,
          -0.8979093267545327,
          1.2734293464920248,
          0.3655726974914667,
          -0.2955628239675383,
          -0.6116742686301531,
          0.4002678560519976,
          -1.5416972689332722,
          1.0816422200046456,
          -0.9017643443723695,
          0.4648394011507634,
          0.624822632290989,
          -0.3967570364357534,
          0.08608392019830131,
          -1.1311378926336568,
          1.3052332418391779,
          -0.5567402675759792,
          0.2576322041920373,
          0.10825027150086271,
          -0.6627532520664902,
          0.21040823837353695,
          -0.2974903327764567,
          1.7591615663394569,
          -0.027639099527883227,
          0.04030558598648974,
          0.04030558598648974,
          -1.071385119557187,
          0.4407455410392836,
          -0.18762233066810893,
          0.8156460043739089,
          -0.9171844148437166,
          0.24510339693406782,
          0.48122322602656964,
          -1.38942407302872,
          1.2368066791225754,
          -1.0800589091973198,
          -0.566377811620571,
          0.8532324261478172,
          -0.4449447566587129,
          -0.0931743990311082,
          0.03307742795304581,
          0.7886608810490515,
          0.42532547056793657,
          -0.19918738352161922,
          -1.5339872336975986,
          1.6194171776928743,
          -0.9460970469774923,
          0.22293704563150643,
          -1.4530318637230266,
          0.04030558598648974,
          -1.5648273746402928,
          -0.3832644747733247,
          0.7896246354535107,
          -0.2955628239675383,
          0.7616757577241942
         ]
        },
        {
         "name": "Predicted",
         "type": "scatter",
         "x": [
          "2022-09-14",
          "2022-09-15",
          "2022-09-16",
          "2022-09-17",
          "2022-09-18",
          "2022-09-19",
          "2022-09-20",
          "2022-09-21",
          "2022-09-22",
          "2022-09-23",
          "2022-09-24",
          "2022-09-25",
          "2022-09-26",
          "2022-09-27",
          "2022-09-28",
          "2022-09-29",
          "2022-09-30",
          "2022-10-01",
          "2022-10-02",
          "2022-10-03",
          "2022-10-04",
          "2022-10-05",
          "2022-10-06",
          "2022-10-07",
          "2022-10-08",
          "2022-10-09",
          "2022-10-10",
          "2022-10-11",
          "2022-10-12",
          "2022-10-13",
          "2022-10-14",
          "2022-10-15",
          "2022-10-16",
          "2022-10-17",
          "2022-10-18",
          "2022-10-19",
          "2022-10-20",
          "2022-10-21",
          "2022-10-22",
          "2022-10-23",
          "2022-10-24",
          "2022-10-25",
          "2022-10-26",
          "2022-10-27",
          "2022-10-28",
          "2022-10-29",
          "2022-10-30",
          "2022-10-31",
          "2022-11-01",
          "2022-11-02",
          "2022-11-03",
          "2022-11-04",
          "2022-11-05",
          "2022-11-06",
          "2022-11-07",
          "2022-11-08",
          "2022-11-09",
          "2022-11-10",
          "2022-11-11",
          "2022-11-12",
          "2022-11-13",
          "2022-11-14",
          "2022-11-15",
          "2022-11-16",
          "2022-11-17",
          "2022-11-18",
          "2022-11-19",
          "2022-11-20",
          "2022-11-21",
          "2022-11-22",
          "2022-11-23",
          "2022-11-24",
          "2022-11-25",
          "2022-11-26",
          "2022-11-27",
          "2022-11-28",
          "2022-11-29",
          "2022-11-30",
          "2022-12-01",
          "2022-12-02",
          "2022-12-03",
          "2022-12-04",
          "2022-12-05",
          "2022-12-06",
          "2022-12-07",
          "2022-12-08",
          "2022-12-09",
          "2022-12-10",
          "2022-12-11",
          "2022-12-12",
          "2022-12-13",
          "2022-12-14",
          "2022-12-15",
          "2022-12-16",
          "2022-12-17",
          "2022-12-18",
          "2022-12-19",
          "2022-12-20",
          "2022-12-21",
          "2022-12-22",
          "2022-12-23",
          "2022-12-24",
          "2022-12-25",
          "2022-12-26",
          "2022-12-27",
          "2022-12-28",
          "2022-12-29",
          "2022-12-30"
         ],
         "y": [
          0.503729522228241,
          -0.006618522107601166,
          0.13090410828590393,
          0.3810468018054962,
          0.12768122553825378,
          0.2095472514629364,
          0.5735998153686523,
          0.3241477608680725,
          0.19233939051628113,
          0.0938674658536911,
          0.12084037810564041,
          0.12862035632133484,
          0.24274444580078125,
          0.46605241298675537,
          0.19626741111278534,
          0.4522262215614319,
          0.13691693544387817,
          0.19457775354385376,
          0.27621811628341675,
          -0.0680718868970871,
          0.41268783807754517,
          0.39883896708488464,
          0.17869913578033447,
          0.2866755723953247,
          0.3493804931640625,
          0.16087624430656433,
          0.5020994544029236,
          -0.04109727591276169,
          0.6144556403160095,
          -0.04776746779680252,
          0.4004516303539276,
          -0.21390756964683533,
          0.4981696605682373,
          0.03300296515226364,
          -0.24769020080566406,
          0.5089804530143738,
          -0.05739042907953262,
          0.5828636884689331,
          0.09153099358081818,
          0.0643366277217865,
          0.14347222447395325,
          0.3546984791755676,
          0.26350536942481995,
          0.2625884413719177,
          0.12517814338207245,
          0.5284785032272339,
          -0.305875301361084,
          0.22567346692085266,
          0.2926023602485657,
          -0.253591924905777,
          0.02856331318616867,
          -0.19713552296161652,
          0.11903639882802963,
          0.2720324397087097,
          -0.2963818311691284,
          0.44675368070602417,
          -0.2596989870071411,
          -0.11723397672176361,
          -0.002146102488040924,
          0.15545408427715302,
          -0.0759219080209732,
          0.38343992829322815,
          -0.131812185049057,
          0.20903199911117554,
          -0.14521992206573486,
          -0.11504402756690979,
          0.034579772502183914,
          0.08418750017881393,
          0.31768354773521423,
          -0.15124064683914185,
          0.2675991654396057,
          0.06112184375524521,
          0.21526257693767548,
          0.42156311869621277,
          0.13287925720214844,
          0.35155075788497925,
          -0.15273872017860413,
          0.21868430078029633,
          0.20039212703704834,
          0.2385806441307068,
          0.48459675908088684,
          0.15382251143455505,
          0.1729981005191803,
          0.10165909677743912,
          0.3635677099227905,
          0.12434416264295578,
          0.15169857442378998,
          0.5713854432106018,
          -0.057820625603199005,
          0.36019977927207947,
          0.5006100535392761,
          0.05448555573821068,
          0.32066112756729126,
          0.3346386253833771,
          0.26057371497154236,
          0.034603215754032135,
          0.028807424008846283,
          0.4090680778026581,
          0.6935374736785889,
          -0.07861966639757156,
          0.552539587020874,
          0.23270966112613678,
          0.6130395531654358,
          0.2772708833217621,
          0.9019368290901184,
          0.5675382614135742,
          0.2688557803630829,
          0.603584885597229
         ]
        }
       ],
       "layout": {
        "template": {
         "data": {
          "bar": [
           {
            "error_x": {
             "color": "#2a3f5f"
            },
            "error_y": {
             "color": "#2a3f5f"
            },
            "marker": {
             "line": {
              "color": "#E5ECF6",
              "width": 0.5
             },
             "pattern": {
              "fillmode": "overlay",
              "size": 10,
              "solidity": 0.2
             }
            },
            "type": "bar"
           }
          ],
          "barpolar": [
           {
            "marker": {
             "line": {
              "color": "#E5ECF6",
              "width": 0.5
             },
             "pattern": {
              "fillmode": "overlay",
              "size": 10,
              "solidity": 0.2
             }
            },
            "type": "barpolar"
           }
          ],
          "carpet": [
           {
            "aaxis": {
             "endlinecolor": "#2a3f5f",
             "gridcolor": "white",
             "linecolor": "white",
             "minorgridcolor": "white",
             "startlinecolor": "#2a3f5f"
            },
            "baxis": {
             "endlinecolor": "#2a3f5f",
             "gridcolor": "white",
             "linecolor": "white",
             "minorgridcolor": "white",
             "startlinecolor": "#2a3f5f"
            },
            "type": "carpet"
           }
          ],
          "choropleth": [
           {
            "colorbar": {
             "outlinewidth": 0,
             "ticks": ""
            },
            "type": "choropleth"
           }
          ],
          "contour": [
           {
            "colorbar": {
             "outlinewidth": 0,
             "ticks": ""
            },
            "colorscale": [
             [
              0,
              "#0d0887"
             ],
             [
              0.1111111111111111,
              "#46039f"
             ],
             [
              0.2222222222222222,
              "#7201a8"
             ],
             [
              0.3333333333333333,
              "#9c179e"
             ],
             [
              0.4444444444444444,
              "#bd3786"
             ],
             [
              0.5555555555555556,
              "#d8576b"
             ],
             [
              0.6666666666666666,
              "#ed7953"
             ],
             [
              0.7777777777777778,
              "#fb9f3a"
             ],
             [
              0.8888888888888888,
              "#fdca26"
             ],
             [
              1,
              "#f0f921"
             ]
            ],
            "type": "contour"
           }
          ],
          "contourcarpet": [
           {
            "colorbar": {
             "outlinewidth": 0,
             "ticks": ""
            },
            "type": "contourcarpet"
           }
          ],
          "heatmap": [
           {
            "colorbar": {
             "outlinewidth": 0,
             "ticks": ""
            },
            "colorscale": [
             [
              0,
              "#0d0887"
             ],
             [
              0.1111111111111111,
              "#46039f"
             ],
             [
              0.2222222222222222,
              "#7201a8"
             ],
             [
              0.3333333333333333,
              "#9c179e"
             ],
             [
              0.4444444444444444,
              "#bd3786"
             ],
             [
              0.5555555555555556,
              "#d8576b"
             ],
             [
              0.6666666666666666,
              "#ed7953"
             ],
             [
              0.7777777777777778,
              "#fb9f3a"
             ],
             [
              0.8888888888888888,
              "#fdca26"
             ],
             [
              1,
              "#f0f921"
             ]
            ],
            "type": "heatmap"
           }
          ],
          "heatmapgl": [
           {
            "colorbar": {
             "outlinewidth": 0,
             "ticks": ""
            },
            "colorscale": [
             [
              0,
              "#0d0887"
             ],
             [
              0.1111111111111111,
              "#46039f"
             ],
             [
              0.2222222222222222,
              "#7201a8"
             ],
             [
              0.3333333333333333,
              "#9c179e"
             ],
             [
              0.4444444444444444,
              "#bd3786"
             ],
             [
              0.5555555555555556,
              "#d8576b"
             ],
             [
              0.6666666666666666,
              "#ed7953"
             ],
             [
              0.7777777777777778,
              "#fb9f3a"
             ],
             [
              0.8888888888888888,
              "#fdca26"
             ],
             [
              1,
              "#f0f921"
             ]
            ],
            "type": "heatmapgl"
           }
          ],
          "histogram": [
           {
            "marker": {
             "pattern": {
              "fillmode": "overlay",
              "size": 10,
              "solidity": 0.2
             }
            },
            "type": "histogram"
           }
          ],
          "histogram2d": [
           {
            "colorbar": {
             "outlinewidth": 0,
             "ticks": ""
            },
            "colorscale": [
             [
              0,
              "#0d0887"
             ],
             [
              0.1111111111111111,
              "#46039f"
             ],
             [
              0.2222222222222222,
              "#7201a8"
             ],
             [
              0.3333333333333333,
              "#9c179e"
             ],
             [
              0.4444444444444444,
              "#bd3786"
             ],
             [
              0.5555555555555556,
              "#d8576b"
             ],
             [
              0.6666666666666666,
              "#ed7953"
             ],
             [
              0.7777777777777778,
              "#fb9f3a"
             ],
             [
              0.8888888888888888,
              "#fdca26"
             ],
             [
              1,
              "#f0f921"
             ]
            ],
            "type": "histogram2d"
           }
          ],
          "histogram2dcontour": [
           {
            "colorbar": {
             "outlinewidth": 0,
             "ticks": ""
            },
            "colorscale": [
             [
              0,
              "#0d0887"
             ],
             [
              0.1111111111111111,
              "#46039f"
             ],
             [
              0.2222222222222222,
              "#7201a8"
             ],
             [
              0.3333333333333333,
              "#9c179e"
             ],
             [
              0.4444444444444444,
              "#bd3786"
             ],
             [
              0.5555555555555556,
              "#d8576b"
             ],
             [
              0.6666666666666666,
              "#ed7953"
             ],
             [
              0.7777777777777778,
              "#fb9f3a"
             ],
             [
              0.8888888888888888,
              "#fdca26"
             ],
             [
              1,
              "#f0f921"
             ]
            ],
            "type": "histogram2dcontour"
           }
          ],
          "mesh3d": [
           {
            "colorbar": {
             "outlinewidth": 0,
             "ticks": ""
            },
            "type": "mesh3d"
           }
          ],
          "parcoords": [
           {
            "line": {
             "colorbar": {
              "outlinewidth": 0,
              "ticks": ""
             }
            },
            "type": "parcoords"
           }
          ],
          "pie": [
           {
            "automargin": true,
            "type": "pie"
           }
          ],
          "scatter": [
           {
            "fillpattern": {
             "fillmode": "overlay",
             "size": 10,
             "solidity": 0.2
            },
            "type": "scatter"
           }
          ],
          "scatter3d": [
           {
            "line": {
             "colorbar": {
              "outlinewidth": 0,
              "ticks": ""
             }
            },
            "marker": {
             "colorbar": {
              "outlinewidth": 0,
              "ticks": ""
             }
            },
            "type": "scatter3d"
           }
          ],
          "scattercarpet": [
           {
            "marker": {
             "colorbar": {
              "outlinewidth": 0,
              "ticks": ""
             }
            },
            "type": "scattercarpet"
           }
          ],
          "scattergeo": [
           {
            "marker": {
             "colorbar": {
              "outlinewidth": 0,
              "ticks": ""
             }
            },
            "type": "scattergeo"
           }
          ],
          "scattergl": [
           {
            "marker": {
             "colorbar": {
              "outlinewidth": 0,
              "ticks": ""
             }
            },
            "type": "scattergl"
           }
          ],
          "scattermapbox": [
           {
            "marker": {
             "colorbar": {
              "outlinewidth": 0,
              "ticks": ""
             }
            },
            "type": "scattermapbox"
           }
          ],
          "scatterpolar": [
           {
            "marker": {
             "colorbar": {
              "outlinewidth": 0,
              "ticks": ""
             }
            },
            "type": "scatterpolar"
           }
          ],
          "scatterpolargl": [
           {
            "marker": {
             "colorbar": {
              "outlinewidth": 0,
              "ticks": ""
             }
            },
            "type": "scatterpolargl"
           }
          ],
          "scatterternary": [
           {
            "marker": {
             "colorbar": {
              "outlinewidth": 0,
              "ticks": ""
             }
            },
            "type": "scatterternary"
           }
          ],
          "surface": [
           {
            "colorbar": {
             "outlinewidth": 0,
             "ticks": ""
            },
            "colorscale": [
             [
              0,
              "#0d0887"
             ],
             [
              0.1111111111111111,
              "#46039f"
             ],
             [
              0.2222222222222222,
              "#7201a8"
             ],
             [
              0.3333333333333333,
              "#9c179e"
             ],
             [
              0.4444444444444444,
              "#bd3786"
             ],
             [
              0.5555555555555556,
              "#d8576b"
             ],
             [
              0.6666666666666666,
              "#ed7953"
             ],
             [
              0.7777777777777778,
              "#fb9f3a"
             ],
             [
              0.8888888888888888,
              "#fdca26"
             ],
             [
              1,
              "#f0f921"
             ]
            ],
            "type": "surface"
           }
          ],
          "table": [
           {
            "cells": {
             "fill": {
              "color": "#EBF0F8"
             },
             "line": {
              "color": "white"
             }
            },
            "header": {
             "fill": {
              "color": "#C8D4E3"
             },
             "line": {
              "color": "white"
             }
            },
            "type": "table"
           }
          ]
         },
         "layout": {
          "annotationdefaults": {
           "arrowcolor": "#2a3f5f",
           "arrowhead": 0,
           "arrowwidth": 1
          },
          "autotypenumbers": "strict",
          "coloraxis": {
           "colorbar": {
            "outlinewidth": 0,
            "ticks": ""
           }
          },
          "colorscale": {
           "diverging": [
            [
             0,
             "#8e0152"
            ],
            [
             0.1,
             "#c51b7d"
            ],
            [
             0.2,
             "#de77ae"
            ],
            [
             0.3,
             "#f1b6da"
            ],
            [
             0.4,
             "#fde0ef"
            ],
            [
             0.5,
             "#f7f7f7"
            ],
            [
             0.6,
             "#e6f5d0"
            ],
            [
             0.7,
             "#b8e186"
            ],
            [
             0.8,
             "#7fbc41"
            ],
            [
             0.9,
             "#4d9221"
            ],
            [
             1,
             "#276419"
            ]
           ],
           "sequential": [
            [
             0,
             "#0d0887"
            ],
            [
             0.1111111111111111,
             "#46039f"
            ],
            [
             0.2222222222222222,
             "#7201a8"
            ],
            [
             0.3333333333333333,
             "#9c179e"
            ],
            [
             0.4444444444444444,
             "#bd3786"
            ],
            [
             0.5555555555555556,
             "#d8576b"
            ],
            [
             0.6666666666666666,
             "#ed7953"
            ],
            [
             0.7777777777777778,
             "#fb9f3a"
            ],
            [
             0.8888888888888888,
             "#fdca26"
            ],
            [
             1,
             "#f0f921"
            ]
           ],
           "sequentialminus": [
            [
             0,
             "#0d0887"
            ],
            [
             0.1111111111111111,
             "#46039f"
            ],
            [
             0.2222222222222222,
             "#7201a8"
            ],
            [
             0.3333333333333333,
             "#9c179e"
            ],
            [
             0.4444444444444444,
             "#bd3786"
            ],
            [
             0.5555555555555556,
             "#d8576b"
            ],
            [
             0.6666666666666666,
             "#ed7953"
            ],
            [
             0.7777777777777778,
             "#fb9f3a"
            ],
            [
             0.8888888888888888,
             "#fdca26"
            ],
            [
             1,
             "#f0f921"
            ]
           ]
          },
          "colorway": [
           "#636efa",
           "#EF553B",
           "#00cc96",
           "#ab63fa",
           "#FFA15A",
           "#19d3f3",
           "#FF6692",
           "#B6E880",
           "#FF97FF",
           "#FECB52"
          ],
          "font": {
           "color": "#2a3f5f"
          },
          "geo": {
           "bgcolor": "white",
           "lakecolor": "white",
           "landcolor": "#E5ECF6",
           "showlakes": true,
           "showland": true,
           "subunitcolor": "white"
          },
          "hoverlabel": {
           "align": "left"
          },
          "hovermode": "closest",
          "mapbox": {
           "style": "light"
          },
          "paper_bgcolor": "white",
          "plot_bgcolor": "#E5ECF6",
          "polar": {
           "angularaxis": {
            "gridcolor": "white",
            "linecolor": "white",
            "ticks": ""
           },
           "bgcolor": "#E5ECF6",
           "radialaxis": {
            "gridcolor": "white",
            "linecolor": "white",
            "ticks": ""
           }
          },
          "scene": {
           "xaxis": {
            "backgroundcolor": "#E5ECF6",
            "gridcolor": "white",
            "gridwidth": 2,
            "linecolor": "white",
            "showbackground": true,
            "ticks": "",
            "zerolinecolor": "white"
           },
           "yaxis": {
            "backgroundcolor": "#E5ECF6",
            "gridcolor": "white",
            "gridwidth": 2,
            "linecolor": "white",
            "showbackground": true,
            "ticks": "",
            "zerolinecolor": "white"
           },
           "zaxis": {
            "backgroundcolor": "#E5ECF6",
            "gridcolor": "white",
            "gridwidth": 2,
            "linecolor": "white",
            "showbackground": true,
            "ticks": "",
            "zerolinecolor": "white"
           }
          },
          "shapedefaults": {
           "line": {
            "color": "#2a3f5f"
           }
          },
          "ternary": {
           "aaxis": {
            "gridcolor": "white",
            "linecolor": "white",
            "ticks": ""
           },
           "baxis": {
            "gridcolor": "white",
            "linecolor": "white",
            "ticks": ""
           },
           "bgcolor": "#E5ECF6",
           "caxis": {
            "gridcolor": "white",
            "linecolor": "white",
            "ticks": ""
           }
          },
          "title": {
           "x": 0.05
          },
          "xaxis": {
           "automargin": true,
           "gridcolor": "white",
           "linecolor": "white",
           "ticks": "",
           "title": {
            "standoff": 15
           },
           "zerolinecolor": "white",
           "zerolinewidth": 2
          },
          "yaxis": {
           "automargin": true,
           "gridcolor": "white",
           "linecolor": "white",
           "ticks": "",
           "title": {
            "standoff": 15
           },
           "zerolinecolor": "white",
           "zerolinewidth": 2
          }
         }
        },
        "title": {
         "text": " kano_transactions Aggregated NNet & tsfresh. MAE=0.6518"
        }
       }
      }
     },
     "metadata": {},
     "output_type": "display_data"
    },
    {
     "name": "stderr",
     "output_type": "stream",
     "text": [
      "Rolling: 100%|██████████| 20/20 [00:00<00:00, 43.68it/s]\n",
      "Feature Extraction: 100%|██████████| 20/20 [00:00<00:00, 64.35it/s]\n"
     ]
    },
    {
     "data": {
      "application/vnd.plotly.v1+json": {
       "config": {
        "plotlyServerURL": "https://plot.ly"
       },
       "data": [
        {
         "name": "Train",
         "type": "scatter",
         "x": [
          "2022-01-07",
          "2022-01-08",
          "2022-01-09",
          "2022-01-10",
          "2022-01-11",
          "2022-01-12",
          "2022-01-13",
          "2022-01-14",
          "2022-01-15",
          "2022-01-16",
          "2022-01-17",
          "2022-01-18",
          "2022-01-19",
          "2022-01-20",
          "2022-01-21",
          "2022-01-22",
          "2022-01-23",
          "2022-01-24",
          "2022-01-25",
          "2022-01-26",
          "2022-01-27",
          "2022-01-28",
          "2022-01-29",
          "2022-01-30",
          "2022-01-31",
          "2022-02-01",
          "2022-02-02",
          "2022-02-03",
          "2022-02-04",
          "2022-02-05",
          "2022-02-06",
          "2022-02-07",
          "2022-02-08",
          "2022-02-09",
          "2022-02-10",
          "2022-02-11",
          "2022-02-12",
          "2022-02-13",
          "2022-02-14",
          "2022-02-15",
          "2022-02-16",
          "2022-02-17",
          "2022-02-18",
          "2022-02-19",
          "2022-02-20",
          "2022-02-21",
          "2022-02-22",
          "2022-02-23",
          "2022-02-24",
          "2022-02-25",
          "2022-02-26",
          "2022-02-27",
          "2022-02-28",
          "2022-03-01",
          "2022-03-02",
          "2022-03-03",
          "2022-03-04",
          "2022-03-05",
          "2022-03-06",
          "2022-03-07",
          "2022-03-08",
          "2022-03-09",
          "2022-03-10",
          "2022-03-11",
          "2022-03-12",
          "2022-03-13",
          "2022-03-14",
          "2022-03-15",
          "2022-03-16",
          "2022-03-17",
          "2022-03-18",
          "2022-03-19",
          "2022-03-20",
          "2022-03-21",
          "2022-03-22",
          "2022-03-23",
          "2022-03-24",
          "2022-03-25",
          "2022-03-26",
          "2022-03-27",
          "2022-03-28",
          "2022-03-29",
          "2022-03-30",
          "2022-03-31",
          "2022-04-01",
          "2022-04-02",
          "2022-04-03",
          "2022-04-04",
          "2022-04-05",
          "2022-04-06",
          "2022-04-07",
          "2022-04-08",
          "2022-04-09",
          "2022-04-10",
          "2022-04-11",
          "2022-04-12",
          "2022-04-13",
          "2022-04-14",
          "2022-04-15",
          "2022-04-16",
          "2022-04-17",
          "2022-04-18",
          "2022-04-19",
          "2022-04-20",
          "2022-04-21",
          "2022-04-22",
          "2022-04-23",
          "2022-04-24",
          "2022-04-25",
          "2022-04-26",
          "2022-04-27",
          "2022-04-28",
          "2022-04-29",
          "2022-04-30",
          "2022-05-01",
          "2022-05-02",
          "2022-05-03",
          "2022-05-04",
          "2022-05-05",
          "2022-05-06",
          "2022-05-07",
          "2022-05-08",
          "2022-05-09",
          "2022-05-10",
          "2022-05-11",
          "2022-05-12",
          "2022-05-13",
          "2022-05-14",
          "2022-05-15",
          "2022-05-16",
          "2022-05-17",
          "2022-05-18",
          "2022-05-19",
          "2022-05-20",
          "2022-05-21",
          "2022-05-22",
          "2022-05-23",
          "2022-05-24",
          "2022-05-25",
          "2022-05-26",
          "2022-05-27",
          "2022-05-28",
          "2022-05-29",
          "2022-05-30",
          "2022-05-31",
          "2022-06-01",
          "2022-06-02",
          "2022-06-03",
          "2022-06-04",
          "2022-06-05",
          "2022-06-06",
          "2022-06-07",
          "2022-06-08",
          "2022-06-09",
          "2022-06-10",
          "2022-06-11",
          "2022-06-12",
          "2022-06-13",
          "2022-06-14",
          "2022-06-15",
          "2022-06-16",
          "2022-06-17",
          "2022-06-18",
          "2022-06-19",
          "2022-06-20",
          "2022-06-21",
          "2022-06-22",
          "2022-06-23",
          "2022-06-24",
          "2022-06-25",
          "2022-06-26",
          "2022-06-27",
          "2022-06-28",
          "2022-06-29",
          "2022-06-30",
          "2022-07-01",
          "2022-07-02",
          "2022-07-03",
          "2022-07-04",
          "2022-07-05",
          "2022-07-06",
          "2022-07-07",
          "2022-07-08",
          "2022-07-09",
          "2022-07-10",
          "2022-07-11",
          "2022-07-12",
          "2022-07-13",
          "2022-07-14",
          "2022-07-15",
          "2022-07-16",
          "2022-07-17",
          "2022-07-18",
          "2022-07-19",
          "2022-07-20",
          "2022-07-21",
          "2022-07-22",
          "2022-07-23",
          "2022-07-24",
          "2022-07-25",
          "2022-07-26",
          "2022-07-27",
          "2022-07-28",
          "2022-07-29",
          "2022-07-30",
          "2022-07-31",
          "2022-08-01",
          "2022-08-02",
          "2022-08-03",
          "2022-08-04",
          "2022-08-05",
          "2022-08-06",
          "2022-08-07",
          "2022-08-08",
          "2022-08-09",
          "2022-08-10",
          "2022-08-11",
          "2022-08-12",
          "2022-08-13",
          "2022-08-14",
          "2022-08-15",
          "2022-08-16",
          "2022-08-17",
          "2022-08-18",
          "2022-08-19",
          "2022-08-20",
          "2022-08-21",
          "2022-08-22",
          "2022-08-23",
          "2022-08-24",
          "2022-08-25",
          "2022-08-26",
          "2022-08-27",
          "2022-08-28",
          "2022-08-29",
          "2022-08-30",
          "2022-08-31",
          "2022-09-01",
          "2022-09-02",
          "2022-09-03",
          "2022-09-04",
          "2022-09-05",
          "2022-09-06",
          "2022-09-07",
          "2022-09-08",
          "2022-09-09",
          "2022-09-10",
          "2022-09-11",
          "2022-09-12",
          "2022-09-13"
         ],
         "y": [
          0.9610202873172389,
          1.103829162451138,
          -1.5482361430842493,
          -0.6495851727294686,
          0.8084586109546831,
          -0.7032255794870795,
          1.4075592578578702,
          -1.6903483895589586,
          0.6078295571080345,
          -0.5179223561426054,
          -1.0222815053959862,
          1.335109877302136,
          0.28320060192560986,
          0.1215827529935873,
          -0.4510460048603891,
          1.275896441271007,
          -0.27688884006295106,
          -0.8704164576926201,
          1.0871100746305842,
          -2.117381757642277,
          0.7158069992824462,
          -0.23578774917075568,
          0.49079594236415613,
          -1.4040340106319704,
          0.04181877151636065,
          -1.2793374806370048,
          1.9307273809093741,
          -2.668415027061371,
          0.8203012981609089,
          -1.2918767965024203,
          1.5761433933817903,
          0.057492916348130085,
          -0.042821610575194256,
          -0.268529296152674,
          -1.3907980661073651,
          2.2846147397777683,
          -1.594213634590773,
          0.457357766723048,
          -1.8115617762579757,
          0.6733126510718712,
          1.3211773041183408,
          -1.4381688149322684,
          1.2877391284772328,
          -0.42457411581117854,
          -0.3131135303408182,
          1.3392896492572743,
          -1.3775621215827598,
          -0.3465517059819263,
          1.334413248642946,
          -0.699045807531941,
          1.4709524658441377,
          -0.634259342227294,
          0.04181877151636065,
          0.5653352088974596,
          0.4796498838171201,
          0.04181877151636065,
          0.6635598498432147,
          0.3208185495218565,
          0.4984588576152434,
          -0.18841700034585251,
          -0.9574950400913392,
          -0.262956266879156,
          1.5071771561220049,
          -0.986056815118119,
          0.912952909833146,
          -0.19677654425612953,
          -1.217337529969117,
          1.5225029866241793,
          -1.5663484882231828,
          -0.3430685626859775,
          0.105560293832223,
          -0.11596761979011826,
          0.9491776001110132,
          -1.2897869105248512,
          0.6586834492288864,
          0.9728629745234647,
          0.9840090330705007,
          -1.7321461091103438,
          0.8042788389995446,
          0.0017626236129498958,
          -0.5485740171469544,
          -0.36187753648410087,
          0.6593800778880762,
          -1.4103036685646781,
          0.05888617366650959,
          1.4347277755662706,
          -0.9609781833872879,
          -0.5430009878734364,
          0.6642564785024044,
          -1.3594497764438263,
          0.7262564291702924,
          0.5353801765523003,
          -0.8934052034458819,
          -0.7352704978098081,
          1.6708848910315965,
          -0.3291359895021825,
          -0.184237228390714,
          0.39675107337353954,
          0.9415146848599258,
          -1.4235396130892835,
          0.8314473567079449,
          -0.005900291638137381,
          0.3737623276202777,
          -0.2072259741439758,
          1.2159863765806882,
          -0.628686312953776,
          -1.8895841860872278,
          1.4939412115973996,
          0.21214447868825512,
          0.0895378346708587,
          0.026144626684591228,
          -0.7916974192041781,
          -0.25041695101374045,
          0.04181877151636065,
          0.04181877151636065,
          -1.025068020032745,
          0.09302097796680746,
          0.0010659949537601434,
          0.2929534031542664,
          0.09511086394437672,
          -1.6513371846443325,
          1.2382784936747604,
          -0.12641704967796455,
          0.2741444293561431,
          -0.36954045173518807,
          0.4998521149336229,
          -1.5405732278331619,
          0.9491776001110132,
          0.4113802752165243,
          0.8655821610082428,
          -2.0177638593781424,
          0.4120769038757141,
          0.7729305493360058,
          -0.4712482359768919,
          0.8997169653085407,
          -1.4625508180039097,
          1.0111775507789011,
          0.4587510240414275,
          0.4246162197411296,
          -0.8648434284191021,
          0.012908682159985934,
          -0.09297887403685644,
          -0.07974292951225113,
          -0.6140571111107912,
          1.016750580052419,
          0.29922306108697416,
          -1.9529773940734954,
          0.8216945554792884,
          0.41625667583085263,
          -1.0076523035530014,
          0.5681217235342186,
          0.018481711433503953,
          0.18706584695742404,
          1.315604274844823,
          -2.4789320317617585,
          1.2577840961320734,
          -0.6516750587070378,
          -0.07486652889792288,
          1.4542333780235837,
          0.40232410264705754,
          -1.0605960816514226,
          0.8091552396138729,
          -0.45034937620119936,
          -1.6771124450343533,
          1.3873570267413673,
          -0.06929349962440486,
          -0.7659221588141573,
          0.34102078063835933,
          -0.747113185016034,
          -0.17866419911719597,
          2.2219181604506906,
          -1.467427218618238,
          2.254659707432609,
          0.04181877151636065,
          0.04181877151636065,
          0.04181877151636065,
          -0.23230460587480692,
          -0.37163033771275733,
          0.6698295077759224,
          0.14108835545090037,
          -1.2013150708077525,
          -0.10203504660632322,
          -1.8777414988810022,
          0.04181877151636065,
          -0.16403499727421117,
          -0.5673829909450777,
          0.5012453722520024,
          0.8802113628512276,
          -1.537090084537213,
          0.2713579147193841,
          0.8133350115690113,
          0.18985236159418303,
          0.2616051134907275,
          -0.6307761989313453,
          -0.24623717905860196,
          -0.09019235940009743,
          0.49427908566010487,
          -0.6356525995456735,
          0.6363913321348144,
          -0.4057651420130552,
          0.8154248975465807,
          -0.06790024230602534,
          -0.37581010966789585,
          -1.256348734883743,
          0.30827923365644094,
          0.18149281768390602,
          1.2584807247912633,
          -1.5447529997883005,
          1.227829063786914,
          -1.6596967285546096,
          0.9714697172050851,
          0.10347040785465374,
          0.600863270516137,
          -2.0428424911089733,
          1.5315591591936462,
          -0.9728208705935137,
          0.6140992150407423,
          0.8627956463714838,
          -1.8192246915090629,
          0.7499418035827439,
          -0.5248886427345029,
          1.7098960959462226,
          -0.8063266210471629,
          -0.4294505164255068,
          0.8084586109546831,
          -0.7290008398771003,
          -0.8613602851231533,
          0.3382342660016003,
          -0.648191915411089,
          1.7342780990178641,
          1.2292223211052935,
          -1.9836290550778444,
          0.0073356528864679145,
          0.2588185988539685,
          1.537132188467164,
          -1.9696964818940494,
          -0.1271136783371543,
          0.20169504880040884,
          -1.104483687180377,
          1.6632219757805093,
          -0.6461020294335198,
          -0.3528213639146341,
          0.76108786212978,
          -0.6593379739581251,
          0.9477843427926336,
          -0.42109097251522976,
          -1.3956744667216934,
          0.392571301418401,
          1.0975595045184303,
          -0.2720124394486228
         ]
        },
        {
         "name": "Test",
         "type": "scatter",
         "x": [
          "2022-09-14",
          "2022-09-15",
          "2022-09-16",
          "2022-09-17",
          "2022-09-18",
          "2022-09-19",
          "2022-09-20",
          "2022-09-21",
          "2022-09-22",
          "2022-09-23",
          "2022-09-24",
          "2022-09-25",
          "2022-09-26",
          "2022-09-27",
          "2022-09-28",
          "2022-09-29",
          "2022-09-30",
          "2022-10-01",
          "2022-10-02",
          "2022-10-03",
          "2022-10-04",
          "2022-10-05",
          "2022-10-06",
          "2022-10-07",
          "2022-10-08",
          "2022-10-09",
          "2022-10-10",
          "2022-10-11",
          "2022-10-12",
          "2022-10-13",
          "2022-10-14",
          "2022-10-15",
          "2022-10-16",
          "2022-10-17",
          "2022-10-18",
          "2022-10-19",
          "2022-10-20",
          "2022-10-21",
          "2022-10-22",
          "2022-10-23",
          "2022-10-24",
          "2022-10-25",
          "2022-10-26",
          "2022-10-27",
          "2022-10-28",
          "2022-10-29",
          "2022-10-30",
          "2022-10-31",
          "2022-11-01",
          "2022-11-02",
          "2022-11-03",
          "2022-11-04",
          "2022-11-05",
          "2022-11-06",
          "2022-11-07",
          "2022-11-08",
          "2022-11-09",
          "2022-11-10",
          "2022-11-11",
          "2022-11-12",
          "2022-11-13",
          "2022-11-14",
          "2022-11-15",
          "2022-11-16",
          "2022-11-17",
          "2022-11-18",
          "2022-11-19",
          "2022-11-20",
          "2022-11-21",
          "2022-11-22",
          "2022-11-23",
          "2022-11-24",
          "2022-11-25",
          "2022-11-26",
          "2022-11-27",
          "2022-11-28",
          "2022-11-29",
          "2022-11-30",
          "2022-12-01",
          "2022-12-02",
          "2022-12-03",
          "2022-12-04",
          "2022-12-05",
          "2022-12-06",
          "2022-12-07",
          "2022-12-08",
          "2022-12-09",
          "2022-12-10",
          "2022-12-11",
          "2022-12-12",
          "2022-12-13",
          "2022-12-14",
          "2022-12-15",
          "2022-12-16",
          "2022-12-17",
          "2022-12-18",
          "2022-12-19",
          "2022-12-20",
          "2022-12-21",
          "2022-12-22",
          "2022-12-23",
          "2022-12-24",
          "2022-12-25",
          "2022-12-26",
          "2022-12-27",
          "2022-12-28",
          "2022-12-29",
          "2022-12-30"
         ],
         "y": [
          1.2877391284772328,
          -0.16612488325178043,
          -0.8432479399842198,
          -0.5374279585999184,
          0.6990879114618921,
          0.8502563305060683,
          -1.4089104112462987,
          -0.5604167043531803,
          0.9171326817882844,
          0.8168181548649601,
          -1.1421016347766235,
          -0.10482156124308223,
          0.8377170146406527,
          -0.25668660894644824,
          -1.5565956869945263,
          1.5225029866241793,
          0.04181877151636065,
          0.04181877151636065,
          0.6154924723591217,
          1.77398593259168,
          -0.5618099616715597,
          -0.6488885440702788,
          -0.12502379235958505,
          0.7924361517933188,
          -0.2782820973813306,
          1.264750382723971,
          -2.231628857749396,
          0.12297601031196681,
          1.9084352638153022,
          -1.2814273666145741,
          -0.007990177615706638,
          2.1020980310700534,
          -1.4771800198468945,
          0.2866837452215586,
          -1.3260116008027183,
          1.0655145861957018,
          -0.8188659369125785,
          -0.4392033176541633,
          1.0383460684873014,
          0.5695149808525981,
          -1.1469780353909518,
          0.4566611380638582,
          -0.15288893872717513,
          -1.1260791756152593,
          1.2431548942890887,
          -0.07625978621630237,
          0.26648151410505583,
          0.14875127070198765,
          -0.980483785844601,
          -0.963764698024047,
          1.247334666244227,
          0.33475112270565155,
          0.34798706723025685,
          -2.3974264786365573,
          0.44342519353925297,
          0.8774248482144686,
          0.4998521149336229,
          -0.2002596875520783,
          0.45805439538223774,
          -1.1630004945523162,
          -0.7039222081462693,
          0.8014923243627856,
          0.15780744327145443,
          0.23304333846394767,
          -0.634259342227294,
          0.9011102226269202,
          0.31524552024833846,
          -0.20443945950721681,
          0.07560526148706365,
          -0.7220345532852028,
          0.37167244164270846,
          -0.47960777988716896,
          1.9474464687299282,
          -1.2681914220899688,
          -0.09088898805928718,
          -0.09506876001442569,
          -0.749899699652793,
          0.04181877151636065,
          0.04181877151636065,
          0.40929038923895505,
          0.6705261364351123,
          1.2013571747377034,
          -0.46219206340742514,
          -0.2950011852018846,
          0.27902082997047134,
          -1.3608430337622057,
          1.0522786416710965,
          0.4427285648800632,
          -1.4242362417484733,
          0.6545036772737479,
          -0.2058327168255963,
          -1.525944025990177,
          1.3218739327775306,
          -1.765584284751452,
          0.8432900439141707,
          0.8767282195552789,
          0.35773986845891337,
          -1.1274724329336387,
          1.1741886570293032,
          1.3079413595937355,
          0.04181877151636065,
          2.3208394300556354,
          -0.07556315755711263,
          -1.129562318911208,
          1.950929612025877,
          0.3236050641586155,
          -1.4945957363266382,
          -0.7868210185898499
         ]
        },
        {
         "name": "Predicted",
         "type": "scatter",
         "x": [
          "2022-09-14",
          "2022-09-15",
          "2022-09-16",
          "2022-09-17",
          "2022-09-18",
          "2022-09-19",
          "2022-09-20",
          "2022-09-21",
          "2022-09-22",
          "2022-09-23",
          "2022-09-24",
          "2022-09-25",
          "2022-09-26",
          "2022-09-27",
          "2022-09-28",
          "2022-09-29",
          "2022-09-30",
          "2022-10-01",
          "2022-10-02",
          "2022-10-03",
          "2022-10-04",
          "2022-10-05",
          "2022-10-06",
          "2022-10-07",
          "2022-10-08",
          "2022-10-09",
          "2022-10-10",
          "2022-10-11",
          "2022-10-12",
          "2022-10-13",
          "2022-10-14",
          "2022-10-15",
          "2022-10-16",
          "2022-10-17",
          "2022-10-18",
          "2022-10-19",
          "2022-10-20",
          "2022-10-21",
          "2022-10-22",
          "2022-10-23",
          "2022-10-24",
          "2022-10-25",
          "2022-10-26",
          "2022-10-27",
          "2022-10-28",
          "2022-10-29",
          "2022-10-30",
          "2022-10-31",
          "2022-11-01",
          "2022-11-02",
          "2022-11-03",
          "2022-11-04",
          "2022-11-05",
          "2022-11-06",
          "2022-11-07",
          "2022-11-08",
          "2022-11-09",
          "2022-11-10",
          "2022-11-11",
          "2022-11-12",
          "2022-11-13",
          "2022-11-14",
          "2022-11-15",
          "2022-11-16",
          "2022-11-17",
          "2022-11-18",
          "2022-11-19",
          "2022-11-20",
          "2022-11-21",
          "2022-11-22",
          "2022-11-23",
          "2022-11-24",
          "2022-11-25",
          "2022-11-26",
          "2022-11-27",
          "2022-11-28",
          "2022-11-29",
          "2022-11-30",
          "2022-12-01",
          "2022-12-02",
          "2022-12-03",
          "2022-12-04",
          "2022-12-05",
          "2022-12-06",
          "2022-12-07",
          "2022-12-08",
          "2022-12-09",
          "2022-12-10",
          "2022-12-11",
          "2022-12-12",
          "2022-12-13",
          "2022-12-14",
          "2022-12-15",
          "2022-12-16",
          "2022-12-17",
          "2022-12-18",
          "2022-12-19",
          "2022-12-20",
          "2022-12-21",
          "2022-12-22",
          "2022-12-23",
          "2022-12-24",
          "2022-12-25",
          "2022-12-26",
          "2022-12-27",
          "2022-12-28",
          "2022-12-29",
          "2022-12-30"
         ],
         "y": [
          0.18278498947620392,
          -0.11024846881628036,
          0.3451453745365143,
          0.40692776441574097,
          0.3515006899833679,
          0.0582231804728508,
          0.18397951126098633,
          0.5154921412467957,
          0.35830458998680115,
          0.08284284174442291,
          -0.03775980323553085,
          0.5195623636245728,
          0.25192880630493164,
          0.07980852574110031,
          0.2972513437271118,
          0.5724755525588989,
          -0.01131013035774231,
          0.23845623433589935,
          0.09399596601724625,
          -0.09797799587249756,
          -0.23521864414215088,
          0.16106276214122772,
          0.2983296513557434,
          0.2567443251609802,
          -0.04363354295492172,
          0.10651104897260666,
          -0.2565666437149048,
          0.7296839356422424,
          0.09241411089897156,
          -0.4730225205421448,
          0.35368674993515015,
          0.17676782608032227,
          -0.5161734223365784,
          0.23759567737579346,
          0.04030558839440346,
          0.34905895590782166,
          -0.3240748941898346,
          0.26987791061401367,
          0.23736386001110077,
          -0.1577591896057129,
          -0.08764355629682541,
          0.5645657777786255,
          0.10389207303524017,
          0.15421214699745178,
          0.47032660245895386,
          -0.016282984986901283,
          0.1849917471408844,
          0.17187044024467468,
          0.14347884058952332,
          0.3741932809352875,
          0.5581098198890686,
          0.009641766548156738,
          0.15063615143299103,
          0.263365238904953,
          0.8286730647087097,
          0.3722688555717468,
          0.053996454924345016,
          0.1373341679573059,
          0.29147520661354065,
          0.09881438314914703,
          0.5335412621498108,
          0.5221231579780579,
          0.18711021542549133,
          0.2695034444332123,
          0.189069926738739,
          0.38520652055740356,
          0.12052302807569504,
          0.1644037663936615,
          0.27714860439300537,
          0.32895681262016296,
          0.3936011493206024,
          0.052735909819602966,
          0.42544829845428467,
          -0.2056283801794052,
          0.48947685956954956,
          0.10846874862909317,
          0.25481879711151123,
          0.43853867053985596,
          0.2878887355327606,
          0.3222478926181793,
          0.2582577168941498,
          0.043431781232357025,
          -0.22290265560150146,
          0.2901410758495331,
          0.21840804815292358,
          0.07244496792554855,
          0.4927232563495636,
          0.020745253190398216,
          0.09059653431177139,
          0.5036359429359436,
          0.16227421164512634,
          0.22078995406627655,
          0.577190637588501,
          -0.051396653056144714,
          0.8349044919013977,
          0.1379747986793518,
          0.03658009320497513,
          0.18535473942756653,
          0.4232640564441681,
          -0.14206033945083618,
          -0.20524300634860992,
          0.07105664163827896,
          -0.598698616027832,
          -0.06150209158658981,
          0.32702791690826416,
          -0.5114989280700684,
          -0.23499879240989685,
          0.18391552567481995
         ]
        }
       ],
       "layout": {
        "template": {
         "data": {
          "bar": [
           {
            "error_x": {
             "color": "#2a3f5f"
            },
            "error_y": {
             "color": "#2a3f5f"
            },
            "marker": {
             "line": {
              "color": "#E5ECF6",
              "width": 0.5
             },
             "pattern": {
              "fillmode": "overlay",
              "size": 10,
              "solidity": 0.2
             }
            },
            "type": "bar"
           }
          ],
          "barpolar": [
           {
            "marker": {
             "line": {
              "color": "#E5ECF6",
              "width": 0.5
             },
             "pattern": {
              "fillmode": "overlay",
              "size": 10,
              "solidity": 0.2
             }
            },
            "type": "barpolar"
           }
          ],
          "carpet": [
           {
            "aaxis": {
             "endlinecolor": "#2a3f5f",
             "gridcolor": "white",
             "linecolor": "white",
             "minorgridcolor": "white",
             "startlinecolor": "#2a3f5f"
            },
            "baxis": {
             "endlinecolor": "#2a3f5f",
             "gridcolor": "white",
             "linecolor": "white",
             "minorgridcolor": "white",
             "startlinecolor": "#2a3f5f"
            },
            "type": "carpet"
           }
          ],
          "choropleth": [
           {
            "colorbar": {
             "outlinewidth": 0,
             "ticks": ""
            },
            "type": "choropleth"
           }
          ],
          "contour": [
           {
            "colorbar": {
             "outlinewidth": 0,
             "ticks": ""
            },
            "colorscale": [
             [
              0,
              "#0d0887"
             ],
             [
              0.1111111111111111,
              "#46039f"
             ],
             [
              0.2222222222222222,
              "#7201a8"
             ],
             [
              0.3333333333333333,
              "#9c179e"
             ],
             [
              0.4444444444444444,
              "#bd3786"
             ],
             [
              0.5555555555555556,
              "#d8576b"
             ],
             [
              0.6666666666666666,
              "#ed7953"
             ],
             [
              0.7777777777777778,
              "#fb9f3a"
             ],
             [
              0.8888888888888888,
              "#fdca26"
             ],
             [
              1,
              "#f0f921"
             ]
            ],
            "type": "contour"
           }
          ],
          "contourcarpet": [
           {
            "colorbar": {
             "outlinewidth": 0,
             "ticks": ""
            },
            "type": "contourcarpet"
           }
          ],
          "heatmap": [
           {
            "colorbar": {
             "outlinewidth": 0,
             "ticks": ""
            },
            "colorscale": [
             [
              0,
              "#0d0887"
             ],
             [
              0.1111111111111111,
              "#46039f"
             ],
             [
              0.2222222222222222,
              "#7201a8"
             ],
             [
              0.3333333333333333,
              "#9c179e"
             ],
             [
              0.4444444444444444,
              "#bd3786"
             ],
             [
              0.5555555555555556,
              "#d8576b"
             ],
             [
              0.6666666666666666,
              "#ed7953"
             ],
             [
              0.7777777777777778,
              "#fb9f3a"
             ],
             [
              0.8888888888888888,
              "#fdca26"
             ],
             [
              1,
              "#f0f921"
             ]
            ],
            "type": "heatmap"
           }
          ],
          "heatmapgl": [
           {
            "colorbar": {
             "outlinewidth": 0,
             "ticks": ""
            },
            "colorscale": [
             [
              0,
              "#0d0887"
             ],
             [
              0.1111111111111111,
              "#46039f"
             ],
             [
              0.2222222222222222,
              "#7201a8"
             ],
             [
              0.3333333333333333,
              "#9c179e"
             ],
             [
              0.4444444444444444,
              "#bd3786"
             ],
             [
              0.5555555555555556,
              "#d8576b"
             ],
             [
              0.6666666666666666,
              "#ed7953"
             ],
             [
              0.7777777777777778,
              "#fb9f3a"
             ],
             [
              0.8888888888888888,
              "#fdca26"
             ],
             [
              1,
              "#f0f921"
             ]
            ],
            "type": "heatmapgl"
           }
          ],
          "histogram": [
           {
            "marker": {
             "pattern": {
              "fillmode": "overlay",
              "size": 10,
              "solidity": 0.2
             }
            },
            "type": "histogram"
           }
          ],
          "histogram2d": [
           {
            "colorbar": {
             "outlinewidth": 0,
             "ticks": ""
            },
            "colorscale": [
             [
              0,
              "#0d0887"
             ],
             [
              0.1111111111111111,
              "#46039f"
             ],
             [
              0.2222222222222222,
              "#7201a8"
             ],
             [
              0.3333333333333333,
              "#9c179e"
             ],
             [
              0.4444444444444444,
              "#bd3786"
             ],
             [
              0.5555555555555556,
              "#d8576b"
             ],
             [
              0.6666666666666666,
              "#ed7953"
             ],
             [
              0.7777777777777778,
              "#fb9f3a"
             ],
             [
              0.8888888888888888,
              "#fdca26"
             ],
             [
              1,
              "#f0f921"
             ]
            ],
            "type": "histogram2d"
           }
          ],
          "histogram2dcontour": [
           {
            "colorbar": {
             "outlinewidth": 0,
             "ticks": ""
            },
            "colorscale": [
             [
              0,
              "#0d0887"
             ],
             [
              0.1111111111111111,
              "#46039f"
             ],
             [
              0.2222222222222222,
              "#7201a8"
             ],
             [
              0.3333333333333333,
              "#9c179e"
             ],
             [
              0.4444444444444444,
              "#bd3786"
             ],
             [
              0.5555555555555556,
              "#d8576b"
             ],
             [
              0.6666666666666666,
              "#ed7953"
             ],
             [
              0.7777777777777778,
              "#fb9f3a"
             ],
             [
              0.8888888888888888,
              "#fdca26"
             ],
             [
              1,
              "#f0f921"
             ]
            ],
            "type": "histogram2dcontour"
           }
          ],
          "mesh3d": [
           {
            "colorbar": {
             "outlinewidth": 0,
             "ticks": ""
            },
            "type": "mesh3d"
           }
          ],
          "parcoords": [
           {
            "line": {
             "colorbar": {
              "outlinewidth": 0,
              "ticks": ""
             }
            },
            "type": "parcoords"
           }
          ],
          "pie": [
           {
            "automargin": true,
            "type": "pie"
           }
          ],
          "scatter": [
           {
            "fillpattern": {
             "fillmode": "overlay",
             "size": 10,
             "solidity": 0.2
            },
            "type": "scatter"
           }
          ],
          "scatter3d": [
           {
            "line": {
             "colorbar": {
              "outlinewidth": 0,
              "ticks": ""
             }
            },
            "marker": {
             "colorbar": {
              "outlinewidth": 0,
              "ticks": ""
             }
            },
            "type": "scatter3d"
           }
          ],
          "scattercarpet": [
           {
            "marker": {
             "colorbar": {
              "outlinewidth": 0,
              "ticks": ""
             }
            },
            "type": "scattercarpet"
           }
          ],
          "scattergeo": [
           {
            "marker": {
             "colorbar": {
              "outlinewidth": 0,
              "ticks": ""
             }
            },
            "type": "scattergeo"
           }
          ],
          "scattergl": [
           {
            "marker": {
             "colorbar": {
              "outlinewidth": 0,
              "ticks": ""
             }
            },
            "type": "scattergl"
           }
          ],
          "scattermapbox": [
           {
            "marker": {
             "colorbar": {
              "outlinewidth": 0,
              "ticks": ""
             }
            },
            "type": "scattermapbox"
           }
          ],
          "scatterpolar": [
           {
            "marker": {
             "colorbar": {
              "outlinewidth": 0,
              "ticks": ""
             }
            },
            "type": "scatterpolar"
           }
          ],
          "scatterpolargl": [
           {
            "marker": {
             "colorbar": {
              "outlinewidth": 0,
              "ticks": ""
             }
            },
            "type": "scatterpolargl"
           }
          ],
          "scatterternary": [
           {
            "marker": {
             "colorbar": {
              "outlinewidth": 0,
              "ticks": ""
             }
            },
            "type": "scatterternary"
           }
          ],
          "surface": [
           {
            "colorbar": {
             "outlinewidth": 0,
             "ticks": ""
            },
            "colorscale": [
             [
              0,
              "#0d0887"
             ],
             [
              0.1111111111111111,
              "#46039f"
             ],
             [
              0.2222222222222222,
              "#7201a8"
             ],
             [
              0.3333333333333333,
              "#9c179e"
             ],
             [
              0.4444444444444444,
              "#bd3786"
             ],
             [
              0.5555555555555556,
              "#d8576b"
             ],
             [
              0.6666666666666666,
              "#ed7953"
             ],
             [
              0.7777777777777778,
              "#fb9f3a"
             ],
             [
              0.8888888888888888,
              "#fdca26"
             ],
             [
              1,
              "#f0f921"
             ]
            ],
            "type": "surface"
           }
          ],
          "table": [
           {
            "cells": {
             "fill": {
              "color": "#EBF0F8"
             },
             "line": {
              "color": "white"
             }
            },
            "header": {
             "fill": {
              "color": "#C8D4E3"
             },
             "line": {
              "color": "white"
             }
            },
            "type": "table"
           }
          ]
         },
         "layout": {
          "annotationdefaults": {
           "arrowcolor": "#2a3f5f",
           "arrowhead": 0,
           "arrowwidth": 1
          },
          "autotypenumbers": "strict",
          "coloraxis": {
           "colorbar": {
            "outlinewidth": 0,
            "ticks": ""
           }
          },
          "colorscale": {
           "diverging": [
            [
             0,
             "#8e0152"
            ],
            [
             0.1,
             "#c51b7d"
            ],
            [
             0.2,
             "#de77ae"
            ],
            [
             0.3,
             "#f1b6da"
            ],
            [
             0.4,
             "#fde0ef"
            ],
            [
             0.5,
             "#f7f7f7"
            ],
            [
             0.6,
             "#e6f5d0"
            ],
            [
             0.7,
             "#b8e186"
            ],
            [
             0.8,
             "#7fbc41"
            ],
            [
             0.9,
             "#4d9221"
            ],
            [
             1,
             "#276419"
            ]
           ],
           "sequential": [
            [
             0,
             "#0d0887"
            ],
            [
             0.1111111111111111,
             "#46039f"
            ],
            [
             0.2222222222222222,
             "#7201a8"
            ],
            [
             0.3333333333333333,
             "#9c179e"
            ],
            [
             0.4444444444444444,
             "#bd3786"
            ],
            [
             0.5555555555555556,
             "#d8576b"
            ],
            [
             0.6666666666666666,
             "#ed7953"
            ],
            [
             0.7777777777777778,
             "#fb9f3a"
            ],
            [
             0.8888888888888888,
             "#fdca26"
            ],
            [
             1,
             "#f0f921"
            ]
           ],
           "sequentialminus": [
            [
             0,
             "#0d0887"
            ],
            [
             0.1111111111111111,
             "#46039f"
            ],
            [
             0.2222222222222222,
             "#7201a8"
            ],
            [
             0.3333333333333333,
             "#9c179e"
            ],
            [
             0.4444444444444444,
             "#bd3786"
            ],
            [
             0.5555555555555556,
             "#d8576b"
            ],
            [
             0.6666666666666666,
             "#ed7953"
            ],
            [
             0.7777777777777778,
             "#fb9f3a"
            ],
            [
             0.8888888888888888,
             "#fdca26"
            ],
            [
             1,
             "#f0f921"
            ]
           ]
          },
          "colorway": [
           "#636efa",
           "#EF553B",
           "#00cc96",
           "#ab63fa",
           "#FFA15A",
           "#19d3f3",
           "#FF6692",
           "#B6E880",
           "#FF97FF",
           "#FECB52"
          ],
          "font": {
           "color": "#2a3f5f"
          },
          "geo": {
           "bgcolor": "white",
           "lakecolor": "white",
           "landcolor": "#E5ECF6",
           "showlakes": true,
           "showland": true,
           "subunitcolor": "white"
          },
          "hoverlabel": {
           "align": "left"
          },
          "hovermode": "closest",
          "mapbox": {
           "style": "light"
          },
          "paper_bgcolor": "white",
          "plot_bgcolor": "#E5ECF6",
          "polar": {
           "angularaxis": {
            "gridcolor": "white",
            "linecolor": "white",
            "ticks": ""
           },
           "bgcolor": "#E5ECF6",
           "radialaxis": {
            "gridcolor": "white",
            "linecolor": "white",
            "ticks": ""
           }
          },
          "scene": {
           "xaxis": {
            "backgroundcolor": "#E5ECF6",
            "gridcolor": "white",
            "gridwidth": 2,
            "linecolor": "white",
            "showbackground": true,
            "ticks": "",
            "zerolinecolor": "white"
           },
           "yaxis": {
            "backgroundcolor": "#E5ECF6",
            "gridcolor": "white",
            "gridwidth": 2,
            "linecolor": "white",
            "showbackground": true,
            "ticks": "",
            "zerolinecolor": "white"
           },
           "zaxis": {
            "backgroundcolor": "#E5ECF6",
            "gridcolor": "white",
            "gridwidth": 2,
            "linecolor": "white",
            "showbackground": true,
            "ticks": "",
            "zerolinecolor": "white"
           }
          },
          "shapedefaults": {
           "line": {
            "color": "#2a3f5f"
           }
          },
          "ternary": {
           "aaxis": {
            "gridcolor": "white",
            "linecolor": "white",
            "ticks": ""
           },
           "baxis": {
            "gridcolor": "white",
            "linecolor": "white",
            "ticks": ""
           },
           "bgcolor": "#E5ECF6",
           "caxis": {
            "gridcolor": "white",
            "linecolor": "white",
            "ticks": ""
           }
          },
          "title": {
           "x": 0.05
          },
          "xaxis": {
           "automargin": true,
           "gridcolor": "white",
           "linecolor": "white",
           "ticks": "",
           "title": {
            "standoff": 15
           },
           "zerolinecolor": "white",
           "zerolinewidth": 2
          },
          "yaxis": {
           "automargin": true,
           "gridcolor": "white",
           "linecolor": "white",
           "ticks": "",
           "title": {
            "standoff": 15
           },
           "zerolinecolor": "white",
           "zerolinewidth": 2
          }
         }
        },
        "title": {
         "text": " lagos_transactions Aggregated NNet & tsfresh. MAE=0.7522"
        }
       }
      }
     },
     "metadata": {},
     "output_type": "display_data"
    },
    {
     "name": "stderr",
     "output_type": "stream",
     "text": [
      "Rolling: 100%|██████████| 20/20 [00:00<00:00, 46.69it/s]\n",
      "Feature Extraction: 100%|██████████| 20/20 [00:00<00:00, 71.80it/s]\n"
     ]
    },
    {
     "data": {
      "application/vnd.plotly.v1+json": {
       "config": {
        "plotlyServerURL": "https://plot.ly"
       },
       "data": [
        {
         "name": "Train",
         "type": "scatter",
         "x": [
          "2022-01-07",
          "2022-01-08",
          "2022-01-09",
          "2022-01-10",
          "2022-01-11",
          "2022-01-12",
          "2022-01-13",
          "2022-01-14",
          "2022-01-15",
          "2022-01-16",
          "2022-01-17",
          "2022-01-18",
          "2022-01-19",
          "2022-01-20",
          "2022-01-21",
          "2022-01-22",
          "2022-01-23",
          "2022-01-24",
          "2022-01-25",
          "2022-01-26",
          "2022-01-27",
          "2022-01-28",
          "2022-01-29",
          "2022-01-30",
          "2022-01-31",
          "2022-02-01",
          "2022-02-02",
          "2022-02-03",
          "2022-02-04",
          "2022-02-05",
          "2022-02-06",
          "2022-02-07",
          "2022-02-08",
          "2022-02-09",
          "2022-02-10",
          "2022-02-11",
          "2022-02-12",
          "2022-02-13",
          "2022-02-14",
          "2022-02-15",
          "2022-02-16",
          "2022-02-17",
          "2022-02-18",
          "2022-02-19",
          "2022-02-20",
          "2022-02-21",
          "2022-02-22",
          "2022-02-23",
          "2022-02-24",
          "2022-02-25",
          "2022-02-26",
          "2022-02-27",
          "2022-02-28",
          "2022-03-01",
          "2022-03-02",
          "2022-03-03",
          "2022-03-04",
          "2022-03-05",
          "2022-03-06",
          "2022-03-07",
          "2022-03-08",
          "2022-03-09",
          "2022-03-10",
          "2022-03-11",
          "2022-03-12",
          "2022-03-13",
          "2022-03-14",
          "2022-03-15",
          "2022-03-16",
          "2022-03-17",
          "2022-03-18",
          "2022-03-19",
          "2022-03-20",
          "2022-03-21",
          "2022-03-22",
          "2022-03-23",
          "2022-03-24",
          "2022-03-25",
          "2022-03-26",
          "2022-03-27",
          "2022-03-28",
          "2022-03-29",
          "2022-03-30",
          "2022-03-31",
          "2022-04-01",
          "2022-04-02",
          "2022-04-03",
          "2022-04-04",
          "2022-04-05",
          "2022-04-06",
          "2022-04-07",
          "2022-04-08",
          "2022-04-09",
          "2022-04-10",
          "2022-04-11",
          "2022-04-12",
          "2022-04-13",
          "2022-04-14",
          "2022-04-15",
          "2022-04-16",
          "2022-04-17",
          "2022-04-18",
          "2022-04-19",
          "2022-04-20",
          "2022-04-21",
          "2022-04-22",
          "2022-04-23",
          "2022-04-24",
          "2022-04-25",
          "2022-04-26",
          "2022-04-27",
          "2022-04-28",
          "2022-04-29",
          "2022-04-30",
          "2022-05-01",
          "2022-05-02",
          "2022-05-03",
          "2022-05-04",
          "2022-05-05",
          "2022-05-06",
          "2022-05-07",
          "2022-05-08",
          "2022-05-09",
          "2022-05-10",
          "2022-05-11",
          "2022-05-12",
          "2022-05-13",
          "2022-05-14",
          "2022-05-15",
          "2022-05-16",
          "2022-05-17",
          "2022-05-18",
          "2022-05-19",
          "2022-05-20",
          "2022-05-21",
          "2022-05-22",
          "2022-05-23",
          "2022-05-24",
          "2022-05-25",
          "2022-05-26",
          "2022-05-27",
          "2022-05-28",
          "2022-05-29",
          "2022-05-30",
          "2022-05-31",
          "2022-06-01",
          "2022-06-02",
          "2022-06-03",
          "2022-06-04",
          "2022-06-05",
          "2022-06-06",
          "2022-06-07",
          "2022-06-08",
          "2022-06-09",
          "2022-06-10",
          "2022-06-11",
          "2022-06-12",
          "2022-06-13",
          "2022-06-14",
          "2022-06-15",
          "2022-06-16",
          "2022-06-17",
          "2022-06-18",
          "2022-06-19",
          "2022-06-20",
          "2022-06-21",
          "2022-06-22",
          "2022-06-23",
          "2022-06-24",
          "2022-06-25",
          "2022-06-26",
          "2022-06-27",
          "2022-06-28",
          "2022-06-29",
          "2022-06-30",
          "2022-07-01",
          "2022-07-02",
          "2022-07-03",
          "2022-07-04",
          "2022-07-05",
          "2022-07-06",
          "2022-07-07",
          "2022-07-08",
          "2022-07-09",
          "2022-07-10",
          "2022-07-11",
          "2022-07-12",
          "2022-07-13",
          "2022-07-14",
          "2022-07-15",
          "2022-07-16",
          "2022-07-17",
          "2022-07-18",
          "2022-07-19",
          "2022-07-20",
          "2022-07-21",
          "2022-07-22",
          "2022-07-23",
          "2022-07-24",
          "2022-07-25",
          "2022-07-26",
          "2022-07-27",
          "2022-07-28",
          "2022-07-29",
          "2022-07-30",
          "2022-07-31",
          "2022-08-01",
          "2022-08-02",
          "2022-08-03",
          "2022-08-04",
          "2022-08-05",
          "2022-08-06",
          "2022-08-07",
          "2022-08-08",
          "2022-08-09",
          "2022-08-10",
          "2022-08-11",
          "2022-08-12",
          "2022-08-13",
          "2022-08-14",
          "2022-08-15",
          "2022-08-16",
          "2022-08-17",
          "2022-08-18",
          "2022-08-19",
          "2022-08-20",
          "2022-08-21",
          "2022-08-22",
          "2022-08-23",
          "2022-08-24",
          "2022-08-25",
          "2022-08-26",
          "2022-08-27",
          "2022-08-28",
          "2022-08-29",
          "2022-08-30",
          "2022-08-31",
          "2022-09-01",
          "2022-09-02",
          "2022-09-03",
          "2022-09-04",
          "2022-09-05",
          "2022-09-06",
          "2022-09-07",
          "2022-09-08",
          "2022-09-09",
          "2022-09-10",
          "2022-09-11",
          "2022-09-12",
          "2022-09-13"
         ],
         "y": [
          -0.46942176458348,
          -0.1968533768530211,
          1.3699862859497423,
          0.9765621036595517,
          -1.7688358394242838,
          1.7505534688186848,
          -1.4594107200195805,
          0.5959949207906091,
          -1.3668403241865945,
          0.9859905699018002,
          -0.19256771037927173,
          0.6225660529278552,
          0.6859939167393455,
          -2.0885465583659855,
          2.2494050463631097,
          -1.5374098498418187,
          -0.8628459468736706,
          0.6585656513073497,
          0.7314219813610887,
          -2.2411162848314623,
          1.8585522639571685,
          -0.5251354287422215,
          0.8368493766153228,
          -2.4768279408876768,
          2.499687968430072,
          -0.3091378384652541,
          0.1588569404681752,
          0.7742786460985822,
          -1.7131221752655421,
          0.6979937828658438,
          0.5908521210221099,
          -1.1928422653523707,
          -0.11199718067278391,
          -0.5328496283949704,
          -0.06999764923004026,
          0.3482833986078966,
          2.2314052471733623,
          -2.1742598878409725,
          1.8799805963259153,
          -2.291687149221705,
          1.212273759715766,
          0.18628520590017106,
          -1.2331275302056146,
          0.41085412912463715,
          -0.9854160080229021,
          0.19485653884766976,
          2.5202591675040686,
          -1.1756995994573733,
          0.42542539513538496,
          0.15371414069967598,
          -0.6785622885024484,
          -0.26113837395926137,
          0.010572880476447579,
          0.45285366056738074,
          1.3425580205177465,
          0.010572880476447579,
          0.8128496443623264,
          -0.482278764004728,
          -0.7625613513879357,
          0.02685841307669512,
          0.5634238555901141,
          -0.36485150262399574,
          0.9568480378803047,
          -1.0839863369191372,
          0.4151397955983865,
          0.9662765041225533,
          0.6534228515388505,
          -0.9391308101064091,
          0.3748545307451426,
          -1.5245528504205708,
          0.22057053769016588,
          1.171988494862522,
          -2.001118962301499,
          0.8531349092155703,
          0.3517119317868961,
          1.0905608318612845,
          -1.157699800267626,
          0.4691391931676283,
          -1.0634151378451402,
          0.09114341018293541,
          0.6868510500340954,
          -0.43942209926723447,
          0.23428467040616383,
          -0.42827936643548614,
          0.6611370511915993,
          -0.1385683128100299,
          -0.49685003001547584,
          -0.38542270169799264,
          0.8985629738373134,
          -0.9991301407389,
          -0.29370943915975645,
          1.6579830729856988,
          -0.5431352279319689,
          -0.5611350271217161,
          -0.3837084351084929,
          -0.08285464865128832,
          0.9002772404268132,
          0.7185649819398406,
          -1.5896949808215608,
          0.09457194336193489,
          -0.6691338222601998,
          0.010572880476447579,
          -1.3068409935541034,
          0.649994318359851,
          -0.5654206935954655,
          0.8634205087525688,
          0.4202825953668857,
          -1.7799785722560322,
          0.11857167561493129,
          -0.2345672418220154,
          -0.1582823785892769,
          0.6259945861068547,
          -1.19712793182612,
          0.010572880476447579,
          0.010572880476447579,
          0.45285366056738074,
          -1.436268121061334,
          1.7136967371444405,
          -1.2159848643106173,
          -0.19513911026352135,
          1.18655976087327,
          -0.15742524529452703,
          0.12800014185717987,
          -1.5442669161998177,
          0.3525690650816459,
          0.19742793873191938,
          0.14000000798367804,
          -0.8748458130001687,
          1.326272487917499,
          -0.19771051014777097,
          -0.18056784425277356,
          0.8359922433205729,
          -0.8542746139261719,
          0.15628554058392558,
          1.0082760355652969,
          -0.283423839622758,
          -1.1294144015408802,
          -0.7719898176301843,
          0.18885660578442068,
          1.2894157562432544,
          -1.2254133305528658,
          0.6997080494553435,
          -0.9751304084859036,
          0.7211363818240902,
          0.14771420763642687,
          -0.003998385534300221,
          -0.8448461476839233,
          -0.4471362989199833,
          2.1319777849823773,
          -1.382268723492092,
          0.5857093212536107,
          -0.6974192209869455,
          0.4005685295876387,
          1.4239856835189841,
          -1.1894137321733713,
          -0.15999664517877665,
          0.9774192369543016,
          -1.674551177001798,
          0.9405625052800571,
          0.12028594220443102,
          0.44085379444088263,
          -0.7659898845669352,
          0.32942646612339943,
          -0.6982763542816954,
          -0.06828338264054051,
          -0.5054213629629746,
          1.941694193547906,
          0.5231385907368702,
          0.338854932365648,
          -2.3988288110654388,
          0.8668490419315682,
          -1.0291298060551455,
          0.9097057066690618,
          -0.44542203233048355,
          0.010572880476447579,
          0.010572880476447579,
          0.8874202410055652,
          -0.5337067616897203,
          0.7879927788145802,
          0.4159969288931364,
          0.8702775751105677,
          -0.7762754841039337,
          0.25914153595391004,
          -1.7156935751497917,
          1.325415354622749,
          -0.5748491598377141,
          1.311701221906751,
          -0.9442736098749083,
          0.34056919895514776,
          -1.2142705977211175,
          0.7417075808980872,
          -0.11199718067278391,
          0.014001413655447062,
          -0.9999872740336498,
          1.6982683378389427,
          -1.6839796432440466,
          1.0194187683970453,
          0.15114274081542636,
          -0.15399671211552757,
          0.11685740902543154,
          -0.26799544031726036,
          0.11257174255168219,
          -1.0008444073283997,
          1.0939893650402839,
          -0.760847084798436,
          1.5028419466359721,
          -0.11885424703078287,
          -0.1411397126942795,
          -0.49342149683647635,
          -0.31170923834950376,
          1.18655976087327,
          -2.0225472946702454,
          1.6254120077852037,
          -0.7231332198294417,
          -0.4437077657409838,
          1.3271296212122488,
          -0.6785622885024484,
          -0.22685304216926655,
          -0.03142665096629608,
          0.5462811896951166,
          0.17257107318417314,
          -0.47027889787822985,
          -0.23799577500101488,
          -1.0351297391183947,
          1.8516951975991696,
          -0.5319924951002205,
          -0.36485150262399574,
          1.040847100765792,
          -1.5459811827893175,
          -0.0279981177872966,
          1.153988695672775,
          0.5068530581366226,
          -2.283972949568956,
          1.1342746298935278,
          -0.35885156956074665,
          0.5222814574421203,
          -0.2919951725702567,
          0.03971541249794318,
          0.13485720821517883,
          -0.02885525108204647,
          0.4811390592941265,
          -1.4259825215243356,
          1.4274142166979835,
          -1.9496909646165064,
          1.974265258748401,
          -1.085700603508637,
          0.08342921053018658,
          -0.06314058287204129,
          1.1642742952097733,
          -0.9699876087174044
         ]
        },
        {
         "name": "Test",
         "type": "scatter",
         "x": [
          "2022-09-14",
          "2022-09-15",
          "2022-09-16",
          "2022-09-17",
          "2022-09-18",
          "2022-09-19",
          "2022-09-20",
          "2022-09-21",
          "2022-09-22",
          "2022-09-23",
          "2022-09-24",
          "2022-09-25",
          "2022-09-26",
          "2022-09-27",
          "2022-09-28",
          "2022-09-29",
          "2022-09-30",
          "2022-10-01",
          "2022-10-02",
          "2022-10-03",
          "2022-10-04",
          "2022-10-05",
          "2022-10-06",
          "2022-10-07",
          "2022-10-08",
          "2022-10-09",
          "2022-10-10",
          "2022-10-11",
          "2022-10-12",
          "2022-10-13",
          "2022-10-14",
          "2022-10-15",
          "2022-10-16",
          "2022-10-17",
          "2022-10-18",
          "2022-10-19",
          "2022-10-20",
          "2022-10-21",
          "2022-10-22",
          "2022-10-23",
          "2022-10-24",
          "2022-10-25",
          "2022-10-26",
          "2022-10-27",
          "2022-10-28",
          "2022-10-29",
          "2022-10-30",
          "2022-10-31",
          "2022-11-01",
          "2022-11-02",
          "2022-11-03",
          "2022-11-04",
          "2022-11-05",
          "2022-11-06",
          "2022-11-07",
          "2022-11-08",
          "2022-11-09",
          "2022-11-10",
          "2022-11-11",
          "2022-11-12",
          "2022-11-13",
          "2022-11-14",
          "2022-11-15",
          "2022-11-16",
          "2022-11-17",
          "2022-11-18",
          "2022-11-19",
          "2022-11-20",
          "2022-11-21",
          "2022-11-22",
          "2022-11-23",
          "2022-11-24",
          "2022-11-25",
          "2022-11-26",
          "2022-11-27",
          "2022-11-28",
          "2022-11-29",
          "2022-11-30",
          "2022-12-01",
          "2022-12-02",
          "2022-12-03",
          "2022-12-04",
          "2022-12-05",
          "2022-12-06",
          "2022-12-07",
          "2022-12-08",
          "2022-12-09",
          "2022-12-10",
          "2022-12-11",
          "2022-12-12",
          "2022-12-13",
          "2022-12-14",
          "2022-12-15",
          "2022-12-16",
          "2022-12-17",
          "2022-12-18",
          "2022-12-19",
          "2022-12-20",
          "2022-12-21",
          "2022-12-22",
          "2022-12-23",
          "2022-12-24",
          "2022-12-25",
          "2022-12-26",
          "2022-12-27",
          "2022-12-28",
          "2022-12-29",
          "2022-12-30"
         ],
         "y": [
          -0.12313991350453223,
          0.6705655174338478,
          -0.9014169451374148,
          -0.27656677326475904,
          -0.4334221662039854,
          0.033715479434694086,
          2.080549787297385,
          -0.35456590308699726,
          -1.118271668709132,
          1.6442689402697008,
          -0.7128476202924432,
          0.7699929796248329,
          -0.6862764881551973,
          -1.1199859352986317,
          -0.018569651545048024,
          0.2917126011544051,
          0.010572880476447579,
          0.010572880476447579,
          0.9868477031965501,
          -0.661419622607451,
          1.2842729564747553,
          -0.8628459468736706,
          0.4159969288931364,
          -0.2139960427480185,
          0.9979904360282984,
          -0.9339880103379098,
          -0.5602778938269662,
          0.23514180370091367,
          2.4799739026508245,
          -2.2745444833267072,
          0.37056886427139324,
          -0.986273141317652,
          -1.0411296721816437,
          2.5091164346723205,
          -1.5871235809373112,
          1.0717038993767873,
          -0.3502802366132479,
          -0.5525636941742175,
          -0.2859952395070076,
          0.18971373907917055,
          -0.2225673756955172,
          -0.2722811067910097,
          0.8368493766153228,
          -0.08971171500928728,
          -0.5654206935954655,
          0.78884991210933,
          0.8711347084053176,
          -0.356280169676497,
          -1.4508393870720817,
          0.5925663876116096,
          0.4434251943251322,
          -0.4274222331407363,
          0.4468537275041317,
          -0.6245628909332066,
          0.8385636432048226,
          -1.1774138660468731,
          0.5359955901581182,
          0.09114341018293541,
          0.58999498772736,
          -1.1259858683618809,
          -0.28428097291750787,
          0.007144347297448096,
          1.1282746968302788,
          0.3859972635768909,
          -1.6599799109910502,
          0.9157056397323109,
          -0.7334188193664402,
          1.9382656603689066,
          -2.371400545633443,
          0.010572880476447579,
          -1.9419767649637576,
          0.26257006913290953,
          0.010572880476447579,
          1.4676994815512274,
          1.1222747637670296,
          -0.6579910894284515,
          -0.009141185302799445,
          0.010572880476447579,
          0.010572880476447579,
          0.829135176962574,
          0.5805665214851115,
          -1.0642722711398902,
          0.6422801187071021,
          0.3568547315553953,
          0.05685807839294059,
          -0.38113703522424325,
          0.8977058405425636,
          -2.0002618290067486,
          1.332272420980748,
          0.22999900393241446,
          -0.8371319480311744,
          1.0228473015760446,
          -0.8757029462949186,
          -0.6031345585644597,
          0.6097090535066071,
          0.6534228515388505,
          -1.912834232942262,
          -0.24656710794851358,
          1.1119891642300312,
          0.9397053719853072,
          -0.7317045527769404,
          -1.091700536571886,
          0.9225627060903099,
          0.398854262998139,
          0.15114274081542636,
          -1.1259858683618809,
          0.954276637996055,
          1.2174165594842654
         ]
        },
        {
         "name": "Predicted",
         "type": "scatter",
         "x": [
          "2022-09-14",
          "2022-09-15",
          "2022-09-16",
          "2022-09-17",
          "2022-09-18",
          "2022-09-19",
          "2022-09-20",
          "2022-09-21",
          "2022-09-22",
          "2022-09-23",
          "2022-09-24",
          "2022-09-25",
          "2022-09-26",
          "2022-09-27",
          "2022-09-28",
          "2022-09-29",
          "2022-09-30",
          "2022-10-01",
          "2022-10-02",
          "2022-10-03",
          "2022-10-04",
          "2022-10-05",
          "2022-10-06",
          "2022-10-07",
          "2022-10-08",
          "2022-10-09",
          "2022-10-10",
          "2022-10-11",
          "2022-10-12",
          "2022-10-13",
          "2022-10-14",
          "2022-10-15",
          "2022-10-16",
          "2022-10-17",
          "2022-10-18",
          "2022-10-19",
          "2022-10-20",
          "2022-10-21",
          "2022-10-22",
          "2022-10-23",
          "2022-10-24",
          "2022-10-25",
          "2022-10-26",
          "2022-10-27",
          "2022-10-28",
          "2022-10-29",
          "2022-10-30",
          "2022-10-31",
          "2022-11-01",
          "2022-11-02",
          "2022-11-03",
          "2022-11-04",
          "2022-11-05",
          "2022-11-06",
          "2022-11-07",
          "2022-11-08",
          "2022-11-09",
          "2022-11-10",
          "2022-11-11",
          "2022-11-12",
          "2022-11-13",
          "2022-11-14",
          "2022-11-15",
          "2022-11-16",
          "2022-11-17",
          "2022-11-18",
          "2022-11-19",
          "2022-11-20",
          "2022-11-21",
          "2022-11-22",
          "2022-11-23",
          "2022-11-24",
          "2022-11-25",
          "2022-11-26",
          "2022-11-27",
          "2022-11-28",
          "2022-11-29",
          "2022-11-30",
          "2022-12-01",
          "2022-12-02",
          "2022-12-03",
          "2022-12-04",
          "2022-12-05",
          "2022-12-06",
          "2022-12-07",
          "2022-12-08",
          "2022-12-09",
          "2022-12-10",
          "2022-12-11",
          "2022-12-12",
          "2022-12-13",
          "2022-12-14",
          "2022-12-15",
          "2022-12-16",
          "2022-12-17",
          "2022-12-18",
          "2022-12-19",
          "2022-12-20",
          "2022-12-21",
          "2022-12-22",
          "2022-12-23",
          "2022-12-24",
          "2022-12-25",
          "2022-12-26",
          "2022-12-27",
          "2022-12-28",
          "2022-12-29",
          "2022-12-30"
         ],
         "y": [
          0.364188015460968,
          0.1759762167930603,
          0.12275619804859161,
          0.5315183997154236,
          0.24496108293533325,
          0.3701692521572113,
          0.35048192739486694,
          -0.23905585706233978,
          0.19996124505996704,
          0.48953011631965637,
          -0.15356086194515228,
          0.31277361512184143,
          -0.016636453568935394,
          0.31518974900245667,
          0.5228626728057861,
          0.1603318154811859,
          0.29554590582847595,
          0.27353715896606445,
          0.24109676480293274,
          -0.09315632283687592,
          0.5068742036819458,
          -0.10910199582576752,
          0.32034847140312195,
          0.15588538348674774,
          0.2334093302488327,
          -0.13259130716323853,
          0.2478712499141693,
          0.31974074244499207,
          0.24516116082668304,
          -0.44847699999809265,
          0.5685677528381348,
          0.16285216808319092,
          0.4035065174102783,
          0.521131694316864,
          -0.30856776237487793,
          0.4352257549762726,
          -0.1882401704788208,
          0.19186019897460938,
          0.2900959849357605,
          0.2277638018131256,
          0.17289721965789795,
          0.31714344024658203,
          0.3750593066215515,
          0.004525728523731232,
          0.2806853950023651,
          0.40294918417930603,
          0.12156183272600174,
          -0.04980578273534775,
          0.2719765603542328,
          0.5283743143081665,
          0.2569510042667389,
          0.18072666227817535,
          0.41133150458335876,
          0.10249891132116318,
          0.2575683295726776,
          0.2426237165927887,
          0.5319584608078003,
          0.22026482224464417,
          0.326058954000473,
          0.13762269914150238,
          0.4840742349624634,
          0.3470035195350647,
          0.3676387071609497,
          -0.03977005556225777,
          0.10436839610338211,
          0.6620227694511414,
          0.04031839221715927,
          0.4508035182952881,
          -0.19400924444198608,
          0.8564441800117493,
          0.23014889657497406,
          0.7492468357086182,
          0.401529461145401,
          0.4217883050441742,
          0.02521594613790512,
          -0.06553126126527786,
          0.4902597963809967,
          0.21500732004642487,
          0.2171608805656433,
          0.2847493290901184,
          0.11242005974054337,
          0.0037483498454093933,
          0.3482808768749237,
          0.0746578574180603,
          0.11636112630367279,
          0.16535818576812744,
          0.22842608392238617,
          -0.01267903484404087,
          0.584891140460968,
          -0.01026318222284317,
          0.1277962028980255,
          0.3187764585018158,
          -0.28408655524253845,
          0.23310044407844543,
          0.22577373683452606,
          0.027757912874221802,
          0.03246638923883438,
          0.7029510140419006,
          0.32851096987724304,
          -0.06080148369073868,
          -0.044786229729652405,
          0.40013188123703003,
          0.519658625125885,
          -0.04456533119082451,
          0.21643376350402832,
          0.21357379853725433,
          0.5065179467201233,
          0.06515766680240631
         ]
        }
       ],
       "layout": {
        "template": {
         "data": {
          "bar": [
           {
            "error_x": {
             "color": "#2a3f5f"
            },
            "error_y": {
             "color": "#2a3f5f"
            },
            "marker": {
             "line": {
              "color": "#E5ECF6",
              "width": 0.5
             },
             "pattern": {
              "fillmode": "overlay",
              "size": 10,
              "solidity": 0.2
             }
            },
            "type": "bar"
           }
          ],
          "barpolar": [
           {
            "marker": {
             "line": {
              "color": "#E5ECF6",
              "width": 0.5
             },
             "pattern": {
              "fillmode": "overlay",
              "size": 10,
              "solidity": 0.2
             }
            },
            "type": "barpolar"
           }
          ],
          "carpet": [
           {
            "aaxis": {
             "endlinecolor": "#2a3f5f",
             "gridcolor": "white",
             "linecolor": "white",
             "minorgridcolor": "white",
             "startlinecolor": "#2a3f5f"
            },
            "baxis": {
             "endlinecolor": "#2a3f5f",
             "gridcolor": "white",
             "linecolor": "white",
             "minorgridcolor": "white",
             "startlinecolor": "#2a3f5f"
            },
            "type": "carpet"
           }
          ],
          "choropleth": [
           {
            "colorbar": {
             "outlinewidth": 0,
             "ticks": ""
            },
            "type": "choropleth"
           }
          ],
          "contour": [
           {
            "colorbar": {
             "outlinewidth": 0,
             "ticks": ""
            },
            "colorscale": [
             [
              0,
              "#0d0887"
             ],
             [
              0.1111111111111111,
              "#46039f"
             ],
             [
              0.2222222222222222,
              "#7201a8"
             ],
             [
              0.3333333333333333,
              "#9c179e"
             ],
             [
              0.4444444444444444,
              "#bd3786"
             ],
             [
              0.5555555555555556,
              "#d8576b"
             ],
             [
              0.6666666666666666,
              "#ed7953"
             ],
             [
              0.7777777777777778,
              "#fb9f3a"
             ],
             [
              0.8888888888888888,
              "#fdca26"
             ],
             [
              1,
              "#f0f921"
             ]
            ],
            "type": "contour"
           }
          ],
          "contourcarpet": [
           {
            "colorbar": {
             "outlinewidth": 0,
             "ticks": ""
            },
            "type": "contourcarpet"
           }
          ],
          "heatmap": [
           {
            "colorbar": {
             "outlinewidth": 0,
             "ticks": ""
            },
            "colorscale": [
             [
              0,
              "#0d0887"
             ],
             [
              0.1111111111111111,
              "#46039f"
             ],
             [
              0.2222222222222222,
              "#7201a8"
             ],
             [
              0.3333333333333333,
              "#9c179e"
             ],
             [
              0.4444444444444444,
              "#bd3786"
             ],
             [
              0.5555555555555556,
              "#d8576b"
             ],
             [
              0.6666666666666666,
              "#ed7953"
             ],
             [
              0.7777777777777778,
              "#fb9f3a"
             ],
             [
              0.8888888888888888,
              "#fdca26"
             ],
             [
              1,
              "#f0f921"
             ]
            ],
            "type": "heatmap"
           }
          ],
          "heatmapgl": [
           {
            "colorbar": {
             "outlinewidth": 0,
             "ticks": ""
            },
            "colorscale": [
             [
              0,
              "#0d0887"
             ],
             [
              0.1111111111111111,
              "#46039f"
             ],
             [
              0.2222222222222222,
              "#7201a8"
             ],
             [
              0.3333333333333333,
              "#9c179e"
             ],
             [
              0.4444444444444444,
              "#bd3786"
             ],
             [
              0.5555555555555556,
              "#d8576b"
             ],
             [
              0.6666666666666666,
              "#ed7953"
             ],
             [
              0.7777777777777778,
              "#fb9f3a"
             ],
             [
              0.8888888888888888,
              "#fdca26"
             ],
             [
              1,
              "#f0f921"
             ]
            ],
            "type": "heatmapgl"
           }
          ],
          "histogram": [
           {
            "marker": {
             "pattern": {
              "fillmode": "overlay",
              "size": 10,
              "solidity": 0.2
             }
            },
            "type": "histogram"
           }
          ],
          "histogram2d": [
           {
            "colorbar": {
             "outlinewidth": 0,
             "ticks": ""
            },
            "colorscale": [
             [
              0,
              "#0d0887"
             ],
             [
              0.1111111111111111,
              "#46039f"
             ],
             [
              0.2222222222222222,
              "#7201a8"
             ],
             [
              0.3333333333333333,
              "#9c179e"
             ],
             [
              0.4444444444444444,
              "#bd3786"
             ],
             [
              0.5555555555555556,
              "#d8576b"
             ],
             [
              0.6666666666666666,
              "#ed7953"
             ],
             [
              0.7777777777777778,
              "#fb9f3a"
             ],
             [
              0.8888888888888888,
              "#fdca26"
             ],
             [
              1,
              "#f0f921"
             ]
            ],
            "type": "histogram2d"
           }
          ],
          "histogram2dcontour": [
           {
            "colorbar": {
             "outlinewidth": 0,
             "ticks": ""
            },
            "colorscale": [
             [
              0,
              "#0d0887"
             ],
             [
              0.1111111111111111,
              "#46039f"
             ],
             [
              0.2222222222222222,
              "#7201a8"
             ],
             [
              0.3333333333333333,
              "#9c179e"
             ],
             [
              0.4444444444444444,
              "#bd3786"
             ],
             [
              0.5555555555555556,
              "#d8576b"
             ],
             [
              0.6666666666666666,
              "#ed7953"
             ],
             [
              0.7777777777777778,
              "#fb9f3a"
             ],
             [
              0.8888888888888888,
              "#fdca26"
             ],
             [
              1,
              "#f0f921"
             ]
            ],
            "type": "histogram2dcontour"
           }
          ],
          "mesh3d": [
           {
            "colorbar": {
             "outlinewidth": 0,
             "ticks": ""
            },
            "type": "mesh3d"
           }
          ],
          "parcoords": [
           {
            "line": {
             "colorbar": {
              "outlinewidth": 0,
              "ticks": ""
             }
            },
            "type": "parcoords"
           }
          ],
          "pie": [
           {
            "automargin": true,
            "type": "pie"
           }
          ],
          "scatter": [
           {
            "fillpattern": {
             "fillmode": "overlay",
             "size": 10,
             "solidity": 0.2
            },
            "type": "scatter"
           }
          ],
          "scatter3d": [
           {
            "line": {
             "colorbar": {
              "outlinewidth": 0,
              "ticks": ""
             }
            },
            "marker": {
             "colorbar": {
              "outlinewidth": 0,
              "ticks": ""
             }
            },
            "type": "scatter3d"
           }
          ],
          "scattercarpet": [
           {
            "marker": {
             "colorbar": {
              "outlinewidth": 0,
              "ticks": ""
             }
            },
            "type": "scattercarpet"
           }
          ],
          "scattergeo": [
           {
            "marker": {
             "colorbar": {
              "outlinewidth": 0,
              "ticks": ""
             }
            },
            "type": "scattergeo"
           }
          ],
          "scattergl": [
           {
            "marker": {
             "colorbar": {
              "outlinewidth": 0,
              "ticks": ""
             }
            },
            "type": "scattergl"
           }
          ],
          "scattermapbox": [
           {
            "marker": {
             "colorbar": {
              "outlinewidth": 0,
              "ticks": ""
             }
            },
            "type": "scattermapbox"
           }
          ],
          "scatterpolar": [
           {
            "marker": {
             "colorbar": {
              "outlinewidth": 0,
              "ticks": ""
             }
            },
            "type": "scatterpolar"
           }
          ],
          "scatterpolargl": [
           {
            "marker": {
             "colorbar": {
              "outlinewidth": 0,
              "ticks": ""
             }
            },
            "type": "scatterpolargl"
           }
          ],
          "scatterternary": [
           {
            "marker": {
             "colorbar": {
              "outlinewidth": 0,
              "ticks": ""
             }
            },
            "type": "scatterternary"
           }
          ],
          "surface": [
           {
            "colorbar": {
             "outlinewidth": 0,
             "ticks": ""
            },
            "colorscale": [
             [
              0,
              "#0d0887"
             ],
             [
              0.1111111111111111,
              "#46039f"
             ],
             [
              0.2222222222222222,
              "#7201a8"
             ],
             [
              0.3333333333333333,
              "#9c179e"
             ],
             [
              0.4444444444444444,
              "#bd3786"
             ],
             [
              0.5555555555555556,
              "#d8576b"
             ],
             [
              0.6666666666666666,
              "#ed7953"
             ],
             [
              0.7777777777777778,
              "#fb9f3a"
             ],
             [
              0.8888888888888888,
              "#fdca26"
             ],
             [
              1,
              "#f0f921"
             ]
            ],
            "type": "surface"
           }
          ],
          "table": [
           {
            "cells": {
             "fill": {
              "color": "#EBF0F8"
             },
             "line": {
              "color": "white"
             }
            },
            "header": {
             "fill": {
              "color": "#C8D4E3"
             },
             "line": {
              "color": "white"
             }
            },
            "type": "table"
           }
          ]
         },
         "layout": {
          "annotationdefaults": {
           "arrowcolor": "#2a3f5f",
           "arrowhead": 0,
           "arrowwidth": 1
          },
          "autotypenumbers": "strict",
          "coloraxis": {
           "colorbar": {
            "outlinewidth": 0,
            "ticks": ""
           }
          },
          "colorscale": {
           "diverging": [
            [
             0,
             "#8e0152"
            ],
            [
             0.1,
             "#c51b7d"
            ],
            [
             0.2,
             "#de77ae"
            ],
            [
             0.3,
             "#f1b6da"
            ],
            [
             0.4,
             "#fde0ef"
            ],
            [
             0.5,
             "#f7f7f7"
            ],
            [
             0.6,
             "#e6f5d0"
            ],
            [
             0.7,
             "#b8e186"
            ],
            [
             0.8,
             "#7fbc41"
            ],
            [
             0.9,
             "#4d9221"
            ],
            [
             1,
             "#276419"
            ]
           ],
           "sequential": [
            [
             0,
             "#0d0887"
            ],
            [
             0.1111111111111111,
             "#46039f"
            ],
            [
             0.2222222222222222,
             "#7201a8"
            ],
            [
             0.3333333333333333,
             "#9c179e"
            ],
            [
             0.4444444444444444,
             "#bd3786"
            ],
            [
             0.5555555555555556,
             "#d8576b"
            ],
            [
             0.6666666666666666,
             "#ed7953"
            ],
            [
             0.7777777777777778,
             "#fb9f3a"
            ],
            [
             0.8888888888888888,
             "#fdca26"
            ],
            [
             1,
             "#f0f921"
            ]
           ],
           "sequentialminus": [
            [
             0,
             "#0d0887"
            ],
            [
             0.1111111111111111,
             "#46039f"
            ],
            [
             0.2222222222222222,
             "#7201a8"
            ],
            [
             0.3333333333333333,
             "#9c179e"
            ],
            [
             0.4444444444444444,
             "#bd3786"
            ],
            [
             0.5555555555555556,
             "#d8576b"
            ],
            [
             0.6666666666666666,
             "#ed7953"
            ],
            [
             0.7777777777777778,
             "#fb9f3a"
            ],
            [
             0.8888888888888888,
             "#fdca26"
            ],
            [
             1,
             "#f0f921"
            ]
           ]
          },
          "colorway": [
           "#636efa",
           "#EF553B",
           "#00cc96",
           "#ab63fa",
           "#FFA15A",
           "#19d3f3",
           "#FF6692",
           "#B6E880",
           "#FF97FF",
           "#FECB52"
          ],
          "font": {
           "color": "#2a3f5f"
          },
          "geo": {
           "bgcolor": "white",
           "lakecolor": "white",
           "landcolor": "#E5ECF6",
           "showlakes": true,
           "showland": true,
           "subunitcolor": "white"
          },
          "hoverlabel": {
           "align": "left"
          },
          "hovermode": "closest",
          "mapbox": {
           "style": "light"
          },
          "paper_bgcolor": "white",
          "plot_bgcolor": "#E5ECF6",
          "polar": {
           "angularaxis": {
            "gridcolor": "white",
            "linecolor": "white",
            "ticks": ""
           },
           "bgcolor": "#E5ECF6",
           "radialaxis": {
            "gridcolor": "white",
            "linecolor": "white",
            "ticks": ""
           }
          },
          "scene": {
           "xaxis": {
            "backgroundcolor": "#E5ECF6",
            "gridcolor": "white",
            "gridwidth": 2,
            "linecolor": "white",
            "showbackground": true,
            "ticks": "",
            "zerolinecolor": "white"
           },
           "yaxis": {
            "backgroundcolor": "#E5ECF6",
            "gridcolor": "white",
            "gridwidth": 2,
            "linecolor": "white",
            "showbackground": true,
            "ticks": "",
            "zerolinecolor": "white"
           },
           "zaxis": {
            "backgroundcolor": "#E5ECF6",
            "gridcolor": "white",
            "gridwidth": 2,
            "linecolor": "white",
            "showbackground": true,
            "ticks": "",
            "zerolinecolor": "white"
           }
          },
          "shapedefaults": {
           "line": {
            "color": "#2a3f5f"
           }
          },
          "ternary": {
           "aaxis": {
            "gridcolor": "white",
            "linecolor": "white",
            "ticks": ""
           },
           "baxis": {
            "gridcolor": "white",
            "linecolor": "white",
            "ticks": ""
           },
           "bgcolor": "#E5ECF6",
           "caxis": {
            "gridcolor": "white",
            "linecolor": "white",
            "ticks": ""
           }
          },
          "title": {
           "x": 0.05
          },
          "xaxis": {
           "automargin": true,
           "gridcolor": "white",
           "linecolor": "white",
           "ticks": "",
           "title": {
            "standoff": 15
           },
           "zerolinecolor": "white",
           "zerolinewidth": 2
          },
          "yaxis": {
           "automargin": true,
           "gridcolor": "white",
           "linecolor": "white",
           "ticks": "",
           "title": {
            "standoff": 15
           },
           "zerolinecolor": "white",
           "zerolinewidth": 2
          }
         }
        },
        "title": {
         "text": " rivers_transactions Aggregated NNet & tsfresh. MAE=0.7351"
        }
       }
      }
     },
     "metadata": {},
     "output_type": "display_data"
    }
   ],
   "source": [
    "avg_model = avg_models(models)\n",
    "for ts in tss:\n",
    "    X_train, X_test, y_train, y_test = extractor_ts(ts, best_features=best_features)\n",
    "    X_train = X_train.merge(calendar, left_index=True, right_index=True)\n",
    "    X_test = X_test.merge(calendar, left_index=True, right_index=True)\n",
    "\n",
    "    # train_history, history = train(avg_model, X_train, X_test, y_train, y_test)\n",
    "    dfX_train = X_train\n",
    "    dfX_test = X_test\n",
    "    dfy_train = y_train\n",
    "    dfy_test = y_test\n",
    "\n",
    "    dfy_pred = pd.Series(avg_model(torch.tensor(X_test.values, dtype=torch.float32)).detach(\n",
    "    ).numpy().reshape(-1), index=dfy_test.index)\n",
    "\n",
    "    mae = MAE(dfy_test, dfy_pred)\n",
    "    training_result.loc[ts.name, 'aggr'] = np.round(mae, 2)\n",
    "    fig = go.Figure()\n",
    "    fig.update_layout(\n",
    "        title_text=f\" {ts.name} Aggregated NNet & tsfresh. MAE={MAE(dfy_test, dfy_pred):.4f}\")\n",
    "    fig.add_trace(go.Scatter(x=dfy_train.index, y=dfy_train, name=\"Train\"))\n",
    "    fig.add_trace(go.Scatter(x=dfy_test.index, y=dfy_test, name=\"Test\"))\n",
    "    fig.add_trace(go.Scatter(x=dfy_pred.index, y=dfy_pred, name=\"Predicted\"))\n",
    "    fig.show()"
   ]
  },
  {
   "cell_type": "code",
   "execution_count": 24,
   "metadata": {},
   "outputs": [
    {
     "data": {
      "text/plain": [
       "<AxesSubplot: >"
      ]
     },
     "execution_count": 24,
     "metadata": {},
     "output_type": "execute_result"
    },
    {
     "data": {
      "image/png": "[encoded data removed]",
      "text/plain": [
       "<Figure size 640x480 with 2 Axes>"
      ]
     },
     "metadata": {},
     "output_type": "display_data"
    }
   ],
   "source": [
    "training_result=training_result.astype(float)\n",
    "sns.heatmap(training_result,cmap=\"Blues\", annot=True)"
   ]
  },
  {
   "cell_type": "code",
   "execution_count": null,
   "metadata": {},
   "outputs": [],
   "source": []
  }
 ],
 "metadata": {
  "kernelspec": {
   "display_name": "Python 3",
   "language": "python",
   "name": "python3"
  },
  "language_info": {
   "codemirror_mode": {
    "name": "ipython",
    "version": 3
   },
   "file_extension": ".py",
   "mimetype": "text/x-python",
   "name": "python",
   "nbconvert_exporter": "python",
   "pygments_lexer": "ipython3",
   "version": "3.10.12"
  }
 },
 "nbformat": 4,
 "nbformat_minor": 2
}
