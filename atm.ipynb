{
 "cells": [
  {
   "cell_type": "markdown",
   "metadata": {},
   "source": [
    "ATM"
   ]
  },
  {
   "cell_type": "code",
   "execution_count": 1,
   "metadata": {},
   "outputs": [
    {
     "data": {
      "text/plain": [
       "['./Datasets/wisabi/enugu_transactions.csv',\n",
       " './Datasets/wisabi/fct_transactions.csv',\n",
       " './Datasets/wisabi/kano_transactions.csv',\n",
       " './Datasets/wisabi/lagos_transactions.csv',\n",
       " './Datasets/wisabi/rivers_transactions.csv']"
      ]
     },
     "execution_count": 1,
     "metadata": {},
     "output_type": "execute_result"
    }
   ],
   "source": [
    "from os import listdir\n",
    "from os.path import isfile, join\n",
    "import pandas as pd\n",
    "import numpy as np\n",
    "import matplotlib.pyplot as plt\n",
    "\n",
    "import plotly.express as px\n",
    "import plotly.graph_objects as go\n",
    "from IPython.display import Markdown as md\n",
    "\n",
    "import seaborn as sns\n",
    "from tsfresh.feature_extraction import settings\n",
    "from tsfresh import extract_features, extract_relevant_features, select_features\n",
    "from tsfresh.utilities.dataframe_functions import (\n",
    "    impute,\n",
    "    make_forecasting_frame,\n",
    "    roll_time_series,\n",
    ")\n",
    "from tsfresh.feature_extraction import (\n",
    "    ComprehensiveFCParameters,\n",
    "    MinimalFCParameters,\n",
    "    EfficientFCParameters,\n",
    "    settings,\n",
    ")\n",
    "from sklearn.model_selection import train_test_split\n",
    "\n",
    "from sklearn.metrics import (\n",
    "    max_error as ME,\n",
    "    mean_absolute_error as MAE,\n",
    "    mean_absolute_percentage_error as MAPE,\n",
    ")\n",
    "\n",
    "from sklearn.preprocessing import StandardScaler\n",
    "\n",
    "mypath = \"./Datasets/wisabi\"\n",
    "files = [\n",
    "    join(mypath, f)\n",
    "    for f in listdir(mypath)\n",
    "    if isfile(join(mypath, f)) and \"transactions.csv\" in f\n",
    "]\n",
    "files"
   ]
  },
  {
   "cell_type": "code",
   "execution_count": 2,
   "metadata": {},
   "outputs": [],
   "source": [
    "dfs = list(zip(map(pd.read_csv, files), files))"
   ]
  },
  {
   "cell_type": "code",
   "execution_count": 3,
   "metadata": {},
   "outputs": [],
   "source": [
    "full_calendar = pd.read_csv(mypath+'/calendar lookup.csv', index_col='Date')\n",
    "full_calendar.index = pd.to_datetime(full_calendar.index).date\n",
    "cols = ['IsHoliday','Day Name']\n",
    "calendar  = full_calendar[cols]\n",
    "calendar = pd.get_dummies(calendar,drop_first=True)\n",
    "# calendar"
   ]
  },
  {
   "cell_type": "code",
   "execution_count": 4,
   "metadata": {},
   "outputs": [],
   "source": [
    "import multiprocessing\n",
    "pool = multiprocessing.Pool()\n",
    "\n",
    "\n",
    "def transactions_to_cash_ts(args):\n",
    "    df, file = args\n",
    "    for c in [\"TransactionStartDateTime\", \"TransactionEndDateTime\"]:\n",
    "        df[c] = pd.to_datetime(df[c])\n",
    "    df = df.drop(columns=[\"CardholderID\", \"LocationID\"])\n",
    "    df = df[df.TransactionTypeID.isin([1, 2])]\n",
    "    df[\"date\"] = df.TransactionStartDateTime.dt.date  # .round(\"H\")\n",
    "    df.drop(\n",
    "        columns=[\"TransactionStartDateTime\", \"TransactionEndDateTime\"], inplace=True\n",
    "    )\n",
    "    df.loc[df.TransactionTypeID == 2, \"TransactionAmount\"] *= -1\n",
    "    df = df.drop(columns=\"TransactionTypeID\")\n",
    "    ts = df.groupby(\"date\").sum().TransactionAmount\n",
    "    # ts = pd.Series(df.TransactionAmount, index = df.date)\n",
    "    ts.name = file.split(\"/\")[-1].split(\".\")[0]\n",
    "    # ts = ts.to_frame()#.merge(calendar, left_index=True, right_index=True)\n",
    "    # ts.index = pd.to_datetime(ts.index).date\n",
    "    return ts"
   ]
  },
  {
   "cell_type": "code",
   "execution_count": null,
   "metadata": {},
   "outputs": [],
   "source": []
  },
  {
   "cell_type": "code",
   "execution_count": 5,
   "metadata": {},
   "outputs": [],
   "source": [
    "tss = list(map(transactions_to_cash_ts, dfs))\n"
   ]
  },
  {
   "cell_type": "code",
   "execution_count": 6,
   "metadata": {},
   "outputs": [],
   "source": [
    "# for ts in tss:\n",
    "#     ts.plot()\n",
    "#     plt.title(ts.name)\n",
    "#     plt.show()"
   ]
  },
  {
   "cell_type": "code",
   "execution_count": 47,
   "metadata": {},
   "outputs": [],
   "source": [
    "def extractor_ts(ts_inp, best_features=None):\n",
    "    ts = ts_inp.diff().dropna()\n",
    "    med = ts.median()  # TODO более аккуратно\n",
    "    ts.loc[ts.sort_values().head(7).index] = med\n",
    "    ts.loc[ts.sort_values().tail(7).index] = med\n",
    "    common_name = \"transaction\"\n",
    "\n",
    "    scaler = StandardScaler()\n",
    "    ts_scaled = pd.Series(\n",
    "        scaler.fit_transform(ts.values.reshape(-1, 1)).reshape(-1),\n",
    "        index=ts.index,\n",
    "        name=common_name#ts.name,\n",
    "    )\n",
    "    ts = ts_scaled\n",
    "    dfts = ts.to_frame()\n",
    "    dfts[\"id\"] = common_name#ts.name\n",
    "    dfts.reset_index(inplace=True)\n",
    "    df_rolled = roll_time_series(\n",
    "        dfts, column_id=\"id\", column_sort=\"date\", max_timeshift=20, min_timeshift=5\n",
    "    )\n",
    "    # каждый момент времени описываем окном длины не больше 20, окна длины меньше чем 5 отбрасываем\n",
    "    name = ts.name\n",
    "    X = extract_features(\n",
    "        df_rolled,\n",
    "        column_id=\"id\",\n",
    "        column_sort=\"date\",\n",
    "        column_value=common_name,#name,\n",
    "        impute_function=impute,\n",
    "        show_warnings=False,\n",
    "        default_fc_parameters=extraction_settings,\n",
    "    )\n",
    "    X = X.set_index(X.index.map(lambda x: x[1])).copy()\n",
    "    # if best_features is not None:\n",
    "    #     X = X.loc[:, best_features]\n",
    "    # return X\n",
    "\n",
    "    X[name] = ts[X.index]  # добавялем оригинальный ряд\n",
    "    X[\"y\"] = X[name].shift(-horizon)\n",
    "    # # добавляем target - оригинальный ряд смещенный на 1 в будущее\n",
    "    df = X.dropna().copy()\n",
    "    y = df.y\n",
    "    df.drop(\"y\", axis=1, inplace=True)\n",
    "\n",
    "    if best_features is not None:\n",
    "        df = df[best_features]\n",
    "    # df = df.merge(calendar, left_index=True, right_index=True)\n",
    "    X = df\n",
    "    \n",
    "    X_train, X_test, y_train, y_test = train_test_split(\n",
    "        X, y, test_size=0.3, shuffle=False)\n",
    "    return X_train, X_test, y_train, y_test"
   ]
  },
  {
   "cell_type": "markdown",
   "metadata": {},
   "source": [
    "Extraction settings"
   ]
  },
  {
   "cell_type": "code",
   "execution_count": 48,
   "metadata": {},
   "outputs": [
    {
     "data": {
      "text/plain": [
       "10"
      ]
     },
     "execution_count": 48,
     "metadata": {},
     "output_type": "execute_result"
    }
   ],
   "source": [
    "# extraction_settings = EfficientFCParameters()\n",
    "# extraction_settings = ComprehensiveFCParameters()\n",
    "# del extraction_settings[\"friedrich_coefficients\"]\n",
    "# del extraction_settings[\"max_langevin_fixed_point\"]\n",
    "extraction_settings = MinimalFCParameters()\n",
    "\n",
    "horizon = 1\n",
    "len(extraction_settings)\n"
   ]
  },
  {
   "cell_type": "markdown",
   "metadata": {},
   "source": [
    "Best features"
   ]
  },
  {
   "cell_type": "code",
   "execution_count": 49,
   "metadata": {},
   "outputs": [
    {
     "name": "stderr",
     "output_type": "stream",
     "text": [
      "Rolling: 100%|██████████| 20/20 [00:00<00:00, 62.63it/s]\n",
      "Feature Extraction: 100%|██████████| 20/20 [00:00<00:00, 106.82it/s]\n"
     ]
    },
    {
     "data": {
      "text/plain": [
       "11"
      ]
     },
     "execution_count": 49,
     "metadata": {},
     "output_type": "execute_result"
    }
   ],
   "source": [
    "X_train, X_test, y_train, y_test = extractor_ts(tss[0])\n",
    "X_train_selected = select_features(X_train, y_train)\n",
    "# best_features=X_train_selected.columns\n",
    "best_features=list(X_train.columns)#+list(calendar.columns)\n",
    "len(best_features)"
   ]
  },
  {
   "cell_type": "markdown",
   "metadata": {},
   "source": [
    "#### Boosting"
   ]
  },
  {
   "cell_type": "code",
   "execution_count": 50,
   "metadata": {},
   "outputs": [],
   "source": [
    "# from catboost import CatBoostRegressor\n",
    "# model = CatBoostRegressor(silent=True).fit(X_train, y_train)\n",
    "# y_pred = pd.Series(model.predict(X_test), index=X_test.index)\n",
    "# y_pred_dumb = y_test.shift(1)\n",
    "# MAE(y_test[1:], y_pred_dumb[1:]),MAE(y_test, y_pred)"
   ]
  },
  {
   "cell_type": "markdown",
   "metadata": {},
   "source": [
    "Boosting plot"
   ]
  },
  {
   "cell_type": "code",
   "execution_count": 51,
   "metadata": {},
   "outputs": [],
   "source": [
    "# fig = go.Figure()\n",
    "# fig.update_layout(title_text=f\"CatBoost & tsfresh. MAE={MAE(y_test, y_pred):.4f}\")\n",
    "# fig.add_trace(go.Scatter(x=y_train.index, y=y_train, name=\"Train\"))\n",
    "# fig.add_trace(go.Scatter(x=y_test.index, y=y_test, name=\"Test\"))\n",
    "# fig.add_trace(go.Scatter(x=y_pred.index, y=y_pred, name=\"Predicted\"))"
   ]
  },
  {
   "cell_type": "markdown",
   "metadata": {},
   "source": [
    "#### Torch"
   ]
  },
  {
   "cell_type": "code",
   "execution_count": 52,
   "metadata": {},
   "outputs": [],
   "source": [
    "from datasets import load_dataset, load_from_disk\n",
    "import pandas as pd\n",
    "from transformers import Trainer\n",
    "from transformers import TrainingArguments\n",
    "from transformers import EncoderDecoderModel\n",
    "from transformers import BertTokenizer\n",
    "import numpy as np\n",
    "import os\n",
    "import random\n",
    "import gc\n",
    "import torch\n",
    "import torch.nn as nn\n",
    "import torch.optim as optim\n",
    "import shutil\n",
    "from tqdm import tqdm\n",
    "\n",
    "torch.cuda.empty_cache()\n",
    "gc.collect()\n",
    "\n",
    "SEED = 42\n",
    "\n",
    "\n",
    "def seed_everything(seed=SEED):\n",
    "    random.seed(seed)\n",
    "    os.environ[\"PYTHONHASHSEED\"] = str(seed)\n",
    "    np.random.seed(seed)\n",
    "    torch.manual_seed(seed)\n",
    "    torch.backends.cudnn.deterministic = True\n",
    "    torch.backends.cudnn.benchmark = False\n",
    "\n",
    "\n",
    "torch.backends.cudnn.deterministic = True\n",
    "seed_everything(SEED)\n",
    "device = torch.device(\"cuda:0\" if torch.cuda.is_available() else \"cpu\")"
   ]
  },
  {
   "cell_type": "code",
   "execution_count": 53,
   "metadata": {},
   "outputs": [],
   "source": [
    "# X_train, X_test, y_train, y_test = train_test_split(X, y, test_size=0.3, shuffle=False)\n"
   ]
  },
  {
   "cell_type": "markdown",
   "metadata": {},
   "source": [
    "model"
   ]
  },
  {
   "cell_type": "code",
   "execution_count": 54,
   "metadata": {},
   "outputs": [
    {
     "data": {
      "text/plain": [
       "(365, 7)"
      ]
     },
     "execution_count": 54,
     "metadata": {},
     "output_type": "execute_result"
    }
   ],
   "source": [
    "calendar.shape"
   ]
  },
  {
   "cell_type": "code",
   "execution_count": 90,
   "metadata": {},
   "outputs": [],
   "source": [
    "# feat_cnt = len(best_features)+calendar.shape[1] #X_train.shape[1]\n",
    "def get_model(feat_cnt):\n",
    "    model = nn.Sequential(\n",
    "        nn.Linear(feat_cnt, 1),\n",
    "        # nn.ReLU(),\n",
    "        # nn.Linear(10, 1),\n",
    "        # nn.ReLU(),\n",
    "        # nn.Linear(24, 6),\n",
    "        # nn.ReLU(),\n",
    "        # nn.Linear(6, 1),\n",
    "    )\n",
    "    return model\n",
    "# feat_cnt"
   ]
  },
  {
   "cell_type": "code",
   "execution_count": 91,
   "metadata": {},
   "outputs": [],
   "source": [
    "import copy\n",
    "\n",
    "\n",
    "epochs = 400  # number of epochs to run\n",
    "batchSize = 20  # size of each batch\n",
    "\n",
    "def train(model, X_train, X_test, y_train, y_test):\n",
    "    lossFunction = nn.MSELoss()  # mean square error\n",
    "    optimizer = optim.Adam(model.parameters(), lr=0.001)\n",
    "\n",
    "\n",
    "    X_train = torch.tensor(X_train.values, dtype=torch.float32)\n",
    "    y_train = torch.tensor(y_train.values, dtype=torch.float32).reshape(-1, 1)\n",
    "    X_test = torch.tensor(X_test.values, dtype=torch.float32)\n",
    "    y_test = torch.tensor(y_test.values, dtype=torch.float32).reshape(-1, 1)\n",
    "\n",
    "    # Hold the best model\n",
    "    best_mse = np.inf  # init to infinity\n",
    "    best_weights = None\n",
    "    history = []\n",
    "    train_history = []\n",
    "\n",
    "    \n",
    "    size = X_train.shape[0]#TODO X?\n",
    "    # my redone training loop\n",
    "    for epoch in range(epochs):\n",
    "        model.train()\n",
    "\n",
    "        index = 0\n",
    "\n",
    "        while index * batchSize <= size:\n",
    "            # take a batch\n",
    "            X_batch = X_train[index: index + batchSize]\n",
    "            y_batch = y_train[index: index + batchSize]\n",
    "\n",
    "            # forward pass\n",
    "            y_pred = model(X_batch)\n",
    "\n",
    "            # print(y_pred)\n",
    "            loss = lossFunction(y_pred, y_batch)\n",
    "            # backward pass\n",
    "            optimizer.zero_grad()\n",
    "            loss.backward()\n",
    "            # update weights\n",
    "            optimizer.step()\n",
    "\n",
    "            index += batchSize\n",
    "\n",
    "        # evaluate accuracy at end of each epoch\n",
    "        model.eval()\n",
    "        train_pred = model(X_train)\n",
    "        train_history.append(float(lossFunction(train_pred, y_train)))\n",
    "        y_pred = model(X_test)\n",
    "        mse = lossFunction(y_pred, y_test)\n",
    "        mse = float(mse)\n",
    "        history.append(mse)\n",
    "        if mse < best_mse:\n",
    "            # print(f\"best mse is {mse} on epoch {epoch}\")\n",
    "            best_mse = mse\n",
    "\n",
    "            # save the best weights\n",
    "            best_weights = copy.deepcopy(model.state_dict())\n",
    "\n",
    "    # restore model and return best accuracy\n",
    "    model.load_state_dict(best_weights)\n",
    "    return train_history, history"
   ]
  },
  {
   "cell_type": "code",
   "execution_count": 92,
   "metadata": {},
   "outputs": [],
   "source": [
    "# plt.plot(history)\n",
    "# plt.title(\"test MSE evolution by Epoch\")\n",
    "# plt.xlabel(\"MSE\")\n",
    "# plt.ylabel(\"Epoch\")"
   ]
  },
  {
   "cell_type": "markdown",
   "metadata": {},
   "source": [
    "Torch plots"
   ]
  },
  {
   "cell_type": "code",
   "execution_count": 93,
   "metadata": {},
   "outputs": [],
   "source": [
    "# fig = go.Figure()\n",
    "# fig.update_layout(title_text=f\"NNet & tsfresh. MAE={MAE(dfy_test, dfy_pred):.4f}\")\n",
    "# fig.add_trace(go.Scatter(x=dfy_train.index, y=dfy_train, name=\"Train\"))\n",
    "# fig.add_trace(go.Scatter(x=dfy_test.index, y=dfy_test, name=\"Test\"))\n",
    "# fig.add_trace(go.Scatter(x=dfy_pred.index, y=dfy_pred, name=\"Predicted\"))"
   ]
  },
  {
   "cell_type": "markdown",
   "metadata": {},
   "source": [
    "### FL"
   ]
  },
  {
   "cell_type": "code",
   "execution_count": null,
   "metadata": {},
   "outputs": [],
   "source": []
  },
  {
   "cell_type": "code",
   "execution_count": 94,
   "metadata": {},
   "outputs": [],
   "source": [
    "def avg_models(models):\n",
    "    feat_cnt= dict(models[0][0].named_parameters())['weight'].data.shape[1]\n",
    "    models_params = [dict(m.named_parameters()) for m in models]\n",
    "    res = get_model(feat_cnt)\n",
    "\n",
    "    res_params = dict(res.named_parameters())\n",
    "    for name1, param1 in res.named_parameters():\n",
    "        arrays = [param_dict[name1].detach().numpy() for param_dict in models_params]\n",
    "        res_params[name1].data.copy_(torch.from_numpy(np.mean(arrays, axis=0)))\n",
    "\n",
    "    res = get_model(feat_cnt)\n",
    "    res.load_state_dict(res_params)\n",
    "    return res"
   ]
  },
  {
   "cell_type": "code",
   "execution_count": 95,
   "metadata": {},
   "outputs": [
    {
     "name": "stderr",
     "output_type": "stream",
     "text": [
      "Rolling: 100%|██████████| 20/20 [00:00<00:00, 64.38it/s]\n",
      "Feature Extraction: 100%|██████████| 20/20 [00:00<00:00, 104.54it/s]\n"
     ]
    },
    {
     "data": {
      "image/png": "[encoded data removed]",
      "text/plain": [
       "<Figure size 640x480 with 1 Axes>"
      ]
     },
     "metadata": {},
     "output_type": "display_data"
    },
    {
     "data": {
      "application/vnd.plotly.v1+json": {
       "config": {
        "plotlyServerURL": "https://plot.ly"
       },
       "data": [
        {
         "name": "Train",
         "type": "scatter",
         "x": [
          "2022-01-07",
          "2022-01-08",
          "2022-01-09",
          "2022-01-10",
          "2022-01-11",
          "2022-01-12",
          "2022-01-13",
          "2022-01-14",
          "2022-01-15",
          "2022-01-16",
          "2022-01-17",
          "2022-01-18",
          "2022-01-19",
          "2022-01-20",
          "2022-01-21",
          "2022-01-22",
          "2022-01-23",
          "2022-01-24",
          "2022-01-25",
          "2022-01-26",
          "2022-01-27",
          "2022-01-28",
          "2022-01-29",
          "2022-01-30",
          "2022-01-31",
          "2022-02-01",
          "2022-02-02",
          "2022-02-03",
          "2022-02-04",
          "2022-02-05",
          "2022-02-06",
          "2022-02-07",
          "2022-02-08",
          "2022-02-09",
          "2022-02-10",
          "2022-02-11",
          "2022-02-12",
          "2022-02-13",
          "2022-02-14",
          "2022-02-15",
          "2022-02-16",
          "2022-02-17",
          "2022-02-18",
          "2022-02-19",
          "2022-02-20",
          "2022-02-21",
          "2022-02-22",
          "2022-02-23",
          "2022-02-24",
          "2022-02-25",
          "2022-02-26",
          "2022-02-27",
          "2022-02-28",
          "2022-03-01",
          "2022-03-02",
          "2022-03-03",
          "2022-03-04",
          "2022-03-05",
          "2022-03-06",
          "2022-03-07",
          "2022-03-08",
          "2022-03-09",
          "2022-03-10",
          "2022-03-11",
          "2022-03-12",
          "2022-03-13",
          "2022-03-14",
          "2022-03-15",
          "2022-03-16",
          "2022-03-17",
          "2022-03-18",
          "2022-03-19",
          "2022-03-20",
          "2022-03-21",
          "2022-03-22",
          "2022-03-23",
          "2022-03-24",
          "2022-03-25",
          "2022-03-26",
          "2022-03-27",
          "2022-03-28",
          "2022-03-29",
          "2022-03-30",
          "2022-03-31",
          "2022-04-01",
          "2022-04-02",
          "2022-04-03",
          "2022-04-04",
          "2022-04-05",
          "2022-04-06",
          "2022-04-07",
          "2022-04-08",
          "2022-04-09",
          "2022-04-10",
          "2022-04-11",
          "2022-04-12",
          "2022-04-13",
          "2022-04-14",
          "2022-04-15",
          "2022-04-16",
          "2022-04-17",
          "2022-04-18",
          "2022-04-19",
          "2022-04-20",
          "2022-04-21",
          "2022-04-22",
          "2022-04-23",
          "2022-04-24",
          "2022-04-25",
          "2022-04-26",
          "2022-04-27",
          "2022-04-28",
          "2022-04-29",
          "2022-04-30",
          "2022-05-01",
          "2022-05-02",
          "2022-05-03",
          "2022-05-04",
          "2022-05-05",
          "2022-05-06",
          "2022-05-07",
          "2022-05-08",
          "2022-05-09",
          "2022-05-10",
          "2022-05-11",
          "2022-05-12",
          "2022-05-13",
          "2022-05-14",
          "2022-05-15",
          "2022-05-16",
          "2022-05-17",
          "2022-05-18",
          "2022-05-19",
          "2022-05-20",
          "2022-05-21",
          "2022-05-22",
          "2022-05-23",
          "2022-05-24",
          "2022-05-25",
          "2022-05-26",
          "2022-05-27",
          "2022-05-28",
          "2022-05-29",
          "2022-05-30",
          "2022-05-31",
          "2022-06-01",
          "2022-06-02",
          "2022-06-03",
          "2022-06-04",
          "2022-06-05",
          "2022-06-06",
          "2022-06-07",
          "2022-06-08",
          "2022-06-09",
          "2022-06-10",
          "2022-06-11",
          "2022-06-12",
          "2022-06-13",
          "2022-06-14",
          "2022-06-15",
          "2022-06-16",
          "2022-06-17",
          "2022-06-18",
          "2022-06-19",
          "2022-06-20",
          "2022-06-21",
          "2022-06-22",
          "2022-06-23",
          "2022-06-24",
          "2022-06-25",
          "2022-06-26",
          "2022-06-27",
          "2022-06-28",
          "2022-06-29",
          "2022-06-30",
          "2022-07-01",
          "2022-07-02",
          "2022-07-03",
          "2022-07-04",
          "2022-07-05",
          "2022-07-06",
          "2022-07-07",
          "2022-07-08",
          "2022-07-09",
          "2022-07-10",
          "2022-07-11",
          "2022-07-12",
          "2022-07-13",
          "2022-07-14",
          "2022-07-15",
          "2022-07-16",
          "2022-07-17",
          "2022-07-18",
          "2022-07-19",
          "2022-07-20",
          "2022-07-21",
          "2022-07-22",
          "2022-07-23",
          "2022-07-24",
          "2022-07-25",
          "2022-07-26",
          "2022-07-27",
          "2022-07-28",
          "2022-07-29",
          "2022-07-30",
          "2022-07-31",
          "2022-08-01",
          "2022-08-02",
          "2022-08-03",
          "2022-08-04",
          "2022-08-05",
          "2022-08-06",
          "2022-08-07",
          "2022-08-08",
          "2022-08-09",
          "2022-08-10",
          "2022-08-11",
          "2022-08-12",
          "2022-08-13",
          "2022-08-14",
          "2022-08-15",
          "2022-08-16",
          "2022-08-17",
          "2022-08-18",
          "2022-08-19",
          "2022-08-20",
          "2022-08-21",
          "2022-08-22",
          "2022-08-23",
          "2022-08-24",
          "2022-08-25",
          "2022-08-26",
          "2022-08-27",
          "2022-08-28",
          "2022-08-29",
          "2022-08-30",
          "2022-08-31",
          "2022-09-01",
          "2022-09-02",
          "2022-09-03",
          "2022-09-04",
          "2022-09-05",
          "2022-09-06",
          "2022-09-07",
          "2022-09-08",
          "2022-09-09",
          "2022-09-10",
          "2022-09-11",
          "2022-09-12",
          "2022-09-13"
         ],
         "y": [
          1.9127046445096438,
          -0.3391186396249671,
          -0.18061155105055077,
          -0.7185130258256667,
          -0.6244313990589164,
          0.3920592205731468,
          0.3756971985267554,
          -0.25117277112561354,
          0.3112717367190894,
          -0.38206894749674436,
          0.9780241351095373,
          -0.7870289931449305,
          1.346169631153343,
          -1.693075963963852,
          -0.6643138277969953,
          0.6037428807983349,
          0.24173314302192617,
          0.3112717367190894,
          -1.6409220186909794,
          0.6845303646523924,
          1.5987583464945097,
          -0.8974726419580722,
          0.7029376394545825,
          -1.6705781836500637,
          0.5607925729265577,
          -0.1652721553820589,
          0.6753267272512972,
          -0.08039416601640369,
          0.09038443909280612,
          -0.4833089589087909,
          0.6098786390657317,
          -0.2971909581310892,
          1.743971292156233,
          -0.8412281911736019,
          -2.1675746033092014,
          2.12745618386853,
          -0.10902770459758857,
          -0.8432734439294008,
          0.5474984300138647,
          0.11492747216239316,
          -1.8055648655327925,
          1.7848763472722113,
          -0.5957978604777315,
          -0.7307845423604602,
          -0.10391457270809126,
          0.5505663091475631,
          0.5382947926127696,
          1.3932104445367182,
          -1.6746686891616616,
          0.4892087264735955,
          -1.5018448312966528,
          1.44638701618749,
          0.07402241704641475,
          -0.2266297380560265,
          -0.0773262868827053,
          0.07402241704641475,
          2.2798275141755497,
          -1.9599814485956109,
          0.5331816607232722,
          0.4984123638746906,
          0.43807740757862246,
          -0.28798732072999406,
          -1.399582193506707,
          0.6190822764668269,
          0.3245658796317824,
          -0.41070248607792925,
          -0.327869749468073,
          0.5710188367055523,
          -0.49251259630988603,
          0.46364306702610897,
          1.2469748724970955,
          1.046540102428801,
          -0.990531642346923,
          -1.9252121517470293,
          0.6354442985132183,
          0.07606766980221367,
          -0.07119052861530854,
          -0.6407934211053078,
          0.43091902293332623,
          0.3061586048295921,
          0.38285558317205165,
          -0.11618608924288479,
          0.7591820902390529,
          -1.6204694911329902,
          -0.38718207938624166,
          1.8360076661671842,
          0.2816155717600051,
          0.25195940680092077,
          -1.4149215891751987,
          0.6722588481175988,
          0.9095081677902735,
          -2.1307600537048206,
          0.908485541412374,
          -0.290032573485793,
          2.1847232610309,
          0.07402241704641475,
          -0.13970649593457238,
          1.1068750587248695,
          0.6507836941817101,
          -0.6039788715009272,
          -1.1081336758053608,
          0.6129465181994301,
          0.8297433103141156,
          -0.4383133982812147,
          -0.9220156750276592,
          1.6110298630293032,
          -0.20515458412013782,
          -1.8873749757647493,
          0.7520237055937566,
          -0.11107295735338749,
          0.7581594638611534,
          0.5198875178105793,
          0.7162317823672756,
          0.07402241704641475,
          0.07402241704641475,
          2.1039357771768428,
          -1.3873106769719135,
          -0.3892273321420406,
          -0.03846648452252584,
          0.11799535129609154,
          0.36751618750355974,
          -1.7912480962422,
          1.3911651917809191,
          0.41148912175323654,
          -1.188921159659418,
          -0.1080050782196891,
          1.2265223449391063,
          -0.32991500222387193,
          0.12822161507508614,
          0.10163332924970017,
          0.20696384617334454,
          -1.3474282482338344,
          1.1058524323469698,
          -0.5191008821352721,
          -1.1848306541478204,
          0.539317418990669,
          0.2611630442020159,
          0.4493262977355165,
          0.4319416493112257,
          -1.6347862604235825,
          0.5168196386768809,
          1.026087574870812,
          -1.3658355230360246,
          2.22256043701318,
          -1.3525413801233317,
          -0.3882047057641411,
          -0.052783253813118276,
          0.31536224223068726,
          -0.8995178947138711,
          0.8103134091340258,
          1.0179065638476164,
          -1.7513656675041211,
          0.4738693308051036,
          -0.9629207301436377,
          0.7745214859075448,
          0.14049313160987964,
          1.0680152563646899,
          -1.6501256560920745,
          0.5055707485199868,
          -0.5487570470943564,
          1.1201692016375624,
          -0.5876168494545359,
          0.3399052753002743,
          1.166187388643038,
          -1.5386593809010334,
          1.3277623563511527,
          -1.4302609848436907,
          0.18548869223745587,
          -0.1080050782196891,
          -0.8136172789703164,
          1.2306128504507041,
          -0.3513901561597606,
          -0.2409465073466189,
          1.2848120484793755,
          0.07402241704641475,
          0.07402241704641475,
          0.07402241704641475,
          0.07402241704641475,
          0.9851825197548335,
          0.668168342606001,
          -0.8995178947138711,
          0.4830729682061987,
          -0.40354410143263303,
          1.308332455171063,
          -1.7523882938820206,
          0.42580589104382893,
          0.8236075520467189,
          -1.8761260856078552,
          0.5076160012757858,
          0.5434079245022668,
          -1.1541518628108365,
          0.07402241704641475,
          -1.0866585218694722,
          -0.20106407860853998,
          -0.5508022998501553,
          0.1619682855457683,
          -1.066205994311483,
          1.1651647622651387,
          1.2091376965148153,
          -1.4895733147618593,
          -0.9884863895911241,
          1.2275449713170057,
          -0.8105493998366181,
          -0.48126370615299197,
          0.2672988024694127,
          0.6569194524491069,
          -1.0385950821081977,
          1.179481531555731,
          0.0003933178376536386,
          -0.35241278253766006,
          0.2928644619168992,
          -0.17243054002735508,
          -0.45263016757180713,
          0.11083696665079532,
          0.14253838436567856,
          -1.3187947096526496,
          1.5159256098846534,
          -1.3637902702802258,
          1.9536096996256223,
          -1.284025412804068,
          1.8411207980566815,
          -2.20745703204728,
          1.406504587449411,
          -0.2266297380560265,
          -0.23378812270132268,
          1.0271102012487114,
          -0.6735174651980904,
          -0.8105493998366181,
          1.306287202415264,
          -1.8321531513581784,
          0.07197716429061583,
          0.31331698947488834,
          0.7704309803959469,
          -0.3646842990724536,
          0.27036668160311106,
          -0.8074815207029197,
          0.946322717394654,
          -1.5857001942844087,
          1.3308302354848511,
          -0.14788750695776806,
          0.5270459024558755,
          0.3552446709687662,
          -0.6182956407915197,
          -0.06300951759211287,
          -0.4761505742634947,
          0.7428200681926616,
          -1.4046953253962042,
          1.5915999618492134,
          0.5669283311939545,
          -1.6746686891616616
         ]
        },
        {
         "name": "Test",
         "type": "scatter",
         "x": [
          "2022-09-14",
          "2022-09-15",
          "2022-09-16",
          "2022-09-17",
          "2022-09-18",
          "2022-09-19",
          "2022-09-20",
          "2022-09-21",
          "2022-09-22",
          "2022-09-23",
          "2022-09-24",
          "2022-09-25",
          "2022-09-26",
          "2022-09-27",
          "2022-09-28",
          "2022-09-29",
          "2022-09-30",
          "2022-10-01",
          "2022-10-02",
          "2022-10-03",
          "2022-10-04",
          "2022-10-05",
          "2022-10-06",
          "2022-10-07",
          "2022-10-08",
          "2022-10-09",
          "2022-10-10",
          "2022-10-11",
          "2022-10-12",
          "2022-10-13",
          "2022-10-14",
          "2022-10-15",
          "2022-10-16",
          "2022-10-17",
          "2022-10-18",
          "2022-10-19",
          "2022-10-20",
          "2022-10-21",
          "2022-10-22",
          "2022-10-23",
          "2022-10-24",
          "2022-10-25",
          "2022-10-26",
          "2022-10-27",
          "2022-10-28",
          "2022-10-29",
          "2022-10-30",
          "2022-10-31",
          "2022-11-01",
          "2022-11-02",
          "2022-11-03",
          "2022-11-04",
          "2022-11-05",
          "2022-11-06",
          "2022-11-07",
          "2022-11-08",
          "2022-11-09",
          "2022-11-10",
          "2022-11-11",
          "2022-11-12",
          "2022-11-13",
          "2022-11-14",
          "2022-11-15",
          "2022-11-16",
          "2022-11-17",
          "2022-11-18",
          "2022-11-19",
          "2022-11-20",
          "2022-11-21",
          "2022-11-22",
          "2022-11-23",
          "2022-11-24",
          "2022-11-25",
          "2022-11-26",
          "2022-11-27",
          "2022-11-28",
          "2022-11-29",
          "2022-11-30",
          "2022-12-01",
          "2022-12-02",
          "2022-12-03",
          "2022-12-04",
          "2022-12-05",
          "2022-12-06",
          "2022-12-07",
          "2022-12-08",
          "2022-12-09",
          "2022-12-10",
          "2022-12-11",
          "2022-12-12",
          "2022-12-13",
          "2022-12-14",
          "2022-12-15",
          "2022-12-16",
          "2022-12-17",
          "2022-12-18",
          "2022-12-19",
          "2022-12-20",
          "2022-12-21",
          "2022-12-22",
          "2022-12-23",
          "2022-12-24",
          "2022-12-25",
          "2022-12-26",
          "2022-12-27",
          "2022-12-28",
          "2022-12-29",
          "2022-12-30"
         ],
         "y": [
          0.5515889355254625,
          0.8430374532268086,
          -0.6182956407915197,
          -0.5088746183562775,
          0.8246301784246183,
          -0.8310019273946073,
          1.2367486087181008,
          -0.3227566175785757,
          -0.08448467152800153,
          0.4810277154503998,
          -1.6194468647550908,
          0.8563315961395016,
          -1.295274302960962,
          1.3717352906008295,
          -1.0559797305324885,
          1.1089203114806683,
          0.07402241704641475,
          0.07402241704641475,
          -1.6818270738069578,
          1.1027845532132716,
          1.0179065638476164,
          -2.4549326154989495,
          1.6785232039706675,
          -0.1928830675853443,
          0.10470120838339855,
          -0.5845489703208374,
          0.9003045303891783,
          0.14458363712147748,
          -1.0518892250208907,
          0.6221501556005252,
          0.6773719800070961,
          -1.6726234364058628,
          -0.05687375932471612,
          -0.20719983687593674,
          1.1723231469104347,
          -1.0733643789567793,
          1.101761926835372,
          -0.1898151884516459,
          -1.2870932919377662,
          -0.4454717829265109,
          1.281744169345677,
          1.7490844240457302,
          -1.3106136986294539,
          -1.4159442155530981,
          0.041298372953632034,
          0.20900909892914346,
          0.4053533634858398,
          0.8532637170058032,
          -1.284025412804068,
          1.4187761039842046,
          0.7939513870876346,
          -0.1622042762483605,
          0.5567020674149599,
          -0.46490168410660065,
          -2.062244086385557,
          0.9074629150344746,
          -2.0786061084319485,
          1.1835720370673288,
          0.6109012654436312,
          -0.3830915738746438,
          0.5250006497000765,
          0.539317418990669,
          -1.2318714675311955,
          -0.8320245537725067,
          2.0384876889912773,
          -0.8872463781790776,
          0.4656883197819079,
          0.15480990090047209,
          -1.864877195450961,
          1.9096367653759454,
          -0.08448467152800153,
          -0.3943404640315379,
          0.2672988024694127,
          0.10470120838339855,
          0.057660395000023394,
          -0.1468648805798686,
          -1.6296731285340853,
          0.07402241704641475,
          0.07402241704641475,
          -0.015968704208737722,
          1.590577335471314,
          -2.0857644930772445,
          1.7204508854645453,
          -1.5427498864126312,
          1.166187388643038,
          -0.4250192553685217,
          -0.4127477388337282,
          -0.2583311557709097,
          1.577283192558621,
          -0.0088103195634415,
          -0.8964500155801727,
          -1.3883333033498129,
          1.2009566854916196,
          0.4575073087587122,
          -0.0047198140518436614,
          -1.7094379860102433,
          0.9401869591272572,
          1.1876625425789267,
          0.6068107599320334,
          -1.700234348609148,
          0.9902956516443309,
          -0.570232201030245,
          -0.6602233222853975,
          -0.38718207938624166,
          0.5515889355254625,
          -0.3207113648227768,
          -0.928151433295056,
          0.4002402315963425
         ]
        },
        {
         "name": "Predicted",
         "type": "scatter",
         "x": [
          "2022-09-14",
          "2022-09-15",
          "2022-09-16",
          "2022-09-17",
          "2022-09-18",
          "2022-09-19",
          "2022-09-20",
          "2022-09-21",
          "2022-09-22",
          "2022-09-23",
          "2022-09-24",
          "2022-09-25",
          "2022-09-26",
          "2022-09-27",
          "2022-09-28",
          "2022-09-29",
          "2022-09-30",
          "2022-10-01",
          "2022-10-02",
          "2022-10-03",
          "2022-10-04",
          "2022-10-05",
          "2022-10-06",
          "2022-10-07",
          "2022-10-08",
          "2022-10-09",
          "2022-10-10",
          "2022-10-11",
          "2022-10-12",
          "2022-10-13",
          "2022-10-14",
          "2022-10-15",
          "2022-10-16",
          "2022-10-17",
          "2022-10-18",
          "2022-10-19",
          "2022-10-20",
          "2022-10-21",
          "2022-10-22",
          "2022-10-23",
          "2022-10-24",
          "2022-10-25",
          "2022-10-26",
          "2022-10-27",
          "2022-10-28",
          "2022-10-29",
          "2022-10-30",
          "2022-10-31",
          "2022-11-01",
          "2022-11-02",
          "2022-11-03",
          "2022-11-04",
          "2022-11-05",
          "2022-11-06",
          "2022-11-07",
          "2022-11-08",
          "2022-11-09",
          "2022-11-10",
          "2022-11-11",
          "2022-11-12",
          "2022-11-13",
          "2022-11-14",
          "2022-11-15",
          "2022-11-16",
          "2022-11-17",
          "2022-11-18",
          "2022-11-19",
          "2022-11-20",
          "2022-11-21",
          "2022-11-22",
          "2022-11-23",
          "2022-11-24",
          "2022-11-25",
          "2022-11-26",
          "2022-11-27",
          "2022-11-28",
          "2022-11-29",
          "2022-11-30",
          "2022-12-01",
          "2022-12-02",
          "2022-12-03",
          "2022-12-04",
          "2022-12-05",
          "2022-12-06",
          "2022-12-07",
          "2022-12-08",
          "2022-12-09",
          "2022-12-10",
          "2022-12-11",
          "2022-12-12",
          "2022-12-13",
          "2022-12-14",
          "2022-12-15",
          "2022-12-16",
          "2022-12-17",
          "2022-12-18",
          "2022-12-19",
          "2022-12-20",
          "2022-12-21",
          "2022-12-22",
          "2022-12-23",
          "2022-12-24",
          "2022-12-25",
          "2022-12-26",
          "2022-12-27",
          "2022-12-28",
          "2022-12-29",
          "2022-12-30"
         ],
         "y": [
          0.5455000996589661,
          -0.6205350756645203,
          -0.5597561001777649,
          0.14121200144290924,
          -0.01765105314552784,
          -0.2550562024116516,
          -0.1403522491455078,
          -0.40354955196380615,
          -0.2973290979862213,
          -0.2600175440311432,
          -0.05207940936088562,
          0.24294278025627136,
          -0.12771941721439362,
          0.06756870448589325,
          -0.24004888534545898,
          -0.04159213602542877,
          -0.6026486158370972,
          0.06502893567085266,
          -0.3357670307159424,
          0.6111656427383423,
          -0.6008155941963196,
          -0.2981484532356262,
          0.18997310101985931,
          -0.6292136907577515,
          0.06565418839454651,
          -0.34672966599464417,
          0.15233413875102997,
          -0.7494868636131287,
          -0.029638022184371948,
          -0.14546307921409607,
          -0.40358054637908936,
          -0.14935478568077087,
          0.11201316863298416,
          0.03747296333312988,
          -0.4333760142326355,
          -0.28030842542648315,
          -0.19658996164798737,
          -0.517765998840332,
          0.08710688352584839,
          0.1720590889453888,
          0.12669360637664795,
          -0.7261763215065002,
          -0.41453105211257935,
          -0.14347542822360992,
          0.3191547393798828,
          0.20704644918441772,
          -0.1393793374300003,
          -0.03721253573894501,
          -0.5713624954223633,
          0.5221125483512878,
          -0.7606784105300903,
          -0.4303344786167145,
          0.15769246220588684,
          -0.516636073589325,
          -0.00695095956325531,
          0.0677800327539444,
          -0.15167272090911865,
          0.17481015622615814,
          -0.40999066829681396,
          -0.08747804164886475,
          -0.21449708938598633,
          -0.3033906817436218,
          -0.6875734925270081,
          0.42436307668685913,
          -0.1528899222612381,
          -0.8769834041595459,
          0.1615971028804779,
          -0.4904700517654419,
          -0.16019196808338165,
          0.14831043779850006,
          -0.569506049156189,
          -0.3722694516181946,
          0.032201386988162994,
          0.0704091489315033,
          -0.1482437700033188,
          0.06653155386447906,
          -0.4493839740753174,
          0.5539917349815369,
          -0.465301513671875,
          -0.19436219334602356,
          0.15458570420742035,
          -0.6663094162940979,
          0.641044020652771,
          -0.7712553143501282,
          0.4910406768321991,
          -0.7412651777267456,
          -0.009964637458324432,
          0.23509548604488373,
          -0.034436747431755066,
          -0.32590049505233765,
          -0.5121468305587769,
          0.34568285942077637,
          0.10076306760311127,
          -0.4291832745075226,
          0.014714360237121582,
          -0.16776606440544128,
          0.599142849445343,
          -0.5350087881088257,
          -0.3220675587654114,
          -0.6707995533943176,
          0.19612044095993042,
          -0.23012128472328186,
          0.070694699883461,
          0.2731214165687561,
          -0.1120934709906578,
          -0.06919342279434204,
          -0.15081602334976196,
          0.2209700047969818
         ]
        }
       ],
       "layout": {
        "template": {
         "data": {
          "bar": [
           {
            "error_x": {
             "color": "#2a3f5f"
            },
            "error_y": {
             "color": "#2a3f5f"
            },
            "marker": {
             "line": {
              "color": "#E5ECF6",
              "width": 0.5
             },
             "pattern": {
              "fillmode": "overlay",
              "size": 10,
              "solidity": 0.2
             }
            },
            "type": "bar"
           }
          ],
          "barpolar": [
           {
            "marker": {
             "line": {
              "color": "#E5ECF6",
              "width": 0.5
             },
             "pattern": {
              "fillmode": "overlay",
              "size": 10,
              "solidity": 0.2
             }
            },
            "type": "barpolar"
           }
          ],
          "carpet": [
           {
            "aaxis": {
             "endlinecolor": "#2a3f5f",
             "gridcolor": "white",
             "linecolor": "white",
             "minorgridcolor": "white",
             "startlinecolor": "#2a3f5f"
            },
            "baxis": {
             "endlinecolor": "#2a3f5f",
             "gridcolor": "white",
             "linecolor": "white",
             "minorgridcolor": "white",
             "startlinecolor": "#2a3f5f"
            },
            "type": "carpet"
           }
          ],
          "choropleth": [
           {
            "colorbar": {
             "outlinewidth": 0,
             "ticks": ""
            },
            "type": "choropleth"
           }
          ],
          "contour": [
           {
            "colorbar": {
             "outlinewidth": 0,
             "ticks": ""
            },
            "colorscale": [
             [
              0,
              "#0d0887"
             ],
             [
              0.1111111111111111,
              "#46039f"
             ],
             [
              0.2222222222222222,
              "#7201a8"
             ],
             [
              0.3333333333333333,
              "#9c179e"
             ],
             [
              0.4444444444444444,
              "#bd3786"
             ],
             [
              0.5555555555555556,
              "#d8576b"
             ],
             [
              0.6666666666666666,
              "#ed7953"
             ],
             [
              0.7777777777777778,
              "#fb9f3a"
             ],
             [
              0.8888888888888888,
              "#fdca26"
             ],
             [
              1,
              "#f0f921"
             ]
            ],
            "type": "contour"
           }
          ],
          "contourcarpet": [
           {
            "colorbar": {
             "outlinewidth": 0,
             "ticks": ""
            },
            "type": "contourcarpet"
           }
          ],
          "heatmap": [
           {
            "colorbar": {
             "outlinewidth": 0,
             "ticks": ""
            },
            "colorscale": [
             [
              0,
              "#0d0887"
             ],
             [
              0.1111111111111111,
              "#46039f"
             ],
             [
              0.2222222222222222,
              "#7201a8"
             ],
             [
              0.3333333333333333,
              "#9c179e"
             ],
             [
              0.4444444444444444,
              "#bd3786"
             ],
             [
              0.5555555555555556,
              "#d8576b"
             ],
             [
              0.6666666666666666,
              "#ed7953"
             ],
             [
              0.7777777777777778,
              "#fb9f3a"
             ],
             [
              0.8888888888888888,
              "#fdca26"
             ],
             [
              1,
              "#f0f921"
             ]
            ],
            "type": "heatmap"
           }
          ],
          "heatmapgl": [
           {
            "colorbar": {
             "outlinewidth": 0,
             "ticks": ""
            },
            "colorscale": [
             [
              0,
              "#0d0887"
             ],
             [
              0.1111111111111111,
              "#46039f"
             ],
             [
              0.2222222222222222,
              "#7201a8"
             ],
             [
              0.3333333333333333,
              "#9c179e"
             ],
             [
              0.4444444444444444,
              "#bd3786"
             ],
             [
              0.5555555555555556,
              "#d8576b"
             ],
             [
              0.6666666666666666,
              "#ed7953"
             ],
             [
              0.7777777777777778,
              "#fb9f3a"
             ],
             [
              0.8888888888888888,
              "#fdca26"
             ],
             [
              1,
              "#f0f921"
             ]
            ],
            "type": "heatmapgl"
           }
          ],
          "histogram": [
           {
            "marker": {
             "pattern": {
              "fillmode": "overlay",
              "size": 10,
              "solidity": 0.2
             }
            },
            "type": "histogram"
           }
          ],
          "histogram2d": [
           {
            "colorbar": {
             "outlinewidth": 0,
             "ticks": ""
            },
            "colorscale": [
             [
              0,
              "#0d0887"
             ],
             [
              0.1111111111111111,
              "#46039f"
             ],
             [
              0.2222222222222222,
              "#7201a8"
             ],
             [
              0.3333333333333333,
              "#9c179e"
             ],
             [
              0.4444444444444444,
              "#bd3786"
             ],
             [
              0.5555555555555556,
              "#d8576b"
             ],
             [
              0.6666666666666666,
              "#ed7953"
             ],
             [
              0.7777777777777778,
              "#fb9f3a"
             ],
             [
              0.8888888888888888,
              "#fdca26"
             ],
             [
              1,
              "#f0f921"
             ]
            ],
            "type": "histogram2d"
           }
          ],
          "histogram2dcontour": [
           {
            "colorbar": {
             "outlinewidth": 0,
             "ticks": ""
            },
            "colorscale": [
             [
              0,
              "#0d0887"
             ],
             [
              0.1111111111111111,
              "#46039f"
             ],
             [
              0.2222222222222222,
              "#7201a8"
             ],
             [
              0.3333333333333333,
              "#9c179e"
             ],
             [
              0.4444444444444444,
              "#bd3786"
             ],
             [
              0.5555555555555556,
              "#d8576b"
             ],
             [
              0.6666666666666666,
              "#ed7953"
             ],
             [
              0.7777777777777778,
              "#fb9f3a"
             ],
             [
              0.8888888888888888,
              "#fdca26"
             ],
             [
              1,
              "#f0f921"
             ]
            ],
            "type": "histogram2dcontour"
           }
          ],
          "mesh3d": [
           {
            "colorbar": {
             "outlinewidth": 0,
             "ticks": ""
            },
            "type": "mesh3d"
           }
          ],
          "parcoords": [
           {
            "line": {
             "colorbar": {
              "outlinewidth": 0,
              "ticks": ""
             }
            },
            "type": "parcoords"
           }
          ],
          "pie": [
           {
            "automargin": true,
            "type": "pie"
           }
          ],
          "scatter": [
           {
            "fillpattern": {
             "fillmode": "overlay",
             "size": 10,
             "solidity": 0.2
            },
            "type": "scatter"
           }
          ],
          "scatter3d": [
           {
            "line": {
             "colorbar": {
              "outlinewidth": 0,
              "ticks": ""
             }
            },
            "marker": {
             "colorbar": {
              "outlinewidth": 0,
              "ticks": ""
             }
            },
            "type": "scatter3d"
           }
          ],
          "scattercarpet": [
           {
            "marker": {
             "colorbar": {
              "outlinewidth": 0,
              "ticks": ""
             }
            },
            "type": "scattercarpet"
           }
          ],
          "scattergeo": [
           {
            "marker": {
             "colorbar": {
              "outlinewidth": 0,
              "ticks": ""
             }
            },
            "type": "scattergeo"
           }
          ],
          "scattergl": [
           {
            "marker": {
             "colorbar": {
              "outlinewidth": 0,
              "ticks": ""
             }
            },
            "type": "scattergl"
           }
          ],
          "scattermapbox": [
           {
            "marker": {
             "colorbar": {
              "outlinewidth": 0,
              "ticks": ""
             }
            },
            "type": "scattermapbox"
           }
          ],
          "scatterpolar": [
           {
            "marker": {
             "colorbar": {
              "outlinewidth": 0,
              "ticks": ""
             }
            },
            "type": "scatterpolar"
           }
          ],
          "scatterpolargl": [
           {
            "marker": {
             "colorbar": {
              "outlinewidth": 0,
              "ticks": ""
             }
            },
            "type": "scatterpolargl"
           }
          ],
          "scatterternary": [
           {
            "marker": {
             "colorbar": {
              "outlinewidth": 0,
              "ticks": ""
             }
            },
            "type": "scatterternary"
           }
          ],
          "surface": [
           {
            "colorbar": {
             "outlinewidth": 0,
             "ticks": ""
            },
            "colorscale": [
             [
              0,
              "#0d0887"
             ],
             [
              0.1111111111111111,
              "#46039f"
             ],
             [
              0.2222222222222222,
              "#7201a8"
             ],
             [
              0.3333333333333333,
              "#9c179e"
             ],
             [
              0.4444444444444444,
              "#bd3786"
             ],
             [
              0.5555555555555556,
              "#d8576b"
             ],
             [
              0.6666666666666666,
              "#ed7953"
             ],
             [
              0.7777777777777778,
              "#fb9f3a"
             ],
             [
              0.8888888888888888,
              "#fdca26"
             ],
             [
              1,
              "#f0f921"
             ]
            ],
            "type": "surface"
           }
          ],
          "table": [
           {
            "cells": {
             "fill": {
              "color": "#EBF0F8"
             },
             "line": {
              "color": "white"
             }
            },
            "header": {
             "fill": {
              "color": "#C8D4E3"
             },
             "line": {
              "color": "white"
             }
            },
            "type": "table"
           }
          ]
         },
         "layout": {
          "annotationdefaults": {
           "arrowcolor": "#2a3f5f",
           "arrowhead": 0,
           "arrowwidth": 1
          },
          "autotypenumbers": "strict",
          "coloraxis": {
           "colorbar": {
            "outlinewidth": 0,
            "ticks": ""
           }
          },
          "colorscale": {
           "diverging": [
            [
             0,
             "#8e0152"
            ],
            [
             0.1,
             "#c51b7d"
            ],
            [
             0.2,
             "#de77ae"
            ],
            [
             0.3,
             "#f1b6da"
            ],
            [
             0.4,
             "#fde0ef"
            ],
            [
             0.5,
             "#f7f7f7"
            ],
            [
             0.6,
             "#e6f5d0"
            ],
            [
             0.7,
             "#b8e186"
            ],
            [
             0.8,
             "#7fbc41"
            ],
            [
             0.9,
             "#4d9221"
            ],
            [
             1,
             "#276419"
            ]
           ],
           "sequential": [
            [
             0,
             "#0d0887"
            ],
            [
             0.1111111111111111,
             "#46039f"
            ],
            [
             0.2222222222222222,
             "#7201a8"
            ],
            [
             0.3333333333333333,
             "#9c179e"
            ],
            [
             0.4444444444444444,
             "#bd3786"
            ],
            [
             0.5555555555555556,
             "#d8576b"
            ],
            [
             0.6666666666666666,
             "#ed7953"
            ],
            [
             0.7777777777777778,
             "#fb9f3a"
            ],
            [
             0.8888888888888888,
             "#fdca26"
            ],
            [
             1,
             "#f0f921"
            ]
           ],
           "sequentialminus": [
            [
             0,
             "#0d0887"
            ],
            [
             0.1111111111111111,
             "#46039f"
            ],
            [
             0.2222222222222222,
             "#7201a8"
            ],
            [
             0.3333333333333333,
             "#9c179e"
            ],
            [
             0.4444444444444444,
             "#bd3786"
            ],
            [
             0.5555555555555556,
             "#d8576b"
            ],
            [
             0.6666666666666666,
             "#ed7953"
            ],
            [
             0.7777777777777778,
             "#fb9f3a"
            ],
            [
             0.8888888888888888,
             "#fdca26"
            ],
            [
             1,
             "#f0f921"
            ]
           ]
          },
          "colorway": [
           "#636efa",
           "#EF553B",
           "#00cc96",
           "#ab63fa",
           "#FFA15A",
           "#19d3f3",
           "#FF6692",
           "#B6E880",
           "#FF97FF",
           "#FECB52"
          ],
          "font": {
           "color": "#2a3f5f"
          },
          "geo": {
           "bgcolor": "white",
           "lakecolor": "white",
           "landcolor": "#E5ECF6",
           "showlakes": true,
           "showland": true,
           "subunitcolor": "white"
          },
          "hoverlabel": {
           "align": "left"
          },
          "hovermode": "closest",
          "mapbox": {
           "style": "light"
          },
          "paper_bgcolor": "white",
          "plot_bgcolor": "#E5ECF6",
          "polar": {
           "angularaxis": {
            "gridcolor": "white",
            "linecolor": "white",
            "ticks": ""
           },
           "bgcolor": "#E5ECF6",
           "radialaxis": {
            "gridcolor": "white",
            "linecolor": "white",
            "ticks": ""
           }
          },
          "scene": {
           "xaxis": {
            "backgroundcolor": "#E5ECF6",
            "gridcolor": "white",
            "gridwidth": 2,
            "linecolor": "white",
            "showbackground": true,
            "ticks": "",
            "zerolinecolor": "white"
           },
           "yaxis": {
            "backgroundcolor": "#E5ECF6",
            "gridcolor": "white",
            "gridwidth": 2,
            "linecolor": "white",
            "showbackground": true,
            "ticks": "",
            "zerolinecolor": "white"
           },
           "zaxis": {
            "backgroundcolor": "#E5ECF6",
            "gridcolor": "white",
            "gridwidth": 2,
            "linecolor": "white",
            "showbackground": true,
            "ticks": "",
            "zerolinecolor": "white"
           }
          },
          "shapedefaults": {
           "line": {
            "color": "#2a3f5f"
           }
          },
          "ternary": {
           "aaxis": {
            "gridcolor": "white",
            "linecolor": "white",
            "ticks": ""
           },
           "baxis": {
            "gridcolor": "white",
            "linecolor": "white",
            "ticks": ""
           },
           "bgcolor": "#E5ECF6",
           "caxis": {
            "gridcolor": "white",
            "linecolor": "white",
            "ticks": ""
           }
          },
          "title": {
           "x": 0.05
          },
          "xaxis": {
           "automargin": true,
           "gridcolor": "white",
           "linecolor": "white",
           "ticks": "",
           "title": {
            "standoff": 15
           },
           "zerolinecolor": "white",
           "zerolinewidth": 2
          },
          "yaxis": {
           "automargin": true,
           "gridcolor": "white",
           "linecolor": "white",
           "ticks": "",
           "title": {
            "standoff": 15
           },
           "zerolinecolor": "white",
           "zerolinewidth": 2
          }
         }
        },
        "title": {
         "text": " enugu_transactions NNet & tsfresh. MAE=0.8178"
        }
       }
      }
     },
     "metadata": {},
     "output_type": "display_data"
    },
    {
     "name": "stderr",
     "output_type": "stream",
     "text": [
      "Rolling: 100%|██████████| 20/20 [00:00<00:00, 53.50it/s]\n",
      "Feature Extraction: 100%|██████████| 20/20 [00:00<00:00, 88.59it/s]\n"
     ]
    },
    {
     "data": {
      "image/png": "[encoded data removed]",
      "text/plain": [
       "<Figure size 640x480 with 1 Axes>"
      ]
     },
     "metadata": {},
     "output_type": "display_data"
    },
    {
     "data": {
      "application/vnd.plotly.v1+json": {
       "config": {
        "plotlyServerURL": "https://plot.ly"
       },
       "data": [
        {
         "name": "Train",
         "type": "scatter",
         "x": [
          "2022-01-07",
          "2022-01-08",
          "2022-01-09",
          "2022-01-10",
          "2022-01-11",
          "2022-01-12",
          "2022-01-13",
          "2022-01-14",
          "2022-01-15",
          "2022-01-16",
          "2022-01-17",
          "2022-01-18",
          "2022-01-19",
          "2022-01-20",
          "2022-01-21",
          "2022-01-22",
          "2022-01-23",
          "2022-01-24",
          "2022-01-25",
          "2022-01-26",
          "2022-01-27",
          "2022-01-28",
          "2022-01-29",
          "2022-01-30",
          "2022-01-31",
          "2022-02-01",
          "2022-02-02",
          "2022-02-03",
          "2022-02-04",
          "2022-02-05",
          "2022-02-06",
          "2022-02-07",
          "2022-02-08",
          "2022-02-09",
          "2022-02-10",
          "2022-02-11",
          "2022-02-12",
          "2022-02-13",
          "2022-02-14",
          "2022-02-15",
          "2022-02-16",
          "2022-02-17",
          "2022-02-18",
          "2022-02-19",
          "2022-02-20",
          "2022-02-21",
          "2022-02-22",
          "2022-02-23",
          "2022-02-24",
          "2022-02-25",
          "2022-02-26",
          "2022-02-27",
          "2022-02-28",
          "2022-03-01",
          "2022-03-02",
          "2022-03-03",
          "2022-03-04",
          "2022-03-05",
          "2022-03-06",
          "2022-03-07",
          "2022-03-08",
          "2022-03-09",
          "2022-03-10",
          "2022-03-11",
          "2022-03-12",
          "2022-03-13",
          "2022-03-14",
          "2022-03-15",
          "2022-03-16",
          "2022-03-17",
          "2022-03-18",
          "2022-03-19",
          "2022-03-20",
          "2022-03-21",
          "2022-03-22",
          "2022-03-23",
          "2022-03-24",
          "2022-03-25",
          "2022-03-26",
          "2022-03-27",
          "2022-03-28",
          "2022-03-29",
          "2022-03-30",
          "2022-03-31",
          "2022-04-01",
          "2022-04-02",
          "2022-04-03",
          "2022-04-04",
          "2022-04-05",
          "2022-04-06",
          "2022-04-07",
          "2022-04-08",
          "2022-04-09",
          "2022-04-10",
          "2022-04-11",
          "2022-04-12",
          "2022-04-13",
          "2022-04-14",
          "2022-04-15",
          "2022-04-16",
          "2022-04-17",
          "2022-04-18",
          "2022-04-19",
          "2022-04-20",
          "2022-04-21",
          "2022-04-22",
          "2022-04-23",
          "2022-04-24",
          "2022-04-25",
          "2022-04-26",
          "2022-04-27",
          "2022-04-28",
          "2022-04-29",
          "2022-04-30",
          "2022-05-01",
          "2022-05-02",
          "2022-05-03",
          "2022-05-04",
          "2022-05-05",
          "2022-05-06",
          "2022-05-07",
          "2022-05-08",
          "2022-05-09",
          "2022-05-10",
          "2022-05-11",
          "2022-05-12",
          "2022-05-13",
          "2022-05-14",
          "2022-05-15",
          "2022-05-16",
          "2022-05-17",
          "2022-05-18",
          "2022-05-19",
          "2022-05-20",
          "2022-05-21",
          "2022-05-22",
          "2022-05-23",
          "2022-05-24",
          "2022-05-25",
          "2022-05-26",
          "2022-05-27",
          "2022-05-28",
          "2022-05-29",
          "2022-05-30",
          "2022-05-31",
          "2022-06-01",
          "2022-06-02",
          "2022-06-03",
          "2022-06-04",
          "2022-06-05",
          "2022-06-06",
          "2022-06-07",
          "2022-06-08",
          "2022-06-09",
          "2022-06-10",
          "2022-06-11",
          "2022-06-12",
          "2022-06-13",
          "2022-06-14",
          "2022-06-15",
          "2022-06-16",
          "2022-06-17",
          "2022-06-18",
          "2022-06-19",
          "2022-06-20",
          "2022-06-21",
          "2022-06-22",
          "2022-06-23",
          "2022-06-24",
          "2022-06-25",
          "2022-06-26",
          "2022-06-27",
          "2022-06-28",
          "2022-06-29",
          "2022-06-30",
          "2022-07-01",
          "2022-07-02",
          "2022-07-03",
          "2022-07-04",
          "2022-07-05",
          "2022-07-06",
          "2022-07-07",
          "2022-07-08",
          "2022-07-09",
          "2022-07-10",
          "2022-07-11",
          "2022-07-12",
          "2022-07-13",
          "2022-07-14",
          "2022-07-15",
          "2022-07-16",
          "2022-07-17",
          "2022-07-18",
          "2022-07-19",
          "2022-07-20",
          "2022-07-21",
          "2022-07-22",
          "2022-07-23",
          "2022-07-24",
          "2022-07-25",
          "2022-07-26",
          "2022-07-27",
          "2022-07-28",
          "2022-07-29",
          "2022-07-30",
          "2022-07-31",
          "2022-08-01",
          "2022-08-02",
          "2022-08-03",
          "2022-08-04",
          "2022-08-05",
          "2022-08-06",
          "2022-08-07",
          "2022-08-08",
          "2022-08-09",
          "2022-08-10",
          "2022-08-11",
          "2022-08-12",
          "2022-08-13",
          "2022-08-14",
          "2022-08-15",
          "2022-08-16",
          "2022-08-17",
          "2022-08-18",
          "2022-08-19",
          "2022-08-20",
          "2022-08-21",
          "2022-08-22",
          "2022-08-23",
          "2022-08-24",
          "2022-08-25",
          "2022-08-26",
          "2022-08-27",
          "2022-08-28",
          "2022-08-29",
          "2022-08-30",
          "2022-08-31",
          "2022-09-01",
          "2022-09-02",
          "2022-09-03",
          "2022-09-04",
          "2022-09-05",
          "2022-09-06",
          "2022-09-07",
          "2022-09-08",
          "2022-09-09",
          "2022-09-10",
          "2022-09-11",
          "2022-09-12",
          "2022-09-13"
         ],
         "y": [
          -0.16414607220052266,
          -1.4464088295005493,
          0.5126037163744914,
          0.8944330707704993,
          -1.7042861173575548,
          -0.033070323676519915,
          -1.7042861173575548,
          0.6308568373254939,
          -0.6343090832105324,
          -0.15559765381852247,
          -0.5573733177725307,
          0.29176957483948684,
          1.2021761325225058,
          -0.2923723479305253,
          -0.8337721787905366,
          0.7277389123214959,
          -0.614362773652532,
          0.9272020079015,
          -0.8351969151875366,
          -0.6813253843115333,
          1.499946039495512,
          -1.0303858015765406,
          -0.047317687646520216,
          1.9145443310225205,
          -0.9449016177565389,
          0.5054800343894913,
          -1.0275363287825405,
          0.3672806038804884,
          -0.2681518291815248,
          -1.0973484122355421,
          0.4684368880674905,
          0.8246209873174979,
          -0.015973486912519562,
          -0.7069706394575339,
          -0.25390446521152454,
          1.1836545593615053,
          -1.3523762272985473,
          -0.16984501778852276,
          -0.43627072402752826,
          1.1252403670845041,
          -0.08151136117452093,
          -0.5445506901995305,
          1.8803506574945197,
          -1.0147137012095404,
          0.9613956814295007,
          -0.7910300868805357,
          -0.9819447640785397,
          1.260590324799507,
          -0.41062546888152773,
          1.4401071108215107,
          -2.012029179109561,
          1.4458060564095108,
          -0.033070323676519915,
          -0.2681518291815248,
          -1.1571873409095432,
          -0.033070323676519915,
          0.029618077791481387,
          -0.24535604682952433,
          2.37188471445953,
          -0.033070323676519915,
          -0.03876926926452003,
          0.4071732229964893,
          -0.16557080859752268,
          -0.29807129351852546,
          0.9257772715045,
          -1.3010857170065464,
          -0.21401184609552368,
          1.0981703755415035,
          -1.4578067206765495,
          1.2548913792115068,
          0.11510226161148315,
          0.49693161600749114,
          -1.0218373831945404,
          -0.3906791593235273,
          1.1451866766425045,
          0.8417178240814982,
          -1.3737472732535478,
          1.076799329586503,
          -0.9691221365055395,
          0.08518279727448254,
          -0.1997644821255234,
          -0.228259210065524,
          -0.027371378088519797,
          1.458628683982511,
          -0.3066197119005256,
          -1.3523762272985473,
          0.5667436994604925,
          0.9699440998115009,
          1.264864533990507,
          -2.2257396386595656,
          1.219272969286506,
          -1.7555766276495557,
          0.4185711141724895,
          -0.5858680457125314,
          -0.033070323676519915,
          0.14787119874248383,
          1.1879287685525055,
          -1.7897703011775565,
          1.846156983966519,
          -1.3224567629615467,
          1.2491924336235067,
          -1.5703608960395519,
          1.2933592619305077,
          -0.6343090832105324,
          0.17494119028548438,
          -0.1513234446275224,
          1.2548913792115068,
          -0.6984222210755338,
          -0.5559485813755307,
          0.17494119028548438,
          1.6580917795625152,
          -2.3154980316705673,
          1.1964771869345057,
          -0.033070323676519915,
          -0.033070323676519915,
          1.8561301387455194,
          -0.033070323676519915,
          1.40733817369051,
          -0.8266484968055364,
          0.4812595156404908,
          0.5781415906364928,
          0.20201118182848496,
          -0.7967290324685359,
          2.1652979368945258,
          -2.2727559397605663,
          -0.10288240712952137,
          -0.471889133952529,
          1.9672595777115216,
          -0.08863504315952107,
          0.2233822277834854,
          -0.8651163795245372,
          0.09658068845048276,
          0.11652699800848318,
          -0.12140398029052177,
          0.11367752521448313,
          -0.27100130197552486,
          0.2618501105024862,
          0.8174973053324978,
          -1.618801933537553,
          0.3772537586594886,
          -0.8394711243785368,
          0.7633573222464966,
          0.20343591822548499,
          0.881610443197499,
          -0.3422381218255264,
          -1.427887256339549,
          0.9300514806955,
          -0.39922757770552747,
          1.1109930031145039,
          -0.15987186300952255,
          0.47271109725849064,
          0.031042814188481416,
          -0.7668095681315352,
          0.4684368880674905,
          0.878760970403499,
          -1.4079409467815485,
          0.12792488918448341,
          -0.611513300858532,
          -0.15559765381852247,
          0.4285442689514897,
          -0.7468632585735347,
          0.8687878156244988,
          0.3815279678504887,
          0.005397559042480881,
          -0.16984501778852276,
          -0.1570223902155225,
          -0.5929917276975315,
          -0.5303033262295302,
          0.9898904093695012,
          0.3900763862324889,
          0.154994880727484,
          -1.5960061511855523,
          1.454354474791511,
          -0.803852714453536,
          -0.033070323676519915,
          -0.033070323676519915,
          -0.2197107916835238,
          -0.08863504315952107,
          0.7049431299694955,
          -1.038934219958541,
          0.24902748292948593,
          0.541098444314492,
          0.5311252895354919,
          -1.7570013640465558,
          1.7350275450005168,
          -0.9648479273145393,
          0.4684368880674905,
          -0.4761633431435291,
          -0.23253341925652407,
          0.6792978748234949,
          -0.13422660786352203,
          -0.03164558727951989,
          1.066826174807503,
          -0.9406274085655388,
          -1.7270818997095552,
          0.18348960866748457,
          1.2876603163425075,
          0.032467550585481446,
          -0.5388517446115304,
          0.6636257744564946,
          -0.25390446521152454,
          -0.7397395765885346,
          0.7647820586434966,
          -0.028796114485519827,
          0.17636592668248444,
          -0.2339581556535241,
          1.648118624783515,
          0.15784435352148404,
          -1.9792602419785603,
          -0.802427978056536,
          -0.033070323676519915,
          -1.862431857424558,
          0.022494395806481236,
          0.20628539101948504,
          0.5738673814454928,
          -1.142939976939543,
          0.9414493718715002,
          -0.6001154096825316,
          1.457203947585511,
          -0.5516743721845306,
          -0.6357338196075324,
          0.6921205023964951,
          -0.8408958607755368,
          0.12934962558148344,
          -0.2866734023425252,
          -0.10288240712952137,
          0.9086804347404996,
          -0.33938864903152627,
          -0.053016633234520334,
          1.1095682667175037,
          0.3387858759404878,
          -0.9634231909175393,
          -0.9050089986405381,
          1.1466114130395046,
          -0.5117817530685298,
          -0.04161874205852009,
          0.21768328219548527,
          0.682147347617495,
          -1.4891509214105503,
          1.5369891858175126,
          -0.4476686152035285,
          -0.8765142707005374,
          0.24047906454748574,
          0.21625854579848525,
          -0.661379074753533,
          -0.5616475269635308,
          2.467342053058532,
          -1.5076724945715505,
          0.9485730538565005,
          0.40574848659948926
         ]
        },
        {
         "name": "Test",
         "type": "scatter",
         "x": [
          "2022-09-14",
          "2022-09-15",
          "2022-09-16",
          "2022-09-17",
          "2022-09-18",
          "2022-09-19",
          "2022-09-20",
          "2022-09-21",
          "2022-09-22",
          "2022-09-23",
          "2022-09-24",
          "2022-09-25",
          "2022-09-26",
          "2022-09-27",
          "2022-09-28",
          "2022-09-29",
          "2022-09-30",
          "2022-10-01",
          "2022-10-02",
          "2022-10-03",
          "2022-10-04",
          "2022-10-05",
          "2022-10-06",
          "2022-10-07",
          "2022-10-08",
          "2022-10-09",
          "2022-10-10",
          "2022-10-11",
          "2022-10-12",
          "2022-10-13",
          "2022-10-14",
          "2022-10-15",
          "2022-10-16",
          "2022-10-17",
          "2022-10-18",
          "2022-10-19",
          "2022-10-20",
          "2022-10-21",
          "2022-10-22",
          "2022-10-23",
          "2022-10-24",
          "2022-10-25",
          "2022-10-26",
          "2022-10-27",
          "2022-10-28",
          "2022-10-29",
          "2022-10-30",
          "2022-10-31",
          "2022-11-01",
          "2022-11-02",
          "2022-11-03",
          "2022-11-04",
          "2022-11-05",
          "2022-11-06",
          "2022-11-07",
          "2022-11-08",
          "2022-11-09",
          "2022-11-10",
          "2022-11-11",
          "2022-11-12",
          "2022-11-13",
          "2022-11-14",
          "2022-11-15",
          "2022-11-16",
          "2022-11-17",
          "2022-11-18",
          "2022-11-19",
          "2022-11-20",
          "2022-11-21",
          "2022-11-22",
          "2022-11-23",
          "2022-11-24",
          "2022-11-25",
          "2022-11-26",
          "2022-11-27",
          "2022-11-28",
          "2022-11-29",
          "2022-11-30",
          "2022-12-01",
          "2022-12-02",
          "2022-12-03",
          "2022-12-04",
          "2022-12-05",
          "2022-12-06",
          "2022-12-07",
          "2022-12-08",
          "2022-12-09",
          "2022-12-10",
          "2022-12-11",
          "2022-12-12",
          "2022-12-13",
          "2022-12-14",
          "2022-12-15",
          "2022-12-16",
          "2022-12-17",
          "2022-12-18",
          "2022-12-19",
          "2022-12-20",
          "2022-12-21",
          "2022-12-22",
          "2022-12-23",
          "2022-12-24",
          "2022-12-25",
          "2022-12-26",
          "2022-12-27",
          "2022-12-28",
          "2022-12-29",
          "2022-12-30"
         ],
         "y": [
          -0.6884490662965335,
          -0.9591489817265392,
          0.5126037163744914,
          1.9245174858015206,
          -2.2884280401275667,
          1.2406440152415066,
          -0.06298978801352054,
          -0.033070323676519915,
          -0.5303033262295302,
          0.7149162847484957,
          -0.5730454181395311,
          -0.8366216515845367,
          1.2064503417135057,
          -1.2768651982575459,
          1.2078750781105059,
          -1.3424030725195473,
          -0.033070323676519915,
          -0.033070323676519915,
          1.6395702064015147,
          -1.6586945526535537,
          2.126830054175525,
          -1.185682068849544,
          0.27324800167848645,
          0.5012058251984912,
          -0.48756123431952936,
          -1.2170262695835445,
          0.5211521347564916,
          -0.9548747725355391,
          1.7264791266185167,
          1.1152672123055039,
          -1.9236955224955592,
          0.22195749138648538,
          0.0737849060984823,
          0.0780591152894824,
          -0.050167160440520275,
          1.0953209027475035,
          -1.8068671379415568,
          1.2890850527395075,
          -0.801003241659536,
          0.2718232652814864,
          -0.30804444829752564,
          -1.3979677920025484,
          1.8319096199965188,
          -0.5944164640945315,
          0.8730620248154989,
          -0.7653848317345352,
          1.5241665582445123,
          -2.2813043581425667,
          1.5412633950085128,
          -0.7967290324685359,
          0.42996900534848975,
          0.022494395806481236,
          -0.5730454181395311,
          0.2419038009444858,
          0.25472642851748606,
          -0.8237990240115364,
          1.3774187093535093,
          -0.8651163795245372,
          1.4771502571435113,
          -0.6015401460795317,
          -1.6971624353725545,
          1.4856986755255115,
          0.2860706292514867,
          -2.086115471753563,
          1.9273669585955209,
          -0.21686131888952376,
          0.881610443197499,
          -1.4079409467815485,
          -0.20118921852252342,
          -0.35648548579552664,
          -0.17269449058252284,
          1.603951796476514,
          -0.18694185455252313,
          0.2760974744724865,
          -1.8439102842635575,
          0.7120668119544956,
          -0.20546342771352352,
          -0.033070323676519915,
          -0.033070323676519915,
          0.3444848215284879,
          -0.8237990240115364,
          -0.02024769610351965,
          2.075539543883524,
          -1.9635881416115601,
          -0.7511374677645349,
          2.064141652707524,
          -0.7497127313675349,
          0.5225768711534916,
          0.34590955792548794,
          -0.42487283285152805,
          -0.5331527990235303,
          -0.9349284629775387,
          1.938764849771521,
          -1.2554941523025454,
          0.9699440998115009,
          -1.4022420011935484,
          0.8217715145234978,
          0.4627379424794904,
          -1.051756847531541,
          0.9699440998115009,
          -1.9507655140385598,
          1.2833861071515074,
          0.9670946270175008,
          -1.7926197739715566,
          1.4258597468515104,
          -0.7425890493825347,
          1.2947839983275076,
          -0.9691221365055395
         ]
        },
        {
         "name": "Predicted",
         "type": "scatter",
         "x": [
          "2022-09-14",
          "2022-09-15",
          "2022-09-16",
          "2022-09-17",
          "2022-09-18",
          "2022-09-19",
          "2022-09-20",
          "2022-09-21",
          "2022-09-22",
          "2022-09-23",
          "2022-09-24",
          "2022-09-25",
          "2022-09-26",
          "2022-09-27",
          "2022-09-28",
          "2022-09-29",
          "2022-09-30",
          "2022-10-01",
          "2022-10-02",
          "2022-10-03",
          "2022-10-04",
          "2022-10-05",
          "2022-10-06",
          "2022-10-07",
          "2022-10-08",
          "2022-10-09",
          "2022-10-10",
          "2022-10-11",
          "2022-10-12",
          "2022-10-13",
          "2022-10-14",
          "2022-10-15",
          "2022-10-16",
          "2022-10-17",
          "2022-10-18",
          "2022-10-19",
          "2022-10-20",
          "2022-10-21",
          "2022-10-22",
          "2022-10-23",
          "2022-10-24",
          "2022-10-25",
          "2022-10-26",
          "2022-10-27",
          "2022-10-28",
          "2022-10-29",
          "2022-10-30",
          "2022-10-31",
          "2022-11-01",
          "2022-11-02",
          "2022-11-03",
          "2022-11-04",
          "2022-11-05",
          "2022-11-06",
          "2022-11-07",
          "2022-11-08",
          "2022-11-09",
          "2022-11-10",
          "2022-11-11",
          "2022-11-12",
          "2022-11-13",
          "2022-11-14",
          "2022-11-15",
          "2022-11-16",
          "2022-11-17",
          "2022-11-18",
          "2022-11-19",
          "2022-11-20",
          "2022-11-21",
          "2022-11-22",
          "2022-11-23",
          "2022-11-24",
          "2022-11-25",
          "2022-11-26",
          "2022-11-27",
          "2022-11-28",
          "2022-11-29",
          "2022-11-30",
          "2022-12-01",
          "2022-12-02",
          "2022-12-03",
          "2022-12-04",
          "2022-12-05",
          "2022-12-06",
          "2022-12-07",
          "2022-12-08",
          "2022-12-09",
          "2022-12-10",
          "2022-12-11",
          "2022-12-12",
          "2022-12-13",
          "2022-12-14",
          "2022-12-15",
          "2022-12-16",
          "2022-12-17",
          "2022-12-18",
          "2022-12-19",
          "2022-12-20",
          "2022-12-21",
          "2022-12-22",
          "2022-12-23",
          "2022-12-24",
          "2022-12-25",
          "2022-12-26",
          "2022-12-27",
          "2022-12-28",
          "2022-12-29",
          "2022-12-30"
         ],
         "y": [
          -1.2460912466049194,
          -0.7090247869491577,
          -0.18232493102550507,
          -0.6785509586334229,
          -1.7393791675567627,
          -0.5148530006408691,
          -0.912845253944397,
          -0.9431559443473816,
          -0.8768330812454224,
          -0.478659987449646,
          -1.0843111276626587,
          -0.6270544528961182,
          -0.5723932981491089,
          -0.9594817161560059,
          -0.501392662525177,
          -0.921316385269165,
          -0.5984177589416504,
          -0.7155450582504272,
          -0.3682825267314911,
          -1.2997545003890991,
          -0.23998579382896423,
          -0.8344225883483887,
          -0.6458021402359009,
          -1.0207901000976562,
          -0.9377897381782532,
          -0.42796334624290466,
          -0.8565531969070435,
          -0.45195916295051575,
          -0.22067362070083618,
          -0.8455941677093506,
          -1.2514032125473022,
          -0.2596268653869629,
          -0.7295783758163452,
          -1.0885173082351685,
          -0.5111574530601501,
          -0.9513903856277466,
          -1.0309725999832153,
          -0.7564257979393005,
          -1.1310304403305054,
          -1.0084125995635986,
          -0.7522769570350647,
          -0.8721739649772644,
          -0.03291821479797363,
          -1.0150911808013916,
          -0.6533829569816589,
          -0.7141715884208679,
          -0.7489646077156067,
          -1.6653168201446533,
          -0.4191971719264984,
          -1.3203994035720825,
          -0.6198363304138184,
          -0.44569289684295654,
          -0.9349789023399353,
          -0.8441519141197205,
          -0.987652599811554,
          -0.7652664184570312,
          -0.5826705098152161,
          -0.7988691329956055,
          -0.9873049259185791,
          -1.025003433227539,
          -1.1874418258666992,
          -0.5431276559829712,
          -0.9522325992584229,
          -1.5504955053329468,
          -0.4362240433692932,
          -1.1772685050964355,
          -0.6572420597076416,
          -1.3904190063476562,
          -0.4963992238044739,
          -0.9064120054244995,
          -0.4063764810562134,
          -0.6744080781936646,
          -1.0085855722427368,
          -0.7983865737915039,
          -1.2329444885253906,
          -0.6016340851783752,
          -0.5386613607406616,
          -0.769699215888977,
          -0.46654024720191956,
          -0.6822628378868103,
          -0.30910807847976685,
          -0.37563207745552063,
          -1.0160554647445679,
          -0.9183641672134399,
          -0.14904803037643433,
          -0.687863826751709,
          -0.7819491624832153,
          -0.4451669156551361,
          -0.5623420476913452,
          -1.1816959381103516,
          -0.8188472986221313,
          -0.8427663445472717,
          -0.675010085105896,
          -0.8201412558555603,
          -0.3083025813102722,
          -0.7402032613754272,
          -0.8718417286872864,
          -0.702237069606781,
          -0.9577086567878723,
          -0.6779757738113403,
          -0.9914153218269348,
          -0.01036476343870163,
          -0.9046503901481628,
          -1.334533452987671,
          0.24022535979747772,
          -1.133066177368164,
          -1.1351170539855957,
          -1.001390814781189
         ]
        }
       ],
       "layout": {
        "template": {
         "data": {
          "bar": [
           {
            "error_x": {
             "color": "#2a3f5f"
            },
            "error_y": {
             "color": "#2a3f5f"
            },
            "marker": {
             "line": {
              "color": "#E5ECF6",
              "width": 0.5
             },
             "pattern": {
              "fillmode": "overlay",
              "size": 10,
              "solidity": 0.2
             }
            },
            "type": "bar"
           }
          ],
          "barpolar": [
           {
            "marker": {
             "line": {
              "color": "#E5ECF6",
              "width": 0.5
             },
             "pattern": {
              "fillmode": "overlay",
              "size": 10,
              "solidity": 0.2
             }
            },
            "type": "barpolar"
           }
          ],
          "carpet": [
           {
            "aaxis": {
             "endlinecolor": "#2a3f5f",
             "gridcolor": "white",
             "linecolor": "white",
             "minorgridcolor": "white",
             "startlinecolor": "#2a3f5f"
            },
            "baxis": {
             "endlinecolor": "#2a3f5f",
             "gridcolor": "white",
             "linecolor": "white",
             "minorgridcolor": "white",
             "startlinecolor": "#2a3f5f"
            },
            "type": "carpet"
           }
          ],
          "choropleth": [
           {
            "colorbar": {
             "outlinewidth": 0,
             "ticks": ""
            },
            "type": "choropleth"
           }
          ],
          "contour": [
           {
            "colorbar": {
             "outlinewidth": 0,
             "ticks": ""
            },
            "colorscale": [
             [
              0,
              "#0d0887"
             ],
             [
              0.1111111111111111,
              "#46039f"
             ],
             [
              0.2222222222222222,
              "#7201a8"
             ],
             [
              0.3333333333333333,
              "#9c179e"
             ],
             [
              0.4444444444444444,
              "#bd3786"
             ],
             [
              0.5555555555555556,
              "#d8576b"
             ],
             [
              0.6666666666666666,
              "#ed7953"
             ],
             [
              0.7777777777777778,
              "#fb9f3a"
             ],
             [
              0.8888888888888888,
              "#fdca26"
             ],
             [
              1,
              "#f0f921"
             ]
            ],
            "type": "contour"
           }
          ],
          "contourcarpet": [
           {
            "colorbar": {
             "outlinewidth": 0,
             "ticks": ""
            },
            "type": "contourcarpet"
           }
          ],
          "heatmap": [
           {
            "colorbar": {
             "outlinewidth": 0,
             "ticks": ""
            },
            "colorscale": [
             [
              0,
              "#0d0887"
             ],
             [
              0.1111111111111111,
              "#46039f"
             ],
             [
              0.2222222222222222,
              "#7201a8"
             ],
             [
              0.3333333333333333,
              "#9c179e"
             ],
             [
              0.4444444444444444,
              "#bd3786"
             ],
             [
              0.5555555555555556,
              "#d8576b"
             ],
             [
              0.6666666666666666,
              "#ed7953"
             ],
             [
              0.7777777777777778,
              "#fb9f3a"
             ],
             [
              0.8888888888888888,
              "#fdca26"
             ],
             [
              1,
              "#f0f921"
             ]
            ],
            "type": "heatmap"
           }
          ],
          "heatmapgl": [
           {
            "colorbar": {
             "outlinewidth": 0,
             "ticks": ""
            },
            "colorscale": [
             [
              0,
              "#0d0887"
             ],
             [
              0.1111111111111111,
              "#46039f"
             ],
             [
              0.2222222222222222,
              "#7201a8"
             ],
             [
              0.3333333333333333,
              "#9c179e"
             ],
             [
              0.4444444444444444,
              "#bd3786"
             ],
             [
              0.5555555555555556,
              "#d8576b"
             ],
             [
              0.6666666666666666,
              "#ed7953"
             ],
             [
              0.7777777777777778,
              "#fb9f3a"
             ],
             [
              0.8888888888888888,
              "#fdca26"
             ],
             [
              1,
              "#f0f921"
             ]
            ],
            "type": "heatmapgl"
           }
          ],
          "histogram": [
           {
            "marker": {
             "pattern": {
              "fillmode": "overlay",
              "size": 10,
              "solidity": 0.2
             }
            },
            "type": "histogram"
           }
          ],
          "histogram2d": [
           {
            "colorbar": {
             "outlinewidth": 0,
             "ticks": ""
            },
            "colorscale": [
             [
              0,
              "#0d0887"
             ],
             [
              0.1111111111111111,
              "#46039f"
             ],
             [
              0.2222222222222222,
              "#7201a8"
             ],
             [
              0.3333333333333333,
              "#9c179e"
             ],
             [
              0.4444444444444444,
              "#bd3786"
             ],
             [
              0.5555555555555556,
              "#d8576b"
             ],
             [
              0.6666666666666666,
              "#ed7953"
             ],
             [
              0.7777777777777778,
              "#fb9f3a"
             ],
             [
              0.8888888888888888,
              "#fdca26"
             ],
             [
              1,
              "#f0f921"
             ]
            ],
            "type": "histogram2d"
           }
          ],
          "histogram2dcontour": [
           {
            "colorbar": {
             "outlinewidth": 0,
             "ticks": ""
            },
            "colorscale": [
             [
              0,
              "#0d0887"
             ],
             [
              0.1111111111111111,
              "#46039f"
             ],
             [
              0.2222222222222222,
              "#7201a8"
             ],
             [
              0.3333333333333333,
              "#9c179e"
             ],
             [
              0.4444444444444444,
              "#bd3786"
             ],
             [
              0.5555555555555556,
              "#d8576b"
             ],
             [
              0.6666666666666666,
              "#ed7953"
             ],
             [
              0.7777777777777778,
              "#fb9f3a"
             ],
             [
              0.8888888888888888,
              "#fdca26"
             ],
             [
              1,
              "#f0f921"
             ]
            ],
            "type": "histogram2dcontour"
           }
          ],
          "mesh3d": [
           {
            "colorbar": {
             "outlinewidth": 0,
             "ticks": ""
            },
            "type": "mesh3d"
           }
          ],
          "parcoords": [
           {
            "line": {
             "colorbar": {
              "outlinewidth": 0,
              "ticks": ""
             }
            },
            "type": "parcoords"
           }
          ],
          "pie": [
           {
            "automargin": true,
            "type": "pie"
           }
          ],
          "scatter": [
           {
            "fillpattern": {
             "fillmode": "overlay",
             "size": 10,
             "solidity": 0.2
            },
            "type": "scatter"
           }
          ],
          "scatter3d": [
           {
            "line": {
             "colorbar": {
              "outlinewidth": 0,
              "ticks": ""
             }
            },
            "marker": {
             "colorbar": {
              "outlinewidth": 0,
              "ticks": ""
             }
            },
            "type": "scatter3d"
           }
          ],
          "scattercarpet": [
           {
            "marker": {
             "colorbar": {
              "outlinewidth": 0,
              "ticks": ""
             }
            },
            "type": "scattercarpet"
           }
          ],
          "scattergeo": [
           {
            "marker": {
             "colorbar": {
              "outlinewidth": 0,
              "ticks": ""
             }
            },
            "type": "scattergeo"
           }
          ],
          "scattergl": [
           {
            "marker": {
             "colorbar": {
              "outlinewidth": 0,
              "ticks": ""
             }
            },
            "type": "scattergl"
           }
          ],
          "scattermapbox": [
           {
            "marker": {
             "colorbar": {
              "outlinewidth": 0,
              "ticks": ""
             }
            },
            "type": "scattermapbox"
           }
          ],
          "scatterpolar": [
           {
            "marker": {
             "colorbar": {
              "outlinewidth": 0,
              "ticks": ""
             }
            },
            "type": "scatterpolar"
           }
          ],
          "scatterpolargl": [
           {
            "marker": {
             "colorbar": {
              "outlinewidth": 0,
              "ticks": ""
             }
            },
            "type": "scatterpolargl"
           }
          ],
          "scatterternary": [
           {
            "marker": {
             "colorbar": {
              "outlinewidth": 0,
              "ticks": ""
             }
            },
            "type": "scatterternary"
           }
          ],
          "surface": [
           {
            "colorbar": {
             "outlinewidth": 0,
             "ticks": ""
            },
            "colorscale": [
             [
              0,
              "#0d0887"
             ],
             [
              0.1111111111111111,
              "#46039f"
             ],
             [
              0.2222222222222222,
              "#7201a8"
             ],
             [
              0.3333333333333333,
              "#9c179e"
             ],
             [
              0.4444444444444444,
              "#bd3786"
             ],
             [
              0.5555555555555556,
              "#d8576b"
             ],
             [
              0.6666666666666666,
              "#ed7953"
             ],
             [
              0.7777777777777778,
              "#fb9f3a"
             ],
             [
              0.8888888888888888,
              "#fdca26"
             ],
             [
              1,
              "#f0f921"
             ]
            ],
            "type": "surface"
           }
          ],
          "table": [
           {
            "cells": {
             "fill": {
              "color": "#EBF0F8"
             },
             "line": {
              "color": "white"
             }
            },
            "header": {
             "fill": {
              "color": "#C8D4E3"
             },
             "line": {
              "color": "white"
             }
            },
            "type": "table"
           }
          ]
         },
         "layout": {
          "annotationdefaults": {
           "arrowcolor": "#2a3f5f",
           "arrowhead": 0,
           "arrowwidth": 1
          },
          "autotypenumbers": "strict",
          "coloraxis": {
           "colorbar": {
            "outlinewidth": 0,
            "ticks": ""
           }
          },
          "colorscale": {
           "diverging": [
            [
             0,
             "#8e0152"
            ],
            [
             0.1,
             "#c51b7d"
            ],
            [
             0.2,
             "#de77ae"
            ],
            [
             0.3,
             "#f1b6da"
            ],
            [
             0.4,
             "#fde0ef"
            ],
            [
             0.5,
             "#f7f7f7"
            ],
            [
             0.6,
             "#e6f5d0"
            ],
            [
             0.7,
             "#b8e186"
            ],
            [
             0.8,
             "#7fbc41"
            ],
            [
             0.9,
             "#4d9221"
            ],
            [
             1,
             "#276419"
            ]
           ],
           "sequential": [
            [
             0,
             "#0d0887"
            ],
            [
             0.1111111111111111,
             "#46039f"
            ],
            [
             0.2222222222222222,
             "#7201a8"
            ],
            [
             0.3333333333333333,
             "#9c179e"
            ],
            [
             0.4444444444444444,
             "#bd3786"
            ],
            [
             0.5555555555555556,
             "#d8576b"
            ],
            [
             0.6666666666666666,
             "#ed7953"
            ],
            [
             0.7777777777777778,
             "#fb9f3a"
            ],
            [
             0.8888888888888888,
             "#fdca26"
            ],
            [
             1,
             "#f0f921"
            ]
           ],
           "sequentialminus": [
            [
             0,
             "#0d0887"
            ],
            [
             0.1111111111111111,
             "#46039f"
            ],
            [
             0.2222222222222222,
             "#7201a8"
            ],
            [
             0.3333333333333333,
             "#9c179e"
            ],
            [
             0.4444444444444444,
             "#bd3786"
            ],
            [
             0.5555555555555556,
             "#d8576b"
            ],
            [
             0.6666666666666666,
             "#ed7953"
            ],
            [
             0.7777777777777778,
             "#fb9f3a"
            ],
            [
             0.8888888888888888,
             "#fdca26"
            ],
            [
             1,
             "#f0f921"
            ]
           ]
          },
          "colorway": [
           "#636efa",
           "#EF553B",
           "#00cc96",
           "#ab63fa",
           "#FFA15A",
           "#19d3f3",
           "#FF6692",
           "#B6E880",
           "#FF97FF",
           "#FECB52"
          ],
          "font": {
           "color": "#2a3f5f"
          },
          "geo": {
           "bgcolor": "white",
           "lakecolor": "white",
           "landcolor": "#E5ECF6",
           "showlakes": true,
           "showland": true,
           "subunitcolor": "white"
          },
          "hoverlabel": {
           "align": "left"
          },
          "hovermode": "closest",
          "mapbox": {
           "style": "light"
          },
          "paper_bgcolor": "white",
          "plot_bgcolor": "#E5ECF6",
          "polar": {
           "angularaxis": {
            "gridcolor": "white",
            "linecolor": "white",
            "ticks": ""
           },
           "bgcolor": "#E5ECF6",
           "radialaxis": {
            "gridcolor": "white",
            "linecolor": "white",
            "ticks": ""
           }
          },
          "scene": {
           "xaxis": {
            "backgroundcolor": "#E5ECF6",
            "gridcolor": "white",
            "gridwidth": 2,
            "linecolor": "white",
            "showbackground": true,
            "ticks": "",
            "zerolinecolor": "white"
           },
           "yaxis": {
            "backgroundcolor": "#E5ECF6",
            "gridcolor": "white",
            "gridwidth": 2,
            "linecolor": "white",
            "showbackground": true,
            "ticks": "",
            "zerolinecolor": "white"
           },
           "zaxis": {
            "backgroundcolor": "#E5ECF6",
            "gridcolor": "white",
            "gridwidth": 2,
            "linecolor": "white",
            "showbackground": true,
            "ticks": "",
            "zerolinecolor": "white"
           }
          },
          "shapedefaults": {
           "line": {
            "color": "#2a3f5f"
           }
          },
          "ternary": {
           "aaxis": {
            "gridcolor": "white",
            "linecolor": "white",
            "ticks": ""
           },
           "baxis": {
            "gridcolor": "white",
            "linecolor": "white",
            "ticks": ""
           },
           "bgcolor": "#E5ECF6",
           "caxis": {
            "gridcolor": "white",
            "linecolor": "white",
            "ticks": ""
           }
          },
          "title": {
           "x": 0.05
          },
          "xaxis": {
           "automargin": true,
           "gridcolor": "white",
           "linecolor": "white",
           "ticks": "",
           "title": {
            "standoff": 15
           },
           "zerolinecolor": "white",
           "zerolinewidth": 2
          },
          "yaxis": {
           "automargin": true,
           "gridcolor": "white",
           "linecolor": "white",
           "ticks": "",
           "title": {
            "standoff": 15
           },
           "zerolinecolor": "white",
           "zerolinewidth": 2
          }
         }
        },
        "title": {
         "text": " fct_transactions NNet & tsfresh. MAE=1.0039"
        }
       }
      }
     },
     "metadata": {},
     "output_type": "display_data"
    },
    {
     "name": "stderr",
     "output_type": "stream",
     "text": [
      "Rolling: 100%|██████████| 20/20 [00:00<00:00, 47.14it/s]\n",
      "Feature Extraction: 100%|██████████| 20/20 [00:00<00:00, 69.11it/s]\n"
     ]
    },
    {
     "data": {
      "image/png": "[encoded data removed]",
      "text/plain": [
       "<Figure size 640x480 with 1 Axes>"
      ]
     },
     "metadata": {},
     "output_type": "display_data"
    },
    {
     "data": {
      "application/vnd.plotly.v1+json": {
       "config": {
        "plotlyServerURL": "https://plot.ly"
       },
       "data": [
        {
         "name": "Train",
         "type": "scatter",
         "x": [
          "2022-01-07",
          "2022-01-08",
          "2022-01-09",
          "2022-01-10",
          "2022-01-11",
          "2022-01-12",
          "2022-01-13",
          "2022-01-14",
          "2022-01-15",
          "2022-01-16",
          "2022-01-17",
          "2022-01-18",
          "2022-01-19",
          "2022-01-20",
          "2022-01-21",
          "2022-01-22",
          "2022-01-23",
          "2022-01-24",
          "2022-01-25",
          "2022-01-26",
          "2022-01-27",
          "2022-01-28",
          "2022-01-29",
          "2022-01-30",
          "2022-01-31",
          "2022-02-01",
          "2022-02-02",
          "2022-02-03",
          "2022-02-04",
          "2022-02-05",
          "2022-02-06",
          "2022-02-07",
          "2022-02-08",
          "2022-02-09",
          "2022-02-10",
          "2022-02-11",
          "2022-02-12",
          "2022-02-13",
          "2022-02-14",
          "2022-02-15",
          "2022-02-16",
          "2022-02-17",
          "2022-02-18",
          "2022-02-19",
          "2022-02-20",
          "2022-02-21",
          "2022-02-22",
          "2022-02-23",
          "2022-02-24",
          "2022-02-25",
          "2022-02-26",
          "2022-02-27",
          "2022-02-28",
          "2022-03-01",
          "2022-03-02",
          "2022-03-03",
          "2022-03-04",
          "2022-03-05",
          "2022-03-06",
          "2022-03-07",
          "2022-03-08",
          "2022-03-09",
          "2022-03-10",
          "2022-03-11",
          "2022-03-12",
          "2022-03-13",
          "2022-03-14",
          "2022-03-15",
          "2022-03-16",
          "2022-03-17",
          "2022-03-18",
          "2022-03-19",
          "2022-03-20",
          "2022-03-21",
          "2022-03-22",
          "2022-03-23",
          "2022-03-24",
          "2022-03-25",
          "2022-03-26",
          "2022-03-27",
          "2022-03-28",
          "2022-03-29",
          "2022-03-30",
          "2022-03-31",
          "2022-04-01",
          "2022-04-02",
          "2022-04-03",
          "2022-04-04",
          "2022-04-05",
          "2022-04-06",
          "2022-04-07",
          "2022-04-08",
          "2022-04-09",
          "2022-04-10",
          "2022-04-11",
          "2022-04-12",
          "2022-04-13",
          "2022-04-14",
          "2022-04-15",
          "2022-04-16",
          "2022-04-17",
          "2022-04-18",
          "2022-04-19",
          "2022-04-20",
          "2022-04-21",
          "2022-04-22",
          "2022-04-23",
          "2022-04-24",
          "2022-04-25",
          "2022-04-26",
          "2022-04-27",
          "2022-04-28",
          "2022-04-29",
          "2022-04-30",
          "2022-05-01",
          "2022-05-02",
          "2022-05-03",
          "2022-05-04",
          "2022-05-05",
          "2022-05-06",
          "2022-05-07",
          "2022-05-08",
          "2022-05-09",
          "2022-05-10",
          "2022-05-11",
          "2022-05-12",
          "2022-05-13",
          "2022-05-14",
          "2022-05-15",
          "2022-05-16",
          "2022-05-17",
          "2022-05-18",
          "2022-05-19",
          "2022-05-20",
          "2022-05-21",
          "2022-05-22",
          "2022-05-23",
          "2022-05-24",
          "2022-05-25",
          "2022-05-26",
          "2022-05-27",
          "2022-05-28",
          "2022-05-29",
          "2022-05-30",
          "2022-05-31",
          "2022-06-01",
          "2022-06-02",
          "2022-06-03",
          "2022-06-04",
          "2022-06-05",
          "2022-06-06",
          "2022-06-07",
          "2022-06-08",
          "2022-06-09",
          "2022-06-10",
          "2022-06-11",
          "2022-06-12",
          "2022-06-13",
          "2022-06-14",
          "2022-06-15",
          "2022-06-16",
          "2022-06-17",
          "2022-06-18",
          "2022-06-19",
          "2022-06-20",
          "2022-06-21",
          "2022-06-22",
          "2022-06-23",
          "2022-06-24",
          "2022-06-25",
          "2022-06-26",
          "2022-06-27",
          "2022-06-28",
          "2022-06-29",
          "2022-06-30",
          "2022-07-01",
          "2022-07-02",
          "2022-07-03",
          "2022-07-04",
          "2022-07-05",
          "2022-07-06",
          "2022-07-07",
          "2022-07-08",
          "2022-07-09",
          "2022-07-10",
          "2022-07-11",
          "2022-07-12",
          "2022-07-13",
          "2022-07-14",
          "2022-07-15",
          "2022-07-16",
          "2022-07-17",
          "2022-07-18",
          "2022-07-19",
          "2022-07-20",
          "2022-07-21",
          "2022-07-22",
          "2022-07-23",
          "2022-07-24",
          "2022-07-25",
          "2022-07-26",
          "2022-07-27",
          "2022-07-28",
          "2022-07-29",
          "2022-07-30",
          "2022-07-31",
          "2022-08-01",
          "2022-08-02",
          "2022-08-03",
          "2022-08-04",
          "2022-08-05",
          "2022-08-06",
          "2022-08-07",
          "2022-08-08",
          "2022-08-09",
          "2022-08-10",
          "2022-08-11",
          "2022-08-12",
          "2022-08-13",
          "2022-08-14",
          "2022-08-15",
          "2022-08-16",
          "2022-08-17",
          "2022-08-18",
          "2022-08-19",
          "2022-08-20",
          "2022-08-21",
          "2022-08-22",
          "2022-08-23",
          "2022-08-24",
          "2022-08-25",
          "2022-08-26",
          "2022-08-27",
          "2022-08-28",
          "2022-08-29",
          "2022-08-30",
          "2022-08-31",
          "2022-09-01",
          "2022-09-02",
          "2022-09-03",
          "2022-09-04",
          "2022-09-05",
          "2022-09-06",
          "2022-09-07",
          "2022-09-08",
          "2022-09-09",
          "2022-09-10",
          "2022-09-11",
          "2022-09-12",
          "2022-09-13"
         ],
         "y": [
          0.8204647763962049,
          -1.1764343496432388,
          0.25474094097865974,
          -0.08450060939097549,
          1.284994399345535,
          -0.7186510075251232,
          -1.4385755476561388,
          1.87481209487456,
          -1.0135598552896357,
          0.18631437826205718,
          0.17667683421746527,
          -0.5528852499581424,
          0.41954294414118143,
          1.2262053806735242,
          -1.6091600772454155,
          0.4937520332845391,
          -1.5744649186848847,
          1.1279024314186867,
          0.6826478965585405,
          -0.9971760304138294,
          -1.1215003485890649,
          0.45520185710617145,
          0.543867262316417,
          0.6662640716827343,
          0.5824174384947847,
          -2.1450075261247257,
          1.4006449278806379,
          0.4291804881857733,
          -0.904655607585747,
          0.5602510871922233,
          -0.9017643443723695,
          -0.7880413246461849,
          0.4976070509023759,
          -0.4979512489039684,
          2.5542589500182897,
          -0.873815466643053,
          -0.6309493567193368,
          -0.7032309370537762,
          1.1327212034409828,
          1.4632889641704854,
          0.04030558598648974,
          0.7693857929598676,
          0.3462976094022829,
          -0.3726631763242736,
          -0.2955628239675383,
          0.17860434302638364,
          -0.11244948712029203,
          0.3877390487940281,
          -0.9807922055380232,
          1.2734293464920248,
          0.5881999649215398,
          -0.0729355565374652,
          0.04030558598648974,
          0.5573598239788456,
          -0.9268219588883084,
          0.04030558598648974,
          1.3341458739729537,
          -1.7951646773060395,
          1.2184953454378509,
          1.12404741380085,
          -1.1099352957355546,
          0.5082083493514269,
          0.26534223942771085,
          -1.7007167456690386,
          -0.677209568133378,
          2.1899597851327153,
          -0.5548127587670607,
          -0.20882492756621113,
          1.8121680585847124,
          -2.0168281903316534,
          0.3655726974914667,
          1.2310241526958203,
          -1.7151730617359267,
          0.6334964219311218,
          -0.2425563317222828,
          0.33569631095323177,
          0.06873634091803588,
          0.2595597130009557,
          -1.874192538471693,
          2.0058826938810097,
          -0.2647226830248442,
          0.9438253401669813,
          -0.7976788686907769,
          -1.5397697601243538,
          1.7851829352598552,
          -0.9027280987768287,
          -0.8015338863086137,
          0.3983403472430792,
          -0.7273247971652559,
          1.2676468200652695,
          0.670119089300571,
          -0.49698749449950924,
          0.09764897305181161,
          -0.18665857626364973,
          -1.9532203996373467,
          1.0748959391734314,
          0.0880114290072197,
          -0.005472748225321834,
          0.11788781554545462,
          1.7369952150368955,
          -0.3610981234707633,
          -1.9349090659526222,
          0.39737659283862004,
          0.6209676146731523,
          0.15836550053274065,
          -0.2329187876776909,
          -1.1658330511941877,
          2.6265405303527287,
          -0.9489883101908698,
          -1.5744649186848847,
          0.765530775342031,
          -0.04209541559477109,
          0.4947157876889983,
          0.04030558598648974,
          0.04030558598648974,
          -0.41121335250264124,
          -0.9836834687514008,
          -0.8102076759487463,
          0.2884723451347314,
          2.2853714711741753,
          -1.3711127393439955,
          0.9216589888644199,
          -2.0081544006915206,
          1.3418559092086273,
          -0.8998368355634512,
          -0.2801427534961913,
          -0.480603669623703,
          0.37328273272714024,
          0.8098634779471537,
          -1.459778144554241,
          1.5211142284380368,
          -0.32351170169685484,
          -0.3061641224165894,
          1.12404741380085,
          -0.8015338863086137,
          -0.6492606904040614,
          1.2859581537499942,
          -1.146557963105004,
          -0.5779428644740814,
          2.0193752555434386,
          -1.6139788492677116,
          0.30967494203283363,
          -0.17027475138784348,
          0.46965817317305936,
          -1.0829501724106974,
          0.7308356167815,
          0.6537352644247647,
          -0.0411316611903119,
          -1.136920419060412,
          -0.5923991805409692,
          0.9149127080332056,
          1.1385037298677378,
          -0.8815255018787265,
          0.44556431306157956,
          0.7790233370044596,
          -1.5320597248886803,
          -0.48638619605045813,
          1.87481209487456,
          -1.076203891579483,
          -0.9759734335157272,
          1.6309822305463846,
          -0.5403564427001729,
          0.01862111188615794,
          -0.034385380359097564,
          -0.26954145504714017,
          0.8773262862592971,
          -1.293048632582801,
          -1.3923153362420977,
          0.04030558598648974,
          -2.3310121261853496,
          0.645061474784632,
          -2.019719453545031,
          2.733517269247699,
          1.1529600459346259,
          0.04030558598648974,
          0.04030558598648974,
          -1.9965893478380103,
          2.1485183457409702,
          -0.8921268003277776,
          0.6913216861986732,
          -0.6550432168308166,
          -0.43530721261412103,
          0.1313803772078833,
          0.2730522746633844,
          1.8208418482248452,
          -1.177398104047698,
          -0.06811678451516924,
          0.8185372675872864,
          0.04753374401993367,
          -0.7928600966684809,
          -0.04884169642598543,
          0.36460894308700753,
          -0.6858833577735107,
          0.3212399948863439,
          -0.0931743990311082,
          -0.7157597443117456,
          0.4291804881857733,
          0.28750859073027224,
          -0.22810001565539495,
          -0.2512301213624155,
          -0.14232587365852695,
          2.1870685219193375,
          -2.756027818551853,
          0.8860000758994298,
          0.2990736435837825,
          -0.6839558489645924,
          1.1452500106989523,
          0.08993893781613808,
          -0.374590685133192,
          -1.3576201776815668,
          0.9746654811096753,
          0.4715856819819777,
          -1.066566347534891,
          0.442673049848202,
          0.8638337245968684,
          -2.0187556991405717,
          -0.6174567950569082,
          1.724466407778926,
          -0.4719298799835703,
          0.031149919144127423,
          0.5833811928992438,
          -0.6588982344486534,
          1.1625975899792178,
          -0.023784081910046464,
          -0.5654140572161118,
          0.8175735131828272,
          -2.250056756210778,
          0.32895003012201746,
          0.9592454106383284,
          -0.0016177306074850696,
          0.4002678560519976,
          -0.6232393214836633,
          0.12367034197220977,
          -0.9730821703023497,
          1.3746235589602398,
          -0.9008005899679103,
          0.3482251182112013,
          -0.3109828944388854,
          0.19980693992448587,
          0.8840725670905114,
          -1.3152149838853624,
          -0.12015952235596555,
          0.7472194416573062,
          0.6036200353928868,
          0.3125662052462112,
          -1.9021414162010097,
          1.2637918024474328,
          -0.4381984758274986,
          0.609402561819642,
          -1.1128265589489321
         ]
        },
        {
         "name": "Test",
         "type": "scatter",
         "x": [
          "2022-09-14",
          "2022-09-15",
          "2022-09-16",
          "2022-09-17",
          "2022-09-18",
          "2022-09-19",
          "2022-09-20",
          "2022-09-21",
          "2022-09-22",
          "2022-09-23",
          "2022-09-24",
          "2022-09-25",
          "2022-09-26",
          "2022-09-27",
          "2022-09-28",
          "2022-09-29",
          "2022-09-30",
          "2022-10-01",
          "2022-10-02",
          "2022-10-03",
          "2022-10-04",
          "2022-10-05",
          "2022-10-06",
          "2022-10-07",
          "2022-10-08",
          "2022-10-09",
          "2022-10-10",
          "2022-10-11",
          "2022-10-12",
          "2022-10-13",
          "2022-10-14",
          "2022-10-15",
          "2022-10-16",
          "2022-10-17",
          "2022-10-18",
          "2022-10-19",
          "2022-10-20",
          "2022-10-21",
          "2022-10-22",
          "2022-10-23",
          "2022-10-24",
          "2022-10-25",
          "2022-10-26",
          "2022-10-27",
          "2022-10-28",
          "2022-10-29",
          "2022-10-30",
          "2022-10-31",
          "2022-11-01",
          "2022-11-02",
          "2022-11-03",
          "2022-11-04",
          "2022-11-05",
          "2022-11-06",
          "2022-11-07",
          "2022-11-08",
          "2022-11-09",
          "2022-11-10",
          "2022-11-11",
          "2022-11-12",
          "2022-11-13",
          "2022-11-14",
          "2022-11-15",
          "2022-11-16",
          "2022-11-17",
          "2022-11-18",
          "2022-11-19",
          "2022-11-20",
          "2022-11-21",
          "2022-11-22",
          "2022-11-23",
          "2022-11-24",
          "2022-11-25",
          "2022-11-26",
          "2022-11-27",
          "2022-11-28",
          "2022-11-29",
          "2022-11-30",
          "2022-12-01",
          "2022-12-02",
          "2022-12-03",
          "2022-12-04",
          "2022-12-05",
          "2022-12-06",
          "2022-12-07",
          "2022-12-08",
          "2022-12-09",
          "2022-12-10",
          "2022-12-11",
          "2022-12-12",
          "2022-12-13",
          "2022-12-14",
          "2022-12-15",
          "2022-12-16",
          "2022-12-17",
          "2022-12-18",
          "2022-12-19",
          "2022-12-20",
          "2022-12-21",
          "2022-12-22",
          "2022-12-23",
          "2022-12-24",
          "2022-12-25",
          "2022-12-26",
          "2022-12-27",
          "2022-12-28",
          "2022-12-29",
          "2022-12-30"
         ],
         "y": [
          0.9688829546829202,
          0.5255559286316923,
          -0.7273247971652559,
          0.29425487156148655,
          -0.4381984758274986,
          -0.8901992915188592,
          -0.20689741875729276,
          0.3212399948863439,
          0.7250530903547449,
          0.483150734835488,
          0.4272529793768549,
          -0.546138969126928,
          -0.9104381340125023,
          0.3019649067971601,
          -0.7109409722894497,
          0.9862305339631856,
          0.04030558598648974,
          0.04030558598648974,
          0.886963830303889,
          -0.3967570364357534,
          -0.7976788686907769,
          0.4070141368832119,
          0.26726974823662925,
          -0.2213537348241806,
          0.4889332612622432,
          -1.167760560003106,
          1.2464442231671673,
          -1.9522566452328876,
          1.043092043826278,
          -0.44012598463641694,
          2.001063921858714,
          -1.2940123869872602,
          0.5872362105170806,
          1.5461718429539757,
          -1.9185252410768159,
          0.3761739959405178,
          -1.6101238316498747,
          0.6431339659757137,
          0.40605038247875275,
          0.18824188707097556,
          -0.3919382644134574,
          -0.42181465095169235,
          -0.29267156075416073,
          0.6122938250330195,
          -1.1494492263183815,
          2.259350102253777,
          -0.7687662365570012,
          -0.018001555483291316,
          1.2329516615047387,
          0.04030558598648974,
          0.9534628842115732,
          0.11306904352315866,
          -0.9836834687514008,
          1.492201596304261,
          -0.8979093267545327,
          1.2734293464920248,
          0.3655726974914667,
          -0.2955628239675383,
          -0.6116742686301531,
          0.4002678560519976,
          -1.5416972689332722,
          1.0816422200046456,
          -0.9017643443723695,
          0.4648394011507634,
          0.624822632290989,
          -0.3967570364357534,
          0.08608392019830131,
          -1.1311378926336568,
          1.3052332418391779,
          -0.5567402675759792,
          0.2576322041920373,
          0.10825027150086271,
          -0.6627532520664902,
          0.21040823837353695,
          -0.2974903327764567,
          1.7591615663394569,
          -0.027639099527883227,
          0.04030558598648974,
          0.04030558598648974,
          -1.071385119557187,
          0.4407455410392836,
          -0.18762233066810893,
          0.8156460043739089,
          -0.9171844148437166,
          0.24510339693406782,
          0.48122322602656964,
          -1.38942407302872,
          1.2368066791225754,
          -1.0800589091973198,
          -0.566377811620571,
          0.8532324261478172,
          -0.4449447566587129,
          -0.0931743990311082,
          0.03307742795304581,
          0.7886608810490515,
          0.42532547056793657,
          -0.19918738352161922,
          -1.5339872336975986,
          1.6194171776928743,
          -0.9460970469774923,
          0.22293704563150643,
          -1.4530318637230266,
          0.04030558598648974,
          -1.5648273746402928,
          -0.3832644747733247,
          0.7896246354535107,
          -0.2955628239675383,
          0.7616757577241942
         ]
        },
        {
         "name": "Predicted",
         "type": "scatter",
         "x": [
          "2022-09-14",
          "2022-09-15",
          "2022-09-16",
          "2022-09-17",
          "2022-09-18",
          "2022-09-19",
          "2022-09-20",
          "2022-09-21",
          "2022-09-22",
          "2022-09-23",
          "2022-09-24",
          "2022-09-25",
          "2022-09-26",
          "2022-09-27",
          "2022-09-28",
          "2022-09-29",
          "2022-09-30",
          "2022-10-01",
          "2022-10-02",
          "2022-10-03",
          "2022-10-04",
          "2022-10-05",
          "2022-10-06",
          "2022-10-07",
          "2022-10-08",
          "2022-10-09",
          "2022-10-10",
          "2022-10-11",
          "2022-10-12",
          "2022-10-13",
          "2022-10-14",
          "2022-10-15",
          "2022-10-16",
          "2022-10-17",
          "2022-10-18",
          "2022-10-19",
          "2022-10-20",
          "2022-10-21",
          "2022-10-22",
          "2022-10-23",
          "2022-10-24",
          "2022-10-25",
          "2022-10-26",
          "2022-10-27",
          "2022-10-28",
          "2022-10-29",
          "2022-10-30",
          "2022-10-31",
          "2022-11-01",
          "2022-11-02",
          "2022-11-03",
          "2022-11-04",
          "2022-11-05",
          "2022-11-06",
          "2022-11-07",
          "2022-11-08",
          "2022-11-09",
          "2022-11-10",
          "2022-11-11",
          "2022-11-12",
          "2022-11-13",
          "2022-11-14",
          "2022-11-15",
          "2022-11-16",
          "2022-11-17",
          "2022-11-18",
          "2022-11-19",
          "2022-11-20",
          "2022-11-21",
          "2022-11-22",
          "2022-11-23",
          "2022-11-24",
          "2022-11-25",
          "2022-11-26",
          "2022-11-27",
          "2022-11-28",
          "2022-11-29",
          "2022-11-30",
          "2022-12-01",
          "2022-12-02",
          "2022-12-03",
          "2022-12-04",
          "2022-12-05",
          "2022-12-06",
          "2022-12-07",
          "2022-12-08",
          "2022-12-09",
          "2022-12-10",
          "2022-12-11",
          "2022-12-12",
          "2022-12-13",
          "2022-12-14",
          "2022-12-15",
          "2022-12-16",
          "2022-12-17",
          "2022-12-18",
          "2022-12-19",
          "2022-12-20",
          "2022-12-21",
          "2022-12-22",
          "2022-12-23",
          "2022-12-24",
          "2022-12-25",
          "2022-12-26",
          "2022-12-27",
          "2022-12-28",
          "2022-12-29",
          "2022-12-30"
         ],
         "y": [
          -0.033962979912757874,
          -0.3422066867351532,
          -0.22340840101242065,
          -0.07108694314956665,
          -0.38315892219543457,
          -0.05667605996131897,
          0.5633096098899841,
          -0.14647440612316132,
          -0.08634616434574127,
          -0.24856483936309814,
          -0.2711455523967743,
          -0.33826518058776855,
          -0.031968116760253906,
          0.24968793988227844,
          -0.26760366559028625,
          0.20450091361999512,
          0.005072548985481262,
          -0.4119507074356079,
          -0.331514835357666,
          -0.37349164485931396,
          0.09219685196876526,
          -0.4758203327655792,
          -0.35446521639823914,
          -0.17793551087379456,
          -0.21643750369548798,
          -0.49851733446121216,
          0.2034619152545929,
          -0.36605310440063477,
          -0.10739505290985107,
          -0.4384298324584961,
          0.07158681750297546,
          -0.40212687849998474,
          0.06707261502742767,
          0.022533297538757324,
          -0.5239077806472778,
          -0.2742071747779846,
          -0.6232469081878662,
          0.21324126422405243,
          -0.12208259105682373,
          -0.36464643478393555,
          0.1857379674911499,
          0.3279993534088135,
          -0.2531410753726959,
          -0.0067152827978134155,
          -0.05790753290057182,
          0.3042013645172119,
          -0.5545570254325867,
          0.006579399108886719,
          0.3318183720111847,
          -0.9585299491882324,
          -0.5157956480979919,
          -0.8025993704795837,
          -0.26448124647140503,
          -0.39893198013305664,
          -0.465465247631073,
          0.3777226209640503,
          -1.0196329355239868,
          -0.8341028094291687,
          -0.9709986448287964,
          -0.6572186946868896,
          -0.9221575856208801,
          0.008392050862312317,
          -0.4602024555206299,
          -0.6974619626998901,
          -0.8840636014938354,
          -0.7944952249526978,
          -0.827022910118103,
          -0.6789065599441528,
          -0.1356847882270813,
          -0.5610185861587524,
          -0.5122641324996948,
          -0.5325785875320435,
          -0.22402417659759521,
          0.026247452944517136,
          -0.4721343517303467,
          0.32301706075668335,
          -0.29174959659576416,
          -0.34626221656799316,
          -0.17643572390079498,
          -0.13987818360328674,
          0.06808436661958694,
          -0.252018004655838,
          -0.14186421036720276,
          -0.07931345701217651,
          -0.4294465184211731,
          -0.38420581817626953,
          -0.2666306495666504,
          0.1436571180820465,
          -0.5279813408851624,
          0.03606373071670532,
          0.4932394027709961,
          -0.44728755950927734,
          -0.08153723180294037,
          0.042286522686481476,
          -0.09789102524518967,
          -0.4696228504180908,
          -0.22532859444618225,
          0.28256720304489136,
          0.21896210312843323,
          -0.2793453335762024,
          0.2694387435913086,
          -0.09104481339454651,
          0.2560145854949951,
          0.42770498991012573,
          1.1951546669006348,
          0.4717314541339874,
          0.34404459595680237,
          0.7272434234619141
         ]
        }
       ],
       "layout": {
        "template": {
         "data": {
          "bar": [
           {
            "error_x": {
             "color": "#2a3f5f"
            },
            "error_y": {
             "color": "#2a3f5f"
            },
            "marker": {
             "line": {
              "color": "#E5ECF6",
              "width": 0.5
             },
             "pattern": {
              "fillmode": "overlay",
              "size": 10,
              "solidity": 0.2
             }
            },
            "type": "bar"
           }
          ],
          "barpolar": [
           {
            "marker": {
             "line": {
              "color": "#E5ECF6",
              "width": 0.5
             },
             "pattern": {
              "fillmode": "overlay",
              "size": 10,
              "solidity": 0.2
             }
            },
            "type": "barpolar"
           }
          ],
          "carpet": [
           {
            "aaxis": {
             "endlinecolor": "#2a3f5f",
             "gridcolor": "white",
             "linecolor": "white",
             "minorgridcolor": "white",
             "startlinecolor": "#2a3f5f"
            },
            "baxis": {
             "endlinecolor": "#2a3f5f",
             "gridcolor": "white",
             "linecolor": "white",
             "minorgridcolor": "white",
             "startlinecolor": "#2a3f5f"
            },
            "type": "carpet"
           }
          ],
          "choropleth": [
           {
            "colorbar": {
             "outlinewidth": 0,
             "ticks": ""
            },
            "type": "choropleth"
           }
          ],
          "contour": [
           {
            "colorbar": {
             "outlinewidth": 0,
             "ticks": ""
            },
            "colorscale": [
             [
              0,
              "#0d0887"
             ],
             [
              0.1111111111111111,
              "#46039f"
             ],
             [
              0.2222222222222222,
              "#7201a8"
             ],
             [
              0.3333333333333333,
              "#9c179e"
             ],
             [
              0.4444444444444444,
              "#bd3786"
             ],
             [
              0.5555555555555556,
              "#d8576b"
             ],
             [
              0.6666666666666666,
              "#ed7953"
             ],
             [
              0.7777777777777778,
              "#fb9f3a"
             ],
             [
              0.8888888888888888,
              "#fdca26"
             ],
             [
              1,
              "#f0f921"
             ]
            ],
            "type": "contour"
           }
          ],
          "contourcarpet": [
           {
            "colorbar": {
             "outlinewidth": 0,
             "ticks": ""
            },
            "type": "contourcarpet"
           }
          ],
          "heatmap": [
           {
            "colorbar": {
             "outlinewidth": 0,
             "ticks": ""
            },
            "colorscale": [
             [
              0,
              "#0d0887"
             ],
             [
              0.1111111111111111,
              "#46039f"
             ],
             [
              0.2222222222222222,
              "#7201a8"
             ],
             [
              0.3333333333333333,
              "#9c179e"
             ],
             [
              0.4444444444444444,
              "#bd3786"
             ],
             [
              0.5555555555555556,
              "#d8576b"
             ],
             [
              0.6666666666666666,
              "#ed7953"
             ],
             [
              0.7777777777777778,
              "#fb9f3a"
             ],
             [
              0.8888888888888888,
              "#fdca26"
             ],
             [
              1,
              "#f0f921"
             ]
            ],
            "type": "heatmap"
           }
          ],
          "heatmapgl": [
           {
            "colorbar": {
             "outlinewidth": 0,
             "ticks": ""
            },
            "colorscale": [
             [
              0,
              "#0d0887"
             ],
             [
              0.1111111111111111,
              "#46039f"
             ],
             [
              0.2222222222222222,
              "#7201a8"
             ],
             [
              0.3333333333333333,
              "#9c179e"
             ],
             [
              0.4444444444444444,
              "#bd3786"
             ],
             [
              0.5555555555555556,
              "#d8576b"
             ],
             [
              0.6666666666666666,
              "#ed7953"
             ],
             [
              0.7777777777777778,
              "#fb9f3a"
             ],
             [
              0.8888888888888888,
              "#fdca26"
             ],
             [
              1,
              "#f0f921"
             ]
            ],
            "type": "heatmapgl"
           }
          ],
          "histogram": [
           {
            "marker": {
             "pattern": {
              "fillmode": "overlay",
              "size": 10,
              "solidity": 0.2
             }
            },
            "type": "histogram"
           }
          ],
          "histogram2d": [
           {
            "colorbar": {
             "outlinewidth": 0,
             "ticks": ""
            },
            "colorscale": [
             [
              0,
              "#0d0887"
             ],
             [
              0.1111111111111111,
              "#46039f"
             ],
             [
              0.2222222222222222,
              "#7201a8"
             ],
             [
              0.3333333333333333,
              "#9c179e"
             ],
             [
              0.4444444444444444,
              "#bd3786"
             ],
             [
              0.5555555555555556,
              "#d8576b"
             ],
             [
              0.6666666666666666,
              "#ed7953"
             ],
             [
              0.7777777777777778,
              "#fb9f3a"
             ],
             [
              0.8888888888888888,
              "#fdca26"
             ],
             [
              1,
              "#f0f921"
             ]
            ],
            "type": "histogram2d"
           }
          ],
          "histogram2dcontour": [
           {
            "colorbar": {
             "outlinewidth": 0,
             "ticks": ""
            },
            "colorscale": [
             [
              0,
              "#0d0887"
             ],
             [
              0.1111111111111111,
              "#46039f"
             ],
             [
              0.2222222222222222,
              "#7201a8"
             ],
             [
              0.3333333333333333,
              "#9c179e"
             ],
             [
              0.4444444444444444,
              "#bd3786"
             ],
             [
              0.5555555555555556,
              "#d8576b"
             ],
             [
              0.6666666666666666,
              "#ed7953"
             ],
             [
              0.7777777777777778,
              "#fb9f3a"
             ],
             [
              0.8888888888888888,
              "#fdca26"
             ],
             [
              1,
              "#f0f921"
             ]
            ],
            "type": "histogram2dcontour"
           }
          ],
          "mesh3d": [
           {
            "colorbar": {
             "outlinewidth": 0,
             "ticks": ""
            },
            "type": "mesh3d"
           }
          ],
          "parcoords": [
           {
            "line": {
             "colorbar": {
              "outlinewidth": 0,
              "ticks": ""
             }
            },
            "type": "parcoords"
           }
          ],
          "pie": [
           {
            "automargin": true,
            "type": "pie"
           }
          ],
          "scatter": [
           {
            "fillpattern": {
             "fillmode": "overlay",
             "size": 10,
             "solidity": 0.2
            },
            "type": "scatter"
           }
          ],
          "scatter3d": [
           {
            "line": {
             "colorbar": {
              "outlinewidth": 0,
              "ticks": ""
             }
            },
            "marker": {
             "colorbar": {
              "outlinewidth": 0,
              "ticks": ""
             }
            },
            "type": "scatter3d"
           }
          ],
          "scattercarpet": [
           {
            "marker": {
             "colorbar": {
              "outlinewidth": 0,
              "ticks": ""
             }
            },
            "type": "scattercarpet"
           }
          ],
          "scattergeo": [
           {
            "marker": {
             "colorbar": {
              "outlinewidth": 0,
              "ticks": ""
             }
            },
            "type": "scattergeo"
           }
          ],
          "scattergl": [
           {
            "marker": {
             "colorbar": {
              "outlinewidth": 0,
              "ticks": ""
             }
            },
            "type": "scattergl"
           }
          ],
          "scattermapbox": [
           {
            "marker": {
             "colorbar": {
              "outlinewidth": 0,
              "ticks": ""
             }
            },
            "type": "scattermapbox"
           }
          ],
          "scatterpolar": [
           {
            "marker": {
             "colorbar": {
              "outlinewidth": 0,
              "ticks": ""
             }
            },
            "type": "scatterpolar"
           }
          ],
          "scatterpolargl": [
           {
            "marker": {
             "colorbar": {
              "outlinewidth": 0,
              "ticks": ""
             }
            },
            "type": "scatterpolargl"
           }
          ],
          "scatterternary": [
           {
            "marker": {
             "colorbar": {
              "outlinewidth": 0,
              "ticks": ""
             }
            },
            "type": "scatterternary"
           }
          ],
          "surface": [
           {
            "colorbar": {
             "outlinewidth": 0,
             "ticks": ""
            },
            "colorscale": [
             [
              0,
              "#0d0887"
             ],
             [
              0.1111111111111111,
              "#46039f"
             ],
             [
              0.2222222222222222,
              "#7201a8"
             ],
             [
              0.3333333333333333,
              "#9c179e"
             ],
             [
              0.4444444444444444,
              "#bd3786"
             ],
             [
              0.5555555555555556,
              "#d8576b"
             ],
             [
              0.6666666666666666,
              "#ed7953"
             ],
             [
              0.7777777777777778,
              "#fb9f3a"
             ],
             [
              0.8888888888888888,
              "#fdca26"
             ],
             [
              1,
              "#f0f921"
             ]
            ],
            "type": "surface"
           }
          ],
          "table": [
           {
            "cells": {
             "fill": {
              "color": "#EBF0F8"
             },
             "line": {
              "color": "white"
             }
            },
            "header": {
             "fill": {
              "color": "#C8D4E3"
             },
             "line": {
              "color": "white"
             }
            },
            "type": "table"
           }
          ]
         },
         "layout": {
          "annotationdefaults": {
           "arrowcolor": "#2a3f5f",
           "arrowhead": 0,
           "arrowwidth": 1
          },
          "autotypenumbers": "strict",
          "coloraxis": {
           "colorbar": {
            "outlinewidth": 0,
            "ticks": ""
           }
          },
          "colorscale": {
           "diverging": [
            [
             0,
             "#8e0152"
            ],
            [
             0.1,
             "#c51b7d"
            ],
            [
             0.2,
             "#de77ae"
            ],
            [
             0.3,
             "#f1b6da"
            ],
            [
             0.4,
             "#fde0ef"
            ],
            [
             0.5,
             "#f7f7f7"
            ],
            [
             0.6,
             "#e6f5d0"
            ],
            [
             0.7,
             "#b8e186"
            ],
            [
             0.8,
             "#7fbc41"
            ],
            [
             0.9,
             "#4d9221"
            ],
            [
             1,
             "#276419"
            ]
           ],
           "sequential": [
            [
             0,
             "#0d0887"
            ],
            [
             0.1111111111111111,
             "#46039f"
            ],
            [
             0.2222222222222222,
             "#7201a8"
            ],
            [
             0.3333333333333333,
             "#9c179e"
            ],
            [
             0.4444444444444444,
             "#bd3786"
            ],
            [
             0.5555555555555556,
             "#d8576b"
            ],
            [
             0.6666666666666666,
             "#ed7953"
            ],
            [
             0.7777777777777778,
             "#fb9f3a"
            ],
            [
             0.8888888888888888,
             "#fdca26"
            ],
            [
             1,
             "#f0f921"
            ]
           ],
           "sequentialminus": [
            [
             0,
             "#0d0887"
            ],
            [
             0.1111111111111111,
             "#46039f"
            ],
            [
             0.2222222222222222,
             "#7201a8"
            ],
            [
             0.3333333333333333,
             "#9c179e"
            ],
            [
             0.4444444444444444,
             "#bd3786"
            ],
            [
             0.5555555555555556,
             "#d8576b"
            ],
            [
             0.6666666666666666,
             "#ed7953"
            ],
            [
             0.7777777777777778,
             "#fb9f3a"
            ],
            [
             0.8888888888888888,
             "#fdca26"
            ],
            [
             1,
             "#f0f921"
            ]
           ]
          },
          "colorway": [
           "#636efa",
           "#EF553B",
           "#00cc96",
           "#ab63fa",
           "#FFA15A",
           "#19d3f3",
           "#FF6692",
           "#B6E880",
           "#FF97FF",
           "#FECB52"
          ],
          "font": {
           "color": "#2a3f5f"
          },
          "geo": {
           "bgcolor": "white",
           "lakecolor": "white",
           "landcolor": "#E5ECF6",
           "showlakes": true,
           "showland": true,
           "subunitcolor": "white"
          },
          "hoverlabel": {
           "align": "left"
          },
          "hovermode": "closest",
          "mapbox": {
           "style": "light"
          },
          "paper_bgcolor": "white",
          "plot_bgcolor": "#E5ECF6",
          "polar": {
           "angularaxis": {
            "gridcolor": "white",
            "linecolor": "white",
            "ticks": ""
           },
           "bgcolor": "#E5ECF6",
           "radialaxis": {
            "gridcolor": "white",
            "linecolor": "white",
            "ticks": ""
           }
          },
          "scene": {
           "xaxis": {
            "backgroundcolor": "#E5ECF6",
            "gridcolor": "white",
            "gridwidth": 2,
            "linecolor": "white",
            "showbackground": true,
            "ticks": "",
            "zerolinecolor": "white"
           },
           "yaxis": {
            "backgroundcolor": "#E5ECF6",
            "gridcolor": "white",
            "gridwidth": 2,
            "linecolor": "white",
            "showbackground": true,
            "ticks": "",
            "zerolinecolor": "white"
           },
           "zaxis": {
            "backgroundcolor": "#E5ECF6",
            "gridcolor": "white",
            "gridwidth": 2,
            "linecolor": "white",
            "showbackground": true,
            "ticks": "",
            "zerolinecolor": "white"
           }
          },
          "shapedefaults": {
           "line": {
            "color": "#2a3f5f"
           }
          },
          "ternary": {
           "aaxis": {
            "gridcolor": "white",
            "linecolor": "white",
            "ticks": ""
           },
           "baxis": {
            "gridcolor": "white",
            "linecolor": "white",
            "ticks": ""
           },
           "bgcolor": "#E5ECF6",
           "caxis": {
            "gridcolor": "white",
            "linecolor": "white",
            "ticks": ""
           }
          },
          "title": {
           "x": 0.05
          },
          "xaxis": {
           "automargin": true,
           "gridcolor": "white",
           "linecolor": "white",
           "ticks": "",
           "title": {
            "standoff": 15
           },
           "zerolinecolor": "white",
           "zerolinewidth": 2
          },
          "yaxis": {
           "automargin": true,
           "gridcolor": "white",
           "linecolor": "white",
           "ticks": "",
           "title": {
            "standoff": 15
           },
           "zerolinecolor": "white",
           "zerolinewidth": 2
          }
         }
        },
        "title": {
         "text": " kano_transactions NNet & tsfresh. MAE=0.7213"
        }
       }
      }
     },
     "metadata": {},
     "output_type": "display_data"
    },
    {
     "name": "stderr",
     "output_type": "stream",
     "text": [
      "Rolling: 100%|██████████| 20/20 [00:00<00:00, 61.94it/s]\n",
      "Feature Extraction: 100%|██████████| 20/20 [00:00<00:00, 94.11it/s]\n"
     ]
    },
    {
     "data": {
      "image/png": "[encoded data removed]",
      "text/plain": [
       "<Figure size 640x480 with 1 Axes>"
      ]
     },
     "metadata": {},
     "output_type": "display_data"
    },
    {
     "data": {
      "application/vnd.plotly.v1+json": {
       "config": {
        "plotlyServerURL": "https://plot.ly"
       },
       "data": [
        {
         "name": "Train",
         "type": "scatter",
         "x": [
          "2022-01-07",
          "2022-01-08",
          "2022-01-09",
          "2022-01-10",
          "2022-01-11",
          "2022-01-12",
          "2022-01-13",
          "2022-01-14",
          "2022-01-15",
          "2022-01-16",
          "2022-01-17",
          "2022-01-18",
          "2022-01-19",
          "2022-01-20",
          "2022-01-21",
          "2022-01-22",
          "2022-01-23",
          "2022-01-24",
          "2022-01-25",
          "2022-01-26",
          "2022-01-27",
          "2022-01-28",
          "2022-01-29",
          "2022-01-30",
          "2022-01-31",
          "2022-02-01",
          "2022-02-02",
          "2022-02-03",
          "2022-02-04",
          "2022-02-05",
          "2022-02-06",
          "2022-02-07",
          "2022-02-08",
          "2022-02-09",
          "2022-02-10",
          "2022-02-11",
          "2022-02-12",
          "2022-02-13",
          "2022-02-14",
          "2022-02-15",
          "2022-02-16",
          "2022-02-17",
          "2022-02-18",
          "2022-02-19",
          "2022-02-20",
          "2022-02-21",
          "2022-02-22",
          "2022-02-23",
          "2022-02-24",
          "2022-02-25",
          "2022-02-26",
          "2022-02-27",
          "2022-02-28",
          "2022-03-01",
          "2022-03-02",
          "2022-03-03",
          "2022-03-04",
          "2022-03-05",
          "2022-03-06",
          "2022-03-07",
          "2022-03-08",
          "2022-03-09",
          "2022-03-10",
          "2022-03-11",
          "2022-03-12",
          "2022-03-13",
          "2022-03-14",
          "2022-03-15",
          "2022-03-16",
          "2022-03-17",
          "2022-03-18",
          "2022-03-19",
          "2022-03-20",
          "2022-03-21",
          "2022-03-22",
          "2022-03-23",
          "2022-03-24",
          "2022-03-25",
          "2022-03-26",
          "2022-03-27",
          "2022-03-28",
          "2022-03-29",
          "2022-03-30",
          "2022-03-31",
          "2022-04-01",
          "2022-04-02",
          "2022-04-03",
          "2022-04-04",
          "2022-04-05",
          "2022-04-06",
          "2022-04-07",
          "2022-04-08",
          "2022-04-09",
          "2022-04-10",
          "2022-04-11",
          "2022-04-12",
          "2022-04-13",
          "2022-04-14",
          "2022-04-15",
          "2022-04-16",
          "2022-04-17",
          "2022-04-18",
          "2022-04-19",
          "2022-04-20",
          "2022-04-21",
          "2022-04-22",
          "2022-04-23",
          "2022-04-24",
          "2022-04-25",
          "2022-04-26",
          "2022-04-27",
          "2022-04-28",
          "2022-04-29",
          "2022-04-30",
          "2022-05-01",
          "2022-05-02",
          "2022-05-03",
          "2022-05-04",
          "2022-05-05",
          "2022-05-06",
          "2022-05-07",
          "2022-05-08",
          "2022-05-09",
          "2022-05-10",
          "2022-05-11",
          "2022-05-12",
          "2022-05-13",
          "2022-05-14",
          "2022-05-15",
          "2022-05-16",
          "2022-05-17",
          "2022-05-18",
          "2022-05-19",
          "2022-05-20",
          "2022-05-21",
          "2022-05-22",
          "2022-05-23",
          "2022-05-24",
          "2022-05-25",
          "2022-05-26",
          "2022-05-27",
          "2022-05-28",
          "2022-05-29",
          "2022-05-30",
          "2022-05-31",
          "2022-06-01",
          "2022-06-02",
          "2022-06-03",
          "2022-06-04",
          "2022-06-05",
          "2022-06-06",
          "2022-06-07",
          "2022-06-08",
          "2022-06-09",
          "2022-06-10",
          "2022-06-11",
          "2022-06-12",
          "2022-06-13",
          "2022-06-14",
          "2022-06-15",
          "2022-06-16",
          "2022-06-17",
          "2022-06-18",
          "2022-06-19",
          "2022-06-20",
          "2022-06-21",
          "2022-06-22",
          "2022-06-23",
          "2022-06-24",
          "2022-06-25",
          "2022-06-26",
          "2022-06-27",
          "2022-06-28",
          "2022-06-29",
          "2022-06-30",
          "2022-07-01",
          "2022-07-02",
          "2022-07-03",
          "2022-07-04",
          "2022-07-05",
          "2022-07-06",
          "2022-07-07",
          "2022-07-08",
          "2022-07-09",
          "2022-07-10",
          "2022-07-11",
          "2022-07-12",
          "2022-07-13",
          "2022-07-14",
          "2022-07-15",
          "2022-07-16",
          "2022-07-17",
          "2022-07-18",
          "2022-07-19",
          "2022-07-20",
          "2022-07-21",
          "2022-07-22",
          "2022-07-23",
          "2022-07-24",
          "2022-07-25",
          "2022-07-26",
          "2022-07-27",
          "2022-07-28",
          "2022-07-29",
          "2022-07-30",
          "2022-07-31",
          "2022-08-01",
          "2022-08-02",
          "2022-08-03",
          "2022-08-04",
          "2022-08-05",
          "2022-08-06",
          "2022-08-07",
          "2022-08-08",
          "2022-08-09",
          "2022-08-10",
          "2022-08-11",
          "2022-08-12",
          "2022-08-13",
          "2022-08-14",
          "2022-08-15",
          "2022-08-16",
          "2022-08-17",
          "2022-08-18",
          "2022-08-19",
          "2022-08-20",
          "2022-08-21",
          "2022-08-22",
          "2022-08-23",
          "2022-08-24",
          "2022-08-25",
          "2022-08-26",
          "2022-08-27",
          "2022-08-28",
          "2022-08-29",
          "2022-08-30",
          "2022-08-31",
          "2022-09-01",
          "2022-09-02",
          "2022-09-03",
          "2022-09-04",
          "2022-09-05",
          "2022-09-06",
          "2022-09-07",
          "2022-09-08",
          "2022-09-09",
          "2022-09-10",
          "2022-09-11",
          "2022-09-12",
          "2022-09-13"
         ],
         "y": [
          0.9610202873172389,
          1.103829162451138,
          -1.5482361430842493,
          -0.6495851727294686,
          0.8084586109546831,
          -0.7032255794870795,
          1.4075592578578702,
          -1.6903483895589586,
          0.6078295571080345,
          -0.5179223561426054,
          -1.0222815053959862,
          1.335109877302136,
          0.28320060192560986,
          0.1215827529935873,
          -0.4510460048603891,
          1.275896441271007,
          -0.27688884006295106,
          -0.8704164576926201,
          1.0871100746305842,
          -2.117381757642277,
          0.7158069992824462,
          -0.23578774917075568,
          0.49079594236415613,
          -1.4040340106319704,
          0.04181877151636065,
          -1.2793374806370048,
          1.9307273809093741,
          -2.668415027061371,
          0.8203012981609089,
          -1.2918767965024203,
          1.5761433933817903,
          0.057492916348130085,
          -0.042821610575194256,
          -0.268529296152674,
          -1.3907980661073651,
          2.2846147397777683,
          -1.594213634590773,
          0.457357766723048,
          -1.8115617762579757,
          0.6733126510718712,
          1.3211773041183408,
          -1.4381688149322684,
          1.2877391284772328,
          -0.42457411581117854,
          -0.3131135303408182,
          1.3392896492572743,
          -1.3775621215827598,
          -0.3465517059819263,
          1.334413248642946,
          -0.699045807531941,
          1.4709524658441377,
          -0.634259342227294,
          0.04181877151636065,
          0.5653352088974596,
          0.4796498838171201,
          0.04181877151636065,
          0.6635598498432147,
          0.3208185495218565,
          0.4984588576152434,
          -0.18841700034585251,
          -0.9574950400913392,
          -0.262956266879156,
          1.5071771561220049,
          -0.986056815118119,
          0.912952909833146,
          -0.19677654425612953,
          -1.217337529969117,
          1.5225029866241793,
          -1.5663484882231828,
          -0.3430685626859775,
          0.105560293832223,
          -0.11596761979011826,
          0.9491776001110132,
          -1.2897869105248512,
          0.6586834492288864,
          0.9728629745234647,
          0.9840090330705007,
          -1.7321461091103438,
          0.8042788389995446,
          0.0017626236129498958,
          -0.5485740171469544,
          -0.36187753648410087,
          0.6593800778880762,
          -1.4103036685646781,
          0.05888617366650959,
          1.4347277755662706,
          -0.9609781833872879,
          -0.5430009878734364,
          0.6642564785024044,
          -1.3594497764438263,
          0.7262564291702924,
          0.5353801765523003,
          -0.8934052034458819,
          -0.7352704978098081,
          1.6708848910315965,
          -0.3291359895021825,
          -0.184237228390714,
          0.39675107337353954,
          0.9415146848599258,
          -1.4235396130892835,
          0.8314473567079449,
          -0.005900291638137381,
          0.3737623276202777,
          -0.2072259741439758,
          1.2159863765806882,
          -0.628686312953776,
          -1.8895841860872278,
          1.4939412115973996,
          0.21214447868825512,
          0.0895378346708587,
          0.026144626684591228,
          -0.7916974192041781,
          -0.25041695101374045,
          0.04181877151636065,
          0.04181877151636065,
          -1.025068020032745,
          0.09302097796680746,
          0.0010659949537601434,
          0.2929534031542664,
          0.09511086394437672,
          -1.6513371846443325,
          1.2382784936747604,
          -0.12641704967796455,
          0.2741444293561431,
          -0.36954045173518807,
          0.4998521149336229,
          -1.5405732278331619,
          0.9491776001110132,
          0.4113802752165243,
          0.8655821610082428,
          -2.0177638593781424,
          0.4120769038757141,
          0.7729305493360058,
          -0.4712482359768919,
          0.8997169653085407,
          -1.4625508180039097,
          1.0111775507789011,
          0.4587510240414275,
          0.4246162197411296,
          -0.8648434284191021,
          0.012908682159985934,
          -0.09297887403685644,
          -0.07974292951225113,
          -0.6140571111107912,
          1.016750580052419,
          0.29922306108697416,
          -1.9529773940734954,
          0.8216945554792884,
          0.41625667583085263,
          -1.0076523035530014,
          0.5681217235342186,
          0.018481711433503953,
          0.18706584695742404,
          1.315604274844823,
          -2.4789320317617585,
          1.2577840961320734,
          -0.6516750587070378,
          -0.07486652889792288,
          1.4542333780235837,
          0.40232410264705754,
          -1.0605960816514226,
          0.8091552396138729,
          -0.45034937620119936,
          -1.6771124450343533,
          1.3873570267413673,
          -0.06929349962440486,
          -0.7659221588141573,
          0.34102078063835933,
          -0.747113185016034,
          -0.17866419911719597,
          2.2219181604506906,
          -1.467427218618238,
          2.254659707432609,
          0.04181877151636065,
          0.04181877151636065,
          0.04181877151636065,
          -0.23230460587480692,
          -0.37163033771275733,
          0.6698295077759224,
          0.14108835545090037,
          -1.2013150708077525,
          -0.10203504660632322,
          -1.8777414988810022,
          0.04181877151636065,
          -0.16403499727421117,
          -0.5673829909450777,
          0.5012453722520024,
          0.8802113628512276,
          -1.537090084537213,
          0.2713579147193841,
          0.8133350115690113,
          0.18985236159418303,
          0.2616051134907275,
          -0.6307761989313453,
          -0.24623717905860196,
          -0.09019235940009743,
          0.49427908566010487,
          -0.6356525995456735,
          0.6363913321348144,
          -0.4057651420130552,
          0.8154248975465807,
          -0.06790024230602534,
          -0.37581010966789585,
          -1.256348734883743,
          0.30827923365644094,
          0.18149281768390602,
          1.2584807247912633,
          -1.5447529997883005,
          1.227829063786914,
          -1.6596967285546096,
          0.9714697172050851,
          0.10347040785465374,
          0.600863270516137,
          -2.0428424911089733,
          1.5315591591936462,
          -0.9728208705935137,
          0.6140992150407423,
          0.8627956463714838,
          -1.8192246915090629,
          0.7499418035827439,
          -0.5248886427345029,
          1.7098960959462226,
          -0.8063266210471629,
          -0.4294505164255068,
          0.8084586109546831,
          -0.7290008398771003,
          -0.8613602851231533,
          0.3382342660016003,
          -0.648191915411089,
          1.7342780990178641,
          1.2292223211052935,
          -1.9836290550778444,
          0.0073356528864679145,
          0.2588185988539685,
          1.537132188467164,
          -1.9696964818940494,
          -0.1271136783371543,
          0.20169504880040884,
          -1.104483687180377,
          1.6632219757805093,
          -0.6461020294335198,
          -0.3528213639146341,
          0.76108786212978,
          -0.6593379739581251,
          0.9477843427926336,
          -0.42109097251522976,
          -1.3956744667216934,
          0.392571301418401,
          1.0975595045184303,
          -0.2720124394486228
         ]
        },
        {
         "name": "Test",
         "type": "scatter",
         "x": [
          "2022-09-14",
          "2022-09-15",
          "2022-09-16",
          "2022-09-17",
          "2022-09-18",
          "2022-09-19",
          "2022-09-20",
          "2022-09-21",
          "2022-09-22",
          "2022-09-23",
          "2022-09-24",
          "2022-09-25",
          "2022-09-26",
          "2022-09-27",
          "2022-09-28",
          "2022-09-29",
          "2022-09-30",
          "2022-10-01",
          "2022-10-02",
          "2022-10-03",
          "2022-10-04",
          "2022-10-05",
          "2022-10-06",
          "2022-10-07",
          "2022-10-08",
          "2022-10-09",
          "2022-10-10",
          "2022-10-11",
          "2022-10-12",
          "2022-10-13",
          "2022-10-14",
          "2022-10-15",
          "2022-10-16",
          "2022-10-17",
          "2022-10-18",
          "2022-10-19",
          "2022-10-20",
          "2022-10-21",
          "2022-10-22",
          "2022-10-23",
          "2022-10-24",
          "2022-10-25",
          "2022-10-26",
          "2022-10-27",
          "2022-10-28",
          "2022-10-29",
          "2022-10-30",
          "2022-10-31",
          "2022-11-01",
          "2022-11-02",
          "2022-11-03",
          "2022-11-04",
          "2022-11-05",
          "2022-11-06",
          "2022-11-07",
          "2022-11-08",
          "2022-11-09",
          "2022-11-10",
          "2022-11-11",
          "2022-11-12",
          "2022-11-13",
          "2022-11-14",
          "2022-11-15",
          "2022-11-16",
          "2022-11-17",
          "2022-11-18",
          "2022-11-19",
          "2022-11-20",
          "2022-11-21",
          "2022-11-22",
          "2022-11-23",
          "2022-11-24",
          "2022-11-25",
          "2022-11-26",
          "2022-11-27",
          "2022-11-28",
          "2022-11-29",
          "2022-11-30",
          "2022-12-01",
          "2022-12-02",
          "2022-12-03",
          "2022-12-04",
          "2022-12-05",
          "2022-12-06",
          "2022-12-07",
          "2022-12-08",
          "2022-12-09",
          "2022-12-10",
          "2022-12-11",
          "2022-12-12",
          "2022-12-13",
          "2022-12-14",
          "2022-12-15",
          "2022-12-16",
          "2022-12-17",
          "2022-12-18",
          "2022-12-19",
          "2022-12-20",
          "2022-12-21",
          "2022-12-22",
          "2022-12-23",
          "2022-12-24",
          "2022-12-25",
          "2022-12-26",
          "2022-12-27",
          "2022-12-28",
          "2022-12-29",
          "2022-12-30"
         ],
         "y": [
          1.2877391284772328,
          -0.16612488325178043,
          -0.8432479399842198,
          -0.5374279585999184,
          0.6990879114618921,
          0.8502563305060683,
          -1.4089104112462987,
          -0.5604167043531803,
          0.9171326817882844,
          0.8168181548649601,
          -1.1421016347766235,
          -0.10482156124308223,
          0.8377170146406527,
          -0.25668660894644824,
          -1.5565956869945263,
          1.5225029866241793,
          0.04181877151636065,
          0.04181877151636065,
          0.6154924723591217,
          1.77398593259168,
          -0.5618099616715597,
          -0.6488885440702788,
          -0.12502379235958505,
          0.7924361517933188,
          -0.2782820973813306,
          1.264750382723971,
          -2.231628857749396,
          0.12297601031196681,
          1.9084352638153022,
          -1.2814273666145741,
          -0.007990177615706638,
          2.1020980310700534,
          -1.4771800198468945,
          0.2866837452215586,
          -1.3260116008027183,
          1.0655145861957018,
          -0.8188659369125785,
          -0.4392033176541633,
          1.0383460684873014,
          0.5695149808525981,
          -1.1469780353909518,
          0.4566611380638582,
          -0.15288893872717513,
          -1.1260791756152593,
          1.2431548942890887,
          -0.07625978621630237,
          0.26648151410505583,
          0.14875127070198765,
          -0.980483785844601,
          -0.963764698024047,
          1.247334666244227,
          0.33475112270565155,
          0.34798706723025685,
          -2.3974264786365573,
          0.44342519353925297,
          0.8774248482144686,
          0.4998521149336229,
          -0.2002596875520783,
          0.45805439538223774,
          -1.1630004945523162,
          -0.7039222081462693,
          0.8014923243627856,
          0.15780744327145443,
          0.23304333846394767,
          -0.634259342227294,
          0.9011102226269202,
          0.31524552024833846,
          -0.20443945950721681,
          0.07560526148706365,
          -0.7220345532852028,
          0.37167244164270846,
          -0.47960777988716896,
          1.9474464687299282,
          -1.2681914220899688,
          -0.09088898805928718,
          -0.09506876001442569,
          -0.749899699652793,
          0.04181877151636065,
          0.04181877151636065,
          0.40929038923895505,
          0.6705261364351123,
          1.2013571747377034,
          -0.46219206340742514,
          -0.2950011852018846,
          0.27902082997047134,
          -1.3608430337622057,
          1.0522786416710965,
          0.4427285648800632,
          -1.4242362417484733,
          0.6545036772737479,
          -0.2058327168255963,
          -1.525944025990177,
          1.3218739327775306,
          -1.765584284751452,
          0.8432900439141707,
          0.8767282195552789,
          0.35773986845891337,
          -1.1274724329336387,
          1.1741886570293032,
          1.3079413595937355,
          0.04181877151636065,
          2.3208394300556354,
          -0.07556315755711263,
          -1.129562318911208,
          1.950929612025877,
          0.3236050641586155,
          -1.4945957363266382,
          -0.7868210185898499
         ]
        },
        {
         "name": "Predicted",
         "type": "scatter",
         "x": [
          "2022-09-14",
          "2022-09-15",
          "2022-09-16",
          "2022-09-17",
          "2022-09-18",
          "2022-09-19",
          "2022-09-20",
          "2022-09-21",
          "2022-09-22",
          "2022-09-23",
          "2022-09-24",
          "2022-09-25",
          "2022-09-26",
          "2022-09-27",
          "2022-09-28",
          "2022-09-29",
          "2022-09-30",
          "2022-10-01",
          "2022-10-02",
          "2022-10-03",
          "2022-10-04",
          "2022-10-05",
          "2022-10-06",
          "2022-10-07",
          "2022-10-08",
          "2022-10-09",
          "2022-10-10",
          "2022-10-11",
          "2022-10-12",
          "2022-10-13",
          "2022-10-14",
          "2022-10-15",
          "2022-10-16",
          "2022-10-17",
          "2022-10-18",
          "2022-10-19",
          "2022-10-20",
          "2022-10-21",
          "2022-10-22",
          "2022-10-23",
          "2022-10-24",
          "2022-10-25",
          "2022-10-26",
          "2022-10-27",
          "2022-10-28",
          "2022-10-29",
          "2022-10-30",
          "2022-10-31",
          "2022-11-01",
          "2022-11-02",
          "2022-11-03",
          "2022-11-04",
          "2022-11-05",
          "2022-11-06",
          "2022-11-07",
          "2022-11-08",
          "2022-11-09",
          "2022-11-10",
          "2022-11-11",
          "2022-11-12",
          "2022-11-13",
          "2022-11-14",
          "2022-11-15",
          "2022-11-16",
          "2022-11-17",
          "2022-11-18",
          "2022-11-19",
          "2022-11-20",
          "2022-11-21",
          "2022-11-22",
          "2022-11-23",
          "2022-11-24",
          "2022-11-25",
          "2022-11-26",
          "2022-11-27",
          "2022-11-28",
          "2022-11-29",
          "2022-11-30",
          "2022-12-01",
          "2022-12-02",
          "2022-12-03",
          "2022-12-04",
          "2022-12-05",
          "2022-12-06",
          "2022-12-07",
          "2022-12-08",
          "2022-12-09",
          "2022-12-10",
          "2022-12-11",
          "2022-12-12",
          "2022-12-13",
          "2022-12-14",
          "2022-12-15",
          "2022-12-16",
          "2022-12-17",
          "2022-12-18",
          "2022-12-19",
          "2022-12-20",
          "2022-12-21",
          "2022-12-22",
          "2022-12-23",
          "2022-12-24",
          "2022-12-25",
          "2022-12-26",
          "2022-12-27",
          "2022-12-28",
          "2022-12-29",
          "2022-12-30"
         ],
         "y": [
          -0.4552616477012634,
          -0.6670049428939819,
          0.08585214614868164,
          0.21272721886634827,
          -0.012314483523368835,
          -0.5497332215309143,
          -0.3463476896286011,
          0.03885703533887863,
          0.025511784479022026,
          -0.5649623274803162,
          -0.806208610534668,
          0.03639208525419235,
          -0.47134190797805786,
          -0.971651017665863,
          -0.42187896370887756,
          0.28413644433021545,
          -0.6546606421470642,
          -0.15470018982887268,
          -0.7923586368560791,
          -1.1569936275482178,
          -1.4342354536056519,
          -0.7398605942726135,
          -0.1101972758769989,
          -0.26769495010375977,
          -0.7152386903762817,
          -0.7706378698348999,
          -1.426194429397583,
          0.45772039890289307,
          -0.567743182182312,
          -1.558705449104309,
          -0.15158489346504211,
          -0.06304073333740234,
          -1.7094403505325317,
          -0.49792569875717163,
          -0.7704662680625916,
          -0.08216468244791031,
          -1.279370903968811,
          -0.17499126493930817,
          0.06302544474601746,
          -0.8742985725402832,
          -0.8253659009933472,
          0.4528399705886841,
          -0.24959823489189148,
          -0.10403662919998169,
          0.39976564049720764,
          -0.141041100025177,
          -0.11567848175764084,
          -0.03612268716096878,
          -0.5868324637413025,
          -0.01215120404958725,
          0.8335665464401245,
          -0.41220003366470337,
          -0.03960713744163513,
          -0.15460115671157837,
          0.9242305755615234,
          0.1776527613401413,
          -0.504665195941925,
          -0.1499069333076477,
          -0.11985582113265991,
          -0.3087484538555145,
          0.40734487771987915,
          0.5194486379623413,
          -0.3201480507850647,
          -0.07461684942245483,
          -0.09073518216609955,
          0.017920926213264465,
          -0.08750438690185547,
          -0.31014901399612427,
          -0.13890236616134644,
          -0.13498440384864807,
          0.009040467441082,
          -0.518227219581604,
          0.07683330774307251,
          -0.5579749345779419,
          0.4336709678173065,
          -0.6675258278846741,
          -0.46558672189712524,
          0.12143524736166,
          0.12961679697036743,
          0.05883076786994934,
          0.19053152203559875,
          -0.6197210550308228,
          -1.341637372970581,
          -0.5080525875091553,
          -0.4471026360988617,
          -0.5094217658042908,
          0.108681321144104,
          -0.3645152151584625,
          -0.5128573179244995,
          0.20308558642864227,
          -0.44638872146606445,
          -0.3505043089389801,
          0.5885958075523376,
          -0.6551327705383301,
          1.1886260509490967,
          -0.33059027791023254,
          -0.6787890791893005,
          -0.6002064347267151,
          -0.11577463895082474,
          -0.9297130107879639,
          -1.3030911684036255,
          -0.6474754810333252,
          -1.730480432510376,
          -0.8399030566215515,
          -0.2690720558166504,
          -1.6999280452728271,
          -1.167494297027588,
          -0.6506247520446777
         ]
        }
       ],
       "layout": {
        "template": {
         "data": {
          "bar": [
           {
            "error_x": {
             "color": "#2a3f5f"
            },
            "error_y": {
             "color": "#2a3f5f"
            },
            "marker": {
             "line": {
              "color": "#E5ECF6",
              "width": 0.5
             },
             "pattern": {
              "fillmode": "overlay",
              "size": 10,
              "solidity": 0.2
             }
            },
            "type": "bar"
           }
          ],
          "barpolar": [
           {
            "marker": {
             "line": {
              "color": "#E5ECF6",
              "width": 0.5
             },
             "pattern": {
              "fillmode": "overlay",
              "size": 10,
              "solidity": 0.2
             }
            },
            "type": "barpolar"
           }
          ],
          "carpet": [
           {
            "aaxis": {
             "endlinecolor": "#2a3f5f",
             "gridcolor": "white",
             "linecolor": "white",
             "minorgridcolor": "white",
             "startlinecolor": "#2a3f5f"
            },
            "baxis": {
             "endlinecolor": "#2a3f5f",
             "gridcolor": "white",
             "linecolor": "white",
             "minorgridcolor": "white",
             "startlinecolor": "#2a3f5f"
            },
            "type": "carpet"
           }
          ],
          "choropleth": [
           {
            "colorbar": {
             "outlinewidth": 0,
             "ticks": ""
            },
            "type": "choropleth"
           }
          ],
          "contour": [
           {
            "colorbar": {
             "outlinewidth": 0,
             "ticks": ""
            },
            "colorscale": [
             [
              0,
              "#0d0887"
             ],
             [
              0.1111111111111111,
              "#46039f"
             ],
             [
              0.2222222222222222,
              "#7201a8"
             ],
             [
              0.3333333333333333,
              "#9c179e"
             ],
             [
              0.4444444444444444,
              "#bd3786"
             ],
             [
              0.5555555555555556,
              "#d8576b"
             ],
             [
              0.6666666666666666,
              "#ed7953"
             ],
             [
              0.7777777777777778,
              "#fb9f3a"
             ],
             [
              0.8888888888888888,
              "#fdca26"
             ],
             [
              1,
              "#f0f921"
             ]
            ],
            "type": "contour"
           }
          ],
          "contourcarpet": [
           {
            "colorbar": {
             "outlinewidth": 0,
             "ticks": ""
            },
            "type": "contourcarpet"
           }
          ],
          "heatmap": [
           {
            "colorbar": {
             "outlinewidth": 0,
             "ticks": ""
            },
            "colorscale": [
             [
              0,
              "#0d0887"
             ],
             [
              0.1111111111111111,
              "#46039f"
             ],
             [
              0.2222222222222222,
              "#7201a8"
             ],
             [
              0.3333333333333333,
              "#9c179e"
             ],
             [
              0.4444444444444444,
              "#bd3786"
             ],
             [
              0.5555555555555556,
              "#d8576b"
             ],
             [
              0.6666666666666666,
              "#ed7953"
             ],
             [
              0.7777777777777778,
              "#fb9f3a"
             ],
             [
              0.8888888888888888,
              "#fdca26"
             ],
             [
              1,
              "#f0f921"
             ]
            ],
            "type": "heatmap"
           }
          ],
          "heatmapgl": [
           {
            "colorbar": {
             "outlinewidth": 0,
             "ticks": ""
            },
            "colorscale": [
             [
              0,
              "#0d0887"
             ],
             [
              0.1111111111111111,
              "#46039f"
             ],
             [
              0.2222222222222222,
              "#7201a8"
             ],
             [
              0.3333333333333333,
              "#9c179e"
             ],
             [
              0.4444444444444444,
              "#bd3786"
             ],
             [
              0.5555555555555556,
              "#d8576b"
             ],
             [
              0.6666666666666666,
              "#ed7953"
             ],
             [
              0.7777777777777778,
              "#fb9f3a"
             ],
             [
              0.8888888888888888,
              "#fdca26"
             ],
             [
              1,
              "#f0f921"
             ]
            ],
            "type": "heatmapgl"
           }
          ],
          "histogram": [
           {
            "marker": {
             "pattern": {
              "fillmode": "overlay",
              "size": 10,
              "solidity": 0.2
             }
            },
            "type": "histogram"
           }
          ],
          "histogram2d": [
           {
            "colorbar": {
             "outlinewidth": 0,
             "ticks": ""
            },
            "colorscale": [
             [
              0,
              "#0d0887"
             ],
             [
              0.1111111111111111,
              "#46039f"
             ],
             [
              0.2222222222222222,
              "#7201a8"
             ],
             [
              0.3333333333333333,
              "#9c179e"
             ],
             [
              0.4444444444444444,
              "#bd3786"
             ],
             [
              0.5555555555555556,
              "#d8576b"
             ],
             [
              0.6666666666666666,
              "#ed7953"
             ],
             [
              0.7777777777777778,
              "#fb9f3a"
             ],
             [
              0.8888888888888888,
              "#fdca26"
             ],
             [
              1,
              "#f0f921"
             ]
            ],
            "type": "histogram2d"
           }
          ],
          "histogram2dcontour": [
           {
            "colorbar": {
             "outlinewidth": 0,
             "ticks": ""
            },
            "colorscale": [
             [
              0,
              "#0d0887"
             ],
             [
              0.1111111111111111,
              "#46039f"
             ],
             [
              0.2222222222222222,
              "#7201a8"
             ],
             [
              0.3333333333333333,
              "#9c179e"
             ],
             [
              0.4444444444444444,
              "#bd3786"
             ],
             [
              0.5555555555555556,
              "#d8576b"
             ],
             [
              0.6666666666666666,
              "#ed7953"
             ],
             [
              0.7777777777777778,
              "#fb9f3a"
             ],
             [
              0.8888888888888888,
              "#fdca26"
             ],
             [
              1,
              "#f0f921"
             ]
            ],
            "type": "histogram2dcontour"
           }
          ],
          "mesh3d": [
           {
            "colorbar": {
             "outlinewidth": 0,
             "ticks": ""
            },
            "type": "mesh3d"
           }
          ],
          "parcoords": [
           {
            "line": {
             "colorbar": {
              "outlinewidth": 0,
              "ticks": ""
             }
            },
            "type": "parcoords"
           }
          ],
          "pie": [
           {
            "automargin": true,
            "type": "pie"
           }
          ],
          "scatter": [
           {
            "fillpattern": {
             "fillmode": "overlay",
             "size": 10,
             "solidity": 0.2
            },
            "type": "scatter"
           }
          ],
          "scatter3d": [
           {
            "line": {
             "colorbar": {
              "outlinewidth": 0,
              "ticks": ""
             }
            },
            "marker": {
             "colorbar": {
              "outlinewidth": 0,
              "ticks": ""
             }
            },
            "type": "scatter3d"
           }
          ],
          "scattercarpet": [
           {
            "marker": {
             "colorbar": {
              "outlinewidth": 0,
              "ticks": ""
             }
            },
            "type": "scattercarpet"
           }
          ],
          "scattergeo": [
           {
            "marker": {
             "colorbar": {
              "outlinewidth": 0,
              "ticks": ""
             }
            },
            "type": "scattergeo"
           }
          ],
          "scattergl": [
           {
            "marker": {
             "colorbar": {
              "outlinewidth": 0,
              "ticks": ""
             }
            },
            "type": "scattergl"
           }
          ],
          "scattermapbox": [
           {
            "marker": {
             "colorbar": {
              "outlinewidth": 0,
              "ticks": ""
             }
            },
            "type": "scattermapbox"
           }
          ],
          "scatterpolar": [
           {
            "marker": {
             "colorbar": {
              "outlinewidth": 0,
              "ticks": ""
             }
            },
            "type": "scatterpolar"
           }
          ],
          "scatterpolargl": [
           {
            "marker": {
             "colorbar": {
              "outlinewidth": 0,
              "ticks": ""
             }
            },
            "type": "scatterpolargl"
           }
          ],
          "scatterternary": [
           {
            "marker": {
             "colorbar": {
              "outlinewidth": 0,
              "ticks": ""
             }
            },
            "type": "scatterternary"
           }
          ],
          "surface": [
           {
            "colorbar": {
             "outlinewidth": 0,
             "ticks": ""
            },
            "colorscale": [
             [
              0,
              "#0d0887"
             ],
             [
              0.1111111111111111,
              "#46039f"
             ],
             [
              0.2222222222222222,
              "#7201a8"
             ],
             [
              0.3333333333333333,
              "#9c179e"
             ],
             [
              0.4444444444444444,
              "#bd3786"
             ],
             [
              0.5555555555555556,
              "#d8576b"
             ],
             [
              0.6666666666666666,
              "#ed7953"
             ],
             [
              0.7777777777777778,
              "#fb9f3a"
             ],
             [
              0.8888888888888888,
              "#fdca26"
             ],
             [
              1,
              "#f0f921"
             ]
            ],
            "type": "surface"
           }
          ],
          "table": [
           {
            "cells": {
             "fill": {
              "color": "#EBF0F8"
             },
             "line": {
              "color": "white"
             }
            },
            "header": {
             "fill": {
              "color": "#C8D4E3"
             },
             "line": {
              "color": "white"
             }
            },
            "type": "table"
           }
          ]
         },
         "layout": {
          "annotationdefaults": {
           "arrowcolor": "#2a3f5f",
           "arrowhead": 0,
           "arrowwidth": 1
          },
          "autotypenumbers": "strict",
          "coloraxis": {
           "colorbar": {
            "outlinewidth": 0,
            "ticks": ""
           }
          },
          "colorscale": {
           "diverging": [
            [
             0,
             "#8e0152"
            ],
            [
             0.1,
             "#c51b7d"
            ],
            [
             0.2,
             "#de77ae"
            ],
            [
             0.3,
             "#f1b6da"
            ],
            [
             0.4,
             "#fde0ef"
            ],
            [
             0.5,
             "#f7f7f7"
            ],
            [
             0.6,
             "#e6f5d0"
            ],
            [
             0.7,
             "#b8e186"
            ],
            [
             0.8,
             "#7fbc41"
            ],
            [
             0.9,
             "#4d9221"
            ],
            [
             1,
             "#276419"
            ]
           ],
           "sequential": [
            [
             0,
             "#0d0887"
            ],
            [
             0.1111111111111111,
             "#46039f"
            ],
            [
             0.2222222222222222,
             "#7201a8"
            ],
            [
             0.3333333333333333,
             "#9c179e"
            ],
            [
             0.4444444444444444,
             "#bd3786"
            ],
            [
             0.5555555555555556,
             "#d8576b"
            ],
            [
             0.6666666666666666,
             "#ed7953"
            ],
            [
             0.7777777777777778,
             "#fb9f3a"
            ],
            [
             0.8888888888888888,
             "#fdca26"
            ],
            [
             1,
             "#f0f921"
            ]
           ],
           "sequentialminus": [
            [
             0,
             "#0d0887"
            ],
            [
             0.1111111111111111,
             "#46039f"
            ],
            [
             0.2222222222222222,
             "#7201a8"
            ],
            [
             0.3333333333333333,
             "#9c179e"
            ],
            [
             0.4444444444444444,
             "#bd3786"
            ],
            [
             0.5555555555555556,
             "#d8576b"
            ],
            [
             0.6666666666666666,
             "#ed7953"
            ],
            [
             0.7777777777777778,
             "#fb9f3a"
            ],
            [
             0.8888888888888888,
             "#fdca26"
            ],
            [
             1,
             "#f0f921"
            ]
           ]
          },
          "colorway": [
           "#636efa",
           "#EF553B",
           "#00cc96",
           "#ab63fa",
           "#FFA15A",
           "#19d3f3",
           "#FF6692",
           "#B6E880",
           "#FF97FF",
           "#FECB52"
          ],
          "font": {
           "color": "#2a3f5f"
          },
          "geo": {
           "bgcolor": "white",
           "lakecolor": "white",
           "landcolor": "#E5ECF6",
           "showlakes": true,
           "showland": true,
           "subunitcolor": "white"
          },
          "hoverlabel": {
           "align": "left"
          },
          "hovermode": "closest",
          "mapbox": {
           "style": "light"
          },
          "paper_bgcolor": "white",
          "plot_bgcolor": "#E5ECF6",
          "polar": {
           "angularaxis": {
            "gridcolor": "white",
            "linecolor": "white",
            "ticks": ""
           },
           "bgcolor": "#E5ECF6",
           "radialaxis": {
            "gridcolor": "white",
            "linecolor": "white",
            "ticks": ""
           }
          },
          "scene": {
           "xaxis": {
            "backgroundcolor": "#E5ECF6",
            "gridcolor": "white",
            "gridwidth": 2,
            "linecolor": "white",
            "showbackground": true,
            "ticks": "",
            "zerolinecolor": "white"
           },
           "yaxis": {
            "backgroundcolor": "#E5ECF6",
            "gridcolor": "white",
            "gridwidth": 2,
            "linecolor": "white",
            "showbackground": true,
            "ticks": "",
            "zerolinecolor": "white"
           },
           "zaxis": {
            "backgroundcolor": "#E5ECF6",
            "gridcolor": "white",
            "gridwidth": 2,
            "linecolor": "white",
            "showbackground": true,
            "ticks": "",
            "zerolinecolor": "white"
           }
          },
          "shapedefaults": {
           "line": {
            "color": "#2a3f5f"
           }
          },
          "ternary": {
           "aaxis": {
            "gridcolor": "white",
            "linecolor": "white",
            "ticks": ""
           },
           "baxis": {
            "gridcolor": "white",
            "linecolor": "white",
            "ticks": ""
           },
           "bgcolor": "#E5ECF6",
           "caxis": {
            "gridcolor": "white",
            "linecolor": "white",
            "ticks": ""
           }
          },
          "title": {
           "x": 0.05
          },
          "xaxis": {
           "automargin": true,
           "gridcolor": "white",
           "linecolor": "white",
           "ticks": "",
           "title": {
            "standoff": 15
           },
           "zerolinecolor": "white",
           "zerolinewidth": 2
          },
          "yaxis": {
           "automargin": true,
           "gridcolor": "white",
           "linecolor": "white",
           "ticks": "",
           "title": {
            "standoff": 15
           },
           "zerolinecolor": "white",
           "zerolinewidth": 2
          }
         }
        },
        "title": {
         "text": " lagos_transactions NNet & tsfresh. MAE=0.8067"
        }
       }
      }
     },
     "metadata": {},
     "output_type": "display_data"
    },
    {
     "name": "stderr",
     "output_type": "stream",
     "text": [
      "Rolling: 100%|██████████| 20/20 [00:00<00:00, 54.47it/s]\n",
      "Feature Extraction: 100%|██████████| 20/20 [00:00<00:00, 103.07it/s]\n"
     ]
    },
    {
     "data": {
      "image/png": "[encoded data removed]",
      "text/plain": [
       "<Figure size 640x480 with 1 Axes>"
      ]
     },
     "metadata": {},
     "output_type": "display_data"
    },
    {
     "data": {
      "application/vnd.plotly.v1+json": {
       "config": {
        "plotlyServerURL": "https://plot.ly"
       },
       "data": [
        {
         "name": "Train",
         "type": "scatter",
         "x": [
          "2022-01-07",
          "2022-01-08",
          "2022-01-09",
          "2022-01-10",
          "2022-01-11",
          "2022-01-12",
          "2022-01-13",
          "2022-01-14",
          "2022-01-15",
          "2022-01-16",
          "2022-01-17",
          "2022-01-18",
          "2022-01-19",
          "2022-01-20",
          "2022-01-21",
          "2022-01-22",
          "2022-01-23",
          "2022-01-24",
          "2022-01-25",
          "2022-01-26",
          "2022-01-27",
          "2022-01-28",
          "2022-01-29",
          "2022-01-30",
          "2022-01-31",
          "2022-02-01",
          "2022-02-02",
          "2022-02-03",
          "2022-02-04",
          "2022-02-05",
          "2022-02-06",
          "2022-02-07",
          "2022-02-08",
          "2022-02-09",
          "2022-02-10",
          "2022-02-11",
          "2022-02-12",
          "2022-02-13",
          "2022-02-14",
          "2022-02-15",
          "2022-02-16",
          "2022-02-17",
          "2022-02-18",
          "2022-02-19",
          "2022-02-20",
          "2022-02-21",
          "2022-02-22",
          "2022-02-23",
          "2022-02-24",
          "2022-02-25",
          "2022-02-26",
          "2022-02-27",
          "2022-02-28",
          "2022-03-01",
          "2022-03-02",
          "2022-03-03",
          "2022-03-04",
          "2022-03-05",
          "2022-03-06",
          "2022-03-07",
          "2022-03-08",
          "2022-03-09",
          "2022-03-10",
          "2022-03-11",
          "2022-03-12",
          "2022-03-13",
          "2022-03-14",
          "2022-03-15",
          "2022-03-16",
          "2022-03-17",
          "2022-03-18",
          "2022-03-19",
          "2022-03-20",
          "2022-03-21",
          "2022-03-22",
          "2022-03-23",
          "2022-03-24",
          "2022-03-25",
          "2022-03-26",
          "2022-03-27",
          "2022-03-28",
          "2022-03-29",
          "2022-03-30",
          "2022-03-31",
          "2022-04-01",
          "2022-04-02",
          "2022-04-03",
          "2022-04-04",
          "2022-04-05",
          "2022-04-06",
          "2022-04-07",
          "2022-04-08",
          "2022-04-09",
          "2022-04-10",
          "2022-04-11",
          "2022-04-12",
          "2022-04-13",
          "2022-04-14",
          "2022-04-15",
          "2022-04-16",
          "2022-04-17",
          "2022-04-18",
          "2022-04-19",
          "2022-04-20",
          "2022-04-21",
          "2022-04-22",
          "2022-04-23",
          "2022-04-24",
          "2022-04-25",
          "2022-04-26",
          "2022-04-27",
          "2022-04-28",
          "2022-04-29",
          "2022-04-30",
          "2022-05-01",
          "2022-05-02",
          "2022-05-03",
          "2022-05-04",
          "2022-05-05",
          "2022-05-06",
          "2022-05-07",
          "2022-05-08",
          "2022-05-09",
          "2022-05-10",
          "2022-05-11",
          "2022-05-12",
          "2022-05-13",
          "2022-05-14",
          "2022-05-15",
          "2022-05-16",
          "2022-05-17",
          "2022-05-18",
          "2022-05-19",
          "2022-05-20",
          "2022-05-21",
          "2022-05-22",
          "2022-05-23",
          "2022-05-24",
          "2022-05-25",
          "2022-05-26",
          "2022-05-27",
          "2022-05-28",
          "2022-05-29",
          "2022-05-30",
          "2022-05-31",
          "2022-06-01",
          "2022-06-02",
          "2022-06-03",
          "2022-06-04",
          "2022-06-05",
          "2022-06-06",
          "2022-06-07",
          "2022-06-08",
          "2022-06-09",
          "2022-06-10",
          "2022-06-11",
          "2022-06-12",
          "2022-06-13",
          "2022-06-14",
          "2022-06-15",
          "2022-06-16",
          "2022-06-17",
          "2022-06-18",
          "2022-06-19",
          "2022-06-20",
          "2022-06-21",
          "2022-06-22",
          "2022-06-23",
          "2022-06-24",
          "2022-06-25",
          "2022-06-26",
          "2022-06-27",
          "2022-06-28",
          "2022-06-29",
          "2022-06-30",
          "2022-07-01",
          "2022-07-02",
          "2022-07-03",
          "2022-07-04",
          "2022-07-05",
          "2022-07-06",
          "2022-07-07",
          "2022-07-08",
          "2022-07-09",
          "2022-07-10",
          "2022-07-11",
          "2022-07-12",
          "2022-07-13",
          "2022-07-14",
          "2022-07-15",
          "2022-07-16",
          "2022-07-17",
          "2022-07-18",
          "2022-07-19",
          "2022-07-20",
          "2022-07-21",
          "2022-07-22",
          "2022-07-23",
          "2022-07-24",
          "2022-07-25",
          "2022-07-26",
          "2022-07-27",
          "2022-07-28",
          "2022-07-29",
          "2022-07-30",
          "2022-07-31",
          "2022-08-01",
          "2022-08-02",
          "2022-08-03",
          "2022-08-04",
          "2022-08-05",
          "2022-08-06",
          "2022-08-07",
          "2022-08-08",
          "2022-08-09",
          "2022-08-10",
          "2022-08-11",
          "2022-08-12",
          "2022-08-13",
          "2022-08-14",
          "2022-08-15",
          "2022-08-16",
          "2022-08-17",
          "2022-08-18",
          "2022-08-19",
          "2022-08-20",
          "2022-08-21",
          "2022-08-22",
          "2022-08-23",
          "2022-08-24",
          "2022-08-25",
          "2022-08-26",
          "2022-08-27",
          "2022-08-28",
          "2022-08-29",
          "2022-08-30",
          "2022-08-31",
          "2022-09-01",
          "2022-09-02",
          "2022-09-03",
          "2022-09-04",
          "2022-09-05",
          "2022-09-06",
          "2022-09-07",
          "2022-09-08",
          "2022-09-09",
          "2022-09-10",
          "2022-09-11",
          "2022-09-12",
          "2022-09-13"
         ],
         "y": [
          -0.46942176458348,
          -0.1968533768530211,
          1.3699862859497423,
          0.9765621036595517,
          -1.7688358394242838,
          1.7505534688186848,
          -1.4594107200195805,
          0.5959949207906091,
          -1.3668403241865945,
          0.9859905699018002,
          -0.19256771037927173,
          0.6225660529278552,
          0.6859939167393455,
          -2.0885465583659855,
          2.2494050463631097,
          -1.5374098498418187,
          -0.8628459468736706,
          0.6585656513073497,
          0.7314219813610887,
          -2.2411162848314623,
          1.8585522639571685,
          -0.5251354287422215,
          0.8368493766153228,
          -2.4768279408876768,
          2.499687968430072,
          -0.3091378384652541,
          0.1588569404681752,
          0.7742786460985822,
          -1.7131221752655421,
          0.6979937828658438,
          0.5908521210221099,
          -1.1928422653523707,
          -0.11199718067278391,
          -0.5328496283949704,
          -0.06999764923004026,
          0.3482833986078966,
          2.2314052471733623,
          -2.1742598878409725,
          1.8799805963259153,
          -2.291687149221705,
          1.212273759715766,
          0.18628520590017106,
          -1.2331275302056146,
          0.41085412912463715,
          -0.9854160080229021,
          0.19485653884766976,
          2.5202591675040686,
          -1.1756995994573733,
          0.42542539513538496,
          0.15371414069967598,
          -0.6785622885024484,
          -0.26113837395926137,
          0.010572880476447579,
          0.45285366056738074,
          1.3425580205177465,
          0.010572880476447579,
          0.8128496443623264,
          -0.482278764004728,
          -0.7625613513879357,
          0.02685841307669512,
          0.5634238555901141,
          -0.36485150262399574,
          0.9568480378803047,
          -1.0839863369191372,
          0.4151397955983865,
          0.9662765041225533,
          0.6534228515388505,
          -0.9391308101064091,
          0.3748545307451426,
          -1.5245528504205708,
          0.22057053769016588,
          1.171988494862522,
          -2.001118962301499,
          0.8531349092155703,
          0.3517119317868961,
          1.0905608318612845,
          -1.157699800267626,
          0.4691391931676283,
          -1.0634151378451402,
          0.09114341018293541,
          0.6868510500340954,
          -0.43942209926723447,
          0.23428467040616383,
          -0.42827936643548614,
          0.6611370511915993,
          -0.1385683128100299,
          -0.49685003001547584,
          -0.38542270169799264,
          0.8985629738373134,
          -0.9991301407389,
          -0.29370943915975645,
          1.6579830729856988,
          -0.5431352279319689,
          -0.5611350271217161,
          -0.3837084351084929,
          -0.08285464865128832,
          0.9002772404268132,
          0.7185649819398406,
          -1.5896949808215608,
          0.09457194336193489,
          -0.6691338222601998,
          0.010572880476447579,
          -1.3068409935541034,
          0.649994318359851,
          -0.5654206935954655,
          0.8634205087525688,
          0.4202825953668857,
          -1.7799785722560322,
          0.11857167561493129,
          -0.2345672418220154,
          -0.1582823785892769,
          0.6259945861068547,
          -1.19712793182612,
          0.010572880476447579,
          0.010572880476447579,
          0.45285366056738074,
          -1.436268121061334,
          1.7136967371444405,
          -1.2159848643106173,
          -0.19513911026352135,
          1.18655976087327,
          -0.15742524529452703,
          0.12800014185717987,
          -1.5442669161998177,
          0.3525690650816459,
          0.19742793873191938,
          0.14000000798367804,
          -0.8748458130001687,
          1.326272487917499,
          -0.19771051014777097,
          -0.18056784425277356,
          0.8359922433205729,
          -0.8542746139261719,
          0.15628554058392558,
          1.0082760355652969,
          -0.283423839622758,
          -1.1294144015408802,
          -0.7719898176301843,
          0.18885660578442068,
          1.2894157562432544,
          -1.2254133305528658,
          0.6997080494553435,
          -0.9751304084859036,
          0.7211363818240902,
          0.14771420763642687,
          -0.003998385534300221,
          -0.8448461476839233,
          -0.4471362989199833,
          2.1319777849823773,
          -1.382268723492092,
          0.5857093212536107,
          -0.6974192209869455,
          0.4005685295876387,
          1.4239856835189841,
          -1.1894137321733713,
          -0.15999664517877665,
          0.9774192369543016,
          -1.674551177001798,
          0.9405625052800571,
          0.12028594220443102,
          0.44085379444088263,
          -0.7659898845669352,
          0.32942646612339943,
          -0.6982763542816954,
          -0.06828338264054051,
          -0.5054213629629746,
          1.941694193547906,
          0.5231385907368702,
          0.338854932365648,
          -2.3988288110654388,
          0.8668490419315682,
          -1.0291298060551455,
          0.9097057066690618,
          -0.44542203233048355,
          0.010572880476447579,
          0.010572880476447579,
          0.8874202410055652,
          -0.5337067616897203,
          0.7879927788145802,
          0.4159969288931364,
          0.8702775751105677,
          -0.7762754841039337,
          0.25914153595391004,
          -1.7156935751497917,
          1.325415354622749,
          -0.5748491598377141,
          1.311701221906751,
          -0.9442736098749083,
          0.34056919895514776,
          -1.2142705977211175,
          0.7417075808980872,
          -0.11199718067278391,
          0.014001413655447062,
          -0.9999872740336498,
          1.6982683378389427,
          -1.6839796432440466,
          1.0194187683970453,
          0.15114274081542636,
          -0.15399671211552757,
          0.11685740902543154,
          -0.26799544031726036,
          0.11257174255168219,
          -1.0008444073283997,
          1.0939893650402839,
          -0.760847084798436,
          1.5028419466359721,
          -0.11885424703078287,
          -0.1411397126942795,
          -0.49342149683647635,
          -0.31170923834950376,
          1.18655976087327,
          -2.0225472946702454,
          1.6254120077852037,
          -0.7231332198294417,
          -0.4437077657409838,
          1.3271296212122488,
          -0.6785622885024484,
          -0.22685304216926655,
          -0.03142665096629608,
          0.5462811896951166,
          0.17257107318417314,
          -0.47027889787822985,
          -0.23799577500101488,
          -1.0351297391183947,
          1.8516951975991696,
          -0.5319924951002205,
          -0.36485150262399574,
          1.040847100765792,
          -1.5459811827893175,
          -0.0279981177872966,
          1.153988695672775,
          0.5068530581366226,
          -2.283972949568956,
          1.1342746298935278,
          -0.35885156956074665,
          0.5222814574421203,
          -0.2919951725702567,
          0.03971541249794318,
          0.13485720821517883,
          -0.02885525108204647,
          0.4811390592941265,
          -1.4259825215243356,
          1.4274142166979835,
          -1.9496909646165064,
          1.974265258748401,
          -1.085700603508637,
          0.08342921053018658,
          -0.06314058287204129,
          1.1642742952097733,
          -0.9699876087174044
         ]
        },
        {
         "name": "Test",
         "type": "scatter",
         "x": [
          "2022-09-14",
          "2022-09-15",
          "2022-09-16",
          "2022-09-17",
          "2022-09-18",
          "2022-09-19",
          "2022-09-20",
          "2022-09-21",
          "2022-09-22",
          "2022-09-23",
          "2022-09-24",
          "2022-09-25",
          "2022-09-26",
          "2022-09-27",
          "2022-09-28",
          "2022-09-29",
          "2022-09-30",
          "2022-10-01",
          "2022-10-02",
          "2022-10-03",
          "2022-10-04",
          "2022-10-05",
          "2022-10-06",
          "2022-10-07",
          "2022-10-08",
          "2022-10-09",
          "2022-10-10",
          "2022-10-11",
          "2022-10-12",
          "2022-10-13",
          "2022-10-14",
          "2022-10-15",
          "2022-10-16",
          "2022-10-17",
          "2022-10-18",
          "2022-10-19",
          "2022-10-20",
          "2022-10-21",
          "2022-10-22",
          "2022-10-23",
          "2022-10-24",
          "2022-10-25",
          "2022-10-26",
          "2022-10-27",
          "2022-10-28",
          "2022-10-29",
          "2022-10-30",
          "2022-10-31",
          "2022-11-01",
          "2022-11-02",
          "2022-11-03",
          "2022-11-04",
          "2022-11-05",
          "2022-11-06",
          "2022-11-07",
          "2022-11-08",
          "2022-11-09",
          "2022-11-10",
          "2022-11-11",
          "2022-11-12",
          "2022-11-13",
          "2022-11-14",
          "2022-11-15",
          "2022-11-16",
          "2022-11-17",
          "2022-11-18",
          "2022-11-19",
          "2022-11-20",
          "2022-11-21",
          "2022-11-22",
          "2022-11-23",
          "2022-11-24",
          "2022-11-25",
          "2022-11-26",
          "2022-11-27",
          "2022-11-28",
          "2022-11-29",
          "2022-11-30",
          "2022-12-01",
          "2022-12-02",
          "2022-12-03",
          "2022-12-04",
          "2022-12-05",
          "2022-12-06",
          "2022-12-07",
          "2022-12-08",
          "2022-12-09",
          "2022-12-10",
          "2022-12-11",
          "2022-12-12",
          "2022-12-13",
          "2022-12-14",
          "2022-12-15",
          "2022-12-16",
          "2022-12-17",
          "2022-12-18",
          "2022-12-19",
          "2022-12-20",
          "2022-12-21",
          "2022-12-22",
          "2022-12-23",
          "2022-12-24",
          "2022-12-25",
          "2022-12-26",
          "2022-12-27",
          "2022-12-28",
          "2022-12-29",
          "2022-12-30"
         ],
         "y": [
          -0.12313991350453223,
          0.6705655174338478,
          -0.9014169451374148,
          -0.27656677326475904,
          -0.4334221662039854,
          0.033715479434694086,
          2.080549787297385,
          -0.35456590308699726,
          -1.118271668709132,
          1.6442689402697008,
          -0.7128476202924432,
          0.7699929796248329,
          -0.6862764881551973,
          -1.1199859352986317,
          -0.018569651545048024,
          0.2917126011544051,
          0.010572880476447579,
          0.010572880476447579,
          0.9868477031965501,
          -0.661419622607451,
          1.2842729564747553,
          -0.8628459468736706,
          0.4159969288931364,
          -0.2139960427480185,
          0.9979904360282984,
          -0.9339880103379098,
          -0.5602778938269662,
          0.23514180370091367,
          2.4799739026508245,
          -2.2745444833267072,
          0.37056886427139324,
          -0.986273141317652,
          -1.0411296721816437,
          2.5091164346723205,
          -1.5871235809373112,
          1.0717038993767873,
          -0.3502802366132479,
          -0.5525636941742175,
          -0.2859952395070076,
          0.18971373907917055,
          -0.2225673756955172,
          -0.2722811067910097,
          0.8368493766153228,
          -0.08971171500928728,
          -0.5654206935954655,
          0.78884991210933,
          0.8711347084053176,
          -0.356280169676497,
          -1.4508393870720817,
          0.5925663876116096,
          0.4434251943251322,
          -0.4274222331407363,
          0.4468537275041317,
          -0.6245628909332066,
          0.8385636432048226,
          -1.1774138660468731,
          0.5359955901581182,
          0.09114341018293541,
          0.58999498772736,
          -1.1259858683618809,
          -0.28428097291750787,
          0.007144347297448096,
          1.1282746968302788,
          0.3859972635768909,
          -1.6599799109910502,
          0.9157056397323109,
          -0.7334188193664402,
          1.9382656603689066,
          -2.371400545633443,
          0.010572880476447579,
          -1.9419767649637576,
          0.26257006913290953,
          0.010572880476447579,
          1.4676994815512274,
          1.1222747637670296,
          -0.6579910894284515,
          -0.009141185302799445,
          0.010572880476447579,
          0.010572880476447579,
          0.829135176962574,
          0.5805665214851115,
          -1.0642722711398902,
          0.6422801187071021,
          0.3568547315553953,
          0.05685807839294059,
          -0.38113703522424325,
          0.8977058405425636,
          -2.0002618290067486,
          1.332272420980748,
          0.22999900393241446,
          -0.8371319480311744,
          1.0228473015760446,
          -0.8757029462949186,
          -0.6031345585644597,
          0.6097090535066071,
          0.6534228515388505,
          -1.912834232942262,
          -0.24656710794851358,
          1.1119891642300312,
          0.9397053719853072,
          -0.7317045527769404,
          -1.091700536571886,
          0.9225627060903099,
          0.398854262998139,
          0.15114274081542636,
          -1.1259858683618809,
          0.954276637996055,
          1.2174165594842654
         ]
        },
        {
         "name": "Predicted",
         "type": "scatter",
         "x": [
          "2022-09-14",
          "2022-09-15",
          "2022-09-16",
          "2022-09-17",
          "2022-09-18",
          "2022-09-19",
          "2022-09-20",
          "2022-09-21",
          "2022-09-22",
          "2022-09-23",
          "2022-09-24",
          "2022-09-25",
          "2022-09-26",
          "2022-09-27",
          "2022-09-28",
          "2022-09-29",
          "2022-09-30",
          "2022-10-01",
          "2022-10-02",
          "2022-10-03",
          "2022-10-04",
          "2022-10-05",
          "2022-10-06",
          "2022-10-07",
          "2022-10-08",
          "2022-10-09",
          "2022-10-10",
          "2022-10-11",
          "2022-10-12",
          "2022-10-13",
          "2022-10-14",
          "2022-10-15",
          "2022-10-16",
          "2022-10-17",
          "2022-10-18",
          "2022-10-19",
          "2022-10-20",
          "2022-10-21",
          "2022-10-22",
          "2022-10-23",
          "2022-10-24",
          "2022-10-25",
          "2022-10-26",
          "2022-10-27",
          "2022-10-28",
          "2022-10-29",
          "2022-10-30",
          "2022-10-31",
          "2022-11-01",
          "2022-11-02",
          "2022-11-03",
          "2022-11-04",
          "2022-11-05",
          "2022-11-06",
          "2022-11-07",
          "2022-11-08",
          "2022-11-09",
          "2022-11-10",
          "2022-11-11",
          "2022-11-12",
          "2022-11-13",
          "2022-11-14",
          "2022-11-15",
          "2022-11-16",
          "2022-11-17",
          "2022-11-18",
          "2022-11-19",
          "2022-11-20",
          "2022-11-21",
          "2022-11-22",
          "2022-11-23",
          "2022-11-24",
          "2022-11-25",
          "2022-11-26",
          "2022-11-27",
          "2022-11-28",
          "2022-11-29",
          "2022-11-30",
          "2022-12-01",
          "2022-12-02",
          "2022-12-03",
          "2022-12-04",
          "2022-12-05",
          "2022-12-06",
          "2022-12-07",
          "2022-12-08",
          "2022-12-09",
          "2022-12-10",
          "2022-12-11",
          "2022-12-12",
          "2022-12-13",
          "2022-12-14",
          "2022-12-15",
          "2022-12-16",
          "2022-12-17",
          "2022-12-18",
          "2022-12-19",
          "2022-12-20",
          "2022-12-21",
          "2022-12-22",
          "2022-12-23",
          "2022-12-24",
          "2022-12-25",
          "2022-12-26",
          "2022-12-27",
          "2022-12-28",
          "2022-12-29",
          "2022-12-30"
         ],
         "y": [
          0.4542296528816223,
          0.19882744550704956,
          0.43395912647247314,
          0.4450426995754242,
          0.6957824230194092,
          0.9875612854957581,
          0.41122809052467346,
          0.062201425433158875,
          0.3408641815185547,
          0.8272945284843445,
          0.00805780291557312,
          0.6855634450912476,
          0.6328217387199402,
          0.3978014290332794,
          0.6894816756248474,
          0.5039739012718201,
          0.8898596167564392,
          0.6085370779037476,
          0.8719677329063416,
          0.8469963669776917,
          0.7432427406311035,
          0.41647326946258545,
          0.6514516472816467,
          0.7937411069869995,
          0.5969440937042236,
          0.609352171421051,
          1.1241018772125244,
          0.6027500629425049,
          0.7216018438339233,
          -0.023145675659179688,
          0.833274245262146,
          0.16993895173072815,
          0.6520819664001465,
          0.9079209566116333,
          -0.32134440541267395,
          0.4309335947036743,
          -0.1606103777885437,
          0.425095796585083,
          0.2587999999523163,
          0.511212170124054,
          0.6648522615432739,
          0.22295019030570984,
          0.401094913482666,
          0.04292130470275879,
          0.5487099885940552,
          0.3532765805721283,
          0.4042574465274811,
          0.5329431891441345,
          0.2521161139011383,
          0.5507820844650269,
          0.22602641582489014,
          0.7165716886520386,
          0.5986043214797974,
          0.6781549453735352,
          1.0552773475646973,
          0.6342880725860596,
          1.0899614095687866,
          0.7443571090698242,
          1.0968374013900757,
          0.6204466819763184,
          1.1592373847961426,
          1.3046844005584717,
          0.7347373962402344,
          0.5268819332122803,
          0.5475496053695679,
          1.1737804412841797,
          0.2974545657634735,
          0.9812984466552734,
          0.5752078890800476,
          0.6300876140594482,
          0.33136439323425293,
          0.5723386406898499,
          0.5603094100952148,
          0.29616132378578186,
          0.26747238636016846,
          0.4398729205131531,
          0.3207971751689911,
          0.3005695939064026,
          0.19410741329193115,
          0.5371578931808472,
          0.0963316261768341,
          0.37507951259613037,
          0.8450821042060852,
          0.06803193688392639,
          0.2398047298192978,
          0.17887473106384277,
          0.6022369265556335,
          0.0975201427936554,
          0.808404803276062,
          0.5682887434959412,
          0.34458497166633606,
          0.6174291372299194,
          0.11049479246139526,
          0.8405954241752625,
          0.5052913427352905,
          0.6320724487304688,
          0.848522961139679,
          0.763799786567688,
          0.5887071490287781,
          0.13535934686660767,
          0.4208051562309265,
          0.48269370198249817,
          0.887326717376709,
          0.6489367485046387,
          0.27478471398353577,
          0.44516676664352417,
          0.5422090291976929,
          0.4707496464252472
         ]
        }
       ],
       "layout": {
        "template": {
         "data": {
          "bar": [
           {
            "error_x": {
             "color": "#2a3f5f"
            },
            "error_y": {
             "color": "#2a3f5f"
            },
            "marker": {
             "line": {
              "color": "#E5ECF6",
              "width": 0.5
             },
             "pattern": {
              "fillmode": "overlay",
              "size": 10,
              "solidity": 0.2
             }
            },
            "type": "bar"
           }
          ],
          "barpolar": [
           {
            "marker": {
             "line": {
              "color": "#E5ECF6",
              "width": 0.5
             },
             "pattern": {
              "fillmode": "overlay",
              "size": 10,
              "solidity": 0.2
             }
            },
            "type": "barpolar"
           }
          ],
          "carpet": [
           {
            "aaxis": {
             "endlinecolor": "#2a3f5f",
             "gridcolor": "white",
             "linecolor": "white",
             "minorgridcolor": "white",
             "startlinecolor": "#2a3f5f"
            },
            "baxis": {
             "endlinecolor": "#2a3f5f",
             "gridcolor": "white",
             "linecolor": "white",
             "minorgridcolor": "white",
             "startlinecolor": "#2a3f5f"
            },
            "type": "carpet"
           }
          ],
          "choropleth": [
           {
            "colorbar": {
             "outlinewidth": 0,
             "ticks": ""
            },
            "type": "choropleth"
           }
          ],
          "contour": [
           {
            "colorbar": {
             "outlinewidth": 0,
             "ticks": ""
            },
            "colorscale": [
             [
              0,
              "#0d0887"
             ],
             [
              0.1111111111111111,
              "#46039f"
             ],
             [
              0.2222222222222222,
              "#7201a8"
             ],
             [
              0.3333333333333333,
              "#9c179e"
             ],
             [
              0.4444444444444444,
              "#bd3786"
             ],
             [
              0.5555555555555556,
              "#d8576b"
             ],
             [
              0.6666666666666666,
              "#ed7953"
             ],
             [
              0.7777777777777778,
              "#fb9f3a"
             ],
             [
              0.8888888888888888,
              "#fdca26"
             ],
             [
              1,
              "#f0f921"
             ]
            ],
            "type": "contour"
           }
          ],
          "contourcarpet": [
           {
            "colorbar": {
             "outlinewidth": 0,
             "ticks": ""
            },
            "type": "contourcarpet"
           }
          ],
          "heatmap": [
           {
            "colorbar": {
             "outlinewidth": 0,
             "ticks": ""
            },
            "colorscale": [
             [
              0,
              "#0d0887"
             ],
             [
              0.1111111111111111,
              "#46039f"
             ],
             [
              0.2222222222222222,
              "#7201a8"
             ],
             [
              0.3333333333333333,
              "#9c179e"
             ],
             [
              0.4444444444444444,
              "#bd3786"
             ],
             [
              0.5555555555555556,
              "#d8576b"
             ],
             [
              0.6666666666666666,
              "#ed7953"
             ],
             [
              0.7777777777777778,
              "#fb9f3a"
             ],
             [
              0.8888888888888888,
              "#fdca26"
             ],
             [
              1,
              "#f0f921"
             ]
            ],
            "type": "heatmap"
           }
          ],
          "heatmapgl": [
           {
            "colorbar": {
             "outlinewidth": 0,
             "ticks": ""
            },
            "colorscale": [
             [
              0,
              "#0d0887"
             ],
             [
              0.1111111111111111,
              "#46039f"
             ],
             [
              0.2222222222222222,
              "#7201a8"
             ],
             [
              0.3333333333333333,
              "#9c179e"
             ],
             [
              0.4444444444444444,
              "#bd3786"
             ],
             [
              0.5555555555555556,
              "#d8576b"
             ],
             [
              0.6666666666666666,
              "#ed7953"
             ],
             [
              0.7777777777777778,
              "#fb9f3a"
             ],
             [
              0.8888888888888888,
              "#fdca26"
             ],
             [
              1,
              "#f0f921"
             ]
            ],
            "type": "heatmapgl"
           }
          ],
          "histogram": [
           {
            "marker": {
             "pattern": {
              "fillmode": "overlay",
              "size": 10,
              "solidity": 0.2
             }
            },
            "type": "histogram"
           }
          ],
          "histogram2d": [
           {
            "colorbar": {
             "outlinewidth": 0,
             "ticks": ""
            },
            "colorscale": [
             [
              0,
              "#0d0887"
             ],
             [
              0.1111111111111111,
              "#46039f"
             ],
             [
              0.2222222222222222,
              "#7201a8"
             ],
             [
              0.3333333333333333,
              "#9c179e"
             ],
             [
              0.4444444444444444,
              "#bd3786"
             ],
             [
              0.5555555555555556,
              "#d8576b"
             ],
             [
              0.6666666666666666,
              "#ed7953"
             ],
             [
              0.7777777777777778,
              "#fb9f3a"
             ],
             [
              0.8888888888888888,
              "#fdca26"
             ],
             [
              1,
              "#f0f921"
             ]
            ],
            "type": "histogram2d"
           }
          ],
          "histogram2dcontour": [
           {
            "colorbar": {
             "outlinewidth": 0,
             "ticks": ""
            },
            "colorscale": [
             [
              0,
              "#0d0887"
             ],
             [
              0.1111111111111111,
              "#46039f"
             ],
             [
              0.2222222222222222,
              "#7201a8"
             ],
             [
              0.3333333333333333,
              "#9c179e"
             ],
             [
              0.4444444444444444,
              "#bd3786"
             ],
             [
              0.5555555555555556,
              "#d8576b"
             ],
             [
              0.6666666666666666,
              "#ed7953"
             ],
             [
              0.7777777777777778,
              "#fb9f3a"
             ],
             [
              0.8888888888888888,
              "#fdca26"
             ],
             [
              1,
              "#f0f921"
             ]
            ],
            "type": "histogram2dcontour"
           }
          ],
          "mesh3d": [
           {
            "colorbar": {
             "outlinewidth": 0,
             "ticks": ""
            },
            "type": "mesh3d"
           }
          ],
          "parcoords": [
           {
            "line": {
             "colorbar": {
              "outlinewidth": 0,
              "ticks": ""
             }
            },
            "type": "parcoords"
           }
          ],
          "pie": [
           {
            "automargin": true,
            "type": "pie"
           }
          ],
          "scatter": [
           {
            "fillpattern": {
             "fillmode": "overlay",
             "size": 10,
             "solidity": 0.2
            },
            "type": "scatter"
           }
          ],
          "scatter3d": [
           {
            "line": {
             "colorbar": {
              "outlinewidth": 0,
              "ticks": ""
             }
            },
            "marker": {
             "colorbar": {
              "outlinewidth": 0,
              "ticks": ""
             }
            },
            "type": "scatter3d"
           }
          ],
          "scattercarpet": [
           {
            "marker": {
             "colorbar": {
              "outlinewidth": 0,
              "ticks": ""
             }
            },
            "type": "scattercarpet"
           }
          ],
          "scattergeo": [
           {
            "marker": {
             "colorbar": {
              "outlinewidth": 0,
              "ticks": ""
             }
            },
            "type": "scattergeo"
           }
          ],
          "scattergl": [
           {
            "marker": {
             "colorbar": {
              "outlinewidth": 0,
              "ticks": ""
             }
            },
            "type": "scattergl"
           }
          ],
          "scattermapbox": [
           {
            "marker": {
             "colorbar": {
              "outlinewidth": 0,
              "ticks": ""
             }
            },
            "type": "scattermapbox"
           }
          ],
          "scatterpolar": [
           {
            "marker": {
             "colorbar": {
              "outlinewidth": 0,
              "ticks": ""
             }
            },
            "type": "scatterpolar"
           }
          ],
          "scatterpolargl": [
           {
            "marker": {
             "colorbar": {
              "outlinewidth": 0,
              "ticks": ""
             }
            },
            "type": "scatterpolargl"
           }
          ],
          "scatterternary": [
           {
            "marker": {
             "colorbar": {
              "outlinewidth": 0,
              "ticks": ""
             }
            },
            "type": "scatterternary"
           }
          ],
          "surface": [
           {
            "colorbar": {
             "outlinewidth": 0,
             "ticks": ""
            },
            "colorscale": [
             [
              0,
              "#0d0887"
             ],
             [
              0.1111111111111111,
              "#46039f"
             ],
             [
              0.2222222222222222,
              "#7201a8"
             ],
             [
              0.3333333333333333,
              "#9c179e"
             ],
             [
              0.4444444444444444,
              "#bd3786"
             ],
             [
              0.5555555555555556,
              "#d8576b"
             ],
             [
              0.6666666666666666,
              "#ed7953"
             ],
             [
              0.7777777777777778,
              "#fb9f3a"
             ],
             [
              0.8888888888888888,
              "#fdca26"
             ],
             [
              1,
              "#f0f921"
             ]
            ],
            "type": "surface"
           }
          ],
          "table": [
           {
            "cells": {
             "fill": {
              "color": "#EBF0F8"
             },
             "line": {
              "color": "white"
             }
            },
            "header": {
             "fill": {
              "color": "#C8D4E3"
             },
             "line": {
              "color": "white"
             }
            },
            "type": "table"
           }
          ]
         },
         "layout": {
          "annotationdefaults": {
           "arrowcolor": "#2a3f5f",
           "arrowhead": 0,
           "arrowwidth": 1
          },
          "autotypenumbers": "strict",
          "coloraxis": {
           "colorbar": {
            "outlinewidth": 0,
            "ticks": ""
           }
          },
          "colorscale": {
           "diverging": [
            [
             0,
             "#8e0152"
            ],
            [
             0.1,
             "#c51b7d"
            ],
            [
             0.2,
             "#de77ae"
            ],
            [
             0.3,
             "#f1b6da"
            ],
            [
             0.4,
             "#fde0ef"
            ],
            [
             0.5,
             "#f7f7f7"
            ],
            [
             0.6,
             "#e6f5d0"
            ],
            [
             0.7,
             "#b8e186"
            ],
            [
             0.8,
             "#7fbc41"
            ],
            [
             0.9,
             "#4d9221"
            ],
            [
             1,
             "#276419"
            ]
           ],
           "sequential": [
            [
             0,
             "#0d0887"
            ],
            [
             0.1111111111111111,
             "#46039f"
            ],
            [
             0.2222222222222222,
             "#7201a8"
            ],
            [
             0.3333333333333333,
             "#9c179e"
            ],
            [
             0.4444444444444444,
             "#bd3786"
            ],
            [
             0.5555555555555556,
             "#d8576b"
            ],
            [
             0.6666666666666666,
             "#ed7953"
            ],
            [
             0.7777777777777778,
             "#fb9f3a"
            ],
            [
             0.8888888888888888,
             "#fdca26"
            ],
            [
             1,
             "#f0f921"
            ]
           ],
           "sequentialminus": [
            [
             0,
             "#0d0887"
            ],
            [
             0.1111111111111111,
             "#46039f"
            ],
            [
             0.2222222222222222,
             "#7201a8"
            ],
            [
             0.3333333333333333,
             "#9c179e"
            ],
            [
             0.4444444444444444,
             "#bd3786"
            ],
            [
             0.5555555555555556,
             "#d8576b"
            ],
            [
             0.6666666666666666,
             "#ed7953"
            ],
            [
             0.7777777777777778,
             "#fb9f3a"
            ],
            [
             0.8888888888888888,
             "#fdca26"
            ],
            [
             1,
             "#f0f921"
            ]
           ]
          },
          "colorway": [
           "#636efa",
           "#EF553B",
           "#00cc96",
           "#ab63fa",
           "#FFA15A",
           "#19d3f3",
           "#FF6692",
           "#B6E880",
           "#FF97FF",
           "#FECB52"
          ],
          "font": {
           "color": "#2a3f5f"
          },
          "geo": {
           "bgcolor": "white",
           "lakecolor": "white",
           "landcolor": "#E5ECF6",
           "showlakes": true,
           "showland": true,
           "subunitcolor": "white"
          },
          "hoverlabel": {
           "align": "left"
          },
          "hovermode": "closest",
          "mapbox": {
           "style": "light"
          },
          "paper_bgcolor": "white",
          "plot_bgcolor": "#E5ECF6",
          "polar": {
           "angularaxis": {
            "gridcolor": "white",
            "linecolor": "white",
            "ticks": ""
           },
           "bgcolor": "#E5ECF6",
           "radialaxis": {
            "gridcolor": "white",
            "linecolor": "white",
            "ticks": ""
           }
          },
          "scene": {
           "xaxis": {
            "backgroundcolor": "#E5ECF6",
            "gridcolor": "white",
            "gridwidth": 2,
            "linecolor": "white",
            "showbackground": true,
            "ticks": "",
            "zerolinecolor": "white"
           },
           "yaxis": {
            "backgroundcolor": "#E5ECF6",
            "gridcolor": "white",
            "gridwidth": 2,
            "linecolor": "white",
            "showbackground": true,
            "ticks": "",
            "zerolinecolor": "white"
           },
           "zaxis": {
            "backgroundcolor": "#E5ECF6",
            "gridcolor": "white",
            "gridwidth": 2,
            "linecolor": "white",
            "showbackground": true,
            "ticks": "",
            "zerolinecolor": "white"
           }
          },
          "shapedefaults": {
           "line": {
            "color": "#2a3f5f"
           }
          },
          "ternary": {
           "aaxis": {
            "gridcolor": "white",
            "linecolor": "white",
            "ticks": ""
           },
           "baxis": {
            "gridcolor": "white",
            "linecolor": "white",
            "ticks": ""
           },
           "bgcolor": "#E5ECF6",
           "caxis": {
            "gridcolor": "white",
            "linecolor": "white",
            "ticks": ""
           }
          },
          "title": {
           "x": 0.05
          },
          "xaxis": {
           "automargin": true,
           "gridcolor": "white",
           "linecolor": "white",
           "ticks": "",
           "title": {
            "standoff": 15
           },
           "zerolinecolor": "white",
           "zerolinewidth": 2
          },
          "yaxis": {
           "automargin": true,
           "gridcolor": "white",
           "linecolor": "white",
           "ticks": "",
           "title": {
            "standoff": 15
           },
           "zerolinecolor": "white",
           "zerolinewidth": 2
          }
         }
        },
        "title": {
         "text": " rivers_transactions NNet & tsfresh. MAE=0.8538"
        }
       }
      }
     },
     "metadata": {},
     "output_type": "display_data"
    }
   ],
   "source": [
    "training_result = pd.DataFrame(index = [ts.name for ts in tss], columns=['local', 'aggr'])\n",
    "models = []\n",
    "for ts in tss:\n",
    "    X_train, X_test, y_train, y_test = extractor_ts(ts, best_features=best_features)\n",
    "    X_train = X_train.merge(calendar, left_index=True, right_index=True)\n",
    "    X_test = X_test.merge(calendar, left_index=True, right_index=True)\n",
    "\n",
    "    model = get_model(X_train.shape[1])\n",
    "    train_history, history = train(model, X_train, X_test, y_train, y_test)\n",
    "    models.append(model)\n",
    "    dfX_train = X_train\n",
    "    dfX_test = X_test\n",
    "    dfy_train = y_train\n",
    "    dfy_test = y_test\n",
    "\n",
    "    dfy_pred = pd.Series(model(torch.tensor(X_test.values, dtype=torch.float32)).detach(\n",
    "    ).numpy().reshape(-1), index=dfy_test.index)\n",
    "\n",
    "    plt.plot(train_history)\n",
    "    plt.plot(history)\n",
    "    plt.title(f\" {ts.name} evolution by Epoch\")\n",
    "    plt.ylabel(\"MAE\")\n",
    "    plt.xlabel(\"Epoch\")\n",
    "    plt.legend(['train', 'test'])\n",
    "    plt.show()\n",
    "\n",
    "    mae = MAE(dfy_test, dfy_pred)\n",
    "    training_result.loc[ts.name, 'local'] = np.round(mae, 2)\n",
    "    fig = go.Figure()\n",
    "    fig.update_layout(\n",
    "        title_text=f\" {ts.name} NNet & tsfresh. MAE={mae:.4f}\")\n",
    "    fig.add_trace(go.Scatter(x=dfy_train.index, y=dfy_train, name=\"Train\"))\n",
    "    fig.add_trace(go.Scatter(x=dfy_test.index, y=dfy_test, name=\"Test\"))\n",
    "    fig.add_trace(go.Scatter(x=dfy_pred.index, y=dfy_pred, name=\"Predicted\"))\n",
    "    fig.show()"
   ]
  },
  {
   "cell_type": "markdown",
   "metadata": {},
   "source": [
    "AVG"
   ]
  },
  {
   "cell_type": "code",
   "execution_count": 96,
   "metadata": {},
   "outputs": [
    {
     "name": "stderr",
     "output_type": "stream",
     "text": [
      "Rolling: 100%|██████████| 20/20 [00:00<00:00, 44.66it/s]\n",
      "Feature Extraction: 100%|██████████| 20/20 [00:00<00:00, 80.21it/s]\n"
     ]
    },
    {
     "data": {
      "application/vnd.plotly.v1+json": {
       "config": {
        "plotlyServerURL": "https://plot.ly"
       },
       "data": [
        {
         "name": "Train",
         "type": "scatter",
         "x": [
          "2022-01-07",
          "2022-01-08",
          "2022-01-09",
          "2022-01-10",
          "2022-01-11",
          "2022-01-12",
          "2022-01-13",
          "2022-01-14",
          "2022-01-15",
          "2022-01-16",
          "2022-01-17",
          "2022-01-18",
          "2022-01-19",
          "2022-01-20",
          "2022-01-21",
          "2022-01-22",
          "2022-01-23",
          "2022-01-24",
          "2022-01-25",
          "2022-01-26",
          "2022-01-27",
          "2022-01-28",
          "2022-01-29",
          "2022-01-30",
          "2022-01-31",
          "2022-02-01",
          "2022-02-02",
          "2022-02-03",
          "2022-02-04",
          "2022-02-05",
          "2022-02-06",
          "2022-02-07",
          "2022-02-08",
          "2022-02-09",
          "2022-02-10",
          "2022-02-11",
          "2022-02-12",
          "2022-02-13",
          "2022-02-14",
          "2022-02-15",
          "2022-02-16",
          "2022-02-17",
          "2022-02-18",
          "2022-02-19",
          "2022-02-20",
          "2022-02-21",
          "2022-02-22",
          "2022-02-23",
          "2022-02-24",
          "2022-02-25",
          "2022-02-26",
          "2022-02-27",
          "2022-02-28",
          "2022-03-01",
          "2022-03-02",
          "2022-03-03",
          "2022-03-04",
          "2022-03-05",
          "2022-03-06",
          "2022-03-07",
          "2022-03-08",
          "2022-03-09",
          "2022-03-10",
          "2022-03-11",
          "2022-03-12",
          "2022-03-13",
          "2022-03-14",
          "2022-03-15",
          "2022-03-16",
          "2022-03-17",
          "2022-03-18",
          "2022-03-19",
          "2022-03-20",
          "2022-03-21",
          "2022-03-22",
          "2022-03-23",
          "2022-03-24",
          "2022-03-25",
          "2022-03-26",
          "2022-03-27",
          "2022-03-28",
          "2022-03-29",
          "2022-03-30",
          "2022-03-31",
          "2022-04-01",
          "2022-04-02",
          "2022-04-03",
          "2022-04-04",
          "2022-04-05",
          "2022-04-06",
          "2022-04-07",
          "2022-04-08",
          "2022-04-09",
          "2022-04-10",
          "2022-04-11",
          "2022-04-12",
          "2022-04-13",
          "2022-04-14",
          "2022-04-15",
          "2022-04-16",
          "2022-04-17",
          "2022-04-18",
          "2022-04-19",
          "2022-04-20",
          "2022-04-21",
          "2022-04-22",
          "2022-04-23",
          "2022-04-24",
          "2022-04-25",
          "2022-04-26",
          "2022-04-27",
          "2022-04-28",
          "2022-04-29",
          "2022-04-30",
          "2022-05-01",
          "2022-05-02",
          "2022-05-03",
          "2022-05-04",
          "2022-05-05",
          "2022-05-06",
          "2022-05-07",
          "2022-05-08",
          "2022-05-09",
          "2022-05-10",
          "2022-05-11",
          "2022-05-12",
          "2022-05-13",
          "2022-05-14",
          "2022-05-15",
          "2022-05-16",
          "2022-05-17",
          "2022-05-18",
          "2022-05-19",
          "2022-05-20",
          "2022-05-21",
          "2022-05-22",
          "2022-05-23",
          "2022-05-24",
          "2022-05-25",
          "2022-05-26",
          "2022-05-27",
          "2022-05-28",
          "2022-05-29",
          "2022-05-30",
          "2022-05-31",
          "2022-06-01",
          "2022-06-02",
          "2022-06-03",
          "2022-06-04",
          "2022-06-05",
          "2022-06-06",
          "2022-06-07",
          "2022-06-08",
          "2022-06-09",
          "2022-06-10",
          "2022-06-11",
          "2022-06-12",
          "2022-06-13",
          "2022-06-14",
          "2022-06-15",
          "2022-06-16",
          "2022-06-17",
          "2022-06-18",
          "2022-06-19",
          "2022-06-20",
          "2022-06-21",
          "2022-06-22",
          "2022-06-23",
          "2022-06-24",
          "2022-06-25",
          "2022-06-26",
          "2022-06-27",
          "2022-06-28",
          "2022-06-29",
          "2022-06-30",
          "2022-07-01",
          "2022-07-02",
          "2022-07-03",
          "2022-07-04",
          "2022-07-05",
          "2022-07-06",
          "2022-07-07",
          "2022-07-08",
          "2022-07-09",
          "2022-07-10",
          "2022-07-11",
          "2022-07-12",
          "2022-07-13",
          "2022-07-14",
          "2022-07-15",
          "2022-07-16",
          "2022-07-17",
          "2022-07-18",
          "2022-07-19",
          "2022-07-20",
          "2022-07-21",
          "2022-07-22",
          "2022-07-23",
          "2022-07-24",
          "2022-07-25",
          "2022-07-26",
          "2022-07-27",
          "2022-07-28",
          "2022-07-29",
          "2022-07-30",
          "2022-07-31",
          "2022-08-01",
          "2022-08-02",
          "2022-08-03",
          "2022-08-04",
          "2022-08-05",
          "2022-08-06",
          "2022-08-07",
          "2022-08-08",
          "2022-08-09",
          "2022-08-10",
          "2022-08-11",
          "2022-08-12",
          "2022-08-13",
          "2022-08-14",
          "2022-08-15",
          "2022-08-16",
          "2022-08-17",
          "2022-08-18",
          "2022-08-19",
          "2022-08-20",
          "2022-08-21",
          "2022-08-22",
          "2022-08-23",
          "2022-08-24",
          "2022-08-25",
          "2022-08-26",
          "2022-08-27",
          "2022-08-28",
          "2022-08-29",
          "2022-08-30",
          "2022-08-31",
          "2022-09-01",
          "2022-09-02",
          "2022-09-03",
          "2022-09-04",
          "2022-09-05",
          "2022-09-06",
          "2022-09-07",
          "2022-09-08",
          "2022-09-09",
          "2022-09-10",
          "2022-09-11",
          "2022-09-12",
          "2022-09-13"
         ],
         "y": [
          1.9127046445096438,
          -0.3391186396249671,
          -0.18061155105055077,
          -0.7185130258256667,
          -0.6244313990589164,
          0.3920592205731468,
          0.3756971985267554,
          -0.25117277112561354,
          0.3112717367190894,
          -0.38206894749674436,
          0.9780241351095373,
          -0.7870289931449305,
          1.346169631153343,
          -1.693075963963852,
          -0.6643138277969953,
          0.6037428807983349,
          0.24173314302192617,
          0.3112717367190894,
          -1.6409220186909794,
          0.6845303646523924,
          1.5987583464945097,
          -0.8974726419580722,
          0.7029376394545825,
          -1.6705781836500637,
          0.5607925729265577,
          -0.1652721553820589,
          0.6753267272512972,
          -0.08039416601640369,
          0.09038443909280612,
          -0.4833089589087909,
          0.6098786390657317,
          -0.2971909581310892,
          1.743971292156233,
          -0.8412281911736019,
          -2.1675746033092014,
          2.12745618386853,
          -0.10902770459758857,
          -0.8432734439294008,
          0.5474984300138647,
          0.11492747216239316,
          -1.8055648655327925,
          1.7848763472722113,
          -0.5957978604777315,
          -0.7307845423604602,
          -0.10391457270809126,
          0.5505663091475631,
          0.5382947926127696,
          1.3932104445367182,
          -1.6746686891616616,
          0.4892087264735955,
          -1.5018448312966528,
          1.44638701618749,
          0.07402241704641475,
          -0.2266297380560265,
          -0.0773262868827053,
          0.07402241704641475,
          2.2798275141755497,
          -1.9599814485956109,
          0.5331816607232722,
          0.4984123638746906,
          0.43807740757862246,
          -0.28798732072999406,
          -1.399582193506707,
          0.6190822764668269,
          0.3245658796317824,
          -0.41070248607792925,
          -0.327869749468073,
          0.5710188367055523,
          -0.49251259630988603,
          0.46364306702610897,
          1.2469748724970955,
          1.046540102428801,
          -0.990531642346923,
          -1.9252121517470293,
          0.6354442985132183,
          0.07606766980221367,
          -0.07119052861530854,
          -0.6407934211053078,
          0.43091902293332623,
          0.3061586048295921,
          0.38285558317205165,
          -0.11618608924288479,
          0.7591820902390529,
          -1.6204694911329902,
          -0.38718207938624166,
          1.8360076661671842,
          0.2816155717600051,
          0.25195940680092077,
          -1.4149215891751987,
          0.6722588481175988,
          0.9095081677902735,
          -2.1307600537048206,
          0.908485541412374,
          -0.290032573485793,
          2.1847232610309,
          0.07402241704641475,
          -0.13970649593457238,
          1.1068750587248695,
          0.6507836941817101,
          -0.6039788715009272,
          -1.1081336758053608,
          0.6129465181994301,
          0.8297433103141156,
          -0.4383133982812147,
          -0.9220156750276592,
          1.6110298630293032,
          -0.20515458412013782,
          -1.8873749757647493,
          0.7520237055937566,
          -0.11107295735338749,
          0.7581594638611534,
          0.5198875178105793,
          0.7162317823672756,
          0.07402241704641475,
          0.07402241704641475,
          2.1039357771768428,
          -1.3873106769719135,
          -0.3892273321420406,
          -0.03846648452252584,
          0.11799535129609154,
          0.36751618750355974,
          -1.7912480962422,
          1.3911651917809191,
          0.41148912175323654,
          -1.188921159659418,
          -0.1080050782196891,
          1.2265223449391063,
          -0.32991500222387193,
          0.12822161507508614,
          0.10163332924970017,
          0.20696384617334454,
          -1.3474282482338344,
          1.1058524323469698,
          -0.5191008821352721,
          -1.1848306541478204,
          0.539317418990669,
          0.2611630442020159,
          0.4493262977355165,
          0.4319416493112257,
          -1.6347862604235825,
          0.5168196386768809,
          1.026087574870812,
          -1.3658355230360246,
          2.22256043701318,
          -1.3525413801233317,
          -0.3882047057641411,
          -0.052783253813118276,
          0.31536224223068726,
          -0.8995178947138711,
          0.8103134091340258,
          1.0179065638476164,
          -1.7513656675041211,
          0.4738693308051036,
          -0.9629207301436377,
          0.7745214859075448,
          0.14049313160987964,
          1.0680152563646899,
          -1.6501256560920745,
          0.5055707485199868,
          -0.5487570470943564,
          1.1201692016375624,
          -0.5876168494545359,
          0.3399052753002743,
          1.166187388643038,
          -1.5386593809010334,
          1.3277623563511527,
          -1.4302609848436907,
          0.18548869223745587,
          -0.1080050782196891,
          -0.8136172789703164,
          1.2306128504507041,
          -0.3513901561597606,
          -0.2409465073466189,
          1.2848120484793755,
          0.07402241704641475,
          0.07402241704641475,
          0.07402241704641475,
          0.07402241704641475,
          0.9851825197548335,
          0.668168342606001,
          -0.8995178947138711,
          0.4830729682061987,
          -0.40354410143263303,
          1.308332455171063,
          -1.7523882938820206,
          0.42580589104382893,
          0.8236075520467189,
          -1.8761260856078552,
          0.5076160012757858,
          0.5434079245022668,
          -1.1541518628108365,
          0.07402241704641475,
          -1.0866585218694722,
          -0.20106407860853998,
          -0.5508022998501553,
          0.1619682855457683,
          -1.066205994311483,
          1.1651647622651387,
          1.2091376965148153,
          -1.4895733147618593,
          -0.9884863895911241,
          1.2275449713170057,
          -0.8105493998366181,
          -0.48126370615299197,
          0.2672988024694127,
          0.6569194524491069,
          -1.0385950821081977,
          1.179481531555731,
          0.0003933178376536386,
          -0.35241278253766006,
          0.2928644619168992,
          -0.17243054002735508,
          -0.45263016757180713,
          0.11083696665079532,
          0.14253838436567856,
          -1.3187947096526496,
          1.5159256098846534,
          -1.3637902702802258,
          1.9536096996256223,
          -1.284025412804068,
          1.8411207980566815,
          -2.20745703204728,
          1.406504587449411,
          -0.2266297380560265,
          -0.23378812270132268,
          1.0271102012487114,
          -0.6735174651980904,
          -0.8105493998366181,
          1.306287202415264,
          -1.8321531513581784,
          0.07197716429061583,
          0.31331698947488834,
          0.7704309803959469,
          -0.3646842990724536,
          0.27036668160311106,
          -0.8074815207029197,
          0.946322717394654,
          -1.5857001942844087,
          1.3308302354848511,
          -0.14788750695776806,
          0.5270459024558755,
          0.3552446709687662,
          -0.6182956407915197,
          -0.06300951759211287,
          -0.4761505742634947,
          0.7428200681926616,
          -1.4046953253962042,
          1.5915999618492134,
          0.5669283311939545,
          -1.6746686891616616
         ]
        },
        {
         "name": "Test",
         "type": "scatter",
         "x": [
          "2022-09-14",
          "2022-09-15",
          "2022-09-16",
          "2022-09-17",
          "2022-09-18",
          "2022-09-19",
          "2022-09-20",
          "2022-09-21",
          "2022-09-22",
          "2022-09-23",
          "2022-09-24",
          "2022-09-25",
          "2022-09-26",
          "2022-09-27",
          "2022-09-28",
          "2022-09-29",
          "2022-09-30",
          "2022-10-01",
          "2022-10-02",
          "2022-10-03",
          "2022-10-04",
          "2022-10-05",
          "2022-10-06",
          "2022-10-07",
          "2022-10-08",
          "2022-10-09",
          "2022-10-10",
          "2022-10-11",
          "2022-10-12",
          "2022-10-13",
          "2022-10-14",
          "2022-10-15",
          "2022-10-16",
          "2022-10-17",
          "2022-10-18",
          "2022-10-19",
          "2022-10-20",
          "2022-10-21",
          "2022-10-22",
          "2022-10-23",
          "2022-10-24",
          "2022-10-25",
          "2022-10-26",
          "2022-10-27",
          "2022-10-28",
          "2022-10-29",
          "2022-10-30",
          "2022-10-31",
          "2022-11-01",
          "2022-11-02",
          "2022-11-03",
          "2022-11-04",
          "2022-11-05",
          "2022-11-06",
          "2022-11-07",
          "2022-11-08",
          "2022-11-09",
          "2022-11-10",
          "2022-11-11",
          "2022-11-12",
          "2022-11-13",
          "2022-11-14",
          "2022-11-15",
          "2022-11-16",
          "2022-11-17",
          "2022-11-18",
          "2022-11-19",
          "2022-11-20",
          "2022-11-21",
          "2022-11-22",
          "2022-11-23",
          "2022-11-24",
          "2022-11-25",
          "2022-11-26",
          "2022-11-27",
          "2022-11-28",
          "2022-11-29",
          "2022-11-30",
          "2022-12-01",
          "2022-12-02",
          "2022-12-03",
          "2022-12-04",
          "2022-12-05",
          "2022-12-06",
          "2022-12-07",
          "2022-12-08",
          "2022-12-09",
          "2022-12-10",
          "2022-12-11",
          "2022-12-12",
          "2022-12-13",
          "2022-12-14",
          "2022-12-15",
          "2022-12-16",
          "2022-12-17",
          "2022-12-18",
          "2022-12-19",
          "2022-12-20",
          "2022-12-21",
          "2022-12-22",
          "2022-12-23",
          "2022-12-24",
          "2022-12-25",
          "2022-12-26",
          "2022-12-27",
          "2022-12-28",
          "2022-12-29",
          "2022-12-30"
         ],
         "y": [
          0.5515889355254625,
          0.8430374532268086,
          -0.6182956407915197,
          -0.5088746183562775,
          0.8246301784246183,
          -0.8310019273946073,
          1.2367486087181008,
          -0.3227566175785757,
          -0.08448467152800153,
          0.4810277154503998,
          -1.6194468647550908,
          0.8563315961395016,
          -1.295274302960962,
          1.3717352906008295,
          -1.0559797305324885,
          1.1089203114806683,
          0.07402241704641475,
          0.07402241704641475,
          -1.6818270738069578,
          1.1027845532132716,
          1.0179065638476164,
          -2.4549326154989495,
          1.6785232039706675,
          -0.1928830675853443,
          0.10470120838339855,
          -0.5845489703208374,
          0.9003045303891783,
          0.14458363712147748,
          -1.0518892250208907,
          0.6221501556005252,
          0.6773719800070961,
          -1.6726234364058628,
          -0.05687375932471612,
          -0.20719983687593674,
          1.1723231469104347,
          -1.0733643789567793,
          1.101761926835372,
          -0.1898151884516459,
          -1.2870932919377662,
          -0.4454717829265109,
          1.281744169345677,
          1.7490844240457302,
          -1.3106136986294539,
          -1.4159442155530981,
          0.041298372953632034,
          0.20900909892914346,
          0.4053533634858398,
          0.8532637170058032,
          -1.284025412804068,
          1.4187761039842046,
          0.7939513870876346,
          -0.1622042762483605,
          0.5567020674149599,
          -0.46490168410660065,
          -2.062244086385557,
          0.9074629150344746,
          -2.0786061084319485,
          1.1835720370673288,
          0.6109012654436312,
          -0.3830915738746438,
          0.5250006497000765,
          0.539317418990669,
          -1.2318714675311955,
          -0.8320245537725067,
          2.0384876889912773,
          -0.8872463781790776,
          0.4656883197819079,
          0.15480990090047209,
          -1.864877195450961,
          1.9096367653759454,
          -0.08448467152800153,
          -0.3943404640315379,
          0.2672988024694127,
          0.10470120838339855,
          0.057660395000023394,
          -0.1468648805798686,
          -1.6296731285340853,
          0.07402241704641475,
          0.07402241704641475,
          -0.015968704208737722,
          1.590577335471314,
          -2.0857644930772445,
          1.7204508854645453,
          -1.5427498864126312,
          1.166187388643038,
          -0.4250192553685217,
          -0.4127477388337282,
          -0.2583311557709097,
          1.577283192558621,
          -0.0088103195634415,
          -0.8964500155801727,
          -1.3883333033498129,
          1.2009566854916196,
          0.4575073087587122,
          -0.0047198140518436614,
          -1.7094379860102433,
          0.9401869591272572,
          1.1876625425789267,
          0.6068107599320334,
          -1.700234348609148,
          0.9902956516443309,
          -0.570232201030245,
          -0.6602233222853975,
          -0.38718207938624166,
          0.5515889355254625,
          -0.3207113648227768,
          -0.928151433295056,
          0.4002402315963425
         ]
        },
        {
         "name": "Predicted",
         "type": "scatter",
         "x": [
          "2022-09-14",
          "2022-09-15",
          "2022-09-16",
          "2022-09-17",
          "2022-09-18",
          "2022-09-19",
          "2022-09-20",
          "2022-09-21",
          "2022-09-22",
          "2022-09-23",
          "2022-09-24",
          "2022-09-25",
          "2022-09-26",
          "2022-09-27",
          "2022-09-28",
          "2022-09-29",
          "2022-09-30",
          "2022-10-01",
          "2022-10-02",
          "2022-10-03",
          "2022-10-04",
          "2022-10-05",
          "2022-10-06",
          "2022-10-07",
          "2022-10-08",
          "2022-10-09",
          "2022-10-10",
          "2022-10-11",
          "2022-10-12",
          "2022-10-13",
          "2022-10-14",
          "2022-10-15",
          "2022-10-16",
          "2022-10-17",
          "2022-10-18",
          "2022-10-19",
          "2022-10-20",
          "2022-10-21",
          "2022-10-22",
          "2022-10-23",
          "2022-10-24",
          "2022-10-25",
          "2022-10-26",
          "2022-10-27",
          "2022-10-28",
          "2022-10-29",
          "2022-10-30",
          "2022-10-31",
          "2022-11-01",
          "2022-11-02",
          "2022-11-03",
          "2022-11-04",
          "2022-11-05",
          "2022-11-06",
          "2022-11-07",
          "2022-11-08",
          "2022-11-09",
          "2022-11-10",
          "2022-11-11",
          "2022-11-12",
          "2022-11-13",
          "2022-11-14",
          "2022-11-15",
          "2022-11-16",
          "2022-11-17",
          "2022-11-18",
          "2022-11-19",
          "2022-11-20",
          "2022-11-21",
          "2022-11-22",
          "2022-11-23",
          "2022-11-24",
          "2022-11-25",
          "2022-11-26",
          "2022-11-27",
          "2022-11-28",
          "2022-11-29",
          "2022-11-30",
          "2022-12-01",
          "2022-12-02",
          "2022-12-03",
          "2022-12-04",
          "2022-12-05",
          "2022-12-06",
          "2022-12-07",
          "2022-12-08",
          "2022-12-09",
          "2022-12-10",
          "2022-12-11",
          "2022-12-12",
          "2022-12-13",
          "2022-12-14",
          "2022-12-15",
          "2022-12-16",
          "2022-12-17",
          "2022-12-18",
          "2022-12-19",
          "2022-12-20",
          "2022-12-21",
          "2022-12-22",
          "2022-12-23",
          "2022-12-24",
          "2022-12-25",
          "2022-12-26",
          "2022-12-27",
          "2022-12-28",
          "2022-12-29",
          "2022-12-30"
         ],
         "y": [
          0.290910929441452,
          -0.5817869901657104,
          -0.6353832483291626,
          -0.17820845544338226,
          -0.044093627482652664,
          -0.39651814103126526,
          0.019378378987312317,
          -0.7481487393379211,
          -0.28605425357818604,
          -0.43145033717155457,
          -0.3105132579803467,
          0.12564492225646973,
          -0.195011705160141,
          0.3245577812194824,
          -0.45095205307006836,
          0.014057576656341553,
          -0.5815696716308594,
          -0.15808451175689697,
          -0.5310521125793457,
          0.41538721323013306,
          -0.2309899479150772,
          -0.6698682308197021,
          0.29792580008506775,
          -0.33967262506484985,
          -0.05132348835468292,
          -0.3334605395793915,
          0.1430492401123047,
          -0.4808819890022278,
          -0.17948058247566223,
          0.04220438003540039,
          -0.21626295149326324,
          -0.19716238975524902,
          0.05093648284673691,
          0.08642632514238358,
          -0.16355957090854645,
          -0.3544330894947052,
          -0.08227883279323578,
          -0.292458713054657,
          0.018296949565410614,
          0.308837890625,
          0.10674029588699341,
          -0.2961883544921875,
          -0.5008469820022583,
          -0.2998999357223511,
          0.40045875310897827,
          0.16455376148223877,
          -0.012614239007234573,
          -0.10034811496734619,
          -0.2604026794433594,
          0.3249412477016449,
          -0.6294007897377014,
          -0.4265270233154297,
          -0.050516970455646515,
          -0.6905490756034851,
          -0.33187711238861084,
          0.13946621119976044,
          -0.2924501299858093,
          0.2516663074493408,
          -0.1466582715511322,
          -0.1643427610397339,
          -0.2856275737285614,
          -0.5036096572875977,
          -0.47350770235061646,
          0.31169238686561584,
          0.0848834365606308,
          -0.7989158034324646,
          -0.12060344219207764,
          -0.5241184234619141,
          -0.3030487895011902,
          0.43003344535827637,
          -0.783780038356781,
          -0.23096534609794617,
          0.20227497816085815,
          0.03763642534613609,
          0.017969541251659393,
          0.06754051148891449,
          -0.3025814890861511,
          0.35378769040107727,
          -0.35873645544052124,
          -0.033255212008953094,
          0.15299484133720398,
          -0.5791645646095276,
          0.5668456554412842,
          -0.34294742345809937,
          0.2161003053188324,
          -0.6416648626327515,
          0.16253837943077087,
          0.1448490023612976,
          0.12493892759084702,
          -0.28560635447502136,
          -0.4306953549385071,
          0.16591724753379822,
          0.36908847093582153,
          -0.18312157690525055,
          -0.036019742488861084,
          -0.07715672999620438,
          0.6102035045623779,
          -0.09512001276016235,
          -0.6111232042312622,
          -0.6964033246040344,
          0.09048987925052643,
          -0.4478081166744232,
          0.05239880830049515,
          -0.03931473195552826,
          0.20742575824260712,
          -0.34380775690078735,
          0.013752028346061707,
          0.325522243976593
         ]
        }
       ],
       "layout": {
        "template": {
         "data": {
          "bar": [
           {
            "error_x": {
             "color": "#2a3f5f"
            },
            "error_y": {
             "color": "#2a3f5f"
            },
            "marker": {
             "line": {
              "color": "#E5ECF6",
              "width": 0.5
             },
             "pattern": {
              "fillmode": "overlay",
              "size": 10,
              "solidity": 0.2
             }
            },
            "type": "bar"
           }
          ],
          "barpolar": [
           {
            "marker": {
             "line": {
              "color": "#E5ECF6",
              "width": 0.5
             },
             "pattern": {
              "fillmode": "overlay",
              "size": 10,
              "solidity": 0.2
             }
            },
            "type": "barpolar"
           }
          ],
          "carpet": [
           {
            "aaxis": {
             "endlinecolor": "#2a3f5f",
             "gridcolor": "white",
             "linecolor": "white",
             "minorgridcolor": "white",
             "startlinecolor": "#2a3f5f"
            },
            "baxis": {
             "endlinecolor": "#2a3f5f",
             "gridcolor": "white",
             "linecolor": "white",
             "minorgridcolor": "white",
             "startlinecolor": "#2a3f5f"
            },
            "type": "carpet"
           }
          ],
          "choropleth": [
           {
            "colorbar": {
             "outlinewidth": 0,
             "ticks": ""
            },
            "type": "choropleth"
           }
          ],
          "contour": [
           {
            "colorbar": {
             "outlinewidth": 0,
             "ticks": ""
            },
            "colorscale": [
             [
              0,
              "#0d0887"
             ],
             [
              0.1111111111111111,
              "#46039f"
             ],
             [
              0.2222222222222222,
              "#7201a8"
             ],
             [
              0.3333333333333333,
              "#9c179e"
             ],
             [
              0.4444444444444444,
              "#bd3786"
             ],
             [
              0.5555555555555556,
              "#d8576b"
             ],
             [
              0.6666666666666666,
              "#ed7953"
             ],
             [
              0.7777777777777778,
              "#fb9f3a"
             ],
             [
              0.8888888888888888,
              "#fdca26"
             ],
             [
              1,
              "#f0f921"
             ]
            ],
            "type": "contour"
           }
          ],
          "contourcarpet": [
           {
            "colorbar": {
             "outlinewidth": 0,
             "ticks": ""
            },
            "type": "contourcarpet"
           }
          ],
          "heatmap": [
           {
            "colorbar": {
             "outlinewidth": 0,
             "ticks": ""
            },
            "colorscale": [
             [
              0,
              "#0d0887"
             ],
             [
              0.1111111111111111,
              "#46039f"
             ],
             [
              0.2222222222222222,
              "#7201a8"
             ],
             [
              0.3333333333333333,
              "#9c179e"
             ],
             [
              0.4444444444444444,
              "#bd3786"
             ],
             [
              0.5555555555555556,
              "#d8576b"
             ],
             [
              0.6666666666666666,
              "#ed7953"
             ],
             [
              0.7777777777777778,
              "#fb9f3a"
             ],
             [
              0.8888888888888888,
              "#fdca26"
             ],
             [
              1,
              "#f0f921"
             ]
            ],
            "type": "heatmap"
           }
          ],
          "heatmapgl": [
           {
            "colorbar": {
             "outlinewidth": 0,
             "ticks": ""
            },
            "colorscale": [
             [
              0,
              "#0d0887"
             ],
             [
              0.1111111111111111,
              "#46039f"
             ],
             [
              0.2222222222222222,
              "#7201a8"
             ],
             [
              0.3333333333333333,
              "#9c179e"
             ],
             [
              0.4444444444444444,
              "#bd3786"
             ],
             [
              0.5555555555555556,
              "#d8576b"
             ],
             [
              0.6666666666666666,
              "#ed7953"
             ],
             [
              0.7777777777777778,
              "#fb9f3a"
             ],
             [
              0.8888888888888888,
              "#fdca26"
             ],
             [
              1,
              "#f0f921"
             ]
            ],
            "type": "heatmapgl"
           }
          ],
          "histogram": [
           {
            "marker": {
             "pattern": {
              "fillmode": "overlay",
              "size": 10,
              "solidity": 0.2
             }
            },
            "type": "histogram"
           }
          ],
          "histogram2d": [
           {
            "colorbar": {
             "outlinewidth": 0,
             "ticks": ""
            },
            "colorscale": [
             [
              0,
              "#0d0887"
             ],
             [
              0.1111111111111111,
              "#46039f"
             ],
             [
              0.2222222222222222,
              "#7201a8"
             ],
             [
              0.3333333333333333,
              "#9c179e"
             ],
             [
              0.4444444444444444,
              "#bd3786"
             ],
             [
              0.5555555555555556,
              "#d8576b"
             ],
             [
              0.6666666666666666,
              "#ed7953"
             ],
             [
              0.7777777777777778,
              "#fb9f3a"
             ],
             [
              0.8888888888888888,
              "#fdca26"
             ],
             [
              1,
              "#f0f921"
             ]
            ],
            "type": "histogram2d"
           }
          ],
          "histogram2dcontour": [
           {
            "colorbar": {
             "outlinewidth": 0,
             "ticks": ""
            },
            "colorscale": [
             [
              0,
              "#0d0887"
             ],
             [
              0.1111111111111111,
              "#46039f"
             ],
             [
              0.2222222222222222,
              "#7201a8"
             ],
             [
              0.3333333333333333,
              "#9c179e"
             ],
             [
              0.4444444444444444,
              "#bd3786"
             ],
             [
              0.5555555555555556,
              "#d8576b"
             ],
             [
              0.6666666666666666,
              "#ed7953"
             ],
             [
              0.7777777777777778,
              "#fb9f3a"
             ],
             [
              0.8888888888888888,
              "#fdca26"
             ],
             [
              1,
              "#f0f921"
             ]
            ],
            "type": "histogram2dcontour"
           }
          ],
          "mesh3d": [
           {
            "colorbar": {
             "outlinewidth": 0,
             "ticks": ""
            },
            "type": "mesh3d"
           }
          ],
          "parcoords": [
           {
            "line": {
             "colorbar": {
              "outlinewidth": 0,
              "ticks": ""
             }
            },
            "type": "parcoords"
           }
          ],
          "pie": [
           {
            "automargin": true,
            "type": "pie"
           }
          ],
          "scatter": [
           {
            "fillpattern": {
             "fillmode": "overlay",
             "size": 10,
             "solidity": 0.2
            },
            "type": "scatter"
           }
          ],
          "scatter3d": [
           {
            "line": {
             "colorbar": {
              "outlinewidth": 0,
              "ticks": ""
             }
            },
            "marker": {
             "colorbar": {
              "outlinewidth": 0,
              "ticks": ""
             }
            },
            "type": "scatter3d"
           }
          ],
          "scattercarpet": [
           {
            "marker": {
             "colorbar": {
              "outlinewidth": 0,
              "ticks": ""
             }
            },
            "type": "scattercarpet"
           }
          ],
          "scattergeo": [
           {
            "marker": {
             "colorbar": {
              "outlinewidth": 0,
              "ticks": ""
             }
            },
            "type": "scattergeo"
           }
          ],
          "scattergl": [
           {
            "marker": {
             "colorbar": {
              "outlinewidth": 0,
              "ticks": ""
             }
            },
            "type": "scattergl"
           }
          ],
          "scattermapbox": [
           {
            "marker": {
             "colorbar": {
              "outlinewidth": 0,
              "ticks": ""
             }
            },
            "type": "scattermapbox"
           }
          ],
          "scatterpolar": [
           {
            "marker": {
             "colorbar": {
              "outlinewidth": 0,
              "ticks": ""
             }
            },
            "type": "scatterpolar"
           }
          ],
          "scatterpolargl": [
           {
            "marker": {
             "colorbar": {
              "outlinewidth": 0,
              "ticks": ""
             }
            },
            "type": "scatterpolargl"
           }
          ],
          "scatterternary": [
           {
            "marker": {
             "colorbar": {
              "outlinewidth": 0,
              "ticks": ""
             }
            },
            "type": "scatterternary"
           }
          ],
          "surface": [
           {
            "colorbar": {
             "outlinewidth": 0,
             "ticks": ""
            },
            "colorscale": [
             [
              0,
              "#0d0887"
             ],
             [
              0.1111111111111111,
              "#46039f"
             ],
             [
              0.2222222222222222,
              "#7201a8"
             ],
             [
              0.3333333333333333,
              "#9c179e"
             ],
             [
              0.4444444444444444,
              "#bd3786"
             ],
             [
              0.5555555555555556,
              "#d8576b"
             ],
             [
              0.6666666666666666,
              "#ed7953"
             ],
             [
              0.7777777777777778,
              "#fb9f3a"
             ],
             [
              0.8888888888888888,
              "#fdca26"
             ],
             [
              1,
              "#f0f921"
             ]
            ],
            "type": "surface"
           }
          ],
          "table": [
           {
            "cells": {
             "fill": {
              "color": "#EBF0F8"
             },
             "line": {
              "color": "white"
             }
            },
            "header": {
             "fill": {
              "color": "#C8D4E3"
             },
             "line": {
              "color": "white"
             }
            },
            "type": "table"
           }
          ]
         },
         "layout": {
          "annotationdefaults": {
           "arrowcolor": "#2a3f5f",
           "arrowhead": 0,
           "arrowwidth": 1
          },
          "autotypenumbers": "strict",
          "coloraxis": {
           "colorbar": {
            "outlinewidth": 0,
            "ticks": ""
           }
          },
          "colorscale": {
           "diverging": [
            [
             0,
             "#8e0152"
            ],
            [
             0.1,
             "#c51b7d"
            ],
            [
             0.2,
             "#de77ae"
            ],
            [
             0.3,
             "#f1b6da"
            ],
            [
             0.4,
             "#fde0ef"
            ],
            [
             0.5,
             "#f7f7f7"
            ],
            [
             0.6,
             "#e6f5d0"
            ],
            [
             0.7,
             "#b8e186"
            ],
            [
             0.8,
             "#7fbc41"
            ],
            [
             0.9,
             "#4d9221"
            ],
            [
             1,
             "#276419"
            ]
           ],
           "sequential": [
            [
             0,
             "#0d0887"
            ],
            [
             0.1111111111111111,
             "#46039f"
            ],
            [
             0.2222222222222222,
             "#7201a8"
            ],
            [
             0.3333333333333333,
             "#9c179e"
            ],
            [
             0.4444444444444444,
             "#bd3786"
            ],
            [
             0.5555555555555556,
             "#d8576b"
            ],
            [
             0.6666666666666666,
             "#ed7953"
            ],
            [
             0.7777777777777778,
             "#fb9f3a"
            ],
            [
             0.8888888888888888,
             "#fdca26"
            ],
            [
             1,
             "#f0f921"
            ]
           ],
           "sequentialminus": [
            [
             0,
             "#0d0887"
            ],
            [
             0.1111111111111111,
             "#46039f"
            ],
            [
             0.2222222222222222,
             "#7201a8"
            ],
            [
             0.3333333333333333,
             "#9c179e"
            ],
            [
             0.4444444444444444,
             "#bd3786"
            ],
            [
             0.5555555555555556,
             "#d8576b"
            ],
            [
             0.6666666666666666,
             "#ed7953"
            ],
            [
             0.7777777777777778,
             "#fb9f3a"
            ],
            [
             0.8888888888888888,
             "#fdca26"
            ],
            [
             1,
             "#f0f921"
            ]
           ]
          },
          "colorway": [
           "#636efa",
           "#EF553B",
           "#00cc96",
           "#ab63fa",
           "#FFA15A",
           "#19d3f3",
           "#FF6692",
           "#B6E880",
           "#FF97FF",
           "#FECB52"
          ],
          "font": {
           "color": "#2a3f5f"
          },
          "geo": {
           "bgcolor": "white",
           "lakecolor": "white",
           "landcolor": "#E5ECF6",
           "showlakes": true,
           "showland": true,
           "subunitcolor": "white"
          },
          "hoverlabel": {
           "align": "left"
          },
          "hovermode": "closest",
          "mapbox": {
           "style": "light"
          },
          "paper_bgcolor": "white",
          "plot_bgcolor": "#E5ECF6",
          "polar": {
           "angularaxis": {
            "gridcolor": "white",
            "linecolor": "white",
            "ticks": ""
           },
           "bgcolor": "#E5ECF6",
           "radialaxis": {
            "gridcolor": "white",
            "linecolor": "white",
            "ticks": ""
           }
          },
          "scene": {
           "xaxis": {
            "backgroundcolor": "#E5ECF6",
            "gridcolor": "white",
            "gridwidth": 2,
            "linecolor": "white",
            "showbackground": true,
            "ticks": "",
            "zerolinecolor": "white"
           },
           "yaxis": {
            "backgroundcolor": "#E5ECF6",
            "gridcolor": "white",
            "gridwidth": 2,
            "linecolor": "white",
            "showbackground": true,
            "ticks": "",
            "zerolinecolor": "white"
           },
           "zaxis": {
            "backgroundcolor": "#E5ECF6",
            "gridcolor": "white",
            "gridwidth": 2,
            "linecolor": "white",
            "showbackground": true,
            "ticks": "",
            "zerolinecolor": "white"
           }
          },
          "shapedefaults": {
           "line": {
            "color": "#2a3f5f"
           }
          },
          "ternary": {
           "aaxis": {
            "gridcolor": "white",
            "linecolor": "white",
            "ticks": ""
           },
           "baxis": {
            "gridcolor": "white",
            "linecolor": "white",
            "ticks": ""
           },
           "bgcolor": "#E5ECF6",
           "caxis": {
            "gridcolor": "white",
            "linecolor": "white",
            "ticks": ""
           }
          },
          "title": {
           "x": 0.05
          },
          "xaxis": {
           "automargin": true,
           "gridcolor": "white",
           "linecolor": "white",
           "ticks": "",
           "title": {
            "standoff": 15
           },
           "zerolinecolor": "white",
           "zerolinewidth": 2
          },
          "yaxis": {
           "automargin": true,
           "gridcolor": "white",
           "linecolor": "white",
           "ticks": "",
           "title": {
            "standoff": 15
           },
           "zerolinecolor": "white",
           "zerolinewidth": 2
          }
         }
        },
        "title": {
         "text": " enugu_transactions Aggregated NNet & tsfresh. MAE=0.7729"
        }
       }
      }
     },
     "metadata": {},
     "output_type": "display_data"
    },
    {
     "name": "stderr",
     "output_type": "stream",
     "text": [
      "Rolling: 100%|██████████| 20/20 [00:00<00:00, 61.62it/s]\n",
      "Feature Extraction: 100%|██████████| 20/20 [00:00<00:00, 81.25it/s]\n"
     ]
    },
    {
     "data": {
      "application/vnd.plotly.v1+json": {
       "config": {
        "plotlyServerURL": "https://plot.ly"
       },
       "data": [
        {
         "name": "Train",
         "type": "scatter",
         "x": [
          "2022-01-07",
          "2022-01-08",
          "2022-01-09",
          "2022-01-10",
          "2022-01-11",
          "2022-01-12",
          "2022-01-13",
          "2022-01-14",
          "2022-01-15",
          "2022-01-16",
          "2022-01-17",
          "2022-01-18",
          "2022-01-19",
          "2022-01-20",
          "2022-01-21",
          "2022-01-22",
          "2022-01-23",
          "2022-01-24",
          "2022-01-25",
          "2022-01-26",
          "2022-01-27",
          "2022-01-28",
          "2022-01-29",
          "2022-01-30",
          "2022-01-31",
          "2022-02-01",
          "2022-02-02",
          "2022-02-03",
          "2022-02-04",
          "2022-02-05",
          "2022-02-06",
          "2022-02-07",
          "2022-02-08",
          "2022-02-09",
          "2022-02-10",
          "2022-02-11",
          "2022-02-12",
          "2022-02-13",
          "2022-02-14",
          "2022-02-15",
          "2022-02-16",
          "2022-02-17",
          "2022-02-18",
          "2022-02-19",
          "2022-02-20",
          "2022-02-21",
          "2022-02-22",
          "2022-02-23",
          "2022-02-24",
          "2022-02-25",
          "2022-02-26",
          "2022-02-27",
          "2022-02-28",
          "2022-03-01",
          "2022-03-02",
          "2022-03-03",
          "2022-03-04",
          "2022-03-05",
          "2022-03-06",
          "2022-03-07",
          "2022-03-08",
          "2022-03-09",
          "2022-03-10",
          "2022-03-11",
          "2022-03-12",
          "2022-03-13",
          "2022-03-14",
          "2022-03-15",
          "2022-03-16",
          "2022-03-17",
          "2022-03-18",
          "2022-03-19",
          "2022-03-20",
          "2022-03-21",
          "2022-03-22",
          "2022-03-23",
          "2022-03-24",
          "2022-03-25",
          "2022-03-26",
          "2022-03-27",
          "2022-03-28",
          "2022-03-29",
          "2022-03-30",
          "2022-03-31",
          "2022-04-01",
          "2022-04-02",
          "2022-04-03",
          "2022-04-04",
          "2022-04-05",
          "2022-04-06",
          "2022-04-07",
          "2022-04-08",
          "2022-04-09",
          "2022-04-10",
          "2022-04-11",
          "2022-04-12",
          "2022-04-13",
          "2022-04-14",
          "2022-04-15",
          "2022-04-16",
          "2022-04-17",
          "2022-04-18",
          "2022-04-19",
          "2022-04-20",
          "2022-04-21",
          "2022-04-22",
          "2022-04-23",
          "2022-04-24",
          "2022-04-25",
          "2022-04-26",
          "2022-04-27",
          "2022-04-28",
          "2022-04-29",
          "2022-04-30",
          "2022-05-01",
          "2022-05-02",
          "2022-05-03",
          "2022-05-04",
          "2022-05-05",
          "2022-05-06",
          "2022-05-07",
          "2022-05-08",
          "2022-05-09",
          "2022-05-10",
          "2022-05-11",
          "2022-05-12",
          "2022-05-13",
          "2022-05-14",
          "2022-05-15",
          "2022-05-16",
          "2022-05-17",
          "2022-05-18",
          "2022-05-19",
          "2022-05-20",
          "2022-05-21",
          "2022-05-22",
          "2022-05-23",
          "2022-05-24",
          "2022-05-25",
          "2022-05-26",
          "2022-05-27",
          "2022-05-28",
          "2022-05-29",
          "2022-05-30",
          "2022-05-31",
          "2022-06-01",
          "2022-06-02",
          "2022-06-03",
          "2022-06-04",
          "2022-06-05",
          "2022-06-06",
          "2022-06-07",
          "2022-06-08",
          "2022-06-09",
          "2022-06-10",
          "2022-06-11",
          "2022-06-12",
          "2022-06-13",
          "2022-06-14",
          "2022-06-15",
          "2022-06-16",
          "2022-06-17",
          "2022-06-18",
          "2022-06-19",
          "2022-06-20",
          "2022-06-21",
          "2022-06-22",
          "2022-06-23",
          "2022-06-24",
          "2022-06-25",
          "2022-06-26",
          "2022-06-27",
          "2022-06-28",
          "2022-06-29",
          "2022-06-30",
          "2022-07-01",
          "2022-07-02",
          "2022-07-03",
          "2022-07-04",
          "2022-07-05",
          "2022-07-06",
          "2022-07-07",
          "2022-07-08",
          "2022-07-09",
          "2022-07-10",
          "2022-07-11",
          "2022-07-12",
          "2022-07-13",
          "2022-07-14",
          "2022-07-15",
          "2022-07-16",
          "2022-07-17",
          "2022-07-18",
          "2022-07-19",
          "2022-07-20",
          "2022-07-21",
          "2022-07-22",
          "2022-07-23",
          "2022-07-24",
          "2022-07-25",
          "2022-07-26",
          "2022-07-27",
          "2022-07-28",
          "2022-07-29",
          "2022-07-30",
          "2022-07-31",
          "2022-08-01",
          "2022-08-02",
          "2022-08-03",
          "2022-08-04",
          "2022-08-05",
          "2022-08-06",
          "2022-08-07",
          "2022-08-08",
          "2022-08-09",
          "2022-08-10",
          "2022-08-11",
          "2022-08-12",
          "2022-08-13",
          "2022-08-14",
          "2022-08-15",
          "2022-08-16",
          "2022-08-17",
          "2022-08-18",
          "2022-08-19",
          "2022-08-20",
          "2022-08-21",
          "2022-08-22",
          "2022-08-23",
          "2022-08-24",
          "2022-08-25",
          "2022-08-26",
          "2022-08-27",
          "2022-08-28",
          "2022-08-29",
          "2022-08-30",
          "2022-08-31",
          "2022-09-01",
          "2022-09-02",
          "2022-09-03",
          "2022-09-04",
          "2022-09-05",
          "2022-09-06",
          "2022-09-07",
          "2022-09-08",
          "2022-09-09",
          "2022-09-10",
          "2022-09-11",
          "2022-09-12",
          "2022-09-13"
         ],
         "y": [
          -0.16414607220052266,
          -1.4464088295005493,
          0.5126037163744914,
          0.8944330707704993,
          -1.7042861173575548,
          -0.033070323676519915,
          -1.7042861173575548,
          0.6308568373254939,
          -0.6343090832105324,
          -0.15559765381852247,
          -0.5573733177725307,
          0.29176957483948684,
          1.2021761325225058,
          -0.2923723479305253,
          -0.8337721787905366,
          0.7277389123214959,
          -0.614362773652532,
          0.9272020079015,
          -0.8351969151875366,
          -0.6813253843115333,
          1.499946039495512,
          -1.0303858015765406,
          -0.047317687646520216,
          1.9145443310225205,
          -0.9449016177565389,
          0.5054800343894913,
          -1.0275363287825405,
          0.3672806038804884,
          -0.2681518291815248,
          -1.0973484122355421,
          0.4684368880674905,
          0.8246209873174979,
          -0.015973486912519562,
          -0.7069706394575339,
          -0.25390446521152454,
          1.1836545593615053,
          -1.3523762272985473,
          -0.16984501778852276,
          -0.43627072402752826,
          1.1252403670845041,
          -0.08151136117452093,
          -0.5445506901995305,
          1.8803506574945197,
          -1.0147137012095404,
          0.9613956814295007,
          -0.7910300868805357,
          -0.9819447640785397,
          1.260590324799507,
          -0.41062546888152773,
          1.4401071108215107,
          -2.012029179109561,
          1.4458060564095108,
          -0.033070323676519915,
          -0.2681518291815248,
          -1.1571873409095432,
          -0.033070323676519915,
          0.029618077791481387,
          -0.24535604682952433,
          2.37188471445953,
          -0.033070323676519915,
          -0.03876926926452003,
          0.4071732229964893,
          -0.16557080859752268,
          -0.29807129351852546,
          0.9257772715045,
          -1.3010857170065464,
          -0.21401184609552368,
          1.0981703755415035,
          -1.4578067206765495,
          1.2548913792115068,
          0.11510226161148315,
          0.49693161600749114,
          -1.0218373831945404,
          -0.3906791593235273,
          1.1451866766425045,
          0.8417178240814982,
          -1.3737472732535478,
          1.076799329586503,
          -0.9691221365055395,
          0.08518279727448254,
          -0.1997644821255234,
          -0.228259210065524,
          -0.027371378088519797,
          1.458628683982511,
          -0.3066197119005256,
          -1.3523762272985473,
          0.5667436994604925,
          0.9699440998115009,
          1.264864533990507,
          -2.2257396386595656,
          1.219272969286506,
          -1.7555766276495557,
          0.4185711141724895,
          -0.5858680457125314,
          -0.033070323676519915,
          0.14787119874248383,
          1.1879287685525055,
          -1.7897703011775565,
          1.846156983966519,
          -1.3224567629615467,
          1.2491924336235067,
          -1.5703608960395519,
          1.2933592619305077,
          -0.6343090832105324,
          0.17494119028548438,
          -0.1513234446275224,
          1.2548913792115068,
          -0.6984222210755338,
          -0.5559485813755307,
          0.17494119028548438,
          1.6580917795625152,
          -2.3154980316705673,
          1.1964771869345057,
          -0.033070323676519915,
          -0.033070323676519915,
          1.8561301387455194,
          -0.033070323676519915,
          1.40733817369051,
          -0.8266484968055364,
          0.4812595156404908,
          0.5781415906364928,
          0.20201118182848496,
          -0.7967290324685359,
          2.1652979368945258,
          -2.2727559397605663,
          -0.10288240712952137,
          -0.471889133952529,
          1.9672595777115216,
          -0.08863504315952107,
          0.2233822277834854,
          -0.8651163795245372,
          0.09658068845048276,
          0.11652699800848318,
          -0.12140398029052177,
          0.11367752521448313,
          -0.27100130197552486,
          0.2618501105024862,
          0.8174973053324978,
          -1.618801933537553,
          0.3772537586594886,
          -0.8394711243785368,
          0.7633573222464966,
          0.20343591822548499,
          0.881610443197499,
          -0.3422381218255264,
          -1.427887256339549,
          0.9300514806955,
          -0.39922757770552747,
          1.1109930031145039,
          -0.15987186300952255,
          0.47271109725849064,
          0.031042814188481416,
          -0.7668095681315352,
          0.4684368880674905,
          0.878760970403499,
          -1.4079409467815485,
          0.12792488918448341,
          -0.611513300858532,
          -0.15559765381852247,
          0.4285442689514897,
          -0.7468632585735347,
          0.8687878156244988,
          0.3815279678504887,
          0.005397559042480881,
          -0.16984501778852276,
          -0.1570223902155225,
          -0.5929917276975315,
          -0.5303033262295302,
          0.9898904093695012,
          0.3900763862324889,
          0.154994880727484,
          -1.5960061511855523,
          1.454354474791511,
          -0.803852714453536,
          -0.033070323676519915,
          -0.033070323676519915,
          -0.2197107916835238,
          -0.08863504315952107,
          0.7049431299694955,
          -1.038934219958541,
          0.24902748292948593,
          0.541098444314492,
          0.5311252895354919,
          -1.7570013640465558,
          1.7350275450005168,
          -0.9648479273145393,
          0.4684368880674905,
          -0.4761633431435291,
          -0.23253341925652407,
          0.6792978748234949,
          -0.13422660786352203,
          -0.03164558727951989,
          1.066826174807503,
          -0.9406274085655388,
          -1.7270818997095552,
          0.18348960866748457,
          1.2876603163425075,
          0.032467550585481446,
          -0.5388517446115304,
          0.6636257744564946,
          -0.25390446521152454,
          -0.7397395765885346,
          0.7647820586434966,
          -0.028796114485519827,
          0.17636592668248444,
          -0.2339581556535241,
          1.648118624783515,
          0.15784435352148404,
          -1.9792602419785603,
          -0.802427978056536,
          -0.033070323676519915,
          -1.862431857424558,
          0.022494395806481236,
          0.20628539101948504,
          0.5738673814454928,
          -1.142939976939543,
          0.9414493718715002,
          -0.6001154096825316,
          1.457203947585511,
          -0.5516743721845306,
          -0.6357338196075324,
          0.6921205023964951,
          -0.8408958607755368,
          0.12934962558148344,
          -0.2866734023425252,
          -0.10288240712952137,
          0.9086804347404996,
          -0.33938864903152627,
          -0.053016633234520334,
          1.1095682667175037,
          0.3387858759404878,
          -0.9634231909175393,
          -0.9050089986405381,
          1.1466114130395046,
          -0.5117817530685298,
          -0.04161874205852009,
          0.21768328219548527,
          0.682147347617495,
          -1.4891509214105503,
          1.5369891858175126,
          -0.4476686152035285,
          -0.8765142707005374,
          0.24047906454748574,
          0.21625854579848525,
          -0.661379074753533,
          -0.5616475269635308,
          2.467342053058532,
          -1.5076724945715505,
          0.9485730538565005,
          0.40574848659948926
         ]
        },
        {
         "name": "Test",
         "type": "scatter",
         "x": [
          "2022-09-14",
          "2022-09-15",
          "2022-09-16",
          "2022-09-17",
          "2022-09-18",
          "2022-09-19",
          "2022-09-20",
          "2022-09-21",
          "2022-09-22",
          "2022-09-23",
          "2022-09-24",
          "2022-09-25",
          "2022-09-26",
          "2022-09-27",
          "2022-09-28",
          "2022-09-29",
          "2022-09-30",
          "2022-10-01",
          "2022-10-02",
          "2022-10-03",
          "2022-10-04",
          "2022-10-05",
          "2022-10-06",
          "2022-10-07",
          "2022-10-08",
          "2022-10-09",
          "2022-10-10",
          "2022-10-11",
          "2022-10-12",
          "2022-10-13",
          "2022-10-14",
          "2022-10-15",
          "2022-10-16",
          "2022-10-17",
          "2022-10-18",
          "2022-10-19",
          "2022-10-20",
          "2022-10-21",
          "2022-10-22",
          "2022-10-23",
          "2022-10-24",
          "2022-10-25",
          "2022-10-26",
          "2022-10-27",
          "2022-10-28",
          "2022-10-29",
          "2022-10-30",
          "2022-10-31",
          "2022-11-01",
          "2022-11-02",
          "2022-11-03",
          "2022-11-04",
          "2022-11-05",
          "2022-11-06",
          "2022-11-07",
          "2022-11-08",
          "2022-11-09",
          "2022-11-10",
          "2022-11-11",
          "2022-11-12",
          "2022-11-13",
          "2022-11-14",
          "2022-11-15",
          "2022-11-16",
          "2022-11-17",
          "2022-11-18",
          "2022-11-19",
          "2022-11-20",
          "2022-11-21",
          "2022-11-22",
          "2022-11-23",
          "2022-11-24",
          "2022-11-25",
          "2022-11-26",
          "2022-11-27",
          "2022-11-28",
          "2022-11-29",
          "2022-11-30",
          "2022-12-01",
          "2022-12-02",
          "2022-12-03",
          "2022-12-04",
          "2022-12-05",
          "2022-12-06",
          "2022-12-07",
          "2022-12-08",
          "2022-12-09",
          "2022-12-10",
          "2022-12-11",
          "2022-12-12",
          "2022-12-13",
          "2022-12-14",
          "2022-12-15",
          "2022-12-16",
          "2022-12-17",
          "2022-12-18",
          "2022-12-19",
          "2022-12-20",
          "2022-12-21",
          "2022-12-22",
          "2022-12-23",
          "2022-12-24",
          "2022-12-25",
          "2022-12-26",
          "2022-12-27",
          "2022-12-28",
          "2022-12-29",
          "2022-12-30"
         ],
         "y": [
          -0.6884490662965335,
          -0.9591489817265392,
          0.5126037163744914,
          1.9245174858015206,
          -2.2884280401275667,
          1.2406440152415066,
          -0.06298978801352054,
          -0.033070323676519915,
          -0.5303033262295302,
          0.7149162847484957,
          -0.5730454181395311,
          -0.8366216515845367,
          1.2064503417135057,
          -1.2768651982575459,
          1.2078750781105059,
          -1.3424030725195473,
          -0.033070323676519915,
          -0.033070323676519915,
          1.6395702064015147,
          -1.6586945526535537,
          2.126830054175525,
          -1.185682068849544,
          0.27324800167848645,
          0.5012058251984912,
          -0.48756123431952936,
          -1.2170262695835445,
          0.5211521347564916,
          -0.9548747725355391,
          1.7264791266185167,
          1.1152672123055039,
          -1.9236955224955592,
          0.22195749138648538,
          0.0737849060984823,
          0.0780591152894824,
          -0.050167160440520275,
          1.0953209027475035,
          -1.8068671379415568,
          1.2890850527395075,
          -0.801003241659536,
          0.2718232652814864,
          -0.30804444829752564,
          -1.3979677920025484,
          1.8319096199965188,
          -0.5944164640945315,
          0.8730620248154989,
          -0.7653848317345352,
          1.5241665582445123,
          -2.2813043581425667,
          1.5412633950085128,
          -0.7967290324685359,
          0.42996900534848975,
          0.022494395806481236,
          -0.5730454181395311,
          0.2419038009444858,
          0.25472642851748606,
          -0.8237990240115364,
          1.3774187093535093,
          -0.8651163795245372,
          1.4771502571435113,
          -0.6015401460795317,
          -1.6971624353725545,
          1.4856986755255115,
          0.2860706292514867,
          -2.086115471753563,
          1.9273669585955209,
          -0.21686131888952376,
          0.881610443197499,
          -1.4079409467815485,
          -0.20118921852252342,
          -0.35648548579552664,
          -0.17269449058252284,
          1.603951796476514,
          -0.18694185455252313,
          0.2760974744724865,
          -1.8439102842635575,
          0.7120668119544956,
          -0.20546342771352352,
          -0.033070323676519915,
          -0.033070323676519915,
          0.3444848215284879,
          -0.8237990240115364,
          -0.02024769610351965,
          2.075539543883524,
          -1.9635881416115601,
          -0.7511374677645349,
          2.064141652707524,
          -0.7497127313675349,
          0.5225768711534916,
          0.34590955792548794,
          -0.42487283285152805,
          -0.5331527990235303,
          -0.9349284629775387,
          1.938764849771521,
          -1.2554941523025454,
          0.9699440998115009,
          -1.4022420011935484,
          0.8217715145234978,
          0.4627379424794904,
          -1.051756847531541,
          0.9699440998115009,
          -1.9507655140385598,
          1.2833861071515074,
          0.9670946270175008,
          -1.7926197739715566,
          1.4258597468515104,
          -0.7425890493825347,
          1.2947839983275076,
          -0.9691221365055395
         ]
        },
        {
         "name": "Predicted",
         "type": "scatter",
         "x": [
          "2022-09-14",
          "2022-09-15",
          "2022-09-16",
          "2022-09-17",
          "2022-09-18",
          "2022-09-19",
          "2022-09-20",
          "2022-09-21",
          "2022-09-22",
          "2022-09-23",
          "2022-09-24",
          "2022-09-25",
          "2022-09-26",
          "2022-09-27",
          "2022-09-28",
          "2022-09-29",
          "2022-09-30",
          "2022-10-01",
          "2022-10-02",
          "2022-10-03",
          "2022-10-04",
          "2022-10-05",
          "2022-10-06",
          "2022-10-07",
          "2022-10-08",
          "2022-10-09",
          "2022-10-10",
          "2022-10-11",
          "2022-10-12",
          "2022-10-13",
          "2022-10-14",
          "2022-10-15",
          "2022-10-16",
          "2022-10-17",
          "2022-10-18",
          "2022-10-19",
          "2022-10-20",
          "2022-10-21",
          "2022-10-22",
          "2022-10-23",
          "2022-10-24",
          "2022-10-25",
          "2022-10-26",
          "2022-10-27",
          "2022-10-28",
          "2022-10-29",
          "2022-10-30",
          "2022-10-31",
          "2022-11-01",
          "2022-11-02",
          "2022-11-03",
          "2022-11-04",
          "2022-11-05",
          "2022-11-06",
          "2022-11-07",
          "2022-11-08",
          "2022-11-09",
          "2022-11-10",
          "2022-11-11",
          "2022-11-12",
          "2022-11-13",
          "2022-11-14",
          "2022-11-15",
          "2022-11-16",
          "2022-11-17",
          "2022-11-18",
          "2022-11-19",
          "2022-11-20",
          "2022-11-21",
          "2022-11-22",
          "2022-11-23",
          "2022-11-24",
          "2022-11-25",
          "2022-11-26",
          "2022-11-27",
          "2022-11-28",
          "2022-11-29",
          "2022-11-30",
          "2022-12-01",
          "2022-12-02",
          "2022-12-03",
          "2022-12-04",
          "2022-12-05",
          "2022-12-06",
          "2022-12-07",
          "2022-12-08",
          "2022-12-09",
          "2022-12-10",
          "2022-12-11",
          "2022-12-12",
          "2022-12-13",
          "2022-12-14",
          "2022-12-15",
          "2022-12-16",
          "2022-12-17",
          "2022-12-18",
          "2022-12-19",
          "2022-12-20",
          "2022-12-21",
          "2022-12-22",
          "2022-12-23",
          "2022-12-24",
          "2022-12-25",
          "2022-12-26",
          "2022-12-27",
          "2022-12-28",
          "2022-12-29",
          "2022-12-30"
         ],
         "y": [
          -0.47385111451148987,
          -0.02967201918363571,
          0.4449790120124817,
          -0.05539814382791519,
          -0.9505200982093811,
          0.48882198333740234,
          -0.5199252963066101,
          -0.31711652874946594,
          -0.31540897488594055,
          0.10735505819320679,
          -0.3978690207004547,
          0.04134850203990936,
          0.2758212685585022,
          -0.5038344860076904,
          0.13722646236419678,
          -0.5153903961181641,
          0.13183221220970154,
          -0.10779517889022827,
          0.14582759141921997,
          -0.5068378448486328,
          0.3360101580619812,
          -0.5557401180267334,
          -0.037121109664440155,
          -0.3386325240135193,
          -0.31113287806510925,
          0.13084617257118225,
          0.18857602775096893,
          -0.05845919996500015,
          0.31465256214141846,
          -0.5048249363899231,
          -0.5539968609809875,
          0.43023881316185,
          -0.17555350065231323,
          -0.19495093822479248,
          -0.09799167513847351,
          -0.2849600315093994,
          -0.5335655212402344,
          0.13265931606292725,
          -0.5255050659179688,
          -0.20055484771728516,
          -0.002027355134487152,
          -0.22394193708896637,
          0.5038808584213257,
          -0.6001597046852112,
          0.06374981254339218,
          -0.17176230251789093,
          0.0005597323179244995,
          -0.6971787214279175,
          0.271481454372406,
          -0.7673279643058777,
          -0.05047985911369324,
          0.007706299424171448,
          -0.17893922328948975,
          -0.0744890421628952,
          -0.10296604037284851,
          -0.23213721811771393,
          0.05876842886209488,
          -0.42720580101013184,
          -0.08646804094314575,
          -0.429810494184494,
          -0.26537638902664185,
          0.425174742937088,
          -0.5537022948265076,
          -0.69089674949646,
          0.2658381164073944,
          -0.6766209602355957,
          -0.0444442480802536,
          -0.6733620166778564,
          0.35735687613487244,
          -0.2667989134788513,
          0.12348947674036026,
          -0.10084941238164902,
          -0.4554298520088196,
          -0.07176792621612549,
          -0.42242148518562317,
          0.3833690583705902,
          -0.19777879118919373,
          -0.1612274944782257,
          -0.031216584146022797,
          -0.037609390914440155,
          0.16260817646980286,
          0.251197874546051,
          -0.04623037576675415,
          -0.5672243237495422,
          0.4579789340496063,
          -0.03540416061878204,
          -0.37347790598869324,
          0.22204431891441345,
          -0.050306618213653564,
          -0.2089180052280426,
          -0.14694848656654358,
          -0.10827574878931046,
          -0.006659597158432007,
          -0.38975515961647034,
          0.35224592685699463,
          -0.2535533010959625,
          0.18318000435829163,
          -0.28587061166763306,
          -0.3492393493652344,
          -0.029055871069431305,
          -0.3907056450843811,
          0.5889602899551392,
          -0.48360660672187805,
          -0.5480976104736328,
          0.5891575217247009,
          -0.6500321626663208,
          -0.3942902684211731,
          -0.4577086865901947
         ]
        }
       ],
       "layout": {
        "template": {
         "data": {
          "bar": [
           {
            "error_x": {
             "color": "#2a3f5f"
            },
            "error_y": {
             "color": "#2a3f5f"
            },
            "marker": {
             "line": {
              "color": "#E5ECF6",
              "width": 0.5
             },
             "pattern": {
              "fillmode": "overlay",
              "size": 10,
              "solidity": 0.2
             }
            },
            "type": "bar"
           }
          ],
          "barpolar": [
           {
            "marker": {
             "line": {
              "color": "#E5ECF6",
              "width": 0.5
             },
             "pattern": {
              "fillmode": "overlay",
              "size": 10,
              "solidity": 0.2
             }
            },
            "type": "barpolar"
           }
          ],
          "carpet": [
           {
            "aaxis": {
             "endlinecolor": "#2a3f5f",
             "gridcolor": "white",
             "linecolor": "white",
             "minorgridcolor": "white",
             "startlinecolor": "#2a3f5f"
            },
            "baxis": {
             "endlinecolor": "#2a3f5f",
             "gridcolor": "white",
             "linecolor": "white",
             "minorgridcolor": "white",
             "startlinecolor": "#2a3f5f"
            },
            "type": "carpet"
           }
          ],
          "choropleth": [
           {
            "colorbar": {
             "outlinewidth": 0,
             "ticks": ""
            },
            "type": "choropleth"
           }
          ],
          "contour": [
           {
            "colorbar": {
             "outlinewidth": 0,
             "ticks": ""
            },
            "colorscale": [
             [
              0,
              "#0d0887"
             ],
             [
              0.1111111111111111,
              "#46039f"
             ],
             [
              0.2222222222222222,
              "#7201a8"
             ],
             [
              0.3333333333333333,
              "#9c179e"
             ],
             [
              0.4444444444444444,
              "#bd3786"
             ],
             [
              0.5555555555555556,
              "#d8576b"
             ],
             [
              0.6666666666666666,
              "#ed7953"
             ],
             [
              0.7777777777777778,
              "#fb9f3a"
             ],
             [
              0.8888888888888888,
              "#fdca26"
             ],
             [
              1,
              "#f0f921"
             ]
            ],
            "type": "contour"
           }
          ],
          "contourcarpet": [
           {
            "colorbar": {
             "outlinewidth": 0,
             "ticks": ""
            },
            "type": "contourcarpet"
           }
          ],
          "heatmap": [
           {
            "colorbar": {
             "outlinewidth": 0,
             "ticks": ""
            },
            "colorscale": [
             [
              0,
              "#0d0887"
             ],
             [
              0.1111111111111111,
              "#46039f"
             ],
             [
              0.2222222222222222,
              "#7201a8"
             ],
             [
              0.3333333333333333,
              "#9c179e"
             ],
             [
              0.4444444444444444,
              "#bd3786"
             ],
             [
              0.5555555555555556,
              "#d8576b"
             ],
             [
              0.6666666666666666,
              "#ed7953"
             ],
             [
              0.7777777777777778,
              "#fb9f3a"
             ],
             [
              0.8888888888888888,
              "#fdca26"
             ],
             [
              1,
              "#f0f921"
             ]
            ],
            "type": "heatmap"
           }
          ],
          "heatmapgl": [
           {
            "colorbar": {
             "outlinewidth": 0,
             "ticks": ""
            },
            "colorscale": [
             [
              0,
              "#0d0887"
             ],
             [
              0.1111111111111111,
              "#46039f"
             ],
             [
              0.2222222222222222,
              "#7201a8"
             ],
             [
              0.3333333333333333,
              "#9c179e"
             ],
             [
              0.4444444444444444,
              "#bd3786"
             ],
             [
              0.5555555555555556,
              "#d8576b"
             ],
             [
              0.6666666666666666,
              "#ed7953"
             ],
             [
              0.7777777777777778,
              "#fb9f3a"
             ],
             [
              0.8888888888888888,
              "#fdca26"
             ],
             [
              1,
              "#f0f921"
             ]
            ],
            "type": "heatmapgl"
           }
          ],
          "histogram": [
           {
            "marker": {
             "pattern": {
              "fillmode": "overlay",
              "size": 10,
              "solidity": 0.2
             }
            },
            "type": "histogram"
           }
          ],
          "histogram2d": [
           {
            "colorbar": {
             "outlinewidth": 0,
             "ticks": ""
            },
            "colorscale": [
             [
              0,
              "#0d0887"
             ],
             [
              0.1111111111111111,
              "#46039f"
             ],
             [
              0.2222222222222222,
              "#7201a8"
             ],
             [
              0.3333333333333333,
              "#9c179e"
             ],
             [
              0.4444444444444444,
              "#bd3786"
             ],
             [
              0.5555555555555556,
              "#d8576b"
             ],
             [
              0.6666666666666666,
              "#ed7953"
             ],
             [
              0.7777777777777778,
              "#fb9f3a"
             ],
             [
              0.8888888888888888,
              "#fdca26"
             ],
             [
              1,
              "#f0f921"
             ]
            ],
            "type": "histogram2d"
           }
          ],
          "histogram2dcontour": [
           {
            "colorbar": {
             "outlinewidth": 0,
             "ticks": ""
            },
            "colorscale": [
             [
              0,
              "#0d0887"
             ],
             [
              0.1111111111111111,
              "#46039f"
             ],
             [
              0.2222222222222222,
              "#7201a8"
             ],
             [
              0.3333333333333333,
              "#9c179e"
             ],
             [
              0.4444444444444444,
              "#bd3786"
             ],
             [
              0.5555555555555556,
              "#d8576b"
             ],
             [
              0.6666666666666666,
              "#ed7953"
             ],
             [
              0.7777777777777778,
              "#fb9f3a"
             ],
             [
              0.8888888888888888,
              "#fdca26"
             ],
             [
              1,
              "#f0f921"
             ]
            ],
            "type": "histogram2dcontour"
           }
          ],
          "mesh3d": [
           {
            "colorbar": {
             "outlinewidth": 0,
             "ticks": ""
            },
            "type": "mesh3d"
           }
          ],
          "parcoords": [
           {
            "line": {
             "colorbar": {
              "outlinewidth": 0,
              "ticks": ""
             }
            },
            "type": "parcoords"
           }
          ],
          "pie": [
           {
            "automargin": true,
            "type": "pie"
           }
          ],
          "scatter": [
           {
            "fillpattern": {
             "fillmode": "overlay",
             "size": 10,
             "solidity": 0.2
            },
            "type": "scatter"
           }
          ],
          "scatter3d": [
           {
            "line": {
             "colorbar": {
              "outlinewidth": 0,
              "ticks": ""
             }
            },
            "marker": {
             "colorbar": {
              "outlinewidth": 0,
              "ticks": ""
             }
            },
            "type": "scatter3d"
           }
          ],
          "scattercarpet": [
           {
            "marker": {
             "colorbar": {
              "outlinewidth": 0,
              "ticks": ""
             }
            },
            "type": "scattercarpet"
           }
          ],
          "scattergeo": [
           {
            "marker": {
             "colorbar": {
              "outlinewidth": 0,
              "ticks": ""
             }
            },
            "type": "scattergeo"
           }
          ],
          "scattergl": [
           {
            "marker": {
             "colorbar": {
              "outlinewidth": 0,
              "ticks": ""
             }
            },
            "type": "scattergl"
           }
          ],
          "scattermapbox": [
           {
            "marker": {
             "colorbar": {
              "outlinewidth": 0,
              "ticks": ""
             }
            },
            "type": "scattermapbox"
           }
          ],
          "scatterpolar": [
           {
            "marker": {
             "colorbar": {
              "outlinewidth": 0,
              "ticks": ""
             }
            },
            "type": "scatterpolar"
           }
          ],
          "scatterpolargl": [
           {
            "marker": {
             "colorbar": {
              "outlinewidth": 0,
              "ticks": ""
             }
            },
            "type": "scatterpolargl"
           }
          ],
          "scatterternary": [
           {
            "marker": {
             "colorbar": {
              "outlinewidth": 0,
              "ticks": ""
             }
            },
            "type": "scatterternary"
           }
          ],
          "surface": [
           {
            "colorbar": {
             "outlinewidth": 0,
             "ticks": ""
            },
            "colorscale": [
             [
              0,
              "#0d0887"
             ],
             [
              0.1111111111111111,
              "#46039f"
             ],
             [
              0.2222222222222222,
              "#7201a8"
             ],
             [
              0.3333333333333333,
              "#9c179e"
             ],
             [
              0.4444444444444444,
              "#bd3786"
             ],
             [
              0.5555555555555556,
              "#d8576b"
             ],
             [
              0.6666666666666666,
              "#ed7953"
             ],
             [
              0.7777777777777778,
              "#fb9f3a"
             ],
             [
              0.8888888888888888,
              "#fdca26"
             ],
             [
              1,
              "#f0f921"
             ]
            ],
            "type": "surface"
           }
          ],
          "table": [
           {
            "cells": {
             "fill": {
              "color": "#EBF0F8"
             },
             "line": {
              "color": "white"
             }
            },
            "header": {
             "fill": {
              "color": "#C8D4E3"
             },
             "line": {
              "color": "white"
             }
            },
            "type": "table"
           }
          ]
         },
         "layout": {
          "annotationdefaults": {
           "arrowcolor": "#2a3f5f",
           "arrowhead": 0,
           "arrowwidth": 1
          },
          "autotypenumbers": "strict",
          "coloraxis": {
           "colorbar": {
            "outlinewidth": 0,
            "ticks": ""
           }
          },
          "colorscale": {
           "diverging": [
            [
             0,
             "#8e0152"
            ],
            [
             0.1,
             "#c51b7d"
            ],
            [
             0.2,
             "#de77ae"
            ],
            [
             0.3,
             "#f1b6da"
            ],
            [
             0.4,
             "#fde0ef"
            ],
            [
             0.5,
             "#f7f7f7"
            ],
            [
             0.6,
             "#e6f5d0"
            ],
            [
             0.7,
             "#b8e186"
            ],
            [
             0.8,
             "#7fbc41"
            ],
            [
             0.9,
             "#4d9221"
            ],
            [
             1,
             "#276419"
            ]
           ],
           "sequential": [
            [
             0,
             "#0d0887"
            ],
            [
             0.1111111111111111,
             "#46039f"
            ],
            [
             0.2222222222222222,
             "#7201a8"
            ],
            [
             0.3333333333333333,
             "#9c179e"
            ],
            [
             0.4444444444444444,
             "#bd3786"
            ],
            [
             0.5555555555555556,
             "#d8576b"
            ],
            [
             0.6666666666666666,
             "#ed7953"
            ],
            [
             0.7777777777777778,
             "#fb9f3a"
            ],
            [
             0.8888888888888888,
             "#fdca26"
            ],
            [
             1,
             "#f0f921"
            ]
           ],
           "sequentialminus": [
            [
             0,
             "#0d0887"
            ],
            [
             0.1111111111111111,
             "#46039f"
            ],
            [
             0.2222222222222222,
             "#7201a8"
            ],
            [
             0.3333333333333333,
             "#9c179e"
            ],
            [
             0.4444444444444444,
             "#bd3786"
            ],
            [
             0.5555555555555556,
             "#d8576b"
            ],
            [
             0.6666666666666666,
             "#ed7953"
            ],
            [
             0.7777777777777778,
             "#fb9f3a"
            ],
            [
             0.8888888888888888,
             "#fdca26"
            ],
            [
             1,
             "#f0f921"
            ]
           ]
          },
          "colorway": [
           "#636efa",
           "#EF553B",
           "#00cc96",
           "#ab63fa",
           "#FFA15A",
           "#19d3f3",
           "#FF6692",
           "#B6E880",
           "#FF97FF",
           "#FECB52"
          ],
          "font": {
           "color": "#2a3f5f"
          },
          "geo": {
           "bgcolor": "white",
           "lakecolor": "white",
           "landcolor": "#E5ECF6",
           "showlakes": true,
           "showland": true,
           "subunitcolor": "white"
          },
          "hoverlabel": {
           "align": "left"
          },
          "hovermode": "closest",
          "mapbox": {
           "style": "light"
          },
          "paper_bgcolor": "white",
          "plot_bgcolor": "#E5ECF6",
          "polar": {
           "angularaxis": {
            "gridcolor": "white",
            "linecolor": "white",
            "ticks": ""
           },
           "bgcolor": "#E5ECF6",
           "radialaxis": {
            "gridcolor": "white",
            "linecolor": "white",
            "ticks": ""
           }
          },
          "scene": {
           "xaxis": {
            "backgroundcolor": "#E5ECF6",
            "gridcolor": "white",
            "gridwidth": 2,
            "linecolor": "white",
            "showbackground": true,
            "ticks": "",
            "zerolinecolor": "white"
           },
           "yaxis": {
            "backgroundcolor": "#E5ECF6",
            "gridcolor": "white",
            "gridwidth": 2,
            "linecolor": "white",
            "showbackground": true,
            "ticks": "",
            "zerolinecolor": "white"
           },
           "zaxis": {
            "backgroundcolor": "#E5ECF6",
            "gridcolor": "white",
            "gridwidth": 2,
            "linecolor": "white",
            "showbackground": true,
            "ticks": "",
            "zerolinecolor": "white"
           }
          },
          "shapedefaults": {
           "line": {
            "color": "#2a3f5f"
           }
          },
          "ternary": {
           "aaxis": {
            "gridcolor": "white",
            "linecolor": "white",
            "ticks": ""
           },
           "baxis": {
            "gridcolor": "white",
            "linecolor": "white",
            "ticks": ""
           },
           "bgcolor": "#E5ECF6",
           "caxis": {
            "gridcolor": "white",
            "linecolor": "white",
            "ticks": ""
           }
          },
          "title": {
           "x": 0.05
          },
          "xaxis": {
           "automargin": true,
           "gridcolor": "white",
           "linecolor": "white",
           "ticks": "",
           "title": {
            "standoff": 15
           },
           "zerolinecolor": "white",
           "zerolinewidth": 2
          },
          "yaxis": {
           "automargin": true,
           "gridcolor": "white",
           "linecolor": "white",
           "ticks": "",
           "title": {
            "standoff": 15
           },
           "zerolinecolor": "white",
           "zerolinewidth": 2
          }
         }
        },
        "title": {
         "text": " fct_transactions Aggregated NNet & tsfresh. MAE=0.7879"
        }
       }
      }
     },
     "metadata": {},
     "output_type": "display_data"
    },
    {
     "name": "stderr",
     "output_type": "stream",
     "text": [
      "Rolling: 100%|██████████| 20/20 [00:00<00:00, 53.38it/s]\n",
      "Feature Extraction: 100%|██████████| 20/20 [00:00<00:00, 84.72it/s]\n"
     ]
    },
    {
     "data": {
      "application/vnd.plotly.v1+json": {
       "config": {
        "plotlyServerURL": "https://plot.ly"
       },
       "data": [
        {
         "name": "Train",
         "type": "scatter",
         "x": [
          "2022-01-07",
          "2022-01-08",
          "2022-01-09",
          "2022-01-10",
          "2022-01-11",
          "2022-01-12",
          "2022-01-13",
          "2022-01-14",
          "2022-01-15",
          "2022-01-16",
          "2022-01-17",
          "2022-01-18",
          "2022-01-19",
          "2022-01-20",
          "2022-01-21",
          "2022-01-22",
          "2022-01-23",
          "2022-01-24",
          "2022-01-25",
          "2022-01-26",
          "2022-01-27",
          "2022-01-28",
          "2022-01-29",
          "2022-01-30",
          "2022-01-31",
          "2022-02-01",
          "2022-02-02",
          "2022-02-03",
          "2022-02-04",
          "2022-02-05",
          "2022-02-06",
          "2022-02-07",
          "2022-02-08",
          "2022-02-09",
          "2022-02-10",
          "2022-02-11",
          "2022-02-12",
          "2022-02-13",
          "2022-02-14",
          "2022-02-15",
          "2022-02-16",
          "2022-02-17",
          "2022-02-18",
          "2022-02-19",
          "2022-02-20",
          "2022-02-21",
          "2022-02-22",
          "2022-02-23",
          "2022-02-24",
          "2022-02-25",
          "2022-02-26",
          "2022-02-27",
          "2022-02-28",
          "2022-03-01",
          "2022-03-02",
          "2022-03-03",
          "2022-03-04",
          "2022-03-05",
          "2022-03-06",
          "2022-03-07",
          "2022-03-08",
          "2022-03-09",
          "2022-03-10",
          "2022-03-11",
          "2022-03-12",
          "2022-03-13",
          "2022-03-14",
          "2022-03-15",
          "2022-03-16",
          "2022-03-17",
          "2022-03-18",
          "2022-03-19",
          "2022-03-20",
          "2022-03-21",
          "2022-03-22",
          "2022-03-23",
          "2022-03-24",
          "2022-03-25",
          "2022-03-26",
          "2022-03-27",
          "2022-03-28",
          "2022-03-29",
          "2022-03-30",
          "2022-03-31",
          "2022-04-01",
          "2022-04-02",
          "2022-04-03",
          "2022-04-04",
          "2022-04-05",
          "2022-04-06",
          "2022-04-07",
          "2022-04-08",
          "2022-04-09",
          "2022-04-10",
          "2022-04-11",
          "2022-04-12",
          "2022-04-13",
          "2022-04-14",
          "2022-04-15",
          "2022-04-16",
          "2022-04-17",
          "2022-04-18",
          "2022-04-19",
          "2022-04-20",
          "2022-04-21",
          "2022-04-22",
          "2022-04-23",
          "2022-04-24",
          "2022-04-25",
          "2022-04-26",
          "2022-04-27",
          "2022-04-28",
          "2022-04-29",
          "2022-04-30",
          "2022-05-01",
          "2022-05-02",
          "2022-05-03",
          "2022-05-04",
          "2022-05-05",
          "2022-05-06",
          "2022-05-07",
          "2022-05-08",
          "2022-05-09",
          "2022-05-10",
          "2022-05-11",
          "2022-05-12",
          "2022-05-13",
          "2022-05-14",
          "2022-05-15",
          "2022-05-16",
          "2022-05-17",
          "2022-05-18",
          "2022-05-19",
          "2022-05-20",
          "2022-05-21",
          "2022-05-22",
          "2022-05-23",
          "2022-05-24",
          "2022-05-25",
          "2022-05-26",
          "2022-05-27",
          "2022-05-28",
          "2022-05-29",
          "2022-05-30",
          "2022-05-31",
          "2022-06-01",
          "2022-06-02",
          "2022-06-03",
          "2022-06-04",
          "2022-06-05",
          "2022-06-06",
          "2022-06-07",
          "2022-06-08",
          "2022-06-09",
          "2022-06-10",
          "2022-06-11",
          "2022-06-12",
          "2022-06-13",
          "2022-06-14",
          "2022-06-15",
          "2022-06-16",
          "2022-06-17",
          "2022-06-18",
          "2022-06-19",
          "2022-06-20",
          "2022-06-21",
          "2022-06-22",
          "2022-06-23",
          "2022-06-24",
          "2022-06-25",
          "2022-06-26",
          "2022-06-27",
          "2022-06-28",
          "2022-06-29",
          "2022-06-30",
          "2022-07-01",
          "2022-07-02",
          "2022-07-03",
          "2022-07-04",
          "2022-07-05",
          "2022-07-06",
          "2022-07-07",
          "2022-07-08",
          "2022-07-09",
          "2022-07-10",
          "2022-07-11",
          "2022-07-12",
          "2022-07-13",
          "2022-07-14",
          "2022-07-15",
          "2022-07-16",
          "2022-07-17",
          "2022-07-18",
          "2022-07-19",
          "2022-07-20",
          "2022-07-21",
          "2022-07-22",
          "2022-07-23",
          "2022-07-24",
          "2022-07-25",
          "2022-07-26",
          "2022-07-27",
          "2022-07-28",
          "2022-07-29",
          "2022-07-30",
          "2022-07-31",
          "2022-08-01",
          "2022-08-02",
          "2022-08-03",
          "2022-08-04",
          "2022-08-05",
          "2022-08-06",
          "2022-08-07",
          "2022-08-08",
          "2022-08-09",
          "2022-08-10",
          "2022-08-11",
          "2022-08-12",
          "2022-08-13",
          "2022-08-14",
          "2022-08-15",
          "2022-08-16",
          "2022-08-17",
          "2022-08-18",
          "2022-08-19",
          "2022-08-20",
          "2022-08-21",
          "2022-08-22",
          "2022-08-23",
          "2022-08-24",
          "2022-08-25",
          "2022-08-26",
          "2022-08-27",
          "2022-08-28",
          "2022-08-29",
          "2022-08-30",
          "2022-08-31",
          "2022-09-01",
          "2022-09-02",
          "2022-09-03",
          "2022-09-04",
          "2022-09-05",
          "2022-09-06",
          "2022-09-07",
          "2022-09-08",
          "2022-09-09",
          "2022-09-10",
          "2022-09-11",
          "2022-09-12",
          "2022-09-13"
         ],
         "y": [
          0.8204647763962049,
          -1.1764343496432388,
          0.25474094097865974,
          -0.08450060939097549,
          1.284994399345535,
          -0.7186510075251232,
          -1.4385755476561388,
          1.87481209487456,
          -1.0135598552896357,
          0.18631437826205718,
          0.17667683421746527,
          -0.5528852499581424,
          0.41954294414118143,
          1.2262053806735242,
          -1.6091600772454155,
          0.4937520332845391,
          -1.5744649186848847,
          1.1279024314186867,
          0.6826478965585405,
          -0.9971760304138294,
          -1.1215003485890649,
          0.45520185710617145,
          0.543867262316417,
          0.6662640716827343,
          0.5824174384947847,
          -2.1450075261247257,
          1.4006449278806379,
          0.4291804881857733,
          -0.904655607585747,
          0.5602510871922233,
          -0.9017643443723695,
          -0.7880413246461849,
          0.4976070509023759,
          -0.4979512489039684,
          2.5542589500182897,
          -0.873815466643053,
          -0.6309493567193368,
          -0.7032309370537762,
          1.1327212034409828,
          1.4632889641704854,
          0.04030558598648974,
          0.7693857929598676,
          0.3462976094022829,
          -0.3726631763242736,
          -0.2955628239675383,
          0.17860434302638364,
          -0.11244948712029203,
          0.3877390487940281,
          -0.9807922055380232,
          1.2734293464920248,
          0.5881999649215398,
          -0.0729355565374652,
          0.04030558598648974,
          0.5573598239788456,
          -0.9268219588883084,
          0.04030558598648974,
          1.3341458739729537,
          -1.7951646773060395,
          1.2184953454378509,
          1.12404741380085,
          -1.1099352957355546,
          0.5082083493514269,
          0.26534223942771085,
          -1.7007167456690386,
          -0.677209568133378,
          2.1899597851327153,
          -0.5548127587670607,
          -0.20882492756621113,
          1.8121680585847124,
          -2.0168281903316534,
          0.3655726974914667,
          1.2310241526958203,
          -1.7151730617359267,
          0.6334964219311218,
          -0.2425563317222828,
          0.33569631095323177,
          0.06873634091803588,
          0.2595597130009557,
          -1.874192538471693,
          2.0058826938810097,
          -0.2647226830248442,
          0.9438253401669813,
          -0.7976788686907769,
          -1.5397697601243538,
          1.7851829352598552,
          -0.9027280987768287,
          -0.8015338863086137,
          0.3983403472430792,
          -0.7273247971652559,
          1.2676468200652695,
          0.670119089300571,
          -0.49698749449950924,
          0.09764897305181161,
          -0.18665857626364973,
          -1.9532203996373467,
          1.0748959391734314,
          0.0880114290072197,
          -0.005472748225321834,
          0.11788781554545462,
          1.7369952150368955,
          -0.3610981234707633,
          -1.9349090659526222,
          0.39737659283862004,
          0.6209676146731523,
          0.15836550053274065,
          -0.2329187876776909,
          -1.1658330511941877,
          2.6265405303527287,
          -0.9489883101908698,
          -1.5744649186848847,
          0.765530775342031,
          -0.04209541559477109,
          0.4947157876889983,
          0.04030558598648974,
          0.04030558598648974,
          -0.41121335250264124,
          -0.9836834687514008,
          -0.8102076759487463,
          0.2884723451347314,
          2.2853714711741753,
          -1.3711127393439955,
          0.9216589888644199,
          -2.0081544006915206,
          1.3418559092086273,
          -0.8998368355634512,
          -0.2801427534961913,
          -0.480603669623703,
          0.37328273272714024,
          0.8098634779471537,
          -1.459778144554241,
          1.5211142284380368,
          -0.32351170169685484,
          -0.3061641224165894,
          1.12404741380085,
          -0.8015338863086137,
          -0.6492606904040614,
          1.2859581537499942,
          -1.146557963105004,
          -0.5779428644740814,
          2.0193752555434386,
          -1.6139788492677116,
          0.30967494203283363,
          -0.17027475138784348,
          0.46965817317305936,
          -1.0829501724106974,
          0.7308356167815,
          0.6537352644247647,
          -0.0411316611903119,
          -1.136920419060412,
          -0.5923991805409692,
          0.9149127080332056,
          1.1385037298677378,
          -0.8815255018787265,
          0.44556431306157956,
          0.7790233370044596,
          -1.5320597248886803,
          -0.48638619605045813,
          1.87481209487456,
          -1.076203891579483,
          -0.9759734335157272,
          1.6309822305463846,
          -0.5403564427001729,
          0.01862111188615794,
          -0.034385380359097564,
          -0.26954145504714017,
          0.8773262862592971,
          -1.293048632582801,
          -1.3923153362420977,
          0.04030558598648974,
          -2.3310121261853496,
          0.645061474784632,
          -2.019719453545031,
          2.733517269247699,
          1.1529600459346259,
          0.04030558598648974,
          0.04030558598648974,
          -1.9965893478380103,
          2.1485183457409702,
          -0.8921268003277776,
          0.6913216861986732,
          -0.6550432168308166,
          -0.43530721261412103,
          0.1313803772078833,
          0.2730522746633844,
          1.8208418482248452,
          -1.177398104047698,
          -0.06811678451516924,
          0.8185372675872864,
          0.04753374401993367,
          -0.7928600966684809,
          -0.04884169642598543,
          0.36460894308700753,
          -0.6858833577735107,
          0.3212399948863439,
          -0.0931743990311082,
          -0.7157597443117456,
          0.4291804881857733,
          0.28750859073027224,
          -0.22810001565539495,
          -0.2512301213624155,
          -0.14232587365852695,
          2.1870685219193375,
          -2.756027818551853,
          0.8860000758994298,
          0.2990736435837825,
          -0.6839558489645924,
          1.1452500106989523,
          0.08993893781613808,
          -0.374590685133192,
          -1.3576201776815668,
          0.9746654811096753,
          0.4715856819819777,
          -1.066566347534891,
          0.442673049848202,
          0.8638337245968684,
          -2.0187556991405717,
          -0.6174567950569082,
          1.724466407778926,
          -0.4719298799835703,
          0.031149919144127423,
          0.5833811928992438,
          -0.6588982344486534,
          1.1625975899792178,
          -0.023784081910046464,
          -0.5654140572161118,
          0.8175735131828272,
          -2.250056756210778,
          0.32895003012201746,
          0.9592454106383284,
          -0.0016177306074850696,
          0.4002678560519976,
          -0.6232393214836633,
          0.12367034197220977,
          -0.9730821703023497,
          1.3746235589602398,
          -0.9008005899679103,
          0.3482251182112013,
          -0.3109828944388854,
          0.19980693992448587,
          0.8840725670905114,
          -1.3152149838853624,
          -0.12015952235596555,
          0.7472194416573062,
          0.6036200353928868,
          0.3125662052462112,
          -1.9021414162010097,
          1.2637918024474328,
          -0.4381984758274986,
          0.609402561819642,
          -1.1128265589489321
         ]
        },
        {
         "name": "Test",
         "type": "scatter",
         "x": [
          "2022-09-14",
          "2022-09-15",
          "2022-09-16",
          "2022-09-17",
          "2022-09-18",
          "2022-09-19",
          "2022-09-20",
          "2022-09-21",
          "2022-09-22",
          "2022-09-23",
          "2022-09-24",
          "2022-09-25",
          "2022-09-26",
          "2022-09-27",
          "2022-09-28",
          "2022-09-29",
          "2022-09-30",
          "2022-10-01",
          "2022-10-02",
          "2022-10-03",
          "2022-10-04",
          "2022-10-05",
          "2022-10-06",
          "2022-10-07",
          "2022-10-08",
          "2022-10-09",
          "2022-10-10",
          "2022-10-11",
          "2022-10-12",
          "2022-10-13",
          "2022-10-14",
          "2022-10-15",
          "2022-10-16",
          "2022-10-17",
          "2022-10-18",
          "2022-10-19",
          "2022-10-20",
          "2022-10-21",
          "2022-10-22",
          "2022-10-23",
          "2022-10-24",
          "2022-10-25",
          "2022-10-26",
          "2022-10-27",
          "2022-10-28",
          "2022-10-29",
          "2022-10-30",
          "2022-10-31",
          "2022-11-01",
          "2022-11-02",
          "2022-11-03",
          "2022-11-04",
          "2022-11-05",
          "2022-11-06",
          "2022-11-07",
          "2022-11-08",
          "2022-11-09",
          "2022-11-10",
          "2022-11-11",
          "2022-11-12",
          "2022-11-13",
          "2022-11-14",
          "2022-11-15",
          "2022-11-16",
          "2022-11-17",
          "2022-11-18",
          "2022-11-19",
          "2022-11-20",
          "2022-11-21",
          "2022-11-22",
          "2022-11-23",
          "2022-11-24",
          "2022-11-25",
          "2022-11-26",
          "2022-11-27",
          "2022-11-28",
          "2022-11-29",
          "2022-11-30",
          "2022-12-01",
          "2022-12-02",
          "2022-12-03",
          "2022-12-04",
          "2022-12-05",
          "2022-12-06",
          "2022-12-07",
          "2022-12-08",
          "2022-12-09",
          "2022-12-10",
          "2022-12-11",
          "2022-12-12",
          "2022-12-13",
          "2022-12-14",
          "2022-12-15",
          "2022-12-16",
          "2022-12-17",
          "2022-12-18",
          "2022-12-19",
          "2022-12-20",
          "2022-12-21",
          "2022-12-22",
          "2022-12-23",
          "2022-12-24",
          "2022-12-25",
          "2022-12-26",
          "2022-12-27",
          "2022-12-28",
          "2022-12-29",
          "2022-12-30"
         ],
         "y": [
          0.9688829546829202,
          0.5255559286316923,
          -0.7273247971652559,
          0.29425487156148655,
          -0.4381984758274986,
          -0.8901992915188592,
          -0.20689741875729276,
          0.3212399948863439,
          0.7250530903547449,
          0.483150734835488,
          0.4272529793768549,
          -0.546138969126928,
          -0.9104381340125023,
          0.3019649067971601,
          -0.7109409722894497,
          0.9862305339631856,
          0.04030558598648974,
          0.04030558598648974,
          0.886963830303889,
          -0.3967570364357534,
          -0.7976788686907769,
          0.4070141368832119,
          0.26726974823662925,
          -0.2213537348241806,
          0.4889332612622432,
          -1.167760560003106,
          1.2464442231671673,
          -1.9522566452328876,
          1.043092043826278,
          -0.44012598463641694,
          2.001063921858714,
          -1.2940123869872602,
          0.5872362105170806,
          1.5461718429539757,
          -1.9185252410768159,
          0.3761739959405178,
          -1.6101238316498747,
          0.6431339659757137,
          0.40605038247875275,
          0.18824188707097556,
          -0.3919382644134574,
          -0.42181465095169235,
          -0.29267156075416073,
          0.6122938250330195,
          -1.1494492263183815,
          2.259350102253777,
          -0.7687662365570012,
          -0.018001555483291316,
          1.2329516615047387,
          0.04030558598648974,
          0.9534628842115732,
          0.11306904352315866,
          -0.9836834687514008,
          1.492201596304261,
          -0.8979093267545327,
          1.2734293464920248,
          0.3655726974914667,
          -0.2955628239675383,
          -0.6116742686301531,
          0.4002678560519976,
          -1.5416972689332722,
          1.0816422200046456,
          -0.9017643443723695,
          0.4648394011507634,
          0.624822632290989,
          -0.3967570364357534,
          0.08608392019830131,
          -1.1311378926336568,
          1.3052332418391779,
          -0.5567402675759792,
          0.2576322041920373,
          0.10825027150086271,
          -0.6627532520664902,
          0.21040823837353695,
          -0.2974903327764567,
          1.7591615663394569,
          -0.027639099527883227,
          0.04030558598648974,
          0.04030558598648974,
          -1.071385119557187,
          0.4407455410392836,
          -0.18762233066810893,
          0.8156460043739089,
          -0.9171844148437166,
          0.24510339693406782,
          0.48122322602656964,
          -1.38942407302872,
          1.2368066791225754,
          -1.0800589091973198,
          -0.566377811620571,
          0.8532324261478172,
          -0.4449447566587129,
          -0.0931743990311082,
          0.03307742795304581,
          0.7886608810490515,
          0.42532547056793657,
          -0.19918738352161922,
          -1.5339872336975986,
          1.6194171776928743,
          -0.9460970469774923,
          0.22293704563150643,
          -1.4530318637230266,
          0.04030558598648974,
          -1.5648273746402928,
          -0.3832644747733247,
          0.7896246354535107,
          -0.2955628239675383,
          0.7616757577241942
         ]
        },
        {
         "name": "Predicted",
         "type": "scatter",
         "x": [
          "2022-09-14",
          "2022-09-15",
          "2022-09-16",
          "2022-09-17",
          "2022-09-18",
          "2022-09-19",
          "2022-09-20",
          "2022-09-21",
          "2022-09-22",
          "2022-09-23",
          "2022-09-24",
          "2022-09-25",
          "2022-09-26",
          "2022-09-27",
          "2022-09-28",
          "2022-09-29",
          "2022-09-30",
          "2022-10-01",
          "2022-10-02",
          "2022-10-03",
          "2022-10-04",
          "2022-10-05",
          "2022-10-06",
          "2022-10-07",
          "2022-10-08",
          "2022-10-09",
          "2022-10-10",
          "2022-10-11",
          "2022-10-12",
          "2022-10-13",
          "2022-10-14",
          "2022-10-15",
          "2022-10-16",
          "2022-10-17",
          "2022-10-18",
          "2022-10-19",
          "2022-10-20",
          "2022-10-21",
          "2022-10-22",
          "2022-10-23",
          "2022-10-24",
          "2022-10-25",
          "2022-10-26",
          "2022-10-27",
          "2022-10-28",
          "2022-10-29",
          "2022-10-30",
          "2022-10-31",
          "2022-11-01",
          "2022-11-02",
          "2022-11-03",
          "2022-11-04",
          "2022-11-05",
          "2022-11-06",
          "2022-11-07",
          "2022-11-08",
          "2022-11-09",
          "2022-11-10",
          "2022-11-11",
          "2022-11-12",
          "2022-11-13",
          "2022-11-14",
          "2022-11-15",
          "2022-11-16",
          "2022-11-17",
          "2022-11-18",
          "2022-11-19",
          "2022-11-20",
          "2022-11-21",
          "2022-11-22",
          "2022-11-23",
          "2022-11-24",
          "2022-11-25",
          "2022-11-26",
          "2022-11-27",
          "2022-11-28",
          "2022-11-29",
          "2022-11-30",
          "2022-12-01",
          "2022-12-02",
          "2022-12-03",
          "2022-12-04",
          "2022-12-05",
          "2022-12-06",
          "2022-12-07",
          "2022-12-08",
          "2022-12-09",
          "2022-12-10",
          "2022-12-11",
          "2022-12-12",
          "2022-12-13",
          "2022-12-14",
          "2022-12-15",
          "2022-12-16",
          "2022-12-17",
          "2022-12-18",
          "2022-12-19",
          "2022-12-20",
          "2022-12-21",
          "2022-12-22",
          "2022-12-23",
          "2022-12-24",
          "2022-12-25",
          "2022-12-26",
          "2022-12-27",
          "2022-12-28",
          "2022-12-29",
          "2022-12-30"
         ],
         "y": [
          0.07715833187103271,
          -0.5223901271820068,
          -0.3400532305240631,
          -0.06276392191648483,
          -0.40592923760414124,
          -0.24706867337226868,
          0.11987508833408356,
          -0.10939014703035355,
          -0.2753353714942932,
          -0.40103262662887573,
          -0.3530825972557068,
          -0.3978548049926758,
          -0.23692703247070312,
          -0.1474590301513672,
          -0.2682725489139557,
          0.027596235275268555,
          -0.22524473071098328,
          -0.34653034806251526,
          -0.24305498600006104,
          -0.511568546295166,
          -0.19719742238521576,
          -0.19734251499176025,
          -0.3770085871219635,
          -0.17687222361564636,
          -0.12015840411186218,
          -0.3991657495498657,
          0.11716149747371674,
          -0.7442054152488708,
          0.05325625091791153,
          -0.6340853571891785,
          -0.02180483192205429,
          -0.5374491214752197,
          0.13503879308700562,
          -0.22463050484657288,
          -0.9380574822425842,
          0.007954247295856476,
          -0.669984757900238,
          0.25435978174209595,
          -0.1906355321407318,
          -0.3702395558357239,
          -0.06396407634019852,
          -0.06998962163925171,
          -0.13415470719337463,
          -0.10738010704517365,
          -0.17653357982635498,
          0.3157794177532196,
          -0.6478897929191589,
          -0.10248252749443054,
          -0.058546461164951324,
          -0.833154559135437,
          -0.5285744667053223,
          -0.8059870600700378,
          -0.2641996741294861,
          -0.272330105304718,
          -0.6946837902069092,
          0.0178685262799263,
          -0.8864507675170898,
          -0.8274545073509216,
          -0.8147696256637573,
          -0.4785213768482208,
          -0.7709181904792786,
          -0.027845144271850586,
          -0.8037379384040833,
          -0.41899845004081726,
          -0.864560067653656,
          -0.7585497498512268,
          -0.6557955741882324,
          -0.5518192052841187,
          -0.1718173325061798,
          -0.8895826935768127,
          -0.291623055934906,
          -0.5498020648956299,
          -0.24603375792503357,
          0.07094289362430573,
          -0.4014495015144348,
          0.1027349904179573,
          -0.734237790107727,
          -0.2286662757396698,
          -0.2616855502128601,
          -0.1841445416212082,
          0.1276361346244812,
          -0.2520241141319275,
          -0.25466129183769226,
          -0.4641309380531311,
          -0.19437015056610107,
          -0.42794570326805115,
          -0.3070346713066101,
          0.2192375510931015,
          -0.5300576090812683,
          -0.04145047068595886,
          0.10026280581951141,
          -0.37116333842277527,
          -0.13468652963638306,
          -0.009176093153655529,
          -0.09484158456325531,
          -0.44715356826782227,
          -0.3833368718624115,
          -0.09062489867210388,
          0.3602413833141327,
          -0.46345704793930054,
          0.2648918628692627,
          -0.09757742285728455,
          0.3853432238101959,
          0.2136230766773224,
          0.7784343957901001,
          0.4961440861225128,
          0.129072904586792,
          0.588184118270874
         ]
        }
       ],
       "layout": {
        "template": {
         "data": {
          "bar": [
           {
            "error_x": {
             "color": "#2a3f5f"
            },
            "error_y": {
             "color": "#2a3f5f"
            },
            "marker": {
             "line": {
              "color": "#E5ECF6",
              "width": 0.5
             },
             "pattern": {
              "fillmode": "overlay",
              "size": 10,
              "solidity": 0.2
             }
            },
            "type": "bar"
           }
          ],
          "barpolar": [
           {
            "marker": {
             "line": {
              "color": "#E5ECF6",
              "width": 0.5
             },
             "pattern": {
              "fillmode": "overlay",
              "size": 10,
              "solidity": 0.2
             }
            },
            "type": "barpolar"
           }
          ],
          "carpet": [
           {
            "aaxis": {
             "endlinecolor": "#2a3f5f",
             "gridcolor": "white",
             "linecolor": "white",
             "minorgridcolor": "white",
             "startlinecolor": "#2a3f5f"
            },
            "baxis": {
             "endlinecolor": "#2a3f5f",
             "gridcolor": "white",
             "linecolor": "white",
             "minorgridcolor": "white",
             "startlinecolor": "#2a3f5f"
            },
            "type": "carpet"
           }
          ],
          "choropleth": [
           {
            "colorbar": {
             "outlinewidth": 0,
             "ticks": ""
            },
            "type": "choropleth"
           }
          ],
          "contour": [
           {
            "colorbar": {
             "outlinewidth": 0,
             "ticks": ""
            },
            "colorscale": [
             [
              0,
              "#0d0887"
             ],
             [
              0.1111111111111111,
              "#46039f"
             ],
             [
              0.2222222222222222,
              "#7201a8"
             ],
             [
              0.3333333333333333,
              "#9c179e"
             ],
             [
              0.4444444444444444,
              "#bd3786"
             ],
             [
              0.5555555555555556,
              "#d8576b"
             ],
             [
              0.6666666666666666,
              "#ed7953"
             ],
             [
              0.7777777777777778,
              "#fb9f3a"
             ],
             [
              0.8888888888888888,
              "#fdca26"
             ],
             [
              1,
              "#f0f921"
             ]
            ],
            "type": "contour"
           }
          ],
          "contourcarpet": [
           {
            "colorbar": {
             "outlinewidth": 0,
             "ticks": ""
            },
            "type": "contourcarpet"
           }
          ],
          "heatmap": [
           {
            "colorbar": {
             "outlinewidth": 0,
             "ticks": ""
            },
            "colorscale": [
             [
              0,
              "#0d0887"
             ],
             [
              0.1111111111111111,
              "#46039f"
             ],
             [
              0.2222222222222222,
              "#7201a8"
             ],
             [
              0.3333333333333333,
              "#9c179e"
             ],
             [
              0.4444444444444444,
              "#bd3786"
             ],
             [
              0.5555555555555556,
              "#d8576b"
             ],
             [
              0.6666666666666666,
              "#ed7953"
             ],
             [
              0.7777777777777778,
              "#fb9f3a"
             ],
             [
              0.8888888888888888,
              "#fdca26"
             ],
             [
              1,
              "#f0f921"
             ]
            ],
            "type": "heatmap"
           }
          ],
          "heatmapgl": [
           {
            "colorbar": {
             "outlinewidth": 0,
             "ticks": ""
            },
            "colorscale": [
             [
              0,
              "#0d0887"
             ],
             [
              0.1111111111111111,
              "#46039f"
             ],
             [
              0.2222222222222222,
              "#7201a8"
             ],
             [
              0.3333333333333333,
              "#9c179e"
             ],
             [
              0.4444444444444444,
              "#bd3786"
             ],
             [
              0.5555555555555556,
              "#d8576b"
             ],
             [
              0.6666666666666666,
              "#ed7953"
             ],
             [
              0.7777777777777778,
              "#fb9f3a"
             ],
             [
              0.8888888888888888,
              "#fdca26"
             ],
             [
              1,
              "#f0f921"
             ]
            ],
            "type": "heatmapgl"
           }
          ],
          "histogram": [
           {
            "marker": {
             "pattern": {
              "fillmode": "overlay",
              "size": 10,
              "solidity": 0.2
             }
            },
            "type": "histogram"
           }
          ],
          "histogram2d": [
           {
            "colorbar": {
             "outlinewidth": 0,
             "ticks": ""
            },
            "colorscale": [
             [
              0,
              "#0d0887"
             ],
             [
              0.1111111111111111,
              "#46039f"
             ],
             [
              0.2222222222222222,
              "#7201a8"
             ],
             [
              0.3333333333333333,
              "#9c179e"
             ],
             [
              0.4444444444444444,
              "#bd3786"
             ],
             [
              0.5555555555555556,
              "#d8576b"
             ],
             [
              0.6666666666666666,
              "#ed7953"
             ],
             [
              0.7777777777777778,
              "#fb9f3a"
             ],
             [
              0.8888888888888888,
              "#fdca26"
             ],
             [
              1,
              "#f0f921"
             ]
            ],
            "type": "histogram2d"
           }
          ],
          "histogram2dcontour": [
           {
            "colorbar": {
             "outlinewidth": 0,
             "ticks": ""
            },
            "colorscale": [
             [
              0,
              "#0d0887"
             ],
             [
              0.1111111111111111,
              "#46039f"
             ],
             [
              0.2222222222222222,
              "#7201a8"
             ],
             [
              0.3333333333333333,
              "#9c179e"
             ],
             [
              0.4444444444444444,
              "#bd3786"
             ],
             [
              0.5555555555555556,
              "#d8576b"
             ],
             [
              0.6666666666666666,
              "#ed7953"
             ],
             [
              0.7777777777777778,
              "#fb9f3a"
             ],
             [
              0.8888888888888888,
              "#fdca26"
             ],
             [
              1,
              "#f0f921"
             ]
            ],
            "type": "histogram2dcontour"
           }
          ],
          "mesh3d": [
           {
            "colorbar": {
             "outlinewidth": 0,
             "ticks": ""
            },
            "type": "mesh3d"
           }
          ],
          "parcoords": [
           {
            "line": {
             "colorbar": {
              "outlinewidth": 0,
              "ticks": ""
             }
            },
            "type": "parcoords"
           }
          ],
          "pie": [
           {
            "automargin": true,
            "type": "pie"
           }
          ],
          "scatter": [
           {
            "fillpattern": {
             "fillmode": "overlay",
             "size": 10,
             "solidity": 0.2
            },
            "type": "scatter"
           }
          ],
          "scatter3d": [
           {
            "line": {
             "colorbar": {
              "outlinewidth": 0,
              "ticks": ""
             }
            },
            "marker": {
             "colorbar": {
              "outlinewidth": 0,
              "ticks": ""
             }
            },
            "type": "scatter3d"
           }
          ],
          "scattercarpet": [
           {
            "marker": {
             "colorbar": {
              "outlinewidth": 0,
              "ticks": ""
             }
            },
            "type": "scattercarpet"
           }
          ],
          "scattergeo": [
           {
            "marker": {
             "colorbar": {
              "outlinewidth": 0,
              "ticks": ""
             }
            },
            "type": "scattergeo"
           }
          ],
          "scattergl": [
           {
            "marker": {
             "colorbar": {
              "outlinewidth": 0,
              "ticks": ""
             }
            },
            "type": "scattergl"
           }
          ],
          "scattermapbox": [
           {
            "marker": {
             "colorbar": {
              "outlinewidth": 0,
              "ticks": ""
             }
            },
            "type": "scattermapbox"
           }
          ],
          "scatterpolar": [
           {
            "marker": {
             "colorbar": {
              "outlinewidth": 0,
              "ticks": ""
             }
            },
            "type": "scatterpolar"
           }
          ],
          "scatterpolargl": [
           {
            "marker": {
             "colorbar": {
              "outlinewidth": 0,
              "ticks": ""
             }
            },
            "type": "scatterpolargl"
           }
          ],
          "scatterternary": [
           {
            "marker": {
             "colorbar": {
              "outlinewidth": 0,
              "ticks": ""
             }
            },
            "type": "scatterternary"
           }
          ],
          "surface": [
           {
            "colorbar": {
             "outlinewidth": 0,
             "ticks": ""
            },
            "colorscale": [
             [
              0,
              "#0d0887"
             ],
             [
              0.1111111111111111,
              "#46039f"
             ],
             [
              0.2222222222222222,
              "#7201a8"
             ],
             [
              0.3333333333333333,
              "#9c179e"
             ],
             [
              0.4444444444444444,
              "#bd3786"
             ],
             [
              0.5555555555555556,
              "#d8576b"
             ],
             [
              0.6666666666666666,
              "#ed7953"
             ],
             [
              0.7777777777777778,
              "#fb9f3a"
             ],
             [
              0.8888888888888888,
              "#fdca26"
             ],
             [
              1,
              "#f0f921"
             ]
            ],
            "type": "surface"
           }
          ],
          "table": [
           {
            "cells": {
             "fill": {
              "color": "#EBF0F8"
             },
             "line": {
              "color": "white"
             }
            },
            "header": {
             "fill": {
              "color": "#C8D4E3"
             },
             "line": {
              "color": "white"
             }
            },
            "type": "table"
           }
          ]
         },
         "layout": {
          "annotationdefaults": {
           "arrowcolor": "#2a3f5f",
           "arrowhead": 0,
           "arrowwidth": 1
          },
          "autotypenumbers": "strict",
          "coloraxis": {
           "colorbar": {
            "outlinewidth": 0,
            "ticks": ""
           }
          },
          "colorscale": {
           "diverging": [
            [
             0,
             "#8e0152"
            ],
            [
             0.1,
             "#c51b7d"
            ],
            [
             0.2,
             "#de77ae"
            ],
            [
             0.3,
             "#f1b6da"
            ],
            [
             0.4,
             "#fde0ef"
            ],
            [
             0.5,
             "#f7f7f7"
            ],
            [
             0.6,
             "#e6f5d0"
            ],
            [
             0.7,
             "#b8e186"
            ],
            [
             0.8,
             "#7fbc41"
            ],
            [
             0.9,
             "#4d9221"
            ],
            [
             1,
             "#276419"
            ]
           ],
           "sequential": [
            [
             0,
             "#0d0887"
            ],
            [
             0.1111111111111111,
             "#46039f"
            ],
            [
             0.2222222222222222,
             "#7201a8"
            ],
            [
             0.3333333333333333,
             "#9c179e"
            ],
            [
             0.4444444444444444,
             "#bd3786"
            ],
            [
             0.5555555555555556,
             "#d8576b"
            ],
            [
             0.6666666666666666,
             "#ed7953"
            ],
            [
             0.7777777777777778,
             "#fb9f3a"
            ],
            [
             0.8888888888888888,
             "#fdca26"
            ],
            [
             1,
             "#f0f921"
            ]
           ],
           "sequentialminus": [
            [
             0,
             "#0d0887"
            ],
            [
             0.1111111111111111,
             "#46039f"
            ],
            [
             0.2222222222222222,
             "#7201a8"
            ],
            [
             0.3333333333333333,
             "#9c179e"
            ],
            [
             0.4444444444444444,
             "#bd3786"
            ],
            [
             0.5555555555555556,
             "#d8576b"
            ],
            [
             0.6666666666666666,
             "#ed7953"
            ],
            [
             0.7777777777777778,
             "#fb9f3a"
            ],
            [
             0.8888888888888888,
             "#fdca26"
            ],
            [
             1,
             "#f0f921"
            ]
           ]
          },
          "colorway": [
           "#636efa",
           "#EF553B",
           "#00cc96",
           "#ab63fa",
           "#FFA15A",
           "#19d3f3",
           "#FF6692",
           "#B6E880",
           "#FF97FF",
           "#FECB52"
          ],
          "font": {
           "color": "#2a3f5f"
          },
          "geo": {
           "bgcolor": "white",
           "lakecolor": "white",
           "landcolor": "#E5ECF6",
           "showlakes": true,
           "showland": true,
           "subunitcolor": "white"
          },
          "hoverlabel": {
           "align": "left"
          },
          "hovermode": "closest",
          "mapbox": {
           "style": "light"
          },
          "paper_bgcolor": "white",
          "plot_bgcolor": "#E5ECF6",
          "polar": {
           "angularaxis": {
            "gridcolor": "white",
            "linecolor": "white",
            "ticks": ""
           },
           "bgcolor": "#E5ECF6",
           "radialaxis": {
            "gridcolor": "white",
            "linecolor": "white",
            "ticks": ""
           }
          },
          "scene": {
           "xaxis": {
            "backgroundcolor": "#E5ECF6",
            "gridcolor": "white",
            "gridwidth": 2,
            "linecolor": "white",
            "showbackground": true,
            "ticks": "",
            "zerolinecolor": "white"
           },
           "yaxis": {
            "backgroundcolor": "#E5ECF6",
            "gridcolor": "white",
            "gridwidth": 2,
            "linecolor": "white",
            "showbackground": true,
            "ticks": "",
            "zerolinecolor": "white"
           },
           "zaxis": {
            "backgroundcolor": "#E5ECF6",
            "gridcolor": "white",
            "gridwidth": 2,
            "linecolor": "white",
            "showbackground": true,
            "ticks": "",
            "zerolinecolor": "white"
           }
          },
          "shapedefaults": {
           "line": {
            "color": "#2a3f5f"
           }
          },
          "ternary": {
           "aaxis": {
            "gridcolor": "white",
            "linecolor": "white",
            "ticks": ""
           },
           "baxis": {
            "gridcolor": "white",
            "linecolor": "white",
            "ticks": ""
           },
           "bgcolor": "#E5ECF6",
           "caxis": {
            "gridcolor": "white",
            "linecolor": "white",
            "ticks": ""
           }
          },
          "title": {
           "x": 0.05
          },
          "xaxis": {
           "automargin": true,
           "gridcolor": "white",
           "linecolor": "white",
           "ticks": "",
           "title": {
            "standoff": 15
           },
           "zerolinecolor": "white",
           "zerolinewidth": 2
          },
          "yaxis": {
           "automargin": true,
           "gridcolor": "white",
           "linecolor": "white",
           "ticks": "",
           "title": {
            "standoff": 15
           },
           "zerolinecolor": "white",
           "zerolinewidth": 2
          }
         }
        },
        "title": {
         "text": " kano_transactions Aggregated NNet & tsfresh. MAE=0.6908"
        }
       }
      }
     },
     "metadata": {},
     "output_type": "display_data"
    },
    {
     "name": "stderr",
     "output_type": "stream",
     "text": [
      "Rolling: 100%|██████████| 20/20 [00:00<00:00, 66.39it/s]\n",
      "Feature Extraction: 100%|██████████| 20/20 [00:00<00:00, 104.32it/s]\n"
     ]
    },
    {
     "data": {
      "application/vnd.plotly.v1+json": {
       "config": {
        "plotlyServerURL": "https://plot.ly"
       },
       "data": [
        {
         "name": "Train",
         "type": "scatter",
         "x": [
          "2022-01-07",
          "2022-01-08",
          "2022-01-09",
          "2022-01-10",
          "2022-01-11",
          "2022-01-12",
          "2022-01-13",
          "2022-01-14",
          "2022-01-15",
          "2022-01-16",
          "2022-01-17",
          "2022-01-18",
          "2022-01-19",
          "2022-01-20",
          "2022-01-21",
          "2022-01-22",
          "2022-01-23",
          "2022-01-24",
          "2022-01-25",
          "2022-01-26",
          "2022-01-27",
          "2022-01-28",
          "2022-01-29",
          "2022-01-30",
          "2022-01-31",
          "2022-02-01",
          "2022-02-02",
          "2022-02-03",
          "2022-02-04",
          "2022-02-05",
          "2022-02-06",
          "2022-02-07",
          "2022-02-08",
          "2022-02-09",
          "2022-02-10",
          "2022-02-11",
          "2022-02-12",
          "2022-02-13",
          "2022-02-14",
          "2022-02-15",
          "2022-02-16",
          "2022-02-17",
          "2022-02-18",
          "2022-02-19",
          "2022-02-20",
          "2022-02-21",
          "2022-02-22",
          "2022-02-23",
          "2022-02-24",
          "2022-02-25",
          "2022-02-26",
          "2022-02-27",
          "2022-02-28",
          "2022-03-01",
          "2022-03-02",
          "2022-03-03",
          "2022-03-04",
          "2022-03-05",
          "2022-03-06",
          "2022-03-07",
          "2022-03-08",
          "2022-03-09",
          "2022-03-10",
          "2022-03-11",
          "2022-03-12",
          "2022-03-13",
          "2022-03-14",
          "2022-03-15",
          "2022-03-16",
          "2022-03-17",
          "2022-03-18",
          "2022-03-19",
          "2022-03-20",
          "2022-03-21",
          "2022-03-22",
          "2022-03-23",
          "2022-03-24",
          "2022-03-25",
          "2022-03-26",
          "2022-03-27",
          "2022-03-28",
          "2022-03-29",
          "2022-03-30",
          "2022-03-31",
          "2022-04-01",
          "2022-04-02",
          "2022-04-03",
          "2022-04-04",
          "2022-04-05",
          "2022-04-06",
          "2022-04-07",
          "2022-04-08",
          "2022-04-09",
          "2022-04-10",
          "2022-04-11",
          "2022-04-12",
          "2022-04-13",
          "2022-04-14",
          "2022-04-15",
          "2022-04-16",
          "2022-04-17",
          "2022-04-18",
          "2022-04-19",
          "2022-04-20",
          "2022-04-21",
          "2022-04-22",
          "2022-04-23",
          "2022-04-24",
          "2022-04-25",
          "2022-04-26",
          "2022-04-27",
          "2022-04-28",
          "2022-04-29",
          "2022-04-30",
          "2022-05-01",
          "2022-05-02",
          "2022-05-03",
          "2022-05-04",
          "2022-05-05",
          "2022-05-06",
          "2022-05-07",
          "2022-05-08",
          "2022-05-09",
          "2022-05-10",
          "2022-05-11",
          "2022-05-12",
          "2022-05-13",
          "2022-05-14",
          "2022-05-15",
          "2022-05-16",
          "2022-05-17",
          "2022-05-18",
          "2022-05-19",
          "2022-05-20",
          "2022-05-21",
          "2022-05-22",
          "2022-05-23",
          "2022-05-24",
          "2022-05-25",
          "2022-05-26",
          "2022-05-27",
          "2022-05-28",
          "2022-05-29",
          "2022-05-30",
          "2022-05-31",
          "2022-06-01",
          "2022-06-02",
          "2022-06-03",
          "2022-06-04",
          "2022-06-05",
          "2022-06-06",
          "2022-06-07",
          "2022-06-08",
          "2022-06-09",
          "2022-06-10",
          "2022-06-11",
          "2022-06-12",
          "2022-06-13",
          "2022-06-14",
          "2022-06-15",
          "2022-06-16",
          "2022-06-17",
          "2022-06-18",
          "2022-06-19",
          "2022-06-20",
          "2022-06-21",
          "2022-06-22",
          "2022-06-23",
          "2022-06-24",
          "2022-06-25",
          "2022-06-26",
          "2022-06-27",
          "2022-06-28",
          "2022-06-29",
          "2022-06-30",
          "2022-07-01",
          "2022-07-02",
          "2022-07-03",
          "2022-07-04",
          "2022-07-05",
          "2022-07-06",
          "2022-07-07",
          "2022-07-08",
          "2022-07-09",
          "2022-07-10",
          "2022-07-11",
          "2022-07-12",
          "2022-07-13",
          "2022-07-14",
          "2022-07-15",
          "2022-07-16",
          "2022-07-17",
          "2022-07-18",
          "2022-07-19",
          "2022-07-20",
          "2022-07-21",
          "2022-07-22",
          "2022-07-23",
          "2022-07-24",
          "2022-07-25",
          "2022-07-26",
          "2022-07-27",
          "2022-07-28",
          "2022-07-29",
          "2022-07-30",
          "2022-07-31",
          "2022-08-01",
          "2022-08-02",
          "2022-08-03",
          "2022-08-04",
          "2022-08-05",
          "2022-08-06",
          "2022-08-07",
          "2022-08-08",
          "2022-08-09",
          "2022-08-10",
          "2022-08-11",
          "2022-08-12",
          "2022-08-13",
          "2022-08-14",
          "2022-08-15",
          "2022-08-16",
          "2022-08-17",
          "2022-08-18",
          "2022-08-19",
          "2022-08-20",
          "2022-08-21",
          "2022-08-22",
          "2022-08-23",
          "2022-08-24",
          "2022-08-25",
          "2022-08-26",
          "2022-08-27",
          "2022-08-28",
          "2022-08-29",
          "2022-08-30",
          "2022-08-31",
          "2022-09-01",
          "2022-09-02",
          "2022-09-03",
          "2022-09-04",
          "2022-09-05",
          "2022-09-06",
          "2022-09-07",
          "2022-09-08",
          "2022-09-09",
          "2022-09-10",
          "2022-09-11",
          "2022-09-12",
          "2022-09-13"
         ],
         "y": [
          0.9610202873172389,
          1.103829162451138,
          -1.5482361430842493,
          -0.6495851727294686,
          0.8084586109546831,
          -0.7032255794870795,
          1.4075592578578702,
          -1.6903483895589586,
          0.6078295571080345,
          -0.5179223561426054,
          -1.0222815053959862,
          1.335109877302136,
          0.28320060192560986,
          0.1215827529935873,
          -0.4510460048603891,
          1.275896441271007,
          -0.27688884006295106,
          -0.8704164576926201,
          1.0871100746305842,
          -2.117381757642277,
          0.7158069992824462,
          -0.23578774917075568,
          0.49079594236415613,
          -1.4040340106319704,
          0.04181877151636065,
          -1.2793374806370048,
          1.9307273809093741,
          -2.668415027061371,
          0.8203012981609089,
          -1.2918767965024203,
          1.5761433933817903,
          0.057492916348130085,
          -0.042821610575194256,
          -0.268529296152674,
          -1.3907980661073651,
          2.2846147397777683,
          -1.594213634590773,
          0.457357766723048,
          -1.8115617762579757,
          0.6733126510718712,
          1.3211773041183408,
          -1.4381688149322684,
          1.2877391284772328,
          -0.42457411581117854,
          -0.3131135303408182,
          1.3392896492572743,
          -1.3775621215827598,
          -0.3465517059819263,
          1.334413248642946,
          -0.699045807531941,
          1.4709524658441377,
          -0.634259342227294,
          0.04181877151636065,
          0.5653352088974596,
          0.4796498838171201,
          0.04181877151636065,
          0.6635598498432147,
          0.3208185495218565,
          0.4984588576152434,
          -0.18841700034585251,
          -0.9574950400913392,
          -0.262956266879156,
          1.5071771561220049,
          -0.986056815118119,
          0.912952909833146,
          -0.19677654425612953,
          -1.217337529969117,
          1.5225029866241793,
          -1.5663484882231828,
          -0.3430685626859775,
          0.105560293832223,
          -0.11596761979011826,
          0.9491776001110132,
          -1.2897869105248512,
          0.6586834492288864,
          0.9728629745234647,
          0.9840090330705007,
          -1.7321461091103438,
          0.8042788389995446,
          0.0017626236129498958,
          -0.5485740171469544,
          -0.36187753648410087,
          0.6593800778880762,
          -1.4103036685646781,
          0.05888617366650959,
          1.4347277755662706,
          -0.9609781833872879,
          -0.5430009878734364,
          0.6642564785024044,
          -1.3594497764438263,
          0.7262564291702924,
          0.5353801765523003,
          -0.8934052034458819,
          -0.7352704978098081,
          1.6708848910315965,
          -0.3291359895021825,
          -0.184237228390714,
          0.39675107337353954,
          0.9415146848599258,
          -1.4235396130892835,
          0.8314473567079449,
          -0.005900291638137381,
          0.3737623276202777,
          -0.2072259741439758,
          1.2159863765806882,
          -0.628686312953776,
          -1.8895841860872278,
          1.4939412115973996,
          0.21214447868825512,
          0.0895378346708587,
          0.026144626684591228,
          -0.7916974192041781,
          -0.25041695101374045,
          0.04181877151636065,
          0.04181877151636065,
          -1.025068020032745,
          0.09302097796680746,
          0.0010659949537601434,
          0.2929534031542664,
          0.09511086394437672,
          -1.6513371846443325,
          1.2382784936747604,
          -0.12641704967796455,
          0.2741444293561431,
          -0.36954045173518807,
          0.4998521149336229,
          -1.5405732278331619,
          0.9491776001110132,
          0.4113802752165243,
          0.8655821610082428,
          -2.0177638593781424,
          0.4120769038757141,
          0.7729305493360058,
          -0.4712482359768919,
          0.8997169653085407,
          -1.4625508180039097,
          1.0111775507789011,
          0.4587510240414275,
          0.4246162197411296,
          -0.8648434284191021,
          0.012908682159985934,
          -0.09297887403685644,
          -0.07974292951225113,
          -0.6140571111107912,
          1.016750580052419,
          0.29922306108697416,
          -1.9529773940734954,
          0.8216945554792884,
          0.41625667583085263,
          -1.0076523035530014,
          0.5681217235342186,
          0.018481711433503953,
          0.18706584695742404,
          1.315604274844823,
          -2.4789320317617585,
          1.2577840961320734,
          -0.6516750587070378,
          -0.07486652889792288,
          1.4542333780235837,
          0.40232410264705754,
          -1.0605960816514226,
          0.8091552396138729,
          -0.45034937620119936,
          -1.6771124450343533,
          1.3873570267413673,
          -0.06929349962440486,
          -0.7659221588141573,
          0.34102078063835933,
          -0.747113185016034,
          -0.17866419911719597,
          2.2219181604506906,
          -1.467427218618238,
          2.254659707432609,
          0.04181877151636065,
          0.04181877151636065,
          0.04181877151636065,
          -0.23230460587480692,
          -0.37163033771275733,
          0.6698295077759224,
          0.14108835545090037,
          -1.2013150708077525,
          -0.10203504660632322,
          -1.8777414988810022,
          0.04181877151636065,
          -0.16403499727421117,
          -0.5673829909450777,
          0.5012453722520024,
          0.8802113628512276,
          -1.537090084537213,
          0.2713579147193841,
          0.8133350115690113,
          0.18985236159418303,
          0.2616051134907275,
          -0.6307761989313453,
          -0.24623717905860196,
          -0.09019235940009743,
          0.49427908566010487,
          -0.6356525995456735,
          0.6363913321348144,
          -0.4057651420130552,
          0.8154248975465807,
          -0.06790024230602534,
          -0.37581010966789585,
          -1.256348734883743,
          0.30827923365644094,
          0.18149281768390602,
          1.2584807247912633,
          -1.5447529997883005,
          1.227829063786914,
          -1.6596967285546096,
          0.9714697172050851,
          0.10347040785465374,
          0.600863270516137,
          -2.0428424911089733,
          1.5315591591936462,
          -0.9728208705935137,
          0.6140992150407423,
          0.8627956463714838,
          -1.8192246915090629,
          0.7499418035827439,
          -0.5248886427345029,
          1.7098960959462226,
          -0.8063266210471629,
          -0.4294505164255068,
          0.8084586109546831,
          -0.7290008398771003,
          -0.8613602851231533,
          0.3382342660016003,
          -0.648191915411089,
          1.7342780990178641,
          1.2292223211052935,
          -1.9836290550778444,
          0.0073356528864679145,
          0.2588185988539685,
          1.537132188467164,
          -1.9696964818940494,
          -0.1271136783371543,
          0.20169504880040884,
          -1.104483687180377,
          1.6632219757805093,
          -0.6461020294335198,
          -0.3528213639146341,
          0.76108786212978,
          -0.6593379739581251,
          0.9477843427926336,
          -0.42109097251522976,
          -1.3956744667216934,
          0.392571301418401,
          1.0975595045184303,
          -0.2720124394486228
         ]
        },
        {
         "name": "Test",
         "type": "scatter",
         "x": [
          "2022-09-14",
          "2022-09-15",
          "2022-09-16",
          "2022-09-17",
          "2022-09-18",
          "2022-09-19",
          "2022-09-20",
          "2022-09-21",
          "2022-09-22",
          "2022-09-23",
          "2022-09-24",
          "2022-09-25",
          "2022-09-26",
          "2022-09-27",
          "2022-09-28",
          "2022-09-29",
          "2022-09-30",
          "2022-10-01",
          "2022-10-02",
          "2022-10-03",
          "2022-10-04",
          "2022-10-05",
          "2022-10-06",
          "2022-10-07",
          "2022-10-08",
          "2022-10-09",
          "2022-10-10",
          "2022-10-11",
          "2022-10-12",
          "2022-10-13",
          "2022-10-14",
          "2022-10-15",
          "2022-10-16",
          "2022-10-17",
          "2022-10-18",
          "2022-10-19",
          "2022-10-20",
          "2022-10-21",
          "2022-10-22",
          "2022-10-23",
          "2022-10-24",
          "2022-10-25",
          "2022-10-26",
          "2022-10-27",
          "2022-10-28",
          "2022-10-29",
          "2022-10-30",
          "2022-10-31",
          "2022-11-01",
          "2022-11-02",
          "2022-11-03",
          "2022-11-04",
          "2022-11-05",
          "2022-11-06",
          "2022-11-07",
          "2022-11-08",
          "2022-11-09",
          "2022-11-10",
          "2022-11-11",
          "2022-11-12",
          "2022-11-13",
          "2022-11-14",
          "2022-11-15",
          "2022-11-16",
          "2022-11-17",
          "2022-11-18",
          "2022-11-19",
          "2022-11-20",
          "2022-11-21",
          "2022-11-22",
          "2022-11-23",
          "2022-11-24",
          "2022-11-25",
          "2022-11-26",
          "2022-11-27",
          "2022-11-28",
          "2022-11-29",
          "2022-11-30",
          "2022-12-01",
          "2022-12-02",
          "2022-12-03",
          "2022-12-04",
          "2022-12-05",
          "2022-12-06",
          "2022-12-07",
          "2022-12-08",
          "2022-12-09",
          "2022-12-10",
          "2022-12-11",
          "2022-12-12",
          "2022-12-13",
          "2022-12-14",
          "2022-12-15",
          "2022-12-16",
          "2022-12-17",
          "2022-12-18",
          "2022-12-19",
          "2022-12-20",
          "2022-12-21",
          "2022-12-22",
          "2022-12-23",
          "2022-12-24",
          "2022-12-25",
          "2022-12-26",
          "2022-12-27",
          "2022-12-28",
          "2022-12-29",
          "2022-12-30"
         ],
         "y": [
          1.2877391284772328,
          -0.16612488325178043,
          -0.8432479399842198,
          -0.5374279585999184,
          0.6990879114618921,
          0.8502563305060683,
          -1.4089104112462987,
          -0.5604167043531803,
          0.9171326817882844,
          0.8168181548649601,
          -1.1421016347766235,
          -0.10482156124308223,
          0.8377170146406527,
          -0.25668660894644824,
          -1.5565956869945263,
          1.5225029866241793,
          0.04181877151636065,
          0.04181877151636065,
          0.6154924723591217,
          1.77398593259168,
          -0.5618099616715597,
          -0.6488885440702788,
          -0.12502379235958505,
          0.7924361517933188,
          -0.2782820973813306,
          1.264750382723971,
          -2.231628857749396,
          0.12297601031196681,
          1.9084352638153022,
          -1.2814273666145741,
          -0.007990177615706638,
          2.1020980310700534,
          -1.4771800198468945,
          0.2866837452215586,
          -1.3260116008027183,
          1.0655145861957018,
          -0.8188659369125785,
          -0.4392033176541633,
          1.0383460684873014,
          0.5695149808525981,
          -1.1469780353909518,
          0.4566611380638582,
          -0.15288893872717513,
          -1.1260791756152593,
          1.2431548942890887,
          -0.07625978621630237,
          0.26648151410505583,
          0.14875127070198765,
          -0.980483785844601,
          -0.963764698024047,
          1.247334666244227,
          0.33475112270565155,
          0.34798706723025685,
          -2.3974264786365573,
          0.44342519353925297,
          0.8774248482144686,
          0.4998521149336229,
          -0.2002596875520783,
          0.45805439538223774,
          -1.1630004945523162,
          -0.7039222081462693,
          0.8014923243627856,
          0.15780744327145443,
          0.23304333846394767,
          -0.634259342227294,
          0.9011102226269202,
          0.31524552024833846,
          -0.20443945950721681,
          0.07560526148706365,
          -0.7220345532852028,
          0.37167244164270846,
          -0.47960777988716896,
          1.9474464687299282,
          -1.2681914220899688,
          -0.09088898805928718,
          -0.09506876001442569,
          -0.749899699652793,
          0.04181877151636065,
          0.04181877151636065,
          0.40929038923895505,
          0.6705261364351123,
          1.2013571747377034,
          -0.46219206340742514,
          -0.2950011852018846,
          0.27902082997047134,
          -1.3608430337622057,
          1.0522786416710965,
          0.4427285648800632,
          -1.4242362417484733,
          0.6545036772737479,
          -0.2058327168255963,
          -1.525944025990177,
          1.3218739327775306,
          -1.765584284751452,
          0.8432900439141707,
          0.8767282195552789,
          0.35773986845891337,
          -1.1274724329336387,
          1.1741886570293032,
          1.3079413595937355,
          0.04181877151636065,
          2.3208394300556354,
          -0.07556315755711263,
          -1.129562318911208,
          1.950929612025877,
          0.3236050641586155,
          -1.4945957363266382,
          -0.7868210185898499
         ]
        },
        {
         "name": "Predicted",
         "type": "scatter",
         "x": [
          "2022-09-14",
          "2022-09-15",
          "2022-09-16",
          "2022-09-17",
          "2022-09-18",
          "2022-09-19",
          "2022-09-20",
          "2022-09-21",
          "2022-09-22",
          "2022-09-23",
          "2022-09-24",
          "2022-09-25",
          "2022-09-26",
          "2022-09-27",
          "2022-09-28",
          "2022-09-29",
          "2022-09-30",
          "2022-10-01",
          "2022-10-02",
          "2022-10-03",
          "2022-10-04",
          "2022-10-05",
          "2022-10-06",
          "2022-10-07",
          "2022-10-08",
          "2022-10-09",
          "2022-10-10",
          "2022-10-11",
          "2022-10-12",
          "2022-10-13",
          "2022-10-14",
          "2022-10-15",
          "2022-10-16",
          "2022-10-17",
          "2022-10-18",
          "2022-10-19",
          "2022-10-20",
          "2022-10-21",
          "2022-10-22",
          "2022-10-23",
          "2022-10-24",
          "2022-10-25",
          "2022-10-26",
          "2022-10-27",
          "2022-10-28",
          "2022-10-29",
          "2022-10-30",
          "2022-10-31",
          "2022-11-01",
          "2022-11-02",
          "2022-11-03",
          "2022-11-04",
          "2022-11-05",
          "2022-11-06",
          "2022-11-07",
          "2022-11-08",
          "2022-11-09",
          "2022-11-10",
          "2022-11-11",
          "2022-11-12",
          "2022-11-13",
          "2022-11-14",
          "2022-11-15",
          "2022-11-16",
          "2022-11-17",
          "2022-11-18",
          "2022-11-19",
          "2022-11-20",
          "2022-11-21",
          "2022-11-22",
          "2022-11-23",
          "2022-11-24",
          "2022-11-25",
          "2022-11-26",
          "2022-11-27",
          "2022-11-28",
          "2022-11-29",
          "2022-11-30",
          "2022-12-01",
          "2022-12-02",
          "2022-12-03",
          "2022-12-04",
          "2022-12-05",
          "2022-12-06",
          "2022-12-07",
          "2022-12-08",
          "2022-12-09",
          "2022-12-10",
          "2022-12-11",
          "2022-12-12",
          "2022-12-13",
          "2022-12-14",
          "2022-12-15",
          "2022-12-16",
          "2022-12-17",
          "2022-12-18",
          "2022-12-19",
          "2022-12-20",
          "2022-12-21",
          "2022-12-22",
          "2022-12-23",
          "2022-12-24",
          "2022-12-25",
          "2022-12-26",
          "2022-12-27",
          "2022-12-28",
          "2022-12-29",
          "2022-12-30"
         ],
         "y": [
          -0.3212798535823822,
          -0.5829949378967285,
          0.048790886998176575,
          0.038823604583740234,
          -0.04428701847791672,
          -0.18682095408439636,
          -0.18600527942180634,
          0.06070630997419357,
          -0.06747215986251831,
          -0.291750431060791,
          -0.5554107427597046,
          0.08238036185503006,
          -0.06377477943897247,
          -0.5252323150634766,
          -0.17374274134635925,
          0.09206467866897583,
          -0.3399711847305298,
          -0.1329696923494339,
          -0.5287225842475891,
          -0.5150141716003418,
          -0.9057378172874451,
          -0.4953298270702362,
          -0.2087780237197876,
          -0.1651725023984909,
          -0.5527117252349854,
          -0.5582493543624878,
          -0.7729283571243286,
          0.23423267900943756,
          -0.4259034991264343,
          -1.2073523998260498,
          -0.20345951616764069,
          -0.19273880124092102,
          -1.2042158842086792,
          -0.286278635263443,
          -0.568796694278717,
          -0.1477530598640442,
          -1.0476819276809692,
          -0.21752068400382996,
          -0.12593808770179749,
          -0.664172351360321,
          -0.4526970088481903,
          0.24331675469875336,
          -0.21326503157615662,
          -0.2851320207118988,
          0.16611891984939575,
          -0.22711911797523499,
          -0.18439450860023499,
          0.06395390629768372,
          -0.44802045822143555,
          -0.06835372000932693,
          0.350048303604126,
          -0.3061940670013428,
          -0.18981483578681946,
          -0.09894018620252609,
          0.6316173076629639,
          0.056921638548374176,
          -0.4101301431655884,
          -0.3383808135986328,
          -0.19509132206439972,
          -0.40236690640449524,
          0.10437803715467453,
          0.39864060282707214,
          -0.2866458296775818,
          -0.1188347190618515,
          -0.2979608178138733,
          -0.1058250144124031,
          -0.22706562280654907,
          -0.3400236964225769,
          -0.04232422262430191,
          -0.17162832617759705,
          -0.09417429566383362,
          -0.5918790102005005,
          -0.04799637198448181,
          -0.545478105545044,
          0.11211284250020981,
          -0.34472259879112244,
          -0.3334394693374634,
          0.07098638266324997,
          -0.06324250996112823,
          0.002610253170132637,
          0.014421649277210236,
          -0.4634552001953125,
          -0.7485216856002808,
          -0.361722469329834,
          -0.3202257752418518,
          -0.505874514579773,
          0.006286740303039551,
          -0.3414161503314972,
          -0.3994303345680237,
          0.22420035302639008,
          -0.30176442861557007,
          -0.25738123059272766,
          0.20546674728393555,
          -0.44869542121887207,
          0.700258731842041,
          -0.22552278637886047,
          -0.2673600912094116,
          -0.4073280692100525,
          -0.118845634162426,
          -0.7823183536529541,
          -0.8993181586265564,
          -0.5641295909881592,
          -1.236985683441162,
          -0.4927522838115692,
          -0.32898032665252686,
          -1.2305405139923096,
          -1.0667743682861328,
          -0.6239698529243469
         ]
        }
       ],
       "layout": {
        "template": {
         "data": {
          "bar": [
           {
            "error_x": {
             "color": "#2a3f5f"
            },
            "error_y": {
             "color": "#2a3f5f"
            },
            "marker": {
             "line": {
              "color": "#E5ECF6",
              "width": 0.5
             },
             "pattern": {
              "fillmode": "overlay",
              "size": 10,
              "solidity": 0.2
             }
            },
            "type": "bar"
           }
          ],
          "barpolar": [
           {
            "marker": {
             "line": {
              "color": "#E5ECF6",
              "width": 0.5
             },
             "pattern": {
              "fillmode": "overlay",
              "size": 10,
              "solidity": 0.2
             }
            },
            "type": "barpolar"
           }
          ],
          "carpet": [
           {
            "aaxis": {
             "endlinecolor": "#2a3f5f",
             "gridcolor": "white",
             "linecolor": "white",
             "minorgridcolor": "white",
             "startlinecolor": "#2a3f5f"
            },
            "baxis": {
             "endlinecolor": "#2a3f5f",
             "gridcolor": "white",
             "linecolor": "white",
             "minorgridcolor": "white",
             "startlinecolor": "#2a3f5f"
            },
            "type": "carpet"
           }
          ],
          "choropleth": [
           {
            "colorbar": {
             "outlinewidth": 0,
             "ticks": ""
            },
            "type": "choropleth"
           }
          ],
          "contour": [
           {
            "colorbar": {
             "outlinewidth": 0,
             "ticks": ""
            },
            "colorscale": [
             [
              0,
              "#0d0887"
             ],
             [
              0.1111111111111111,
              "#46039f"
             ],
             [
              0.2222222222222222,
              "#7201a8"
             ],
             [
              0.3333333333333333,
              "#9c179e"
             ],
             [
              0.4444444444444444,
              "#bd3786"
             ],
             [
              0.5555555555555556,
              "#d8576b"
             ],
             [
              0.6666666666666666,
              "#ed7953"
             ],
             [
              0.7777777777777778,
              "#fb9f3a"
             ],
             [
              0.8888888888888888,
              "#fdca26"
             ],
             [
              1,
              "#f0f921"
             ]
            ],
            "type": "contour"
           }
          ],
          "contourcarpet": [
           {
            "colorbar": {
             "outlinewidth": 0,
             "ticks": ""
            },
            "type": "contourcarpet"
           }
          ],
          "heatmap": [
           {
            "colorbar": {
             "outlinewidth": 0,
             "ticks": ""
            },
            "colorscale": [
             [
              0,
              "#0d0887"
             ],
             [
              0.1111111111111111,
              "#46039f"
             ],
             [
              0.2222222222222222,
              "#7201a8"
             ],
             [
              0.3333333333333333,
              "#9c179e"
             ],
             [
              0.4444444444444444,
              "#bd3786"
             ],
             [
              0.5555555555555556,
              "#d8576b"
             ],
             [
              0.6666666666666666,
              "#ed7953"
             ],
             [
              0.7777777777777778,
              "#fb9f3a"
             ],
             [
              0.8888888888888888,
              "#fdca26"
             ],
             [
              1,
              "#f0f921"
             ]
            ],
            "type": "heatmap"
           }
          ],
          "heatmapgl": [
           {
            "colorbar": {
             "outlinewidth": 0,
             "ticks": ""
            },
            "colorscale": [
             [
              0,
              "#0d0887"
             ],
             [
              0.1111111111111111,
              "#46039f"
             ],
             [
              0.2222222222222222,
              "#7201a8"
             ],
             [
              0.3333333333333333,
              "#9c179e"
             ],
             [
              0.4444444444444444,
              "#bd3786"
             ],
             [
              0.5555555555555556,
              "#d8576b"
             ],
             [
              0.6666666666666666,
              "#ed7953"
             ],
             [
              0.7777777777777778,
              "#fb9f3a"
             ],
             [
              0.8888888888888888,
              "#fdca26"
             ],
             [
              1,
              "#f0f921"
             ]
            ],
            "type": "heatmapgl"
           }
          ],
          "histogram": [
           {
            "marker": {
             "pattern": {
              "fillmode": "overlay",
              "size": 10,
              "solidity": 0.2
             }
            },
            "type": "histogram"
           }
          ],
          "histogram2d": [
           {
            "colorbar": {
             "outlinewidth": 0,
             "ticks": ""
            },
            "colorscale": [
             [
              0,
              "#0d0887"
             ],
             [
              0.1111111111111111,
              "#46039f"
             ],
             [
              0.2222222222222222,
              "#7201a8"
             ],
             [
              0.3333333333333333,
              "#9c179e"
             ],
             [
              0.4444444444444444,
              "#bd3786"
             ],
             [
              0.5555555555555556,
              "#d8576b"
             ],
             [
              0.6666666666666666,
              "#ed7953"
             ],
             [
              0.7777777777777778,
              "#fb9f3a"
             ],
             [
              0.8888888888888888,
              "#fdca26"
             ],
             [
              1,
              "#f0f921"
             ]
            ],
            "type": "histogram2d"
           }
          ],
          "histogram2dcontour": [
           {
            "colorbar": {
             "outlinewidth": 0,
             "ticks": ""
            },
            "colorscale": [
             [
              0,
              "#0d0887"
             ],
             [
              0.1111111111111111,
              "#46039f"
             ],
             [
              0.2222222222222222,
              "#7201a8"
             ],
             [
              0.3333333333333333,
              "#9c179e"
             ],
             [
              0.4444444444444444,
              "#bd3786"
             ],
             [
              0.5555555555555556,
              "#d8576b"
             ],
             [
              0.6666666666666666,
              "#ed7953"
             ],
             [
              0.7777777777777778,
              "#fb9f3a"
             ],
             [
              0.8888888888888888,
              "#fdca26"
             ],
             [
              1,
              "#f0f921"
             ]
            ],
            "type": "histogram2dcontour"
           }
          ],
          "mesh3d": [
           {
            "colorbar": {
             "outlinewidth": 0,
             "ticks": ""
            },
            "type": "mesh3d"
           }
          ],
          "parcoords": [
           {
            "line": {
             "colorbar": {
              "outlinewidth": 0,
              "ticks": ""
             }
            },
            "type": "parcoords"
           }
          ],
          "pie": [
           {
            "automargin": true,
            "type": "pie"
           }
          ],
          "scatter": [
           {
            "fillpattern": {
             "fillmode": "overlay",
             "size": 10,
             "solidity": 0.2
            },
            "type": "scatter"
           }
          ],
          "scatter3d": [
           {
            "line": {
             "colorbar": {
              "outlinewidth": 0,
              "ticks": ""
             }
            },
            "marker": {
             "colorbar": {
              "outlinewidth": 0,
              "ticks": ""
             }
            },
            "type": "scatter3d"
           }
          ],
          "scattercarpet": [
           {
            "marker": {
             "colorbar": {
              "outlinewidth": 0,
              "ticks": ""
             }
            },
            "type": "scattercarpet"
           }
          ],
          "scattergeo": [
           {
            "marker": {
             "colorbar": {
              "outlinewidth": 0,
              "ticks": ""
             }
            },
            "type": "scattergeo"
           }
          ],
          "scattergl": [
           {
            "marker": {
             "colorbar": {
              "outlinewidth": 0,
              "ticks": ""
             }
            },
            "type": "scattergl"
           }
          ],
          "scattermapbox": [
           {
            "marker": {
             "colorbar": {
              "outlinewidth": 0,
              "ticks": ""
             }
            },
            "type": "scattermapbox"
           }
          ],
          "scatterpolar": [
           {
            "marker": {
             "colorbar": {
              "outlinewidth": 0,
              "ticks": ""
             }
            },
            "type": "scatterpolar"
           }
          ],
          "scatterpolargl": [
           {
            "marker": {
             "colorbar": {
              "outlinewidth": 0,
              "ticks": ""
             }
            },
            "type": "scatterpolargl"
           }
          ],
          "scatterternary": [
           {
            "marker": {
             "colorbar": {
              "outlinewidth": 0,
              "ticks": ""
             }
            },
            "type": "scatterternary"
           }
          ],
          "surface": [
           {
            "colorbar": {
             "outlinewidth": 0,
             "ticks": ""
            },
            "colorscale": [
             [
              0,
              "#0d0887"
             ],
             [
              0.1111111111111111,
              "#46039f"
             ],
             [
              0.2222222222222222,
              "#7201a8"
             ],
             [
              0.3333333333333333,
              "#9c179e"
             ],
             [
              0.4444444444444444,
              "#bd3786"
             ],
             [
              0.5555555555555556,
              "#d8576b"
             ],
             [
              0.6666666666666666,
              "#ed7953"
             ],
             [
              0.7777777777777778,
              "#fb9f3a"
             ],
             [
              0.8888888888888888,
              "#fdca26"
             ],
             [
              1,
              "#f0f921"
             ]
            ],
            "type": "surface"
           }
          ],
          "table": [
           {
            "cells": {
             "fill": {
              "color": "#EBF0F8"
             },
             "line": {
              "color": "white"
             }
            },
            "header": {
             "fill": {
              "color": "#C8D4E3"
             },
             "line": {
              "color": "white"
             }
            },
            "type": "table"
           }
          ]
         },
         "layout": {
          "annotationdefaults": {
           "arrowcolor": "#2a3f5f",
           "arrowhead": 0,
           "arrowwidth": 1
          },
          "autotypenumbers": "strict",
          "coloraxis": {
           "colorbar": {
            "outlinewidth": 0,
            "ticks": ""
           }
          },
          "colorscale": {
           "diverging": [
            [
             0,
             "#8e0152"
            ],
            [
             0.1,
             "#c51b7d"
            ],
            [
             0.2,
             "#de77ae"
            ],
            [
             0.3,
             "#f1b6da"
            ],
            [
             0.4,
             "#fde0ef"
            ],
            [
             0.5,
             "#f7f7f7"
            ],
            [
             0.6,
             "#e6f5d0"
            ],
            [
             0.7,
             "#b8e186"
            ],
            [
             0.8,
             "#7fbc41"
            ],
            [
             0.9,
             "#4d9221"
            ],
            [
             1,
             "#276419"
            ]
           ],
           "sequential": [
            [
             0,
             "#0d0887"
            ],
            [
             0.1111111111111111,
             "#46039f"
            ],
            [
             0.2222222222222222,
             "#7201a8"
            ],
            [
             0.3333333333333333,
             "#9c179e"
            ],
            [
             0.4444444444444444,
             "#bd3786"
            ],
            [
             0.5555555555555556,
             "#d8576b"
            ],
            [
             0.6666666666666666,
             "#ed7953"
            ],
            [
             0.7777777777777778,
             "#fb9f3a"
            ],
            [
             0.8888888888888888,
             "#fdca26"
            ],
            [
             1,
             "#f0f921"
            ]
           ],
           "sequentialminus": [
            [
             0,
             "#0d0887"
            ],
            [
             0.1111111111111111,
             "#46039f"
            ],
            [
             0.2222222222222222,
             "#7201a8"
            ],
            [
             0.3333333333333333,
             "#9c179e"
            ],
            [
             0.4444444444444444,
             "#bd3786"
            ],
            [
             0.5555555555555556,
             "#d8576b"
            ],
            [
             0.6666666666666666,
             "#ed7953"
            ],
            [
             0.7777777777777778,
             "#fb9f3a"
            ],
            [
             0.8888888888888888,
             "#fdca26"
            ],
            [
             1,
             "#f0f921"
            ]
           ]
          },
          "colorway": [
           "#636efa",
           "#EF553B",
           "#00cc96",
           "#ab63fa",
           "#FFA15A",
           "#19d3f3",
           "#FF6692",
           "#B6E880",
           "#FF97FF",
           "#FECB52"
          ],
          "font": {
           "color": "#2a3f5f"
          },
          "geo": {
           "bgcolor": "white",
           "lakecolor": "white",
           "landcolor": "#E5ECF6",
           "showlakes": true,
           "showland": true,
           "subunitcolor": "white"
          },
          "hoverlabel": {
           "align": "left"
          },
          "hovermode": "closest",
          "mapbox": {
           "style": "light"
          },
          "paper_bgcolor": "white",
          "plot_bgcolor": "#E5ECF6",
          "polar": {
           "angularaxis": {
            "gridcolor": "white",
            "linecolor": "white",
            "ticks": ""
           },
           "bgcolor": "#E5ECF6",
           "radialaxis": {
            "gridcolor": "white",
            "linecolor": "white",
            "ticks": ""
           }
          },
          "scene": {
           "xaxis": {
            "backgroundcolor": "#E5ECF6",
            "gridcolor": "white",
            "gridwidth": 2,
            "linecolor": "white",
            "showbackground": true,
            "ticks": "",
            "zerolinecolor": "white"
           },
           "yaxis": {
            "backgroundcolor": "#E5ECF6",
            "gridcolor": "white",
            "gridwidth": 2,
            "linecolor": "white",
            "showbackground": true,
            "ticks": "",
            "zerolinecolor": "white"
           },
           "zaxis": {
            "backgroundcolor": "#E5ECF6",
            "gridcolor": "white",
            "gridwidth": 2,
            "linecolor": "white",
            "showbackground": true,
            "ticks": "",
            "zerolinecolor": "white"
           }
          },
          "shapedefaults": {
           "line": {
            "color": "#2a3f5f"
           }
          },
          "ternary": {
           "aaxis": {
            "gridcolor": "white",
            "linecolor": "white",
            "ticks": ""
           },
           "baxis": {
            "gridcolor": "white",
            "linecolor": "white",
            "ticks": ""
           },
           "bgcolor": "#E5ECF6",
           "caxis": {
            "gridcolor": "white",
            "linecolor": "white",
            "ticks": ""
           }
          },
          "title": {
           "x": 0.05
          },
          "xaxis": {
           "automargin": true,
           "gridcolor": "white",
           "linecolor": "white",
           "ticks": "",
           "title": {
            "standoff": 15
           },
           "zerolinecolor": "white",
           "zerolinewidth": 2
          },
          "yaxis": {
           "automargin": true,
           "gridcolor": "white",
           "linecolor": "white",
           "ticks": "",
           "title": {
            "standoff": 15
           },
           "zerolinecolor": "white",
           "zerolinewidth": 2
          }
         }
        },
        "title": {
         "text": " lagos_transactions Aggregated NNet & tsfresh. MAE=0.7705"
        }
       }
      }
     },
     "metadata": {},
     "output_type": "display_data"
    },
    {
     "name": "stderr",
     "output_type": "stream",
     "text": [
      "Rolling: 100%|██████████| 20/20 [00:00<00:00, 57.67it/s]\n",
      "Feature Extraction: 100%|██████████| 20/20 [00:00<00:00, 102.95it/s]\n"
     ]
    },
    {
     "data": {
      "application/vnd.plotly.v1+json": {
       "config": {
        "plotlyServerURL": "https://plot.ly"
       },
       "data": [
        {
         "name": "Train",
         "type": "scatter",
         "x": [
          "2022-01-07",
          "2022-01-08",
          "2022-01-09",
          "2022-01-10",
          "2022-01-11",
          "2022-01-12",
          "2022-01-13",
          "2022-01-14",
          "2022-01-15",
          "2022-01-16",
          "2022-01-17",
          "2022-01-18",
          "2022-01-19",
          "2022-01-20",
          "2022-01-21",
          "2022-01-22",
          "2022-01-23",
          "2022-01-24",
          "2022-01-25",
          "2022-01-26",
          "2022-01-27",
          "2022-01-28",
          "2022-01-29",
          "2022-01-30",
          "2022-01-31",
          "2022-02-01",
          "2022-02-02",
          "2022-02-03",
          "2022-02-04",
          "2022-02-05",
          "2022-02-06",
          "2022-02-07",
          "2022-02-08",
          "2022-02-09",
          "2022-02-10",
          "2022-02-11",
          "2022-02-12",
          "2022-02-13",
          "2022-02-14",
          "2022-02-15",
          "2022-02-16",
          "2022-02-17",
          "2022-02-18",
          "2022-02-19",
          "2022-02-20",
          "2022-02-21",
          "2022-02-22",
          "2022-02-23",
          "2022-02-24",
          "2022-02-25",
          "2022-02-26",
          "2022-02-27",
          "2022-02-28",
          "2022-03-01",
          "2022-03-02",
          "2022-03-03",
          "2022-03-04",
          "2022-03-05",
          "2022-03-06",
          "2022-03-07",
          "2022-03-08",
          "2022-03-09",
          "2022-03-10",
          "2022-03-11",
          "2022-03-12",
          "2022-03-13",
          "2022-03-14",
          "2022-03-15",
          "2022-03-16",
          "2022-03-17",
          "2022-03-18",
          "2022-03-19",
          "2022-03-20",
          "2022-03-21",
          "2022-03-22",
          "2022-03-23",
          "2022-03-24",
          "2022-03-25",
          "2022-03-26",
          "2022-03-27",
          "2022-03-28",
          "2022-03-29",
          "2022-03-30",
          "2022-03-31",
          "2022-04-01",
          "2022-04-02",
          "2022-04-03",
          "2022-04-04",
          "2022-04-05",
          "2022-04-06",
          "2022-04-07",
          "2022-04-08",
          "2022-04-09",
          "2022-04-10",
          "2022-04-11",
          "2022-04-12",
          "2022-04-13",
          "2022-04-14",
          "2022-04-15",
          "2022-04-16",
          "2022-04-17",
          "2022-04-18",
          "2022-04-19",
          "2022-04-20",
          "2022-04-21",
          "2022-04-22",
          "2022-04-23",
          "2022-04-24",
          "2022-04-25",
          "2022-04-26",
          "2022-04-27",
          "2022-04-28",
          "2022-04-29",
          "2022-04-30",
          "2022-05-01",
          "2022-05-02",
          "2022-05-03",
          "2022-05-04",
          "2022-05-05",
          "2022-05-06",
          "2022-05-07",
          "2022-05-08",
          "2022-05-09",
          "2022-05-10",
          "2022-05-11",
          "2022-05-12",
          "2022-05-13",
          "2022-05-14",
          "2022-05-15",
          "2022-05-16",
          "2022-05-17",
          "2022-05-18",
          "2022-05-19",
          "2022-05-20",
          "2022-05-21",
          "2022-05-22",
          "2022-05-23",
          "2022-05-24",
          "2022-05-25",
          "2022-05-26",
          "2022-05-27",
          "2022-05-28",
          "2022-05-29",
          "2022-05-30",
          "2022-05-31",
          "2022-06-01",
          "2022-06-02",
          "2022-06-03",
          "2022-06-04",
          "2022-06-05",
          "2022-06-06",
          "2022-06-07",
          "2022-06-08",
          "2022-06-09",
          "2022-06-10",
          "2022-06-11",
          "2022-06-12",
          "2022-06-13",
          "2022-06-14",
          "2022-06-15",
          "2022-06-16",
          "2022-06-17",
          "2022-06-18",
          "2022-06-19",
          "2022-06-20",
          "2022-06-21",
          "2022-06-22",
          "2022-06-23",
          "2022-06-24",
          "2022-06-25",
          "2022-06-26",
          "2022-06-27",
          "2022-06-28",
          "2022-06-29",
          "2022-06-30",
          "2022-07-01",
          "2022-07-02",
          "2022-07-03",
          "2022-07-04",
          "2022-07-05",
          "2022-07-06",
          "2022-07-07",
          "2022-07-08",
          "2022-07-09",
          "2022-07-10",
          "2022-07-11",
          "2022-07-12",
          "2022-07-13",
          "2022-07-14",
          "2022-07-15",
          "2022-07-16",
          "2022-07-17",
          "2022-07-18",
          "2022-07-19",
          "2022-07-20",
          "2022-07-21",
          "2022-07-22",
          "2022-07-23",
          "2022-07-24",
          "2022-07-25",
          "2022-07-26",
          "2022-07-27",
          "2022-07-28",
          "2022-07-29",
          "2022-07-30",
          "2022-07-31",
          "2022-08-01",
          "2022-08-02",
          "2022-08-03",
          "2022-08-04",
          "2022-08-05",
          "2022-08-06",
          "2022-08-07",
          "2022-08-08",
          "2022-08-09",
          "2022-08-10",
          "2022-08-11",
          "2022-08-12",
          "2022-08-13",
          "2022-08-14",
          "2022-08-15",
          "2022-08-16",
          "2022-08-17",
          "2022-08-18",
          "2022-08-19",
          "2022-08-20",
          "2022-08-21",
          "2022-08-22",
          "2022-08-23",
          "2022-08-24",
          "2022-08-25",
          "2022-08-26",
          "2022-08-27",
          "2022-08-28",
          "2022-08-29",
          "2022-08-30",
          "2022-08-31",
          "2022-09-01",
          "2022-09-02",
          "2022-09-03",
          "2022-09-04",
          "2022-09-05",
          "2022-09-06",
          "2022-09-07",
          "2022-09-08",
          "2022-09-09",
          "2022-09-10",
          "2022-09-11",
          "2022-09-12",
          "2022-09-13"
         ],
         "y": [
          -0.46942176458348,
          -0.1968533768530211,
          1.3699862859497423,
          0.9765621036595517,
          -1.7688358394242838,
          1.7505534688186848,
          -1.4594107200195805,
          0.5959949207906091,
          -1.3668403241865945,
          0.9859905699018002,
          -0.19256771037927173,
          0.6225660529278552,
          0.6859939167393455,
          -2.0885465583659855,
          2.2494050463631097,
          -1.5374098498418187,
          -0.8628459468736706,
          0.6585656513073497,
          0.7314219813610887,
          -2.2411162848314623,
          1.8585522639571685,
          -0.5251354287422215,
          0.8368493766153228,
          -2.4768279408876768,
          2.499687968430072,
          -0.3091378384652541,
          0.1588569404681752,
          0.7742786460985822,
          -1.7131221752655421,
          0.6979937828658438,
          0.5908521210221099,
          -1.1928422653523707,
          -0.11199718067278391,
          -0.5328496283949704,
          -0.06999764923004026,
          0.3482833986078966,
          2.2314052471733623,
          -2.1742598878409725,
          1.8799805963259153,
          -2.291687149221705,
          1.212273759715766,
          0.18628520590017106,
          -1.2331275302056146,
          0.41085412912463715,
          -0.9854160080229021,
          0.19485653884766976,
          2.5202591675040686,
          -1.1756995994573733,
          0.42542539513538496,
          0.15371414069967598,
          -0.6785622885024484,
          -0.26113837395926137,
          0.010572880476447579,
          0.45285366056738074,
          1.3425580205177465,
          0.010572880476447579,
          0.8128496443623264,
          -0.482278764004728,
          -0.7625613513879357,
          0.02685841307669512,
          0.5634238555901141,
          -0.36485150262399574,
          0.9568480378803047,
          -1.0839863369191372,
          0.4151397955983865,
          0.9662765041225533,
          0.6534228515388505,
          -0.9391308101064091,
          0.3748545307451426,
          -1.5245528504205708,
          0.22057053769016588,
          1.171988494862522,
          -2.001118962301499,
          0.8531349092155703,
          0.3517119317868961,
          1.0905608318612845,
          -1.157699800267626,
          0.4691391931676283,
          -1.0634151378451402,
          0.09114341018293541,
          0.6868510500340954,
          -0.43942209926723447,
          0.23428467040616383,
          -0.42827936643548614,
          0.6611370511915993,
          -0.1385683128100299,
          -0.49685003001547584,
          -0.38542270169799264,
          0.8985629738373134,
          -0.9991301407389,
          -0.29370943915975645,
          1.6579830729856988,
          -0.5431352279319689,
          -0.5611350271217161,
          -0.3837084351084929,
          -0.08285464865128832,
          0.9002772404268132,
          0.7185649819398406,
          -1.5896949808215608,
          0.09457194336193489,
          -0.6691338222601998,
          0.010572880476447579,
          -1.3068409935541034,
          0.649994318359851,
          -0.5654206935954655,
          0.8634205087525688,
          0.4202825953668857,
          -1.7799785722560322,
          0.11857167561493129,
          -0.2345672418220154,
          -0.1582823785892769,
          0.6259945861068547,
          -1.19712793182612,
          0.010572880476447579,
          0.010572880476447579,
          0.45285366056738074,
          -1.436268121061334,
          1.7136967371444405,
          -1.2159848643106173,
          -0.19513911026352135,
          1.18655976087327,
          -0.15742524529452703,
          0.12800014185717987,
          -1.5442669161998177,
          0.3525690650816459,
          0.19742793873191938,
          0.14000000798367804,
          -0.8748458130001687,
          1.326272487917499,
          -0.19771051014777097,
          -0.18056784425277356,
          0.8359922433205729,
          -0.8542746139261719,
          0.15628554058392558,
          1.0082760355652969,
          -0.283423839622758,
          -1.1294144015408802,
          -0.7719898176301843,
          0.18885660578442068,
          1.2894157562432544,
          -1.2254133305528658,
          0.6997080494553435,
          -0.9751304084859036,
          0.7211363818240902,
          0.14771420763642687,
          -0.003998385534300221,
          -0.8448461476839233,
          -0.4471362989199833,
          2.1319777849823773,
          -1.382268723492092,
          0.5857093212536107,
          -0.6974192209869455,
          0.4005685295876387,
          1.4239856835189841,
          -1.1894137321733713,
          -0.15999664517877665,
          0.9774192369543016,
          -1.674551177001798,
          0.9405625052800571,
          0.12028594220443102,
          0.44085379444088263,
          -0.7659898845669352,
          0.32942646612339943,
          -0.6982763542816954,
          -0.06828338264054051,
          -0.5054213629629746,
          1.941694193547906,
          0.5231385907368702,
          0.338854932365648,
          -2.3988288110654388,
          0.8668490419315682,
          -1.0291298060551455,
          0.9097057066690618,
          -0.44542203233048355,
          0.010572880476447579,
          0.010572880476447579,
          0.8874202410055652,
          -0.5337067616897203,
          0.7879927788145802,
          0.4159969288931364,
          0.8702775751105677,
          -0.7762754841039337,
          0.25914153595391004,
          -1.7156935751497917,
          1.325415354622749,
          -0.5748491598377141,
          1.311701221906751,
          -0.9442736098749083,
          0.34056919895514776,
          -1.2142705977211175,
          0.7417075808980872,
          -0.11199718067278391,
          0.014001413655447062,
          -0.9999872740336498,
          1.6982683378389427,
          -1.6839796432440466,
          1.0194187683970453,
          0.15114274081542636,
          -0.15399671211552757,
          0.11685740902543154,
          -0.26799544031726036,
          0.11257174255168219,
          -1.0008444073283997,
          1.0939893650402839,
          -0.760847084798436,
          1.5028419466359721,
          -0.11885424703078287,
          -0.1411397126942795,
          -0.49342149683647635,
          -0.31170923834950376,
          1.18655976087327,
          -2.0225472946702454,
          1.6254120077852037,
          -0.7231332198294417,
          -0.4437077657409838,
          1.3271296212122488,
          -0.6785622885024484,
          -0.22685304216926655,
          -0.03142665096629608,
          0.5462811896951166,
          0.17257107318417314,
          -0.47027889787822985,
          -0.23799577500101488,
          -1.0351297391183947,
          1.8516951975991696,
          -0.5319924951002205,
          -0.36485150262399574,
          1.040847100765792,
          -1.5459811827893175,
          -0.0279981177872966,
          1.153988695672775,
          0.5068530581366226,
          -2.283972949568956,
          1.1342746298935278,
          -0.35885156956074665,
          0.5222814574421203,
          -0.2919951725702567,
          0.03971541249794318,
          0.13485720821517883,
          -0.02885525108204647,
          0.4811390592941265,
          -1.4259825215243356,
          1.4274142166979835,
          -1.9496909646165064,
          1.974265258748401,
          -1.085700603508637,
          0.08342921053018658,
          -0.06314058287204129,
          1.1642742952097733,
          -0.9699876087174044
         ]
        },
        {
         "name": "Test",
         "type": "scatter",
         "x": [
          "2022-09-14",
          "2022-09-15",
          "2022-09-16",
          "2022-09-17",
          "2022-09-18",
          "2022-09-19",
          "2022-09-20",
          "2022-09-21",
          "2022-09-22",
          "2022-09-23",
          "2022-09-24",
          "2022-09-25",
          "2022-09-26",
          "2022-09-27",
          "2022-09-28",
          "2022-09-29",
          "2022-09-30",
          "2022-10-01",
          "2022-10-02",
          "2022-10-03",
          "2022-10-04",
          "2022-10-05",
          "2022-10-06",
          "2022-10-07",
          "2022-10-08",
          "2022-10-09",
          "2022-10-10",
          "2022-10-11",
          "2022-10-12",
          "2022-10-13",
          "2022-10-14",
          "2022-10-15",
          "2022-10-16",
          "2022-10-17",
          "2022-10-18",
          "2022-10-19",
          "2022-10-20",
          "2022-10-21",
          "2022-10-22",
          "2022-10-23",
          "2022-10-24",
          "2022-10-25",
          "2022-10-26",
          "2022-10-27",
          "2022-10-28",
          "2022-10-29",
          "2022-10-30",
          "2022-10-31",
          "2022-11-01",
          "2022-11-02",
          "2022-11-03",
          "2022-11-04",
          "2022-11-05",
          "2022-11-06",
          "2022-11-07",
          "2022-11-08",
          "2022-11-09",
          "2022-11-10",
          "2022-11-11",
          "2022-11-12",
          "2022-11-13",
          "2022-11-14",
          "2022-11-15",
          "2022-11-16",
          "2022-11-17",
          "2022-11-18",
          "2022-11-19",
          "2022-11-20",
          "2022-11-21",
          "2022-11-22",
          "2022-11-23",
          "2022-11-24",
          "2022-11-25",
          "2022-11-26",
          "2022-11-27",
          "2022-11-28",
          "2022-11-29",
          "2022-11-30",
          "2022-12-01",
          "2022-12-02",
          "2022-12-03",
          "2022-12-04",
          "2022-12-05",
          "2022-12-06",
          "2022-12-07",
          "2022-12-08",
          "2022-12-09",
          "2022-12-10",
          "2022-12-11",
          "2022-12-12",
          "2022-12-13",
          "2022-12-14",
          "2022-12-15",
          "2022-12-16",
          "2022-12-17",
          "2022-12-18",
          "2022-12-19",
          "2022-12-20",
          "2022-12-21",
          "2022-12-22",
          "2022-12-23",
          "2022-12-24",
          "2022-12-25",
          "2022-12-26",
          "2022-12-27",
          "2022-12-28",
          "2022-12-29",
          "2022-12-30"
         ],
         "y": [
          -0.12313991350453223,
          0.6705655174338478,
          -0.9014169451374148,
          -0.27656677326475904,
          -0.4334221662039854,
          0.033715479434694086,
          2.080549787297385,
          -0.35456590308699726,
          -1.118271668709132,
          1.6442689402697008,
          -0.7128476202924432,
          0.7699929796248329,
          -0.6862764881551973,
          -1.1199859352986317,
          -0.018569651545048024,
          0.2917126011544051,
          0.010572880476447579,
          0.010572880476447579,
          0.9868477031965501,
          -0.661419622607451,
          1.2842729564747553,
          -0.8628459468736706,
          0.4159969288931364,
          -0.2139960427480185,
          0.9979904360282984,
          -0.9339880103379098,
          -0.5602778938269662,
          0.23514180370091367,
          2.4799739026508245,
          -2.2745444833267072,
          0.37056886427139324,
          -0.986273141317652,
          -1.0411296721816437,
          2.5091164346723205,
          -1.5871235809373112,
          1.0717038993767873,
          -0.3502802366132479,
          -0.5525636941742175,
          -0.2859952395070076,
          0.18971373907917055,
          -0.2225673756955172,
          -0.2722811067910097,
          0.8368493766153228,
          -0.08971171500928728,
          -0.5654206935954655,
          0.78884991210933,
          0.8711347084053176,
          -0.356280169676497,
          -1.4508393870720817,
          0.5925663876116096,
          0.4434251943251322,
          -0.4274222331407363,
          0.4468537275041317,
          -0.6245628909332066,
          0.8385636432048226,
          -1.1774138660468731,
          0.5359955901581182,
          0.09114341018293541,
          0.58999498772736,
          -1.1259858683618809,
          -0.28428097291750787,
          0.007144347297448096,
          1.1282746968302788,
          0.3859972635768909,
          -1.6599799109910502,
          0.9157056397323109,
          -0.7334188193664402,
          1.9382656603689066,
          -2.371400545633443,
          0.010572880476447579,
          -1.9419767649637576,
          0.26257006913290953,
          0.010572880476447579,
          1.4676994815512274,
          1.1222747637670296,
          -0.6579910894284515,
          -0.009141185302799445,
          0.010572880476447579,
          0.010572880476447579,
          0.829135176962574,
          0.5805665214851115,
          -1.0642722711398902,
          0.6422801187071021,
          0.3568547315553953,
          0.05685807839294059,
          -0.38113703522424325,
          0.8977058405425636,
          -2.0002618290067486,
          1.332272420980748,
          0.22999900393241446,
          -0.8371319480311744,
          1.0228473015760446,
          -0.8757029462949186,
          -0.6031345585644597,
          0.6097090535066071,
          0.6534228515388505,
          -1.912834232942262,
          -0.24656710794851358,
          1.1119891642300312,
          0.9397053719853072,
          -0.7317045527769404,
          -1.091700536571886,
          0.9225627060903099,
          0.398854262998139,
          0.15114274081542636,
          -1.1259858683618809,
          0.954276637996055,
          1.2174165594842654
         ]
        },
        {
         "name": "Predicted",
         "type": "scatter",
         "x": [
          "2022-09-14",
          "2022-09-15",
          "2022-09-16",
          "2022-09-17",
          "2022-09-18",
          "2022-09-19",
          "2022-09-20",
          "2022-09-21",
          "2022-09-22",
          "2022-09-23",
          "2022-09-24",
          "2022-09-25",
          "2022-09-26",
          "2022-09-27",
          "2022-09-28",
          "2022-09-29",
          "2022-09-30",
          "2022-10-01",
          "2022-10-02",
          "2022-10-03",
          "2022-10-04",
          "2022-10-05",
          "2022-10-06",
          "2022-10-07",
          "2022-10-08",
          "2022-10-09",
          "2022-10-10",
          "2022-10-11",
          "2022-10-12",
          "2022-10-13",
          "2022-10-14",
          "2022-10-15",
          "2022-10-16",
          "2022-10-17",
          "2022-10-18",
          "2022-10-19",
          "2022-10-20",
          "2022-10-21",
          "2022-10-22",
          "2022-10-23",
          "2022-10-24",
          "2022-10-25",
          "2022-10-26",
          "2022-10-27",
          "2022-10-28",
          "2022-10-29",
          "2022-10-30",
          "2022-10-31",
          "2022-11-01",
          "2022-11-02",
          "2022-11-03",
          "2022-11-04",
          "2022-11-05",
          "2022-11-06",
          "2022-11-07",
          "2022-11-08",
          "2022-11-09",
          "2022-11-10",
          "2022-11-11",
          "2022-11-12",
          "2022-11-13",
          "2022-11-14",
          "2022-11-15",
          "2022-11-16",
          "2022-11-17",
          "2022-11-18",
          "2022-11-19",
          "2022-11-20",
          "2022-11-21",
          "2022-11-22",
          "2022-11-23",
          "2022-11-24",
          "2022-11-25",
          "2022-11-26",
          "2022-11-27",
          "2022-11-28",
          "2022-11-29",
          "2022-11-30",
          "2022-12-01",
          "2022-12-02",
          "2022-12-03",
          "2022-12-04",
          "2022-12-05",
          "2022-12-06",
          "2022-12-07",
          "2022-12-08",
          "2022-12-09",
          "2022-12-10",
          "2022-12-11",
          "2022-12-12",
          "2022-12-13",
          "2022-12-14",
          "2022-12-15",
          "2022-12-16",
          "2022-12-17",
          "2022-12-18",
          "2022-12-19",
          "2022-12-20",
          "2022-12-21",
          "2022-12-22",
          "2022-12-23",
          "2022-12-24",
          "2022-12-25",
          "2022-12-26",
          "2022-12-27",
          "2022-12-28",
          "2022-12-29",
          "2022-12-30"
         ],
         "y": [
          -0.052331455051898956,
          -0.25752508640289307,
          -0.1652671992778778,
          0.394487589597702,
          -0.16410693526268005,
          0.2649667263031006,
          0.02110249549150467,
          -0.5786135196685791,
          -0.26885589957237244,
          0.1823536455631256,
          -0.4578414261341095,
          -0.09179490804672241,
          -0.24760755896568298,
          -0.23194332420825958,
          0.29146677255630493,
          -0.3409236669540405,
          0.04161481559276581,
          -0.0436122789978981,
          -0.1642352193593979,
          -0.3654972314834595,
          0.11670337617397308,
          -0.60211181640625,
          -0.22745181620121002,
          -0.2528836727142334,
          -0.20329955220222473,
          -0.7516133189201355,
          -0.23508599400520325,
          -0.28747010231018066,
          -0.13658291101455688,
          -1.0030932426452637,
          0.10437536239624023,
          -0.02966274321079254,
          0.09673165529966354,
          0.5433940887451172,
          -0.6794887781143188,
          0.036257304251194,
          -0.6592599749565125,
          -0.19275735318660736,
          0.04030393064022064,
          -0.0706530213356018,
          0.12049128115177155,
          0.0033582113683223724,
          0.28156453371047974,
          -0.27695947885513306,
          0.08911357820034027,
          0.294482558965683,
          -0.016610287129878998,
          -0.21339920163154602,
          -0.14948007464408875,
          0.3021430969238281,
          0.2311667799949646,
          -0.08418182283639908,
          0.25970131158828735,
          -0.2594969868659973,
          -0.02731151133775711,
          -0.19857265055179596,
          0.04627460986375809,
          -0.23967809975147247,
          -0.1364067643880844,
          -0.38279828429222107,
          -0.10824457556009293,
          0.003896661102771759,
          -0.19775742292404175,
          -0.6131933927536011,
          -0.5041476488113403,
          0.21107259392738342,
          -0.44708582758903503,
          -0.0020434483885765076,
          -0.40387800335884094,
          0.5212274193763733,
          -0.10157901048660278,
          0.551033079624176,
          0.36593207716941833,
          0.39442819356918335,
          -0.14909285306930542,
          -0.27855780720710754,
          0.17560401558876038,
          -0.12594076991081238,
          -0.1264665424823761,
          0.02064904011785984,
          -0.0889820009469986,
          -0.4652712941169739,
          0.051576972007751465,
          -0.42445141077041626,
          -0.2528955936431885,
          -0.23628541827201843,
          -0.2376132756471634,
          -0.37559470534324646,
          0.15018028020858765,
          -0.19020779430866241,
          -0.5464670658111572,
          -0.24563699960708618,
          -1.1472011804580688,
          -0.4900439381599426,
          -0.3704933822154999,
          -0.5590692162513733,
          -0.3545971214771271,
          0.15201956033706665,
          -0.08013828843832016,
          -0.607895016670227,
          -0.632354199886322,
          -0.017186827957630157,
          0.2339661717414856,
          -0.3246256113052368,
          -0.3106590509414673,
          -0.22778666019439697,
          0.0817648321390152,
          -0.3583275079727173
         ]
        }
       ],
       "layout": {
        "template": {
         "data": {
          "bar": [
           {
            "error_x": {
             "color": "#2a3f5f"
            },
            "error_y": {
             "color": "#2a3f5f"
            },
            "marker": {
             "line": {
              "color": "#E5ECF6",
              "width": 0.5
             },
             "pattern": {
              "fillmode": "overlay",
              "size": 10,
              "solidity": 0.2
             }
            },
            "type": "bar"
           }
          ],
          "barpolar": [
           {
            "marker": {
             "line": {
              "color": "#E5ECF6",
              "width": 0.5
             },
             "pattern": {
              "fillmode": "overlay",
              "size": 10,
              "solidity": 0.2
             }
            },
            "type": "barpolar"
           }
          ],
          "carpet": [
           {
            "aaxis": {
             "endlinecolor": "#2a3f5f",
             "gridcolor": "white",
             "linecolor": "white",
             "minorgridcolor": "white",
             "startlinecolor": "#2a3f5f"
            },
            "baxis": {
             "endlinecolor": "#2a3f5f",
             "gridcolor": "white",
             "linecolor": "white",
             "minorgridcolor": "white",
             "startlinecolor": "#2a3f5f"
            },
            "type": "carpet"
           }
          ],
          "choropleth": [
           {
            "colorbar": {
             "outlinewidth": 0,
             "ticks": ""
            },
            "type": "choropleth"
           }
          ],
          "contour": [
           {
            "colorbar": {
             "outlinewidth": 0,
             "ticks": ""
            },
            "colorscale": [
             [
              0,
              "#0d0887"
             ],
             [
              0.1111111111111111,
              "#46039f"
             ],
             [
              0.2222222222222222,
              "#7201a8"
             ],
             [
              0.3333333333333333,
              "#9c179e"
             ],
             [
              0.4444444444444444,
              "#bd3786"
             ],
             [
              0.5555555555555556,
              "#d8576b"
             ],
             [
              0.6666666666666666,
              "#ed7953"
             ],
             [
              0.7777777777777778,
              "#fb9f3a"
             ],
             [
              0.8888888888888888,
              "#fdca26"
             ],
             [
              1,
              "#f0f921"
             ]
            ],
            "type": "contour"
           }
          ],
          "contourcarpet": [
           {
            "colorbar": {
             "outlinewidth": 0,
             "ticks": ""
            },
            "type": "contourcarpet"
           }
          ],
          "heatmap": [
           {
            "colorbar": {
             "outlinewidth": 0,
             "ticks": ""
            },
            "colorscale": [
             [
              0,
              "#0d0887"
             ],
             [
              0.1111111111111111,
              "#46039f"
             ],
             [
              0.2222222222222222,
              "#7201a8"
             ],
             [
              0.3333333333333333,
              "#9c179e"
             ],
             [
              0.4444444444444444,
              "#bd3786"
             ],
             [
              0.5555555555555556,
              "#d8576b"
             ],
             [
              0.6666666666666666,
              "#ed7953"
             ],
             [
              0.7777777777777778,
              "#fb9f3a"
             ],
             [
              0.8888888888888888,
              "#fdca26"
             ],
             [
              1,
              "#f0f921"
             ]
            ],
            "type": "heatmap"
           }
          ],
          "heatmapgl": [
           {
            "colorbar": {
             "outlinewidth": 0,
             "ticks": ""
            },
            "colorscale": [
             [
              0,
              "#0d0887"
             ],
             [
              0.1111111111111111,
              "#46039f"
             ],
             [
              0.2222222222222222,
              "#7201a8"
             ],
             [
              0.3333333333333333,
              "#9c179e"
             ],
             [
              0.4444444444444444,
              "#bd3786"
             ],
             [
              0.5555555555555556,
              "#d8576b"
             ],
             [
              0.6666666666666666,
              "#ed7953"
             ],
             [
              0.7777777777777778,
              "#fb9f3a"
             ],
             [
              0.8888888888888888,
              "#fdca26"
             ],
             [
              1,
              "#f0f921"
             ]
            ],
            "type": "heatmapgl"
           }
          ],
          "histogram": [
           {
            "marker": {
             "pattern": {
              "fillmode": "overlay",
              "size": 10,
              "solidity": 0.2
             }
            },
            "type": "histogram"
           }
          ],
          "histogram2d": [
           {
            "colorbar": {
             "outlinewidth": 0,
             "ticks": ""
            },
            "colorscale": [
             [
              0,
              "#0d0887"
             ],
             [
              0.1111111111111111,
              "#46039f"
             ],
             [
              0.2222222222222222,
              "#7201a8"
             ],
             [
              0.3333333333333333,
              "#9c179e"
             ],
             [
              0.4444444444444444,
              "#bd3786"
             ],
             [
              0.5555555555555556,
              "#d8576b"
             ],
             [
              0.6666666666666666,
              "#ed7953"
             ],
             [
              0.7777777777777778,
              "#fb9f3a"
             ],
             [
              0.8888888888888888,
              "#fdca26"
             ],
             [
              1,
              "#f0f921"
             ]
            ],
            "type": "histogram2d"
           }
          ],
          "histogram2dcontour": [
           {
            "colorbar": {
             "outlinewidth": 0,
             "ticks": ""
            },
            "colorscale": [
             [
              0,
              "#0d0887"
             ],
             [
              0.1111111111111111,
              "#46039f"
             ],
             [
              0.2222222222222222,
              "#7201a8"
             ],
             [
              0.3333333333333333,
              "#9c179e"
             ],
             [
              0.4444444444444444,
              "#bd3786"
             ],
             [
              0.5555555555555556,
              "#d8576b"
             ],
             [
              0.6666666666666666,
              "#ed7953"
             ],
             [
              0.7777777777777778,
              "#fb9f3a"
             ],
             [
              0.8888888888888888,
              "#fdca26"
             ],
             [
              1,
              "#f0f921"
             ]
            ],
            "type": "histogram2dcontour"
           }
          ],
          "mesh3d": [
           {
            "colorbar": {
             "outlinewidth": 0,
             "ticks": ""
            },
            "type": "mesh3d"
           }
          ],
          "parcoords": [
           {
            "line": {
             "colorbar": {
              "outlinewidth": 0,
              "ticks": ""
             }
            },
            "type": "parcoords"
           }
          ],
          "pie": [
           {
            "automargin": true,
            "type": "pie"
           }
          ],
          "scatter": [
           {
            "fillpattern": {
             "fillmode": "overlay",
             "size": 10,
             "solidity": 0.2
            },
            "type": "scatter"
           }
          ],
          "scatter3d": [
           {
            "line": {
             "colorbar": {
              "outlinewidth": 0,
              "ticks": ""
             }
            },
            "marker": {
             "colorbar": {
              "outlinewidth": 0,
              "ticks": ""
             }
            },
            "type": "scatter3d"
           }
          ],
          "scattercarpet": [
           {
            "marker": {
             "colorbar": {
              "outlinewidth": 0,
              "ticks": ""
             }
            },
            "type": "scattercarpet"
           }
          ],
          "scattergeo": [
           {
            "marker": {
             "colorbar": {
              "outlinewidth": 0,
              "ticks": ""
             }
            },
            "type": "scattergeo"
           }
          ],
          "scattergl": [
           {
            "marker": {
             "colorbar": {
              "outlinewidth": 0,
              "ticks": ""
             }
            },
            "type": "scattergl"
           }
          ],
          "scattermapbox": [
           {
            "marker": {
             "colorbar": {
              "outlinewidth": 0,
              "ticks": ""
             }
            },
            "type": "scattermapbox"
           }
          ],
          "scatterpolar": [
           {
            "marker": {
             "colorbar": {
              "outlinewidth": 0,
              "ticks": ""
             }
            },
            "type": "scatterpolar"
           }
          ],
          "scatterpolargl": [
           {
            "marker": {
             "colorbar": {
              "outlinewidth": 0,
              "ticks": ""
             }
            },
            "type": "scatterpolargl"
           }
          ],
          "scatterternary": [
           {
            "marker": {
             "colorbar": {
              "outlinewidth": 0,
              "ticks": ""
             }
            },
            "type": "scatterternary"
           }
          ],
          "surface": [
           {
            "colorbar": {
             "outlinewidth": 0,
             "ticks": ""
            },
            "colorscale": [
             [
              0,
              "#0d0887"
             ],
             [
              0.1111111111111111,
              "#46039f"
             ],
             [
              0.2222222222222222,
              "#7201a8"
             ],
             [
              0.3333333333333333,
              "#9c179e"
             ],
             [
              0.4444444444444444,
              "#bd3786"
             ],
             [
              0.5555555555555556,
              "#d8576b"
             ],
             [
              0.6666666666666666,
              "#ed7953"
             ],
             [
              0.7777777777777778,
              "#fb9f3a"
             ],
             [
              0.8888888888888888,
              "#fdca26"
             ],
             [
              1,
              "#f0f921"
             ]
            ],
            "type": "surface"
           }
          ],
          "table": [
           {
            "cells": {
             "fill": {
              "color": "#EBF0F8"
             },
             "line": {
              "color": "white"
             }
            },
            "header": {
             "fill": {
              "color": "#C8D4E3"
             },
             "line": {
              "color": "white"
             }
            },
            "type": "table"
           }
          ]
         },
         "layout": {
          "annotationdefaults": {
           "arrowcolor": "#2a3f5f",
           "arrowhead": 0,
           "arrowwidth": 1
          },
          "autotypenumbers": "strict",
          "coloraxis": {
           "colorbar": {
            "outlinewidth": 0,
            "ticks": ""
           }
          },
          "colorscale": {
           "diverging": [
            [
             0,
             "#8e0152"
            ],
            [
             0.1,
             "#c51b7d"
            ],
            [
             0.2,
             "#de77ae"
            ],
            [
             0.3,
             "#f1b6da"
            ],
            [
             0.4,
             "#fde0ef"
            ],
            [
             0.5,
             "#f7f7f7"
            ],
            [
             0.6,
             "#e6f5d0"
            ],
            [
             0.7,
             "#b8e186"
            ],
            [
             0.8,
             "#7fbc41"
            ],
            [
             0.9,
             "#4d9221"
            ],
            [
             1,
             "#276419"
            ]
           ],
           "sequential": [
            [
             0,
             "#0d0887"
            ],
            [
             0.1111111111111111,
             "#46039f"
            ],
            [
             0.2222222222222222,
             "#7201a8"
            ],
            [
             0.3333333333333333,
             "#9c179e"
            ],
            [
             0.4444444444444444,
             "#bd3786"
            ],
            [
             0.5555555555555556,
             "#d8576b"
            ],
            [
             0.6666666666666666,
             "#ed7953"
            ],
            [
             0.7777777777777778,
             "#fb9f3a"
            ],
            [
             0.8888888888888888,
             "#fdca26"
            ],
            [
             1,
             "#f0f921"
            ]
           ],
           "sequentialminus": [
            [
             0,
             "#0d0887"
            ],
            [
             0.1111111111111111,
             "#46039f"
            ],
            [
             0.2222222222222222,
             "#7201a8"
            ],
            [
             0.3333333333333333,
             "#9c179e"
            ],
            [
             0.4444444444444444,
             "#bd3786"
            ],
            [
             0.5555555555555556,
             "#d8576b"
            ],
            [
             0.6666666666666666,
             "#ed7953"
            ],
            [
             0.7777777777777778,
             "#fb9f3a"
            ],
            [
             0.8888888888888888,
             "#fdca26"
            ],
            [
             1,
             "#f0f921"
            ]
           ]
          },
          "colorway": [
           "#636efa",
           "#EF553B",
           "#00cc96",
           "#ab63fa",
           "#FFA15A",
           "#19d3f3",
           "#FF6692",
           "#B6E880",
           "#FF97FF",
           "#FECB52"
          ],
          "font": {
           "color": "#2a3f5f"
          },
          "geo": {
           "bgcolor": "white",
           "lakecolor": "white",
           "landcolor": "#E5ECF6",
           "showlakes": true,
           "showland": true,
           "subunitcolor": "white"
          },
          "hoverlabel": {
           "align": "left"
          },
          "hovermode": "closest",
          "mapbox": {
           "style": "light"
          },
          "paper_bgcolor": "white",
          "plot_bgcolor": "#E5ECF6",
          "polar": {
           "angularaxis": {
            "gridcolor": "white",
            "linecolor": "white",
            "ticks": ""
           },
           "bgcolor": "#E5ECF6",
           "radialaxis": {
            "gridcolor": "white",
            "linecolor": "white",
            "ticks": ""
           }
          },
          "scene": {
           "xaxis": {
            "backgroundcolor": "#E5ECF6",
            "gridcolor": "white",
            "gridwidth": 2,
            "linecolor": "white",
            "showbackground": true,
            "ticks": "",
            "zerolinecolor": "white"
           },
           "yaxis": {
            "backgroundcolor": "#E5ECF6",
            "gridcolor": "white",
            "gridwidth": 2,
            "linecolor": "white",
            "showbackground": true,
            "ticks": "",
            "zerolinecolor": "white"
           },
           "zaxis": {
            "backgroundcolor": "#E5ECF6",
            "gridcolor": "white",
            "gridwidth": 2,
            "linecolor": "white",
            "showbackground": true,
            "ticks": "",
            "zerolinecolor": "white"
           }
          },
          "shapedefaults": {
           "line": {
            "color": "#2a3f5f"
           }
          },
          "ternary": {
           "aaxis": {
            "gridcolor": "white",
            "linecolor": "white",
            "ticks": ""
           },
           "baxis": {
            "gridcolor": "white",
            "linecolor": "white",
            "ticks": ""
           },
           "bgcolor": "#E5ECF6",
           "caxis": {
            "gridcolor": "white",
            "linecolor": "white",
            "ticks": ""
           }
          },
          "title": {
           "x": 0.05
          },
          "xaxis": {
           "automargin": true,
           "gridcolor": "white",
           "linecolor": "white",
           "ticks": "",
           "title": {
            "standoff": 15
           },
           "zerolinecolor": "white",
           "zerolinewidth": 2
          },
          "yaxis": {
           "automargin": true,
           "gridcolor": "white",
           "linecolor": "white",
           "ticks": "",
           "title": {
            "standoff": 15
           },
           "zerolinecolor": "white",
           "zerolinewidth": 2
          }
         }
        },
        "title": {
         "text": " rivers_transactions Aggregated NNet & tsfresh. MAE=0.7109"
        }
       }
      }
     },
     "metadata": {},
     "output_type": "display_data"
    }
   ],
   "source": [
    "avg_model = avg_models(models)\n",
    "for ts in tss:\n",
    "    X_train, X_test, y_train, y_test = extractor_ts(ts, best_features=best_features)\n",
    "    X_train = X_train.merge(calendar, left_index=True, right_index=True)\n",
    "    X_test = X_test.merge(calendar, left_index=True, right_index=True)\n",
    "\n",
    "    # train_history, history = train(avg_model, X_train, X_test, y_train, y_test)\n",
    "    dfX_train = X_train\n",
    "    dfX_test = X_test\n",
    "    dfy_train = y_train\n",
    "    dfy_test = y_test\n",
    "\n",
    "    dfy_pred = pd.Series(avg_model(torch.tensor(X_test.values, dtype=torch.float32)).detach(\n",
    "    ).numpy().reshape(-1), index=dfy_test.index)\n",
    "\n",
    "    mae = MAE(dfy_test, dfy_pred)\n",
    "    training_result.loc[ts.name, 'aggr'] = np.round(mae, 2)\n",
    "    fig = go.Figure()\n",
    "    fig.update_layout(\n",
    "        title_text=f\" {ts.name} Aggregated NNet & tsfresh. MAE={MAE(dfy_test, dfy_pred):.4f}\")\n",
    "    fig.add_trace(go.Scatter(x=dfy_train.index, y=dfy_train, name=\"Train\"))\n",
    "    fig.add_trace(go.Scatter(x=dfy_test.index, y=dfy_test, name=\"Test\"))\n",
    "    fig.add_trace(go.Scatter(x=dfy_pred.index, y=dfy_pred, name=\"Predicted\"))\n",
    "    fig.show()"
   ]
  },
  {
   "cell_type": "code",
   "execution_count": 97,
   "metadata": {},
   "outputs": [
    {
     "data": {
      "text/plain": [
       "<AxesSubplot: >"
      ]
     },
     "execution_count": 97,
     "metadata": {},
     "output_type": "execute_result"
    },
    {
     "data": {
      "image/png": "[encoded data removed]",
      "text/plain": [
       "<Figure size 640x480 with 2 Axes>"
      ]
     },
     "metadata": {},
     "output_type": "display_data"
    }
   ],
   "source": [
    "training_result=training_result.astype(float)\n",
    "sns.heatmap(training_result,cmap=\"Blues\", annot=True)"
   ]
  },
  {
   "cell_type": "code",
   "execution_count": null,
   "metadata": {},
   "outputs": [],
   "source": []
  }
 ],
 "metadata": {
  "kernelspec": {
   "display_name": "Python 3",
   "language": "python",
   "name": "python3"
  },
  "language_info": {
   "codemirror_mode": {
    "name": "ipython",
    "version": 3
   },
   "file_extension": ".py",
   "mimetype": "text/x-python",
   "name": "python",
   "nbconvert_exporter": "python",
   "pygments_lexer": "ipython3",
   "version": "3.10.12"
  }
 },
 "nbformat": 4,
 "nbformat_minor": 2
}
