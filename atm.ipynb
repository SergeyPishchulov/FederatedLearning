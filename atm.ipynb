{
 "cells": [
  {
   "cell_type": "markdown",
   "metadata": {},
   "source": [
    "ATM"
   ]
  },
  {
   "cell_type": "code",
   "execution_count": 1,
   "metadata": {},
   "outputs": [
    {
     "data": {
      "text/plain": [
       "['./Datasets/wisabi/byday/enugu_transactions.csv',\n",
       " './Datasets/wisabi/byday/fct_transactions.csv',\n",
       " './Datasets/wisabi/byday/kano_transactions.csv',\n",
       " './Datasets/wisabi/byday/lagos_transactions.csv',\n",
       " './Datasets/wisabi/byday/rivers_transactions.csv']"
      ]
     },
     "execution_count": 1,
     "metadata": {},
     "output_type": "execute_result"
    }
   ],
   "source": [
    "from os import listdir\n",
    "from os.path import isfile, join\n",
    "import pandas as pd\n",
    "import numpy as np\n",
    "import matplotlib.pyplot as plt\n",
    "\n",
    "import plotly.express as px\n",
    "import plotly.graph_objects as go\n",
    "from IPython.display import Markdown as md\n",
    "\n",
    "import seaborn as sns\n",
    "from tsfresh.feature_extraction import settings\n",
    "from tsfresh import extract_features, extract_relevant_features, select_features\n",
    "from tsfresh.utilities.dataframe_functions import (\n",
    "    impute,\n",
    "    make_forecasting_frame,\n",
    "    roll_time_series,\n",
    ")\n",
    "from tsfresh.feature_extraction import (\n",
    "    ComprehensiveFCParameters,\n",
    "    MinimalFCParameters,\n",
    "    EfficientFCParameters,\n",
    "    settings,\n",
    ")\n",
    "from sklearn.model_selection import train_test_split\n",
    "\n",
    "from sklearn.metrics import (\n",
    "    max_error as ME,\n",
    "    mean_absolute_error as MAE,\n",
    "    mean_absolute_percentage_error as MAPE,\n",
    ")\n",
    "\n",
    "from sklearn.preprocessing import StandardScaler\n",
    "\n",
    "mypath = \"./Datasets/wisabi\"\n",
    "files = [\n",
    "    join(mypath, f)\n",
    "    for f in listdir(mypath)\n",
    "    if isfile(join(mypath, f)) and \"transactions.csv\" in f\n",
    "]\n",
    "byday_path = mypath+'/byday'\n",
    "byday_files = [\n",
    "    join(byday_path, f)\n",
    "    for f in listdir(byday_path)\n",
    "    if isfile(join(byday_path, f)) and \"transactions.csv\" in f\n",
    "]\n",
    "byday_files"
   ]
  },
  {
   "cell_type": "code",
   "execution_count": 2,
   "metadata": {},
   "outputs": [],
   "source": [
    "dfs = list(zip(map(pd.read_csv, files), files))"
   ]
  },
  {
   "cell_type": "code",
   "execution_count": 3,
   "metadata": {},
   "outputs": [],
   "source": [
    "full_calendar = pd.read_csv(mypath+'/calendar lookup.csv', index_col='Date')\n",
    "full_calendar.index = pd.to_datetime(full_calendar.index).date\n",
    "cols = ['IsHoliday','Day Name']\n",
    "calendar  = full_calendar[cols]\n",
    "calendar = pd.get_dummies(calendar,drop_first=True)\n",
    "# calendar"
   ]
  },
  {
   "cell_type": "code",
   "execution_count": 4,
   "metadata": {},
   "outputs": [],
   "source": [
    "import multiprocessing\n",
    "pool = multiprocessing.Pool()\n",
    "\n",
    "\n",
    "def transactions_to_cash_ts(args):\n",
    "    df, file = args\n",
    "    for c in [\"TransactionStartDateTime\", \"TransactionEndDateTime\"]:\n",
    "        df[c] = pd.to_datetime(df[c])\n",
    "    df = df.drop(columns=[\"CardholderID\", \"LocationID\"])\n",
    "    df = df[df.TransactionTypeID.isin([1, 2])]\n",
    "    df[\"date\"] = df.TransactionStartDateTime.dt.date  # .round(\"H\")\n",
    "    df.drop(\n",
    "        columns=[\"TransactionStartDateTime\", \"TransactionEndDateTime\"], inplace=True\n",
    "    )\n",
    "    df.loc[df.TransactionTypeID == 2, \"TransactionAmount\"] *= -1\n",
    "    df = df.drop(columns=\"TransactionTypeID\")\n",
    "    ts = df.groupby(\"date\").sum().TransactionAmount\n",
    "    # ts = pd.Series(df.TransactionAmount, index = df.date)\n",
    "    ts.name = file.split(\"/\")[-1].split(\".\")[0]\n",
    "    # ts = ts.to_frame()#.merge(calendar, left_index=True, right_index=True)\n",
    "    # ts.index = pd.to_datetime(ts.index).date\n",
    "    return ts"
   ]
  },
  {
   "cell_type": "code",
   "execution_count": 5,
   "metadata": {},
   "outputs": [],
   "source": [
    "# tss = list(map(transactions_to_cash_ts, dfs))\n"
   ]
  },
  {
   "cell_type": "code",
   "execution_count": 6,
   "metadata": {},
   "outputs": [],
   "source": [
    "# for ts in tss:\n",
    "#     ts.to_frame().to_csv(mypath+f'/byday/{ts.name}.csv')"
   ]
  },
  {
   "cell_type": "code",
   "execution_count": 7,
   "metadata": {},
   "outputs": [
    {
     "data": {
      "text/plain": [
       "Index([2022-01-01, 2022-01-02, 2022-01-03, 2022-01-04, 2022-01-05, 2022-01-06,\n",
       "       2022-01-07, 2022-01-08, 2022-01-09, 2022-01-10,\n",
       "       ...\n",
       "       2022-12-22, 2022-12-23, 2022-12-24, 2022-12-25, 2022-12-26, 2022-12-27,\n",
       "       2022-12-28, 2022-12-29, 2022-12-30, 2022-12-31],\n",
       "      dtype='object', name='date', length=365)"
      ]
     },
     "execution_count": 7,
     "metadata": {},
     "output_type": "execute_result"
    }
   ],
   "source": [
    "tss = list(map(lambda x: pd.read_csv(x, index_col='date').iloc[:,0], byday_files))\n",
    "for ts in tss:\n",
    "    ts.index = pd.to_datetime(ts.index).date\n",
    "    ts.index.name = 'date'\n",
    "tss[0].index"
   ]
  },
  {
   "cell_type": "code",
   "execution_count": 8,
   "metadata": {},
   "outputs": [],
   "source": [
    "# for ts in tss:\n",
    "#     ts.plot()\n",
    "#     plt.title(ts.name)\n",
    "#     plt.show()"
   ]
  },
  {
   "cell_type": "code",
   "execution_count": 9,
   "metadata": {},
   "outputs": [],
   "source": [
    "def extractor_ts(ts_inp, best_features=None):\n",
    "    ts = ts_inp.diff().dropna()\n",
    "    med = ts.median()  # TODO более аккуратно\n",
    "    ts.loc[ts.sort_values().head(7).index] = med\n",
    "    ts.loc[ts.sort_values().tail(7).index] = med\n",
    "    common_name = \"transaction\"\n",
    "\n",
    "    scaler = StandardScaler()\n",
    "    ts_scaled = pd.Series(\n",
    "        scaler.fit_transform(ts.values.reshape(-1, 1)).reshape(-1),\n",
    "        index=ts.index,\n",
    "        name=common_name#ts.name,\n",
    "    )\n",
    "    ts = ts_scaled\n",
    "    dfts = ts.to_frame()\n",
    "    dfts[\"id\"] = common_name#ts.name\n",
    "    dfts.reset_index(inplace=True)\n",
    "    df_rolled = roll_time_series(\n",
    "        dfts, column_id=\"id\", column_sort=\"date\", max_timeshift=20, min_timeshift=5\n",
    "    )\n",
    "    # каждый момент времени описываем окном длины не больше 20, окна длины меньше чем 5 отбрасываем\n",
    "    name = ts.name\n",
    "    X = extract_features(\n",
    "        df_rolled,\n",
    "        column_id=\"id\",\n",
    "        column_sort=\"date\",\n",
    "        column_value=common_name,#name,\n",
    "        impute_function=impute,\n",
    "        show_warnings=False,\n",
    "        default_fc_parameters=extraction_settings,\n",
    "    )\n",
    "    X = X.set_index(X.index.map(lambda x: x[1])).copy()\n",
    "    # if best_features is not None:\n",
    "    #     X = X.loc[:, best_features]\n",
    "    # return X\n",
    "\n",
    "    X[name] = ts[X.index]  # добавялем оригинальный ряд\n",
    "    X[\"y\"] = X[name].shift(-horizon)\n",
    "    # # добавляем target - оригинальный ряд смещенный на 1 в будущее\n",
    "    df = X.dropna().copy()\n",
    "    y = df.y\n",
    "    df.drop(\"y\", axis=1, inplace=True)\n",
    "\n",
    "    if best_features is not None:\n",
    "        df = df[best_features]\n",
    "    # df = df.merge(calendar, left_index=True, right_index=True)\n",
    "    X = df\n",
    "    \n",
    "    X_train, X_test, y_train, y_test = train_test_split(\n",
    "        X, y, test_size=0.3, shuffle=False)\n",
    "    return X_train, X_test, y_train, y_test"
   ]
  },
  {
   "cell_type": "markdown",
   "metadata": {},
   "source": [
    "Extraction settings"
   ]
  },
  {
   "cell_type": "code",
   "execution_count": 10,
   "metadata": {},
   "outputs": [
    {
     "data": {
      "text/plain": [
       "10"
      ]
     },
     "execution_count": 10,
     "metadata": {},
     "output_type": "execute_result"
    }
   ],
   "source": [
    "# extraction_settings = EfficientFCParameters()\n",
    "# extraction_settings = ComprehensiveFCParameters()\n",
    "# del extraction_settings[\"friedrich_coefficients\"]\n",
    "# del extraction_settings[\"max_langevin_fixed_point\"]\n",
    "extraction_settings = MinimalFCParameters()\n",
    "\n",
    "horizon = 1\n",
    "len(extraction_settings)\n"
   ]
  },
  {
   "cell_type": "markdown",
   "metadata": {},
   "source": [
    "Best features"
   ]
  },
  {
   "cell_type": "code",
   "execution_count": 11,
   "metadata": {},
   "outputs": [
    {
     "name": "stderr",
     "output_type": "stream",
     "text": [
      "Rolling: 100%|██████████| 20/20 [00:00<00:00, 51.68it/s]\n",
      "Feature Extraction: 100%|██████████| 20/20 [00:00<00:00, 74.28it/s]\n"
     ]
    },
    {
     "data": {
      "text/plain": [
       "11"
      ]
     },
     "execution_count": 11,
     "metadata": {},
     "output_type": "execute_result"
    }
   ],
   "source": [
    "X_train, X_test, y_train, y_test = extractor_ts(tss[0])\n",
    "X_train_selected = select_features(X_train, y_train)\n",
    "# best_features=X_train_selected.columns\n",
    "best_features=list(X_train.columns)#+list(calendar.columns)\n",
    "len(best_features)"
   ]
  },
  {
   "cell_type": "markdown",
   "metadata": {},
   "source": [
    "#### Boosting"
   ]
  },
  {
   "cell_type": "code",
   "execution_count": 12,
   "metadata": {},
   "outputs": [],
   "source": [
    "# from catboost import CatBoostRegressor\n",
    "# model = CatBoostRegressor(silent=True).fit(X_train, y_train)\n",
    "# y_pred = pd.Series(model.predict(X_test), index=X_test.index)\n",
    "# y_pred_dumb = y_test.shift(1)\n",
    "# MAE(y_test[1:], y_pred_dumb[1:]),MAE(y_test, y_pred)"
   ]
  },
  {
   "cell_type": "markdown",
   "metadata": {},
   "source": [
    "Boosting plot"
   ]
  },
  {
   "cell_type": "code",
   "execution_count": 13,
   "metadata": {},
   "outputs": [],
   "source": [
    "# fig = go.Figure()\n",
    "# fig.update_layout(title_text=f\"CatBoost & tsfresh. MAE={MAE(y_test, y_pred):.4f}\")\n",
    "# fig.add_trace(go.Scatter(x=y_train.index, y=y_train, name=\"Train\"))\n",
    "# fig.add_trace(go.Scatter(x=y_test.index, y=y_test, name=\"Test\"))\n",
    "# fig.add_trace(go.Scatter(x=y_pred.index, y=y_pred, name=\"Predicted\"))"
   ]
  },
  {
   "cell_type": "markdown",
   "metadata": {},
   "source": [
    "#### Torch"
   ]
  },
  {
   "cell_type": "code",
   "execution_count": 14,
   "metadata": {},
   "outputs": [],
   "source": [
    "from datasets import load_dataset, load_from_disk\n",
    "import pandas as pd\n",
    "from transformers import Trainer\n",
    "from transformers import TrainingArguments\n",
    "from transformers import EncoderDecoderModel\n",
    "from transformers import BertTokenizer\n",
    "import numpy as np\n",
    "import os\n",
    "import random\n",
    "import gc\n",
    "import torch\n",
    "import torch.nn as nn\n",
    "import torch.optim as optim\n",
    "import shutil\n",
    "from tqdm import tqdm\n",
    "\n",
    "torch.cuda.empty_cache()\n",
    "gc.collect()\n",
    "\n",
    "SEED = 42\n",
    "\n",
    "\n",
    "def seed_everything(seed=SEED):\n",
    "    random.seed(seed)\n",
    "    os.environ[\"PYTHONHASHSEED\"] = str(seed)\n",
    "    np.random.seed(seed)\n",
    "    torch.manual_seed(seed)\n",
    "    torch.backends.cudnn.deterministic = True\n",
    "    torch.backends.cudnn.benchmark = False\n",
    "\n",
    "\n",
    "torch.backends.cudnn.deterministic = True\n",
    "seed_everything(SEED)\n",
    "device = torch.device(\"cuda:0\" if torch.cuda.is_available() else \"cpu\")"
   ]
  },
  {
   "cell_type": "code",
   "execution_count": 15,
   "metadata": {},
   "outputs": [],
   "source": [
    "# X_train, X_test, y_train, y_test = train_test_split(X, y, test_size=0.3, shuffle=False)\n"
   ]
  },
  {
   "cell_type": "markdown",
   "metadata": {},
   "source": [
    "model"
   ]
  },
  {
   "cell_type": "code",
   "execution_count": 16,
   "metadata": {},
   "outputs": [
    {
     "data": {
      "text/plain": [
       "(365, 7)"
      ]
     },
     "execution_count": 16,
     "metadata": {},
     "output_type": "execute_result"
    }
   ],
   "source": [
    "calendar.shape"
   ]
  },
  {
   "cell_type": "code",
   "execution_count": 17,
   "metadata": {},
   "outputs": [],
   "source": [
    "# feat_cnt = len(best_features)+calendar.shape[1] #X_train.shape[1]\n",
    "def get_model(feat_cnt):\n",
    "    model = nn.Sequential(\n",
    "        nn.Linear(feat_cnt, 1),\n",
    "        # nn.ReLU(),\n",
    "        # nn.Linear(10, 1),\n",
    "        # nn.ReLU(),\n",
    "        # nn.Linear(24, 6),\n",
    "        # nn.ReLU(),\n",
    "        # nn.Linear(6, 1),\n",
    "    )\n",
    "    return model\n",
    "# feat_cnt"
   ]
  },
  {
   "cell_type": "code",
   "execution_count": 18,
   "metadata": {},
   "outputs": [],
   "source": [
    "import copy\n",
    "\n",
    "\n",
    "epochs = 400  # number of epochs to run\n",
    "batchSize = 20  # size of each batch\n",
    "\n",
    "def train(model, X_train, X_test, y_train, y_test):\n",
    "    lossFunction = nn.MSELoss()  # mean square error\n",
    "    optimizer = optim.Adam(model.parameters(), lr=0.001)\n",
    "\n",
    "\n",
    "    X_train = torch.tensor(X_train.values, dtype=torch.float32)\n",
    "    y_train = torch.tensor(y_train.values, dtype=torch.float32).reshape(-1, 1)\n",
    "    X_test = torch.tensor(X_test.values, dtype=torch.float32)\n",
    "    y_test = torch.tensor(y_test.values, dtype=torch.float32).reshape(-1, 1)\n",
    "\n",
    "    # Hold the best model\n",
    "    best_mse = np.inf  # init to infinity\n",
    "    best_weights = None\n",
    "    history = []\n",
    "    train_history = []\n",
    "\n",
    "    \n",
    "    size = X_train.shape[0]#TODO X?\n",
    "    # my redone training loop\n",
    "    for epoch in range(epochs):\n",
    "        model.train()\n",
    "\n",
    "        index = 0\n",
    "\n",
    "        while index * batchSize <= size:\n",
    "            # take a batch\n",
    "            X_batch = X_train[index: index + batchSize]\n",
    "            y_batch = y_train[index: index + batchSize]\n",
    "\n",
    "            # forward pass\n",
    "            y_pred = model(X_batch)\n",
    "\n",
    "            # print(y_pred)\n",
    "            loss = lossFunction(y_pred, y_batch)\n",
    "            # backward pass\n",
    "            optimizer.zero_grad()\n",
    "            loss.backward()\n",
    "            # update weights\n",
    "            optimizer.step()\n",
    "\n",
    "            index += batchSize\n",
    "\n",
    "        # evaluate accuracy at end of each epoch\n",
    "        model.eval()\n",
    "        train_pred = model(X_train)\n",
    "        train_history.append(float(lossFunction(train_pred, y_train)))\n",
    "        y_pred = model(X_test)\n",
    "        mse = lossFunction(y_pred, y_test)\n",
    "        mse = float(mse)\n",
    "        history.append(mse)\n",
    "        if mse < best_mse:\n",
    "            # print(f\"best mse is {mse} on epoch {epoch}\")\n",
    "            best_mse = mse\n",
    "\n",
    "            # save the best weights\n",
    "            best_weights = copy.deepcopy(model.state_dict())\n",
    "\n",
    "    # restore model and return best accuracy\n",
    "    model.load_state_dict(best_weights)\n",
    "    return train_history, history"
   ]
  },
  {
   "cell_type": "code",
   "execution_count": 19,
   "metadata": {},
   "outputs": [],
   "source": [
    "# plt.plot(history)\n",
    "# plt.title(\"test MSE evolution by Epoch\")\n",
    "# plt.xlabel(\"MSE\")\n",
    "# plt.ylabel(\"Epoch\")"
   ]
  },
  {
   "cell_type": "markdown",
   "metadata": {},
   "source": [
    "Torch plots"
   ]
  },
  {
   "cell_type": "code",
   "execution_count": 20,
   "metadata": {},
   "outputs": [],
   "source": [
    "# fig = go.Figure()\n",
    "# fig.update_layout(title_text=f\"NNet & tsfresh. MAE={MAE(dfy_test, dfy_pred):.4f}\")\n",
    "# fig.add_trace(go.Scatter(x=dfy_train.index, y=dfy_train, name=\"Train\"))\n",
    "# fig.add_trace(go.Scatter(x=dfy_test.index, y=dfy_test, name=\"Test\"))\n",
    "# fig.add_trace(go.Scatter(x=dfy_pred.index, y=dfy_pred, name=\"Predicted\"))"
   ]
  },
  {
   "cell_type": "markdown",
   "metadata": {},
   "source": [
    "### FL"
   ]
  },
  {
   "cell_type": "code",
   "execution_count": null,
   "metadata": {},
   "outputs": [],
   "source": []
  },
  {
   "cell_type": "code",
   "execution_count": 21,
   "metadata": {},
   "outputs": [],
   "source": [
    "def avg_models(models):\n",
    "    feat_cnt= dict(models[0][0].named_parameters())['weight'].data.shape[1]\n",
    "    models_params = [dict(m.named_parameters()) for m in models]\n",
    "    res = get_model(feat_cnt)\n",
    "\n",
    "    res_params = dict(res.named_parameters())\n",
    "    for name1, param1 in res.named_parameters():\n",
    "        arrays = [param_dict[name1].detach().numpy() for param_dict in models_params]\n",
    "        res_params[name1].data.copy_(torch.from_numpy(np.mean(arrays, axis=0)))\n",
    "\n",
    "    res = get_model(feat_cnt)\n",
    "    res.load_state_dict(res_params)\n",
    "    return res"
   ]
  },
  {
   "cell_type": "code",
   "execution_count": 22,
   "metadata": {},
   "outputs": [
    {
     "name": "stderr",
     "output_type": "stream",
     "text": [
      "Rolling: 100%|██████████| 20/20 [00:00<00:00, 45.56it/s]\n",
      "Feature Extraction: 100%|██████████| 20/20 [00:00<00:00, 64.45it/s]\n"
     ]
    },
    {
     "data": {
      "image/png": "[encoded data removed]",
      "text/plain": [
       "<Figure size 640x480 with 1 Axes>"
      ]
     },
     "metadata": {},
     "output_type": "display_data"
    },
    {
     "data": {
      "application/vnd.plotly.v1+json": {
       "config": {
        "plotlyServerURL": "https://plot.ly"
       },
       "data": [
        {
         "name": "Train",
         "type": "scatter",
         "x": [
          "2022-01-07",
          "2022-01-08",
          "2022-01-09",
          "2022-01-10",
          "2022-01-11",
          "2022-01-12",
          "2022-01-13",
          "2022-01-14",
          "2022-01-15",
          "2022-01-16",
          "2022-01-17",
          "2022-01-18",
          "2022-01-19",
          "2022-01-20",
          "2022-01-21",
          "2022-01-22",
          "2022-01-23",
          "2022-01-24",
          "2022-01-25",
          "2022-01-26",
          "2022-01-27",
          "2022-01-28",
          "2022-01-29",
          "2022-01-30",
          "2022-01-31",
          "2022-02-01",
          "2022-02-02",
          "2022-02-03",
          "2022-02-04",
          "2022-02-05",
          "2022-02-06",
          "2022-02-07",
          "2022-02-08",
          "2022-02-09",
          "2022-02-10",
          "2022-02-11",
          "2022-02-12",
          "2022-02-13",
          "2022-02-14",
          "2022-02-15",
          "2022-02-16",
          "2022-02-17",
          "2022-02-18",
          "2022-02-19",
          "2022-02-20",
          "2022-02-21",
          "2022-02-22",
          "2022-02-23",
          "2022-02-24",
          "2022-02-25",
          "2022-02-26",
          "2022-02-27",
          "2022-02-28",
          "2022-03-01",
          "2022-03-02",
          "2022-03-03",
          "2022-03-04",
          "2022-03-05",
          "2022-03-06",
          "2022-03-07",
          "2022-03-08",
          "2022-03-09",
          "2022-03-10",
          "2022-03-11",
          "2022-03-12",
          "2022-03-13",
          "2022-03-14",
          "2022-03-15",
          "2022-03-16",
          "2022-03-17",
          "2022-03-18",
          "2022-03-19",
          "2022-03-20",
          "2022-03-21",
          "2022-03-22",
          "2022-03-23",
          "2022-03-24",
          "2022-03-25",
          "2022-03-26",
          "2022-03-27",
          "2022-03-28",
          "2022-03-29",
          "2022-03-30",
          "2022-03-31",
          "2022-04-01",
          "2022-04-02",
          "2022-04-03",
          "2022-04-04",
          "2022-04-05",
          "2022-04-06",
          "2022-04-07",
          "2022-04-08",
          "2022-04-09",
          "2022-04-10",
          "2022-04-11",
          "2022-04-12",
          "2022-04-13",
          "2022-04-14",
          "2022-04-15",
          "2022-04-16",
          "2022-04-17",
          "2022-04-18",
          "2022-04-19",
          "2022-04-20",
          "2022-04-21",
          "2022-04-22",
          "2022-04-23",
          "2022-04-24",
          "2022-04-25",
          "2022-04-26",
          "2022-04-27",
          "2022-04-28",
          "2022-04-29",
          "2022-04-30",
          "2022-05-01",
          "2022-05-02",
          "2022-05-03",
          "2022-05-04",
          "2022-05-05",
          "2022-05-06",
          "2022-05-07",
          "2022-05-08",
          "2022-05-09",
          "2022-05-10",
          "2022-05-11",
          "2022-05-12",
          "2022-05-13",
          "2022-05-14",
          "2022-05-15",
          "2022-05-16",
          "2022-05-17",
          "2022-05-18",
          "2022-05-19",
          "2022-05-20",
          "2022-05-21",
          "2022-05-22",
          "2022-05-23",
          "2022-05-24",
          "2022-05-25",
          "2022-05-26",
          "2022-05-27",
          "2022-05-28",
          "2022-05-29",
          "2022-05-30",
          "2022-05-31",
          "2022-06-01",
          "2022-06-02",
          "2022-06-03",
          "2022-06-04",
          "2022-06-05",
          "2022-06-06",
          "2022-06-07",
          "2022-06-08",
          "2022-06-09",
          "2022-06-10",
          "2022-06-11",
          "2022-06-12",
          "2022-06-13",
          "2022-06-14",
          "2022-06-15",
          "2022-06-16",
          "2022-06-17",
          "2022-06-18",
          "2022-06-19",
          "2022-06-20",
          "2022-06-21",
          "2022-06-22",
          "2022-06-23",
          "2022-06-24",
          "2022-06-25",
          "2022-06-26",
          "2022-06-27",
          "2022-06-28",
          "2022-06-29",
          "2022-06-30",
          "2022-07-01",
          "2022-07-02",
          "2022-07-03",
          "2022-07-04",
          "2022-07-05",
          "2022-07-06",
          "2022-07-07",
          "2022-07-08",
          "2022-07-09",
          "2022-07-10",
          "2022-07-11",
          "2022-07-12",
          "2022-07-13",
          "2022-07-14",
          "2022-07-15",
          "2022-07-16",
          "2022-07-17",
          "2022-07-18",
          "2022-07-19",
          "2022-07-20",
          "2022-07-21",
          "2022-07-22",
          "2022-07-23",
          "2022-07-24",
          "2022-07-25",
          "2022-07-26",
          "2022-07-27",
          "2022-07-28",
          "2022-07-29",
          "2022-07-30",
          "2022-07-31",
          "2022-08-01",
          "2022-08-02",
          "2022-08-03",
          "2022-08-04",
          "2022-08-05",
          "2022-08-06",
          "2022-08-07",
          "2022-08-08",
          "2022-08-09",
          "2022-08-10",
          "2022-08-11",
          "2022-08-12",
          "2022-08-13",
          "2022-08-14",
          "2022-08-15",
          "2022-08-16",
          "2022-08-17",
          "2022-08-18",
          "2022-08-19",
          "2022-08-20",
          "2022-08-21",
          "2022-08-22",
          "2022-08-23",
          "2022-08-24",
          "2022-08-25",
          "2022-08-26",
          "2022-08-27",
          "2022-08-28",
          "2022-08-29",
          "2022-08-30",
          "2022-08-31",
          "2022-09-01",
          "2022-09-02",
          "2022-09-03",
          "2022-09-04",
          "2022-09-05",
          "2022-09-06",
          "2022-09-07",
          "2022-09-08",
          "2022-09-09",
          "2022-09-10",
          "2022-09-11",
          "2022-09-12",
          "2022-09-13"
         ],
         "y": [
          1.9127046445096438,
          -0.3391186396249671,
          -0.18061155105055077,
          -0.7185130258256667,
          -0.6244313990589164,
          0.3920592205731468,
          0.3756971985267554,
          -0.25117277112561354,
          0.3112717367190894,
          -0.38206894749674436,
          0.9780241351095373,
          -0.7870289931449305,
          1.346169631153343,
          -1.693075963963852,
          -0.6643138277969953,
          0.6037428807983349,
          0.24173314302192617,
          0.3112717367190894,
          -1.6409220186909794,
          0.6845303646523924,
          1.5987583464945097,
          -0.8974726419580722,
          0.7029376394545825,
          -1.6705781836500637,
          0.5607925729265577,
          -0.1652721553820589,
          0.6753267272512972,
          -0.08039416601640369,
          0.09038443909280612,
          -0.4833089589087909,
          0.6098786390657317,
          -0.2971909581310892,
          1.743971292156233,
          -0.8412281911736019,
          -2.1675746033092014,
          2.12745618386853,
          -0.10902770459758857,
          -0.8432734439294008,
          0.5474984300138647,
          0.11492747216239316,
          -1.8055648655327925,
          1.7848763472722113,
          -0.5957978604777315,
          -0.7307845423604602,
          -0.10391457270809126,
          0.5505663091475631,
          0.5382947926127696,
          1.3932104445367182,
          -1.6746686891616616,
          0.4892087264735955,
          -1.5018448312966528,
          1.44638701618749,
          0.07402241704641475,
          -0.2266297380560265,
          -0.0773262868827053,
          0.07402241704641475,
          2.2798275141755497,
          -1.9599814485956109,
          0.5331816607232722,
          0.4984123638746906,
          0.43807740757862246,
          -0.28798732072999406,
          -1.399582193506707,
          0.6190822764668269,
          0.3245658796317824,
          -0.41070248607792925,
          -0.327869749468073,
          0.5710188367055523,
          -0.49251259630988603,
          0.46364306702610897,
          1.2469748724970955,
          1.046540102428801,
          -0.990531642346923,
          -1.9252121517470293,
          0.6354442985132183,
          0.07606766980221367,
          -0.07119052861530854,
          -0.6407934211053078,
          0.43091902293332623,
          0.3061586048295921,
          0.38285558317205165,
          -0.11618608924288479,
          0.7591820902390529,
          -1.6204694911329902,
          -0.38718207938624166,
          1.8360076661671842,
          0.2816155717600051,
          0.25195940680092077,
          -1.4149215891751987,
          0.6722588481175988,
          0.9095081677902735,
          -2.1307600537048206,
          0.908485541412374,
          -0.290032573485793,
          2.1847232610309,
          0.07402241704641475,
          -0.13970649593457238,
          1.1068750587248695,
          0.6507836941817101,
          -0.6039788715009272,
          -1.1081336758053608,
          0.6129465181994301,
          0.8297433103141156,
          -0.4383133982812147,
          -0.9220156750276592,
          1.6110298630293032,
          -0.20515458412013782,
          -1.8873749757647493,
          0.7520237055937566,
          -0.11107295735338749,
          0.7581594638611534,
          0.5198875178105793,
          0.7162317823672756,
          0.07402241704641475,
          0.07402241704641475,
          2.1039357771768428,
          -1.3873106769719135,
          -0.3892273321420406,
          -0.03846648452252584,
          0.11799535129609154,
          0.36751618750355974,
          -1.7912480962422,
          1.3911651917809191,
          0.41148912175323654,
          -1.188921159659418,
          -0.1080050782196891,
          1.2265223449391063,
          -0.32991500222387193,
          0.12822161507508614,
          0.10163332924970017,
          0.20696384617334454,
          -1.3474282482338344,
          1.1058524323469698,
          -0.5191008821352721,
          -1.1848306541478204,
          0.539317418990669,
          0.2611630442020159,
          0.4493262977355165,
          0.4319416493112257,
          -1.6347862604235825,
          0.5168196386768809,
          1.026087574870812,
          -1.3658355230360246,
          2.22256043701318,
          -1.3525413801233317,
          -0.3882047057641411,
          -0.052783253813118276,
          0.31536224223068726,
          -0.8995178947138711,
          0.8103134091340258,
          1.0179065638476164,
          -1.7513656675041211,
          0.4738693308051036,
          -0.9629207301436377,
          0.7745214859075448,
          0.14049313160987964,
          1.0680152563646899,
          -1.6501256560920745,
          0.5055707485199868,
          -0.5487570470943564,
          1.1201692016375624,
          -0.5876168494545359,
          0.3399052753002743,
          1.166187388643038,
          -1.5386593809010334,
          1.3277623563511527,
          -1.4302609848436907,
          0.18548869223745587,
          -0.1080050782196891,
          -0.8136172789703164,
          1.2306128504507041,
          -0.3513901561597606,
          -0.2409465073466189,
          1.2848120484793755,
          0.07402241704641475,
          0.07402241704641475,
          0.07402241704641475,
          0.07402241704641475,
          0.9851825197548335,
          0.668168342606001,
          -0.8995178947138711,
          0.4830729682061987,
          -0.40354410143263303,
          1.308332455171063,
          -1.7523882938820206,
          0.42580589104382893,
          0.8236075520467189,
          -1.8761260856078552,
          0.5076160012757858,
          0.5434079245022668,
          -1.1541518628108365,
          0.07402241704641475,
          -1.0866585218694722,
          -0.20106407860853998,
          -0.5508022998501553,
          0.1619682855457683,
          -1.066205994311483,
          1.1651647622651387,
          1.2091376965148153,
          -1.4895733147618593,
          -0.9884863895911241,
          1.2275449713170057,
          -0.8105493998366181,
          -0.48126370615299197,
          0.2672988024694127,
          0.6569194524491069,
          -1.0385950821081977,
          1.179481531555731,
          0.0003933178376536386,
          -0.35241278253766006,
          0.2928644619168992,
          -0.17243054002735508,
          -0.45263016757180713,
          0.11083696665079532,
          0.14253838436567856,
          -1.3187947096526496,
          1.5159256098846534,
          -1.3637902702802258,
          1.9536096996256223,
          -1.284025412804068,
          1.8411207980566815,
          -2.20745703204728,
          1.406504587449411,
          -0.2266297380560265,
          -0.23378812270132268,
          1.0271102012487114,
          -0.6735174651980904,
          -0.8105493998366181,
          1.306287202415264,
          -1.8321531513581784,
          0.07197716429061583,
          0.31331698947488834,
          0.7704309803959469,
          -0.3646842990724536,
          0.27036668160311106,
          -0.8074815207029197,
          0.946322717394654,
          -1.5857001942844087,
          1.3308302354848511,
          -0.14788750695776806,
          0.5270459024558755,
          0.3552446709687662,
          -0.6182956407915197,
          -0.06300951759211287,
          -0.4761505742634947,
          0.7428200681926616,
          -1.4046953253962042,
          1.5915999618492134,
          0.5669283311939545,
          -1.6746686891616616
         ]
        },
        {
         "name": "Test",
         "type": "scatter",
         "x": [
          "2022-09-14",
          "2022-09-15",
          "2022-09-16",
          "2022-09-17",
          "2022-09-18",
          "2022-09-19",
          "2022-09-20",
          "2022-09-21",
          "2022-09-22",
          "2022-09-23",
          "2022-09-24",
          "2022-09-25",
          "2022-09-26",
          "2022-09-27",
          "2022-09-28",
          "2022-09-29",
          "2022-09-30",
          "2022-10-01",
          "2022-10-02",
          "2022-10-03",
          "2022-10-04",
          "2022-10-05",
          "2022-10-06",
          "2022-10-07",
          "2022-10-08",
          "2022-10-09",
          "2022-10-10",
          "2022-10-11",
          "2022-10-12",
          "2022-10-13",
          "2022-10-14",
          "2022-10-15",
          "2022-10-16",
          "2022-10-17",
          "2022-10-18",
          "2022-10-19",
          "2022-10-20",
          "2022-10-21",
          "2022-10-22",
          "2022-10-23",
          "2022-10-24",
          "2022-10-25",
          "2022-10-26",
          "2022-10-27",
          "2022-10-28",
          "2022-10-29",
          "2022-10-30",
          "2022-10-31",
          "2022-11-01",
          "2022-11-02",
          "2022-11-03",
          "2022-11-04",
          "2022-11-05",
          "2022-11-06",
          "2022-11-07",
          "2022-11-08",
          "2022-11-09",
          "2022-11-10",
          "2022-11-11",
          "2022-11-12",
          "2022-11-13",
          "2022-11-14",
          "2022-11-15",
          "2022-11-16",
          "2022-11-17",
          "2022-11-18",
          "2022-11-19",
          "2022-11-20",
          "2022-11-21",
          "2022-11-22",
          "2022-11-23",
          "2022-11-24",
          "2022-11-25",
          "2022-11-26",
          "2022-11-27",
          "2022-11-28",
          "2022-11-29",
          "2022-11-30",
          "2022-12-01",
          "2022-12-02",
          "2022-12-03",
          "2022-12-04",
          "2022-12-05",
          "2022-12-06",
          "2022-12-07",
          "2022-12-08",
          "2022-12-09",
          "2022-12-10",
          "2022-12-11",
          "2022-12-12",
          "2022-12-13",
          "2022-12-14",
          "2022-12-15",
          "2022-12-16",
          "2022-12-17",
          "2022-12-18",
          "2022-12-19",
          "2022-12-20",
          "2022-12-21",
          "2022-12-22",
          "2022-12-23",
          "2022-12-24",
          "2022-12-25",
          "2022-12-26",
          "2022-12-27",
          "2022-12-28",
          "2022-12-29",
          "2022-12-30"
         ],
         "y": [
          0.5515889355254625,
          0.8430374532268086,
          -0.6182956407915197,
          -0.5088746183562775,
          0.8246301784246183,
          -0.8310019273946073,
          1.2367486087181008,
          -0.3227566175785757,
          -0.08448467152800153,
          0.4810277154503998,
          -1.6194468647550908,
          0.8563315961395016,
          -1.295274302960962,
          1.3717352906008295,
          -1.0559797305324885,
          1.1089203114806683,
          0.07402241704641475,
          0.07402241704641475,
          -1.6818270738069578,
          1.1027845532132716,
          1.0179065638476164,
          -2.4549326154989495,
          1.6785232039706675,
          -0.1928830675853443,
          0.10470120838339855,
          -0.5845489703208374,
          0.9003045303891783,
          0.14458363712147748,
          -1.0518892250208907,
          0.6221501556005252,
          0.6773719800070961,
          -1.6726234364058628,
          -0.05687375932471612,
          -0.20719983687593674,
          1.1723231469104347,
          -1.0733643789567793,
          1.101761926835372,
          -0.1898151884516459,
          -1.2870932919377662,
          -0.4454717829265109,
          1.281744169345677,
          1.7490844240457302,
          -1.3106136986294539,
          -1.4159442155530981,
          0.041298372953632034,
          0.20900909892914346,
          0.4053533634858398,
          0.8532637170058032,
          -1.284025412804068,
          1.4187761039842046,
          0.7939513870876346,
          -0.1622042762483605,
          0.5567020674149599,
          -0.46490168410660065,
          -2.062244086385557,
          0.9074629150344746,
          -2.0786061084319485,
          1.1835720370673288,
          0.6109012654436312,
          -0.3830915738746438,
          0.5250006497000765,
          0.539317418990669,
          -1.2318714675311955,
          -0.8320245537725067,
          2.0384876889912773,
          -0.8872463781790776,
          0.4656883197819079,
          0.15480990090047209,
          -1.864877195450961,
          1.9096367653759454,
          -0.08448467152800153,
          -0.3943404640315379,
          0.2672988024694127,
          0.10470120838339855,
          0.057660395000023394,
          -0.1468648805798686,
          -1.6296731285340853,
          0.07402241704641475,
          0.07402241704641475,
          -0.015968704208737722,
          1.590577335471314,
          -2.0857644930772445,
          1.7204508854645453,
          -1.5427498864126312,
          1.166187388643038,
          -0.4250192553685217,
          -0.4127477388337282,
          -0.2583311557709097,
          1.577283192558621,
          -0.0088103195634415,
          -0.8964500155801727,
          -1.3883333033498129,
          1.2009566854916196,
          0.4575073087587122,
          -0.0047198140518436614,
          -1.7094379860102433,
          0.9401869591272572,
          1.1876625425789267,
          0.6068107599320334,
          -1.700234348609148,
          0.9902956516443309,
          -0.570232201030245,
          -0.6602233222853975,
          -0.38718207938624166,
          0.5515889355254625,
          -0.3207113648227768,
          -0.928151433295056,
          0.4002402315963425
         ]
        },
        {
         "name": "Predicted",
         "type": "scatter",
         "x": [
          "2022-09-14",
          "2022-09-15",
          "2022-09-16",
          "2022-09-17",
          "2022-09-18",
          "2022-09-19",
          "2022-09-20",
          "2022-09-21",
          "2022-09-22",
          "2022-09-23",
          "2022-09-24",
          "2022-09-25",
          "2022-09-26",
          "2022-09-27",
          "2022-09-28",
          "2022-09-29",
          "2022-09-30",
          "2022-10-01",
          "2022-10-02",
          "2022-10-03",
          "2022-10-04",
          "2022-10-05",
          "2022-10-06",
          "2022-10-07",
          "2022-10-08",
          "2022-10-09",
          "2022-10-10",
          "2022-10-11",
          "2022-10-12",
          "2022-10-13",
          "2022-10-14",
          "2022-10-15",
          "2022-10-16",
          "2022-10-17",
          "2022-10-18",
          "2022-10-19",
          "2022-10-20",
          "2022-10-21",
          "2022-10-22",
          "2022-10-23",
          "2022-10-24",
          "2022-10-25",
          "2022-10-26",
          "2022-10-27",
          "2022-10-28",
          "2022-10-29",
          "2022-10-30",
          "2022-10-31",
          "2022-11-01",
          "2022-11-02",
          "2022-11-03",
          "2022-11-04",
          "2022-11-05",
          "2022-11-06",
          "2022-11-07",
          "2022-11-08",
          "2022-11-09",
          "2022-11-10",
          "2022-11-11",
          "2022-11-12",
          "2022-11-13",
          "2022-11-14",
          "2022-11-15",
          "2022-11-16",
          "2022-11-17",
          "2022-11-18",
          "2022-11-19",
          "2022-11-20",
          "2022-11-21",
          "2022-11-22",
          "2022-11-23",
          "2022-11-24",
          "2022-11-25",
          "2022-11-26",
          "2022-11-27",
          "2022-11-28",
          "2022-11-29",
          "2022-11-30",
          "2022-12-01",
          "2022-12-02",
          "2022-12-03",
          "2022-12-04",
          "2022-12-05",
          "2022-12-06",
          "2022-12-07",
          "2022-12-08",
          "2022-12-09",
          "2022-12-10",
          "2022-12-11",
          "2022-12-12",
          "2022-12-13",
          "2022-12-14",
          "2022-12-15",
          "2022-12-16",
          "2022-12-17",
          "2022-12-18",
          "2022-12-19",
          "2022-12-20",
          "2022-12-21",
          "2022-12-22",
          "2022-12-23",
          "2022-12-24",
          "2022-12-25",
          "2022-12-26",
          "2022-12-27",
          "2022-12-28",
          "2022-12-29",
          "2022-12-30"
         ],
         "y": [
          0.6459150910377502,
          0.49877843260765076,
          0.841401219367981,
          0.9029678106307983,
          0.48402664065361023,
          0.6475340127944946,
          0.5385576486587524,
          0.7764673829078674,
          0.4342179596424103,
          0.989121675491333,
          0.6768847107887268,
          0.7342221140861511,
          0.3700069487094879,
          0.32013386487960815,
          0.29494336247444153,
          0.28442904353141785,
          0.5496571063995361,
          0.4889182150363922,
          0.8236305713653564,
          0.614080548286438,
          -0.036076486110687256,
          0.7274339199066162,
          0.5041680335998535,
          0.006883859634399414,
          0.4792517125606537,
          0.5320683121681213,
          0.47127875685691833,
          0.42050692439079285,
          0.48142629861831665,
          0.27477458119392395,
          0.3085939288139343,
          0.31039297580718994,
          0.7760419249534607,
          0.3289439082145691,
          0.5087746381759644,
          0.2977886199951172,
          0.4862326681613922,
          0.2515302896499634,
          0.44210803508758545,
          0.2937176525592804,
          0.5226553678512573,
          0.07125034928321838,
          0.22669199109077454,
          0.8427178859710693,
          0.3855094909667969,
          0.1363905966281891,
          0.10002678632736206,
          0.40681329369544983,
          0.18626412749290466,
          0.39795809984207153,
          0.09371793270111084,
          0.49424076080322266,
          0.4639022946357727,
          0.8406893014907837,
          1.0645394325256348,
          0.8549683094024658,
          0.28986164927482605,
          0.37714245915412903,
          -0.07318289577960968,
          0.2423008382320404,
          0.6526579260826111,
          0.8281881213188171,
          0.5626161098480225,
          0.3711675703525543,
          0.11786529421806335,
          0.5241212844848633,
          0.9055695533752441,
          0.6647968888282776,
          0.7770965099334717,
          0.3677680194377899,
          0.4507010281085968,
          0.1942785680294037,
          0.16877047717571259,
          0.16187065839767456,
          0.06365883350372314,
          0.2916317880153656,
          0.7027628421783447,
          0.5404074192047119,
          0.4227205812931061,
          0.42942288517951965,
          0.2842403054237366,
          0.3241499662399292,
          0.5789005756378174,
          -0.1258552372455597,
          0.613629937171936,
          0.18571898341178894,
          0.2607231140136719,
          0.3445044457912445,
          0.10991169512271881,
          0.09800468385219574,
          0.7840955257415771,
          0.5119219422340393,
          0.014437898993492126,
          0.0282076895236969,
          0.20056280493736267,
          0.25237494707107544,
          0.28528741002082825,
          -0.16705937683582306,
          0.5439879298210144,
          0.494608074426651,
          0.7863936424255371,
          0.39617273211479187,
          0.2989574074745178,
          0.7527345418930054,
          0.037570156157016754,
          0.5220651626586914,
          0.04048147797584534,
          0.28112661838531494
         ]
        }
       ],
       "layout": {
        "template": {
         "data": {
          "bar": [
           {
            "error_x": {
             "color": "#2a3f5f"
            },
            "error_y": {
             "color": "#2a3f5f"
            },
            "marker": {
             "line": {
              "color": "#E5ECF6",
              "width": 0.5
             },
             "pattern": {
              "fillmode": "overlay",
              "size": 10,
              "solidity": 0.2
             }
            },
            "type": "bar"
           }
          ],
          "barpolar": [
           {
            "marker": {
             "line": {
              "color": "#E5ECF6",
              "width": 0.5
             },
             "pattern": {
              "fillmode": "overlay",
              "size": 10,
              "solidity": 0.2
             }
            },
            "type": "barpolar"
           }
          ],
          "carpet": [
           {
            "aaxis": {
             "endlinecolor": "#2a3f5f",
             "gridcolor": "white",
             "linecolor": "white",
             "minorgridcolor": "white",
             "startlinecolor": "#2a3f5f"
            },
            "baxis": {
             "endlinecolor": "#2a3f5f",
             "gridcolor": "white",
             "linecolor": "white",
             "minorgridcolor": "white",
             "startlinecolor": "#2a3f5f"
            },
            "type": "carpet"
           }
          ],
          "choropleth": [
           {
            "colorbar": {
             "outlinewidth": 0,
             "ticks": ""
            },
            "type": "choropleth"
           }
          ],
          "contour": [
           {
            "colorbar": {
             "outlinewidth": 0,
             "ticks": ""
            },
            "colorscale": [
             [
              0,
              "#0d0887"
             ],
             [
              0.1111111111111111,
              "#46039f"
             ],
             [
              0.2222222222222222,
              "#7201a8"
             ],
             [
              0.3333333333333333,
              "#9c179e"
             ],
             [
              0.4444444444444444,
              "#bd3786"
             ],
             [
              0.5555555555555556,
              "#d8576b"
             ],
             [
              0.6666666666666666,
              "#ed7953"
             ],
             [
              0.7777777777777778,
              "#fb9f3a"
             ],
             [
              0.8888888888888888,
              "#fdca26"
             ],
             [
              1,
              "#f0f921"
             ]
            ],
            "type": "contour"
           }
          ],
          "contourcarpet": [
           {
            "colorbar": {
             "outlinewidth": 0,
             "ticks": ""
            },
            "type": "contourcarpet"
           }
          ],
          "heatmap": [
           {
            "colorbar": {
             "outlinewidth": 0,
             "ticks": ""
            },
            "colorscale": [
             [
              0,
              "#0d0887"
             ],
             [
              0.1111111111111111,
              "#46039f"
             ],
             [
              0.2222222222222222,
              "#7201a8"
             ],
             [
              0.3333333333333333,
              "#9c179e"
             ],
             [
              0.4444444444444444,
              "#bd3786"
             ],
             [
              0.5555555555555556,
              "#d8576b"
             ],
             [
              0.6666666666666666,
              "#ed7953"
             ],
             [
              0.7777777777777778,
              "#fb9f3a"
             ],
             [
              0.8888888888888888,
              "#fdca26"
             ],
             [
              1,
              "#f0f921"
             ]
            ],
            "type": "heatmap"
           }
          ],
          "heatmapgl": [
           {
            "colorbar": {
             "outlinewidth": 0,
             "ticks": ""
            },
            "colorscale": [
             [
              0,
              "#0d0887"
             ],
             [
              0.1111111111111111,
              "#46039f"
             ],
             [
              0.2222222222222222,
              "#7201a8"
             ],
             [
              0.3333333333333333,
              "#9c179e"
             ],
             [
              0.4444444444444444,
              "#bd3786"
             ],
             [
              0.5555555555555556,
              "#d8576b"
             ],
             [
              0.6666666666666666,
              "#ed7953"
             ],
             [
              0.7777777777777778,
              "#fb9f3a"
             ],
             [
              0.8888888888888888,
              "#fdca26"
             ],
             [
              1,
              "#f0f921"
             ]
            ],
            "type": "heatmapgl"
           }
          ],
          "histogram": [
           {
            "marker": {
             "pattern": {
              "fillmode": "overlay",
              "size": 10,
              "solidity": 0.2
             }
            },
            "type": "histogram"
           }
          ],
          "histogram2d": [
           {
            "colorbar": {
             "outlinewidth": 0,
             "ticks": ""
            },
            "colorscale": [
             [
              0,
              "#0d0887"
             ],
             [
              0.1111111111111111,
              "#46039f"
             ],
             [
              0.2222222222222222,
              "#7201a8"
             ],
             [
              0.3333333333333333,
              "#9c179e"
             ],
             [
              0.4444444444444444,
              "#bd3786"
             ],
             [
              0.5555555555555556,
              "#d8576b"
             ],
             [
              0.6666666666666666,
              "#ed7953"
             ],
             [
              0.7777777777777778,
              "#fb9f3a"
             ],
             [
              0.8888888888888888,
              "#fdca26"
             ],
             [
              1,
              "#f0f921"
             ]
            ],
            "type": "histogram2d"
           }
          ],
          "histogram2dcontour": [
           {
            "colorbar": {
             "outlinewidth": 0,
             "ticks": ""
            },
            "colorscale": [
             [
              0,
              "#0d0887"
             ],
             [
              0.1111111111111111,
              "#46039f"
             ],
             [
              0.2222222222222222,
              "#7201a8"
             ],
             [
              0.3333333333333333,
              "#9c179e"
             ],
             [
              0.4444444444444444,
              "#bd3786"
             ],
             [
              0.5555555555555556,
              "#d8576b"
             ],
             [
              0.6666666666666666,
              "#ed7953"
             ],
             [
              0.7777777777777778,
              "#fb9f3a"
             ],
             [
              0.8888888888888888,
              "#fdca26"
             ],
             [
              1,
              "#f0f921"
             ]
            ],
            "type": "histogram2dcontour"
           }
          ],
          "mesh3d": [
           {
            "colorbar": {
             "outlinewidth": 0,
             "ticks": ""
            },
            "type": "mesh3d"
           }
          ],
          "parcoords": [
           {
            "line": {
             "colorbar": {
              "outlinewidth": 0,
              "ticks": ""
             }
            },
            "type": "parcoords"
           }
          ],
          "pie": [
           {
            "automargin": true,
            "type": "pie"
           }
          ],
          "scatter": [
           {
            "fillpattern": {
             "fillmode": "overlay",
             "size": 10,
             "solidity": 0.2
            },
            "type": "scatter"
           }
          ],
          "scatter3d": [
           {
            "line": {
             "colorbar": {
              "outlinewidth": 0,
              "ticks": ""
             }
            },
            "marker": {
             "colorbar": {
              "outlinewidth": 0,
              "ticks": ""
             }
            },
            "type": "scatter3d"
           }
          ],
          "scattercarpet": [
           {
            "marker": {
             "colorbar": {
              "outlinewidth": 0,
              "ticks": ""
             }
            },
            "type": "scattercarpet"
           }
          ],
          "scattergeo": [
           {
            "marker": {
             "colorbar": {
              "outlinewidth": 0,
              "ticks": ""
             }
            },
            "type": "scattergeo"
           }
          ],
          "scattergl": [
           {
            "marker": {
             "colorbar": {
              "outlinewidth": 0,
              "ticks": ""
             }
            },
            "type": "scattergl"
           }
          ],
          "scattermapbox": [
           {
            "marker": {
             "colorbar": {
              "outlinewidth": 0,
              "ticks": ""
             }
            },
            "type": "scattermapbox"
           }
          ],
          "scatterpolar": [
           {
            "marker": {
             "colorbar": {
              "outlinewidth": 0,
              "ticks": ""
             }
            },
            "type": "scatterpolar"
           }
          ],
          "scatterpolargl": [
           {
            "marker": {
             "colorbar": {
              "outlinewidth": 0,
              "ticks": ""
             }
            },
            "type": "scatterpolargl"
           }
          ],
          "scatterternary": [
           {
            "marker": {
             "colorbar": {
              "outlinewidth": 0,
              "ticks": ""
             }
            },
            "type": "scatterternary"
           }
          ],
          "surface": [
           {
            "colorbar": {
             "outlinewidth": 0,
             "ticks": ""
            },
            "colorscale": [
             [
              0,
              "#0d0887"
             ],
             [
              0.1111111111111111,
              "#46039f"
             ],
             [
              0.2222222222222222,
              "#7201a8"
             ],
             [
              0.3333333333333333,
              "#9c179e"
             ],
             [
              0.4444444444444444,
              "#bd3786"
             ],
             [
              0.5555555555555556,
              "#d8576b"
             ],
             [
              0.6666666666666666,
              "#ed7953"
             ],
             [
              0.7777777777777778,
              "#fb9f3a"
             ],
             [
              0.8888888888888888,
              "#fdca26"
             ],
             [
              1,
              "#f0f921"
             ]
            ],
            "type": "surface"
           }
          ],
          "table": [
           {
            "cells": {
             "fill": {
              "color": "#EBF0F8"
             },
             "line": {
              "color": "white"
             }
            },
            "header": {
             "fill": {
              "color": "#C8D4E3"
             },
             "line": {
              "color": "white"
             }
            },
            "type": "table"
           }
          ]
         },
         "layout": {
          "annotationdefaults": {
           "arrowcolor": "#2a3f5f",
           "arrowhead": 0,
           "arrowwidth": 1
          },
          "autotypenumbers": "strict",
          "coloraxis": {
           "colorbar": {
            "outlinewidth": 0,
            "ticks": ""
           }
          },
          "colorscale": {
           "diverging": [
            [
             0,
             "#8e0152"
            ],
            [
             0.1,
             "#c51b7d"
            ],
            [
             0.2,
             "#de77ae"
            ],
            [
             0.3,
             "#f1b6da"
            ],
            [
             0.4,
             "#fde0ef"
            ],
            [
             0.5,
             "#f7f7f7"
            ],
            [
             0.6,
             "#e6f5d0"
            ],
            [
             0.7,
             "#b8e186"
            ],
            [
             0.8,
             "#7fbc41"
            ],
            [
             0.9,
             "#4d9221"
            ],
            [
             1,
             "#276419"
            ]
           ],
           "sequential": [
            [
             0,
             "#0d0887"
            ],
            [
             0.1111111111111111,
             "#46039f"
            ],
            [
             0.2222222222222222,
             "#7201a8"
            ],
            [
             0.3333333333333333,
             "#9c179e"
            ],
            [
             0.4444444444444444,
             "#bd3786"
            ],
            [
             0.5555555555555556,
             "#d8576b"
            ],
            [
             0.6666666666666666,
             "#ed7953"
            ],
            [
             0.7777777777777778,
             "#fb9f3a"
            ],
            [
             0.8888888888888888,
             "#fdca26"
            ],
            [
             1,
             "#f0f921"
            ]
           ],
           "sequentialminus": [
            [
             0,
             "#0d0887"
            ],
            [
             0.1111111111111111,
             "#46039f"
            ],
            [
             0.2222222222222222,
             "#7201a8"
            ],
            [
             0.3333333333333333,
             "#9c179e"
            ],
            [
             0.4444444444444444,
             "#bd3786"
            ],
            [
             0.5555555555555556,
             "#d8576b"
            ],
            [
             0.6666666666666666,
             "#ed7953"
            ],
            [
             0.7777777777777778,
             "#fb9f3a"
            ],
            [
             0.8888888888888888,
             "#fdca26"
            ],
            [
             1,
             "#f0f921"
            ]
           ]
          },
          "colorway": [
           "#636efa",
           "#EF553B",
           "#00cc96",
           "#ab63fa",
           "#FFA15A",
           "#19d3f3",
           "#FF6692",
           "#B6E880",
           "#FF97FF",
           "#FECB52"
          ],
          "font": {
           "color": "#2a3f5f"
          },
          "geo": {
           "bgcolor": "white",
           "lakecolor": "white",
           "landcolor": "#E5ECF6",
           "showlakes": true,
           "showland": true,
           "subunitcolor": "white"
          },
          "hoverlabel": {
           "align": "left"
          },
          "hovermode": "closest",
          "mapbox": {
           "style": "light"
          },
          "paper_bgcolor": "white",
          "plot_bgcolor": "#E5ECF6",
          "polar": {
           "angularaxis": {
            "gridcolor": "white",
            "linecolor": "white",
            "ticks": ""
           },
           "bgcolor": "#E5ECF6",
           "radialaxis": {
            "gridcolor": "white",
            "linecolor": "white",
            "ticks": ""
           }
          },
          "scene": {
           "xaxis": {
            "backgroundcolor": "#E5ECF6",
            "gridcolor": "white",
            "gridwidth": 2,
            "linecolor": "white",
            "showbackground": true,
            "ticks": "",
            "zerolinecolor": "white"
           },
           "yaxis": {
            "backgroundcolor": "#E5ECF6",
            "gridcolor": "white",
            "gridwidth": 2,
            "linecolor": "white",
            "showbackground": true,
            "ticks": "",
            "zerolinecolor": "white"
           },
           "zaxis": {
            "backgroundcolor": "#E5ECF6",
            "gridcolor": "white",
            "gridwidth": 2,
            "linecolor": "white",
            "showbackground": true,
            "ticks": "",
            "zerolinecolor": "white"
           }
          },
          "shapedefaults": {
           "line": {
            "color": "#2a3f5f"
           }
          },
          "ternary": {
           "aaxis": {
            "gridcolor": "white",
            "linecolor": "white",
            "ticks": ""
           },
           "baxis": {
            "gridcolor": "white",
            "linecolor": "white",
            "ticks": ""
           },
           "bgcolor": "#E5ECF6",
           "caxis": {
            "gridcolor": "white",
            "linecolor": "white",
            "ticks": ""
           }
          },
          "title": {
           "x": 0.05
          },
          "xaxis": {
           "automargin": true,
           "gridcolor": "white",
           "linecolor": "white",
           "ticks": "",
           "title": {
            "standoff": 15
           },
           "zerolinecolor": "white",
           "zerolinewidth": 2
          },
          "yaxis": {
           "automargin": true,
           "gridcolor": "white",
           "linecolor": "white",
           "ticks": "",
           "title": {
            "standoff": 15
           },
           "zerolinecolor": "white",
           "zerolinewidth": 2
          }
         }
        },
        "title": {
         "text": " enugu_transactions NNet & tsfresh. MAE=0.9561"
        }
       }
      }
     },
     "metadata": {},
     "output_type": "display_data"
    },
    {
     "name": "stderr",
     "output_type": "stream",
     "text": [
      "Rolling: 100%|██████████| 20/20 [00:00<00:00, 28.61it/s]\n",
      "Feature Extraction: 100%|██████████| 20/20 [00:00<00:00, 63.64it/s]\n"
     ]
    },
    {
     "data": {
      "image/png": "[encoded data removed]",
      "text/plain": [
       "<Figure size 640x480 with 1 Axes>"
      ]
     },
     "metadata": {},
     "output_type": "display_data"
    },
    {
     "data": {
      "application/vnd.plotly.v1+json": {
       "config": {
        "plotlyServerURL": "https://plot.ly"
       },
       "data": [
        {
         "name": "Train",
         "type": "scatter",
         "x": [
          "2022-01-07",
          "2022-01-08",
          "2022-01-09",
          "2022-01-10",
          "2022-01-11",
          "2022-01-12",
          "2022-01-13",
          "2022-01-14",
          "2022-01-15",
          "2022-01-16",
          "2022-01-17",
          "2022-01-18",
          "2022-01-19",
          "2022-01-20",
          "2022-01-21",
          "2022-01-22",
          "2022-01-23",
          "2022-01-24",
          "2022-01-25",
          "2022-01-26",
          "2022-01-27",
          "2022-01-28",
          "2022-01-29",
          "2022-01-30",
          "2022-01-31",
          "2022-02-01",
          "2022-02-02",
          "2022-02-03",
          "2022-02-04",
          "2022-02-05",
          "2022-02-06",
          "2022-02-07",
          "2022-02-08",
          "2022-02-09",
          "2022-02-10",
          "2022-02-11",
          "2022-02-12",
          "2022-02-13",
          "2022-02-14",
          "2022-02-15",
          "2022-02-16",
          "2022-02-17",
          "2022-02-18",
          "2022-02-19",
          "2022-02-20",
          "2022-02-21",
          "2022-02-22",
          "2022-02-23",
          "2022-02-24",
          "2022-02-25",
          "2022-02-26",
          "2022-02-27",
          "2022-02-28",
          "2022-03-01",
          "2022-03-02",
          "2022-03-03",
          "2022-03-04",
          "2022-03-05",
          "2022-03-06",
          "2022-03-07",
          "2022-03-08",
          "2022-03-09",
          "2022-03-10",
          "2022-03-11",
          "2022-03-12",
          "2022-03-13",
          "2022-03-14",
          "2022-03-15",
          "2022-03-16",
          "2022-03-17",
          "2022-03-18",
          "2022-03-19",
          "2022-03-20",
          "2022-03-21",
          "2022-03-22",
          "2022-03-23",
          "2022-03-24",
          "2022-03-25",
          "2022-03-26",
          "2022-03-27",
          "2022-03-28",
          "2022-03-29",
          "2022-03-30",
          "2022-03-31",
          "2022-04-01",
          "2022-04-02",
          "2022-04-03",
          "2022-04-04",
          "2022-04-05",
          "2022-04-06",
          "2022-04-07",
          "2022-04-08",
          "2022-04-09",
          "2022-04-10",
          "2022-04-11",
          "2022-04-12",
          "2022-04-13",
          "2022-04-14",
          "2022-04-15",
          "2022-04-16",
          "2022-04-17",
          "2022-04-18",
          "2022-04-19",
          "2022-04-20",
          "2022-04-21",
          "2022-04-22",
          "2022-04-23",
          "2022-04-24",
          "2022-04-25",
          "2022-04-26",
          "2022-04-27",
          "2022-04-28",
          "2022-04-29",
          "2022-04-30",
          "2022-05-01",
          "2022-05-02",
          "2022-05-03",
          "2022-05-04",
          "2022-05-05",
          "2022-05-06",
          "2022-05-07",
          "2022-05-08",
          "2022-05-09",
          "2022-05-10",
          "2022-05-11",
          "2022-05-12",
          "2022-05-13",
          "2022-05-14",
          "2022-05-15",
          "2022-05-16",
          "2022-05-17",
          "2022-05-18",
          "2022-05-19",
          "2022-05-20",
          "2022-05-21",
          "2022-05-22",
          "2022-05-23",
          "2022-05-24",
          "2022-05-25",
          "2022-05-26",
          "2022-05-27",
          "2022-05-28",
          "2022-05-29",
          "2022-05-30",
          "2022-05-31",
          "2022-06-01",
          "2022-06-02",
          "2022-06-03",
          "2022-06-04",
          "2022-06-05",
          "2022-06-06",
          "2022-06-07",
          "2022-06-08",
          "2022-06-09",
          "2022-06-10",
          "2022-06-11",
          "2022-06-12",
          "2022-06-13",
          "2022-06-14",
          "2022-06-15",
          "2022-06-16",
          "2022-06-17",
          "2022-06-18",
          "2022-06-19",
          "2022-06-20",
          "2022-06-21",
          "2022-06-22",
          "2022-06-23",
          "2022-06-24",
          "2022-06-25",
          "2022-06-26",
          "2022-06-27",
          "2022-06-28",
          "2022-06-29",
          "2022-06-30",
          "2022-07-01",
          "2022-07-02",
          "2022-07-03",
          "2022-07-04",
          "2022-07-05",
          "2022-07-06",
          "2022-07-07",
          "2022-07-08",
          "2022-07-09",
          "2022-07-10",
          "2022-07-11",
          "2022-07-12",
          "2022-07-13",
          "2022-07-14",
          "2022-07-15",
          "2022-07-16",
          "2022-07-17",
          "2022-07-18",
          "2022-07-19",
          "2022-07-20",
          "2022-07-21",
          "2022-07-22",
          "2022-07-23",
          "2022-07-24",
          "2022-07-25",
          "2022-07-26",
          "2022-07-27",
          "2022-07-28",
          "2022-07-29",
          "2022-07-30",
          "2022-07-31",
          "2022-08-01",
          "2022-08-02",
          "2022-08-03",
          "2022-08-04",
          "2022-08-05",
          "2022-08-06",
          "2022-08-07",
          "2022-08-08",
          "2022-08-09",
          "2022-08-10",
          "2022-08-11",
          "2022-08-12",
          "2022-08-13",
          "2022-08-14",
          "2022-08-15",
          "2022-08-16",
          "2022-08-17",
          "2022-08-18",
          "2022-08-19",
          "2022-08-20",
          "2022-08-21",
          "2022-08-22",
          "2022-08-23",
          "2022-08-24",
          "2022-08-25",
          "2022-08-26",
          "2022-08-27",
          "2022-08-28",
          "2022-08-29",
          "2022-08-30",
          "2022-08-31",
          "2022-09-01",
          "2022-09-02",
          "2022-09-03",
          "2022-09-04",
          "2022-09-05",
          "2022-09-06",
          "2022-09-07",
          "2022-09-08",
          "2022-09-09",
          "2022-09-10",
          "2022-09-11",
          "2022-09-12",
          "2022-09-13"
         ],
         "y": [
          -0.16414607220052266,
          -1.4464088295005493,
          0.5126037163744914,
          0.8944330707704993,
          -1.7042861173575548,
          -0.033070323676519915,
          -1.7042861173575548,
          0.6308568373254939,
          -0.6343090832105324,
          -0.15559765381852247,
          -0.5573733177725307,
          0.29176957483948684,
          1.2021761325225058,
          -0.2923723479305253,
          -0.8337721787905366,
          0.7277389123214959,
          -0.614362773652532,
          0.9272020079015,
          -0.8351969151875366,
          -0.6813253843115333,
          1.499946039495512,
          -1.0303858015765406,
          -0.047317687646520216,
          1.9145443310225205,
          -0.9449016177565389,
          0.5054800343894913,
          -1.0275363287825405,
          0.3672806038804884,
          -0.2681518291815248,
          -1.0973484122355421,
          0.4684368880674905,
          0.8246209873174979,
          -0.015973486912519562,
          -0.7069706394575339,
          -0.25390446521152454,
          1.1836545593615053,
          -1.3523762272985473,
          -0.16984501778852276,
          -0.43627072402752826,
          1.1252403670845041,
          -0.08151136117452093,
          -0.5445506901995305,
          1.8803506574945197,
          -1.0147137012095404,
          0.9613956814295007,
          -0.7910300868805357,
          -0.9819447640785397,
          1.260590324799507,
          -0.41062546888152773,
          1.4401071108215107,
          -2.012029179109561,
          1.4458060564095108,
          -0.033070323676519915,
          -0.2681518291815248,
          -1.1571873409095432,
          -0.033070323676519915,
          0.029618077791481387,
          -0.24535604682952433,
          2.37188471445953,
          -0.033070323676519915,
          -0.03876926926452003,
          0.4071732229964893,
          -0.16557080859752268,
          -0.29807129351852546,
          0.9257772715045,
          -1.3010857170065464,
          -0.21401184609552368,
          1.0981703755415035,
          -1.4578067206765495,
          1.2548913792115068,
          0.11510226161148315,
          0.49693161600749114,
          -1.0218373831945404,
          -0.3906791593235273,
          1.1451866766425045,
          0.8417178240814982,
          -1.3737472732535478,
          1.076799329586503,
          -0.9691221365055395,
          0.08518279727448254,
          -0.1997644821255234,
          -0.228259210065524,
          -0.027371378088519797,
          1.458628683982511,
          -0.3066197119005256,
          -1.3523762272985473,
          0.5667436994604925,
          0.9699440998115009,
          1.264864533990507,
          -2.2257396386595656,
          1.219272969286506,
          -1.7555766276495557,
          0.4185711141724895,
          -0.5858680457125314,
          -0.033070323676519915,
          0.14787119874248383,
          1.1879287685525055,
          -1.7897703011775565,
          1.846156983966519,
          -1.3224567629615467,
          1.2491924336235067,
          -1.5703608960395519,
          1.2933592619305077,
          -0.6343090832105324,
          0.17494119028548438,
          -0.1513234446275224,
          1.2548913792115068,
          -0.6984222210755338,
          -0.5559485813755307,
          0.17494119028548438,
          1.6580917795625152,
          -2.3154980316705673,
          1.1964771869345057,
          -0.033070323676519915,
          -0.033070323676519915,
          1.8561301387455194,
          -0.033070323676519915,
          1.40733817369051,
          -0.8266484968055364,
          0.4812595156404908,
          0.5781415906364928,
          0.20201118182848496,
          -0.7967290324685359,
          2.1652979368945258,
          -2.2727559397605663,
          -0.10288240712952137,
          -0.471889133952529,
          1.9672595777115216,
          -0.08863504315952107,
          0.2233822277834854,
          -0.8651163795245372,
          0.09658068845048276,
          0.11652699800848318,
          -0.12140398029052177,
          0.11367752521448313,
          -0.27100130197552486,
          0.2618501105024862,
          0.8174973053324978,
          -1.618801933537553,
          0.3772537586594886,
          -0.8394711243785368,
          0.7633573222464966,
          0.20343591822548499,
          0.881610443197499,
          -0.3422381218255264,
          -1.427887256339549,
          0.9300514806955,
          -0.39922757770552747,
          1.1109930031145039,
          -0.15987186300952255,
          0.47271109725849064,
          0.031042814188481416,
          -0.7668095681315352,
          0.4684368880674905,
          0.878760970403499,
          -1.4079409467815485,
          0.12792488918448341,
          -0.611513300858532,
          -0.15559765381852247,
          0.4285442689514897,
          -0.7468632585735347,
          0.8687878156244988,
          0.3815279678504887,
          0.005397559042480881,
          -0.16984501778852276,
          -0.1570223902155225,
          -0.5929917276975315,
          -0.5303033262295302,
          0.9898904093695012,
          0.3900763862324889,
          0.154994880727484,
          -1.5960061511855523,
          1.454354474791511,
          -0.803852714453536,
          -0.033070323676519915,
          -0.033070323676519915,
          -0.2197107916835238,
          -0.08863504315952107,
          0.7049431299694955,
          -1.038934219958541,
          0.24902748292948593,
          0.541098444314492,
          0.5311252895354919,
          -1.7570013640465558,
          1.7350275450005168,
          -0.9648479273145393,
          0.4684368880674905,
          -0.4761633431435291,
          -0.23253341925652407,
          0.6792978748234949,
          -0.13422660786352203,
          -0.03164558727951989,
          1.066826174807503,
          -0.9406274085655388,
          -1.7270818997095552,
          0.18348960866748457,
          1.2876603163425075,
          0.032467550585481446,
          -0.5388517446115304,
          0.6636257744564946,
          -0.25390446521152454,
          -0.7397395765885346,
          0.7647820586434966,
          -0.028796114485519827,
          0.17636592668248444,
          -0.2339581556535241,
          1.648118624783515,
          0.15784435352148404,
          -1.9792602419785603,
          -0.802427978056536,
          -0.033070323676519915,
          -1.862431857424558,
          0.022494395806481236,
          0.20628539101948504,
          0.5738673814454928,
          -1.142939976939543,
          0.9414493718715002,
          -0.6001154096825316,
          1.457203947585511,
          -0.5516743721845306,
          -0.6357338196075324,
          0.6921205023964951,
          -0.8408958607755368,
          0.12934962558148344,
          -0.2866734023425252,
          -0.10288240712952137,
          0.9086804347404996,
          -0.33938864903152627,
          -0.053016633234520334,
          1.1095682667175037,
          0.3387858759404878,
          -0.9634231909175393,
          -0.9050089986405381,
          1.1466114130395046,
          -0.5117817530685298,
          -0.04161874205852009,
          0.21768328219548527,
          0.682147347617495,
          -1.4891509214105503,
          1.5369891858175126,
          -0.4476686152035285,
          -0.8765142707005374,
          0.24047906454748574,
          0.21625854579848525,
          -0.661379074753533,
          -0.5616475269635308,
          2.467342053058532,
          -1.5076724945715505,
          0.9485730538565005,
          0.40574848659948926
         ]
        },
        {
         "name": "Test",
         "type": "scatter",
         "x": [
          "2022-09-14",
          "2022-09-15",
          "2022-09-16",
          "2022-09-17",
          "2022-09-18",
          "2022-09-19",
          "2022-09-20",
          "2022-09-21",
          "2022-09-22",
          "2022-09-23",
          "2022-09-24",
          "2022-09-25",
          "2022-09-26",
          "2022-09-27",
          "2022-09-28",
          "2022-09-29",
          "2022-09-30",
          "2022-10-01",
          "2022-10-02",
          "2022-10-03",
          "2022-10-04",
          "2022-10-05",
          "2022-10-06",
          "2022-10-07",
          "2022-10-08",
          "2022-10-09",
          "2022-10-10",
          "2022-10-11",
          "2022-10-12",
          "2022-10-13",
          "2022-10-14",
          "2022-10-15",
          "2022-10-16",
          "2022-10-17",
          "2022-10-18",
          "2022-10-19",
          "2022-10-20",
          "2022-10-21",
          "2022-10-22",
          "2022-10-23",
          "2022-10-24",
          "2022-10-25",
          "2022-10-26",
          "2022-10-27",
          "2022-10-28",
          "2022-10-29",
          "2022-10-30",
          "2022-10-31",
          "2022-11-01",
          "2022-11-02",
          "2022-11-03",
          "2022-11-04",
          "2022-11-05",
          "2022-11-06",
          "2022-11-07",
          "2022-11-08",
          "2022-11-09",
          "2022-11-10",
          "2022-11-11",
          "2022-11-12",
          "2022-11-13",
          "2022-11-14",
          "2022-11-15",
          "2022-11-16",
          "2022-11-17",
          "2022-11-18",
          "2022-11-19",
          "2022-11-20",
          "2022-11-21",
          "2022-11-22",
          "2022-11-23",
          "2022-11-24",
          "2022-11-25",
          "2022-11-26",
          "2022-11-27",
          "2022-11-28",
          "2022-11-29",
          "2022-11-30",
          "2022-12-01",
          "2022-12-02",
          "2022-12-03",
          "2022-12-04",
          "2022-12-05",
          "2022-12-06",
          "2022-12-07",
          "2022-12-08",
          "2022-12-09",
          "2022-12-10",
          "2022-12-11",
          "2022-12-12",
          "2022-12-13",
          "2022-12-14",
          "2022-12-15",
          "2022-12-16",
          "2022-12-17",
          "2022-12-18",
          "2022-12-19",
          "2022-12-20",
          "2022-12-21",
          "2022-12-22",
          "2022-12-23",
          "2022-12-24",
          "2022-12-25",
          "2022-12-26",
          "2022-12-27",
          "2022-12-28",
          "2022-12-29",
          "2022-12-30"
         ],
         "y": [
          -0.6884490662965335,
          -0.9591489817265392,
          0.5126037163744914,
          1.9245174858015206,
          -2.2884280401275667,
          1.2406440152415066,
          -0.06298978801352054,
          -0.033070323676519915,
          -0.5303033262295302,
          0.7149162847484957,
          -0.5730454181395311,
          -0.8366216515845367,
          1.2064503417135057,
          -1.2768651982575459,
          1.2078750781105059,
          -1.3424030725195473,
          -0.033070323676519915,
          -0.033070323676519915,
          1.6395702064015147,
          -1.6586945526535537,
          2.126830054175525,
          -1.185682068849544,
          0.27324800167848645,
          0.5012058251984912,
          -0.48756123431952936,
          -1.2170262695835445,
          0.5211521347564916,
          -0.9548747725355391,
          1.7264791266185167,
          1.1152672123055039,
          -1.9236955224955592,
          0.22195749138648538,
          0.0737849060984823,
          0.0780591152894824,
          -0.050167160440520275,
          1.0953209027475035,
          -1.8068671379415568,
          1.2890850527395075,
          -0.801003241659536,
          0.2718232652814864,
          -0.30804444829752564,
          -1.3979677920025484,
          1.8319096199965188,
          -0.5944164640945315,
          0.8730620248154989,
          -0.7653848317345352,
          1.5241665582445123,
          -2.2813043581425667,
          1.5412633950085128,
          -0.7967290324685359,
          0.42996900534848975,
          0.022494395806481236,
          -0.5730454181395311,
          0.2419038009444858,
          0.25472642851748606,
          -0.8237990240115364,
          1.3774187093535093,
          -0.8651163795245372,
          1.4771502571435113,
          -0.6015401460795317,
          -1.6971624353725545,
          1.4856986755255115,
          0.2860706292514867,
          -2.086115471753563,
          1.9273669585955209,
          -0.21686131888952376,
          0.881610443197499,
          -1.4079409467815485,
          -0.20118921852252342,
          -0.35648548579552664,
          -0.17269449058252284,
          1.603951796476514,
          -0.18694185455252313,
          0.2760974744724865,
          -1.8439102842635575,
          0.7120668119544956,
          -0.20546342771352352,
          -0.033070323676519915,
          -0.033070323676519915,
          0.3444848215284879,
          -0.8237990240115364,
          -0.02024769610351965,
          2.075539543883524,
          -1.9635881416115601,
          -0.7511374677645349,
          2.064141652707524,
          -0.7497127313675349,
          0.5225768711534916,
          0.34590955792548794,
          -0.42487283285152805,
          -0.5331527990235303,
          -0.9349284629775387,
          1.938764849771521,
          -1.2554941523025454,
          0.9699440998115009,
          -1.4022420011935484,
          0.8217715145234978,
          0.4627379424794904,
          -1.051756847531541,
          0.9699440998115009,
          -1.9507655140385598,
          1.2833861071515074,
          0.9670946270175008,
          -1.7926197739715566,
          1.4258597468515104,
          -0.7425890493825347,
          1.2947839983275076,
          -0.9691221365055395
         ]
        },
        {
         "name": "Predicted",
         "type": "scatter",
         "x": [
          "2022-09-14",
          "2022-09-15",
          "2022-09-16",
          "2022-09-17",
          "2022-09-18",
          "2022-09-19",
          "2022-09-20",
          "2022-09-21",
          "2022-09-22",
          "2022-09-23",
          "2022-09-24",
          "2022-09-25",
          "2022-09-26",
          "2022-09-27",
          "2022-09-28",
          "2022-09-29",
          "2022-09-30",
          "2022-10-01",
          "2022-10-02",
          "2022-10-03",
          "2022-10-04",
          "2022-10-05",
          "2022-10-06",
          "2022-10-07",
          "2022-10-08",
          "2022-10-09",
          "2022-10-10",
          "2022-10-11",
          "2022-10-12",
          "2022-10-13",
          "2022-10-14",
          "2022-10-15",
          "2022-10-16",
          "2022-10-17",
          "2022-10-18",
          "2022-10-19",
          "2022-10-20",
          "2022-10-21",
          "2022-10-22",
          "2022-10-23",
          "2022-10-24",
          "2022-10-25",
          "2022-10-26",
          "2022-10-27",
          "2022-10-28",
          "2022-10-29",
          "2022-10-30",
          "2022-10-31",
          "2022-11-01",
          "2022-11-02",
          "2022-11-03",
          "2022-11-04",
          "2022-11-05",
          "2022-11-06",
          "2022-11-07",
          "2022-11-08",
          "2022-11-09",
          "2022-11-10",
          "2022-11-11",
          "2022-11-12",
          "2022-11-13",
          "2022-11-14",
          "2022-11-15",
          "2022-11-16",
          "2022-11-17",
          "2022-11-18",
          "2022-11-19",
          "2022-11-20",
          "2022-11-21",
          "2022-11-22",
          "2022-11-23",
          "2022-11-24",
          "2022-11-25",
          "2022-11-26",
          "2022-11-27",
          "2022-11-28",
          "2022-11-29",
          "2022-11-30",
          "2022-12-01",
          "2022-12-02",
          "2022-12-03",
          "2022-12-04",
          "2022-12-05",
          "2022-12-06",
          "2022-12-07",
          "2022-12-08",
          "2022-12-09",
          "2022-12-10",
          "2022-12-11",
          "2022-12-12",
          "2022-12-13",
          "2022-12-14",
          "2022-12-15",
          "2022-12-16",
          "2022-12-17",
          "2022-12-18",
          "2022-12-19",
          "2022-12-20",
          "2022-12-21",
          "2022-12-22",
          "2022-12-23",
          "2022-12-24",
          "2022-12-25",
          "2022-12-26",
          "2022-12-27",
          "2022-12-28",
          "2022-12-29",
          "2022-12-30"
         ],
         "y": [
          -0.6316593885421753,
          -0.4178467392921448,
          -0.12603649497032166,
          -0.4954952597618103,
          -1.1136610507965088,
          0.04903775453567505,
          -0.8194329738616943,
          -0.47400885820388794,
          -0.6248092651367188,
          -0.34921905398368835,
          -0.5946511626243591,
          -0.23619171977043152,
          -0.34628063440322876,
          -0.75908362865448,
          -0.03623475879430771,
          -0.9680207371711731,
          -0.14452093839645386,
          -0.36114633083343506,
          -0.3264613449573517,
          -0.8723371028900146,
          0.14198309183120728,
          -1.0034723281860352,
          -0.2665821611881256,
          -0.6166009306907654,
          -0.5088430643081665,
          -0.22671058773994446,
          -0.2507151663303375,
          -0.482540100812912,
          -0.06452261656522751,
          -1.0782926082611084,
          -0.8662635087966919,
          0.23664544522762299,
          -0.464307576417923,
          -0.6652473211288452,
          -0.3984621465206146,
          -0.41539549827575684,
          -0.9345177412033081,
          -0.01904696226119995,
          -0.7595707774162292,
          -0.23038378357887268,
          -0.6765918135643005,
          -0.31836989521980286,
          0.10113442689180374,
          -1.1033942699432373,
          -0.30482301115989685,
          -0.5568796992301941,
          -0.16783800721168518,
          -1.0885913372039795,
          0.26206138730049133,
          -0.9082074761390686,
          -0.3727871775627136,
          -0.5993518829345703,
          -0.36328959465026855,
          -0.23960012197494507,
          -0.6672981381416321,
          -0.44644030928611755,
          -0.14299091696739197,
          -0.9720212817192078,
          -0.27338075637817383,
          -0.7647215723991394,
          -0.26531246304512024,
          -0.03120073676109314,
          -0.8216742277145386,
          -0.5975056290626526,
          0.028049439191818237,
          -1.1377370357513428,
          -0.2853206396102905,
          -0.7661108374595642,
          -0.1840101182460785,
          -0.3317907154560089,
          -0.19836699962615967,
          -0.47584670782089233,
          -0.9214019775390625,
          -0.2397439032793045,
          -0.4743369519710541,
          -0.018228739500045776,
          -0.5187612771987915,
          -0.2989705204963684,
          -0.5020328760147095,
          -0.4353090822696686,
          -0.3303412199020386,
          -0.0744442269206047,
          -0.5672751665115356,
          -0.9478566646575928,
          0.2505984306335449,
          -0.3261849582195282,
          -1.026581048965454,
          -0.05295942723751068,
          -0.47403547167778015,
          -0.6970210075378418,
          -0.244930237531662,
          -0.22973763942718506,
          -0.2987869083881378,
          -1.0230669975280762,
          0.07066614925861359,
          -0.652572751045227,
          -0.19268283247947693,
          -0.5889662504196167,
          -0.5291463136672974,
          -0.27994221448898315,
          -0.7882425785064697,
          0.34481877088546753,
          -0.5764518976211548,
          -0.7917858362197876,
          0.28138503432273865,
          -0.8998011946678162,
          -0.4956689476966858,
          -0.9319170713424683
         ]
        }
       ],
       "layout": {
        "template": {
         "data": {
          "bar": [
           {
            "error_x": {
             "color": "#2a3f5f"
            },
            "error_y": {
             "color": "#2a3f5f"
            },
            "marker": {
             "line": {
              "color": "#E5ECF6",
              "width": 0.5
             },
             "pattern": {
              "fillmode": "overlay",
              "size": 10,
              "solidity": 0.2
             }
            },
            "type": "bar"
           }
          ],
          "barpolar": [
           {
            "marker": {
             "line": {
              "color": "#E5ECF6",
              "width": 0.5
             },
             "pattern": {
              "fillmode": "overlay",
              "size": 10,
              "solidity": 0.2
             }
            },
            "type": "barpolar"
           }
          ],
          "carpet": [
           {
            "aaxis": {
             "endlinecolor": "#2a3f5f",
             "gridcolor": "white",
             "linecolor": "white",
             "minorgridcolor": "white",
             "startlinecolor": "#2a3f5f"
            },
            "baxis": {
             "endlinecolor": "#2a3f5f",
             "gridcolor": "white",
             "linecolor": "white",
             "minorgridcolor": "white",
             "startlinecolor": "#2a3f5f"
            },
            "type": "carpet"
           }
          ],
          "choropleth": [
           {
            "colorbar": {
             "outlinewidth": 0,
             "ticks": ""
            },
            "type": "choropleth"
           }
          ],
          "contour": [
           {
            "colorbar": {
             "outlinewidth": 0,
             "ticks": ""
            },
            "colorscale": [
             [
              0,
              "#0d0887"
             ],
             [
              0.1111111111111111,
              "#46039f"
             ],
             [
              0.2222222222222222,
              "#7201a8"
             ],
             [
              0.3333333333333333,
              "#9c179e"
             ],
             [
              0.4444444444444444,
              "#bd3786"
             ],
             [
              0.5555555555555556,
              "#d8576b"
             ],
             [
              0.6666666666666666,
              "#ed7953"
             ],
             [
              0.7777777777777778,
              "#fb9f3a"
             ],
             [
              0.8888888888888888,
              "#fdca26"
             ],
             [
              1,
              "#f0f921"
             ]
            ],
            "type": "contour"
           }
          ],
          "contourcarpet": [
           {
            "colorbar": {
             "outlinewidth": 0,
             "ticks": ""
            },
            "type": "contourcarpet"
           }
          ],
          "heatmap": [
           {
            "colorbar": {
             "outlinewidth": 0,
             "ticks": ""
            },
            "colorscale": [
             [
              0,
              "#0d0887"
             ],
             [
              0.1111111111111111,
              "#46039f"
             ],
             [
              0.2222222222222222,
              "#7201a8"
             ],
             [
              0.3333333333333333,
              "#9c179e"
             ],
             [
              0.4444444444444444,
              "#bd3786"
             ],
             [
              0.5555555555555556,
              "#d8576b"
             ],
             [
              0.6666666666666666,
              "#ed7953"
             ],
             [
              0.7777777777777778,
              "#fb9f3a"
             ],
             [
              0.8888888888888888,
              "#fdca26"
             ],
             [
              1,
              "#f0f921"
             ]
            ],
            "type": "heatmap"
           }
          ],
          "heatmapgl": [
           {
            "colorbar": {
             "outlinewidth": 0,
             "ticks": ""
            },
            "colorscale": [
             [
              0,
              "#0d0887"
             ],
             [
              0.1111111111111111,
              "#46039f"
             ],
             [
              0.2222222222222222,
              "#7201a8"
             ],
             [
              0.3333333333333333,
              "#9c179e"
             ],
             [
              0.4444444444444444,
              "#bd3786"
             ],
             [
              0.5555555555555556,
              "#d8576b"
             ],
             [
              0.6666666666666666,
              "#ed7953"
             ],
             [
              0.7777777777777778,
              "#fb9f3a"
             ],
             [
              0.8888888888888888,
              "#fdca26"
             ],
             [
              1,
              "#f0f921"
             ]
            ],
            "type": "heatmapgl"
           }
          ],
          "histogram": [
           {
            "marker": {
             "pattern": {
              "fillmode": "overlay",
              "size": 10,
              "solidity": 0.2
             }
            },
            "type": "histogram"
           }
          ],
          "histogram2d": [
           {
            "colorbar": {
             "outlinewidth": 0,
             "ticks": ""
            },
            "colorscale": [
             [
              0,
              "#0d0887"
             ],
             [
              0.1111111111111111,
              "#46039f"
             ],
             [
              0.2222222222222222,
              "#7201a8"
             ],
             [
              0.3333333333333333,
              "#9c179e"
             ],
             [
              0.4444444444444444,
              "#bd3786"
             ],
             [
              0.5555555555555556,
              "#d8576b"
             ],
             [
              0.6666666666666666,
              "#ed7953"
             ],
             [
              0.7777777777777778,
              "#fb9f3a"
             ],
             [
              0.8888888888888888,
              "#fdca26"
             ],
             [
              1,
              "#f0f921"
             ]
            ],
            "type": "histogram2d"
           }
          ],
          "histogram2dcontour": [
           {
            "colorbar": {
             "outlinewidth": 0,
             "ticks": ""
            },
            "colorscale": [
             [
              0,
              "#0d0887"
             ],
             [
              0.1111111111111111,
              "#46039f"
             ],
             [
              0.2222222222222222,
              "#7201a8"
             ],
             [
              0.3333333333333333,
              "#9c179e"
             ],
             [
              0.4444444444444444,
              "#bd3786"
             ],
             [
              0.5555555555555556,
              "#d8576b"
             ],
             [
              0.6666666666666666,
              "#ed7953"
             ],
             [
              0.7777777777777778,
              "#fb9f3a"
             ],
             [
              0.8888888888888888,
              "#fdca26"
             ],
             [
              1,
              "#f0f921"
             ]
            ],
            "type": "histogram2dcontour"
           }
          ],
          "mesh3d": [
           {
            "colorbar": {
             "outlinewidth": 0,
             "ticks": ""
            },
            "type": "mesh3d"
           }
          ],
          "parcoords": [
           {
            "line": {
             "colorbar": {
              "outlinewidth": 0,
              "ticks": ""
             }
            },
            "type": "parcoords"
           }
          ],
          "pie": [
           {
            "automargin": true,
            "type": "pie"
           }
          ],
          "scatter": [
           {
            "fillpattern": {
             "fillmode": "overlay",
             "size": 10,
             "solidity": 0.2
            },
            "type": "scatter"
           }
          ],
          "scatter3d": [
           {
            "line": {
             "colorbar": {
              "outlinewidth": 0,
              "ticks": ""
             }
            },
            "marker": {
             "colorbar": {
              "outlinewidth": 0,
              "ticks": ""
             }
            },
            "type": "scatter3d"
           }
          ],
          "scattercarpet": [
           {
            "marker": {
             "colorbar": {
              "outlinewidth": 0,
              "ticks": ""
             }
            },
            "type": "scattercarpet"
           }
          ],
          "scattergeo": [
           {
            "marker": {
             "colorbar": {
              "outlinewidth": 0,
              "ticks": ""
             }
            },
            "type": "scattergeo"
           }
          ],
          "scattergl": [
           {
            "marker": {
             "colorbar": {
              "outlinewidth": 0,
              "ticks": ""
             }
            },
            "type": "scattergl"
           }
          ],
          "scattermapbox": [
           {
            "marker": {
             "colorbar": {
              "outlinewidth": 0,
              "ticks": ""
             }
            },
            "type": "scattermapbox"
           }
          ],
          "scatterpolar": [
           {
            "marker": {
             "colorbar": {
              "outlinewidth": 0,
              "ticks": ""
             }
            },
            "type": "scatterpolar"
           }
          ],
          "scatterpolargl": [
           {
            "marker": {
             "colorbar": {
              "outlinewidth": 0,
              "ticks": ""
             }
            },
            "type": "scatterpolargl"
           }
          ],
          "scatterternary": [
           {
            "marker": {
             "colorbar": {
              "outlinewidth": 0,
              "ticks": ""
             }
            },
            "type": "scatterternary"
           }
          ],
          "surface": [
           {
            "colorbar": {
             "outlinewidth": 0,
             "ticks": ""
            },
            "colorscale": [
             [
              0,
              "#0d0887"
             ],
             [
              0.1111111111111111,
              "#46039f"
             ],
             [
              0.2222222222222222,
              "#7201a8"
             ],
             [
              0.3333333333333333,
              "#9c179e"
             ],
             [
              0.4444444444444444,
              "#bd3786"
             ],
             [
              0.5555555555555556,
              "#d8576b"
             ],
             [
              0.6666666666666666,
              "#ed7953"
             ],
             [
              0.7777777777777778,
              "#fb9f3a"
             ],
             [
              0.8888888888888888,
              "#fdca26"
             ],
             [
              1,
              "#f0f921"
             ]
            ],
            "type": "surface"
           }
          ],
          "table": [
           {
            "cells": {
             "fill": {
              "color": "#EBF0F8"
             },
             "line": {
              "color": "white"
             }
            },
            "header": {
             "fill": {
              "color": "#C8D4E3"
             },
             "line": {
              "color": "white"
             }
            },
            "type": "table"
           }
          ]
         },
         "layout": {
          "annotationdefaults": {
           "arrowcolor": "#2a3f5f",
           "arrowhead": 0,
           "arrowwidth": 1
          },
          "autotypenumbers": "strict",
          "coloraxis": {
           "colorbar": {
            "outlinewidth": 0,
            "ticks": ""
           }
          },
          "colorscale": {
           "diverging": [
            [
             0,
             "#8e0152"
            ],
            [
             0.1,
             "#c51b7d"
            ],
            [
             0.2,
             "#de77ae"
            ],
            [
             0.3,
             "#f1b6da"
            ],
            [
             0.4,
             "#fde0ef"
            ],
            [
             0.5,
             "#f7f7f7"
            ],
            [
             0.6,
             "#e6f5d0"
            ],
            [
             0.7,
             "#b8e186"
            ],
            [
             0.8,
             "#7fbc41"
            ],
            [
             0.9,
             "#4d9221"
            ],
            [
             1,
             "#276419"
            ]
           ],
           "sequential": [
            [
             0,
             "#0d0887"
            ],
            [
             0.1111111111111111,
             "#46039f"
            ],
            [
             0.2222222222222222,
             "#7201a8"
            ],
            [
             0.3333333333333333,
             "#9c179e"
            ],
            [
             0.4444444444444444,
             "#bd3786"
            ],
            [
             0.5555555555555556,
             "#d8576b"
            ],
            [
             0.6666666666666666,
             "#ed7953"
            ],
            [
             0.7777777777777778,
             "#fb9f3a"
            ],
            [
             0.8888888888888888,
             "#fdca26"
            ],
            [
             1,
             "#f0f921"
            ]
           ],
           "sequentialminus": [
            [
             0,
             "#0d0887"
            ],
            [
             0.1111111111111111,
             "#46039f"
            ],
            [
             0.2222222222222222,
             "#7201a8"
            ],
            [
             0.3333333333333333,
             "#9c179e"
            ],
            [
             0.4444444444444444,
             "#bd3786"
            ],
            [
             0.5555555555555556,
             "#d8576b"
            ],
            [
             0.6666666666666666,
             "#ed7953"
            ],
            [
             0.7777777777777778,
             "#fb9f3a"
            ],
            [
             0.8888888888888888,
             "#fdca26"
            ],
            [
             1,
             "#f0f921"
            ]
           ]
          },
          "colorway": [
           "#636efa",
           "#EF553B",
           "#00cc96",
           "#ab63fa",
           "#FFA15A",
           "#19d3f3",
           "#FF6692",
           "#B6E880",
           "#FF97FF",
           "#FECB52"
          ],
          "font": {
           "color": "#2a3f5f"
          },
          "geo": {
           "bgcolor": "white",
           "lakecolor": "white",
           "landcolor": "#E5ECF6",
           "showlakes": true,
           "showland": true,
           "subunitcolor": "white"
          },
          "hoverlabel": {
           "align": "left"
          },
          "hovermode": "closest",
          "mapbox": {
           "style": "light"
          },
          "paper_bgcolor": "white",
          "plot_bgcolor": "#E5ECF6",
          "polar": {
           "angularaxis": {
            "gridcolor": "white",
            "linecolor": "white",
            "ticks": ""
           },
           "bgcolor": "#E5ECF6",
           "radialaxis": {
            "gridcolor": "white",
            "linecolor": "white",
            "ticks": ""
           }
          },
          "scene": {
           "xaxis": {
            "backgroundcolor": "#E5ECF6",
            "gridcolor": "white",
            "gridwidth": 2,
            "linecolor": "white",
            "showbackground": true,
            "ticks": "",
            "zerolinecolor": "white"
           },
           "yaxis": {
            "backgroundcolor": "#E5ECF6",
            "gridcolor": "white",
            "gridwidth": 2,
            "linecolor": "white",
            "showbackground": true,
            "ticks": "",
            "zerolinecolor": "white"
           },
           "zaxis": {
            "backgroundcolor": "#E5ECF6",
            "gridcolor": "white",
            "gridwidth": 2,
            "linecolor": "white",
            "showbackground": true,
            "ticks": "",
            "zerolinecolor": "white"
           }
          },
          "shapedefaults": {
           "line": {
            "color": "#2a3f5f"
           }
          },
          "ternary": {
           "aaxis": {
            "gridcolor": "white",
            "linecolor": "white",
            "ticks": ""
           },
           "baxis": {
            "gridcolor": "white",
            "linecolor": "white",
            "ticks": ""
           },
           "bgcolor": "#E5ECF6",
           "caxis": {
            "gridcolor": "white",
            "linecolor": "white",
            "ticks": ""
           }
          },
          "title": {
           "x": 0.05
          },
          "xaxis": {
           "automargin": true,
           "gridcolor": "white",
           "linecolor": "white",
           "ticks": "",
           "title": {
            "standoff": 15
           },
           "zerolinecolor": "white",
           "zerolinewidth": 2
          },
          "yaxis": {
           "automargin": true,
           "gridcolor": "white",
           "linecolor": "white",
           "ticks": "",
           "title": {
            "standoff": 15
           },
           "zerolinecolor": "white",
           "zerolinewidth": 2
          }
         }
        },
        "title": {
         "text": " fct_transactions NNet & tsfresh. MAE=0.8607"
        }
       }
      }
     },
     "metadata": {},
     "output_type": "display_data"
    },
    {
     "name": "stderr",
     "output_type": "stream",
     "text": [
      "Rolling: 100%|██████████| 20/20 [00:00<00:00, 29.34it/s]\n",
      "Feature Extraction: 100%|██████████| 20/20 [00:00<00:00, 47.32it/s]\n"
     ]
    },
    {
     "data": {
      "image/png": "[encoded data removed]",
      "text/plain": [
       "<Figure size 640x480 with 1 Axes>"
      ]
     },
     "metadata": {},
     "output_type": "display_data"
    },
    {
     "data": {
      "application/vnd.plotly.v1+json": {
       "config": {
        "plotlyServerURL": "https://plot.ly"
       },
       "data": [
        {
         "name": "Train",
         "type": "scatter",
         "x": [
          "2022-01-07",
          "2022-01-08",
          "2022-01-09",
          "2022-01-10",
          "2022-01-11",
          "2022-01-12",
          "2022-01-13",
          "2022-01-14",
          "2022-01-15",
          "2022-01-16",
          "2022-01-17",
          "2022-01-18",
          "2022-01-19",
          "2022-01-20",
          "2022-01-21",
          "2022-01-22",
          "2022-01-23",
          "2022-01-24",
          "2022-01-25",
          "2022-01-26",
          "2022-01-27",
          "2022-01-28",
          "2022-01-29",
          "2022-01-30",
          "2022-01-31",
          "2022-02-01",
          "2022-02-02",
          "2022-02-03",
          "2022-02-04",
          "2022-02-05",
          "2022-02-06",
          "2022-02-07",
          "2022-02-08",
          "2022-02-09",
          "2022-02-10",
          "2022-02-11",
          "2022-02-12",
          "2022-02-13",
          "2022-02-14",
          "2022-02-15",
          "2022-02-16",
          "2022-02-17",
          "2022-02-18",
          "2022-02-19",
          "2022-02-20",
          "2022-02-21",
          "2022-02-22",
          "2022-02-23",
          "2022-02-24",
          "2022-02-25",
          "2022-02-26",
          "2022-02-27",
          "2022-02-28",
          "2022-03-01",
          "2022-03-02",
          "2022-03-03",
          "2022-03-04",
          "2022-03-05",
          "2022-03-06",
          "2022-03-07",
          "2022-03-08",
          "2022-03-09",
          "2022-03-10",
          "2022-03-11",
          "2022-03-12",
          "2022-03-13",
          "2022-03-14",
          "2022-03-15",
          "2022-03-16",
          "2022-03-17",
          "2022-03-18",
          "2022-03-19",
          "2022-03-20",
          "2022-03-21",
          "2022-03-22",
          "2022-03-23",
          "2022-03-24",
          "2022-03-25",
          "2022-03-26",
          "2022-03-27",
          "2022-03-28",
          "2022-03-29",
          "2022-03-30",
          "2022-03-31",
          "2022-04-01",
          "2022-04-02",
          "2022-04-03",
          "2022-04-04",
          "2022-04-05",
          "2022-04-06",
          "2022-04-07",
          "2022-04-08",
          "2022-04-09",
          "2022-04-10",
          "2022-04-11",
          "2022-04-12",
          "2022-04-13",
          "2022-04-14",
          "2022-04-15",
          "2022-04-16",
          "2022-04-17",
          "2022-04-18",
          "2022-04-19",
          "2022-04-20",
          "2022-04-21",
          "2022-04-22",
          "2022-04-23",
          "2022-04-24",
          "2022-04-25",
          "2022-04-26",
          "2022-04-27",
          "2022-04-28",
          "2022-04-29",
          "2022-04-30",
          "2022-05-01",
          "2022-05-02",
          "2022-05-03",
          "2022-05-04",
          "2022-05-05",
          "2022-05-06",
          "2022-05-07",
          "2022-05-08",
          "2022-05-09",
          "2022-05-10",
          "2022-05-11",
          "2022-05-12",
          "2022-05-13",
          "2022-05-14",
          "2022-05-15",
          "2022-05-16",
          "2022-05-17",
          "2022-05-18",
          "2022-05-19",
          "2022-05-20",
          "2022-05-21",
          "2022-05-22",
          "2022-05-23",
          "2022-05-24",
          "2022-05-25",
          "2022-05-26",
          "2022-05-27",
          "2022-05-28",
          "2022-05-29",
          "2022-05-30",
          "2022-05-31",
          "2022-06-01",
          "2022-06-02",
          "2022-06-03",
          "2022-06-04",
          "2022-06-05",
          "2022-06-06",
          "2022-06-07",
          "2022-06-08",
          "2022-06-09",
          "2022-06-10",
          "2022-06-11",
          "2022-06-12",
          "2022-06-13",
          "2022-06-14",
          "2022-06-15",
          "2022-06-16",
          "2022-06-17",
          "2022-06-18",
          "2022-06-19",
          "2022-06-20",
          "2022-06-21",
          "2022-06-22",
          "2022-06-23",
          "2022-06-24",
          "2022-06-25",
          "2022-06-26",
          "2022-06-27",
          "2022-06-28",
          "2022-06-29",
          "2022-06-30",
          "2022-07-01",
          "2022-07-02",
          "2022-07-03",
          "2022-07-04",
          "2022-07-05",
          "2022-07-06",
          "2022-07-07",
          "2022-07-08",
          "2022-07-09",
          "2022-07-10",
          "2022-07-11",
          "2022-07-12",
          "2022-07-13",
          "2022-07-14",
          "2022-07-15",
          "2022-07-16",
          "2022-07-17",
          "2022-07-18",
          "2022-07-19",
          "2022-07-20",
          "2022-07-21",
          "2022-07-22",
          "2022-07-23",
          "2022-07-24",
          "2022-07-25",
          "2022-07-26",
          "2022-07-27",
          "2022-07-28",
          "2022-07-29",
          "2022-07-30",
          "2022-07-31",
          "2022-08-01",
          "2022-08-02",
          "2022-08-03",
          "2022-08-04",
          "2022-08-05",
          "2022-08-06",
          "2022-08-07",
          "2022-08-08",
          "2022-08-09",
          "2022-08-10",
          "2022-08-11",
          "2022-08-12",
          "2022-08-13",
          "2022-08-14",
          "2022-08-15",
          "2022-08-16",
          "2022-08-17",
          "2022-08-18",
          "2022-08-19",
          "2022-08-20",
          "2022-08-21",
          "2022-08-22",
          "2022-08-23",
          "2022-08-24",
          "2022-08-25",
          "2022-08-26",
          "2022-08-27",
          "2022-08-28",
          "2022-08-29",
          "2022-08-30",
          "2022-08-31",
          "2022-09-01",
          "2022-09-02",
          "2022-09-03",
          "2022-09-04",
          "2022-09-05",
          "2022-09-06",
          "2022-09-07",
          "2022-09-08",
          "2022-09-09",
          "2022-09-10",
          "2022-09-11",
          "2022-09-12",
          "2022-09-13"
         ],
         "y": [
          0.8204647763962049,
          -1.1764343496432388,
          0.25474094097865974,
          -0.08450060939097549,
          1.284994399345535,
          -0.7186510075251232,
          -1.4385755476561388,
          1.87481209487456,
          -1.0135598552896357,
          0.18631437826205718,
          0.17667683421746527,
          -0.5528852499581424,
          0.41954294414118143,
          1.2262053806735242,
          -1.6091600772454155,
          0.4937520332845391,
          -1.5744649186848847,
          1.1279024314186867,
          0.6826478965585405,
          -0.9971760304138294,
          -1.1215003485890649,
          0.45520185710617145,
          0.543867262316417,
          0.6662640716827343,
          0.5824174384947847,
          -2.1450075261247257,
          1.4006449278806379,
          0.4291804881857733,
          -0.904655607585747,
          0.5602510871922233,
          -0.9017643443723695,
          -0.7880413246461849,
          0.4976070509023759,
          -0.4979512489039684,
          2.5542589500182897,
          -0.873815466643053,
          -0.6309493567193368,
          -0.7032309370537762,
          1.1327212034409828,
          1.4632889641704854,
          0.04030558598648974,
          0.7693857929598676,
          0.3462976094022829,
          -0.3726631763242736,
          -0.2955628239675383,
          0.17860434302638364,
          -0.11244948712029203,
          0.3877390487940281,
          -0.9807922055380232,
          1.2734293464920248,
          0.5881999649215398,
          -0.0729355565374652,
          0.04030558598648974,
          0.5573598239788456,
          -0.9268219588883084,
          0.04030558598648974,
          1.3341458739729537,
          -1.7951646773060395,
          1.2184953454378509,
          1.12404741380085,
          -1.1099352957355546,
          0.5082083493514269,
          0.26534223942771085,
          -1.7007167456690386,
          -0.677209568133378,
          2.1899597851327153,
          -0.5548127587670607,
          -0.20882492756621113,
          1.8121680585847124,
          -2.0168281903316534,
          0.3655726974914667,
          1.2310241526958203,
          -1.7151730617359267,
          0.6334964219311218,
          -0.2425563317222828,
          0.33569631095323177,
          0.06873634091803588,
          0.2595597130009557,
          -1.874192538471693,
          2.0058826938810097,
          -0.2647226830248442,
          0.9438253401669813,
          -0.7976788686907769,
          -1.5397697601243538,
          1.7851829352598552,
          -0.9027280987768287,
          -0.8015338863086137,
          0.3983403472430792,
          -0.7273247971652559,
          1.2676468200652695,
          0.670119089300571,
          -0.49698749449950924,
          0.09764897305181161,
          -0.18665857626364973,
          -1.9532203996373467,
          1.0748959391734314,
          0.0880114290072197,
          -0.005472748225321834,
          0.11788781554545462,
          1.7369952150368955,
          -0.3610981234707633,
          -1.9349090659526222,
          0.39737659283862004,
          0.6209676146731523,
          0.15836550053274065,
          -0.2329187876776909,
          -1.1658330511941877,
          2.6265405303527287,
          -0.9489883101908698,
          -1.5744649186848847,
          0.765530775342031,
          -0.04209541559477109,
          0.4947157876889983,
          0.04030558598648974,
          0.04030558598648974,
          -0.41121335250264124,
          -0.9836834687514008,
          -0.8102076759487463,
          0.2884723451347314,
          2.2853714711741753,
          -1.3711127393439955,
          0.9216589888644199,
          -2.0081544006915206,
          1.3418559092086273,
          -0.8998368355634512,
          -0.2801427534961913,
          -0.480603669623703,
          0.37328273272714024,
          0.8098634779471537,
          -1.459778144554241,
          1.5211142284380368,
          -0.32351170169685484,
          -0.3061641224165894,
          1.12404741380085,
          -0.8015338863086137,
          -0.6492606904040614,
          1.2859581537499942,
          -1.146557963105004,
          -0.5779428644740814,
          2.0193752555434386,
          -1.6139788492677116,
          0.30967494203283363,
          -0.17027475138784348,
          0.46965817317305936,
          -1.0829501724106974,
          0.7308356167815,
          0.6537352644247647,
          -0.0411316611903119,
          -1.136920419060412,
          -0.5923991805409692,
          0.9149127080332056,
          1.1385037298677378,
          -0.8815255018787265,
          0.44556431306157956,
          0.7790233370044596,
          -1.5320597248886803,
          -0.48638619605045813,
          1.87481209487456,
          -1.076203891579483,
          -0.9759734335157272,
          1.6309822305463846,
          -0.5403564427001729,
          0.01862111188615794,
          -0.034385380359097564,
          -0.26954145504714017,
          0.8773262862592971,
          -1.293048632582801,
          -1.3923153362420977,
          0.04030558598648974,
          -2.3310121261853496,
          0.645061474784632,
          -2.019719453545031,
          2.733517269247699,
          1.1529600459346259,
          0.04030558598648974,
          0.04030558598648974,
          -1.9965893478380103,
          2.1485183457409702,
          -0.8921268003277776,
          0.6913216861986732,
          -0.6550432168308166,
          -0.43530721261412103,
          0.1313803772078833,
          0.2730522746633844,
          1.8208418482248452,
          -1.177398104047698,
          -0.06811678451516924,
          0.8185372675872864,
          0.04753374401993367,
          -0.7928600966684809,
          -0.04884169642598543,
          0.36460894308700753,
          -0.6858833577735107,
          0.3212399948863439,
          -0.0931743990311082,
          -0.7157597443117456,
          0.4291804881857733,
          0.28750859073027224,
          -0.22810001565539495,
          -0.2512301213624155,
          -0.14232587365852695,
          2.1870685219193375,
          -2.756027818551853,
          0.8860000758994298,
          0.2990736435837825,
          -0.6839558489645924,
          1.1452500106989523,
          0.08993893781613808,
          -0.374590685133192,
          -1.3576201776815668,
          0.9746654811096753,
          0.4715856819819777,
          -1.066566347534891,
          0.442673049848202,
          0.8638337245968684,
          -2.0187556991405717,
          -0.6174567950569082,
          1.724466407778926,
          -0.4719298799835703,
          0.031149919144127423,
          0.5833811928992438,
          -0.6588982344486534,
          1.1625975899792178,
          -0.023784081910046464,
          -0.5654140572161118,
          0.8175735131828272,
          -2.250056756210778,
          0.32895003012201746,
          0.9592454106383284,
          -0.0016177306074850696,
          0.4002678560519976,
          -0.6232393214836633,
          0.12367034197220977,
          -0.9730821703023497,
          1.3746235589602398,
          -0.9008005899679103,
          0.3482251182112013,
          -0.3109828944388854,
          0.19980693992448587,
          0.8840725670905114,
          -1.3152149838853624,
          -0.12015952235596555,
          0.7472194416573062,
          0.6036200353928868,
          0.3125662052462112,
          -1.9021414162010097,
          1.2637918024474328,
          -0.4381984758274986,
          0.609402561819642,
          -1.1128265589489321
         ]
        },
        {
         "name": "Test",
         "type": "scatter",
         "x": [
          "2022-09-14",
          "2022-09-15",
          "2022-09-16",
          "2022-09-17",
          "2022-09-18",
          "2022-09-19",
          "2022-09-20",
          "2022-09-21",
          "2022-09-22",
          "2022-09-23",
          "2022-09-24",
          "2022-09-25",
          "2022-09-26",
          "2022-09-27",
          "2022-09-28",
          "2022-09-29",
          "2022-09-30",
          "2022-10-01",
          "2022-10-02",
          "2022-10-03",
          "2022-10-04",
          "2022-10-05",
          "2022-10-06",
          "2022-10-07",
          "2022-10-08",
          "2022-10-09",
          "2022-10-10",
          "2022-10-11",
          "2022-10-12",
          "2022-10-13",
          "2022-10-14",
          "2022-10-15",
          "2022-10-16",
          "2022-10-17",
          "2022-10-18",
          "2022-10-19",
          "2022-10-20",
          "2022-10-21",
          "2022-10-22",
          "2022-10-23",
          "2022-10-24",
          "2022-10-25",
          "2022-10-26",
          "2022-10-27",
          "2022-10-28",
          "2022-10-29",
          "2022-10-30",
          "2022-10-31",
          "2022-11-01",
          "2022-11-02",
          "2022-11-03",
          "2022-11-04",
          "2022-11-05",
          "2022-11-06",
          "2022-11-07",
          "2022-11-08",
          "2022-11-09",
          "2022-11-10",
          "2022-11-11",
          "2022-11-12",
          "2022-11-13",
          "2022-11-14",
          "2022-11-15",
          "2022-11-16",
          "2022-11-17",
          "2022-11-18",
          "2022-11-19",
          "2022-11-20",
          "2022-11-21",
          "2022-11-22",
          "2022-11-23",
          "2022-11-24",
          "2022-11-25",
          "2022-11-26",
          "2022-11-27",
          "2022-11-28",
          "2022-11-29",
          "2022-11-30",
          "2022-12-01",
          "2022-12-02",
          "2022-12-03",
          "2022-12-04",
          "2022-12-05",
          "2022-12-06",
          "2022-12-07",
          "2022-12-08",
          "2022-12-09",
          "2022-12-10",
          "2022-12-11",
          "2022-12-12",
          "2022-12-13",
          "2022-12-14",
          "2022-12-15",
          "2022-12-16",
          "2022-12-17",
          "2022-12-18",
          "2022-12-19",
          "2022-12-20",
          "2022-12-21",
          "2022-12-22",
          "2022-12-23",
          "2022-12-24",
          "2022-12-25",
          "2022-12-26",
          "2022-12-27",
          "2022-12-28",
          "2022-12-29",
          "2022-12-30"
         ],
         "y": [
          0.9688829546829202,
          0.5255559286316923,
          -0.7273247971652559,
          0.29425487156148655,
          -0.4381984758274986,
          -0.8901992915188592,
          -0.20689741875729276,
          0.3212399948863439,
          0.7250530903547449,
          0.483150734835488,
          0.4272529793768549,
          -0.546138969126928,
          -0.9104381340125023,
          0.3019649067971601,
          -0.7109409722894497,
          0.9862305339631856,
          0.04030558598648974,
          0.04030558598648974,
          0.886963830303889,
          -0.3967570364357534,
          -0.7976788686907769,
          0.4070141368832119,
          0.26726974823662925,
          -0.2213537348241806,
          0.4889332612622432,
          -1.167760560003106,
          1.2464442231671673,
          -1.9522566452328876,
          1.043092043826278,
          -0.44012598463641694,
          2.001063921858714,
          -1.2940123869872602,
          0.5872362105170806,
          1.5461718429539757,
          -1.9185252410768159,
          0.3761739959405178,
          -1.6101238316498747,
          0.6431339659757137,
          0.40605038247875275,
          0.18824188707097556,
          -0.3919382644134574,
          -0.42181465095169235,
          -0.29267156075416073,
          0.6122938250330195,
          -1.1494492263183815,
          2.259350102253777,
          -0.7687662365570012,
          -0.018001555483291316,
          1.2329516615047387,
          0.04030558598648974,
          0.9534628842115732,
          0.11306904352315866,
          -0.9836834687514008,
          1.492201596304261,
          -0.8979093267545327,
          1.2734293464920248,
          0.3655726974914667,
          -0.2955628239675383,
          -0.6116742686301531,
          0.4002678560519976,
          -1.5416972689332722,
          1.0816422200046456,
          -0.9017643443723695,
          0.4648394011507634,
          0.624822632290989,
          -0.3967570364357534,
          0.08608392019830131,
          -1.1311378926336568,
          1.3052332418391779,
          -0.5567402675759792,
          0.2576322041920373,
          0.10825027150086271,
          -0.6627532520664902,
          0.21040823837353695,
          -0.2974903327764567,
          1.7591615663394569,
          -0.027639099527883227,
          0.04030558598648974,
          0.04030558598648974,
          -1.071385119557187,
          0.4407455410392836,
          -0.18762233066810893,
          0.8156460043739089,
          -0.9171844148437166,
          0.24510339693406782,
          0.48122322602656964,
          -1.38942407302872,
          1.2368066791225754,
          -1.0800589091973198,
          -0.566377811620571,
          0.8532324261478172,
          -0.4449447566587129,
          -0.0931743990311082,
          0.03307742795304581,
          0.7886608810490515,
          0.42532547056793657,
          -0.19918738352161922,
          -1.5339872336975986,
          1.6194171776928743,
          -0.9460970469774923,
          0.22293704563150643,
          -1.4530318637230266,
          0.04030558598648974,
          -1.5648273746402928,
          -0.3832644747733247,
          0.7896246354535107,
          -0.2955628239675383,
          0.7616757577241942
         ]
        },
        {
         "name": "Predicted",
         "type": "scatter",
         "x": [
          "2022-09-14",
          "2022-09-15",
          "2022-09-16",
          "2022-09-17",
          "2022-09-18",
          "2022-09-19",
          "2022-09-20",
          "2022-09-21",
          "2022-09-22",
          "2022-09-23",
          "2022-09-24",
          "2022-09-25",
          "2022-09-26",
          "2022-09-27",
          "2022-09-28",
          "2022-09-29",
          "2022-09-30",
          "2022-10-01",
          "2022-10-02",
          "2022-10-03",
          "2022-10-04",
          "2022-10-05",
          "2022-10-06",
          "2022-10-07",
          "2022-10-08",
          "2022-10-09",
          "2022-10-10",
          "2022-10-11",
          "2022-10-12",
          "2022-10-13",
          "2022-10-14",
          "2022-10-15",
          "2022-10-16",
          "2022-10-17",
          "2022-10-18",
          "2022-10-19",
          "2022-10-20",
          "2022-10-21",
          "2022-10-22",
          "2022-10-23",
          "2022-10-24",
          "2022-10-25",
          "2022-10-26",
          "2022-10-27",
          "2022-10-28",
          "2022-10-29",
          "2022-10-30",
          "2022-10-31",
          "2022-11-01",
          "2022-11-02",
          "2022-11-03",
          "2022-11-04",
          "2022-11-05",
          "2022-11-06",
          "2022-11-07",
          "2022-11-08",
          "2022-11-09",
          "2022-11-10",
          "2022-11-11",
          "2022-11-12",
          "2022-11-13",
          "2022-11-14",
          "2022-11-15",
          "2022-11-16",
          "2022-11-17",
          "2022-11-18",
          "2022-11-19",
          "2022-11-20",
          "2022-11-21",
          "2022-11-22",
          "2022-11-23",
          "2022-11-24",
          "2022-11-25",
          "2022-11-26",
          "2022-11-27",
          "2022-11-28",
          "2022-11-29",
          "2022-11-30",
          "2022-12-01",
          "2022-12-02",
          "2022-12-03",
          "2022-12-04",
          "2022-12-05",
          "2022-12-06",
          "2022-12-07",
          "2022-12-08",
          "2022-12-09",
          "2022-12-10",
          "2022-12-11",
          "2022-12-12",
          "2022-12-13",
          "2022-12-14",
          "2022-12-15",
          "2022-12-16",
          "2022-12-17",
          "2022-12-18",
          "2022-12-19",
          "2022-12-20",
          "2022-12-21",
          "2022-12-22",
          "2022-12-23",
          "2022-12-24",
          "2022-12-25",
          "2022-12-26",
          "2022-12-27",
          "2022-12-28",
          "2022-12-29",
          "2022-12-30"
         ],
         "y": [
          0.055318042635917664,
          -0.13985343277454376,
          -0.1541879028081894,
          -0.31943491101264954,
          -0.5630779266357422,
          -0.28462910652160645,
          0.4429905414581299,
          -0.058350447565317154,
          0.027190210297703743,
          -0.21759769320487976,
          -0.5225189328193665,
          -0.5685753226280212,
          -0.32011908292770386,
          0.1513354778289795,
          -0.20066320896148682,
          0.20416176319122314,
          -0.04015718773007393,
          -0.6839888095855713,
          -0.5297031402587891,
          -0.6938618421554565,
          0.08582204580307007,
          -0.29190582036972046,
          -0.18228429555892944,
          -0.16260430216789246,
          -0.48972296714782715,
          -0.6839029788970947,
          -0.08620566874742508,
          -0.3778819739818573,
          -0.059471771121025085,
          -0.25709250569343567,
          0.07283096760511398,
          -0.659805178642273,
          -0.24203769862651825,
          -0.23605509102344513,
          -0.4417879283428192,
          -0.04889209568500519,
          -0.3440874516963959,
          0.27624160051345825,
          -0.32143154740333557,
          -0.5083840489387512,
          -0.03645525127649307,
          0.3120748996734619,
          -0.08281884342432022,
          0.1617678999900818,
          0.017635639756917953,
          0.033459752798080444,
          -0.5518001317977905,
          -0.08484314382076263,
          0.4136333167552948,
          -0.6107749342918396,
          -0.2115023285150528,
          -0.56681889295578,
          -0.5049172639846802,
          -0.5989841222763062,
          -0.5775782465934753,
          0.29541170597076416,
          -0.7575510740280151,
          -0.5705934166908264,
          -0.8026984930038452,
          -0.8279582262039185,
          -1.0146148204803467,
          -0.22095291316509247,
          -0.3449818193912506,
          -0.4472479224205017,
          -0.5696037411689758,
          -0.6110493540763855,
          -0.9492477178573608,
          -0.7866172790527344,
          -0.3095979690551758,
          -0.37617215514183044,
          -0.2938283085823059,
          -0.27520421147346497,
          -0.16856959462165833,
          -0.2511863708496094,
          -0.6382720470428467,
          0.004268571734428406,
          -0.26937445998191833,
          -0.2800240218639374,
          -0.10123954713344574,
          -0.18391799926757812,
          -0.2937401831150055,
          -0.5233691334724426,
          -0.4100756049156189,
          -0.14014065265655518,
          -0.3435826301574707,
          -0.27512794733047485,
          -0.2997211217880249,
          -0.25264257192611694,
          -0.7179814577102661,
          -0.23900732398033142,
          0.30835580825805664,
          -0.3432047963142395,
          -0.01616997830569744,
          -0.016763940453529358,
          -0.43569910526275635,
          -0.6884522438049316,
          -0.4574772119522095,
          0.19203944504261017,
          0.24595557153224945,
          -0.11421310901641846,
          0.25043004751205444,
          -0.3673027455806732,
          -0.13986198604106903,
          -0.0018962621688842773,
          0.9995696544647217,
          0.49049246311187744,
          0.44846734404563904,
          0.650321900844574
         ]
        }
       ],
       "layout": {
        "template": {
         "data": {
          "bar": [
           {
            "error_x": {
             "color": "#2a3f5f"
            },
            "error_y": {
             "color": "#2a3f5f"
            },
            "marker": {
             "line": {
              "color": "#E5ECF6",
              "width": 0.5
             },
             "pattern": {
              "fillmode": "overlay",
              "size": 10,
              "solidity": 0.2
             }
            },
            "type": "bar"
           }
          ],
          "barpolar": [
           {
            "marker": {
             "line": {
              "color": "#E5ECF6",
              "width": 0.5
             },
             "pattern": {
              "fillmode": "overlay",
              "size": 10,
              "solidity": 0.2
             }
            },
            "type": "barpolar"
           }
          ],
          "carpet": [
           {
            "aaxis": {
             "endlinecolor": "#2a3f5f",
             "gridcolor": "white",
             "linecolor": "white",
             "minorgridcolor": "white",
             "startlinecolor": "#2a3f5f"
            },
            "baxis": {
             "endlinecolor": "#2a3f5f",
             "gridcolor": "white",
             "linecolor": "white",
             "minorgridcolor": "white",
             "startlinecolor": "#2a3f5f"
            },
            "type": "carpet"
           }
          ],
          "choropleth": [
           {
            "colorbar": {
             "outlinewidth": 0,
             "ticks": ""
            },
            "type": "choropleth"
           }
          ],
          "contour": [
           {
            "colorbar": {
             "outlinewidth": 0,
             "ticks": ""
            },
            "colorscale": [
             [
              0,
              "#0d0887"
             ],
             [
              0.1111111111111111,
              "#46039f"
             ],
             [
              0.2222222222222222,
              "#7201a8"
             ],
             [
              0.3333333333333333,
              "#9c179e"
             ],
             [
              0.4444444444444444,
              "#bd3786"
             ],
             [
              0.5555555555555556,
              "#d8576b"
             ],
             [
              0.6666666666666666,
              "#ed7953"
             ],
             [
              0.7777777777777778,
              "#fb9f3a"
             ],
             [
              0.8888888888888888,
              "#fdca26"
             ],
             [
              1,
              "#f0f921"
             ]
            ],
            "type": "contour"
           }
          ],
          "contourcarpet": [
           {
            "colorbar": {
             "outlinewidth": 0,
             "ticks": ""
            },
            "type": "contourcarpet"
           }
          ],
          "heatmap": [
           {
            "colorbar": {
             "outlinewidth": 0,
             "ticks": ""
            },
            "colorscale": [
             [
              0,
              "#0d0887"
             ],
             [
              0.1111111111111111,
              "#46039f"
             ],
             [
              0.2222222222222222,
              "#7201a8"
             ],
             [
              0.3333333333333333,
              "#9c179e"
             ],
             [
              0.4444444444444444,
              "#bd3786"
             ],
             [
              0.5555555555555556,
              "#d8576b"
             ],
             [
              0.6666666666666666,
              "#ed7953"
             ],
             [
              0.7777777777777778,
              "#fb9f3a"
             ],
             [
              0.8888888888888888,
              "#fdca26"
             ],
             [
              1,
              "#f0f921"
             ]
            ],
            "type": "heatmap"
           }
          ],
          "heatmapgl": [
           {
            "colorbar": {
             "outlinewidth": 0,
             "ticks": ""
            },
            "colorscale": [
             [
              0,
              "#0d0887"
             ],
             [
              0.1111111111111111,
              "#46039f"
             ],
             [
              0.2222222222222222,
              "#7201a8"
             ],
             [
              0.3333333333333333,
              "#9c179e"
             ],
             [
              0.4444444444444444,
              "#bd3786"
             ],
             [
              0.5555555555555556,
              "#d8576b"
             ],
             [
              0.6666666666666666,
              "#ed7953"
             ],
             [
              0.7777777777777778,
              "#fb9f3a"
             ],
             [
              0.8888888888888888,
              "#fdca26"
             ],
             [
              1,
              "#f0f921"
             ]
            ],
            "type": "heatmapgl"
           }
          ],
          "histogram": [
           {
            "marker": {
             "pattern": {
              "fillmode": "overlay",
              "size": 10,
              "solidity": 0.2
             }
            },
            "type": "histogram"
           }
          ],
          "histogram2d": [
           {
            "colorbar": {
             "outlinewidth": 0,
             "ticks": ""
            },
            "colorscale": [
             [
              0,
              "#0d0887"
             ],
             [
              0.1111111111111111,
              "#46039f"
             ],
             [
              0.2222222222222222,
              "#7201a8"
             ],
             [
              0.3333333333333333,
              "#9c179e"
             ],
             [
              0.4444444444444444,
              "#bd3786"
             ],
             [
              0.5555555555555556,
              "#d8576b"
             ],
             [
              0.6666666666666666,
              "#ed7953"
             ],
             [
              0.7777777777777778,
              "#fb9f3a"
             ],
             [
              0.8888888888888888,
              "#fdca26"
             ],
             [
              1,
              "#f0f921"
             ]
            ],
            "type": "histogram2d"
           }
          ],
          "histogram2dcontour": [
           {
            "colorbar": {
             "outlinewidth": 0,
             "ticks": ""
            },
            "colorscale": [
             [
              0,
              "#0d0887"
             ],
             [
              0.1111111111111111,
              "#46039f"
             ],
             [
              0.2222222222222222,
              "#7201a8"
             ],
             [
              0.3333333333333333,
              "#9c179e"
             ],
             [
              0.4444444444444444,
              "#bd3786"
             ],
             [
              0.5555555555555556,
              "#d8576b"
             ],
             [
              0.6666666666666666,
              "#ed7953"
             ],
             [
              0.7777777777777778,
              "#fb9f3a"
             ],
             [
              0.8888888888888888,
              "#fdca26"
             ],
             [
              1,
              "#f0f921"
             ]
            ],
            "type": "histogram2dcontour"
           }
          ],
          "mesh3d": [
           {
            "colorbar": {
             "outlinewidth": 0,
             "ticks": ""
            },
            "type": "mesh3d"
           }
          ],
          "parcoords": [
           {
            "line": {
             "colorbar": {
              "outlinewidth": 0,
              "ticks": ""
             }
            },
            "type": "parcoords"
           }
          ],
          "pie": [
           {
            "automargin": true,
            "type": "pie"
           }
          ],
          "scatter": [
           {
            "fillpattern": {
             "fillmode": "overlay",
             "size": 10,
             "solidity": 0.2
            },
            "type": "scatter"
           }
          ],
          "scatter3d": [
           {
            "line": {
             "colorbar": {
              "outlinewidth": 0,
              "ticks": ""
             }
            },
            "marker": {
             "colorbar": {
              "outlinewidth": 0,
              "ticks": ""
             }
            },
            "type": "scatter3d"
           }
          ],
          "scattercarpet": [
           {
            "marker": {
             "colorbar": {
              "outlinewidth": 0,
              "ticks": ""
             }
            },
            "type": "scattercarpet"
           }
          ],
          "scattergeo": [
           {
            "marker": {
             "colorbar": {
              "outlinewidth": 0,
              "ticks": ""
             }
            },
            "type": "scattergeo"
           }
          ],
          "scattergl": [
           {
            "marker": {
             "colorbar": {
              "outlinewidth": 0,
              "ticks": ""
             }
            },
            "type": "scattergl"
           }
          ],
          "scattermapbox": [
           {
            "marker": {
             "colorbar": {
              "outlinewidth": 0,
              "ticks": ""
             }
            },
            "type": "scattermapbox"
           }
          ],
          "scatterpolar": [
           {
            "marker": {
             "colorbar": {
              "outlinewidth": 0,
              "ticks": ""
             }
            },
            "type": "scatterpolar"
           }
          ],
          "scatterpolargl": [
           {
            "marker": {
             "colorbar": {
              "outlinewidth": 0,
              "ticks": ""
             }
            },
            "type": "scatterpolargl"
           }
          ],
          "scatterternary": [
           {
            "marker": {
             "colorbar": {
              "outlinewidth": 0,
              "ticks": ""
             }
            },
            "type": "scatterternary"
           }
          ],
          "surface": [
           {
            "colorbar": {
             "outlinewidth": 0,
             "ticks": ""
            },
            "colorscale": [
             [
              0,
              "#0d0887"
             ],
             [
              0.1111111111111111,
              "#46039f"
             ],
             [
              0.2222222222222222,
              "#7201a8"
             ],
             [
              0.3333333333333333,
              "#9c179e"
             ],
             [
              0.4444444444444444,
              "#bd3786"
             ],
             [
              0.5555555555555556,
              "#d8576b"
             ],
             [
              0.6666666666666666,
              "#ed7953"
             ],
             [
              0.7777777777777778,
              "#fb9f3a"
             ],
             [
              0.8888888888888888,
              "#fdca26"
             ],
             [
              1,
              "#f0f921"
             ]
            ],
            "type": "surface"
           }
          ],
          "table": [
           {
            "cells": {
             "fill": {
              "color": "#EBF0F8"
             },
             "line": {
              "color": "white"
             }
            },
            "header": {
             "fill": {
              "color": "#C8D4E3"
             },
             "line": {
              "color": "white"
             }
            },
            "type": "table"
           }
          ]
         },
         "layout": {
          "annotationdefaults": {
           "arrowcolor": "#2a3f5f",
           "arrowhead": 0,
           "arrowwidth": 1
          },
          "autotypenumbers": "strict",
          "coloraxis": {
           "colorbar": {
            "outlinewidth": 0,
            "ticks": ""
           }
          },
          "colorscale": {
           "diverging": [
            [
             0,
             "#8e0152"
            ],
            [
             0.1,
             "#c51b7d"
            ],
            [
             0.2,
             "#de77ae"
            ],
            [
             0.3,
             "#f1b6da"
            ],
            [
             0.4,
             "#fde0ef"
            ],
            [
             0.5,
             "#f7f7f7"
            ],
            [
             0.6,
             "#e6f5d0"
            ],
            [
             0.7,
             "#b8e186"
            ],
            [
             0.8,
             "#7fbc41"
            ],
            [
             0.9,
             "#4d9221"
            ],
            [
             1,
             "#276419"
            ]
           ],
           "sequential": [
            [
             0,
             "#0d0887"
            ],
            [
             0.1111111111111111,
             "#46039f"
            ],
            [
             0.2222222222222222,
             "#7201a8"
            ],
            [
             0.3333333333333333,
             "#9c179e"
            ],
            [
             0.4444444444444444,
             "#bd3786"
            ],
            [
             0.5555555555555556,
             "#d8576b"
            ],
            [
             0.6666666666666666,
             "#ed7953"
            ],
            [
             0.7777777777777778,
             "#fb9f3a"
            ],
            [
             0.8888888888888888,
             "#fdca26"
            ],
            [
             1,
             "#f0f921"
            ]
           ],
           "sequentialminus": [
            [
             0,
             "#0d0887"
            ],
            [
             0.1111111111111111,
             "#46039f"
            ],
            [
             0.2222222222222222,
             "#7201a8"
            ],
            [
             0.3333333333333333,
             "#9c179e"
            ],
            [
             0.4444444444444444,
             "#bd3786"
            ],
            [
             0.5555555555555556,
             "#d8576b"
            ],
            [
             0.6666666666666666,
             "#ed7953"
            ],
            [
             0.7777777777777778,
             "#fb9f3a"
            ],
            [
             0.8888888888888888,
             "#fdca26"
            ],
            [
             1,
             "#f0f921"
            ]
           ]
          },
          "colorway": [
           "#636efa",
           "#EF553B",
           "#00cc96",
           "#ab63fa",
           "#FFA15A",
           "#19d3f3",
           "#FF6692",
           "#B6E880",
           "#FF97FF",
           "#FECB52"
          ],
          "font": {
           "color": "#2a3f5f"
          },
          "geo": {
           "bgcolor": "white",
           "lakecolor": "white",
           "landcolor": "#E5ECF6",
           "showlakes": true,
           "showland": true,
           "subunitcolor": "white"
          },
          "hoverlabel": {
           "align": "left"
          },
          "hovermode": "closest",
          "mapbox": {
           "style": "light"
          },
          "paper_bgcolor": "white",
          "plot_bgcolor": "#E5ECF6",
          "polar": {
           "angularaxis": {
            "gridcolor": "white",
            "linecolor": "white",
            "ticks": ""
           },
           "bgcolor": "#E5ECF6",
           "radialaxis": {
            "gridcolor": "white",
            "linecolor": "white",
            "ticks": ""
           }
          },
          "scene": {
           "xaxis": {
            "backgroundcolor": "#E5ECF6",
            "gridcolor": "white",
            "gridwidth": 2,
            "linecolor": "white",
            "showbackground": true,
            "ticks": "",
            "zerolinecolor": "white"
           },
           "yaxis": {
            "backgroundcolor": "#E5ECF6",
            "gridcolor": "white",
            "gridwidth": 2,
            "linecolor": "white",
            "showbackground": true,
            "ticks": "",
            "zerolinecolor": "white"
           },
           "zaxis": {
            "backgroundcolor": "#E5ECF6",
            "gridcolor": "white",
            "gridwidth": 2,
            "linecolor": "white",
            "showbackground": true,
            "ticks": "",
            "zerolinecolor": "white"
           }
          },
          "shapedefaults": {
           "line": {
            "color": "#2a3f5f"
           }
          },
          "ternary": {
           "aaxis": {
            "gridcolor": "white",
            "linecolor": "white",
            "ticks": ""
           },
           "baxis": {
            "gridcolor": "white",
            "linecolor": "white",
            "ticks": ""
           },
           "bgcolor": "#E5ECF6",
           "caxis": {
            "gridcolor": "white",
            "linecolor": "white",
            "ticks": ""
           }
          },
          "title": {
           "x": 0.05
          },
          "xaxis": {
           "automargin": true,
           "gridcolor": "white",
           "linecolor": "white",
           "ticks": "",
           "title": {
            "standoff": 15
           },
           "zerolinecolor": "white",
           "zerolinewidth": 2
          },
          "yaxis": {
           "automargin": true,
           "gridcolor": "white",
           "linecolor": "white",
           "ticks": "",
           "title": {
            "standoff": 15
           },
           "zerolinecolor": "white",
           "zerolinewidth": 2
          }
         }
        },
        "title": {
         "text": " kano_transactions NNet & tsfresh. MAE=0.7277"
        }
       }
      }
     },
     "metadata": {},
     "output_type": "display_data"
    },
    {
     "name": "stderr",
     "output_type": "stream",
     "text": [
      "Rolling: 100%|██████████| 20/20 [00:00<00:00, 22.84it/s]\n",
      "Feature Extraction: 100%|██████████| 20/20 [00:00<00:00, 59.60it/s]\n"
     ]
    },
    {
     "data": {
      "image/png": "[encoded data removed]",
      "text/plain": [
       "<Figure size 640x480 with 1 Axes>"
      ]
     },
     "metadata": {},
     "output_type": "display_data"
    },
    {
     "data": {
      "application/vnd.plotly.v1+json": {
       "config": {
        "plotlyServerURL": "https://plot.ly"
       },
       "data": [
        {
         "name": "Train",
         "type": "scatter",
         "x": [
          "2022-01-07",
          "2022-01-08",
          "2022-01-09",
          "2022-01-10",
          "2022-01-11",
          "2022-01-12",
          "2022-01-13",
          "2022-01-14",
          "2022-01-15",
          "2022-01-16",
          "2022-01-17",
          "2022-01-18",
          "2022-01-19",
          "2022-01-20",
          "2022-01-21",
          "2022-01-22",
          "2022-01-23",
          "2022-01-24",
          "2022-01-25",
          "2022-01-26",
          "2022-01-27",
          "2022-01-28",
          "2022-01-29",
          "2022-01-30",
          "2022-01-31",
          "2022-02-01",
          "2022-02-02",
          "2022-02-03",
          "2022-02-04",
          "2022-02-05",
          "2022-02-06",
          "2022-02-07",
          "2022-02-08",
          "2022-02-09",
          "2022-02-10",
          "2022-02-11",
          "2022-02-12",
          "2022-02-13",
          "2022-02-14",
          "2022-02-15",
          "2022-02-16",
          "2022-02-17",
          "2022-02-18",
          "2022-02-19",
          "2022-02-20",
          "2022-02-21",
          "2022-02-22",
          "2022-02-23",
          "2022-02-24",
          "2022-02-25",
          "2022-02-26",
          "2022-02-27",
          "2022-02-28",
          "2022-03-01",
          "2022-03-02",
          "2022-03-03",
          "2022-03-04",
          "2022-03-05",
          "2022-03-06",
          "2022-03-07",
          "2022-03-08",
          "2022-03-09",
          "2022-03-10",
          "2022-03-11",
          "2022-03-12",
          "2022-03-13",
          "2022-03-14",
          "2022-03-15",
          "2022-03-16",
          "2022-03-17",
          "2022-03-18",
          "2022-03-19",
          "2022-03-20",
          "2022-03-21",
          "2022-03-22",
          "2022-03-23",
          "2022-03-24",
          "2022-03-25",
          "2022-03-26",
          "2022-03-27",
          "2022-03-28",
          "2022-03-29",
          "2022-03-30",
          "2022-03-31",
          "2022-04-01",
          "2022-04-02",
          "2022-04-03",
          "2022-04-04",
          "2022-04-05",
          "2022-04-06",
          "2022-04-07",
          "2022-04-08",
          "2022-04-09",
          "2022-04-10",
          "2022-04-11",
          "2022-04-12",
          "2022-04-13",
          "2022-04-14",
          "2022-04-15",
          "2022-04-16",
          "2022-04-17",
          "2022-04-18",
          "2022-04-19",
          "2022-04-20",
          "2022-04-21",
          "2022-04-22",
          "2022-04-23",
          "2022-04-24",
          "2022-04-25",
          "2022-04-26",
          "2022-04-27",
          "2022-04-28",
          "2022-04-29",
          "2022-04-30",
          "2022-05-01",
          "2022-05-02",
          "2022-05-03",
          "2022-05-04",
          "2022-05-05",
          "2022-05-06",
          "2022-05-07",
          "2022-05-08",
          "2022-05-09",
          "2022-05-10",
          "2022-05-11",
          "2022-05-12",
          "2022-05-13",
          "2022-05-14",
          "2022-05-15",
          "2022-05-16",
          "2022-05-17",
          "2022-05-18",
          "2022-05-19",
          "2022-05-20",
          "2022-05-21",
          "2022-05-22",
          "2022-05-23",
          "2022-05-24",
          "2022-05-25",
          "2022-05-26",
          "2022-05-27",
          "2022-05-28",
          "2022-05-29",
          "2022-05-30",
          "2022-05-31",
          "2022-06-01",
          "2022-06-02",
          "2022-06-03",
          "2022-06-04",
          "2022-06-05",
          "2022-06-06",
          "2022-06-07",
          "2022-06-08",
          "2022-06-09",
          "2022-06-10",
          "2022-06-11",
          "2022-06-12",
          "2022-06-13",
          "2022-06-14",
          "2022-06-15",
          "2022-06-16",
          "2022-06-17",
          "2022-06-18",
          "2022-06-19",
          "2022-06-20",
          "2022-06-21",
          "2022-06-22",
          "2022-06-23",
          "2022-06-24",
          "2022-06-25",
          "2022-06-26",
          "2022-06-27",
          "2022-06-28",
          "2022-06-29",
          "2022-06-30",
          "2022-07-01",
          "2022-07-02",
          "2022-07-03",
          "2022-07-04",
          "2022-07-05",
          "2022-07-06",
          "2022-07-07",
          "2022-07-08",
          "2022-07-09",
          "2022-07-10",
          "2022-07-11",
          "2022-07-12",
          "2022-07-13",
          "2022-07-14",
          "2022-07-15",
          "2022-07-16",
          "2022-07-17",
          "2022-07-18",
          "2022-07-19",
          "2022-07-20",
          "2022-07-21",
          "2022-07-22",
          "2022-07-23",
          "2022-07-24",
          "2022-07-25",
          "2022-07-26",
          "2022-07-27",
          "2022-07-28",
          "2022-07-29",
          "2022-07-30",
          "2022-07-31",
          "2022-08-01",
          "2022-08-02",
          "2022-08-03",
          "2022-08-04",
          "2022-08-05",
          "2022-08-06",
          "2022-08-07",
          "2022-08-08",
          "2022-08-09",
          "2022-08-10",
          "2022-08-11",
          "2022-08-12",
          "2022-08-13",
          "2022-08-14",
          "2022-08-15",
          "2022-08-16",
          "2022-08-17",
          "2022-08-18",
          "2022-08-19",
          "2022-08-20",
          "2022-08-21",
          "2022-08-22",
          "2022-08-23",
          "2022-08-24",
          "2022-08-25",
          "2022-08-26",
          "2022-08-27",
          "2022-08-28",
          "2022-08-29",
          "2022-08-30",
          "2022-08-31",
          "2022-09-01",
          "2022-09-02",
          "2022-09-03",
          "2022-09-04",
          "2022-09-05",
          "2022-09-06",
          "2022-09-07",
          "2022-09-08",
          "2022-09-09",
          "2022-09-10",
          "2022-09-11",
          "2022-09-12",
          "2022-09-13"
         ],
         "y": [
          0.9610202873172389,
          1.103829162451138,
          -1.5482361430842493,
          -0.6495851727294686,
          0.8084586109546831,
          -0.7032255794870795,
          1.4075592578578702,
          -1.6903483895589586,
          0.6078295571080345,
          -0.5179223561426054,
          -1.0222815053959862,
          1.335109877302136,
          0.28320060192560986,
          0.1215827529935873,
          -0.4510460048603891,
          1.275896441271007,
          -0.27688884006295106,
          -0.8704164576926201,
          1.0871100746305842,
          -2.117381757642277,
          0.7158069992824462,
          -0.23578774917075568,
          0.49079594236415613,
          -1.4040340106319704,
          0.04181877151636065,
          -1.2793374806370048,
          1.9307273809093741,
          -2.668415027061371,
          0.8203012981609089,
          -1.2918767965024203,
          1.5761433933817903,
          0.057492916348130085,
          -0.042821610575194256,
          -0.268529296152674,
          -1.3907980661073651,
          2.2846147397777683,
          -1.594213634590773,
          0.457357766723048,
          -1.8115617762579757,
          0.6733126510718712,
          1.3211773041183408,
          -1.4381688149322684,
          1.2877391284772328,
          -0.42457411581117854,
          -0.3131135303408182,
          1.3392896492572743,
          -1.3775621215827598,
          -0.3465517059819263,
          1.334413248642946,
          -0.699045807531941,
          1.4709524658441377,
          -0.634259342227294,
          0.04181877151636065,
          0.5653352088974596,
          0.4796498838171201,
          0.04181877151636065,
          0.6635598498432147,
          0.3208185495218565,
          0.4984588576152434,
          -0.18841700034585251,
          -0.9574950400913392,
          -0.262956266879156,
          1.5071771561220049,
          -0.986056815118119,
          0.912952909833146,
          -0.19677654425612953,
          -1.217337529969117,
          1.5225029866241793,
          -1.5663484882231828,
          -0.3430685626859775,
          0.105560293832223,
          -0.11596761979011826,
          0.9491776001110132,
          -1.2897869105248512,
          0.6586834492288864,
          0.9728629745234647,
          0.9840090330705007,
          -1.7321461091103438,
          0.8042788389995446,
          0.0017626236129498958,
          -0.5485740171469544,
          -0.36187753648410087,
          0.6593800778880762,
          -1.4103036685646781,
          0.05888617366650959,
          1.4347277755662706,
          -0.9609781833872879,
          -0.5430009878734364,
          0.6642564785024044,
          -1.3594497764438263,
          0.7262564291702924,
          0.5353801765523003,
          -0.8934052034458819,
          -0.7352704978098081,
          1.6708848910315965,
          -0.3291359895021825,
          -0.184237228390714,
          0.39675107337353954,
          0.9415146848599258,
          -1.4235396130892835,
          0.8314473567079449,
          -0.005900291638137381,
          0.3737623276202777,
          -0.2072259741439758,
          1.2159863765806882,
          -0.628686312953776,
          -1.8895841860872278,
          1.4939412115973996,
          0.21214447868825512,
          0.0895378346708587,
          0.026144626684591228,
          -0.7916974192041781,
          -0.25041695101374045,
          0.04181877151636065,
          0.04181877151636065,
          -1.025068020032745,
          0.09302097796680746,
          0.0010659949537601434,
          0.2929534031542664,
          0.09511086394437672,
          -1.6513371846443325,
          1.2382784936747604,
          -0.12641704967796455,
          0.2741444293561431,
          -0.36954045173518807,
          0.4998521149336229,
          -1.5405732278331619,
          0.9491776001110132,
          0.4113802752165243,
          0.8655821610082428,
          -2.0177638593781424,
          0.4120769038757141,
          0.7729305493360058,
          -0.4712482359768919,
          0.8997169653085407,
          -1.4625508180039097,
          1.0111775507789011,
          0.4587510240414275,
          0.4246162197411296,
          -0.8648434284191021,
          0.012908682159985934,
          -0.09297887403685644,
          -0.07974292951225113,
          -0.6140571111107912,
          1.016750580052419,
          0.29922306108697416,
          -1.9529773940734954,
          0.8216945554792884,
          0.41625667583085263,
          -1.0076523035530014,
          0.5681217235342186,
          0.018481711433503953,
          0.18706584695742404,
          1.315604274844823,
          -2.4789320317617585,
          1.2577840961320734,
          -0.6516750587070378,
          -0.07486652889792288,
          1.4542333780235837,
          0.40232410264705754,
          -1.0605960816514226,
          0.8091552396138729,
          -0.45034937620119936,
          -1.6771124450343533,
          1.3873570267413673,
          -0.06929349962440486,
          -0.7659221588141573,
          0.34102078063835933,
          -0.747113185016034,
          -0.17866419911719597,
          2.2219181604506906,
          -1.467427218618238,
          2.254659707432609,
          0.04181877151636065,
          0.04181877151636065,
          0.04181877151636065,
          -0.23230460587480692,
          -0.37163033771275733,
          0.6698295077759224,
          0.14108835545090037,
          -1.2013150708077525,
          -0.10203504660632322,
          -1.8777414988810022,
          0.04181877151636065,
          -0.16403499727421117,
          -0.5673829909450777,
          0.5012453722520024,
          0.8802113628512276,
          -1.537090084537213,
          0.2713579147193841,
          0.8133350115690113,
          0.18985236159418303,
          0.2616051134907275,
          -0.6307761989313453,
          -0.24623717905860196,
          -0.09019235940009743,
          0.49427908566010487,
          -0.6356525995456735,
          0.6363913321348144,
          -0.4057651420130552,
          0.8154248975465807,
          -0.06790024230602534,
          -0.37581010966789585,
          -1.256348734883743,
          0.30827923365644094,
          0.18149281768390602,
          1.2584807247912633,
          -1.5447529997883005,
          1.227829063786914,
          -1.6596967285546096,
          0.9714697172050851,
          0.10347040785465374,
          0.600863270516137,
          -2.0428424911089733,
          1.5315591591936462,
          -0.9728208705935137,
          0.6140992150407423,
          0.8627956463714838,
          -1.8192246915090629,
          0.7499418035827439,
          -0.5248886427345029,
          1.7098960959462226,
          -0.8063266210471629,
          -0.4294505164255068,
          0.8084586109546831,
          -0.7290008398771003,
          -0.8613602851231533,
          0.3382342660016003,
          -0.648191915411089,
          1.7342780990178641,
          1.2292223211052935,
          -1.9836290550778444,
          0.0073356528864679145,
          0.2588185988539685,
          1.537132188467164,
          -1.9696964818940494,
          -0.1271136783371543,
          0.20169504880040884,
          -1.104483687180377,
          1.6632219757805093,
          -0.6461020294335198,
          -0.3528213639146341,
          0.76108786212978,
          -0.6593379739581251,
          0.9477843427926336,
          -0.42109097251522976,
          -1.3956744667216934,
          0.392571301418401,
          1.0975595045184303,
          -0.2720124394486228
         ]
        },
        {
         "name": "Test",
         "type": "scatter",
         "x": [
          "2022-09-14",
          "2022-09-15",
          "2022-09-16",
          "2022-09-17",
          "2022-09-18",
          "2022-09-19",
          "2022-09-20",
          "2022-09-21",
          "2022-09-22",
          "2022-09-23",
          "2022-09-24",
          "2022-09-25",
          "2022-09-26",
          "2022-09-27",
          "2022-09-28",
          "2022-09-29",
          "2022-09-30",
          "2022-10-01",
          "2022-10-02",
          "2022-10-03",
          "2022-10-04",
          "2022-10-05",
          "2022-10-06",
          "2022-10-07",
          "2022-10-08",
          "2022-10-09",
          "2022-10-10",
          "2022-10-11",
          "2022-10-12",
          "2022-10-13",
          "2022-10-14",
          "2022-10-15",
          "2022-10-16",
          "2022-10-17",
          "2022-10-18",
          "2022-10-19",
          "2022-10-20",
          "2022-10-21",
          "2022-10-22",
          "2022-10-23",
          "2022-10-24",
          "2022-10-25",
          "2022-10-26",
          "2022-10-27",
          "2022-10-28",
          "2022-10-29",
          "2022-10-30",
          "2022-10-31",
          "2022-11-01",
          "2022-11-02",
          "2022-11-03",
          "2022-11-04",
          "2022-11-05",
          "2022-11-06",
          "2022-11-07",
          "2022-11-08",
          "2022-11-09",
          "2022-11-10",
          "2022-11-11",
          "2022-11-12",
          "2022-11-13",
          "2022-11-14",
          "2022-11-15",
          "2022-11-16",
          "2022-11-17",
          "2022-11-18",
          "2022-11-19",
          "2022-11-20",
          "2022-11-21",
          "2022-11-22",
          "2022-11-23",
          "2022-11-24",
          "2022-11-25",
          "2022-11-26",
          "2022-11-27",
          "2022-11-28",
          "2022-11-29",
          "2022-11-30",
          "2022-12-01",
          "2022-12-02",
          "2022-12-03",
          "2022-12-04",
          "2022-12-05",
          "2022-12-06",
          "2022-12-07",
          "2022-12-08",
          "2022-12-09",
          "2022-12-10",
          "2022-12-11",
          "2022-12-12",
          "2022-12-13",
          "2022-12-14",
          "2022-12-15",
          "2022-12-16",
          "2022-12-17",
          "2022-12-18",
          "2022-12-19",
          "2022-12-20",
          "2022-12-21",
          "2022-12-22",
          "2022-12-23",
          "2022-12-24",
          "2022-12-25",
          "2022-12-26",
          "2022-12-27",
          "2022-12-28",
          "2022-12-29",
          "2022-12-30"
         ],
         "y": [
          1.2877391284772328,
          -0.16612488325178043,
          -0.8432479399842198,
          -0.5374279585999184,
          0.6990879114618921,
          0.8502563305060683,
          -1.4089104112462987,
          -0.5604167043531803,
          0.9171326817882844,
          0.8168181548649601,
          -1.1421016347766235,
          -0.10482156124308223,
          0.8377170146406527,
          -0.25668660894644824,
          -1.5565956869945263,
          1.5225029866241793,
          0.04181877151636065,
          0.04181877151636065,
          0.6154924723591217,
          1.77398593259168,
          -0.5618099616715597,
          -0.6488885440702788,
          -0.12502379235958505,
          0.7924361517933188,
          -0.2782820973813306,
          1.264750382723971,
          -2.231628857749396,
          0.12297601031196681,
          1.9084352638153022,
          -1.2814273666145741,
          -0.007990177615706638,
          2.1020980310700534,
          -1.4771800198468945,
          0.2866837452215586,
          -1.3260116008027183,
          1.0655145861957018,
          -0.8188659369125785,
          -0.4392033176541633,
          1.0383460684873014,
          0.5695149808525981,
          -1.1469780353909518,
          0.4566611380638582,
          -0.15288893872717513,
          -1.1260791756152593,
          1.2431548942890887,
          -0.07625978621630237,
          0.26648151410505583,
          0.14875127070198765,
          -0.980483785844601,
          -0.963764698024047,
          1.247334666244227,
          0.33475112270565155,
          0.34798706723025685,
          -2.3974264786365573,
          0.44342519353925297,
          0.8774248482144686,
          0.4998521149336229,
          -0.2002596875520783,
          0.45805439538223774,
          -1.1630004945523162,
          -0.7039222081462693,
          0.8014923243627856,
          0.15780744327145443,
          0.23304333846394767,
          -0.634259342227294,
          0.9011102226269202,
          0.31524552024833846,
          -0.20443945950721681,
          0.07560526148706365,
          -0.7220345532852028,
          0.37167244164270846,
          -0.47960777988716896,
          1.9474464687299282,
          -1.2681914220899688,
          -0.09088898805928718,
          -0.09506876001442569,
          -0.749899699652793,
          0.04181877151636065,
          0.04181877151636065,
          0.40929038923895505,
          0.6705261364351123,
          1.2013571747377034,
          -0.46219206340742514,
          -0.2950011852018846,
          0.27902082997047134,
          -1.3608430337622057,
          1.0522786416710965,
          0.4427285648800632,
          -1.4242362417484733,
          0.6545036772737479,
          -0.2058327168255963,
          -1.525944025990177,
          1.3218739327775306,
          -1.765584284751452,
          0.8432900439141707,
          0.8767282195552789,
          0.35773986845891337,
          -1.1274724329336387,
          1.1741886570293032,
          1.3079413595937355,
          0.04181877151636065,
          2.3208394300556354,
          -0.07556315755711263,
          -1.129562318911208,
          1.950929612025877,
          0.3236050641586155,
          -1.4945957363266382,
          -0.7868210185898499
         ]
        },
        {
         "name": "Predicted",
         "type": "scatter",
         "x": [
          "2022-09-14",
          "2022-09-15",
          "2022-09-16",
          "2022-09-17",
          "2022-09-18",
          "2022-09-19",
          "2022-09-20",
          "2022-09-21",
          "2022-09-22",
          "2022-09-23",
          "2022-09-24",
          "2022-09-25",
          "2022-09-26",
          "2022-09-27",
          "2022-09-28",
          "2022-09-29",
          "2022-09-30",
          "2022-10-01",
          "2022-10-02",
          "2022-10-03",
          "2022-10-04",
          "2022-10-05",
          "2022-10-06",
          "2022-10-07",
          "2022-10-08",
          "2022-10-09",
          "2022-10-10",
          "2022-10-11",
          "2022-10-12",
          "2022-10-13",
          "2022-10-14",
          "2022-10-15",
          "2022-10-16",
          "2022-10-17",
          "2022-10-18",
          "2022-10-19",
          "2022-10-20",
          "2022-10-21",
          "2022-10-22",
          "2022-10-23",
          "2022-10-24",
          "2022-10-25",
          "2022-10-26",
          "2022-10-27",
          "2022-10-28",
          "2022-10-29",
          "2022-10-30",
          "2022-10-31",
          "2022-11-01",
          "2022-11-02",
          "2022-11-03",
          "2022-11-04",
          "2022-11-05",
          "2022-11-06",
          "2022-11-07",
          "2022-11-08",
          "2022-11-09",
          "2022-11-10",
          "2022-11-11",
          "2022-11-12",
          "2022-11-13",
          "2022-11-14",
          "2022-11-15",
          "2022-11-16",
          "2022-11-17",
          "2022-11-18",
          "2022-11-19",
          "2022-11-20",
          "2022-11-21",
          "2022-11-22",
          "2022-11-23",
          "2022-11-24",
          "2022-11-25",
          "2022-11-26",
          "2022-11-27",
          "2022-11-28",
          "2022-11-29",
          "2022-11-30",
          "2022-12-01",
          "2022-12-02",
          "2022-12-03",
          "2022-12-04",
          "2022-12-05",
          "2022-12-06",
          "2022-12-07",
          "2022-12-08",
          "2022-12-09",
          "2022-12-10",
          "2022-12-11",
          "2022-12-12",
          "2022-12-13",
          "2022-12-14",
          "2022-12-15",
          "2022-12-16",
          "2022-12-17",
          "2022-12-18",
          "2022-12-19",
          "2022-12-20",
          "2022-12-21",
          "2022-12-22",
          "2022-12-23",
          "2022-12-24",
          "2022-12-25",
          "2022-12-26",
          "2022-12-27",
          "2022-12-28",
          "2022-12-29",
          "2022-12-30"
         ],
         "y": [
          -0.2763923108577728,
          0.02749103307723999,
          0.13726866245269775,
          0.45075148344039917,
          0.15464873611927032,
          -0.36337023973464966,
          -0.24431531131267548,
          0.09122651815414429,
          0.5283216238021851,
          -0.130859836935997,
          0.015122205018997192,
          0.34499412775039673,
          -0.1181405633687973,
          -0.3183469772338867,
          -0.19362762570381165,
          0.7291032075881958,
          -0.22568872570991516,
          0.3301853537559509,
          -0.04252955690026283,
          -0.5438871383666992,
          -0.5923920273780823,
          -0.2612069547176361,
          0.4968533515930176,
          0.0965375155210495,
          0.06565484404563904,
          -0.008458597585558891,
          -0.6015121340751648,
          0.347311794757843,
          -0.43314191699028015,
          -0.4134847819805145,
          0.16386792063713074,
          0.23790103197097778,
          -0.7336899042129517,
          -0.08131593465805054,
          -0.30949217081069946,
          -0.05540496110916138,
          -0.19620338082313538,
          0.11851732432842255,
          0.34872251749038696,
          -0.32068273425102234,
          -0.44030824303627014,
          0.2423456758260727,
          -0.33945053815841675,
          0.33955255150794983,
          0.34689605236053467,
          0.09083977341651917,
          0.07377167791128159,
          -0.13141867518424988,
          -0.08300456404685974,
          0.042987287044525146,
          0.8775746822357178,
          -0.08299612998962402,
          0.3864828944206238,
          0.18791891634464264,
          0.45354121923446655,
          -0.06178799271583557,
          -0.5072680115699768,
          0.219175785779953,
          0.02114633098244667,
          0.09415121376514435,
          0.342139333486557,
          0.11425039172172546,
          -0.2592158913612366,
          -0.3035796284675598,
          0.25988537073135376,
          0.10807016491889954,
          0.09525945782661438,
          -0.08417162299156189,
          -0.16209161281585693,
          -0.12379604578018188,
          -0.16272597014904022,
          0.10425463318824768,
          0.09581160545349121,
          -0.16880112886428833,
          0.357657253742218,
          -0.12317915260791779,
          -0.0014531314373016357,
          0.06409358978271484,
          0.5382071733474731,
          0.2577344477176666,
          0.4618839621543884,
          -0.030833957716822624,
          -0.5281822085380554,
          0.015332520008087158,
          -0.16010306775569916,
          0.31375405192375183,
          0.41736000776290894,
          0.1775621920824051,
          0.01954568363726139,
          0.28671932220458984,
          -0.10809925198554993,
          -0.15731191635131836,
          0.8414613008499146,
          -0.17141419649124146,
          0.9508621692657471,
          -0.02705894224345684,
          -0.34205132722854614,
          -0.13319051265716553,
          0.029091835021972656,
          0.06351998448371887,
          -0.35359203815460205,
          0.2081323266029358,
          -0.7299696207046509,
          -0.3554922640323639,
          0.15662328898906708,
          -0.8472667336463928,
          0.08497568964958191,
          0.18879325687885284
         ]
        }
       ],
       "layout": {
        "template": {
         "data": {
          "bar": [
           {
            "error_x": {
             "color": "#2a3f5f"
            },
            "error_y": {
             "color": "#2a3f5f"
            },
            "marker": {
             "line": {
              "color": "#E5ECF6",
              "width": 0.5
             },
             "pattern": {
              "fillmode": "overlay",
              "size": 10,
              "solidity": 0.2
             }
            },
            "type": "bar"
           }
          ],
          "barpolar": [
           {
            "marker": {
             "line": {
              "color": "#E5ECF6",
              "width": 0.5
             },
             "pattern": {
              "fillmode": "overlay",
              "size": 10,
              "solidity": 0.2
             }
            },
            "type": "barpolar"
           }
          ],
          "carpet": [
           {
            "aaxis": {
             "endlinecolor": "#2a3f5f",
             "gridcolor": "white",
             "linecolor": "white",
             "minorgridcolor": "white",
             "startlinecolor": "#2a3f5f"
            },
            "baxis": {
             "endlinecolor": "#2a3f5f",
             "gridcolor": "white",
             "linecolor": "white",
             "minorgridcolor": "white",
             "startlinecolor": "#2a3f5f"
            },
            "type": "carpet"
           }
          ],
          "choropleth": [
           {
            "colorbar": {
             "outlinewidth": 0,
             "ticks": ""
            },
            "type": "choropleth"
           }
          ],
          "contour": [
           {
            "colorbar": {
             "outlinewidth": 0,
             "ticks": ""
            },
            "colorscale": [
             [
              0,
              "#0d0887"
             ],
             [
              0.1111111111111111,
              "#46039f"
             ],
             [
              0.2222222222222222,
              "#7201a8"
             ],
             [
              0.3333333333333333,
              "#9c179e"
             ],
             [
              0.4444444444444444,
              "#bd3786"
             ],
             [
              0.5555555555555556,
              "#d8576b"
             ],
             [
              0.6666666666666666,
              "#ed7953"
             ],
             [
              0.7777777777777778,
              "#fb9f3a"
             ],
             [
              0.8888888888888888,
              "#fdca26"
             ],
             [
              1,
              "#f0f921"
             ]
            ],
            "type": "contour"
           }
          ],
          "contourcarpet": [
           {
            "colorbar": {
             "outlinewidth": 0,
             "ticks": ""
            },
            "type": "contourcarpet"
           }
          ],
          "heatmap": [
           {
            "colorbar": {
             "outlinewidth": 0,
             "ticks": ""
            },
            "colorscale": [
             [
              0,
              "#0d0887"
             ],
             [
              0.1111111111111111,
              "#46039f"
             ],
             [
              0.2222222222222222,
              "#7201a8"
             ],
             [
              0.3333333333333333,
              "#9c179e"
             ],
             [
              0.4444444444444444,
              "#bd3786"
             ],
             [
              0.5555555555555556,
              "#d8576b"
             ],
             [
              0.6666666666666666,
              "#ed7953"
             ],
             [
              0.7777777777777778,
              "#fb9f3a"
             ],
             [
              0.8888888888888888,
              "#fdca26"
             ],
             [
              1,
              "#f0f921"
             ]
            ],
            "type": "heatmap"
           }
          ],
          "heatmapgl": [
           {
            "colorbar": {
             "outlinewidth": 0,
             "ticks": ""
            },
            "colorscale": [
             [
              0,
              "#0d0887"
             ],
             [
              0.1111111111111111,
              "#46039f"
             ],
             [
              0.2222222222222222,
              "#7201a8"
             ],
             [
              0.3333333333333333,
              "#9c179e"
             ],
             [
              0.4444444444444444,
              "#bd3786"
             ],
             [
              0.5555555555555556,
              "#d8576b"
             ],
             [
              0.6666666666666666,
              "#ed7953"
             ],
             [
              0.7777777777777778,
              "#fb9f3a"
             ],
             [
              0.8888888888888888,
              "#fdca26"
             ],
             [
              1,
              "#f0f921"
             ]
            ],
            "type": "heatmapgl"
           }
          ],
          "histogram": [
           {
            "marker": {
             "pattern": {
              "fillmode": "overlay",
              "size": 10,
              "solidity": 0.2
             }
            },
            "type": "histogram"
           }
          ],
          "histogram2d": [
           {
            "colorbar": {
             "outlinewidth": 0,
             "ticks": ""
            },
            "colorscale": [
             [
              0,
              "#0d0887"
             ],
             [
              0.1111111111111111,
              "#46039f"
             ],
             [
              0.2222222222222222,
              "#7201a8"
             ],
             [
              0.3333333333333333,
              "#9c179e"
             ],
             [
              0.4444444444444444,
              "#bd3786"
             ],
             [
              0.5555555555555556,
              "#d8576b"
             ],
             [
              0.6666666666666666,
              "#ed7953"
             ],
             [
              0.7777777777777778,
              "#fb9f3a"
             ],
             [
              0.8888888888888888,
              "#fdca26"
             ],
             [
              1,
              "#f0f921"
             ]
            ],
            "type": "histogram2d"
           }
          ],
          "histogram2dcontour": [
           {
            "colorbar": {
             "outlinewidth": 0,
             "ticks": ""
            },
            "colorscale": [
             [
              0,
              "#0d0887"
             ],
             [
              0.1111111111111111,
              "#46039f"
             ],
             [
              0.2222222222222222,
              "#7201a8"
             ],
             [
              0.3333333333333333,
              "#9c179e"
             ],
             [
              0.4444444444444444,
              "#bd3786"
             ],
             [
              0.5555555555555556,
              "#d8576b"
             ],
             [
              0.6666666666666666,
              "#ed7953"
             ],
             [
              0.7777777777777778,
              "#fb9f3a"
             ],
             [
              0.8888888888888888,
              "#fdca26"
             ],
             [
              1,
              "#f0f921"
             ]
            ],
            "type": "histogram2dcontour"
           }
          ],
          "mesh3d": [
           {
            "colorbar": {
             "outlinewidth": 0,
             "ticks": ""
            },
            "type": "mesh3d"
           }
          ],
          "parcoords": [
           {
            "line": {
             "colorbar": {
              "outlinewidth": 0,
              "ticks": ""
             }
            },
            "type": "parcoords"
           }
          ],
          "pie": [
           {
            "automargin": true,
            "type": "pie"
           }
          ],
          "scatter": [
           {
            "fillpattern": {
             "fillmode": "overlay",
             "size": 10,
             "solidity": 0.2
            },
            "type": "scatter"
           }
          ],
          "scatter3d": [
           {
            "line": {
             "colorbar": {
              "outlinewidth": 0,
              "ticks": ""
             }
            },
            "marker": {
             "colorbar": {
              "outlinewidth": 0,
              "ticks": ""
             }
            },
            "type": "scatter3d"
           }
          ],
          "scattercarpet": [
           {
            "marker": {
             "colorbar": {
              "outlinewidth": 0,
              "ticks": ""
             }
            },
            "type": "scattercarpet"
           }
          ],
          "scattergeo": [
           {
            "marker": {
             "colorbar": {
              "outlinewidth": 0,
              "ticks": ""
             }
            },
            "type": "scattergeo"
           }
          ],
          "scattergl": [
           {
            "marker": {
             "colorbar": {
              "outlinewidth": 0,
              "ticks": ""
             }
            },
            "type": "scattergl"
           }
          ],
          "scattermapbox": [
           {
            "marker": {
             "colorbar": {
              "outlinewidth": 0,
              "ticks": ""
             }
            },
            "type": "scattermapbox"
           }
          ],
          "scatterpolar": [
           {
            "marker": {
             "colorbar": {
              "outlinewidth": 0,
              "ticks": ""
             }
            },
            "type": "scatterpolar"
           }
          ],
          "scatterpolargl": [
           {
            "marker": {
             "colorbar": {
              "outlinewidth": 0,
              "ticks": ""
             }
            },
            "type": "scatterpolargl"
           }
          ],
          "scatterternary": [
           {
            "marker": {
             "colorbar": {
              "outlinewidth": 0,
              "ticks": ""
             }
            },
            "type": "scatterternary"
           }
          ],
          "surface": [
           {
            "colorbar": {
             "outlinewidth": 0,
             "ticks": ""
            },
            "colorscale": [
             [
              0,
              "#0d0887"
             ],
             [
              0.1111111111111111,
              "#46039f"
             ],
             [
              0.2222222222222222,
              "#7201a8"
             ],
             [
              0.3333333333333333,
              "#9c179e"
             ],
             [
              0.4444444444444444,
              "#bd3786"
             ],
             [
              0.5555555555555556,
              "#d8576b"
             ],
             [
              0.6666666666666666,
              "#ed7953"
             ],
             [
              0.7777777777777778,
              "#fb9f3a"
             ],
             [
              0.8888888888888888,
              "#fdca26"
             ],
             [
              1,
              "#f0f921"
             ]
            ],
            "type": "surface"
           }
          ],
          "table": [
           {
            "cells": {
             "fill": {
              "color": "#EBF0F8"
             },
             "line": {
              "color": "white"
             }
            },
            "header": {
             "fill": {
              "color": "#C8D4E3"
             },
             "line": {
              "color": "white"
             }
            },
            "type": "table"
           }
          ]
         },
         "layout": {
          "annotationdefaults": {
           "arrowcolor": "#2a3f5f",
           "arrowhead": 0,
           "arrowwidth": 1
          },
          "autotypenumbers": "strict",
          "coloraxis": {
           "colorbar": {
            "outlinewidth": 0,
            "ticks": ""
           }
          },
          "colorscale": {
           "diverging": [
            [
             0,
             "#8e0152"
            ],
            [
             0.1,
             "#c51b7d"
            ],
            [
             0.2,
             "#de77ae"
            ],
            [
             0.3,
             "#f1b6da"
            ],
            [
             0.4,
             "#fde0ef"
            ],
            [
             0.5,
             "#f7f7f7"
            ],
            [
             0.6,
             "#e6f5d0"
            ],
            [
             0.7,
             "#b8e186"
            ],
            [
             0.8,
             "#7fbc41"
            ],
            [
             0.9,
             "#4d9221"
            ],
            [
             1,
             "#276419"
            ]
           ],
           "sequential": [
            [
             0,
             "#0d0887"
            ],
            [
             0.1111111111111111,
             "#46039f"
            ],
            [
             0.2222222222222222,
             "#7201a8"
            ],
            [
             0.3333333333333333,
             "#9c179e"
            ],
            [
             0.4444444444444444,
             "#bd3786"
            ],
            [
             0.5555555555555556,
             "#d8576b"
            ],
            [
             0.6666666666666666,
             "#ed7953"
            ],
            [
             0.7777777777777778,
             "#fb9f3a"
            ],
            [
             0.8888888888888888,
             "#fdca26"
            ],
            [
             1,
             "#f0f921"
            ]
           ],
           "sequentialminus": [
            [
             0,
             "#0d0887"
            ],
            [
             0.1111111111111111,
             "#46039f"
            ],
            [
             0.2222222222222222,
             "#7201a8"
            ],
            [
             0.3333333333333333,
             "#9c179e"
            ],
            [
             0.4444444444444444,
             "#bd3786"
            ],
            [
             0.5555555555555556,
             "#d8576b"
            ],
            [
             0.6666666666666666,
             "#ed7953"
            ],
            [
             0.7777777777777778,
             "#fb9f3a"
            ],
            [
             0.8888888888888888,
             "#fdca26"
            ],
            [
             1,
             "#f0f921"
            ]
           ]
          },
          "colorway": [
           "#636efa",
           "#EF553B",
           "#00cc96",
           "#ab63fa",
           "#FFA15A",
           "#19d3f3",
           "#FF6692",
           "#B6E880",
           "#FF97FF",
           "#FECB52"
          ],
          "font": {
           "color": "#2a3f5f"
          },
          "geo": {
           "bgcolor": "white",
           "lakecolor": "white",
           "landcolor": "#E5ECF6",
           "showlakes": true,
           "showland": true,
           "subunitcolor": "white"
          },
          "hoverlabel": {
           "align": "left"
          },
          "hovermode": "closest",
          "mapbox": {
           "style": "light"
          },
          "paper_bgcolor": "white",
          "plot_bgcolor": "#E5ECF6",
          "polar": {
           "angularaxis": {
            "gridcolor": "white",
            "linecolor": "white",
            "ticks": ""
           },
           "bgcolor": "#E5ECF6",
           "radialaxis": {
            "gridcolor": "white",
            "linecolor": "white",
            "ticks": ""
           }
          },
          "scene": {
           "xaxis": {
            "backgroundcolor": "#E5ECF6",
            "gridcolor": "white",
            "gridwidth": 2,
            "linecolor": "white",
            "showbackground": true,
            "ticks": "",
            "zerolinecolor": "white"
           },
           "yaxis": {
            "backgroundcolor": "#E5ECF6",
            "gridcolor": "white",
            "gridwidth": 2,
            "linecolor": "white",
            "showbackground": true,
            "ticks": "",
            "zerolinecolor": "white"
           },
           "zaxis": {
            "backgroundcolor": "#E5ECF6",
            "gridcolor": "white",
            "gridwidth": 2,
            "linecolor": "white",
            "showbackground": true,
            "ticks": "",
            "zerolinecolor": "white"
           }
          },
          "shapedefaults": {
           "line": {
            "color": "#2a3f5f"
           }
          },
          "ternary": {
           "aaxis": {
            "gridcolor": "white",
            "linecolor": "white",
            "ticks": ""
           },
           "baxis": {
            "gridcolor": "white",
            "linecolor": "white",
            "ticks": ""
           },
           "bgcolor": "#E5ECF6",
           "caxis": {
            "gridcolor": "white",
            "linecolor": "white",
            "ticks": ""
           }
          },
          "title": {
           "x": 0.05
          },
          "xaxis": {
           "automargin": true,
           "gridcolor": "white",
           "linecolor": "white",
           "ticks": "",
           "title": {
            "standoff": 15
           },
           "zerolinecolor": "white",
           "zerolinewidth": 2
          },
          "yaxis": {
           "automargin": true,
           "gridcolor": "white",
           "linecolor": "white",
           "ticks": "",
           "title": {
            "standoff": 15
           },
           "zerolinecolor": "white",
           "zerolinewidth": 2
          }
         }
        },
        "title": {
         "text": " lagos_transactions NNet & tsfresh. MAE=0.7700"
        }
       }
      }
     },
     "metadata": {},
     "output_type": "display_data"
    },
    {
     "name": "stderr",
     "output_type": "stream",
     "text": [
      "Rolling: 100%|██████████| 20/20 [00:00<00:00, 42.11it/s]\n",
      "Feature Extraction: 100%|██████████| 20/20 [00:00<00:00, 65.35it/s]\n"
     ]
    },
    {
     "data": {
      "image/png": "[encoded data removed]",
      "text/plain": [
       "<Figure size 640x480 with 1 Axes>"
      ]
     },
     "metadata": {},
     "output_type": "display_data"
    },
    {
     "data": {
      "application/vnd.plotly.v1+json": {
       "config": {
        "plotlyServerURL": "https://plot.ly"
       },
       "data": [
        {
         "name": "Train",
         "type": "scatter",
         "x": [
          "2022-01-07",
          "2022-01-08",
          "2022-01-09",
          "2022-01-10",
          "2022-01-11",
          "2022-01-12",
          "2022-01-13",
          "2022-01-14",
          "2022-01-15",
          "2022-01-16",
          "2022-01-17",
          "2022-01-18",
          "2022-01-19",
          "2022-01-20",
          "2022-01-21",
          "2022-01-22",
          "2022-01-23",
          "2022-01-24",
          "2022-01-25",
          "2022-01-26",
          "2022-01-27",
          "2022-01-28",
          "2022-01-29",
          "2022-01-30",
          "2022-01-31",
          "2022-02-01",
          "2022-02-02",
          "2022-02-03",
          "2022-02-04",
          "2022-02-05",
          "2022-02-06",
          "2022-02-07",
          "2022-02-08",
          "2022-02-09",
          "2022-02-10",
          "2022-02-11",
          "2022-02-12",
          "2022-02-13",
          "2022-02-14",
          "2022-02-15",
          "2022-02-16",
          "2022-02-17",
          "2022-02-18",
          "2022-02-19",
          "2022-02-20",
          "2022-02-21",
          "2022-02-22",
          "2022-02-23",
          "2022-02-24",
          "2022-02-25",
          "2022-02-26",
          "2022-02-27",
          "2022-02-28",
          "2022-03-01",
          "2022-03-02",
          "2022-03-03",
          "2022-03-04",
          "2022-03-05",
          "2022-03-06",
          "2022-03-07",
          "2022-03-08",
          "2022-03-09",
          "2022-03-10",
          "2022-03-11",
          "2022-03-12",
          "2022-03-13",
          "2022-03-14",
          "2022-03-15",
          "2022-03-16",
          "2022-03-17",
          "2022-03-18",
          "2022-03-19",
          "2022-03-20",
          "2022-03-21",
          "2022-03-22",
          "2022-03-23",
          "2022-03-24",
          "2022-03-25",
          "2022-03-26",
          "2022-03-27",
          "2022-03-28",
          "2022-03-29",
          "2022-03-30",
          "2022-03-31",
          "2022-04-01",
          "2022-04-02",
          "2022-04-03",
          "2022-04-04",
          "2022-04-05",
          "2022-04-06",
          "2022-04-07",
          "2022-04-08",
          "2022-04-09",
          "2022-04-10",
          "2022-04-11",
          "2022-04-12",
          "2022-04-13",
          "2022-04-14",
          "2022-04-15",
          "2022-04-16",
          "2022-04-17",
          "2022-04-18",
          "2022-04-19",
          "2022-04-20",
          "2022-04-21",
          "2022-04-22",
          "2022-04-23",
          "2022-04-24",
          "2022-04-25",
          "2022-04-26",
          "2022-04-27",
          "2022-04-28",
          "2022-04-29",
          "2022-04-30",
          "2022-05-01",
          "2022-05-02",
          "2022-05-03",
          "2022-05-04",
          "2022-05-05",
          "2022-05-06",
          "2022-05-07",
          "2022-05-08",
          "2022-05-09",
          "2022-05-10",
          "2022-05-11",
          "2022-05-12",
          "2022-05-13",
          "2022-05-14",
          "2022-05-15",
          "2022-05-16",
          "2022-05-17",
          "2022-05-18",
          "2022-05-19",
          "2022-05-20",
          "2022-05-21",
          "2022-05-22",
          "2022-05-23",
          "2022-05-24",
          "2022-05-25",
          "2022-05-26",
          "2022-05-27",
          "2022-05-28",
          "2022-05-29",
          "2022-05-30",
          "2022-05-31",
          "2022-06-01",
          "2022-06-02",
          "2022-06-03",
          "2022-06-04",
          "2022-06-05",
          "2022-06-06",
          "2022-06-07",
          "2022-06-08",
          "2022-06-09",
          "2022-06-10",
          "2022-06-11",
          "2022-06-12",
          "2022-06-13",
          "2022-06-14",
          "2022-06-15",
          "2022-06-16",
          "2022-06-17",
          "2022-06-18",
          "2022-06-19",
          "2022-06-20",
          "2022-06-21",
          "2022-06-22",
          "2022-06-23",
          "2022-06-24",
          "2022-06-25",
          "2022-06-26",
          "2022-06-27",
          "2022-06-28",
          "2022-06-29",
          "2022-06-30",
          "2022-07-01",
          "2022-07-02",
          "2022-07-03",
          "2022-07-04",
          "2022-07-05",
          "2022-07-06",
          "2022-07-07",
          "2022-07-08",
          "2022-07-09",
          "2022-07-10",
          "2022-07-11",
          "2022-07-12",
          "2022-07-13",
          "2022-07-14",
          "2022-07-15",
          "2022-07-16",
          "2022-07-17",
          "2022-07-18",
          "2022-07-19",
          "2022-07-20",
          "2022-07-21",
          "2022-07-22",
          "2022-07-23",
          "2022-07-24",
          "2022-07-25",
          "2022-07-26",
          "2022-07-27",
          "2022-07-28",
          "2022-07-29",
          "2022-07-30",
          "2022-07-31",
          "2022-08-01",
          "2022-08-02",
          "2022-08-03",
          "2022-08-04",
          "2022-08-05",
          "2022-08-06",
          "2022-08-07",
          "2022-08-08",
          "2022-08-09",
          "2022-08-10",
          "2022-08-11",
          "2022-08-12",
          "2022-08-13",
          "2022-08-14",
          "2022-08-15",
          "2022-08-16",
          "2022-08-17",
          "2022-08-18",
          "2022-08-19",
          "2022-08-20",
          "2022-08-21",
          "2022-08-22",
          "2022-08-23",
          "2022-08-24",
          "2022-08-25",
          "2022-08-26",
          "2022-08-27",
          "2022-08-28",
          "2022-08-29",
          "2022-08-30",
          "2022-08-31",
          "2022-09-01",
          "2022-09-02",
          "2022-09-03",
          "2022-09-04",
          "2022-09-05",
          "2022-09-06",
          "2022-09-07",
          "2022-09-08",
          "2022-09-09",
          "2022-09-10",
          "2022-09-11",
          "2022-09-12",
          "2022-09-13"
         ],
         "y": [
          -0.46942176458348,
          -0.1968533768530211,
          1.3699862859497423,
          0.9765621036595517,
          -1.7688358394242838,
          1.7505534688186848,
          -1.4594107200195805,
          0.5959949207906091,
          -1.3668403241865945,
          0.9859905699018002,
          -0.19256771037927173,
          0.6225660529278552,
          0.6859939167393455,
          -2.0885465583659855,
          2.2494050463631097,
          -1.5374098498418187,
          -0.8628459468736706,
          0.6585656513073497,
          0.7314219813610887,
          -2.2411162848314623,
          1.8585522639571685,
          -0.5251354287422215,
          0.8368493766153228,
          -2.4768279408876768,
          2.499687968430072,
          -0.3091378384652541,
          0.1588569404681752,
          0.7742786460985822,
          -1.7131221752655421,
          0.6979937828658438,
          0.5908521210221099,
          -1.1928422653523707,
          -0.11199718067278391,
          -0.5328496283949704,
          -0.06999764923004026,
          0.3482833986078966,
          2.2314052471733623,
          -2.1742598878409725,
          1.8799805963259153,
          -2.291687149221705,
          1.212273759715766,
          0.18628520590017106,
          -1.2331275302056146,
          0.41085412912463715,
          -0.9854160080229021,
          0.19485653884766976,
          2.5202591675040686,
          -1.1756995994573733,
          0.42542539513538496,
          0.15371414069967598,
          -0.6785622885024484,
          -0.26113837395926137,
          0.010572880476447579,
          0.45285366056738074,
          1.3425580205177465,
          0.010572880476447579,
          0.8128496443623264,
          -0.482278764004728,
          -0.7625613513879357,
          0.02685841307669512,
          0.5634238555901141,
          -0.36485150262399574,
          0.9568480378803047,
          -1.0839863369191372,
          0.4151397955983865,
          0.9662765041225533,
          0.6534228515388505,
          -0.9391308101064091,
          0.3748545307451426,
          -1.5245528504205708,
          0.22057053769016588,
          1.171988494862522,
          -2.001118962301499,
          0.8531349092155703,
          0.3517119317868961,
          1.0905608318612845,
          -1.157699800267626,
          0.4691391931676283,
          -1.0634151378451402,
          0.09114341018293541,
          0.6868510500340954,
          -0.43942209926723447,
          0.23428467040616383,
          -0.42827936643548614,
          0.6611370511915993,
          -0.1385683128100299,
          -0.49685003001547584,
          -0.38542270169799264,
          0.8985629738373134,
          -0.9991301407389,
          -0.29370943915975645,
          1.6579830729856988,
          -0.5431352279319689,
          -0.5611350271217161,
          -0.3837084351084929,
          -0.08285464865128832,
          0.9002772404268132,
          0.7185649819398406,
          -1.5896949808215608,
          0.09457194336193489,
          -0.6691338222601998,
          0.010572880476447579,
          -1.3068409935541034,
          0.649994318359851,
          -0.5654206935954655,
          0.8634205087525688,
          0.4202825953668857,
          -1.7799785722560322,
          0.11857167561493129,
          -0.2345672418220154,
          -0.1582823785892769,
          0.6259945861068547,
          -1.19712793182612,
          0.010572880476447579,
          0.010572880476447579,
          0.45285366056738074,
          -1.436268121061334,
          1.7136967371444405,
          -1.2159848643106173,
          -0.19513911026352135,
          1.18655976087327,
          -0.15742524529452703,
          0.12800014185717987,
          -1.5442669161998177,
          0.3525690650816459,
          0.19742793873191938,
          0.14000000798367804,
          -0.8748458130001687,
          1.326272487917499,
          -0.19771051014777097,
          -0.18056784425277356,
          0.8359922433205729,
          -0.8542746139261719,
          0.15628554058392558,
          1.0082760355652969,
          -0.283423839622758,
          -1.1294144015408802,
          -0.7719898176301843,
          0.18885660578442068,
          1.2894157562432544,
          -1.2254133305528658,
          0.6997080494553435,
          -0.9751304084859036,
          0.7211363818240902,
          0.14771420763642687,
          -0.003998385534300221,
          -0.8448461476839233,
          -0.4471362989199833,
          2.1319777849823773,
          -1.382268723492092,
          0.5857093212536107,
          -0.6974192209869455,
          0.4005685295876387,
          1.4239856835189841,
          -1.1894137321733713,
          -0.15999664517877665,
          0.9774192369543016,
          -1.674551177001798,
          0.9405625052800571,
          0.12028594220443102,
          0.44085379444088263,
          -0.7659898845669352,
          0.32942646612339943,
          -0.6982763542816954,
          -0.06828338264054051,
          -0.5054213629629746,
          1.941694193547906,
          0.5231385907368702,
          0.338854932365648,
          -2.3988288110654388,
          0.8668490419315682,
          -1.0291298060551455,
          0.9097057066690618,
          -0.44542203233048355,
          0.010572880476447579,
          0.010572880476447579,
          0.8874202410055652,
          -0.5337067616897203,
          0.7879927788145802,
          0.4159969288931364,
          0.8702775751105677,
          -0.7762754841039337,
          0.25914153595391004,
          -1.7156935751497917,
          1.325415354622749,
          -0.5748491598377141,
          1.311701221906751,
          -0.9442736098749083,
          0.34056919895514776,
          -1.2142705977211175,
          0.7417075808980872,
          -0.11199718067278391,
          0.014001413655447062,
          -0.9999872740336498,
          1.6982683378389427,
          -1.6839796432440466,
          1.0194187683970453,
          0.15114274081542636,
          -0.15399671211552757,
          0.11685740902543154,
          -0.26799544031726036,
          0.11257174255168219,
          -1.0008444073283997,
          1.0939893650402839,
          -0.760847084798436,
          1.5028419466359721,
          -0.11885424703078287,
          -0.1411397126942795,
          -0.49342149683647635,
          -0.31170923834950376,
          1.18655976087327,
          -2.0225472946702454,
          1.6254120077852037,
          -0.7231332198294417,
          -0.4437077657409838,
          1.3271296212122488,
          -0.6785622885024484,
          -0.22685304216926655,
          -0.03142665096629608,
          0.5462811896951166,
          0.17257107318417314,
          -0.47027889787822985,
          -0.23799577500101488,
          -1.0351297391183947,
          1.8516951975991696,
          -0.5319924951002205,
          -0.36485150262399574,
          1.040847100765792,
          -1.5459811827893175,
          -0.0279981177872966,
          1.153988695672775,
          0.5068530581366226,
          -2.283972949568956,
          1.1342746298935278,
          -0.35885156956074665,
          0.5222814574421203,
          -0.2919951725702567,
          0.03971541249794318,
          0.13485720821517883,
          -0.02885525108204647,
          0.4811390592941265,
          -1.4259825215243356,
          1.4274142166979835,
          -1.9496909646165064,
          1.974265258748401,
          -1.085700603508637,
          0.08342921053018658,
          -0.06314058287204129,
          1.1642742952097733,
          -0.9699876087174044
         ]
        },
        {
         "name": "Test",
         "type": "scatter",
         "x": [
          "2022-09-14",
          "2022-09-15",
          "2022-09-16",
          "2022-09-17",
          "2022-09-18",
          "2022-09-19",
          "2022-09-20",
          "2022-09-21",
          "2022-09-22",
          "2022-09-23",
          "2022-09-24",
          "2022-09-25",
          "2022-09-26",
          "2022-09-27",
          "2022-09-28",
          "2022-09-29",
          "2022-09-30",
          "2022-10-01",
          "2022-10-02",
          "2022-10-03",
          "2022-10-04",
          "2022-10-05",
          "2022-10-06",
          "2022-10-07",
          "2022-10-08",
          "2022-10-09",
          "2022-10-10",
          "2022-10-11",
          "2022-10-12",
          "2022-10-13",
          "2022-10-14",
          "2022-10-15",
          "2022-10-16",
          "2022-10-17",
          "2022-10-18",
          "2022-10-19",
          "2022-10-20",
          "2022-10-21",
          "2022-10-22",
          "2022-10-23",
          "2022-10-24",
          "2022-10-25",
          "2022-10-26",
          "2022-10-27",
          "2022-10-28",
          "2022-10-29",
          "2022-10-30",
          "2022-10-31",
          "2022-11-01",
          "2022-11-02",
          "2022-11-03",
          "2022-11-04",
          "2022-11-05",
          "2022-11-06",
          "2022-11-07",
          "2022-11-08",
          "2022-11-09",
          "2022-11-10",
          "2022-11-11",
          "2022-11-12",
          "2022-11-13",
          "2022-11-14",
          "2022-11-15",
          "2022-11-16",
          "2022-11-17",
          "2022-11-18",
          "2022-11-19",
          "2022-11-20",
          "2022-11-21",
          "2022-11-22",
          "2022-11-23",
          "2022-11-24",
          "2022-11-25",
          "2022-11-26",
          "2022-11-27",
          "2022-11-28",
          "2022-11-29",
          "2022-11-30",
          "2022-12-01",
          "2022-12-02",
          "2022-12-03",
          "2022-12-04",
          "2022-12-05",
          "2022-12-06",
          "2022-12-07",
          "2022-12-08",
          "2022-12-09",
          "2022-12-10",
          "2022-12-11",
          "2022-12-12",
          "2022-12-13",
          "2022-12-14",
          "2022-12-15",
          "2022-12-16",
          "2022-12-17",
          "2022-12-18",
          "2022-12-19",
          "2022-12-20",
          "2022-12-21",
          "2022-12-22",
          "2022-12-23",
          "2022-12-24",
          "2022-12-25",
          "2022-12-26",
          "2022-12-27",
          "2022-12-28",
          "2022-12-29",
          "2022-12-30"
         ],
         "y": [
          -0.12313991350453223,
          0.6705655174338478,
          -0.9014169451374148,
          -0.27656677326475904,
          -0.4334221662039854,
          0.033715479434694086,
          2.080549787297385,
          -0.35456590308699726,
          -1.118271668709132,
          1.6442689402697008,
          -0.7128476202924432,
          0.7699929796248329,
          -0.6862764881551973,
          -1.1199859352986317,
          -0.018569651545048024,
          0.2917126011544051,
          0.010572880476447579,
          0.010572880476447579,
          0.9868477031965501,
          -0.661419622607451,
          1.2842729564747553,
          -0.8628459468736706,
          0.4159969288931364,
          -0.2139960427480185,
          0.9979904360282984,
          -0.9339880103379098,
          -0.5602778938269662,
          0.23514180370091367,
          2.4799739026508245,
          -2.2745444833267072,
          0.37056886427139324,
          -0.986273141317652,
          -1.0411296721816437,
          2.5091164346723205,
          -1.5871235809373112,
          1.0717038993767873,
          -0.3502802366132479,
          -0.5525636941742175,
          -0.2859952395070076,
          0.18971373907917055,
          -0.2225673756955172,
          -0.2722811067910097,
          0.8368493766153228,
          -0.08971171500928728,
          -0.5654206935954655,
          0.78884991210933,
          0.8711347084053176,
          -0.356280169676497,
          -1.4508393870720817,
          0.5925663876116096,
          0.4434251943251322,
          -0.4274222331407363,
          0.4468537275041317,
          -0.6245628909332066,
          0.8385636432048226,
          -1.1774138660468731,
          0.5359955901581182,
          0.09114341018293541,
          0.58999498772736,
          -1.1259858683618809,
          -0.28428097291750787,
          0.007144347297448096,
          1.1282746968302788,
          0.3859972635768909,
          -1.6599799109910502,
          0.9157056397323109,
          -0.7334188193664402,
          1.9382656603689066,
          -2.371400545633443,
          0.010572880476447579,
          -1.9419767649637576,
          0.26257006913290953,
          0.010572880476447579,
          1.4676994815512274,
          1.1222747637670296,
          -0.6579910894284515,
          -0.009141185302799445,
          0.010572880476447579,
          0.010572880476447579,
          0.829135176962574,
          0.5805665214851115,
          -1.0642722711398902,
          0.6422801187071021,
          0.3568547315553953,
          0.05685807839294059,
          -0.38113703522424325,
          0.8977058405425636,
          -2.0002618290067486,
          1.332272420980748,
          0.22999900393241446,
          -0.8371319480311744,
          1.0228473015760446,
          -0.8757029462949186,
          -0.6031345585644597,
          0.6097090535066071,
          0.6534228515388505,
          -1.912834232942262,
          -0.24656710794851358,
          1.1119891642300312,
          0.9397053719853072,
          -0.7317045527769404,
          -1.091700536571886,
          0.9225627060903099,
          0.398854262998139,
          0.15114274081542636,
          -1.1259858683618809,
          0.954276637996055,
          1.2174165594842654
         ]
        },
        {
         "name": "Predicted",
         "type": "scatter",
         "x": [
          "2022-09-14",
          "2022-09-15",
          "2022-09-16",
          "2022-09-17",
          "2022-09-18",
          "2022-09-19",
          "2022-09-20",
          "2022-09-21",
          "2022-09-22",
          "2022-09-23",
          "2022-09-24",
          "2022-09-25",
          "2022-09-26",
          "2022-09-27",
          "2022-09-28",
          "2022-09-29",
          "2022-09-30",
          "2022-10-01",
          "2022-10-02",
          "2022-10-03",
          "2022-10-04",
          "2022-10-05",
          "2022-10-06",
          "2022-10-07",
          "2022-10-08",
          "2022-10-09",
          "2022-10-10",
          "2022-10-11",
          "2022-10-12",
          "2022-10-13",
          "2022-10-14",
          "2022-10-15",
          "2022-10-16",
          "2022-10-17",
          "2022-10-18",
          "2022-10-19",
          "2022-10-20",
          "2022-10-21",
          "2022-10-22",
          "2022-10-23",
          "2022-10-24",
          "2022-10-25",
          "2022-10-26",
          "2022-10-27",
          "2022-10-28",
          "2022-10-29",
          "2022-10-30",
          "2022-10-31",
          "2022-11-01",
          "2022-11-02",
          "2022-11-03",
          "2022-11-04",
          "2022-11-05",
          "2022-11-06",
          "2022-11-07",
          "2022-11-08",
          "2022-11-09",
          "2022-11-10",
          "2022-11-11",
          "2022-11-12",
          "2022-11-13",
          "2022-11-14",
          "2022-11-15",
          "2022-11-16",
          "2022-11-17",
          "2022-11-18",
          "2022-11-19",
          "2022-11-20",
          "2022-11-21",
          "2022-11-22",
          "2022-11-23",
          "2022-11-24",
          "2022-11-25",
          "2022-11-26",
          "2022-11-27",
          "2022-11-28",
          "2022-11-29",
          "2022-11-30",
          "2022-12-01",
          "2022-12-02",
          "2022-12-03",
          "2022-12-04",
          "2022-12-05",
          "2022-12-06",
          "2022-12-07",
          "2022-12-08",
          "2022-12-09",
          "2022-12-10",
          "2022-12-11",
          "2022-12-12",
          "2022-12-13",
          "2022-12-14",
          "2022-12-15",
          "2022-12-16",
          "2022-12-17",
          "2022-12-18",
          "2022-12-19",
          "2022-12-20",
          "2022-12-21",
          "2022-12-22",
          "2022-12-23",
          "2022-12-24",
          "2022-12-25",
          "2022-12-26",
          "2022-12-27",
          "2022-12-28",
          "2022-12-29",
          "2022-12-30"
         ],
         "y": [
          1.2157645225524902,
          0.6980025768280029,
          1.0075494050979614,
          1.6073055267333984,
          1.2398412227630615,
          1.6457202434539795,
          1.4199047088623047,
          0.5655539631843567,
          0.6446229815483093,
          1.4272555112838745,
          0.29648885130882263,
          1.2511234283447266,
          0.7642746567726135,
          0.8238726258277893,
          1.7873345613479614,
          0.6296643614768982,
          1.4293439388275146,
          1.0154634714126587,
          1.3369120359420776,
          0.5082669258117676,
          1.5829588174819946,
          0.5556356310844421,
          0.7730433344841003,
          0.915957510471344,
          0.706640899181366,
          0.3803969621658325,
          0.7546482682228088,
          0.8574720025062561,
          1.4048776626586914,
          -0.3941487967967987,
          1.0485572814941406,
          0.8429021239280701,
          1.4688613414764404,
          1.9066996574401855,
          0.1887943148612976,
          1.1228216886520386,
          -0.09823493659496307,
          0.6547078490257263,
          0.8061814904212952,
          1.1702995300292969,
          1.2122204303741455,
          1.1283279657363892,
          1.69904625415802,
          0.5761614441871643,
          1.2008501291275024,
          1.2769054174423218,
          1.3939260244369507,
          0.6998897194862366,
          0.8580354452133179,
          1.6096686124801636,
          1.4905612468719482,
          1.0648542642593384,
          1.350752830505371,
          1.052368402481079,
          1.0147943496704102,
          1.451428771018982,
          1.763736367225647,
          1.2616665363311768,
          1.4641820192337036,
          0.8318133354187012,
          1.6814056634902954,
          1.6117863655090332,
          1.4437741041183472,
          0.7850283980369568,
          0.6753683686256409,
          1.7965068817138672,
          0.6293767094612122,
          1.7988206148147583,
          0.7221010327339172,
          2.0597116947174072,
          1.2628697156906128,
          1.9813206195831299,
          1.929815411567688,
          1.7141166925430298,
          1.4089120626449585,
          0.7855130434036255,
          1.586469054222107,
          1.1886409521102905,
          0.9570927023887634,
          1.280959963798523,
          0.9212160110473633,
          0.7694796323776245,
          1.1704435348510742,
          0.6492162346839905,
          1.0020040273666382,
          0.768548309803009,
          0.8032842874526978,
          0.4406436085700989,
          1.6067768335342407,
          1.1489996910095215,
          0.6024467349052429,
          1.0959465503692627,
          -0.5377482175827026,
          0.5008354783058167,
          0.49454641342163086,
          0.8702296018600464,
          0.8922247290611267,
          1.6849194765090942,
          1.5013364553451538,
          0.4502744674682617,
          0.4462405741214752,
          1.137446641921997,
          1.8745723962783813,
          0.7243612408638,
          1.0701361894607544,
          1.2620817422866821,
          1.4466545581817627,
          0.9209473133087158
         ]
        }
       ],
       "layout": {
        "template": {
         "data": {
          "bar": [
           {
            "error_x": {
             "color": "#2a3f5f"
            },
            "error_y": {
             "color": "#2a3f5f"
            },
            "marker": {
             "line": {
              "color": "#E5ECF6",
              "width": 0.5
             },
             "pattern": {
              "fillmode": "overlay",
              "size": 10,
              "solidity": 0.2
             }
            },
            "type": "bar"
           }
          ],
          "barpolar": [
           {
            "marker": {
             "line": {
              "color": "#E5ECF6",
              "width": 0.5
             },
             "pattern": {
              "fillmode": "overlay",
              "size": 10,
              "solidity": 0.2
             }
            },
            "type": "barpolar"
           }
          ],
          "carpet": [
           {
            "aaxis": {
             "endlinecolor": "#2a3f5f",
             "gridcolor": "white",
             "linecolor": "white",
             "minorgridcolor": "white",
             "startlinecolor": "#2a3f5f"
            },
            "baxis": {
             "endlinecolor": "#2a3f5f",
             "gridcolor": "white",
             "linecolor": "white",
             "minorgridcolor": "white",
             "startlinecolor": "#2a3f5f"
            },
            "type": "carpet"
           }
          ],
          "choropleth": [
           {
            "colorbar": {
             "outlinewidth": 0,
             "ticks": ""
            },
            "type": "choropleth"
           }
          ],
          "contour": [
           {
            "colorbar": {
             "outlinewidth": 0,
             "ticks": ""
            },
            "colorscale": [
             [
              0,
              "#0d0887"
             ],
             [
              0.1111111111111111,
              "#46039f"
             ],
             [
              0.2222222222222222,
              "#7201a8"
             ],
             [
              0.3333333333333333,
              "#9c179e"
             ],
             [
              0.4444444444444444,
              "#bd3786"
             ],
             [
              0.5555555555555556,
              "#d8576b"
             ],
             [
              0.6666666666666666,
              "#ed7953"
             ],
             [
              0.7777777777777778,
              "#fb9f3a"
             ],
             [
              0.8888888888888888,
              "#fdca26"
             ],
             [
              1,
              "#f0f921"
             ]
            ],
            "type": "contour"
           }
          ],
          "contourcarpet": [
           {
            "colorbar": {
             "outlinewidth": 0,
             "ticks": ""
            },
            "type": "contourcarpet"
           }
          ],
          "heatmap": [
           {
            "colorbar": {
             "outlinewidth": 0,
             "ticks": ""
            },
            "colorscale": [
             [
              0,
              "#0d0887"
             ],
             [
              0.1111111111111111,
              "#46039f"
             ],
             [
              0.2222222222222222,
              "#7201a8"
             ],
             [
              0.3333333333333333,
              "#9c179e"
             ],
             [
              0.4444444444444444,
              "#bd3786"
             ],
             [
              0.5555555555555556,
              "#d8576b"
             ],
             [
              0.6666666666666666,
              "#ed7953"
             ],
             [
              0.7777777777777778,
              "#fb9f3a"
             ],
             [
              0.8888888888888888,
              "#fdca26"
             ],
             [
              1,
              "#f0f921"
             ]
            ],
            "type": "heatmap"
           }
          ],
          "heatmapgl": [
           {
            "colorbar": {
             "outlinewidth": 0,
             "ticks": ""
            },
            "colorscale": [
             [
              0,
              "#0d0887"
             ],
             [
              0.1111111111111111,
              "#46039f"
             ],
             [
              0.2222222222222222,
              "#7201a8"
             ],
             [
              0.3333333333333333,
              "#9c179e"
             ],
             [
              0.4444444444444444,
              "#bd3786"
             ],
             [
              0.5555555555555556,
              "#d8576b"
             ],
             [
              0.6666666666666666,
              "#ed7953"
             ],
             [
              0.7777777777777778,
              "#fb9f3a"
             ],
             [
              0.8888888888888888,
              "#fdca26"
             ],
             [
              1,
              "#f0f921"
             ]
            ],
            "type": "heatmapgl"
           }
          ],
          "histogram": [
           {
            "marker": {
             "pattern": {
              "fillmode": "overlay",
              "size": 10,
              "solidity": 0.2
             }
            },
            "type": "histogram"
           }
          ],
          "histogram2d": [
           {
            "colorbar": {
             "outlinewidth": 0,
             "ticks": ""
            },
            "colorscale": [
             [
              0,
              "#0d0887"
             ],
             [
              0.1111111111111111,
              "#46039f"
             ],
             [
              0.2222222222222222,
              "#7201a8"
             ],
             [
              0.3333333333333333,
              "#9c179e"
             ],
             [
              0.4444444444444444,
              "#bd3786"
             ],
             [
              0.5555555555555556,
              "#d8576b"
             ],
             [
              0.6666666666666666,
              "#ed7953"
             ],
             [
              0.7777777777777778,
              "#fb9f3a"
             ],
             [
              0.8888888888888888,
              "#fdca26"
             ],
             [
              1,
              "#f0f921"
             ]
            ],
            "type": "histogram2d"
           }
          ],
          "histogram2dcontour": [
           {
            "colorbar": {
             "outlinewidth": 0,
             "ticks": ""
            },
            "colorscale": [
             [
              0,
              "#0d0887"
             ],
             [
              0.1111111111111111,
              "#46039f"
             ],
             [
              0.2222222222222222,
              "#7201a8"
             ],
             [
              0.3333333333333333,
              "#9c179e"
             ],
             [
              0.4444444444444444,
              "#bd3786"
             ],
             [
              0.5555555555555556,
              "#d8576b"
             ],
             [
              0.6666666666666666,
              "#ed7953"
             ],
             [
              0.7777777777777778,
              "#fb9f3a"
             ],
             [
              0.8888888888888888,
              "#fdca26"
             ],
             [
              1,
              "#f0f921"
             ]
            ],
            "type": "histogram2dcontour"
           }
          ],
          "mesh3d": [
           {
            "colorbar": {
             "outlinewidth": 0,
             "ticks": ""
            },
            "type": "mesh3d"
           }
          ],
          "parcoords": [
           {
            "line": {
             "colorbar": {
              "outlinewidth": 0,
              "ticks": ""
             }
            },
            "type": "parcoords"
           }
          ],
          "pie": [
           {
            "automargin": true,
            "type": "pie"
           }
          ],
          "scatter": [
           {
            "fillpattern": {
             "fillmode": "overlay",
             "size": 10,
             "solidity": 0.2
            },
            "type": "scatter"
           }
          ],
          "scatter3d": [
           {
            "line": {
             "colorbar": {
              "outlinewidth": 0,
              "ticks": ""
             }
            },
            "marker": {
             "colorbar": {
              "outlinewidth": 0,
              "ticks": ""
             }
            },
            "type": "scatter3d"
           }
          ],
          "scattercarpet": [
           {
            "marker": {
             "colorbar": {
              "outlinewidth": 0,
              "ticks": ""
             }
            },
            "type": "scattercarpet"
           }
          ],
          "scattergeo": [
           {
            "marker": {
             "colorbar": {
              "outlinewidth": 0,
              "ticks": ""
             }
            },
            "type": "scattergeo"
           }
          ],
          "scattergl": [
           {
            "marker": {
             "colorbar": {
              "outlinewidth": 0,
              "ticks": ""
             }
            },
            "type": "scattergl"
           }
          ],
          "scattermapbox": [
           {
            "marker": {
             "colorbar": {
              "outlinewidth": 0,
              "ticks": ""
             }
            },
            "type": "scattermapbox"
           }
          ],
          "scatterpolar": [
           {
            "marker": {
             "colorbar": {
              "outlinewidth": 0,
              "ticks": ""
             }
            },
            "type": "scatterpolar"
           }
          ],
          "scatterpolargl": [
           {
            "marker": {
             "colorbar": {
              "outlinewidth": 0,
              "ticks": ""
             }
            },
            "type": "scatterpolargl"
           }
          ],
          "scatterternary": [
           {
            "marker": {
             "colorbar": {
              "outlinewidth": 0,
              "ticks": ""
             }
            },
            "type": "scatterternary"
           }
          ],
          "surface": [
           {
            "colorbar": {
             "outlinewidth": 0,
             "ticks": ""
            },
            "colorscale": [
             [
              0,
              "#0d0887"
             ],
             [
              0.1111111111111111,
              "#46039f"
             ],
             [
              0.2222222222222222,
              "#7201a8"
             ],
             [
              0.3333333333333333,
              "#9c179e"
             ],
             [
              0.4444444444444444,
              "#bd3786"
             ],
             [
              0.5555555555555556,
              "#d8576b"
             ],
             [
              0.6666666666666666,
              "#ed7953"
             ],
             [
              0.7777777777777778,
              "#fb9f3a"
             ],
             [
              0.8888888888888888,
              "#fdca26"
             ],
             [
              1,
              "#f0f921"
             ]
            ],
            "type": "surface"
           }
          ],
          "table": [
           {
            "cells": {
             "fill": {
              "color": "#EBF0F8"
             },
             "line": {
              "color": "white"
             }
            },
            "header": {
             "fill": {
              "color": "#C8D4E3"
             },
             "line": {
              "color": "white"
             }
            },
            "type": "table"
           }
          ]
         },
         "layout": {
          "annotationdefaults": {
           "arrowcolor": "#2a3f5f",
           "arrowhead": 0,
           "arrowwidth": 1
          },
          "autotypenumbers": "strict",
          "coloraxis": {
           "colorbar": {
            "outlinewidth": 0,
            "ticks": ""
           }
          },
          "colorscale": {
           "diverging": [
            [
             0,
             "#8e0152"
            ],
            [
             0.1,
             "#c51b7d"
            ],
            [
             0.2,
             "#de77ae"
            ],
            [
             0.3,
             "#f1b6da"
            ],
            [
             0.4,
             "#fde0ef"
            ],
            [
             0.5,
             "#f7f7f7"
            ],
            [
             0.6,
             "#e6f5d0"
            ],
            [
             0.7,
             "#b8e186"
            ],
            [
             0.8,
             "#7fbc41"
            ],
            [
             0.9,
             "#4d9221"
            ],
            [
             1,
             "#276419"
            ]
           ],
           "sequential": [
            [
             0,
             "#0d0887"
            ],
            [
             0.1111111111111111,
             "#46039f"
            ],
            [
             0.2222222222222222,
             "#7201a8"
            ],
            [
             0.3333333333333333,
             "#9c179e"
            ],
            [
             0.4444444444444444,
             "#bd3786"
            ],
            [
             0.5555555555555556,
             "#d8576b"
            ],
            [
             0.6666666666666666,
             "#ed7953"
            ],
            [
             0.7777777777777778,
             "#fb9f3a"
            ],
            [
             0.8888888888888888,
             "#fdca26"
            ],
            [
             1,
             "#f0f921"
            ]
           ],
           "sequentialminus": [
            [
             0,
             "#0d0887"
            ],
            [
             0.1111111111111111,
             "#46039f"
            ],
            [
             0.2222222222222222,
             "#7201a8"
            ],
            [
             0.3333333333333333,
             "#9c179e"
            ],
            [
             0.4444444444444444,
             "#bd3786"
            ],
            [
             0.5555555555555556,
             "#d8576b"
            ],
            [
             0.6666666666666666,
             "#ed7953"
            ],
            [
             0.7777777777777778,
             "#fb9f3a"
            ],
            [
             0.8888888888888888,
             "#fdca26"
            ],
            [
             1,
             "#f0f921"
            ]
           ]
          },
          "colorway": [
           "#636efa",
           "#EF553B",
           "#00cc96",
           "#ab63fa",
           "#FFA15A",
           "#19d3f3",
           "#FF6692",
           "#B6E880",
           "#FF97FF",
           "#FECB52"
          ],
          "font": {
           "color": "#2a3f5f"
          },
          "geo": {
           "bgcolor": "white",
           "lakecolor": "white",
           "landcolor": "#E5ECF6",
           "showlakes": true,
           "showland": true,
           "subunitcolor": "white"
          },
          "hoverlabel": {
           "align": "left"
          },
          "hovermode": "closest",
          "mapbox": {
           "style": "light"
          },
          "paper_bgcolor": "white",
          "plot_bgcolor": "#E5ECF6",
          "polar": {
           "angularaxis": {
            "gridcolor": "white",
            "linecolor": "white",
            "ticks": ""
           },
           "bgcolor": "#E5ECF6",
           "radialaxis": {
            "gridcolor": "white",
            "linecolor": "white",
            "ticks": ""
           }
          },
          "scene": {
           "xaxis": {
            "backgroundcolor": "#E5ECF6",
            "gridcolor": "white",
            "gridwidth": 2,
            "linecolor": "white",
            "showbackground": true,
            "ticks": "",
            "zerolinecolor": "white"
           },
           "yaxis": {
            "backgroundcolor": "#E5ECF6",
            "gridcolor": "white",
            "gridwidth": 2,
            "linecolor": "white",
            "showbackground": true,
            "ticks": "",
            "zerolinecolor": "white"
           },
           "zaxis": {
            "backgroundcolor": "#E5ECF6",
            "gridcolor": "white",
            "gridwidth": 2,
            "linecolor": "white",
            "showbackground": true,
            "ticks": "",
            "zerolinecolor": "white"
           }
          },
          "shapedefaults": {
           "line": {
            "color": "#2a3f5f"
           }
          },
          "ternary": {
           "aaxis": {
            "gridcolor": "white",
            "linecolor": "white",
            "ticks": ""
           },
           "baxis": {
            "gridcolor": "white",
            "linecolor": "white",
            "ticks": ""
           },
           "bgcolor": "#E5ECF6",
           "caxis": {
            "gridcolor": "white",
            "linecolor": "white",
            "ticks": ""
           }
          },
          "title": {
           "x": 0.05
          },
          "xaxis": {
           "automargin": true,
           "gridcolor": "white",
           "linecolor": "white",
           "ticks": "",
           "title": {
            "standoff": 15
           },
           "zerolinecolor": "white",
           "zerolinewidth": 2
          },
          "yaxis": {
           "automargin": true,
           "gridcolor": "white",
           "linecolor": "white",
           "ticks": "",
           "title": {
            "standoff": 15
           },
           "zerolinecolor": "white",
           "zerolinewidth": 2
          }
         }
        },
        "title": {
         "text": " rivers_transactions NNet & tsfresh. MAE=1.1294"
        }
       }
      }
     },
     "metadata": {},
     "output_type": "display_data"
    }
   ],
   "source": [
    "training_result = pd.DataFrame(index = [ts.name for ts in tss], columns=['local', 'aggr'])\n",
    "models = []\n",
    "for ts in tss:\n",
    "    X_train, X_test, y_train, y_test = extractor_ts(ts, best_features=best_features)\n",
    "    X_train = X_train.merge(calendar, left_index=True, right_index=True)\n",
    "    X_test = X_test.merge(calendar, left_index=True, right_index=True)\n",
    "\n",
    "    model = get_model(X_train.shape[1])\n",
    "    train_history, history = train(model, X_train, X_test, y_train, y_test)\n",
    "    models.append(model)\n",
    "    dfX_train = X_train\n",
    "    dfX_test = X_test\n",
    "    dfy_train = y_train\n",
    "    dfy_test = y_test\n",
    "\n",
    "    dfy_pred = pd.Series(model(torch.tensor(X_test.values, dtype=torch.float32)).detach(\n",
    "    ).numpy().reshape(-1), index=dfy_test.index)\n",
    "\n",
    "    plt.plot(train_history)\n",
    "    plt.plot(history)\n",
    "    plt.title(f\" {ts.name} evolution by Epoch\")\n",
    "    plt.ylabel(\"MAE\")\n",
    "    plt.xlabel(\"Epoch\")\n",
    "    plt.legend(['train', 'test'])\n",
    "    plt.show()\n",
    "\n",
    "    mae = MAE(dfy_test, dfy_pred)\n",
    "    training_result.loc[ts.name, 'local'] = np.round(mae, 2)\n",
    "    fig = go.Figure()\n",
    "    fig.update_layout(\n",
    "        title_text=f\" {ts.name} NNet & tsfresh. MAE={mae:.4f}\")\n",
    "    fig.add_trace(go.Scatter(x=dfy_train.index, y=dfy_train, name=\"Train\"))\n",
    "    fig.add_trace(go.Scatter(x=dfy_test.index, y=dfy_test, name=\"Test\"))\n",
    "    fig.add_trace(go.Scatter(x=dfy_pred.index, y=dfy_pred, name=\"Predicted\"))\n",
    "    fig.show()"
   ]
  },
  {
   "cell_type": "markdown",
   "metadata": {},
   "source": [
    "AVG"
   ]
  },
  {
   "cell_type": "code",
   "execution_count": 23,
   "metadata": {},
   "outputs": [
    {
     "name": "stderr",
     "output_type": "stream",
     "text": [
      "Rolling: 100%|██████████| 20/20 [00:00<00:00, 41.58it/s]\n",
      "Feature Extraction: 100%|██████████| 20/20 [00:00<00:00, 75.60it/s]\n"
     ]
    },
    {
     "data": {
      "application/vnd.plotly.v1+json": {
       "config": {
        "plotlyServerURL": "https://plot.ly"
       },
       "data": [
        {
         "name": "Train",
         "type": "scatter",
         "x": [
          "2022-01-07",
          "2022-01-08",
          "2022-01-09",
          "2022-01-10",
          "2022-01-11",
          "2022-01-12",
          "2022-01-13",
          "2022-01-14",
          "2022-01-15",
          "2022-01-16",
          "2022-01-17",
          "2022-01-18",
          "2022-01-19",
          "2022-01-20",
          "2022-01-21",
          "2022-01-22",
          "2022-01-23",
          "2022-01-24",
          "2022-01-25",
          "2022-01-26",
          "2022-01-27",
          "2022-01-28",
          "2022-01-29",
          "2022-01-30",
          "2022-01-31",
          "2022-02-01",
          "2022-02-02",
          "2022-02-03",
          "2022-02-04",
          "2022-02-05",
          "2022-02-06",
          "2022-02-07",
          "2022-02-08",
          "2022-02-09",
          "2022-02-10",
          "2022-02-11",
          "2022-02-12",
          "2022-02-13",
          "2022-02-14",
          "2022-02-15",
          "2022-02-16",
          "2022-02-17",
          "2022-02-18",
          "2022-02-19",
          "2022-02-20",
          "2022-02-21",
          "2022-02-22",
          "2022-02-23",
          "2022-02-24",
          "2022-02-25",
          "2022-02-26",
          "2022-02-27",
          "2022-02-28",
          "2022-03-01",
          "2022-03-02",
          "2022-03-03",
          "2022-03-04",
          "2022-03-05",
          "2022-03-06",
          "2022-03-07",
          "2022-03-08",
          "2022-03-09",
          "2022-03-10",
          "2022-03-11",
          "2022-03-12",
          "2022-03-13",
          "2022-03-14",
          "2022-03-15",
          "2022-03-16",
          "2022-03-17",
          "2022-03-18",
          "2022-03-19",
          "2022-03-20",
          "2022-03-21",
          "2022-03-22",
          "2022-03-23",
          "2022-03-24",
          "2022-03-25",
          "2022-03-26",
          "2022-03-27",
          "2022-03-28",
          "2022-03-29",
          "2022-03-30",
          "2022-03-31",
          "2022-04-01",
          "2022-04-02",
          "2022-04-03",
          "2022-04-04",
          "2022-04-05",
          "2022-04-06",
          "2022-04-07",
          "2022-04-08",
          "2022-04-09",
          "2022-04-10",
          "2022-04-11",
          "2022-04-12",
          "2022-04-13",
          "2022-04-14",
          "2022-04-15",
          "2022-04-16",
          "2022-04-17",
          "2022-04-18",
          "2022-04-19",
          "2022-04-20",
          "2022-04-21",
          "2022-04-22",
          "2022-04-23",
          "2022-04-24",
          "2022-04-25",
          "2022-04-26",
          "2022-04-27",
          "2022-04-28",
          "2022-04-29",
          "2022-04-30",
          "2022-05-01",
          "2022-05-02",
          "2022-05-03",
          "2022-05-04",
          "2022-05-05",
          "2022-05-06",
          "2022-05-07",
          "2022-05-08",
          "2022-05-09",
          "2022-05-10",
          "2022-05-11",
          "2022-05-12",
          "2022-05-13",
          "2022-05-14",
          "2022-05-15",
          "2022-05-16",
          "2022-05-17",
          "2022-05-18",
          "2022-05-19",
          "2022-05-20",
          "2022-05-21",
          "2022-05-22",
          "2022-05-23",
          "2022-05-24",
          "2022-05-25",
          "2022-05-26",
          "2022-05-27",
          "2022-05-28",
          "2022-05-29",
          "2022-05-30",
          "2022-05-31",
          "2022-06-01",
          "2022-06-02",
          "2022-06-03",
          "2022-06-04",
          "2022-06-05",
          "2022-06-06",
          "2022-06-07",
          "2022-06-08",
          "2022-06-09",
          "2022-06-10",
          "2022-06-11",
          "2022-06-12",
          "2022-06-13",
          "2022-06-14",
          "2022-06-15",
          "2022-06-16",
          "2022-06-17",
          "2022-06-18",
          "2022-06-19",
          "2022-06-20",
          "2022-06-21",
          "2022-06-22",
          "2022-06-23",
          "2022-06-24",
          "2022-06-25",
          "2022-06-26",
          "2022-06-27",
          "2022-06-28",
          "2022-06-29",
          "2022-06-30",
          "2022-07-01",
          "2022-07-02",
          "2022-07-03",
          "2022-07-04",
          "2022-07-05",
          "2022-07-06",
          "2022-07-07",
          "2022-07-08",
          "2022-07-09",
          "2022-07-10",
          "2022-07-11",
          "2022-07-12",
          "2022-07-13",
          "2022-07-14",
          "2022-07-15",
          "2022-07-16",
          "2022-07-17",
          "2022-07-18",
          "2022-07-19",
          "2022-07-20",
          "2022-07-21",
          "2022-07-22",
          "2022-07-23",
          "2022-07-24",
          "2022-07-25",
          "2022-07-26",
          "2022-07-27",
          "2022-07-28",
          "2022-07-29",
          "2022-07-30",
          "2022-07-31",
          "2022-08-01",
          "2022-08-02",
          "2022-08-03",
          "2022-08-04",
          "2022-08-05",
          "2022-08-06",
          "2022-08-07",
          "2022-08-08",
          "2022-08-09",
          "2022-08-10",
          "2022-08-11",
          "2022-08-12",
          "2022-08-13",
          "2022-08-14",
          "2022-08-15",
          "2022-08-16",
          "2022-08-17",
          "2022-08-18",
          "2022-08-19",
          "2022-08-20",
          "2022-08-21",
          "2022-08-22",
          "2022-08-23",
          "2022-08-24",
          "2022-08-25",
          "2022-08-26",
          "2022-08-27",
          "2022-08-28",
          "2022-08-29",
          "2022-08-30",
          "2022-08-31",
          "2022-09-01",
          "2022-09-02",
          "2022-09-03",
          "2022-09-04",
          "2022-09-05",
          "2022-09-06",
          "2022-09-07",
          "2022-09-08",
          "2022-09-09",
          "2022-09-10",
          "2022-09-11",
          "2022-09-12",
          "2022-09-13"
         ],
         "y": [
          1.9127046445096438,
          -0.3391186396249671,
          -0.18061155105055077,
          -0.7185130258256667,
          -0.6244313990589164,
          0.3920592205731468,
          0.3756971985267554,
          -0.25117277112561354,
          0.3112717367190894,
          -0.38206894749674436,
          0.9780241351095373,
          -0.7870289931449305,
          1.346169631153343,
          -1.693075963963852,
          -0.6643138277969953,
          0.6037428807983349,
          0.24173314302192617,
          0.3112717367190894,
          -1.6409220186909794,
          0.6845303646523924,
          1.5987583464945097,
          -0.8974726419580722,
          0.7029376394545825,
          -1.6705781836500637,
          0.5607925729265577,
          -0.1652721553820589,
          0.6753267272512972,
          -0.08039416601640369,
          0.09038443909280612,
          -0.4833089589087909,
          0.6098786390657317,
          -0.2971909581310892,
          1.743971292156233,
          -0.8412281911736019,
          -2.1675746033092014,
          2.12745618386853,
          -0.10902770459758857,
          -0.8432734439294008,
          0.5474984300138647,
          0.11492747216239316,
          -1.8055648655327925,
          1.7848763472722113,
          -0.5957978604777315,
          -0.7307845423604602,
          -0.10391457270809126,
          0.5505663091475631,
          0.5382947926127696,
          1.3932104445367182,
          -1.6746686891616616,
          0.4892087264735955,
          -1.5018448312966528,
          1.44638701618749,
          0.07402241704641475,
          -0.2266297380560265,
          -0.0773262868827053,
          0.07402241704641475,
          2.2798275141755497,
          -1.9599814485956109,
          0.5331816607232722,
          0.4984123638746906,
          0.43807740757862246,
          -0.28798732072999406,
          -1.399582193506707,
          0.6190822764668269,
          0.3245658796317824,
          -0.41070248607792925,
          -0.327869749468073,
          0.5710188367055523,
          -0.49251259630988603,
          0.46364306702610897,
          1.2469748724970955,
          1.046540102428801,
          -0.990531642346923,
          -1.9252121517470293,
          0.6354442985132183,
          0.07606766980221367,
          -0.07119052861530854,
          -0.6407934211053078,
          0.43091902293332623,
          0.3061586048295921,
          0.38285558317205165,
          -0.11618608924288479,
          0.7591820902390529,
          -1.6204694911329902,
          -0.38718207938624166,
          1.8360076661671842,
          0.2816155717600051,
          0.25195940680092077,
          -1.4149215891751987,
          0.6722588481175988,
          0.9095081677902735,
          -2.1307600537048206,
          0.908485541412374,
          -0.290032573485793,
          2.1847232610309,
          0.07402241704641475,
          -0.13970649593457238,
          1.1068750587248695,
          0.6507836941817101,
          -0.6039788715009272,
          -1.1081336758053608,
          0.6129465181994301,
          0.8297433103141156,
          -0.4383133982812147,
          -0.9220156750276592,
          1.6110298630293032,
          -0.20515458412013782,
          -1.8873749757647493,
          0.7520237055937566,
          -0.11107295735338749,
          0.7581594638611534,
          0.5198875178105793,
          0.7162317823672756,
          0.07402241704641475,
          0.07402241704641475,
          2.1039357771768428,
          -1.3873106769719135,
          -0.3892273321420406,
          -0.03846648452252584,
          0.11799535129609154,
          0.36751618750355974,
          -1.7912480962422,
          1.3911651917809191,
          0.41148912175323654,
          -1.188921159659418,
          -0.1080050782196891,
          1.2265223449391063,
          -0.32991500222387193,
          0.12822161507508614,
          0.10163332924970017,
          0.20696384617334454,
          -1.3474282482338344,
          1.1058524323469698,
          -0.5191008821352721,
          -1.1848306541478204,
          0.539317418990669,
          0.2611630442020159,
          0.4493262977355165,
          0.4319416493112257,
          -1.6347862604235825,
          0.5168196386768809,
          1.026087574870812,
          -1.3658355230360246,
          2.22256043701318,
          -1.3525413801233317,
          -0.3882047057641411,
          -0.052783253813118276,
          0.31536224223068726,
          -0.8995178947138711,
          0.8103134091340258,
          1.0179065638476164,
          -1.7513656675041211,
          0.4738693308051036,
          -0.9629207301436377,
          0.7745214859075448,
          0.14049313160987964,
          1.0680152563646899,
          -1.6501256560920745,
          0.5055707485199868,
          -0.5487570470943564,
          1.1201692016375624,
          -0.5876168494545359,
          0.3399052753002743,
          1.166187388643038,
          -1.5386593809010334,
          1.3277623563511527,
          -1.4302609848436907,
          0.18548869223745587,
          -0.1080050782196891,
          -0.8136172789703164,
          1.2306128504507041,
          -0.3513901561597606,
          -0.2409465073466189,
          1.2848120484793755,
          0.07402241704641475,
          0.07402241704641475,
          0.07402241704641475,
          0.07402241704641475,
          0.9851825197548335,
          0.668168342606001,
          -0.8995178947138711,
          0.4830729682061987,
          -0.40354410143263303,
          1.308332455171063,
          -1.7523882938820206,
          0.42580589104382893,
          0.8236075520467189,
          -1.8761260856078552,
          0.5076160012757858,
          0.5434079245022668,
          -1.1541518628108365,
          0.07402241704641475,
          -1.0866585218694722,
          -0.20106407860853998,
          -0.5508022998501553,
          0.1619682855457683,
          -1.066205994311483,
          1.1651647622651387,
          1.2091376965148153,
          -1.4895733147618593,
          -0.9884863895911241,
          1.2275449713170057,
          -0.8105493998366181,
          -0.48126370615299197,
          0.2672988024694127,
          0.6569194524491069,
          -1.0385950821081977,
          1.179481531555731,
          0.0003933178376536386,
          -0.35241278253766006,
          0.2928644619168992,
          -0.17243054002735508,
          -0.45263016757180713,
          0.11083696665079532,
          0.14253838436567856,
          -1.3187947096526496,
          1.5159256098846534,
          -1.3637902702802258,
          1.9536096996256223,
          -1.284025412804068,
          1.8411207980566815,
          -2.20745703204728,
          1.406504587449411,
          -0.2266297380560265,
          -0.23378812270132268,
          1.0271102012487114,
          -0.6735174651980904,
          -0.8105493998366181,
          1.306287202415264,
          -1.8321531513581784,
          0.07197716429061583,
          0.31331698947488834,
          0.7704309803959469,
          -0.3646842990724536,
          0.27036668160311106,
          -0.8074815207029197,
          0.946322717394654,
          -1.5857001942844087,
          1.3308302354848511,
          -0.14788750695776806,
          0.5270459024558755,
          0.3552446709687662,
          -0.6182956407915197,
          -0.06300951759211287,
          -0.4761505742634947,
          0.7428200681926616,
          -1.4046953253962042,
          1.5915999618492134,
          0.5669283311939545,
          -1.6746686891616616
         ]
        },
        {
         "name": "Test",
         "type": "scatter",
         "x": [
          "2022-09-14",
          "2022-09-15",
          "2022-09-16",
          "2022-09-17",
          "2022-09-18",
          "2022-09-19",
          "2022-09-20",
          "2022-09-21",
          "2022-09-22",
          "2022-09-23",
          "2022-09-24",
          "2022-09-25",
          "2022-09-26",
          "2022-09-27",
          "2022-09-28",
          "2022-09-29",
          "2022-09-30",
          "2022-10-01",
          "2022-10-02",
          "2022-10-03",
          "2022-10-04",
          "2022-10-05",
          "2022-10-06",
          "2022-10-07",
          "2022-10-08",
          "2022-10-09",
          "2022-10-10",
          "2022-10-11",
          "2022-10-12",
          "2022-10-13",
          "2022-10-14",
          "2022-10-15",
          "2022-10-16",
          "2022-10-17",
          "2022-10-18",
          "2022-10-19",
          "2022-10-20",
          "2022-10-21",
          "2022-10-22",
          "2022-10-23",
          "2022-10-24",
          "2022-10-25",
          "2022-10-26",
          "2022-10-27",
          "2022-10-28",
          "2022-10-29",
          "2022-10-30",
          "2022-10-31",
          "2022-11-01",
          "2022-11-02",
          "2022-11-03",
          "2022-11-04",
          "2022-11-05",
          "2022-11-06",
          "2022-11-07",
          "2022-11-08",
          "2022-11-09",
          "2022-11-10",
          "2022-11-11",
          "2022-11-12",
          "2022-11-13",
          "2022-11-14",
          "2022-11-15",
          "2022-11-16",
          "2022-11-17",
          "2022-11-18",
          "2022-11-19",
          "2022-11-20",
          "2022-11-21",
          "2022-11-22",
          "2022-11-23",
          "2022-11-24",
          "2022-11-25",
          "2022-11-26",
          "2022-11-27",
          "2022-11-28",
          "2022-11-29",
          "2022-11-30",
          "2022-12-01",
          "2022-12-02",
          "2022-12-03",
          "2022-12-04",
          "2022-12-05",
          "2022-12-06",
          "2022-12-07",
          "2022-12-08",
          "2022-12-09",
          "2022-12-10",
          "2022-12-11",
          "2022-12-12",
          "2022-12-13",
          "2022-12-14",
          "2022-12-15",
          "2022-12-16",
          "2022-12-17",
          "2022-12-18",
          "2022-12-19",
          "2022-12-20",
          "2022-12-21",
          "2022-12-22",
          "2022-12-23",
          "2022-12-24",
          "2022-12-25",
          "2022-12-26",
          "2022-12-27",
          "2022-12-28",
          "2022-12-29",
          "2022-12-30"
         ],
         "y": [
          0.5515889355254625,
          0.8430374532268086,
          -0.6182956407915197,
          -0.5088746183562775,
          0.8246301784246183,
          -0.8310019273946073,
          1.2367486087181008,
          -0.3227566175785757,
          -0.08448467152800153,
          0.4810277154503998,
          -1.6194468647550908,
          0.8563315961395016,
          -1.295274302960962,
          1.3717352906008295,
          -1.0559797305324885,
          1.1089203114806683,
          0.07402241704641475,
          0.07402241704641475,
          -1.6818270738069578,
          1.1027845532132716,
          1.0179065638476164,
          -2.4549326154989495,
          1.6785232039706675,
          -0.1928830675853443,
          0.10470120838339855,
          -0.5845489703208374,
          0.9003045303891783,
          0.14458363712147748,
          -1.0518892250208907,
          0.6221501556005252,
          0.6773719800070961,
          -1.6726234364058628,
          -0.05687375932471612,
          -0.20719983687593674,
          1.1723231469104347,
          -1.0733643789567793,
          1.101761926835372,
          -0.1898151884516459,
          -1.2870932919377662,
          -0.4454717829265109,
          1.281744169345677,
          1.7490844240457302,
          -1.3106136986294539,
          -1.4159442155530981,
          0.041298372953632034,
          0.20900909892914346,
          0.4053533634858398,
          0.8532637170058032,
          -1.284025412804068,
          1.4187761039842046,
          0.7939513870876346,
          -0.1622042762483605,
          0.5567020674149599,
          -0.46490168410660065,
          -2.062244086385557,
          0.9074629150344746,
          -2.0786061084319485,
          1.1835720370673288,
          0.6109012654436312,
          -0.3830915738746438,
          0.5250006497000765,
          0.539317418990669,
          -1.2318714675311955,
          -0.8320245537725067,
          2.0384876889912773,
          -0.8872463781790776,
          0.4656883197819079,
          0.15480990090047209,
          -1.864877195450961,
          1.9096367653759454,
          -0.08448467152800153,
          -0.3943404640315379,
          0.2672988024694127,
          0.10470120838339855,
          0.057660395000023394,
          -0.1468648805798686,
          -1.6296731285340853,
          0.07402241704641475,
          0.07402241704641475,
          -0.015968704208737722,
          1.590577335471314,
          -2.0857644930772445,
          1.7204508854645453,
          -1.5427498864126312,
          1.166187388643038,
          -0.4250192553685217,
          -0.4127477388337282,
          -0.2583311557709097,
          1.577283192558621,
          -0.0088103195634415,
          -0.8964500155801727,
          -1.3883333033498129,
          1.2009566854916196,
          0.4575073087587122,
          -0.0047198140518436614,
          -1.7094379860102433,
          0.9401869591272572,
          1.1876625425789267,
          0.6068107599320334,
          -1.700234348609148,
          0.9902956516443309,
          -0.570232201030245,
          -0.6602233222853975,
          -0.38718207938624166,
          0.5515889355254625,
          -0.3207113648227768,
          -0.928151433295056,
          0.4002402315963425
         ]
        },
        {
         "name": "Predicted",
         "type": "scatter",
         "x": [
          "2022-09-14",
          "2022-09-15",
          "2022-09-16",
          "2022-09-17",
          "2022-09-18",
          "2022-09-19",
          "2022-09-20",
          "2022-09-21",
          "2022-09-22",
          "2022-09-23",
          "2022-09-24",
          "2022-09-25",
          "2022-09-26",
          "2022-09-27",
          "2022-09-28",
          "2022-09-29",
          "2022-09-30",
          "2022-10-01",
          "2022-10-02",
          "2022-10-03",
          "2022-10-04",
          "2022-10-05",
          "2022-10-06",
          "2022-10-07",
          "2022-10-08",
          "2022-10-09",
          "2022-10-10",
          "2022-10-11",
          "2022-10-12",
          "2022-10-13",
          "2022-10-14",
          "2022-10-15",
          "2022-10-16",
          "2022-10-17",
          "2022-10-18",
          "2022-10-19",
          "2022-10-20",
          "2022-10-21",
          "2022-10-22",
          "2022-10-23",
          "2022-10-24",
          "2022-10-25",
          "2022-10-26",
          "2022-10-27",
          "2022-10-28",
          "2022-10-29",
          "2022-10-30",
          "2022-10-31",
          "2022-11-01",
          "2022-11-02",
          "2022-11-03",
          "2022-11-04",
          "2022-11-05",
          "2022-11-06",
          "2022-11-07",
          "2022-11-08",
          "2022-11-09",
          "2022-11-10",
          "2022-11-11",
          "2022-11-12",
          "2022-11-13",
          "2022-11-14",
          "2022-11-15",
          "2022-11-16",
          "2022-11-17",
          "2022-11-18",
          "2022-11-19",
          "2022-11-20",
          "2022-11-21",
          "2022-11-22",
          "2022-11-23",
          "2022-11-24",
          "2022-11-25",
          "2022-11-26",
          "2022-11-27",
          "2022-11-28",
          "2022-11-29",
          "2022-11-30",
          "2022-12-01",
          "2022-12-02",
          "2022-12-03",
          "2022-12-04",
          "2022-12-05",
          "2022-12-06",
          "2022-12-07",
          "2022-12-08",
          "2022-12-09",
          "2022-12-10",
          "2022-12-11",
          "2022-12-12",
          "2022-12-13",
          "2022-12-14",
          "2022-12-15",
          "2022-12-16",
          "2022-12-17",
          "2022-12-18",
          "2022-12-19",
          "2022-12-20",
          "2022-12-21",
          "2022-12-22",
          "2022-12-23",
          "2022-12-24",
          "2022-12-25",
          "2022-12-26",
          "2022-12-27",
          "2022-12-28",
          "2022-12-29",
          "2022-12-30"
         ],
         "y": [
          0.6389002203941345,
          0.0028474926948547363,
          -0.05177241563796997,
          0.29993680119514465,
          0.3594350814819336,
          -0.03212601691484451,
          0.48797619342803955,
          -0.1610511988401413,
          0.23090696334838867,
          0.14901961386203766,
          0.10920087993144989,
          0.5701062679290771,
          0.04680595546960831,
          0.6742960810661316,
          -0.05776703730225563,
          0.44442427158355713,
          -0.06914196908473969,
          0.2131473422050476,
          0.07674307376146317,
          0.5891712307929993,
          0.15597984194755554,
          -0.08529640734195709,
          0.7512750625610352,
          -0.057821124792099,
          0.27473756670951843,
          0.1370076835155487,
          0.3475742042064667,
          0.03910934180021286,
          0.19502709805965424,
          0.44110333919525146,
          0.12771368026733398,
          0.10527191311120987,
          0.5217181444168091,
          0.25833240151405334,
          0.31474998593330383,
          -0.0056187547743320465,
          0.3938579857349396,
          0.03892563283443451,
          0.30830806493759155,
          0.5835877656936646,
          0.3185780346393585,
          0.07333432883024216,
          -0.14898619055747986,
          0.33331915736198425,
          0.6490219831466675,
          0.3453424870967865,
          0.26792892813682556,
          0.1292097568511963,
          0.14715999364852905,
          0.5902090668678284,
          -0.14780759811401367,
          0.020872563123703003,
          0.2759367525577545,
          -0.051748126745224,
          0.14919573068618774,
          0.6695042848587036,
          0.04887067899107933,
          0.6514984965324402,
          0.08103343844413757,
          0.12250480055809021,
          0.2156715989112854,
          -0.06624092906713486,
          0.08819589018821716,
          0.6022169589996338,
          0.46194618940353394,
          -0.3190035820007324,
          0.3086778223514557,
          -0.01200498640537262,
          0.042636021971702576,
          0.7402568459510803,
          -0.31342318654060364,
          0.17376360297203064,
          0.399941086769104,
          0.2264435589313507,
          0.2571190893650055,
          0.20613327622413635,
          0.22216588258743286,
          0.6141076683998108,
          0.11713781207799911,
          0.2626982629299164,
          0.3301716446876526,
          -0.16570758819580078,
          0.6876072287559509,
          -0.03505801409482956,
          0.5390996932983398,
          -0.15881115198135376,
          0.4022534489631653,
          0.37070950865745544,
          0.36143386363983154,
          -0.12329087406396866,
          0.15938550233840942,
          0.4750402271747589,
          0.6242352724075317,
          0.0702870637178421,
          0.2017422318458557,
          0.26061564683914185,
          0.6826214790344238,
          0.19338184595108032,
          -0.12310783565044403,
          -0.08306556940078735,
          0.5391619205474854,
          -0.048990391194820404,
          0.33158043026924133,
          0.23281288146972656,
          0.5067344903945923,
          0.0928877592086792,
          0.3574710190296173,
          0.5695614218711853
         ]
        }
       ],
       "layout": {
        "template": {
         "data": {
          "bar": [
           {
            "error_x": {
             "color": "#2a3f5f"
            },
            "error_y": {
             "color": "#2a3f5f"
            },
            "marker": {
             "line": {
              "color": "#E5ECF6",
              "width": 0.5
             },
             "pattern": {
              "fillmode": "overlay",
              "size": 10,
              "solidity": 0.2
             }
            },
            "type": "bar"
           }
          ],
          "barpolar": [
           {
            "marker": {
             "line": {
              "color": "#E5ECF6",
              "width": 0.5
             },
             "pattern": {
              "fillmode": "overlay",
              "size": 10,
              "solidity": 0.2
             }
            },
            "type": "barpolar"
           }
          ],
          "carpet": [
           {
            "aaxis": {
             "endlinecolor": "#2a3f5f",
             "gridcolor": "white",
             "linecolor": "white",
             "minorgridcolor": "white",
             "startlinecolor": "#2a3f5f"
            },
            "baxis": {
             "endlinecolor": "#2a3f5f",
             "gridcolor": "white",
             "linecolor": "white",
             "minorgridcolor": "white",
             "startlinecolor": "#2a3f5f"
            },
            "type": "carpet"
           }
          ],
          "choropleth": [
           {
            "colorbar": {
             "outlinewidth": 0,
             "ticks": ""
            },
            "type": "choropleth"
           }
          ],
          "contour": [
           {
            "colorbar": {
             "outlinewidth": 0,
             "ticks": ""
            },
            "colorscale": [
             [
              0,
              "#0d0887"
             ],
             [
              0.1111111111111111,
              "#46039f"
             ],
             [
              0.2222222222222222,
              "#7201a8"
             ],
             [
              0.3333333333333333,
              "#9c179e"
             ],
             [
              0.4444444444444444,
              "#bd3786"
             ],
             [
              0.5555555555555556,
              "#d8576b"
             ],
             [
              0.6666666666666666,
              "#ed7953"
             ],
             [
              0.7777777777777778,
              "#fb9f3a"
             ],
             [
              0.8888888888888888,
              "#fdca26"
             ],
             [
              1,
              "#f0f921"
             ]
            ],
            "type": "contour"
           }
          ],
          "contourcarpet": [
           {
            "colorbar": {
             "outlinewidth": 0,
             "ticks": ""
            },
            "type": "contourcarpet"
           }
          ],
          "heatmap": [
           {
            "colorbar": {
             "outlinewidth": 0,
             "ticks": ""
            },
            "colorscale": [
             [
              0,
              "#0d0887"
             ],
             [
              0.1111111111111111,
              "#46039f"
             ],
             [
              0.2222222222222222,
              "#7201a8"
             ],
             [
              0.3333333333333333,
              "#9c179e"
             ],
             [
              0.4444444444444444,
              "#bd3786"
             ],
             [
              0.5555555555555556,
              "#d8576b"
             ],
             [
              0.6666666666666666,
              "#ed7953"
             ],
             [
              0.7777777777777778,
              "#fb9f3a"
             ],
             [
              0.8888888888888888,
              "#fdca26"
             ],
             [
              1,
              "#f0f921"
             ]
            ],
            "type": "heatmap"
           }
          ],
          "heatmapgl": [
           {
            "colorbar": {
             "outlinewidth": 0,
             "ticks": ""
            },
            "colorscale": [
             [
              0,
              "#0d0887"
             ],
             [
              0.1111111111111111,
              "#46039f"
             ],
             [
              0.2222222222222222,
              "#7201a8"
             ],
             [
              0.3333333333333333,
              "#9c179e"
             ],
             [
              0.4444444444444444,
              "#bd3786"
             ],
             [
              0.5555555555555556,
              "#d8576b"
             ],
             [
              0.6666666666666666,
              "#ed7953"
             ],
             [
              0.7777777777777778,
              "#fb9f3a"
             ],
             [
              0.8888888888888888,
              "#fdca26"
             ],
             [
              1,
              "#f0f921"
             ]
            ],
            "type": "heatmapgl"
           }
          ],
          "histogram": [
           {
            "marker": {
             "pattern": {
              "fillmode": "overlay",
              "size": 10,
              "solidity": 0.2
             }
            },
            "type": "histogram"
           }
          ],
          "histogram2d": [
           {
            "colorbar": {
             "outlinewidth": 0,
             "ticks": ""
            },
            "colorscale": [
             [
              0,
              "#0d0887"
             ],
             [
              0.1111111111111111,
              "#46039f"
             ],
             [
              0.2222222222222222,
              "#7201a8"
             ],
             [
              0.3333333333333333,
              "#9c179e"
             ],
             [
              0.4444444444444444,
              "#bd3786"
             ],
             [
              0.5555555555555556,
              "#d8576b"
             ],
             [
              0.6666666666666666,
              "#ed7953"
             ],
             [
              0.7777777777777778,
              "#fb9f3a"
             ],
             [
              0.8888888888888888,
              "#fdca26"
             ],
             [
              1,
              "#f0f921"
             ]
            ],
            "type": "histogram2d"
           }
          ],
          "histogram2dcontour": [
           {
            "colorbar": {
             "outlinewidth": 0,
             "ticks": ""
            },
            "colorscale": [
             [
              0,
              "#0d0887"
             ],
             [
              0.1111111111111111,
              "#46039f"
             ],
             [
              0.2222222222222222,
              "#7201a8"
             ],
             [
              0.3333333333333333,
              "#9c179e"
             ],
             [
              0.4444444444444444,
              "#bd3786"
             ],
             [
              0.5555555555555556,
              "#d8576b"
             ],
             [
              0.6666666666666666,
              "#ed7953"
             ],
             [
              0.7777777777777778,
              "#fb9f3a"
             ],
             [
              0.8888888888888888,
              "#fdca26"
             ],
             [
              1,
              "#f0f921"
             ]
            ],
            "type": "histogram2dcontour"
           }
          ],
          "mesh3d": [
           {
            "colorbar": {
             "outlinewidth": 0,
             "ticks": ""
            },
            "type": "mesh3d"
           }
          ],
          "parcoords": [
           {
            "line": {
             "colorbar": {
              "outlinewidth": 0,
              "ticks": ""
             }
            },
            "type": "parcoords"
           }
          ],
          "pie": [
           {
            "automargin": true,
            "type": "pie"
           }
          ],
          "scatter": [
           {
            "fillpattern": {
             "fillmode": "overlay",
             "size": 10,
             "solidity": 0.2
            },
            "type": "scatter"
           }
          ],
          "scatter3d": [
           {
            "line": {
             "colorbar": {
              "outlinewidth": 0,
              "ticks": ""
             }
            },
            "marker": {
             "colorbar": {
              "outlinewidth": 0,
              "ticks": ""
             }
            },
            "type": "scatter3d"
           }
          ],
          "scattercarpet": [
           {
            "marker": {
             "colorbar": {
              "outlinewidth": 0,
              "ticks": ""
             }
            },
            "type": "scattercarpet"
           }
          ],
          "scattergeo": [
           {
            "marker": {
             "colorbar": {
              "outlinewidth": 0,
              "ticks": ""
             }
            },
            "type": "scattergeo"
           }
          ],
          "scattergl": [
           {
            "marker": {
             "colorbar": {
              "outlinewidth": 0,
              "ticks": ""
             }
            },
            "type": "scattergl"
           }
          ],
          "scattermapbox": [
           {
            "marker": {
             "colorbar": {
              "outlinewidth": 0,
              "ticks": ""
             }
            },
            "type": "scattermapbox"
           }
          ],
          "scatterpolar": [
           {
            "marker": {
             "colorbar": {
              "outlinewidth": 0,
              "ticks": ""
             }
            },
            "type": "scatterpolar"
           }
          ],
          "scatterpolargl": [
           {
            "marker": {
             "colorbar": {
              "outlinewidth": 0,
              "ticks": ""
             }
            },
            "type": "scatterpolargl"
           }
          ],
          "scatterternary": [
           {
            "marker": {
             "colorbar": {
              "outlinewidth": 0,
              "ticks": ""
             }
            },
            "type": "scatterternary"
           }
          ],
          "surface": [
           {
            "colorbar": {
             "outlinewidth": 0,
             "ticks": ""
            },
            "colorscale": [
             [
              0,
              "#0d0887"
             ],
             [
              0.1111111111111111,
              "#46039f"
             ],
             [
              0.2222222222222222,
              "#7201a8"
             ],
             [
              0.3333333333333333,
              "#9c179e"
             ],
             [
              0.4444444444444444,
              "#bd3786"
             ],
             [
              0.5555555555555556,
              "#d8576b"
             ],
             [
              0.6666666666666666,
              "#ed7953"
             ],
             [
              0.7777777777777778,
              "#fb9f3a"
             ],
             [
              0.8888888888888888,
              "#fdca26"
             ],
             [
              1,
              "#f0f921"
             ]
            ],
            "type": "surface"
           }
          ],
          "table": [
           {
            "cells": {
             "fill": {
              "color": "#EBF0F8"
             },
             "line": {
              "color": "white"
             }
            },
            "header": {
             "fill": {
              "color": "#C8D4E3"
             },
             "line": {
              "color": "white"
             }
            },
            "type": "table"
           }
          ]
         },
         "layout": {
          "annotationdefaults": {
           "arrowcolor": "#2a3f5f",
           "arrowhead": 0,
           "arrowwidth": 1
          },
          "autotypenumbers": "strict",
          "coloraxis": {
           "colorbar": {
            "outlinewidth": 0,
            "ticks": ""
           }
          },
          "colorscale": {
           "diverging": [
            [
             0,
             "#8e0152"
            ],
            [
             0.1,
             "#c51b7d"
            ],
            [
             0.2,
             "#de77ae"
            ],
            [
             0.3,
             "#f1b6da"
            ],
            [
             0.4,
             "#fde0ef"
            ],
            [
             0.5,
             "#f7f7f7"
            ],
            [
             0.6,
             "#e6f5d0"
            ],
            [
             0.7,
             "#b8e186"
            ],
            [
             0.8,
             "#7fbc41"
            ],
            [
             0.9,
             "#4d9221"
            ],
            [
             1,
             "#276419"
            ]
           ],
           "sequential": [
            [
             0,
             "#0d0887"
            ],
            [
             0.1111111111111111,
             "#46039f"
            ],
            [
             0.2222222222222222,
             "#7201a8"
            ],
            [
             0.3333333333333333,
             "#9c179e"
            ],
            [
             0.4444444444444444,
             "#bd3786"
            ],
            [
             0.5555555555555556,
             "#d8576b"
            ],
            [
             0.6666666666666666,
             "#ed7953"
            ],
            [
             0.7777777777777778,
             "#fb9f3a"
            ],
            [
             0.8888888888888888,
             "#fdca26"
            ],
            [
             1,
             "#f0f921"
            ]
           ],
           "sequentialminus": [
            [
             0,
             "#0d0887"
            ],
            [
             0.1111111111111111,
             "#46039f"
            ],
            [
             0.2222222222222222,
             "#7201a8"
            ],
            [
             0.3333333333333333,
             "#9c179e"
            ],
            [
             0.4444444444444444,
             "#bd3786"
            ],
            [
             0.5555555555555556,
             "#d8576b"
            ],
            [
             0.6666666666666666,
             "#ed7953"
            ],
            [
             0.7777777777777778,
             "#fb9f3a"
            ],
            [
             0.8888888888888888,
             "#fdca26"
            ],
            [
             1,
             "#f0f921"
            ]
           ]
          },
          "colorway": [
           "#636efa",
           "#EF553B",
           "#00cc96",
           "#ab63fa",
           "#FFA15A",
           "#19d3f3",
           "#FF6692",
           "#B6E880",
           "#FF97FF",
           "#FECB52"
          ],
          "font": {
           "color": "#2a3f5f"
          },
          "geo": {
           "bgcolor": "white",
           "lakecolor": "white",
           "landcolor": "#E5ECF6",
           "showlakes": true,
           "showland": true,
           "subunitcolor": "white"
          },
          "hoverlabel": {
           "align": "left"
          },
          "hovermode": "closest",
          "mapbox": {
           "style": "light"
          },
          "paper_bgcolor": "white",
          "plot_bgcolor": "#E5ECF6",
          "polar": {
           "angularaxis": {
            "gridcolor": "white",
            "linecolor": "white",
            "ticks": ""
           },
           "bgcolor": "#E5ECF6",
           "radialaxis": {
            "gridcolor": "white",
            "linecolor": "white",
            "ticks": ""
           }
          },
          "scene": {
           "xaxis": {
            "backgroundcolor": "#E5ECF6",
            "gridcolor": "white",
            "gridwidth": 2,
            "linecolor": "white",
            "showbackground": true,
            "ticks": "",
            "zerolinecolor": "white"
           },
           "yaxis": {
            "backgroundcolor": "#E5ECF6",
            "gridcolor": "white",
            "gridwidth": 2,
            "linecolor": "white",
            "showbackground": true,
            "ticks": "",
            "zerolinecolor": "white"
           },
           "zaxis": {
            "backgroundcolor": "#E5ECF6",
            "gridcolor": "white",
            "gridwidth": 2,
            "linecolor": "white",
            "showbackground": true,
            "ticks": "",
            "zerolinecolor": "white"
           }
          },
          "shapedefaults": {
           "line": {
            "color": "#2a3f5f"
           }
          },
          "ternary": {
           "aaxis": {
            "gridcolor": "white",
            "linecolor": "white",
            "ticks": ""
           },
           "baxis": {
            "gridcolor": "white",
            "linecolor": "white",
            "ticks": ""
           },
           "bgcolor": "#E5ECF6",
           "caxis": {
            "gridcolor": "white",
            "linecolor": "white",
            "ticks": ""
           }
          },
          "title": {
           "x": 0.05
          },
          "xaxis": {
           "automargin": true,
           "gridcolor": "white",
           "linecolor": "white",
           "ticks": "",
           "title": {
            "standoff": 15
           },
           "zerolinecolor": "white",
           "zerolinewidth": 2
          },
          "yaxis": {
           "automargin": true,
           "gridcolor": "white",
           "linecolor": "white",
           "ticks": "",
           "title": {
            "standoff": 15
           },
           "zerolinecolor": "white",
           "zerolinewidth": 2
          }
         }
        },
        "title": {
         "text": " enugu_transactions Aggregated NNet & tsfresh. MAE=0.7776"
        }
       }
      }
     },
     "metadata": {},
     "output_type": "display_data"
    },
    {
     "name": "stderr",
     "output_type": "stream",
     "text": [
      "Rolling: 100%|██████████| 20/20 [00:00<00:00, 42.14it/s]\n",
      "Feature Extraction: 100%|██████████| 20/20 [00:00<00:00, 74.87it/s]\n"
     ]
    },
    {
     "data": {
      "application/vnd.plotly.v1+json": {
       "config": {
        "plotlyServerURL": "https://plot.ly"
       },
       "data": [
        {
         "name": "Train",
         "type": "scatter",
         "x": [
          "2022-01-07",
          "2022-01-08",
          "2022-01-09",
          "2022-01-10",
          "2022-01-11",
          "2022-01-12",
          "2022-01-13",
          "2022-01-14",
          "2022-01-15",
          "2022-01-16",
          "2022-01-17",
          "2022-01-18",
          "2022-01-19",
          "2022-01-20",
          "2022-01-21",
          "2022-01-22",
          "2022-01-23",
          "2022-01-24",
          "2022-01-25",
          "2022-01-26",
          "2022-01-27",
          "2022-01-28",
          "2022-01-29",
          "2022-01-30",
          "2022-01-31",
          "2022-02-01",
          "2022-02-02",
          "2022-02-03",
          "2022-02-04",
          "2022-02-05",
          "2022-02-06",
          "2022-02-07",
          "2022-02-08",
          "2022-02-09",
          "2022-02-10",
          "2022-02-11",
          "2022-02-12",
          "2022-02-13",
          "2022-02-14",
          "2022-02-15",
          "2022-02-16",
          "2022-02-17",
          "2022-02-18",
          "2022-02-19",
          "2022-02-20",
          "2022-02-21",
          "2022-02-22",
          "2022-02-23",
          "2022-02-24",
          "2022-02-25",
          "2022-02-26",
          "2022-02-27",
          "2022-02-28",
          "2022-03-01",
          "2022-03-02",
          "2022-03-03",
          "2022-03-04",
          "2022-03-05",
          "2022-03-06",
          "2022-03-07",
          "2022-03-08",
          "2022-03-09",
          "2022-03-10",
          "2022-03-11",
          "2022-03-12",
          "2022-03-13",
          "2022-03-14",
          "2022-03-15",
          "2022-03-16",
          "2022-03-17",
          "2022-03-18",
          "2022-03-19",
          "2022-03-20",
          "2022-03-21",
          "2022-03-22",
          "2022-03-23",
          "2022-03-24",
          "2022-03-25",
          "2022-03-26",
          "2022-03-27",
          "2022-03-28",
          "2022-03-29",
          "2022-03-30",
          "2022-03-31",
          "2022-04-01",
          "2022-04-02",
          "2022-04-03",
          "2022-04-04",
          "2022-04-05",
          "2022-04-06",
          "2022-04-07",
          "2022-04-08",
          "2022-04-09",
          "2022-04-10",
          "2022-04-11",
          "2022-04-12",
          "2022-04-13",
          "2022-04-14",
          "2022-04-15",
          "2022-04-16",
          "2022-04-17",
          "2022-04-18",
          "2022-04-19",
          "2022-04-20",
          "2022-04-21",
          "2022-04-22",
          "2022-04-23",
          "2022-04-24",
          "2022-04-25",
          "2022-04-26",
          "2022-04-27",
          "2022-04-28",
          "2022-04-29",
          "2022-04-30",
          "2022-05-01",
          "2022-05-02",
          "2022-05-03",
          "2022-05-04",
          "2022-05-05",
          "2022-05-06",
          "2022-05-07",
          "2022-05-08",
          "2022-05-09",
          "2022-05-10",
          "2022-05-11",
          "2022-05-12",
          "2022-05-13",
          "2022-05-14",
          "2022-05-15",
          "2022-05-16",
          "2022-05-17",
          "2022-05-18",
          "2022-05-19",
          "2022-05-20",
          "2022-05-21",
          "2022-05-22",
          "2022-05-23",
          "2022-05-24",
          "2022-05-25",
          "2022-05-26",
          "2022-05-27",
          "2022-05-28",
          "2022-05-29",
          "2022-05-30",
          "2022-05-31",
          "2022-06-01",
          "2022-06-02",
          "2022-06-03",
          "2022-06-04",
          "2022-06-05",
          "2022-06-06",
          "2022-06-07",
          "2022-06-08",
          "2022-06-09",
          "2022-06-10",
          "2022-06-11",
          "2022-06-12",
          "2022-06-13",
          "2022-06-14",
          "2022-06-15",
          "2022-06-16",
          "2022-06-17",
          "2022-06-18",
          "2022-06-19",
          "2022-06-20",
          "2022-06-21",
          "2022-06-22",
          "2022-06-23",
          "2022-06-24",
          "2022-06-25",
          "2022-06-26",
          "2022-06-27",
          "2022-06-28",
          "2022-06-29",
          "2022-06-30",
          "2022-07-01",
          "2022-07-02",
          "2022-07-03",
          "2022-07-04",
          "2022-07-05",
          "2022-07-06",
          "2022-07-07",
          "2022-07-08",
          "2022-07-09",
          "2022-07-10",
          "2022-07-11",
          "2022-07-12",
          "2022-07-13",
          "2022-07-14",
          "2022-07-15",
          "2022-07-16",
          "2022-07-17",
          "2022-07-18",
          "2022-07-19",
          "2022-07-20",
          "2022-07-21",
          "2022-07-22",
          "2022-07-23",
          "2022-07-24",
          "2022-07-25",
          "2022-07-26",
          "2022-07-27",
          "2022-07-28",
          "2022-07-29",
          "2022-07-30",
          "2022-07-31",
          "2022-08-01",
          "2022-08-02",
          "2022-08-03",
          "2022-08-04",
          "2022-08-05",
          "2022-08-06",
          "2022-08-07",
          "2022-08-08",
          "2022-08-09",
          "2022-08-10",
          "2022-08-11",
          "2022-08-12",
          "2022-08-13",
          "2022-08-14",
          "2022-08-15",
          "2022-08-16",
          "2022-08-17",
          "2022-08-18",
          "2022-08-19",
          "2022-08-20",
          "2022-08-21",
          "2022-08-22",
          "2022-08-23",
          "2022-08-24",
          "2022-08-25",
          "2022-08-26",
          "2022-08-27",
          "2022-08-28",
          "2022-08-29",
          "2022-08-30",
          "2022-08-31",
          "2022-09-01",
          "2022-09-02",
          "2022-09-03",
          "2022-09-04",
          "2022-09-05",
          "2022-09-06",
          "2022-09-07",
          "2022-09-08",
          "2022-09-09",
          "2022-09-10",
          "2022-09-11",
          "2022-09-12",
          "2022-09-13"
         ],
         "y": [
          -0.16414607220052266,
          -1.4464088295005493,
          0.5126037163744914,
          0.8944330707704993,
          -1.7042861173575548,
          -0.033070323676519915,
          -1.7042861173575548,
          0.6308568373254939,
          -0.6343090832105324,
          -0.15559765381852247,
          -0.5573733177725307,
          0.29176957483948684,
          1.2021761325225058,
          -0.2923723479305253,
          -0.8337721787905366,
          0.7277389123214959,
          -0.614362773652532,
          0.9272020079015,
          -0.8351969151875366,
          -0.6813253843115333,
          1.499946039495512,
          -1.0303858015765406,
          -0.047317687646520216,
          1.9145443310225205,
          -0.9449016177565389,
          0.5054800343894913,
          -1.0275363287825405,
          0.3672806038804884,
          -0.2681518291815248,
          -1.0973484122355421,
          0.4684368880674905,
          0.8246209873174979,
          -0.015973486912519562,
          -0.7069706394575339,
          -0.25390446521152454,
          1.1836545593615053,
          -1.3523762272985473,
          -0.16984501778852276,
          -0.43627072402752826,
          1.1252403670845041,
          -0.08151136117452093,
          -0.5445506901995305,
          1.8803506574945197,
          -1.0147137012095404,
          0.9613956814295007,
          -0.7910300868805357,
          -0.9819447640785397,
          1.260590324799507,
          -0.41062546888152773,
          1.4401071108215107,
          -2.012029179109561,
          1.4458060564095108,
          -0.033070323676519915,
          -0.2681518291815248,
          -1.1571873409095432,
          -0.033070323676519915,
          0.029618077791481387,
          -0.24535604682952433,
          2.37188471445953,
          -0.033070323676519915,
          -0.03876926926452003,
          0.4071732229964893,
          -0.16557080859752268,
          -0.29807129351852546,
          0.9257772715045,
          -1.3010857170065464,
          -0.21401184609552368,
          1.0981703755415035,
          -1.4578067206765495,
          1.2548913792115068,
          0.11510226161148315,
          0.49693161600749114,
          -1.0218373831945404,
          -0.3906791593235273,
          1.1451866766425045,
          0.8417178240814982,
          -1.3737472732535478,
          1.076799329586503,
          -0.9691221365055395,
          0.08518279727448254,
          -0.1997644821255234,
          -0.228259210065524,
          -0.027371378088519797,
          1.458628683982511,
          -0.3066197119005256,
          -1.3523762272985473,
          0.5667436994604925,
          0.9699440998115009,
          1.264864533990507,
          -2.2257396386595656,
          1.219272969286506,
          -1.7555766276495557,
          0.4185711141724895,
          -0.5858680457125314,
          -0.033070323676519915,
          0.14787119874248383,
          1.1879287685525055,
          -1.7897703011775565,
          1.846156983966519,
          -1.3224567629615467,
          1.2491924336235067,
          -1.5703608960395519,
          1.2933592619305077,
          -0.6343090832105324,
          0.17494119028548438,
          -0.1513234446275224,
          1.2548913792115068,
          -0.6984222210755338,
          -0.5559485813755307,
          0.17494119028548438,
          1.6580917795625152,
          -2.3154980316705673,
          1.1964771869345057,
          -0.033070323676519915,
          -0.033070323676519915,
          1.8561301387455194,
          -0.033070323676519915,
          1.40733817369051,
          -0.8266484968055364,
          0.4812595156404908,
          0.5781415906364928,
          0.20201118182848496,
          -0.7967290324685359,
          2.1652979368945258,
          -2.2727559397605663,
          -0.10288240712952137,
          -0.471889133952529,
          1.9672595777115216,
          -0.08863504315952107,
          0.2233822277834854,
          -0.8651163795245372,
          0.09658068845048276,
          0.11652699800848318,
          -0.12140398029052177,
          0.11367752521448313,
          -0.27100130197552486,
          0.2618501105024862,
          0.8174973053324978,
          -1.618801933537553,
          0.3772537586594886,
          -0.8394711243785368,
          0.7633573222464966,
          0.20343591822548499,
          0.881610443197499,
          -0.3422381218255264,
          -1.427887256339549,
          0.9300514806955,
          -0.39922757770552747,
          1.1109930031145039,
          -0.15987186300952255,
          0.47271109725849064,
          0.031042814188481416,
          -0.7668095681315352,
          0.4684368880674905,
          0.878760970403499,
          -1.4079409467815485,
          0.12792488918448341,
          -0.611513300858532,
          -0.15559765381852247,
          0.4285442689514897,
          -0.7468632585735347,
          0.8687878156244988,
          0.3815279678504887,
          0.005397559042480881,
          -0.16984501778852276,
          -0.1570223902155225,
          -0.5929917276975315,
          -0.5303033262295302,
          0.9898904093695012,
          0.3900763862324889,
          0.154994880727484,
          -1.5960061511855523,
          1.454354474791511,
          -0.803852714453536,
          -0.033070323676519915,
          -0.033070323676519915,
          -0.2197107916835238,
          -0.08863504315952107,
          0.7049431299694955,
          -1.038934219958541,
          0.24902748292948593,
          0.541098444314492,
          0.5311252895354919,
          -1.7570013640465558,
          1.7350275450005168,
          -0.9648479273145393,
          0.4684368880674905,
          -0.4761633431435291,
          -0.23253341925652407,
          0.6792978748234949,
          -0.13422660786352203,
          -0.03164558727951989,
          1.066826174807503,
          -0.9406274085655388,
          -1.7270818997095552,
          0.18348960866748457,
          1.2876603163425075,
          0.032467550585481446,
          -0.5388517446115304,
          0.6636257744564946,
          -0.25390446521152454,
          -0.7397395765885346,
          0.7647820586434966,
          -0.028796114485519827,
          0.17636592668248444,
          -0.2339581556535241,
          1.648118624783515,
          0.15784435352148404,
          -1.9792602419785603,
          -0.802427978056536,
          -0.033070323676519915,
          -1.862431857424558,
          0.022494395806481236,
          0.20628539101948504,
          0.5738673814454928,
          -1.142939976939543,
          0.9414493718715002,
          -0.6001154096825316,
          1.457203947585511,
          -0.5516743721845306,
          -0.6357338196075324,
          0.6921205023964951,
          -0.8408958607755368,
          0.12934962558148344,
          -0.2866734023425252,
          -0.10288240712952137,
          0.9086804347404996,
          -0.33938864903152627,
          -0.053016633234520334,
          1.1095682667175037,
          0.3387858759404878,
          -0.9634231909175393,
          -0.9050089986405381,
          1.1466114130395046,
          -0.5117817530685298,
          -0.04161874205852009,
          0.21768328219548527,
          0.682147347617495,
          -1.4891509214105503,
          1.5369891858175126,
          -0.4476686152035285,
          -0.8765142707005374,
          0.24047906454748574,
          0.21625854579848525,
          -0.661379074753533,
          -0.5616475269635308,
          2.467342053058532,
          -1.5076724945715505,
          0.9485730538565005,
          0.40574848659948926
         ]
        },
        {
         "name": "Test",
         "type": "scatter",
         "x": [
          "2022-09-14",
          "2022-09-15",
          "2022-09-16",
          "2022-09-17",
          "2022-09-18",
          "2022-09-19",
          "2022-09-20",
          "2022-09-21",
          "2022-09-22",
          "2022-09-23",
          "2022-09-24",
          "2022-09-25",
          "2022-09-26",
          "2022-09-27",
          "2022-09-28",
          "2022-09-29",
          "2022-09-30",
          "2022-10-01",
          "2022-10-02",
          "2022-10-03",
          "2022-10-04",
          "2022-10-05",
          "2022-10-06",
          "2022-10-07",
          "2022-10-08",
          "2022-10-09",
          "2022-10-10",
          "2022-10-11",
          "2022-10-12",
          "2022-10-13",
          "2022-10-14",
          "2022-10-15",
          "2022-10-16",
          "2022-10-17",
          "2022-10-18",
          "2022-10-19",
          "2022-10-20",
          "2022-10-21",
          "2022-10-22",
          "2022-10-23",
          "2022-10-24",
          "2022-10-25",
          "2022-10-26",
          "2022-10-27",
          "2022-10-28",
          "2022-10-29",
          "2022-10-30",
          "2022-10-31",
          "2022-11-01",
          "2022-11-02",
          "2022-11-03",
          "2022-11-04",
          "2022-11-05",
          "2022-11-06",
          "2022-11-07",
          "2022-11-08",
          "2022-11-09",
          "2022-11-10",
          "2022-11-11",
          "2022-11-12",
          "2022-11-13",
          "2022-11-14",
          "2022-11-15",
          "2022-11-16",
          "2022-11-17",
          "2022-11-18",
          "2022-11-19",
          "2022-11-20",
          "2022-11-21",
          "2022-11-22",
          "2022-11-23",
          "2022-11-24",
          "2022-11-25",
          "2022-11-26",
          "2022-11-27",
          "2022-11-28",
          "2022-11-29",
          "2022-11-30",
          "2022-12-01",
          "2022-12-02",
          "2022-12-03",
          "2022-12-04",
          "2022-12-05",
          "2022-12-06",
          "2022-12-07",
          "2022-12-08",
          "2022-12-09",
          "2022-12-10",
          "2022-12-11",
          "2022-12-12",
          "2022-12-13",
          "2022-12-14",
          "2022-12-15",
          "2022-12-16",
          "2022-12-17",
          "2022-12-18",
          "2022-12-19",
          "2022-12-20",
          "2022-12-21",
          "2022-12-22",
          "2022-12-23",
          "2022-12-24",
          "2022-12-25",
          "2022-12-26",
          "2022-12-27",
          "2022-12-28",
          "2022-12-29",
          "2022-12-30"
         ],
         "y": [
          -0.6884490662965335,
          -0.9591489817265392,
          0.5126037163744914,
          1.9245174858015206,
          -2.2884280401275667,
          1.2406440152415066,
          -0.06298978801352054,
          -0.033070323676519915,
          -0.5303033262295302,
          0.7149162847484957,
          -0.5730454181395311,
          -0.8366216515845367,
          1.2064503417135057,
          -1.2768651982575459,
          1.2078750781105059,
          -1.3424030725195473,
          -0.033070323676519915,
          -0.033070323676519915,
          1.6395702064015147,
          -1.6586945526535537,
          2.126830054175525,
          -1.185682068849544,
          0.27324800167848645,
          0.5012058251984912,
          -0.48756123431952936,
          -1.2170262695835445,
          0.5211521347564916,
          -0.9548747725355391,
          1.7264791266185167,
          1.1152672123055039,
          -1.9236955224955592,
          0.22195749138648538,
          0.0737849060984823,
          0.0780591152894824,
          -0.050167160440520275,
          1.0953209027475035,
          -1.8068671379415568,
          1.2890850527395075,
          -0.801003241659536,
          0.2718232652814864,
          -0.30804444829752564,
          -1.3979677920025484,
          1.8319096199965188,
          -0.5944164640945315,
          0.8730620248154989,
          -0.7653848317345352,
          1.5241665582445123,
          -2.2813043581425667,
          1.5412633950085128,
          -0.7967290324685359,
          0.42996900534848975,
          0.022494395806481236,
          -0.5730454181395311,
          0.2419038009444858,
          0.25472642851748606,
          -0.8237990240115364,
          1.3774187093535093,
          -0.8651163795245372,
          1.4771502571435113,
          -0.6015401460795317,
          -1.6971624353725545,
          1.4856986755255115,
          0.2860706292514867,
          -2.086115471753563,
          1.9273669585955209,
          -0.21686131888952376,
          0.881610443197499,
          -1.4079409467815485,
          -0.20118921852252342,
          -0.35648548579552664,
          -0.17269449058252284,
          1.603951796476514,
          -0.18694185455252313,
          0.2760974744724865,
          -1.8439102842635575,
          0.7120668119544956,
          -0.20546342771352352,
          -0.033070323676519915,
          -0.033070323676519915,
          0.3444848215284879,
          -0.8237990240115364,
          -0.02024769610351965,
          2.075539543883524,
          -1.9635881416115601,
          -0.7511374677645349,
          2.064141652707524,
          -0.7497127313675349,
          0.5225768711534916,
          0.34590955792548794,
          -0.42487283285152805,
          -0.5331527990235303,
          -0.9349284629775387,
          1.938764849771521,
          -1.2554941523025454,
          0.9699440998115009,
          -1.4022420011935484,
          0.8217715145234978,
          0.4627379424794904,
          -1.051756847531541,
          0.9699440998115009,
          -1.9507655140385598,
          1.2833861071515074,
          0.9670946270175008,
          -1.7926197739715566,
          1.4258597468515104,
          -0.7425890493825347,
          1.2947839983275076,
          -0.9691221365055395
         ]
        },
        {
         "name": "Predicted",
         "type": "scatter",
         "x": [
          "2022-09-14",
          "2022-09-15",
          "2022-09-16",
          "2022-09-17",
          "2022-09-18",
          "2022-09-19",
          "2022-09-20",
          "2022-09-21",
          "2022-09-22",
          "2022-09-23",
          "2022-09-24",
          "2022-09-25",
          "2022-09-26",
          "2022-09-27",
          "2022-09-28",
          "2022-09-29",
          "2022-09-30",
          "2022-10-01",
          "2022-10-02",
          "2022-10-03",
          "2022-10-04",
          "2022-10-05",
          "2022-10-06",
          "2022-10-07",
          "2022-10-08",
          "2022-10-09",
          "2022-10-10",
          "2022-10-11",
          "2022-10-12",
          "2022-10-13",
          "2022-10-14",
          "2022-10-15",
          "2022-10-16",
          "2022-10-17",
          "2022-10-18",
          "2022-10-19",
          "2022-10-20",
          "2022-10-21",
          "2022-10-22",
          "2022-10-23",
          "2022-10-24",
          "2022-10-25",
          "2022-10-26",
          "2022-10-27",
          "2022-10-28",
          "2022-10-29",
          "2022-10-30",
          "2022-10-31",
          "2022-11-01",
          "2022-11-02",
          "2022-11-03",
          "2022-11-04",
          "2022-11-05",
          "2022-11-06",
          "2022-11-07",
          "2022-11-08",
          "2022-11-09",
          "2022-11-10",
          "2022-11-11",
          "2022-11-12",
          "2022-11-13",
          "2022-11-14",
          "2022-11-15",
          "2022-11-16",
          "2022-11-17",
          "2022-11-18",
          "2022-11-19",
          "2022-11-20",
          "2022-11-21",
          "2022-11-22",
          "2022-11-23",
          "2022-11-24",
          "2022-11-25",
          "2022-11-26",
          "2022-11-27",
          "2022-11-28",
          "2022-11-29",
          "2022-11-30",
          "2022-12-01",
          "2022-12-02",
          "2022-12-03",
          "2022-12-04",
          "2022-12-05",
          "2022-12-06",
          "2022-12-07",
          "2022-12-08",
          "2022-12-09",
          "2022-12-10",
          "2022-12-11",
          "2022-12-12",
          "2022-12-13",
          "2022-12-14",
          "2022-12-15",
          "2022-12-16",
          "2022-12-17",
          "2022-12-18",
          "2022-12-19",
          "2022-12-20",
          "2022-12-21",
          "2022-12-22",
          "2022-12-23",
          "2022-12-24",
          "2022-12-25",
          "2022-12-26",
          "2022-12-27",
          "2022-12-28",
          "2022-12-29",
          "2022-12-30"
         ],
         "y": [
          0.014990810304880142,
          0.34287282824516296,
          0.5783014893531799,
          0.16394232213497162,
          -0.37481290102005005,
          0.6446029543876648,
          -0.08093392103910446,
          0.09916284680366516,
          0.098232202231884,
          0.3447345197200775,
          -0.045381106436252594,
          0.322792112827301,
          0.3763510584831238,
          -0.06822479516267776,
          0.44225558638572693,
          -0.14180779457092285,
          0.45373761653900146,
          0.16634882986545563,
          0.3409223258495331,
          -0.2712710201740265,
          0.6840770840644836,
          -0.2573726773262024,
          0.37837544083595276,
          0.07499082386493683,
          0.03495674580335617,
          0.36938396096229553,
          0.43029505014419556,
          0.25251662731170654,
          0.5251703858375549,
          -0.15686851739883423,
          -0.09783206135034561,
          0.6605501770973206,
          0.15525773167610168,
          0.08931348472833633,
          0.27353379130363464,
          0.14409680664539337,
          -0.09934046119451523,
          0.5478805899620056,
          -0.14258979260921478,
          0.2734220623970032,
          0.14970973134040833,
          0.27304717898368835,
          0.6802364587783813,
          -0.19857093691825867,
          0.3901083767414093,
          0.08327274769544601,
          0.3787083327770233,
          -0.28175264596939087,
          0.7366654276847839,
          -0.2505074143409729,
          0.3523814082145691,
          0.23100951313972473,
          0.18430617451667786,
          0.3206779956817627,
          0.1289198100566864,
          0.2139320969581604,
          0.40247151255607605,
          -0.07458702474832535,
          0.3580474257469177,
          -0.10346237570047379,
          0.24435460567474365,
          0.5887312293052673,
          -0.08153720945119858,
          -0.05381885915994644,
          0.672895073890686,
          -0.2568531632423401,
          0.2540547847747803,
          -0.12907850742340088,
          0.5139147043228149,
          0.24791574478149414,
          0.3659159541130066,
          0.2532593905925751,
          -0.11694522202014923,
          0.24539914727210999,
          0.0581875815987587,
          0.5812461972236633,
          0.1571497619152069,
          0.21945951879024506,
          0.26034319400787354,
          0.2638651728630066,
          0.28168848156929016,
          0.48309385776519775,
          0.184159517288208,
          -0.17207059264183044,
          0.6911299824714661,
          0.3447316288948059,
          -0.14505523443222046,
          0.43407198786735535,
          0.1795770227909088,
          0.06017979234457016,
          0.3237772285938263,
          0.2851128578186035,
          0.3813938498497009,
          -0.13574832677841187,
          0.5515051484107971,
          0.03464528173208237,
          0.4393671154975891,
          0.10460106283426285,
          0.05383985862135887,
          0.3811296820640564,
          -0.02025081217288971,
          0.7272555232048035,
          -0.15761390328407288,
          -0.2214447259902954,
          0.7894712686538696,
          -0.1957949995994568,
          0.18716877698898315,
          -0.07823064923286438
         ]
        }
       ],
       "layout": {
        "template": {
         "data": {
          "bar": [
           {
            "error_x": {
             "color": "#2a3f5f"
            },
            "error_y": {
             "color": "#2a3f5f"
            },
            "marker": {
             "line": {
              "color": "#E5ECF6",
              "width": 0.5
             },
             "pattern": {
              "fillmode": "overlay",
              "size": 10,
              "solidity": 0.2
             }
            },
            "type": "bar"
           }
          ],
          "barpolar": [
           {
            "marker": {
             "line": {
              "color": "#E5ECF6",
              "width": 0.5
             },
             "pattern": {
              "fillmode": "overlay",
              "size": 10,
              "solidity": 0.2
             }
            },
            "type": "barpolar"
           }
          ],
          "carpet": [
           {
            "aaxis": {
             "endlinecolor": "#2a3f5f",
             "gridcolor": "white",
             "linecolor": "white",
             "minorgridcolor": "white",
             "startlinecolor": "#2a3f5f"
            },
            "baxis": {
             "endlinecolor": "#2a3f5f",
             "gridcolor": "white",
             "linecolor": "white",
             "minorgridcolor": "white",
             "startlinecolor": "#2a3f5f"
            },
            "type": "carpet"
           }
          ],
          "choropleth": [
           {
            "colorbar": {
             "outlinewidth": 0,
             "ticks": ""
            },
            "type": "choropleth"
           }
          ],
          "contour": [
           {
            "colorbar": {
             "outlinewidth": 0,
             "ticks": ""
            },
            "colorscale": [
             [
              0,
              "#0d0887"
             ],
             [
              0.1111111111111111,
              "#46039f"
             ],
             [
              0.2222222222222222,
              "#7201a8"
             ],
             [
              0.3333333333333333,
              "#9c179e"
             ],
             [
              0.4444444444444444,
              "#bd3786"
             ],
             [
              0.5555555555555556,
              "#d8576b"
             ],
             [
              0.6666666666666666,
              "#ed7953"
             ],
             [
              0.7777777777777778,
              "#fb9f3a"
             ],
             [
              0.8888888888888888,
              "#fdca26"
             ],
             [
              1,
              "#f0f921"
             ]
            ],
            "type": "contour"
           }
          ],
          "contourcarpet": [
           {
            "colorbar": {
             "outlinewidth": 0,
             "ticks": ""
            },
            "type": "contourcarpet"
           }
          ],
          "heatmap": [
           {
            "colorbar": {
             "outlinewidth": 0,
             "ticks": ""
            },
            "colorscale": [
             [
              0,
              "#0d0887"
             ],
             [
              0.1111111111111111,
              "#46039f"
             ],
             [
              0.2222222222222222,
              "#7201a8"
             ],
             [
              0.3333333333333333,
              "#9c179e"
             ],
             [
              0.4444444444444444,
              "#bd3786"
             ],
             [
              0.5555555555555556,
              "#d8576b"
             ],
             [
              0.6666666666666666,
              "#ed7953"
             ],
             [
              0.7777777777777778,
              "#fb9f3a"
             ],
             [
              0.8888888888888888,
              "#fdca26"
             ],
             [
              1,
              "#f0f921"
             ]
            ],
            "type": "heatmap"
           }
          ],
          "heatmapgl": [
           {
            "colorbar": {
             "outlinewidth": 0,
             "ticks": ""
            },
            "colorscale": [
             [
              0,
              "#0d0887"
             ],
             [
              0.1111111111111111,
              "#46039f"
             ],
             [
              0.2222222222222222,
              "#7201a8"
             ],
             [
              0.3333333333333333,
              "#9c179e"
             ],
             [
              0.4444444444444444,
              "#bd3786"
             ],
             [
              0.5555555555555556,
              "#d8576b"
             ],
             [
              0.6666666666666666,
              "#ed7953"
             ],
             [
              0.7777777777777778,
              "#fb9f3a"
             ],
             [
              0.8888888888888888,
              "#fdca26"
             ],
             [
              1,
              "#f0f921"
             ]
            ],
            "type": "heatmapgl"
           }
          ],
          "histogram": [
           {
            "marker": {
             "pattern": {
              "fillmode": "overlay",
              "size": 10,
              "solidity": 0.2
             }
            },
            "type": "histogram"
           }
          ],
          "histogram2d": [
           {
            "colorbar": {
             "outlinewidth": 0,
             "ticks": ""
            },
            "colorscale": [
             [
              0,
              "#0d0887"
             ],
             [
              0.1111111111111111,
              "#46039f"
             ],
             [
              0.2222222222222222,
              "#7201a8"
             ],
             [
              0.3333333333333333,
              "#9c179e"
             ],
             [
              0.4444444444444444,
              "#bd3786"
             ],
             [
              0.5555555555555556,
              "#d8576b"
             ],
             [
              0.6666666666666666,
              "#ed7953"
             ],
             [
              0.7777777777777778,
              "#fb9f3a"
             ],
             [
              0.8888888888888888,
              "#fdca26"
             ],
             [
              1,
              "#f0f921"
             ]
            ],
            "type": "histogram2d"
           }
          ],
          "histogram2dcontour": [
           {
            "colorbar": {
             "outlinewidth": 0,
             "ticks": ""
            },
            "colorscale": [
             [
              0,
              "#0d0887"
             ],
             [
              0.1111111111111111,
              "#46039f"
             ],
             [
              0.2222222222222222,
              "#7201a8"
             ],
             [
              0.3333333333333333,
              "#9c179e"
             ],
             [
              0.4444444444444444,
              "#bd3786"
             ],
             [
              0.5555555555555556,
              "#d8576b"
             ],
             [
              0.6666666666666666,
              "#ed7953"
             ],
             [
              0.7777777777777778,
              "#fb9f3a"
             ],
             [
              0.8888888888888888,
              "#fdca26"
             ],
             [
              1,
              "#f0f921"
             ]
            ],
            "type": "histogram2dcontour"
           }
          ],
          "mesh3d": [
           {
            "colorbar": {
             "outlinewidth": 0,
             "ticks": ""
            },
            "type": "mesh3d"
           }
          ],
          "parcoords": [
           {
            "line": {
             "colorbar": {
              "outlinewidth": 0,
              "ticks": ""
             }
            },
            "type": "parcoords"
           }
          ],
          "pie": [
           {
            "automargin": true,
            "type": "pie"
           }
          ],
          "scatter": [
           {
            "fillpattern": {
             "fillmode": "overlay",
             "size": 10,
             "solidity": 0.2
            },
            "type": "scatter"
           }
          ],
          "scatter3d": [
           {
            "line": {
             "colorbar": {
              "outlinewidth": 0,
              "ticks": ""
             }
            },
            "marker": {
             "colorbar": {
              "outlinewidth": 0,
              "ticks": ""
             }
            },
            "type": "scatter3d"
           }
          ],
          "scattercarpet": [
           {
            "marker": {
             "colorbar": {
              "outlinewidth": 0,
              "ticks": ""
             }
            },
            "type": "scattercarpet"
           }
          ],
          "scattergeo": [
           {
            "marker": {
             "colorbar": {
              "outlinewidth": 0,
              "ticks": ""
             }
            },
            "type": "scattergeo"
           }
          ],
          "scattergl": [
           {
            "marker": {
             "colorbar": {
              "outlinewidth": 0,
              "ticks": ""
             }
            },
            "type": "scattergl"
           }
          ],
          "scattermapbox": [
           {
            "marker": {
             "colorbar": {
              "outlinewidth": 0,
              "ticks": ""
             }
            },
            "type": "scattermapbox"
           }
          ],
          "scatterpolar": [
           {
            "marker": {
             "colorbar": {
              "outlinewidth": 0,
              "ticks": ""
             }
            },
            "type": "scatterpolar"
           }
          ],
          "scatterpolargl": [
           {
            "marker": {
             "colorbar": {
              "outlinewidth": 0,
              "ticks": ""
             }
            },
            "type": "scatterpolargl"
           }
          ],
          "scatterternary": [
           {
            "marker": {
             "colorbar": {
              "outlinewidth": 0,
              "ticks": ""
             }
            },
            "type": "scatterternary"
           }
          ],
          "surface": [
           {
            "colorbar": {
             "outlinewidth": 0,
             "ticks": ""
            },
            "colorscale": [
             [
              0,
              "#0d0887"
             ],
             [
              0.1111111111111111,
              "#46039f"
             ],
             [
              0.2222222222222222,
              "#7201a8"
             ],
             [
              0.3333333333333333,
              "#9c179e"
             ],
             [
              0.4444444444444444,
              "#bd3786"
             ],
             [
              0.5555555555555556,
              "#d8576b"
             ],
             [
              0.6666666666666666,
              "#ed7953"
             ],
             [
              0.7777777777777778,
              "#fb9f3a"
             ],
             [
              0.8888888888888888,
              "#fdca26"
             ],
             [
              1,
              "#f0f921"
             ]
            ],
            "type": "surface"
           }
          ],
          "table": [
           {
            "cells": {
             "fill": {
              "color": "#EBF0F8"
             },
             "line": {
              "color": "white"
             }
            },
            "header": {
             "fill": {
              "color": "#C8D4E3"
             },
             "line": {
              "color": "white"
             }
            },
            "type": "table"
           }
          ]
         },
         "layout": {
          "annotationdefaults": {
           "arrowcolor": "#2a3f5f",
           "arrowhead": 0,
           "arrowwidth": 1
          },
          "autotypenumbers": "strict",
          "coloraxis": {
           "colorbar": {
            "outlinewidth": 0,
            "ticks": ""
           }
          },
          "colorscale": {
           "diverging": [
            [
             0,
             "#8e0152"
            ],
            [
             0.1,
             "#c51b7d"
            ],
            [
             0.2,
             "#de77ae"
            ],
            [
             0.3,
             "#f1b6da"
            ],
            [
             0.4,
             "#fde0ef"
            ],
            [
             0.5,
             "#f7f7f7"
            ],
            [
             0.6,
             "#e6f5d0"
            ],
            [
             0.7,
             "#b8e186"
            ],
            [
             0.8,
             "#7fbc41"
            ],
            [
             0.9,
             "#4d9221"
            ],
            [
             1,
             "#276419"
            ]
           ],
           "sequential": [
            [
             0,
             "#0d0887"
            ],
            [
             0.1111111111111111,
             "#46039f"
            ],
            [
             0.2222222222222222,
             "#7201a8"
            ],
            [
             0.3333333333333333,
             "#9c179e"
            ],
            [
             0.4444444444444444,
             "#bd3786"
            ],
            [
             0.5555555555555556,
             "#d8576b"
            ],
            [
             0.6666666666666666,
             "#ed7953"
            ],
            [
             0.7777777777777778,
             "#fb9f3a"
            ],
            [
             0.8888888888888888,
             "#fdca26"
            ],
            [
             1,
             "#f0f921"
            ]
           ],
           "sequentialminus": [
            [
             0,
             "#0d0887"
            ],
            [
             0.1111111111111111,
             "#46039f"
            ],
            [
             0.2222222222222222,
             "#7201a8"
            ],
            [
             0.3333333333333333,
             "#9c179e"
            ],
            [
             0.4444444444444444,
             "#bd3786"
            ],
            [
             0.5555555555555556,
             "#d8576b"
            ],
            [
             0.6666666666666666,
             "#ed7953"
            ],
            [
             0.7777777777777778,
             "#fb9f3a"
            ],
            [
             0.8888888888888888,
             "#fdca26"
            ],
            [
             1,
             "#f0f921"
            ]
           ]
          },
          "colorway": [
           "#636efa",
           "#EF553B",
           "#00cc96",
           "#ab63fa",
           "#FFA15A",
           "#19d3f3",
           "#FF6692",
           "#B6E880",
           "#FF97FF",
           "#FECB52"
          ],
          "font": {
           "color": "#2a3f5f"
          },
          "geo": {
           "bgcolor": "white",
           "lakecolor": "white",
           "landcolor": "#E5ECF6",
           "showlakes": true,
           "showland": true,
           "subunitcolor": "white"
          },
          "hoverlabel": {
           "align": "left"
          },
          "hovermode": "closest",
          "mapbox": {
           "style": "light"
          },
          "paper_bgcolor": "white",
          "plot_bgcolor": "#E5ECF6",
          "polar": {
           "angularaxis": {
            "gridcolor": "white",
            "linecolor": "white",
            "ticks": ""
           },
           "bgcolor": "#E5ECF6",
           "radialaxis": {
            "gridcolor": "white",
            "linecolor": "white",
            "ticks": ""
           }
          },
          "scene": {
           "xaxis": {
            "backgroundcolor": "#E5ECF6",
            "gridcolor": "white",
            "gridwidth": 2,
            "linecolor": "white",
            "showbackground": true,
            "ticks": "",
            "zerolinecolor": "white"
           },
           "yaxis": {
            "backgroundcolor": "#E5ECF6",
            "gridcolor": "white",
            "gridwidth": 2,
            "linecolor": "white",
            "showbackground": true,
            "ticks": "",
            "zerolinecolor": "white"
           },
           "zaxis": {
            "backgroundcolor": "#E5ECF6",
            "gridcolor": "white",
            "gridwidth": 2,
            "linecolor": "white",
            "showbackground": true,
            "ticks": "",
            "zerolinecolor": "white"
           }
          },
          "shapedefaults": {
           "line": {
            "color": "#2a3f5f"
           }
          },
          "ternary": {
           "aaxis": {
            "gridcolor": "white",
            "linecolor": "white",
            "ticks": ""
           },
           "baxis": {
            "gridcolor": "white",
            "linecolor": "white",
            "ticks": ""
           },
           "bgcolor": "#E5ECF6",
           "caxis": {
            "gridcolor": "white",
            "linecolor": "white",
            "ticks": ""
           }
          },
          "title": {
           "x": 0.05
          },
          "xaxis": {
           "automargin": true,
           "gridcolor": "white",
           "linecolor": "white",
           "ticks": "",
           "title": {
            "standoff": 15
           },
           "zerolinecolor": "white",
           "zerolinewidth": 2
          },
          "yaxis": {
           "automargin": true,
           "gridcolor": "white",
           "linecolor": "white",
           "ticks": "",
           "title": {
            "standoff": 15
           },
           "zerolinecolor": "white",
           "zerolinewidth": 2
          }
         }
        },
        "title": {
         "text": " fct_transactions Aggregated NNet & tsfresh. MAE=0.8262"
        }
       }
      }
     },
     "metadata": {},
     "output_type": "display_data"
    },
    {
     "name": "stderr",
     "output_type": "stream",
     "text": [
      "Rolling: 100%|██████████| 20/20 [00:00<00:00, 25.58it/s]\n",
      "Feature Extraction: 100%|██████████| 20/20 [00:00<00:00, 67.83it/s]\n"
     ]
    },
    {
     "data": {
      "application/vnd.plotly.v1+json": {
       "config": {
        "plotlyServerURL": "https://plot.ly"
       },
       "data": [
        {
         "name": "Train",
         "type": "scatter",
         "x": [
          "2022-01-07",
          "2022-01-08",
          "2022-01-09",
          "2022-01-10",
          "2022-01-11",
          "2022-01-12",
          "2022-01-13",
          "2022-01-14",
          "2022-01-15",
          "2022-01-16",
          "2022-01-17",
          "2022-01-18",
          "2022-01-19",
          "2022-01-20",
          "2022-01-21",
          "2022-01-22",
          "2022-01-23",
          "2022-01-24",
          "2022-01-25",
          "2022-01-26",
          "2022-01-27",
          "2022-01-28",
          "2022-01-29",
          "2022-01-30",
          "2022-01-31",
          "2022-02-01",
          "2022-02-02",
          "2022-02-03",
          "2022-02-04",
          "2022-02-05",
          "2022-02-06",
          "2022-02-07",
          "2022-02-08",
          "2022-02-09",
          "2022-02-10",
          "2022-02-11",
          "2022-02-12",
          "2022-02-13",
          "2022-02-14",
          "2022-02-15",
          "2022-02-16",
          "2022-02-17",
          "2022-02-18",
          "2022-02-19",
          "2022-02-20",
          "2022-02-21",
          "2022-02-22",
          "2022-02-23",
          "2022-02-24",
          "2022-02-25",
          "2022-02-26",
          "2022-02-27",
          "2022-02-28",
          "2022-03-01",
          "2022-03-02",
          "2022-03-03",
          "2022-03-04",
          "2022-03-05",
          "2022-03-06",
          "2022-03-07",
          "2022-03-08",
          "2022-03-09",
          "2022-03-10",
          "2022-03-11",
          "2022-03-12",
          "2022-03-13",
          "2022-03-14",
          "2022-03-15",
          "2022-03-16",
          "2022-03-17",
          "2022-03-18",
          "2022-03-19",
          "2022-03-20",
          "2022-03-21",
          "2022-03-22",
          "2022-03-23",
          "2022-03-24",
          "2022-03-25",
          "2022-03-26",
          "2022-03-27",
          "2022-03-28",
          "2022-03-29",
          "2022-03-30",
          "2022-03-31",
          "2022-04-01",
          "2022-04-02",
          "2022-04-03",
          "2022-04-04",
          "2022-04-05",
          "2022-04-06",
          "2022-04-07",
          "2022-04-08",
          "2022-04-09",
          "2022-04-10",
          "2022-04-11",
          "2022-04-12",
          "2022-04-13",
          "2022-04-14",
          "2022-04-15",
          "2022-04-16",
          "2022-04-17",
          "2022-04-18",
          "2022-04-19",
          "2022-04-20",
          "2022-04-21",
          "2022-04-22",
          "2022-04-23",
          "2022-04-24",
          "2022-04-25",
          "2022-04-26",
          "2022-04-27",
          "2022-04-28",
          "2022-04-29",
          "2022-04-30",
          "2022-05-01",
          "2022-05-02",
          "2022-05-03",
          "2022-05-04",
          "2022-05-05",
          "2022-05-06",
          "2022-05-07",
          "2022-05-08",
          "2022-05-09",
          "2022-05-10",
          "2022-05-11",
          "2022-05-12",
          "2022-05-13",
          "2022-05-14",
          "2022-05-15",
          "2022-05-16",
          "2022-05-17",
          "2022-05-18",
          "2022-05-19",
          "2022-05-20",
          "2022-05-21",
          "2022-05-22",
          "2022-05-23",
          "2022-05-24",
          "2022-05-25",
          "2022-05-26",
          "2022-05-27",
          "2022-05-28",
          "2022-05-29",
          "2022-05-30",
          "2022-05-31",
          "2022-06-01",
          "2022-06-02",
          "2022-06-03",
          "2022-06-04",
          "2022-06-05",
          "2022-06-06",
          "2022-06-07",
          "2022-06-08",
          "2022-06-09",
          "2022-06-10",
          "2022-06-11",
          "2022-06-12",
          "2022-06-13",
          "2022-06-14",
          "2022-06-15",
          "2022-06-16",
          "2022-06-17",
          "2022-06-18",
          "2022-06-19",
          "2022-06-20",
          "2022-06-21",
          "2022-06-22",
          "2022-06-23",
          "2022-06-24",
          "2022-06-25",
          "2022-06-26",
          "2022-06-27",
          "2022-06-28",
          "2022-06-29",
          "2022-06-30",
          "2022-07-01",
          "2022-07-02",
          "2022-07-03",
          "2022-07-04",
          "2022-07-05",
          "2022-07-06",
          "2022-07-07",
          "2022-07-08",
          "2022-07-09",
          "2022-07-10",
          "2022-07-11",
          "2022-07-12",
          "2022-07-13",
          "2022-07-14",
          "2022-07-15",
          "2022-07-16",
          "2022-07-17",
          "2022-07-18",
          "2022-07-19",
          "2022-07-20",
          "2022-07-21",
          "2022-07-22",
          "2022-07-23",
          "2022-07-24",
          "2022-07-25",
          "2022-07-26",
          "2022-07-27",
          "2022-07-28",
          "2022-07-29",
          "2022-07-30",
          "2022-07-31",
          "2022-08-01",
          "2022-08-02",
          "2022-08-03",
          "2022-08-04",
          "2022-08-05",
          "2022-08-06",
          "2022-08-07",
          "2022-08-08",
          "2022-08-09",
          "2022-08-10",
          "2022-08-11",
          "2022-08-12",
          "2022-08-13",
          "2022-08-14",
          "2022-08-15",
          "2022-08-16",
          "2022-08-17",
          "2022-08-18",
          "2022-08-19",
          "2022-08-20",
          "2022-08-21",
          "2022-08-22",
          "2022-08-23",
          "2022-08-24",
          "2022-08-25",
          "2022-08-26",
          "2022-08-27",
          "2022-08-28",
          "2022-08-29",
          "2022-08-30",
          "2022-08-31",
          "2022-09-01",
          "2022-09-02",
          "2022-09-03",
          "2022-09-04",
          "2022-09-05",
          "2022-09-06",
          "2022-09-07",
          "2022-09-08",
          "2022-09-09",
          "2022-09-10",
          "2022-09-11",
          "2022-09-12",
          "2022-09-13"
         ],
         "y": [
          0.8204647763962049,
          -1.1764343496432388,
          0.25474094097865974,
          -0.08450060939097549,
          1.284994399345535,
          -0.7186510075251232,
          -1.4385755476561388,
          1.87481209487456,
          -1.0135598552896357,
          0.18631437826205718,
          0.17667683421746527,
          -0.5528852499581424,
          0.41954294414118143,
          1.2262053806735242,
          -1.6091600772454155,
          0.4937520332845391,
          -1.5744649186848847,
          1.1279024314186867,
          0.6826478965585405,
          -0.9971760304138294,
          -1.1215003485890649,
          0.45520185710617145,
          0.543867262316417,
          0.6662640716827343,
          0.5824174384947847,
          -2.1450075261247257,
          1.4006449278806379,
          0.4291804881857733,
          -0.904655607585747,
          0.5602510871922233,
          -0.9017643443723695,
          -0.7880413246461849,
          0.4976070509023759,
          -0.4979512489039684,
          2.5542589500182897,
          -0.873815466643053,
          -0.6309493567193368,
          -0.7032309370537762,
          1.1327212034409828,
          1.4632889641704854,
          0.04030558598648974,
          0.7693857929598676,
          0.3462976094022829,
          -0.3726631763242736,
          -0.2955628239675383,
          0.17860434302638364,
          -0.11244948712029203,
          0.3877390487940281,
          -0.9807922055380232,
          1.2734293464920248,
          0.5881999649215398,
          -0.0729355565374652,
          0.04030558598648974,
          0.5573598239788456,
          -0.9268219588883084,
          0.04030558598648974,
          1.3341458739729537,
          -1.7951646773060395,
          1.2184953454378509,
          1.12404741380085,
          -1.1099352957355546,
          0.5082083493514269,
          0.26534223942771085,
          -1.7007167456690386,
          -0.677209568133378,
          2.1899597851327153,
          -0.5548127587670607,
          -0.20882492756621113,
          1.8121680585847124,
          -2.0168281903316534,
          0.3655726974914667,
          1.2310241526958203,
          -1.7151730617359267,
          0.6334964219311218,
          -0.2425563317222828,
          0.33569631095323177,
          0.06873634091803588,
          0.2595597130009557,
          -1.874192538471693,
          2.0058826938810097,
          -0.2647226830248442,
          0.9438253401669813,
          -0.7976788686907769,
          -1.5397697601243538,
          1.7851829352598552,
          -0.9027280987768287,
          -0.8015338863086137,
          0.3983403472430792,
          -0.7273247971652559,
          1.2676468200652695,
          0.670119089300571,
          -0.49698749449950924,
          0.09764897305181161,
          -0.18665857626364973,
          -1.9532203996373467,
          1.0748959391734314,
          0.0880114290072197,
          -0.005472748225321834,
          0.11788781554545462,
          1.7369952150368955,
          -0.3610981234707633,
          -1.9349090659526222,
          0.39737659283862004,
          0.6209676146731523,
          0.15836550053274065,
          -0.2329187876776909,
          -1.1658330511941877,
          2.6265405303527287,
          -0.9489883101908698,
          -1.5744649186848847,
          0.765530775342031,
          -0.04209541559477109,
          0.4947157876889983,
          0.04030558598648974,
          0.04030558598648974,
          -0.41121335250264124,
          -0.9836834687514008,
          -0.8102076759487463,
          0.2884723451347314,
          2.2853714711741753,
          -1.3711127393439955,
          0.9216589888644199,
          -2.0081544006915206,
          1.3418559092086273,
          -0.8998368355634512,
          -0.2801427534961913,
          -0.480603669623703,
          0.37328273272714024,
          0.8098634779471537,
          -1.459778144554241,
          1.5211142284380368,
          -0.32351170169685484,
          -0.3061641224165894,
          1.12404741380085,
          -0.8015338863086137,
          -0.6492606904040614,
          1.2859581537499942,
          -1.146557963105004,
          -0.5779428644740814,
          2.0193752555434386,
          -1.6139788492677116,
          0.30967494203283363,
          -0.17027475138784348,
          0.46965817317305936,
          -1.0829501724106974,
          0.7308356167815,
          0.6537352644247647,
          -0.0411316611903119,
          -1.136920419060412,
          -0.5923991805409692,
          0.9149127080332056,
          1.1385037298677378,
          -0.8815255018787265,
          0.44556431306157956,
          0.7790233370044596,
          -1.5320597248886803,
          -0.48638619605045813,
          1.87481209487456,
          -1.076203891579483,
          -0.9759734335157272,
          1.6309822305463846,
          -0.5403564427001729,
          0.01862111188615794,
          -0.034385380359097564,
          -0.26954145504714017,
          0.8773262862592971,
          -1.293048632582801,
          -1.3923153362420977,
          0.04030558598648974,
          -2.3310121261853496,
          0.645061474784632,
          -2.019719453545031,
          2.733517269247699,
          1.1529600459346259,
          0.04030558598648974,
          0.04030558598648974,
          -1.9965893478380103,
          2.1485183457409702,
          -0.8921268003277776,
          0.6913216861986732,
          -0.6550432168308166,
          -0.43530721261412103,
          0.1313803772078833,
          0.2730522746633844,
          1.8208418482248452,
          -1.177398104047698,
          -0.06811678451516924,
          0.8185372675872864,
          0.04753374401993367,
          -0.7928600966684809,
          -0.04884169642598543,
          0.36460894308700753,
          -0.6858833577735107,
          0.3212399948863439,
          -0.0931743990311082,
          -0.7157597443117456,
          0.4291804881857733,
          0.28750859073027224,
          -0.22810001565539495,
          -0.2512301213624155,
          -0.14232587365852695,
          2.1870685219193375,
          -2.756027818551853,
          0.8860000758994298,
          0.2990736435837825,
          -0.6839558489645924,
          1.1452500106989523,
          0.08993893781613808,
          -0.374590685133192,
          -1.3576201776815668,
          0.9746654811096753,
          0.4715856819819777,
          -1.066566347534891,
          0.442673049848202,
          0.8638337245968684,
          -2.0187556991405717,
          -0.6174567950569082,
          1.724466407778926,
          -0.4719298799835703,
          0.031149919144127423,
          0.5833811928992438,
          -0.6588982344486534,
          1.1625975899792178,
          -0.023784081910046464,
          -0.5654140572161118,
          0.8175735131828272,
          -2.250056756210778,
          0.32895003012201746,
          0.9592454106383284,
          -0.0016177306074850696,
          0.4002678560519976,
          -0.6232393214836633,
          0.12367034197220977,
          -0.9730821703023497,
          1.3746235589602398,
          -0.9008005899679103,
          0.3482251182112013,
          -0.3109828944388854,
          0.19980693992448587,
          0.8840725670905114,
          -1.3152149838853624,
          -0.12015952235596555,
          0.7472194416573062,
          0.6036200353928868,
          0.3125662052462112,
          -1.9021414162010097,
          1.2637918024474328,
          -0.4381984758274986,
          0.609402561819642,
          -1.1128265589489321
         ]
        },
        {
         "name": "Test",
         "type": "scatter",
         "x": [
          "2022-09-14",
          "2022-09-15",
          "2022-09-16",
          "2022-09-17",
          "2022-09-18",
          "2022-09-19",
          "2022-09-20",
          "2022-09-21",
          "2022-09-22",
          "2022-09-23",
          "2022-09-24",
          "2022-09-25",
          "2022-09-26",
          "2022-09-27",
          "2022-09-28",
          "2022-09-29",
          "2022-09-30",
          "2022-10-01",
          "2022-10-02",
          "2022-10-03",
          "2022-10-04",
          "2022-10-05",
          "2022-10-06",
          "2022-10-07",
          "2022-10-08",
          "2022-10-09",
          "2022-10-10",
          "2022-10-11",
          "2022-10-12",
          "2022-10-13",
          "2022-10-14",
          "2022-10-15",
          "2022-10-16",
          "2022-10-17",
          "2022-10-18",
          "2022-10-19",
          "2022-10-20",
          "2022-10-21",
          "2022-10-22",
          "2022-10-23",
          "2022-10-24",
          "2022-10-25",
          "2022-10-26",
          "2022-10-27",
          "2022-10-28",
          "2022-10-29",
          "2022-10-30",
          "2022-10-31",
          "2022-11-01",
          "2022-11-02",
          "2022-11-03",
          "2022-11-04",
          "2022-11-05",
          "2022-11-06",
          "2022-11-07",
          "2022-11-08",
          "2022-11-09",
          "2022-11-10",
          "2022-11-11",
          "2022-11-12",
          "2022-11-13",
          "2022-11-14",
          "2022-11-15",
          "2022-11-16",
          "2022-11-17",
          "2022-11-18",
          "2022-11-19",
          "2022-11-20",
          "2022-11-21",
          "2022-11-22",
          "2022-11-23",
          "2022-11-24",
          "2022-11-25",
          "2022-11-26",
          "2022-11-27",
          "2022-11-28",
          "2022-11-29",
          "2022-11-30",
          "2022-12-01",
          "2022-12-02",
          "2022-12-03",
          "2022-12-04",
          "2022-12-05",
          "2022-12-06",
          "2022-12-07",
          "2022-12-08",
          "2022-12-09",
          "2022-12-10",
          "2022-12-11",
          "2022-12-12",
          "2022-12-13",
          "2022-12-14",
          "2022-12-15",
          "2022-12-16",
          "2022-12-17",
          "2022-12-18",
          "2022-12-19",
          "2022-12-20",
          "2022-12-21",
          "2022-12-22",
          "2022-12-23",
          "2022-12-24",
          "2022-12-25",
          "2022-12-26",
          "2022-12-27",
          "2022-12-28",
          "2022-12-29",
          "2022-12-30"
         ],
         "y": [
          0.9688829546829202,
          0.5255559286316923,
          -0.7273247971652559,
          0.29425487156148655,
          -0.4381984758274986,
          -0.8901992915188592,
          -0.20689741875729276,
          0.3212399948863439,
          0.7250530903547449,
          0.483150734835488,
          0.4272529793768549,
          -0.546138969126928,
          -0.9104381340125023,
          0.3019649067971601,
          -0.7109409722894497,
          0.9862305339631856,
          0.04030558598648974,
          0.04030558598648974,
          0.886963830303889,
          -0.3967570364357534,
          -0.7976788686907769,
          0.4070141368832119,
          0.26726974823662925,
          -0.2213537348241806,
          0.4889332612622432,
          -1.167760560003106,
          1.2464442231671673,
          -1.9522566452328876,
          1.043092043826278,
          -0.44012598463641694,
          2.001063921858714,
          -1.2940123869872602,
          0.5872362105170806,
          1.5461718429539757,
          -1.9185252410768159,
          0.3761739959405178,
          -1.6101238316498747,
          0.6431339659757137,
          0.40605038247875275,
          0.18824188707097556,
          -0.3919382644134574,
          -0.42181465095169235,
          -0.29267156075416073,
          0.6122938250330195,
          -1.1494492263183815,
          2.259350102253777,
          -0.7687662365570012,
          -0.018001555483291316,
          1.2329516615047387,
          0.04030558598648974,
          0.9534628842115732,
          0.11306904352315866,
          -0.9836834687514008,
          1.492201596304261,
          -0.8979093267545327,
          1.2734293464920248,
          0.3655726974914667,
          -0.2955628239675383,
          -0.6116742686301531,
          0.4002678560519976,
          -1.5416972689332722,
          1.0816422200046456,
          -0.9017643443723695,
          0.4648394011507634,
          0.624822632290989,
          -0.3967570364357534,
          0.08608392019830131,
          -1.1311378926336568,
          1.3052332418391779,
          -0.5567402675759792,
          0.2576322041920373,
          0.10825027150086271,
          -0.6627532520664902,
          0.21040823837353695,
          -0.2974903327764567,
          1.7591615663394569,
          -0.027639099527883227,
          0.04030558598648974,
          0.04030558598648974,
          -1.071385119557187,
          0.4407455410392836,
          -0.18762233066810893,
          0.8156460043739089,
          -0.9171844148437166,
          0.24510339693406782,
          0.48122322602656964,
          -1.38942407302872,
          1.2368066791225754,
          -1.0800589091973198,
          -0.566377811620571,
          0.8532324261478172,
          -0.4449447566587129,
          -0.0931743990311082,
          0.03307742795304581,
          0.7886608810490515,
          0.42532547056793657,
          -0.19918738352161922,
          -1.5339872336975986,
          1.6194171776928743,
          -0.9460970469774923,
          0.22293704563150643,
          -1.4530318637230266,
          0.04030558598648974,
          -1.5648273746402928,
          -0.3832644747733247,
          0.7896246354535107,
          -0.2955628239675383,
          0.7616757577241942
         ]
        },
        {
         "name": "Predicted",
         "type": "scatter",
         "x": [
          "2022-09-14",
          "2022-09-15",
          "2022-09-16",
          "2022-09-17",
          "2022-09-18",
          "2022-09-19",
          "2022-09-20",
          "2022-09-21",
          "2022-09-22",
          "2022-09-23",
          "2022-09-24",
          "2022-09-25",
          "2022-09-26",
          "2022-09-27",
          "2022-09-28",
          "2022-09-29",
          "2022-09-30",
          "2022-10-01",
          "2022-10-02",
          "2022-10-03",
          "2022-10-04",
          "2022-10-05",
          "2022-10-06",
          "2022-10-07",
          "2022-10-08",
          "2022-10-09",
          "2022-10-10",
          "2022-10-11",
          "2022-10-12",
          "2022-10-13",
          "2022-10-14",
          "2022-10-15",
          "2022-10-16",
          "2022-10-17",
          "2022-10-18",
          "2022-10-19",
          "2022-10-20",
          "2022-10-21",
          "2022-10-22",
          "2022-10-23",
          "2022-10-24",
          "2022-10-25",
          "2022-10-26",
          "2022-10-27",
          "2022-10-28",
          "2022-10-29",
          "2022-10-30",
          "2022-10-31",
          "2022-11-01",
          "2022-11-02",
          "2022-11-03",
          "2022-11-04",
          "2022-11-05",
          "2022-11-06",
          "2022-11-07",
          "2022-11-08",
          "2022-11-09",
          "2022-11-10",
          "2022-11-11",
          "2022-11-12",
          "2022-11-13",
          "2022-11-14",
          "2022-11-15",
          "2022-11-16",
          "2022-11-17",
          "2022-11-18",
          "2022-11-19",
          "2022-11-20",
          "2022-11-21",
          "2022-11-22",
          "2022-11-23",
          "2022-11-24",
          "2022-11-25",
          "2022-11-26",
          "2022-11-27",
          "2022-11-28",
          "2022-11-29",
          "2022-11-30",
          "2022-12-01",
          "2022-12-02",
          "2022-12-03",
          "2022-12-04",
          "2022-12-05",
          "2022-12-06",
          "2022-12-07",
          "2022-12-08",
          "2022-12-09",
          "2022-12-10",
          "2022-12-11",
          "2022-12-12",
          "2022-12-13",
          "2022-12-14",
          "2022-12-15",
          "2022-12-16",
          "2022-12-17",
          "2022-12-18",
          "2022-12-19",
          "2022-12-20",
          "2022-12-21",
          "2022-12-22",
          "2022-12-23",
          "2022-12-24",
          "2022-12-25",
          "2022-12-26",
          "2022-12-27",
          "2022-12-28",
          "2022-12-29",
          "2022-12-30"
         ],
         "y": [
          0.503729522228241,
          -0.006618522107601166,
          0.13090410828590393,
          0.3810468018054962,
          0.12768122553825378,
          0.2095472514629364,
          0.5735998153686523,
          0.3241477608680725,
          0.19233939051628113,
          0.0938674658536911,
          0.12084037810564041,
          0.12862035632133484,
          0.24274444580078125,
          0.46605241298675537,
          0.19626741111278534,
          0.4522262215614319,
          0.13691693544387817,
          0.19457775354385376,
          0.27621811628341675,
          -0.0680718868970871,
          0.41268783807754517,
          0.39883896708488464,
          0.17869913578033447,
          0.2866755723953247,
          0.3493804931640625,
          0.16087624430656433,
          0.5020994544029236,
          -0.04109727591276169,
          0.6144556403160095,
          -0.04776746779680252,
          0.4004516303539276,
          -0.21390756964683533,
          0.4981696605682373,
          0.03300296515226364,
          -0.24769020080566406,
          0.5089804530143738,
          -0.05739042907953262,
          0.5828636884689331,
          0.09153099358081818,
          0.0643366277217865,
          0.14347222447395325,
          0.3546984791755676,
          0.26350536942481995,
          0.2625884413719177,
          0.12517814338207245,
          0.5284785032272339,
          -0.305875301361084,
          0.22567346692085266,
          0.2926023602485657,
          -0.253591924905777,
          0.02856331318616867,
          -0.19713552296161652,
          0.11903639882802963,
          0.2720324397087097,
          -0.2963818311691284,
          0.44675368070602417,
          -0.2596989870071411,
          -0.11723397672176361,
          -0.002146102488040924,
          0.15545408427715302,
          -0.0759219080209732,
          0.38343992829322815,
          -0.131812185049057,
          0.20903199911117554,
          -0.14521992206573486,
          -0.11504402756690979,
          0.034579772502183914,
          0.08418750017881393,
          0.31768354773521423,
          -0.15124064683914185,
          0.2675991654396057,
          0.06112184375524521,
          0.21526257693767548,
          0.42156311869621277,
          0.13287925720214844,
          0.35155075788497925,
          -0.15273872017860413,
          0.21868430078029633,
          0.20039212703704834,
          0.2385806441307068,
          0.48459675908088684,
          0.15382251143455505,
          0.1729981005191803,
          0.10165909677743912,
          0.3635677099227905,
          0.12434416264295578,
          0.15169857442378998,
          0.5713854432106018,
          -0.057820625603199005,
          0.36019977927207947,
          0.5006100535392761,
          0.05448555573821068,
          0.32066112756729126,
          0.3346386253833771,
          0.26057371497154236,
          0.034603215754032135,
          0.028807424008846283,
          0.4090680778026581,
          0.6935374736785889,
          -0.07861966639757156,
          0.552539587020874,
          0.23270966112613678,
          0.6130395531654358,
          0.2772708833217621,
          0.9019368290901184,
          0.5675382614135742,
          0.2688557803630829,
          0.603584885597229
         ]
        }
       ],
       "layout": {
        "template": {
         "data": {
          "bar": [
           {
            "error_x": {
             "color": "#2a3f5f"
            },
            "error_y": {
             "color": "#2a3f5f"
            },
            "marker": {
             "line": {
              "color": "#E5ECF6",
              "width": 0.5
             },
             "pattern": {
              "fillmode": "overlay",
              "size": 10,
              "solidity": 0.2
             }
            },
            "type": "bar"
           }
          ],
          "barpolar": [
           {
            "marker": {
             "line": {
              "color": "#E5ECF6",
              "width": 0.5
             },
             "pattern": {
              "fillmode": "overlay",
              "size": 10,
              "solidity": 0.2
             }
            },
            "type": "barpolar"
           }
          ],
          "carpet": [
           {
            "aaxis": {
             "endlinecolor": "#2a3f5f",
             "gridcolor": "white",
             "linecolor": "white",
             "minorgridcolor": "white",
             "startlinecolor": "#2a3f5f"
            },
            "baxis": {
             "endlinecolor": "#2a3f5f",
             "gridcolor": "white",
             "linecolor": "white",
             "minorgridcolor": "white",
             "startlinecolor": "#2a3f5f"
            },
            "type": "carpet"
           }
          ],
          "choropleth": [
           {
            "colorbar": {
             "outlinewidth": 0,
             "ticks": ""
            },
            "type": "choropleth"
           }
          ],
          "contour": [
           {
            "colorbar": {
             "outlinewidth": 0,
             "ticks": ""
            },
            "colorscale": [
             [
              0,
              "#0d0887"
             ],
             [
              0.1111111111111111,
              "#46039f"
             ],
             [
              0.2222222222222222,
              "#7201a8"
             ],
             [
              0.3333333333333333,
              "#9c179e"
             ],
             [
              0.4444444444444444,
              "#bd3786"
             ],
             [
              0.5555555555555556,
              "#d8576b"
             ],
             [
              0.6666666666666666,
              "#ed7953"
             ],
             [
              0.7777777777777778,
              "#fb9f3a"
             ],
             [
              0.8888888888888888,
              "#fdca26"
             ],
             [
              1,
              "#f0f921"
             ]
            ],
            "type": "contour"
           }
          ],
          "contourcarpet": [
           {
            "colorbar": {
             "outlinewidth": 0,
             "ticks": ""
            },
            "type": "contourcarpet"
           }
          ],
          "heatmap": [
           {
            "colorbar": {
             "outlinewidth": 0,
             "ticks": ""
            },
            "colorscale": [
             [
              0,
              "#0d0887"
             ],
             [
              0.1111111111111111,
              "#46039f"
             ],
             [
              0.2222222222222222,
              "#7201a8"
             ],
             [
              0.3333333333333333,
              "#9c179e"
             ],
             [
              0.4444444444444444,
              "#bd3786"
             ],
             [
              0.5555555555555556,
              "#d8576b"
             ],
             [
              0.6666666666666666,
              "#ed7953"
             ],
             [
              0.7777777777777778,
              "#fb9f3a"
             ],
             [
              0.8888888888888888,
              "#fdca26"
             ],
             [
              1,
              "#f0f921"
             ]
            ],
            "type": "heatmap"
           }
          ],
          "heatmapgl": [
           {
            "colorbar": {
             "outlinewidth": 0,
             "ticks": ""
            },
            "colorscale": [
             [
              0,
              "#0d0887"
             ],
             [
              0.1111111111111111,
              "#46039f"
             ],
             [
              0.2222222222222222,
              "#7201a8"
             ],
             [
              0.3333333333333333,
              "#9c179e"
             ],
             [
              0.4444444444444444,
              "#bd3786"
             ],
             [
              0.5555555555555556,
              "#d8576b"
             ],
             [
              0.6666666666666666,
              "#ed7953"
             ],
             [
              0.7777777777777778,
              "#fb9f3a"
             ],
             [
              0.8888888888888888,
              "#fdca26"
             ],
             [
              1,
              "#f0f921"
             ]
            ],
            "type": "heatmapgl"
           }
          ],
          "histogram": [
           {
            "marker": {
             "pattern": {
              "fillmode": "overlay",
              "size": 10,
              "solidity": 0.2
             }
            },
            "type": "histogram"
           }
          ],
          "histogram2d": [
           {
            "colorbar": {
             "outlinewidth": 0,
             "ticks": ""
            },
            "colorscale": [
             [
              0,
              "#0d0887"
             ],
             [
              0.1111111111111111,
              "#46039f"
             ],
             [
              0.2222222222222222,
              "#7201a8"
             ],
             [
              0.3333333333333333,
              "#9c179e"
             ],
             [
              0.4444444444444444,
              "#bd3786"
             ],
             [
              0.5555555555555556,
              "#d8576b"
             ],
             [
              0.6666666666666666,
              "#ed7953"
             ],
             [
              0.7777777777777778,
              "#fb9f3a"
             ],
             [
              0.8888888888888888,
              "#fdca26"
             ],
             [
              1,
              "#f0f921"
             ]
            ],
            "type": "histogram2d"
           }
          ],
          "histogram2dcontour": [
           {
            "colorbar": {
             "outlinewidth": 0,
             "ticks": ""
            },
            "colorscale": [
             [
              0,
              "#0d0887"
             ],
             [
              0.1111111111111111,
              "#46039f"
             ],
             [
              0.2222222222222222,
              "#7201a8"
             ],
             [
              0.3333333333333333,
              "#9c179e"
             ],
             [
              0.4444444444444444,
              "#bd3786"
             ],
             [
              0.5555555555555556,
              "#d8576b"
             ],
             [
              0.6666666666666666,
              "#ed7953"
             ],
             [
              0.7777777777777778,
              "#fb9f3a"
             ],
             [
              0.8888888888888888,
              "#fdca26"
             ],
             [
              1,
              "#f0f921"
             ]
            ],
            "type": "histogram2dcontour"
           }
          ],
          "mesh3d": [
           {
            "colorbar": {
             "outlinewidth": 0,
             "ticks": ""
            },
            "type": "mesh3d"
           }
          ],
          "parcoords": [
           {
            "line": {
             "colorbar": {
              "outlinewidth": 0,
              "ticks": ""
             }
            },
            "type": "parcoords"
           }
          ],
          "pie": [
           {
            "automargin": true,
            "type": "pie"
           }
          ],
          "scatter": [
           {
            "fillpattern": {
             "fillmode": "overlay",
             "size": 10,
             "solidity": 0.2
            },
            "type": "scatter"
           }
          ],
          "scatter3d": [
           {
            "line": {
             "colorbar": {
              "outlinewidth": 0,
              "ticks": ""
             }
            },
            "marker": {
             "colorbar": {
              "outlinewidth": 0,
              "ticks": ""
             }
            },
            "type": "scatter3d"
           }
          ],
          "scattercarpet": [
           {
            "marker": {
             "colorbar": {
              "outlinewidth": 0,
              "ticks": ""
             }
            },
            "type": "scattercarpet"
           }
          ],
          "scattergeo": [
           {
            "marker": {
             "colorbar": {
              "outlinewidth": 0,
              "ticks": ""
             }
            },
            "type": "scattergeo"
           }
          ],
          "scattergl": [
           {
            "marker": {
             "colorbar": {
              "outlinewidth": 0,
              "ticks": ""
             }
            },
            "type": "scattergl"
           }
          ],
          "scattermapbox": [
           {
            "marker": {
             "colorbar": {
              "outlinewidth": 0,
              "ticks": ""
             }
            },
            "type": "scattermapbox"
           }
          ],
          "scatterpolar": [
           {
            "marker": {
             "colorbar": {
              "outlinewidth": 0,
              "ticks": ""
             }
            },
            "type": "scatterpolar"
           }
          ],
          "scatterpolargl": [
           {
            "marker": {
             "colorbar": {
              "outlinewidth": 0,
              "ticks": ""
             }
            },
            "type": "scatterpolargl"
           }
          ],
          "scatterternary": [
           {
            "marker": {
             "colorbar": {
              "outlinewidth": 0,
              "ticks": ""
             }
            },
            "type": "scatterternary"
           }
          ],
          "surface": [
           {
            "colorbar": {
             "outlinewidth": 0,
             "ticks": ""
            },
            "colorscale": [
             [
              0,
              "#0d0887"
             ],
             [
              0.1111111111111111,
              "#46039f"
             ],
             [
              0.2222222222222222,
              "#7201a8"
             ],
             [
              0.3333333333333333,
              "#9c179e"
             ],
             [
              0.4444444444444444,
              "#bd3786"
             ],
             [
              0.5555555555555556,
              "#d8576b"
             ],
             [
              0.6666666666666666,
              "#ed7953"
             ],
             [
              0.7777777777777778,
              "#fb9f3a"
             ],
             [
              0.8888888888888888,
              "#fdca26"
             ],
             [
              1,
              "#f0f921"
             ]
            ],
            "type": "surface"
           }
          ],
          "table": [
           {
            "cells": {
             "fill": {
              "color": "#EBF0F8"
             },
             "line": {
              "color": "white"
             }
            },
            "header": {
             "fill": {
              "color": "#C8D4E3"
             },
             "line": {
              "color": "white"
             }
            },
            "type": "table"
           }
          ]
         },
         "layout": {
          "annotationdefaults": {
           "arrowcolor": "#2a3f5f",
           "arrowhead": 0,
           "arrowwidth": 1
          },
          "autotypenumbers": "strict",
          "coloraxis": {
           "colorbar": {
            "outlinewidth": 0,
            "ticks": ""
           }
          },
          "colorscale": {
           "diverging": [
            [
             0,
             "#8e0152"
            ],
            [
             0.1,
             "#c51b7d"
            ],
            [
             0.2,
             "#de77ae"
            ],
            [
             0.3,
             "#f1b6da"
            ],
            [
             0.4,
             "#fde0ef"
            ],
            [
             0.5,
             "#f7f7f7"
            ],
            [
             0.6,
             "#e6f5d0"
            ],
            [
             0.7,
             "#b8e186"
            ],
            [
             0.8,
             "#7fbc41"
            ],
            [
             0.9,
             "#4d9221"
            ],
            [
             1,
             "#276419"
            ]
           ],
           "sequential": [
            [
             0,
             "#0d0887"
            ],
            [
             0.1111111111111111,
             "#46039f"
            ],
            [
             0.2222222222222222,
             "#7201a8"
            ],
            [
             0.3333333333333333,
             "#9c179e"
            ],
            [
             0.4444444444444444,
             "#bd3786"
            ],
            [
             0.5555555555555556,
             "#d8576b"
            ],
            [
             0.6666666666666666,
             "#ed7953"
            ],
            [
             0.7777777777777778,
             "#fb9f3a"
            ],
            [
             0.8888888888888888,
             "#fdca26"
            ],
            [
             1,
             "#f0f921"
            ]
           ],
           "sequentialminus": [
            [
             0,
             "#0d0887"
            ],
            [
             0.1111111111111111,
             "#46039f"
            ],
            [
             0.2222222222222222,
             "#7201a8"
            ],
            [
             0.3333333333333333,
             "#9c179e"
            ],
            [
             0.4444444444444444,
             "#bd3786"
            ],
            [
             0.5555555555555556,
             "#d8576b"
            ],
            [
             0.6666666666666666,
             "#ed7953"
            ],
            [
             0.7777777777777778,
             "#fb9f3a"
            ],
            [
             0.8888888888888888,
             "#fdca26"
            ],
            [
             1,
             "#f0f921"
            ]
           ]
          },
          "colorway": [
           "#636efa",
           "#EF553B",
           "#00cc96",
           "#ab63fa",
           "#FFA15A",
           "#19d3f3",
           "#FF6692",
           "#B6E880",
           "#FF97FF",
           "#FECB52"
          ],
          "font": {
           "color": "#2a3f5f"
          },
          "geo": {
           "bgcolor": "white",
           "lakecolor": "white",
           "landcolor": "#E5ECF6",
           "showlakes": true,
           "showland": true,
           "subunitcolor": "white"
          },
          "hoverlabel": {
           "align": "left"
          },
          "hovermode": "closest",
          "mapbox": {
           "style": "light"
          },
          "paper_bgcolor": "white",
          "plot_bgcolor": "#E5ECF6",
          "polar": {
           "angularaxis": {
            "gridcolor": "white",
            "linecolor": "white",
            "ticks": ""
           },
           "bgcolor": "#E5ECF6",
           "radialaxis": {
            "gridcolor": "white",
            "linecolor": "white",
            "ticks": ""
           }
          },
          "scene": {
           "xaxis": {
            "backgroundcolor": "#E5ECF6",
            "gridcolor": "white",
            "gridwidth": 2,
            "linecolor": "white",
            "showbackground": true,
            "ticks": "",
            "zerolinecolor": "white"
           },
           "yaxis": {
            "backgroundcolor": "#E5ECF6",
            "gridcolor": "white",
            "gridwidth": 2,
            "linecolor": "white",
            "showbackground": true,
            "ticks": "",
            "zerolinecolor": "white"
           },
           "zaxis": {
            "backgroundcolor": "#E5ECF6",
            "gridcolor": "white",
            "gridwidth": 2,
            "linecolor": "white",
            "showbackground": true,
            "ticks": "",
            "zerolinecolor": "white"
           }
          },
          "shapedefaults": {
           "line": {
            "color": "#2a3f5f"
           }
          },
          "ternary": {
           "aaxis": {
            "gridcolor": "white",
            "linecolor": "white",
            "ticks": ""
           },
           "baxis": {
            "gridcolor": "white",
            "linecolor": "white",
            "ticks": ""
           },
           "bgcolor": "#E5ECF6",
           "caxis": {
            "gridcolor": "white",
            "linecolor": "white",
            "ticks": ""
           }
          },
          "title": {
           "x": 0.05
          },
          "xaxis": {
           "automargin": true,
           "gridcolor": "white",
           "linecolor": "white",
           "ticks": "",
           "title": {
            "standoff": 15
           },
           "zerolinecolor": "white",
           "zerolinewidth": 2
          },
          "yaxis": {
           "automargin": true,
           "gridcolor": "white",
           "linecolor": "white",
           "ticks": "",
           "title": {
            "standoff": 15
           },
           "zerolinecolor": "white",
           "zerolinewidth": 2
          }
         }
        },
        "title": {
         "text": " kano_transactions Aggregated NNet & tsfresh. MAE=0.6518"
        }
       }
      }
     },
     "metadata": {},
     "output_type": "display_data"
    },
    {
     "name": "stderr",
     "output_type": "stream",
     "text": [
      "Rolling: 100%|██████████| 20/20 [00:00<00:00, 43.68it/s]\n",
      "Feature Extraction: 100%|██████████| 20/20 [00:00<00:00, 64.35it/s]\n"
     ]
    },
    {
     "data": {
      "application/vnd.plotly.v1+json": {
       "config": {
        "plotlyServerURL": "https://plot.ly"
       },
       "data": [
        {
         "name": "Train",
         "type": "scatter",
         "x": [
          "2022-01-07",
          "2022-01-08",
          "2022-01-09",
          "2022-01-10",
          "2022-01-11",
          "2022-01-12",
          "2022-01-13",
          "2022-01-14",
          "2022-01-15",
          "2022-01-16",
          "2022-01-17",
          "2022-01-18",
          "2022-01-19",
          "2022-01-20",
          "2022-01-21",
          "2022-01-22",
          "2022-01-23",
          "2022-01-24",
          "2022-01-25",
          "2022-01-26",
          "2022-01-27",
          "2022-01-28",
          "2022-01-29",
          "2022-01-30",
          "2022-01-31",
          "2022-02-01",
          "2022-02-02",
          "2022-02-03",
          "2022-02-04",
          "2022-02-05",
          "2022-02-06",
          "2022-02-07",
          "2022-02-08",
          "2022-02-09",
          "2022-02-10",
          "2022-02-11",
          "2022-02-12",
          "2022-02-13",
          "2022-02-14",
          "2022-02-15",
          "2022-02-16",
          "2022-02-17",
          "2022-02-18",
          "2022-02-19",
          "2022-02-20",
          "2022-02-21",
          "2022-02-22",
          "2022-02-23",
          "2022-02-24",
          "2022-02-25",
          "2022-02-26",
          "2022-02-27",
          "2022-02-28",
          "2022-03-01",
          "2022-03-02",
          "2022-03-03",
          "2022-03-04",
          "2022-03-05",
          "2022-03-06",
          "2022-03-07",
          "2022-03-08",
          "2022-03-09",
          "2022-03-10",
          "2022-03-11",
          "2022-03-12",
          "2022-03-13",
          "2022-03-14",
          "2022-03-15",
          "2022-03-16",
          "2022-03-17",
          "2022-03-18",
          "2022-03-19",
          "2022-03-20",
          "2022-03-21",
          "2022-03-22",
          "2022-03-23",
          "2022-03-24",
          "2022-03-25",
          "2022-03-26",
          "2022-03-27",
          "2022-03-28",
          "2022-03-29",
          "2022-03-30",
          "2022-03-31",
          "2022-04-01",
          "2022-04-02",
          "2022-04-03",
          "2022-04-04",
          "2022-04-05",
          "2022-04-06",
          "2022-04-07",
          "2022-04-08",
          "2022-04-09",
          "2022-04-10",
          "2022-04-11",
          "2022-04-12",
          "2022-04-13",
          "2022-04-14",
          "2022-04-15",
          "2022-04-16",
          "2022-04-17",
          "2022-04-18",
          "2022-04-19",
          "2022-04-20",
          "2022-04-21",
          "2022-04-22",
          "2022-04-23",
          "2022-04-24",
          "2022-04-25",
          "2022-04-26",
          "2022-04-27",
          "2022-04-28",
          "2022-04-29",
          "2022-04-30",
          "2022-05-01",
          "2022-05-02",
          "2022-05-03",
          "2022-05-04",
          "2022-05-05",
          "2022-05-06",
          "2022-05-07",
          "2022-05-08",
          "2022-05-09",
          "2022-05-10",
          "2022-05-11",
          "2022-05-12",
          "2022-05-13",
          "2022-05-14",
          "2022-05-15",
          "2022-05-16",
          "2022-05-17",
          "2022-05-18",
          "2022-05-19",
          "2022-05-20",
          "2022-05-21",
          "2022-05-22",
          "2022-05-23",
          "2022-05-24",
          "2022-05-25",
          "2022-05-26",
          "2022-05-27",
          "2022-05-28",
          "2022-05-29",
          "2022-05-30",
          "2022-05-31",
          "2022-06-01",
          "2022-06-02",
          "2022-06-03",
          "2022-06-04",
          "2022-06-05",
          "2022-06-06",
          "2022-06-07",
          "2022-06-08",
          "2022-06-09",
          "2022-06-10",
          "2022-06-11",
          "2022-06-12",
          "2022-06-13",
          "2022-06-14",
          "2022-06-15",
          "2022-06-16",
          "2022-06-17",
          "2022-06-18",
          "2022-06-19",
          "2022-06-20",
          "2022-06-21",
          "2022-06-22",
          "2022-06-23",
          "2022-06-24",
          "2022-06-25",
          "2022-06-26",
          "2022-06-27",
          "2022-06-28",
          "2022-06-29",
          "2022-06-30",
          "2022-07-01",
          "2022-07-02",
          "2022-07-03",
          "2022-07-04",
          "2022-07-05",
          "2022-07-06",
          "2022-07-07",
          "2022-07-08",
          "2022-07-09",
          "2022-07-10",
          "2022-07-11",
          "2022-07-12",
          "2022-07-13",
          "2022-07-14",
          "2022-07-15",
          "2022-07-16",
          "2022-07-17",
          "2022-07-18",
          "2022-07-19",
          "2022-07-20",
          "2022-07-21",
          "2022-07-22",
          "2022-07-23",
          "2022-07-24",
          "2022-07-25",
          "2022-07-26",
          "2022-07-27",
          "2022-07-28",
          "2022-07-29",
          "2022-07-30",
          "2022-07-31",
          "2022-08-01",
          "2022-08-02",
          "2022-08-03",
          "2022-08-04",
          "2022-08-05",
          "2022-08-06",
          "2022-08-07",
          "2022-08-08",
          "2022-08-09",
          "2022-08-10",
          "2022-08-11",
          "2022-08-12",
          "2022-08-13",
          "2022-08-14",
          "2022-08-15",
          "2022-08-16",
          "2022-08-17",
          "2022-08-18",
          "2022-08-19",
          "2022-08-20",
          "2022-08-21",
          "2022-08-22",
          "2022-08-23",
          "2022-08-24",
          "2022-08-25",
          "2022-08-26",
          "2022-08-27",
          "2022-08-28",
          "2022-08-29",
          "2022-08-30",
          "2022-08-31",
          "2022-09-01",
          "2022-09-02",
          "2022-09-03",
          "2022-09-04",
          "2022-09-05",
          "2022-09-06",
          "2022-09-07",
          "2022-09-08",
          "2022-09-09",
          "2022-09-10",
          "2022-09-11",
          "2022-09-12",
          "2022-09-13"
         ],
         "y": [
          0.9610202873172389,
          1.103829162451138,
          -1.5482361430842493,
          -0.6495851727294686,
          0.8084586109546831,
          -0.7032255794870795,
          1.4075592578578702,
          -1.6903483895589586,
          0.6078295571080345,
          -0.5179223561426054,
          -1.0222815053959862,
          1.335109877302136,
          0.28320060192560986,
          0.1215827529935873,
          -0.4510460048603891,
          1.275896441271007,
          -0.27688884006295106,
          -0.8704164576926201,
          1.0871100746305842,
          -2.117381757642277,
          0.7158069992824462,
          -0.23578774917075568,
          0.49079594236415613,
          -1.4040340106319704,
          0.04181877151636065,
          -1.2793374806370048,
          1.9307273809093741,
          -2.668415027061371,
          0.8203012981609089,
          -1.2918767965024203,
          1.5761433933817903,
          0.057492916348130085,
          -0.042821610575194256,
          -0.268529296152674,
          -1.3907980661073651,
          2.2846147397777683,
          -1.594213634590773,
          0.457357766723048,
          -1.8115617762579757,
          0.6733126510718712,
          1.3211773041183408,
          -1.4381688149322684,
          1.2877391284772328,
          -0.42457411581117854,
          -0.3131135303408182,
          1.3392896492572743,
          -1.3775621215827598,
          -0.3465517059819263,
          1.334413248642946,
          -0.699045807531941,
          1.4709524658441377,
          -0.634259342227294,
          0.04181877151636065,
          0.5653352088974596,
          0.4796498838171201,
          0.04181877151636065,
          0.6635598498432147,
          0.3208185495218565,
          0.4984588576152434,
          -0.18841700034585251,
          -0.9574950400913392,
          -0.262956266879156,
          1.5071771561220049,
          -0.986056815118119,
          0.912952909833146,
          -0.19677654425612953,
          -1.217337529969117,
          1.5225029866241793,
          -1.5663484882231828,
          -0.3430685626859775,
          0.105560293832223,
          -0.11596761979011826,
          0.9491776001110132,
          -1.2897869105248512,
          0.6586834492288864,
          0.9728629745234647,
          0.9840090330705007,
          -1.7321461091103438,
          0.8042788389995446,
          0.0017626236129498958,
          -0.5485740171469544,
          -0.36187753648410087,
          0.6593800778880762,
          -1.4103036685646781,
          0.05888617366650959,
          1.4347277755662706,
          -0.9609781833872879,
          -0.5430009878734364,
          0.6642564785024044,
          -1.3594497764438263,
          0.7262564291702924,
          0.5353801765523003,
          -0.8934052034458819,
          -0.7352704978098081,
          1.6708848910315965,
          -0.3291359895021825,
          -0.184237228390714,
          0.39675107337353954,
          0.9415146848599258,
          -1.4235396130892835,
          0.8314473567079449,
          -0.005900291638137381,
          0.3737623276202777,
          -0.2072259741439758,
          1.2159863765806882,
          -0.628686312953776,
          -1.8895841860872278,
          1.4939412115973996,
          0.21214447868825512,
          0.0895378346708587,
          0.026144626684591228,
          -0.7916974192041781,
          -0.25041695101374045,
          0.04181877151636065,
          0.04181877151636065,
          -1.025068020032745,
          0.09302097796680746,
          0.0010659949537601434,
          0.2929534031542664,
          0.09511086394437672,
          -1.6513371846443325,
          1.2382784936747604,
          -0.12641704967796455,
          0.2741444293561431,
          -0.36954045173518807,
          0.4998521149336229,
          -1.5405732278331619,
          0.9491776001110132,
          0.4113802752165243,
          0.8655821610082428,
          -2.0177638593781424,
          0.4120769038757141,
          0.7729305493360058,
          -0.4712482359768919,
          0.8997169653085407,
          -1.4625508180039097,
          1.0111775507789011,
          0.4587510240414275,
          0.4246162197411296,
          -0.8648434284191021,
          0.012908682159985934,
          -0.09297887403685644,
          -0.07974292951225113,
          -0.6140571111107912,
          1.016750580052419,
          0.29922306108697416,
          -1.9529773940734954,
          0.8216945554792884,
          0.41625667583085263,
          -1.0076523035530014,
          0.5681217235342186,
          0.018481711433503953,
          0.18706584695742404,
          1.315604274844823,
          -2.4789320317617585,
          1.2577840961320734,
          -0.6516750587070378,
          -0.07486652889792288,
          1.4542333780235837,
          0.40232410264705754,
          -1.0605960816514226,
          0.8091552396138729,
          -0.45034937620119936,
          -1.6771124450343533,
          1.3873570267413673,
          -0.06929349962440486,
          -0.7659221588141573,
          0.34102078063835933,
          -0.747113185016034,
          -0.17866419911719597,
          2.2219181604506906,
          -1.467427218618238,
          2.254659707432609,
          0.04181877151636065,
          0.04181877151636065,
          0.04181877151636065,
          -0.23230460587480692,
          -0.37163033771275733,
          0.6698295077759224,
          0.14108835545090037,
          -1.2013150708077525,
          -0.10203504660632322,
          -1.8777414988810022,
          0.04181877151636065,
          -0.16403499727421117,
          -0.5673829909450777,
          0.5012453722520024,
          0.8802113628512276,
          -1.537090084537213,
          0.2713579147193841,
          0.8133350115690113,
          0.18985236159418303,
          0.2616051134907275,
          -0.6307761989313453,
          -0.24623717905860196,
          -0.09019235940009743,
          0.49427908566010487,
          -0.6356525995456735,
          0.6363913321348144,
          -0.4057651420130552,
          0.8154248975465807,
          -0.06790024230602534,
          -0.37581010966789585,
          -1.256348734883743,
          0.30827923365644094,
          0.18149281768390602,
          1.2584807247912633,
          -1.5447529997883005,
          1.227829063786914,
          -1.6596967285546096,
          0.9714697172050851,
          0.10347040785465374,
          0.600863270516137,
          -2.0428424911089733,
          1.5315591591936462,
          -0.9728208705935137,
          0.6140992150407423,
          0.8627956463714838,
          -1.8192246915090629,
          0.7499418035827439,
          -0.5248886427345029,
          1.7098960959462226,
          -0.8063266210471629,
          -0.4294505164255068,
          0.8084586109546831,
          -0.7290008398771003,
          -0.8613602851231533,
          0.3382342660016003,
          -0.648191915411089,
          1.7342780990178641,
          1.2292223211052935,
          -1.9836290550778444,
          0.0073356528864679145,
          0.2588185988539685,
          1.537132188467164,
          -1.9696964818940494,
          -0.1271136783371543,
          0.20169504880040884,
          -1.104483687180377,
          1.6632219757805093,
          -0.6461020294335198,
          -0.3528213639146341,
          0.76108786212978,
          -0.6593379739581251,
          0.9477843427926336,
          -0.42109097251522976,
          -1.3956744667216934,
          0.392571301418401,
          1.0975595045184303,
          -0.2720124394486228
         ]
        },
        {
         "name": "Test",
         "type": "scatter",
         "x": [
          "2022-09-14",
          "2022-09-15",
          "2022-09-16",
          "2022-09-17",
          "2022-09-18",
          "2022-09-19",
          "2022-09-20",
          "2022-09-21",
          "2022-09-22",
          "2022-09-23",
          "2022-09-24",
          "2022-09-25",
          "2022-09-26",
          "2022-09-27",
          "2022-09-28",
          "2022-09-29",
          "2022-09-30",
          "2022-10-01",
          "2022-10-02",
          "2022-10-03",
          "2022-10-04",
          "2022-10-05",
          "2022-10-06",
          "2022-10-07",
          "2022-10-08",
          "2022-10-09",
          "2022-10-10",
          "2022-10-11",
          "2022-10-12",
          "2022-10-13",
          "2022-10-14",
          "2022-10-15",
          "2022-10-16",
          "2022-10-17",
          "2022-10-18",
          "2022-10-19",
          "2022-10-20",
          "2022-10-21",
          "2022-10-22",
          "2022-10-23",
          "2022-10-24",
          "2022-10-25",
          "2022-10-26",
          "2022-10-27",
          "2022-10-28",
          "2022-10-29",
          "2022-10-30",
          "2022-10-31",
          "2022-11-01",
          "2022-11-02",
          "2022-11-03",
          "2022-11-04",
          "2022-11-05",
          "2022-11-06",
          "2022-11-07",
          "2022-11-08",
          "2022-11-09",
          "2022-11-10",
          "2022-11-11",
          "2022-11-12",
          "2022-11-13",
          "2022-11-14",
          "2022-11-15",
          "2022-11-16",
          "2022-11-17",
          "2022-11-18",
          "2022-11-19",
          "2022-11-20",
          "2022-11-21",
          "2022-11-22",
          "2022-11-23",
          "2022-11-24",
          "2022-11-25",
          "2022-11-26",
          "2022-11-27",
          "2022-11-28",
          "2022-11-29",
          "2022-11-30",
          "2022-12-01",
          "2022-12-02",
          "2022-12-03",
          "2022-12-04",
          "2022-12-05",
          "2022-12-06",
          "2022-12-07",
          "2022-12-08",
          "2022-12-09",
          "2022-12-10",
          "2022-12-11",
          "2022-12-12",
          "2022-12-13",
          "2022-12-14",
          "2022-12-15",
          "2022-12-16",
          "2022-12-17",
          "2022-12-18",
          "2022-12-19",
          "2022-12-20",
          "2022-12-21",
          "2022-12-22",
          "2022-12-23",
          "2022-12-24",
          "2022-12-25",
          "2022-12-26",
          "2022-12-27",
          "2022-12-28",
          "2022-12-29",
          "2022-12-30"
         ],
         "y": [
          1.2877391284772328,
          -0.16612488325178043,
          -0.8432479399842198,
          -0.5374279585999184,
          0.6990879114618921,
          0.8502563305060683,
          -1.4089104112462987,
          -0.5604167043531803,
          0.9171326817882844,
          0.8168181548649601,
          -1.1421016347766235,
          -0.10482156124308223,
          0.8377170146406527,
          -0.25668660894644824,
          -1.5565956869945263,
          1.5225029866241793,
          0.04181877151636065,
          0.04181877151636065,
          0.6154924723591217,
          1.77398593259168,
          -0.5618099616715597,
          -0.6488885440702788,
          -0.12502379235958505,
          0.7924361517933188,
          -0.2782820973813306,
          1.264750382723971,
          -2.231628857749396,
          0.12297601031196681,
          1.9084352638153022,
          -1.2814273666145741,
          -0.007990177615706638,
          2.1020980310700534,
          -1.4771800198468945,
          0.2866837452215586,
          -1.3260116008027183,
          1.0655145861957018,
          -0.8188659369125785,
          -0.4392033176541633,
          1.0383460684873014,
          0.5695149808525981,
          -1.1469780353909518,
          0.4566611380638582,
          -0.15288893872717513,
          -1.1260791756152593,
          1.2431548942890887,
          -0.07625978621630237,
          0.26648151410505583,
          0.14875127070198765,
          -0.980483785844601,
          -0.963764698024047,
          1.247334666244227,
          0.33475112270565155,
          0.34798706723025685,
          -2.3974264786365573,
          0.44342519353925297,
          0.8774248482144686,
          0.4998521149336229,
          -0.2002596875520783,
          0.45805439538223774,
          -1.1630004945523162,
          -0.7039222081462693,
          0.8014923243627856,
          0.15780744327145443,
          0.23304333846394767,
          -0.634259342227294,
          0.9011102226269202,
          0.31524552024833846,
          -0.20443945950721681,
          0.07560526148706365,
          -0.7220345532852028,
          0.37167244164270846,
          -0.47960777988716896,
          1.9474464687299282,
          -1.2681914220899688,
          -0.09088898805928718,
          -0.09506876001442569,
          -0.749899699652793,
          0.04181877151636065,
          0.04181877151636065,
          0.40929038923895505,
          0.6705261364351123,
          1.2013571747377034,
          -0.46219206340742514,
          -0.2950011852018846,
          0.27902082997047134,
          -1.3608430337622057,
          1.0522786416710965,
          0.4427285648800632,
          -1.4242362417484733,
          0.6545036772737479,
          -0.2058327168255963,
          -1.525944025990177,
          1.3218739327775306,
          -1.765584284751452,
          0.8432900439141707,
          0.8767282195552789,
          0.35773986845891337,
          -1.1274724329336387,
          1.1741886570293032,
          1.3079413595937355,
          0.04181877151636065,
          2.3208394300556354,
          -0.07556315755711263,
          -1.129562318911208,
          1.950929612025877,
          0.3236050641586155,
          -1.4945957363266382,
          -0.7868210185898499
         ]
        },
        {
         "name": "Predicted",
         "type": "scatter",
         "x": [
          "2022-09-14",
          "2022-09-15",
          "2022-09-16",
          "2022-09-17",
          "2022-09-18",
          "2022-09-19",
          "2022-09-20",
          "2022-09-21",
          "2022-09-22",
          "2022-09-23",
          "2022-09-24",
          "2022-09-25",
          "2022-09-26",
          "2022-09-27",
          "2022-09-28",
          "2022-09-29",
          "2022-09-30",
          "2022-10-01",
          "2022-10-02",
          "2022-10-03",
          "2022-10-04",
          "2022-10-05",
          "2022-10-06",
          "2022-10-07",
          "2022-10-08",
          "2022-10-09",
          "2022-10-10",
          "2022-10-11",
          "2022-10-12",
          "2022-10-13",
          "2022-10-14",
          "2022-10-15",
          "2022-10-16",
          "2022-10-17",
          "2022-10-18",
          "2022-10-19",
          "2022-10-20",
          "2022-10-21",
          "2022-10-22",
          "2022-10-23",
          "2022-10-24",
          "2022-10-25",
          "2022-10-26",
          "2022-10-27",
          "2022-10-28",
          "2022-10-29",
          "2022-10-30",
          "2022-10-31",
          "2022-11-01",
          "2022-11-02",
          "2022-11-03",
          "2022-11-04",
          "2022-11-05",
          "2022-11-06",
          "2022-11-07",
          "2022-11-08",
          "2022-11-09",
          "2022-11-10",
          "2022-11-11",
          "2022-11-12",
          "2022-11-13",
          "2022-11-14",
          "2022-11-15",
          "2022-11-16",
          "2022-11-17",
          "2022-11-18",
          "2022-11-19",
          "2022-11-20",
          "2022-11-21",
          "2022-11-22",
          "2022-11-23",
          "2022-11-24",
          "2022-11-25",
          "2022-11-26",
          "2022-11-27",
          "2022-11-28",
          "2022-11-29",
          "2022-11-30",
          "2022-12-01",
          "2022-12-02",
          "2022-12-03",
          "2022-12-04",
          "2022-12-05",
          "2022-12-06",
          "2022-12-07",
          "2022-12-08",
          "2022-12-09",
          "2022-12-10",
          "2022-12-11",
          "2022-12-12",
          "2022-12-13",
          "2022-12-14",
          "2022-12-15",
          "2022-12-16",
          "2022-12-17",
          "2022-12-18",
          "2022-12-19",
          "2022-12-20",
          "2022-12-21",
          "2022-12-22",
          "2022-12-23",
          "2022-12-24",
          "2022-12-25",
          "2022-12-26",
          "2022-12-27",
          "2022-12-28",
          "2022-12-29",
          "2022-12-30"
         ],
         "y": [
          0.18278498947620392,
          -0.11024846881628036,
          0.3451453745365143,
          0.40692776441574097,
          0.3515006899833679,
          0.0582231804728508,
          0.18397951126098633,
          0.5154921412467957,
          0.35830458998680115,
          0.08284284174442291,
          -0.03775980323553085,
          0.5195623636245728,
          0.25192880630493164,
          0.07980852574110031,
          0.2972513437271118,
          0.5724755525588989,
          -0.01131013035774231,
          0.23845623433589935,
          0.09399596601724625,
          -0.09797799587249756,
          -0.23521864414215088,
          0.16106276214122772,
          0.2983296513557434,
          0.2567443251609802,
          -0.04363354295492172,
          0.10651104897260666,
          -0.2565666437149048,
          0.7296839356422424,
          0.09241411089897156,
          -0.4730225205421448,
          0.35368674993515015,
          0.17676782608032227,
          -0.5161734223365784,
          0.23759567737579346,
          0.04030558839440346,
          0.34905895590782166,
          -0.3240748941898346,
          0.26987791061401367,
          0.23736386001110077,
          -0.1577591896057129,
          -0.08764355629682541,
          0.5645657777786255,
          0.10389207303524017,
          0.15421214699745178,
          0.47032660245895386,
          -0.016282984986901283,
          0.1849917471408844,
          0.17187044024467468,
          0.14347884058952332,
          0.3741932809352875,
          0.5581098198890686,
          0.009641766548156738,
          0.15063615143299103,
          0.263365238904953,
          0.8286730647087097,
          0.3722688555717468,
          0.053996454924345016,
          0.1373341679573059,
          0.29147520661354065,
          0.09881438314914703,
          0.5335412621498108,
          0.5221231579780579,
          0.18711021542549133,
          0.2695034444332123,
          0.189069926738739,
          0.38520652055740356,
          0.12052302807569504,
          0.1644037663936615,
          0.27714860439300537,
          0.32895681262016296,
          0.3936011493206024,
          0.052735909819602966,
          0.42544829845428467,
          -0.2056283801794052,
          0.48947685956954956,
          0.10846874862909317,
          0.25481879711151123,
          0.43853867053985596,
          0.2878887355327606,
          0.3222478926181793,
          0.2582577168941498,
          0.043431781232357025,
          -0.22290265560150146,
          0.2901410758495331,
          0.21840804815292358,
          0.07244496792554855,
          0.4927232563495636,
          0.020745253190398216,
          0.09059653431177139,
          0.5036359429359436,
          0.16227421164512634,
          0.22078995406627655,
          0.577190637588501,
          -0.051396653056144714,
          0.8349044919013977,
          0.1379747986793518,
          0.03658009320497513,
          0.18535473942756653,
          0.4232640564441681,
          -0.14206033945083618,
          -0.20524300634860992,
          0.07105664163827896,
          -0.598698616027832,
          -0.06150209158658981,
          0.32702791690826416,
          -0.5114989280700684,
          -0.23499879240989685,
          0.18391552567481995
         ]
        }
       ],
       "layout": {
        "template": {
         "data": {
          "bar": [
           {
            "error_x": {
             "color": "#2a3f5f"
            },
            "error_y": {
             "color": "#2a3f5f"
            },
            "marker": {
             "line": {
              "color": "#E5ECF6",
              "width": 0.5
             },
             "pattern": {
              "fillmode": "overlay",
              "size": 10,
              "solidity": 0.2
             }
            },
            "type": "bar"
           }
          ],
          "barpolar": [
           {
            "marker": {
             "line": {
              "color": "#E5ECF6",
              "width": 0.5
             },
             "pattern": {
              "fillmode": "overlay",
              "size": 10,
              "solidity": 0.2
             }
            },
            "type": "barpolar"
           }
          ],
          "carpet": [
           {
            "aaxis": {
             "endlinecolor": "#2a3f5f",
             "gridcolor": "white",
             "linecolor": "white",
             "minorgridcolor": "white",
             "startlinecolor": "#2a3f5f"
            },
            "baxis": {
             "endlinecolor": "#2a3f5f",
             "gridcolor": "white",
             "linecolor": "white",
             "minorgridcolor": "white",
             "startlinecolor": "#2a3f5f"
            },
            "type": "carpet"
           }
          ],
          "choropleth": [
           {
            "colorbar": {
             "outlinewidth": 0,
             "ticks": ""
            },
            "type": "choropleth"
           }
          ],
          "contour": [
           {
            "colorbar": {
             "outlinewidth": 0,
             "ticks": ""
            },
            "colorscale": [
             [
              0,
              "#0d0887"
             ],
             [
              0.1111111111111111,
              "#46039f"
             ],
             [
              0.2222222222222222,
              "#7201a8"
             ],
             [
              0.3333333333333333,
              "#9c179e"
             ],
             [
              0.4444444444444444,
              "#bd3786"
             ],
             [
              0.5555555555555556,
              "#d8576b"
             ],
             [
              0.6666666666666666,
              "#ed7953"
             ],
             [
              0.7777777777777778,
              "#fb9f3a"
             ],
             [
              0.8888888888888888,
              "#fdca26"
             ],
             [
              1,
              "#f0f921"
             ]
            ],
            "type": "contour"
           }
          ],
          "contourcarpet": [
           {
            "colorbar": {
             "outlinewidth": 0,
             "ticks": ""
            },
            "type": "contourcarpet"
           }
          ],
          "heatmap": [
           {
            "colorbar": {
             "outlinewidth": 0,
             "ticks": ""
            },
            "colorscale": [
             [
              0,
              "#0d0887"
             ],
             [
              0.1111111111111111,
              "#46039f"
             ],
             [
              0.2222222222222222,
              "#7201a8"
             ],
             [
              0.3333333333333333,
              "#9c179e"
             ],
             [
              0.4444444444444444,
              "#bd3786"
             ],
             [
              0.5555555555555556,
              "#d8576b"
             ],
             [
              0.6666666666666666,
              "#ed7953"
             ],
             [
              0.7777777777777778,
              "#fb9f3a"
             ],
             [
              0.8888888888888888,
              "#fdca26"
             ],
             [
              1,
              "#f0f921"
             ]
            ],
            "type": "heatmap"
           }
          ],
          "heatmapgl": [
           {
            "colorbar": {
             "outlinewidth": 0,
             "ticks": ""
            },
            "colorscale": [
             [
              0,
              "#0d0887"
             ],
             [
              0.1111111111111111,
              "#46039f"
             ],
             [
              0.2222222222222222,
              "#7201a8"
             ],
             [
              0.3333333333333333,
              "#9c179e"
             ],
             [
              0.4444444444444444,
              "#bd3786"
             ],
             [
              0.5555555555555556,
              "#d8576b"
             ],
             [
              0.6666666666666666,
              "#ed7953"
             ],
             [
              0.7777777777777778,
              "#fb9f3a"
             ],
             [
              0.8888888888888888,
              "#fdca26"
             ],
             [
              1,
              "#f0f921"
             ]
            ],
            "type": "heatmapgl"
           }
          ],
          "histogram": [
           {
            "marker": {
             "pattern": {
              "fillmode": "overlay",
              "size": 10,
              "solidity": 0.2
             }
            },
            "type": "histogram"
           }
          ],
          "histogram2d": [
           {
            "colorbar": {
             "outlinewidth": 0,
             "ticks": ""
            },
            "colorscale": [
             [
              0,
              "#0d0887"
             ],
             [
              0.1111111111111111,
              "#46039f"
             ],
             [
              0.2222222222222222,
              "#7201a8"
             ],
             [
              0.3333333333333333,
              "#9c179e"
             ],
             [
              0.4444444444444444,
              "#bd3786"
             ],
             [
              0.5555555555555556,
              "#d8576b"
             ],
             [
              0.6666666666666666,
              "#ed7953"
             ],
             [
              0.7777777777777778,
              "#fb9f3a"
             ],
             [
              0.8888888888888888,
              "#fdca26"
             ],
             [
              1,
              "#f0f921"
             ]
            ],
            "type": "histogram2d"
           }
          ],
          "histogram2dcontour": [
           {
            "colorbar": {
             "outlinewidth": 0,
             "ticks": ""
            },
            "colorscale": [
             [
              0,
              "#0d0887"
             ],
             [
              0.1111111111111111,
              "#46039f"
             ],
             [
              0.2222222222222222,
              "#7201a8"
             ],
             [
              0.3333333333333333,
              "#9c179e"
             ],
             [
              0.4444444444444444,
              "#bd3786"
             ],
             [
              0.5555555555555556,
              "#d8576b"
             ],
             [
              0.6666666666666666,
              "#ed7953"
             ],
             [
              0.7777777777777778,
              "#fb9f3a"
             ],
             [
              0.8888888888888888,
              "#fdca26"
             ],
             [
              1,
              "#f0f921"
             ]
            ],
            "type": "histogram2dcontour"
           }
          ],
          "mesh3d": [
           {
            "colorbar": {
             "outlinewidth": 0,
             "ticks": ""
            },
            "type": "mesh3d"
           }
          ],
          "parcoords": [
           {
            "line": {
             "colorbar": {
              "outlinewidth": 0,
              "ticks": ""
             }
            },
            "type": "parcoords"
           }
          ],
          "pie": [
           {
            "automargin": true,
            "type": "pie"
           }
          ],
          "scatter": [
           {
            "fillpattern": {
             "fillmode": "overlay",
             "size": 10,
             "solidity": 0.2
            },
            "type": "scatter"
           }
          ],
          "scatter3d": [
           {
            "line": {
             "colorbar": {
              "outlinewidth": 0,
              "ticks": ""
             }
            },
            "marker": {
             "colorbar": {
              "outlinewidth": 0,
              "ticks": ""
             }
            },
            "type": "scatter3d"
           }
          ],
          "scattercarpet": [
           {
            "marker": {
             "colorbar": {
              "outlinewidth": 0,
              "ticks": ""
             }
            },
            "type": "scattercarpet"
           }
          ],
          "scattergeo": [
           {
            "marker": {
             "colorbar": {
              "outlinewidth": 0,
              "ticks": ""
             }
            },
            "type": "scattergeo"
           }
          ],
          "scattergl": [
           {
            "marker": {
             "colorbar": {
              "outlinewidth": 0,
              "ticks": ""
             }
            },
            "type": "scattergl"
           }
          ],
          "scattermapbox": [
           {
            "marker": {
             "colorbar": {
              "outlinewidth": 0,
              "ticks": ""
             }
            },
            "type": "scattermapbox"
           }
          ],
          "scatterpolar": [
           {
            "marker": {
             "colorbar": {
              "outlinewidth": 0,
              "ticks": ""
             }
            },
            "type": "scatterpolar"
           }
          ],
          "scatterpolargl": [
           {
            "marker": {
             "colorbar": {
              "outlinewidth": 0,
              "ticks": ""
             }
            },
            "type": "scatterpolargl"
           }
          ],
          "scatterternary": [
           {
            "marker": {
             "colorbar": {
              "outlinewidth": 0,
              "ticks": ""
             }
            },
            "type": "scatterternary"
           }
          ],
          "surface": [
           {
            "colorbar": {
             "outlinewidth": 0,
             "ticks": ""
            },
            "colorscale": [
             [
              0,
              "#0d0887"
             ],
             [
              0.1111111111111111,
              "#46039f"
             ],
             [
              0.2222222222222222,
              "#7201a8"
             ],
             [
              0.3333333333333333,
              "#9c179e"
             ],
             [
              0.4444444444444444,
              "#bd3786"
             ],
             [
              0.5555555555555556,
              "#d8576b"
             ],
             [
              0.6666666666666666,
              "#ed7953"
             ],
             [
              0.7777777777777778,
              "#fb9f3a"
             ],
             [
              0.8888888888888888,
              "#fdca26"
             ],
             [
              1,
              "#f0f921"
             ]
            ],
            "type": "surface"
           }
          ],
          "table": [
           {
            "cells": {
             "fill": {
              "color": "#EBF0F8"
             },
             "line": {
              "color": "white"
             }
            },
            "header": {
             "fill": {
              "color": "#C8D4E3"
             },
             "line": {
              "color": "white"
             }
            },
            "type": "table"
           }
          ]
         },
         "layout": {
          "annotationdefaults": {
           "arrowcolor": "#2a3f5f",
           "arrowhead": 0,
           "arrowwidth": 1
          },
          "autotypenumbers": "strict",
          "coloraxis": {
           "colorbar": {
            "outlinewidth": 0,
            "ticks": ""
           }
          },
          "colorscale": {
           "diverging": [
            [
             0,
             "#8e0152"
            ],
            [
             0.1,
             "#c51b7d"
            ],
            [
             0.2,
             "#de77ae"
            ],
            [
             0.3,
             "#f1b6da"
            ],
            [
             0.4,
             "#fde0ef"
            ],
            [
             0.5,
             "#f7f7f7"
            ],
            [
             0.6,
             "#e6f5d0"
            ],
            [
             0.7,
             "#b8e186"
            ],
            [
             0.8,
             "#7fbc41"
            ],
            [
             0.9,
             "#4d9221"
            ],
            [
             1,
             "#276419"
            ]
           ],
           "sequential": [
            [
             0,
             "#0d0887"
            ],
            [
             0.1111111111111111,
             "#46039f"
            ],
            [
             0.2222222222222222,
             "#7201a8"
            ],
            [
             0.3333333333333333,
             "#9c179e"
            ],
            [
             0.4444444444444444,
             "#bd3786"
            ],
            [
             0.5555555555555556,
             "#d8576b"
            ],
            [
             0.6666666666666666,
             "#ed7953"
            ],
            [
             0.7777777777777778,
             "#fb9f3a"
            ],
            [
             0.8888888888888888,
             "#fdca26"
            ],
            [
             1,
             "#f0f921"
            ]
           ],
           "sequentialminus": [
            [
             0,
             "#0d0887"
            ],
            [
             0.1111111111111111,
             "#46039f"
            ],
            [
             0.2222222222222222,
             "#7201a8"
            ],
            [
             0.3333333333333333,
             "#9c179e"
            ],
            [
             0.4444444444444444,
             "#bd3786"
            ],
            [
             0.5555555555555556,
             "#d8576b"
            ],
            [
             0.6666666666666666,
             "#ed7953"
            ],
            [
             0.7777777777777778,
             "#fb9f3a"
            ],
            [
             0.8888888888888888,
             "#fdca26"
            ],
            [
             1,
             "#f0f921"
            ]
           ]
          },
          "colorway": [
           "#636efa",
           "#EF553B",
           "#00cc96",
           "#ab63fa",
           "#FFA15A",
           "#19d3f3",
           "#FF6692",
           "#B6E880",
           "#FF97FF",
           "#FECB52"
          ],
          "font": {
           "color": "#2a3f5f"
          },
          "geo": {
           "bgcolor": "white",
           "lakecolor": "white",
           "landcolor": "#E5ECF6",
           "showlakes": true,
           "showland": true,
           "subunitcolor": "white"
          },
          "hoverlabel": {
           "align": "left"
          },
          "hovermode": "closest",
          "mapbox": {
           "style": "light"
          },
          "paper_bgcolor": "white",
          "plot_bgcolor": "#E5ECF6",
          "polar": {
           "angularaxis": {
            "gridcolor": "white",
            "linecolor": "white",
            "ticks": ""
           },
           "bgcolor": "#E5ECF6",
           "radialaxis": {
            "gridcolor": "white",
            "linecolor": "white",
            "ticks": ""
           }
          },
          "scene": {
           "xaxis": {
            "backgroundcolor": "#E5ECF6",
            "gridcolor": "white",
            "gridwidth": 2,
            "linecolor": "white",
            "showbackground": true,
            "ticks": "",
            "zerolinecolor": "white"
           },
           "yaxis": {
            "backgroundcolor": "#E5ECF6",
            "gridcolor": "white",
            "gridwidth": 2,
            "linecolor": "white",
            "showbackground": true,
            "ticks": "",
            "zerolinecolor": "white"
           },
           "zaxis": {
            "backgroundcolor": "#E5ECF6",
            "gridcolor": "white",
            "gridwidth": 2,
            "linecolor": "white",
            "showbackground": true,
            "ticks": "",
            "zerolinecolor": "white"
           }
          },
          "shapedefaults": {
           "line": {
            "color": "#2a3f5f"
           }
          },
          "ternary": {
           "aaxis": {
            "gridcolor": "white",
            "linecolor": "white",
            "ticks": ""
           },
           "baxis": {
            "gridcolor": "white",
            "linecolor": "white",
            "ticks": ""
           },
           "bgcolor": "#E5ECF6",
           "caxis": {
            "gridcolor": "white",
            "linecolor": "white",
            "ticks": ""
           }
          },
          "title": {
           "x": 0.05
          },
          "xaxis": {
           "automargin": true,
           "gridcolor": "white",
           "linecolor": "white",
           "ticks": "",
           "title": {
            "standoff": 15
           },
           "zerolinecolor": "white",
           "zerolinewidth": 2
          },
          "yaxis": {
           "automargin": true,
           "gridcolor": "white",
           "linecolor": "white",
           "ticks": "",
           "title": {
            "standoff": 15
           },
           "zerolinecolor": "white",
           "zerolinewidth": 2
          }
         }
        },
        "title": {
         "text": " lagos_transactions Aggregated NNet & tsfresh. MAE=0.7522"
        }
       }
      }
     },
     "metadata": {},
     "output_type": "display_data"
    },
    {
     "name": "stderr",
     "output_type": "stream",
     "text": [
      "Rolling: 100%|██████████| 20/20 [00:00<00:00, 46.69it/s]\n",
      "Feature Extraction: 100%|██████████| 20/20 [00:00<00:00, 71.80it/s]\n"
     ]
    },
    {
     "data": {
      "application/vnd.plotly.v1+json": {
       "config": {
        "plotlyServerURL": "https://plot.ly"
       },
       "data": [
        {
         "name": "Train",
         "type": "scatter",
         "x": [
          "2022-01-07",
          "2022-01-08",
          "2022-01-09",
          "2022-01-10",
          "2022-01-11",
          "2022-01-12",
          "2022-01-13",
          "2022-01-14",
          "2022-01-15",
          "2022-01-16",
          "2022-01-17",
          "2022-01-18",
          "2022-01-19",
          "2022-01-20",
          "2022-01-21",
          "2022-01-22",
          "2022-01-23",
          "2022-01-24",
          "2022-01-25",
          "2022-01-26",
          "2022-01-27",
          "2022-01-28",
          "2022-01-29",
          "2022-01-30",
          "2022-01-31",
          "2022-02-01",
          "2022-02-02",
          "2022-02-03",
          "2022-02-04",
          "2022-02-05",
          "2022-02-06",
          "2022-02-07",
          "2022-02-08",
          "2022-02-09",
          "2022-02-10",
          "2022-02-11",
          "2022-02-12",
          "2022-02-13",
          "2022-02-14",
          "2022-02-15",
          "2022-02-16",
          "2022-02-17",
          "2022-02-18",
          "2022-02-19",
          "2022-02-20",
          "2022-02-21",
          "2022-02-22",
          "2022-02-23",
          "2022-02-24",
          "2022-02-25",
          "2022-02-26",
          "2022-02-27",
          "2022-02-28",
          "2022-03-01",
          "2022-03-02",
          "2022-03-03",
          "2022-03-04",
          "2022-03-05",
          "2022-03-06",
          "2022-03-07",
          "2022-03-08",
          "2022-03-09",
          "2022-03-10",
          "2022-03-11",
          "2022-03-12",
          "2022-03-13",
          "2022-03-14",
          "2022-03-15",
          "2022-03-16",
          "2022-03-17",
          "2022-03-18",
          "2022-03-19",
          "2022-03-20",
          "2022-03-21",
          "2022-03-22",
          "2022-03-23",
          "2022-03-24",
          "2022-03-25",
          "2022-03-26",
          "2022-03-27",
          "2022-03-28",
          "2022-03-29",
          "2022-03-30",
          "2022-03-31",
          "2022-04-01",
          "2022-04-02",
          "2022-04-03",
          "2022-04-04",
          "2022-04-05",
          "2022-04-06",
          "2022-04-07",
          "2022-04-08",
          "2022-04-09",
          "2022-04-10",
          "2022-04-11",
          "2022-04-12",
          "2022-04-13",
          "2022-04-14",
          "2022-04-15",
          "2022-04-16",
          "2022-04-17",
          "2022-04-18",
          "2022-04-19",
          "2022-04-20",
          "2022-04-21",
          "2022-04-22",
          "2022-04-23",
          "2022-04-24",
          "2022-04-25",
          "2022-04-26",
          "2022-04-27",
          "2022-04-28",
          "2022-04-29",
          "2022-04-30",
          "2022-05-01",
          "2022-05-02",
          "2022-05-03",
          "2022-05-04",
          "2022-05-05",
          "2022-05-06",
          "2022-05-07",
          "2022-05-08",
          "2022-05-09",
          "2022-05-10",
          "2022-05-11",
          "2022-05-12",
          "2022-05-13",
          "2022-05-14",
          "2022-05-15",
          "2022-05-16",
          "2022-05-17",
          "2022-05-18",
          "2022-05-19",
          "2022-05-20",
          "2022-05-21",
          "2022-05-22",
          "2022-05-23",
          "2022-05-24",
          "2022-05-25",
          "2022-05-26",
          "2022-05-27",
          "2022-05-28",
          "2022-05-29",
          "2022-05-30",
          "2022-05-31",
          "2022-06-01",
          "2022-06-02",
          "2022-06-03",
          "2022-06-04",
          "2022-06-05",
          "2022-06-06",
          "2022-06-07",
          "2022-06-08",
          "2022-06-09",
          "2022-06-10",
          "2022-06-11",
          "2022-06-12",
          "2022-06-13",
          "2022-06-14",
          "2022-06-15",
          "2022-06-16",
          "2022-06-17",
          "2022-06-18",
          "2022-06-19",
          "2022-06-20",
          "2022-06-21",
          "2022-06-22",
          "2022-06-23",
          "2022-06-24",
          "2022-06-25",
          "2022-06-26",
          "2022-06-27",
          "2022-06-28",
          "2022-06-29",
          "2022-06-30",
          "2022-07-01",
          "2022-07-02",
          "2022-07-03",
          "2022-07-04",
          "2022-07-05",
          "2022-07-06",
          "2022-07-07",
          "2022-07-08",
          "2022-07-09",
          "2022-07-10",
          "2022-07-11",
          "2022-07-12",
          "2022-07-13",
          "2022-07-14",
          "2022-07-15",
          "2022-07-16",
          "2022-07-17",
          "2022-07-18",
          "2022-07-19",
          "2022-07-20",
          "2022-07-21",
          "2022-07-22",
          "2022-07-23",
          "2022-07-24",
          "2022-07-25",
          "2022-07-26",
          "2022-07-27",
          "2022-07-28",
          "2022-07-29",
          "2022-07-30",
          "2022-07-31",
          "2022-08-01",
          "2022-08-02",
          "2022-08-03",
          "2022-08-04",
          "2022-08-05",
          "2022-08-06",
          "2022-08-07",
          "2022-08-08",
          "2022-08-09",
          "2022-08-10",
          "2022-08-11",
          "2022-08-12",
          "2022-08-13",
          "2022-08-14",
          "2022-08-15",
          "2022-08-16",
          "2022-08-17",
          "2022-08-18",
          "2022-08-19",
          "2022-08-20",
          "2022-08-21",
          "2022-08-22",
          "2022-08-23",
          "2022-08-24",
          "2022-08-25",
          "2022-08-26",
          "2022-08-27",
          "2022-08-28",
          "2022-08-29",
          "2022-08-30",
          "2022-08-31",
          "2022-09-01",
          "2022-09-02",
          "2022-09-03",
          "2022-09-04",
          "2022-09-05",
          "2022-09-06",
          "2022-09-07",
          "2022-09-08",
          "2022-09-09",
          "2022-09-10",
          "2022-09-11",
          "2022-09-12",
          "2022-09-13"
         ],
         "y": [
          -0.46942176458348,
          -0.1968533768530211,
          1.3699862859497423,
          0.9765621036595517,
          -1.7688358394242838,
          1.7505534688186848,
          -1.4594107200195805,
          0.5959949207906091,
          -1.3668403241865945,
          0.9859905699018002,
          -0.19256771037927173,
          0.6225660529278552,
          0.6859939167393455,
          -2.0885465583659855,
          2.2494050463631097,
          -1.5374098498418187,
          -0.8628459468736706,
          0.6585656513073497,
          0.7314219813610887,
          -2.2411162848314623,
          1.8585522639571685,
          -0.5251354287422215,
          0.8368493766153228,
          -2.4768279408876768,
          2.499687968430072,
          -0.3091378384652541,
          0.1588569404681752,
          0.7742786460985822,
          -1.7131221752655421,
          0.6979937828658438,
          0.5908521210221099,
          -1.1928422653523707,
          -0.11199718067278391,
          -0.5328496283949704,
          -0.06999764923004026,
          0.3482833986078966,
          2.2314052471733623,
          -2.1742598878409725,
          1.8799805963259153,
          -2.291687149221705,
          1.212273759715766,
          0.18628520590017106,
          -1.2331275302056146,
          0.41085412912463715,
          -0.9854160080229021,
          0.19485653884766976,
          2.5202591675040686,
          -1.1756995994573733,
          0.42542539513538496,
          0.15371414069967598,
          -0.6785622885024484,
          -0.26113837395926137,
          0.010572880476447579,
          0.45285366056738074,
          1.3425580205177465,
          0.010572880476447579,
          0.8128496443623264,
          -0.482278764004728,
          -0.7625613513879357,
          0.02685841307669512,
          0.5634238555901141,
          -0.36485150262399574,
          0.9568480378803047,
          -1.0839863369191372,
          0.4151397955983865,
          0.9662765041225533,
          0.6534228515388505,
          -0.9391308101064091,
          0.3748545307451426,
          -1.5245528504205708,
          0.22057053769016588,
          1.171988494862522,
          -2.001118962301499,
          0.8531349092155703,
          0.3517119317868961,
          1.0905608318612845,
          -1.157699800267626,
          0.4691391931676283,
          -1.0634151378451402,
          0.09114341018293541,
          0.6868510500340954,
          -0.43942209926723447,
          0.23428467040616383,
          -0.42827936643548614,
          0.6611370511915993,
          -0.1385683128100299,
          -0.49685003001547584,
          -0.38542270169799264,
          0.8985629738373134,
          -0.9991301407389,
          -0.29370943915975645,
          1.6579830729856988,
          -0.5431352279319689,
          -0.5611350271217161,
          -0.3837084351084929,
          -0.08285464865128832,
          0.9002772404268132,
          0.7185649819398406,
          -1.5896949808215608,
          0.09457194336193489,
          -0.6691338222601998,
          0.010572880476447579,
          -1.3068409935541034,
          0.649994318359851,
          -0.5654206935954655,
          0.8634205087525688,
          0.4202825953668857,
          -1.7799785722560322,
          0.11857167561493129,
          -0.2345672418220154,
          -0.1582823785892769,
          0.6259945861068547,
          -1.19712793182612,
          0.010572880476447579,
          0.010572880476447579,
          0.45285366056738074,
          -1.436268121061334,
          1.7136967371444405,
          -1.2159848643106173,
          -0.19513911026352135,
          1.18655976087327,
          -0.15742524529452703,
          0.12800014185717987,
          -1.5442669161998177,
          0.3525690650816459,
          0.19742793873191938,
          0.14000000798367804,
          -0.8748458130001687,
          1.326272487917499,
          -0.19771051014777097,
          -0.18056784425277356,
          0.8359922433205729,
          -0.8542746139261719,
          0.15628554058392558,
          1.0082760355652969,
          -0.283423839622758,
          -1.1294144015408802,
          -0.7719898176301843,
          0.18885660578442068,
          1.2894157562432544,
          -1.2254133305528658,
          0.6997080494553435,
          -0.9751304084859036,
          0.7211363818240902,
          0.14771420763642687,
          -0.003998385534300221,
          -0.8448461476839233,
          -0.4471362989199833,
          2.1319777849823773,
          -1.382268723492092,
          0.5857093212536107,
          -0.6974192209869455,
          0.4005685295876387,
          1.4239856835189841,
          -1.1894137321733713,
          -0.15999664517877665,
          0.9774192369543016,
          -1.674551177001798,
          0.9405625052800571,
          0.12028594220443102,
          0.44085379444088263,
          -0.7659898845669352,
          0.32942646612339943,
          -0.6982763542816954,
          -0.06828338264054051,
          -0.5054213629629746,
          1.941694193547906,
          0.5231385907368702,
          0.338854932365648,
          -2.3988288110654388,
          0.8668490419315682,
          -1.0291298060551455,
          0.9097057066690618,
          -0.44542203233048355,
          0.010572880476447579,
          0.010572880476447579,
          0.8874202410055652,
          -0.5337067616897203,
          0.7879927788145802,
          0.4159969288931364,
          0.8702775751105677,
          -0.7762754841039337,
          0.25914153595391004,
          -1.7156935751497917,
          1.325415354622749,
          -0.5748491598377141,
          1.311701221906751,
          -0.9442736098749083,
          0.34056919895514776,
          -1.2142705977211175,
          0.7417075808980872,
          -0.11199718067278391,
          0.014001413655447062,
          -0.9999872740336498,
          1.6982683378389427,
          -1.6839796432440466,
          1.0194187683970453,
          0.15114274081542636,
          -0.15399671211552757,
          0.11685740902543154,
          -0.26799544031726036,
          0.11257174255168219,
          -1.0008444073283997,
          1.0939893650402839,
          -0.760847084798436,
          1.5028419466359721,
          -0.11885424703078287,
          -0.1411397126942795,
          -0.49342149683647635,
          -0.31170923834950376,
          1.18655976087327,
          -2.0225472946702454,
          1.6254120077852037,
          -0.7231332198294417,
          -0.4437077657409838,
          1.3271296212122488,
          -0.6785622885024484,
          -0.22685304216926655,
          -0.03142665096629608,
          0.5462811896951166,
          0.17257107318417314,
          -0.47027889787822985,
          -0.23799577500101488,
          -1.0351297391183947,
          1.8516951975991696,
          -0.5319924951002205,
          -0.36485150262399574,
          1.040847100765792,
          -1.5459811827893175,
          -0.0279981177872966,
          1.153988695672775,
          0.5068530581366226,
          -2.283972949568956,
          1.1342746298935278,
          -0.35885156956074665,
          0.5222814574421203,
          -0.2919951725702567,
          0.03971541249794318,
          0.13485720821517883,
          -0.02885525108204647,
          0.4811390592941265,
          -1.4259825215243356,
          1.4274142166979835,
          -1.9496909646165064,
          1.974265258748401,
          -1.085700603508637,
          0.08342921053018658,
          -0.06314058287204129,
          1.1642742952097733,
          -0.9699876087174044
         ]
        },
        {
         "name": "Test",
         "type": "scatter",
         "x": [
          "2022-09-14",
          "2022-09-15",
          "2022-09-16",
          "2022-09-17",
          "2022-09-18",
          "2022-09-19",
          "2022-09-20",
          "2022-09-21",
          "2022-09-22",
          "2022-09-23",
          "2022-09-24",
          "2022-09-25",
          "2022-09-26",
          "2022-09-27",
          "2022-09-28",
          "2022-09-29",
          "2022-09-30",
          "2022-10-01",
          "2022-10-02",
          "2022-10-03",
          "2022-10-04",
          "2022-10-05",
          "2022-10-06",
          "2022-10-07",
          "2022-10-08",
          "2022-10-09",
          "2022-10-10",
          "2022-10-11",
          "2022-10-12",
          "2022-10-13",
          "2022-10-14",
          "2022-10-15",
          "2022-10-16",
          "2022-10-17",
          "2022-10-18",
          "2022-10-19",
          "2022-10-20",
          "2022-10-21",
          "2022-10-22",
          "2022-10-23",
          "2022-10-24",
          "2022-10-25",
          "2022-10-26",
          "2022-10-27",
          "2022-10-28",
          "2022-10-29",
          "2022-10-30",
          "2022-10-31",
          "2022-11-01",
          "2022-11-02",
          "2022-11-03",
          "2022-11-04",
          "2022-11-05",
          "2022-11-06",
          "2022-11-07",
          "2022-11-08",
          "2022-11-09",
          "2022-11-10",
          "2022-11-11",
          "2022-11-12",
          "2022-11-13",
          "2022-11-14",
          "2022-11-15",
          "2022-11-16",
          "2022-11-17",
          "2022-11-18",
          "2022-11-19",
          "2022-11-20",
          "2022-11-21",
          "2022-11-22",
          "2022-11-23",
          "2022-11-24",
          "2022-11-25",
          "2022-11-26",
          "2022-11-27",
          "2022-11-28",
          "2022-11-29",
          "2022-11-30",
          "2022-12-01",
          "2022-12-02",
          "2022-12-03",
          "2022-12-04",
          "2022-12-05",
          "2022-12-06",
          "2022-12-07",
          "2022-12-08",
          "2022-12-09",
          "2022-12-10",
          "2022-12-11",
          "2022-12-12",
          "2022-12-13",
          "2022-12-14",
          "2022-12-15",
          "2022-12-16",
          "2022-12-17",
          "2022-12-18",
          "2022-12-19",
          "2022-12-20",
          "2022-12-21",
          "2022-12-22",
          "2022-12-23",
          "2022-12-24",
          "2022-12-25",
          "2022-12-26",
          "2022-12-27",
          "2022-12-28",
          "2022-12-29",
          "2022-12-30"
         ],
         "y": [
          -0.12313991350453223,
          0.6705655174338478,
          -0.9014169451374148,
          -0.27656677326475904,
          -0.4334221662039854,
          0.033715479434694086,
          2.080549787297385,
          -0.35456590308699726,
          -1.118271668709132,
          1.6442689402697008,
          -0.7128476202924432,
          0.7699929796248329,
          -0.6862764881551973,
          -1.1199859352986317,
          -0.018569651545048024,
          0.2917126011544051,
          0.010572880476447579,
          0.010572880476447579,
          0.9868477031965501,
          -0.661419622607451,
          1.2842729564747553,
          -0.8628459468736706,
          0.4159969288931364,
          -0.2139960427480185,
          0.9979904360282984,
          -0.9339880103379098,
          -0.5602778938269662,
          0.23514180370091367,
          2.4799739026508245,
          -2.2745444833267072,
          0.37056886427139324,
          -0.986273141317652,
          -1.0411296721816437,
          2.5091164346723205,
          -1.5871235809373112,
          1.0717038993767873,
          -0.3502802366132479,
          -0.5525636941742175,
          -0.2859952395070076,
          0.18971373907917055,
          -0.2225673756955172,
          -0.2722811067910097,
          0.8368493766153228,
          -0.08971171500928728,
          -0.5654206935954655,
          0.78884991210933,
          0.8711347084053176,
          -0.356280169676497,
          -1.4508393870720817,
          0.5925663876116096,
          0.4434251943251322,
          -0.4274222331407363,
          0.4468537275041317,
          -0.6245628909332066,
          0.8385636432048226,
          -1.1774138660468731,
          0.5359955901581182,
          0.09114341018293541,
          0.58999498772736,
          -1.1259858683618809,
          -0.28428097291750787,
          0.007144347297448096,
          1.1282746968302788,
          0.3859972635768909,
          -1.6599799109910502,
          0.9157056397323109,
          -0.7334188193664402,
          1.9382656603689066,
          -2.371400545633443,
          0.010572880476447579,
          -1.9419767649637576,
          0.26257006913290953,
          0.010572880476447579,
          1.4676994815512274,
          1.1222747637670296,
          -0.6579910894284515,
          -0.009141185302799445,
          0.010572880476447579,
          0.010572880476447579,
          0.829135176962574,
          0.5805665214851115,
          -1.0642722711398902,
          0.6422801187071021,
          0.3568547315553953,
          0.05685807839294059,
          -0.38113703522424325,
          0.8977058405425636,
          -2.0002618290067486,
          1.332272420980748,
          0.22999900393241446,
          -0.8371319480311744,
          1.0228473015760446,
          -0.8757029462949186,
          -0.6031345585644597,
          0.6097090535066071,
          0.6534228515388505,
          -1.912834232942262,
          -0.24656710794851358,
          1.1119891642300312,
          0.9397053719853072,
          -0.7317045527769404,
          -1.091700536571886,
          0.9225627060903099,
          0.398854262998139,
          0.15114274081542636,
          -1.1259858683618809,
          0.954276637996055,
          1.2174165594842654
         ]
        },
        {
         "name": "Predicted",
         "type": "scatter",
         "x": [
          "2022-09-14",
          "2022-09-15",
          "2022-09-16",
          "2022-09-17",
          "2022-09-18",
          "2022-09-19",
          "2022-09-20",
          "2022-09-21",
          "2022-09-22",
          "2022-09-23",
          "2022-09-24",
          "2022-09-25",
          "2022-09-26",
          "2022-09-27",
          "2022-09-28",
          "2022-09-29",
          "2022-09-30",
          "2022-10-01",
          "2022-10-02",
          "2022-10-03",
          "2022-10-04",
          "2022-10-05",
          "2022-10-06",
          "2022-10-07",
          "2022-10-08",
          "2022-10-09",
          "2022-10-10",
          "2022-10-11",
          "2022-10-12",
          "2022-10-13",
          "2022-10-14",
          "2022-10-15",
          "2022-10-16",
          "2022-10-17",
          "2022-10-18",
          "2022-10-19",
          "2022-10-20",
          "2022-10-21",
          "2022-10-22",
          "2022-10-23",
          "2022-10-24",
          "2022-10-25",
          "2022-10-26",
          "2022-10-27",
          "2022-10-28",
          "2022-10-29",
          "2022-10-30",
          "2022-10-31",
          "2022-11-01",
          "2022-11-02",
          "2022-11-03",
          "2022-11-04",
          "2022-11-05",
          "2022-11-06",
          "2022-11-07",
          "2022-11-08",
          "2022-11-09",
          "2022-11-10",
          "2022-11-11",
          "2022-11-12",
          "2022-11-13",
          "2022-11-14",
          "2022-11-15",
          "2022-11-16",
          "2022-11-17",
          "2022-11-18",
          "2022-11-19",
          "2022-11-20",
          "2022-11-21",
          "2022-11-22",
          "2022-11-23",
          "2022-11-24",
          "2022-11-25",
          "2022-11-26",
          "2022-11-27",
          "2022-11-28",
          "2022-11-29",
          "2022-11-30",
          "2022-12-01",
          "2022-12-02",
          "2022-12-03",
          "2022-12-04",
          "2022-12-05",
          "2022-12-06",
          "2022-12-07",
          "2022-12-08",
          "2022-12-09",
          "2022-12-10",
          "2022-12-11",
          "2022-12-12",
          "2022-12-13",
          "2022-12-14",
          "2022-12-15",
          "2022-12-16",
          "2022-12-17",
          "2022-12-18",
          "2022-12-19",
          "2022-12-20",
          "2022-12-21",
          "2022-12-22",
          "2022-12-23",
          "2022-12-24",
          "2022-12-25",
          "2022-12-26",
          "2022-12-27",
          "2022-12-28",
          "2022-12-29",
          "2022-12-30"
         ],
         "y": [
          0.364188015460968,
          0.1759762167930603,
          0.12275619804859161,
          0.5315183997154236,
          0.24496108293533325,
          0.3701692521572113,
          0.35048192739486694,
          -0.23905585706233978,
          0.19996124505996704,
          0.48953011631965637,
          -0.15356086194515228,
          0.31277361512184143,
          -0.016636453568935394,
          0.31518974900245667,
          0.5228626728057861,
          0.1603318154811859,
          0.29554590582847595,
          0.27353715896606445,
          0.24109676480293274,
          -0.09315632283687592,
          0.5068742036819458,
          -0.10910199582576752,
          0.32034847140312195,
          0.15588538348674774,
          0.2334093302488327,
          -0.13259130716323853,
          0.2478712499141693,
          0.31974074244499207,
          0.24516116082668304,
          -0.44847699999809265,
          0.5685677528381348,
          0.16285216808319092,
          0.4035065174102783,
          0.521131694316864,
          -0.30856776237487793,
          0.4352257549762726,
          -0.1882401704788208,
          0.19186019897460938,
          0.2900959849357605,
          0.2277638018131256,
          0.17289721965789795,
          0.31714344024658203,
          0.3750593066215515,
          0.004525728523731232,
          0.2806853950023651,
          0.40294918417930603,
          0.12156183272600174,
          -0.04980578273534775,
          0.2719765603542328,
          0.5283743143081665,
          0.2569510042667389,
          0.18072666227817535,
          0.41133150458335876,
          0.10249891132116318,
          0.2575683295726776,
          0.2426237165927887,
          0.5319584608078003,
          0.22026482224464417,
          0.326058954000473,
          0.13762269914150238,
          0.4840742349624634,
          0.3470035195350647,
          0.3676387071609497,
          -0.03977005556225777,
          0.10436839610338211,
          0.6620227694511414,
          0.04031839221715927,
          0.4508035182952881,
          -0.19400924444198608,
          0.8564441800117493,
          0.23014889657497406,
          0.7492468357086182,
          0.401529461145401,
          0.4217883050441742,
          0.02521594613790512,
          -0.06553126126527786,
          0.4902597963809967,
          0.21500732004642487,
          0.2171608805656433,
          0.2847493290901184,
          0.11242005974054337,
          0.0037483498454093933,
          0.3482808768749237,
          0.0746578574180603,
          0.11636112630367279,
          0.16535818576812744,
          0.22842608392238617,
          -0.01267903484404087,
          0.584891140460968,
          -0.01026318222284317,
          0.1277962028980255,
          0.3187764585018158,
          -0.28408655524253845,
          0.23310044407844543,
          0.22577373683452606,
          0.027757912874221802,
          0.03246638923883438,
          0.7029510140419006,
          0.32851096987724304,
          -0.06080148369073868,
          -0.044786229729652405,
          0.40013188123703003,
          0.519658625125885,
          -0.04456533119082451,
          0.21643376350402832,
          0.21357379853725433,
          0.5065179467201233,
          0.06515766680240631
         ]
        }
       ],
       "layout": {
        "template": {
         "data": {
          "bar": [
           {
            "error_x": {
             "color": "#2a3f5f"
            },
            "error_y": {
             "color": "#2a3f5f"
            },
            "marker": {
             "line": {
              "color": "#E5ECF6",
              "width": 0.5
             },
             "pattern": {
              "fillmode": "overlay",
              "size": 10,
              "solidity": 0.2
             }
            },
            "type": "bar"
           }
          ],
          "barpolar": [
           {
            "marker": {
             "line": {
              "color": "#E5ECF6",
              "width": 0.5
             },
             "pattern": {
              "fillmode": "overlay",
              "size": 10,
              "solidity": 0.2
             }
            },
            "type": "barpolar"
           }
          ],
          "carpet": [
           {
            "aaxis": {
             "endlinecolor": "#2a3f5f",
             "gridcolor": "white",
             "linecolor": "white",
             "minorgridcolor": "white",
             "startlinecolor": "#2a3f5f"
            },
            "baxis": {
             "endlinecolor": "#2a3f5f",
             "gridcolor": "white",
             "linecolor": "white",
             "minorgridcolor": "white",
             "startlinecolor": "#2a3f5f"
            },
            "type": "carpet"
           }
          ],
          "choropleth": [
           {
            "colorbar": {
             "outlinewidth": 0,
             "ticks": ""
            },
            "type": "choropleth"
           }
          ],
          "contour": [
           {
            "colorbar": {
             "outlinewidth": 0,
             "ticks": ""
            },
            "colorscale": [
             [
              0,
              "#0d0887"
             ],
             [
              0.1111111111111111,
              "#46039f"
             ],
             [
              0.2222222222222222,
              "#7201a8"
             ],
             [
              0.3333333333333333,
              "#9c179e"
             ],
             [
              0.4444444444444444,
              "#bd3786"
             ],
             [
              0.5555555555555556,
              "#d8576b"
             ],
             [
              0.6666666666666666,
              "#ed7953"
             ],
             [
              0.7777777777777778,
              "#fb9f3a"
             ],
             [
              0.8888888888888888,
              "#fdca26"
             ],
             [
              1,
              "#f0f921"
             ]
            ],
            "type": "contour"
           }
          ],
          "contourcarpet": [
           {
            "colorbar": {
             "outlinewidth": 0,
             "ticks": ""
            },
            "type": "contourcarpet"
           }
          ],
          "heatmap": [
           {
            "colorbar": {
             "outlinewidth": 0,
             "ticks": ""
            },
            "colorscale": [
             [
              0,
              "#0d0887"
             ],
             [
              0.1111111111111111,
              "#46039f"
             ],
             [
              0.2222222222222222,
              "#7201a8"
             ],
             [
              0.3333333333333333,
              "#9c179e"
             ],
             [
              0.4444444444444444,
              "#bd3786"
             ],
             [
              0.5555555555555556,
              "#d8576b"
             ],
             [
              0.6666666666666666,
              "#ed7953"
             ],
             [
              0.7777777777777778,
              "#fb9f3a"
             ],
             [
              0.8888888888888888,
              "#fdca26"
             ],
             [
              1,
              "#f0f921"
             ]
            ],
            "type": "heatmap"
           }
          ],
          "heatmapgl": [
           {
            "colorbar": {
             "outlinewidth": 0,
             "ticks": ""
            },
            "colorscale": [
             [
              0,
              "#0d0887"
             ],
             [
              0.1111111111111111,
              "#46039f"
             ],
             [
              0.2222222222222222,
              "#7201a8"
             ],
             [
              0.3333333333333333,
              "#9c179e"
             ],
             [
              0.4444444444444444,
              "#bd3786"
             ],
             [
              0.5555555555555556,
              "#d8576b"
             ],
             [
              0.6666666666666666,
              "#ed7953"
             ],
             [
              0.7777777777777778,
              "#fb9f3a"
             ],
             [
              0.8888888888888888,
              "#fdca26"
             ],
             [
              1,
              "#f0f921"
             ]
            ],
            "type": "heatmapgl"
           }
          ],
          "histogram": [
           {
            "marker": {
             "pattern": {
              "fillmode": "overlay",
              "size": 10,
              "solidity": 0.2
             }
            },
            "type": "histogram"
           }
          ],
          "histogram2d": [
           {
            "colorbar": {
             "outlinewidth": 0,
             "ticks": ""
            },
            "colorscale": [
             [
              0,
              "#0d0887"
             ],
             [
              0.1111111111111111,
              "#46039f"
             ],
             [
              0.2222222222222222,
              "#7201a8"
             ],
             [
              0.3333333333333333,
              "#9c179e"
             ],
             [
              0.4444444444444444,
              "#bd3786"
             ],
             [
              0.5555555555555556,
              "#d8576b"
             ],
             [
              0.6666666666666666,
              "#ed7953"
             ],
             [
              0.7777777777777778,
              "#fb9f3a"
             ],
             [
              0.8888888888888888,
              "#fdca26"
             ],
             [
              1,
              "#f0f921"
             ]
            ],
            "type": "histogram2d"
           }
          ],
          "histogram2dcontour": [
           {
            "colorbar": {
             "outlinewidth": 0,
             "ticks": ""
            },
            "colorscale": [
             [
              0,
              "#0d0887"
             ],
             [
              0.1111111111111111,
              "#46039f"
             ],
             [
              0.2222222222222222,
              "#7201a8"
             ],
             [
              0.3333333333333333,
              "#9c179e"
             ],
             [
              0.4444444444444444,
              "#bd3786"
             ],
             [
              0.5555555555555556,
              "#d8576b"
             ],
             [
              0.6666666666666666,
              "#ed7953"
             ],
             [
              0.7777777777777778,
              "#fb9f3a"
             ],
             [
              0.8888888888888888,
              "#fdca26"
             ],
             [
              1,
              "#f0f921"
             ]
            ],
            "type": "histogram2dcontour"
           }
          ],
          "mesh3d": [
           {
            "colorbar": {
             "outlinewidth": 0,
             "ticks": ""
            },
            "type": "mesh3d"
           }
          ],
          "parcoords": [
           {
            "line": {
             "colorbar": {
              "outlinewidth": 0,
              "ticks": ""
             }
            },
            "type": "parcoords"
           }
          ],
          "pie": [
           {
            "automargin": true,
            "type": "pie"
           }
          ],
          "scatter": [
           {
            "fillpattern": {
             "fillmode": "overlay",
             "size": 10,
             "solidity": 0.2
            },
            "type": "scatter"
           }
          ],
          "scatter3d": [
           {
            "line": {
             "colorbar": {
              "outlinewidth": 0,
              "ticks": ""
             }
            },
            "marker": {
             "colorbar": {
              "outlinewidth": 0,
              "ticks": ""
             }
            },
            "type": "scatter3d"
           }
          ],
          "scattercarpet": [
           {
            "marker": {
             "colorbar": {
              "outlinewidth": 0,
              "ticks": ""
             }
            },
            "type": "scattercarpet"
           }
          ],
          "scattergeo": [
           {
            "marker": {
             "colorbar": {
              "outlinewidth": 0,
              "ticks": ""
             }
            },
            "type": "scattergeo"
           }
          ],
          "scattergl": [
           {
            "marker": {
             "colorbar": {
              "outlinewidth": 0,
              "ticks": ""
             }
            },
            "type": "scattergl"
           }
          ],
          "scattermapbox": [
           {
            "marker": {
             "colorbar": {
              "outlinewidth": 0,
              "ticks": ""
             }
            },
            "type": "scattermapbox"
           }
          ],
          "scatterpolar": [
           {
            "marker": {
             "colorbar": {
              "outlinewidth": 0,
              "ticks": ""
             }
            },
            "type": "scatterpolar"
           }
          ],
          "scatterpolargl": [
           {
            "marker": {
             "colorbar": {
              "outlinewidth": 0,
              "ticks": ""
             }
            },
            "type": "scatterpolargl"
           }
          ],
          "scatterternary": [
           {
            "marker": {
             "colorbar": {
              "outlinewidth": 0,
              "ticks": ""
             }
            },
            "type": "scatterternary"
           }
          ],
          "surface": [
           {
            "colorbar": {
             "outlinewidth": 0,
             "ticks": ""
            },
            "colorscale": [
             [
              0,
              "#0d0887"
             ],
             [
              0.1111111111111111,
              "#46039f"
             ],
             [
              0.2222222222222222,
              "#7201a8"
             ],
             [
              0.3333333333333333,
              "#9c179e"
             ],
             [
              0.4444444444444444,
              "#bd3786"
             ],
             [
              0.5555555555555556,
              "#d8576b"
             ],
             [
              0.6666666666666666,
              "#ed7953"
             ],
             [
              0.7777777777777778,
              "#fb9f3a"
             ],
             [
              0.8888888888888888,
              "#fdca26"
             ],
             [
              1,
              "#f0f921"
             ]
            ],
            "type": "surface"
           }
          ],
          "table": [
           {
            "cells": {
             "fill": {
              "color": "#EBF0F8"
             },
             "line": {
              "color": "white"
             }
            },
            "header": {
             "fill": {
              "color": "#C8D4E3"
             },
             "line": {
              "color": "white"
             }
            },
            "type": "table"
           }
          ]
         },
         "layout": {
          "annotationdefaults": {
           "arrowcolor": "#2a3f5f",
           "arrowhead": 0,
           "arrowwidth": 1
          },
          "autotypenumbers": "strict",
          "coloraxis": {
           "colorbar": {
            "outlinewidth": 0,
            "ticks": ""
           }
          },
          "colorscale": {
           "diverging": [
            [
             0,
             "#8e0152"
            ],
            [
             0.1,
             "#c51b7d"
            ],
            [
             0.2,
             "#de77ae"
            ],
            [
             0.3,
             "#f1b6da"
            ],
            [
             0.4,
             "#fde0ef"
            ],
            [
             0.5,
             "#f7f7f7"
            ],
            [
             0.6,
             "#e6f5d0"
            ],
            [
             0.7,
             "#b8e186"
            ],
            [
             0.8,
             "#7fbc41"
            ],
            [
             0.9,
             "#4d9221"
            ],
            [
             1,
             "#276419"
            ]
           ],
           "sequential": [
            [
             0,
             "#0d0887"
            ],
            [
             0.1111111111111111,
             "#46039f"
            ],
            [
             0.2222222222222222,
             "#7201a8"
            ],
            [
             0.3333333333333333,
             "#9c179e"
            ],
            [
             0.4444444444444444,
             "#bd3786"
            ],
            [
             0.5555555555555556,
             "#d8576b"
            ],
            [
             0.6666666666666666,
             "#ed7953"
            ],
            [
             0.7777777777777778,
             "#fb9f3a"
            ],
            [
             0.8888888888888888,
             "#fdca26"
            ],
            [
             1,
             "#f0f921"
            ]
           ],
           "sequentialminus": [
            [
             0,
             "#0d0887"
            ],
            [
             0.1111111111111111,
             "#46039f"
            ],
            [
             0.2222222222222222,
             "#7201a8"
            ],
            [
             0.3333333333333333,
             "#9c179e"
            ],
            [
             0.4444444444444444,
             "#bd3786"
            ],
            [
             0.5555555555555556,
             "#d8576b"
            ],
            [
             0.6666666666666666,
             "#ed7953"
            ],
            [
             0.7777777777777778,
             "#fb9f3a"
            ],
            [
             0.8888888888888888,
             "#fdca26"
            ],
            [
             1,
             "#f0f921"
            ]
           ]
          },
          "colorway": [
           "#636efa",
           "#EF553B",
           "#00cc96",
           "#ab63fa",
           "#FFA15A",
           "#19d3f3",
           "#FF6692",
           "#B6E880",
           "#FF97FF",
           "#FECB52"
          ],
          "font": {
           "color": "#2a3f5f"
          },
          "geo": {
           "bgcolor": "white",
           "lakecolor": "white",
           "landcolor": "#E5ECF6",
           "showlakes": true,
           "showland": true,
           "subunitcolor": "white"
          },
          "hoverlabel": {
           "align": "left"
          },
          "hovermode": "closest",
          "mapbox": {
           "style": "light"
          },
          "paper_bgcolor": "white",
          "plot_bgcolor": "#E5ECF6",
          "polar": {
           "angularaxis": {
            "gridcolor": "white",
            "linecolor": "white",
            "ticks": ""
           },
           "bgcolor": "#E5ECF6",
           "radialaxis": {
            "gridcolor": "white",
            "linecolor": "white",
            "ticks": ""
           }
          },
          "scene": {
           "xaxis": {
            "backgroundcolor": "#E5ECF6",
            "gridcolor": "white",
            "gridwidth": 2,
            "linecolor": "white",
            "showbackground": true,
            "ticks": "",
            "zerolinecolor": "white"
           },
           "yaxis": {
            "backgroundcolor": "#E5ECF6",
            "gridcolor": "white",
            "gridwidth": 2,
            "linecolor": "white",
            "showbackground": true,
            "ticks": "",
            "zerolinecolor": "white"
           },
           "zaxis": {
            "backgroundcolor": "#E5ECF6",
            "gridcolor": "white",
            "gridwidth": 2,
            "linecolor": "white",
            "showbackground": true,
            "ticks": "",
            "zerolinecolor": "white"
           }
          },
          "shapedefaults": {
           "line": {
            "color": "#2a3f5f"
           }
          },
          "ternary": {
           "aaxis": {
            "gridcolor": "white",
            "linecolor": "white",
            "ticks": ""
           },
           "baxis": {
            "gridcolor": "white",
            "linecolor": "white",
            "ticks": ""
           },
           "bgcolor": "#E5ECF6",
           "caxis": {
            "gridcolor": "white",
            "linecolor": "white",
            "ticks": ""
           }
          },
          "title": {
           "x": 0.05
          },
          "xaxis": {
           "automargin": true,
           "gridcolor": "white",
           "linecolor": "white",
           "ticks": "",
           "title": {
            "standoff": 15
           },
           "zerolinecolor": "white",
           "zerolinewidth": 2
          },
          "yaxis": {
           "automargin": true,
           "gridcolor": "white",
           "linecolor": "white",
           "ticks": "",
           "title": {
            "standoff": 15
           },
           "zerolinecolor": "white",
           "zerolinewidth": 2
          }
         }
        },
        "title": {
         "text": " rivers_transactions Aggregated NNet & tsfresh. MAE=0.7351"
        }
       }
      }
     },
     "metadata": {},
     "output_type": "display_data"
    }
   ],
   "source": [
    "avg_model = avg_models(models)\n",
    "for ts in tss:\n",
    "    X_train, X_test, y_train, y_test = extractor_ts(ts, best_features=best_features)\n",
    "    X_train = X_train.merge(calendar, left_index=True, right_index=True)\n",
    "    X_test = X_test.merge(calendar, left_index=True, right_index=True)\n",
    "\n",
    "    # train_history, history = train(avg_model, X_train, X_test, y_train, y_test)\n",
    "    dfX_train = X_train\n",
    "    dfX_test = X_test\n",
    "    dfy_train = y_train\n",
    "    dfy_test = y_test\n",
    "\n",
    "    dfy_pred = pd.Series(avg_model(torch.tensor(X_test.values, dtype=torch.float32)).detach(\n",
    "    ).numpy().reshape(-1), index=dfy_test.index)\n",
    "\n",
    "    mae = MAE(dfy_test, dfy_pred)\n",
    "    training_result.loc[ts.name, 'aggr'] = np.round(mae, 2)\n",
    "    fig = go.Figure()\n",
    "    fig.update_layout(\n",
    "        title_text=f\" {ts.name} Aggregated NNet & tsfresh. MAE={MAE(dfy_test, dfy_pred):.4f}\")\n",
    "    fig.add_trace(go.Scatter(x=dfy_train.index, y=dfy_train, name=\"Train\"))\n",
    "    fig.add_trace(go.Scatter(x=dfy_test.index, y=dfy_test, name=\"Test\"))\n",
    "    fig.add_trace(go.Scatter(x=dfy_pred.index, y=dfy_pred, name=\"Predicted\"))\n",
    "    fig.show()"
   ]
  },
  {
   "cell_type": "code",
   "execution_count": 24,
   "metadata": {},
   "outputs": [
    {
     "data": {
      "text/plain": [
       "<AxesSubplot: >"
      ]
     },
     "execution_count": 24,
     "metadata": {},
     "output_type": "execute_result"
    },
    {
     "data": {
      "image/png": "[encoded data removed]",
      "text/plain": [
       "<Figure size 640x480 with 2 Axes>"
      ]
     },
     "metadata": {},
     "output_type": "display_data"
    }
   ],
   "source": [
    "training_result=training_result.astype(float)\n",
    "sns.heatmap(training_result,cmap=\"Blues\", annot=True)"
   ]
  },
  {
   "cell_type": "code",
   "execution_count": null,
   "metadata": {},
   "outputs": [],
   "source": []
  }
 ],
 "metadata": {
  "kernelspec": {
   "display_name": "Python 3",
   "language": "python",
   "name": "python3"
  },
  "language_info": {
   "codemirror_mode": {
    "name": "ipython",
    "version": 3
   },
   "file_extension": ".py",
   "mimetype": "text/x-python",
   "name": "python",
   "nbconvert_exporter": "python",
   "pygments_lexer": "ipython3",
   "version": "3.10.12"
  }
 },
 "nbformat": 4,
 "nbformat_minor": 2
}
