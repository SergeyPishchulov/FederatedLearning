{
 "cells": [
  {
   "cell_type": "code",
   "execution_count": 1,
   "metadata": {},
   "outputs": [],
   "source": [
    "# def compute_pdm_matching_multilayer(models, train_dl, test_dl, cls_freqs, n_classes, sigma0=None, it=0, sigma=None, gamma=None):\n",
    "#     batch_weights = pdm_prepare_weights(models)\n",
    "#     batch_freqs = pdm_prepare_freq(cls_freqs, n_classes)\n",
    "#     res = {}\n",
    "#     best_test_acc, best_train_acc, best_weights, best_sigma, best_gamma, best_sigma0 = -1, -1, None, -1, -1, -1\n",
    "\n",
    "#     gammas = [1.0, 1e-3, 50.0] if gamma is None else [gamma]\n",
    "#     sigmas = [1.0, 0.1, 0.5] if sigma is None else [sigma]\n",
    "#     sigma0s = [1.0, 10.0] if sigma0 is None else [sigma0]\n",
    "\n",
    "#     for gamma, sigma, sigma0 in product(gammas, sigmas, sigma0s):\n",
    "#         print(\"Gamma: \", gamma, \"Sigma: \", sigma, \"Sigma0: \", sigma0)\n",
    "\n",
    "#         hungarian_weights = pdm_multilayer_group_descent(\n",
    "#             batch_weights, sigma0_layers=sigma0, sigma_layers=sigma, batch_frequencies=batch_freqs, it=it, gamma_layers=gamma\n",
    "#         )"
   ]
  },
  {
   "cell_type": "code",
   "execution_count": 10,
   "metadata": {},
   "outputs": [],
   "source": [
    "from fedma.combine_nets import compute_pdm_matching_multilayer"
   ]
  },
  {
   "cell_type": "code",
   "execution_count": 8,
   "metadata": {},
   "outputs": [
    {
     "name": "stdout",
     "output_type": "stream",
     "text": [
      "['/home/serhio/Data/1Education/FL', '/usr/lib/python310.zip', '/usr/lib/python3.10', '/usr/lib/python3.10/lib-dynload', '', '/home/serhio/.local/lib/python3.10/site-packages', '/home/serhio/Data/1Education/grammar-spring/s2/grammar_ru', '/usr/local/lib/python3.10/dist-packages', '/usr/lib/python3/dist-packages', '/home/serhio/Data/1Education/FL', '/home/serhio/Data/1Education/FL/fedma']\n"
     ]
    }
   ],
   "source": [
    "import os, sys\n",
    "#'/home/serhio/Data/1Education/FL'\n",
    "sys.path.append('/home/serhio/Data/1Education/FL')\n",
    "sys.path.append('/home/serhio/Data/1Education/FL/fedma')\n",
    "# print(os.path.join(os.path.dirname(__file__)))\n",
    "print(sys.path)\n"
   ]
  },
  {
   "cell_type": "code",
   "execution_count": null,
   "metadata": {},
   "outputs": [],
   "source": [
    "# TODO переделать на задачу классификации. Позвать этот метод."
   ]
  }
 ],
 "metadata": {
  "kernelspec": {
   "display_name": "Python 3",
   "language": "python",
   "name": "python3"
  },
  "language_info": {
   "codemirror_mode": {
    "name": "ipython",
    "version": 3
   },
   "file_extension": ".py",
   "mimetype": "text/x-python",
   "name": "python",
   "nbconvert_exporter": "python",
   "pygments_lexer": "ipython3",
   "version": "3.10.12"
  }
 },
 "nbformat": 4,
 "nbformat_minor": 2
}
