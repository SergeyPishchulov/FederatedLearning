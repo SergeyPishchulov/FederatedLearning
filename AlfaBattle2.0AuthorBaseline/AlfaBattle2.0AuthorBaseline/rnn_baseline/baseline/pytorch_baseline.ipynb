{
 "cells": [
  {
   "cell_type": "markdown",
   "metadata": {},
   "source": [
    "### 0. Imports and requirements\n",
    "\n",
    "* В данном соревновании мы имеем дело с последовательностями, один из интуитивных способов работы с ними - использование рекуррентных сетей. Данный бейзлайн посвящен тому, чтобы показать, как можно строить хорошие решения без использования сложного и трудоемкого feature engineering-а (чтобы эффективно решать ту же задачу с высоким качеством с помощью бустингов нужно несколько тысяч признаков), благодаря рекуррентным сетям. В этом ноутбуке мы построим решение с использованием фреймфорка `torch`. Для комфортной работы Вам понадобится машина с `GPU` (хватит ресурсов `google colab` или `kaggle`)."
   ]
  },
  {
   "cell_type": "code",
   "execution_count": 1,
   "metadata": {},
   "outputs": [],
   "source": [
    "%load_ext autoreload\n",
    "%autoreload 2\n",
    "\n",
    "import os\n",
    "import pandas as pd\n",
    "import sys\n",
    "import pickle\n",
    "import numpy as np\n",
    "import torch\n",
    "import torch.nn as nn\n",
    "\n",
    "from sklearn.model_selection import train_test_split\n",
    "from tqdm import tqdm\n",
    "\n",
    "os.environ[\"CUDA_VISIBLE_DEVICES\"] = '1'\n",
    "pd.set_option('display.max_columns', None)\n",
    "\n",
    "# добавим корневую папку, в ней лежат все необходимые полезные функции для обработки данных\n",
    "sys.path.append('../../')\n",
    "sys.path.append('../')"
   ]
  },
  {
   "cell_type": "markdown",
   "metadata": {},
   "source": [
    "### 1. Data Preprocessing"
   ]
  },
  {
   "cell_type": "code",
   "execution_count": 2,
   "metadata": {},
   "outputs": [],
   "source": [
    "# dir_path = \"../../../Datasets/AlfaBattle2.0/data_for_competition/\"\n",
    "# TRAIN_TRANSACTIONS_PATH = dir_path+'train_transactions_contest/'\n",
    "# TEST_TRANSACTIONS_PATH = dir_path+'test_transactions_contest/'\n",
    "\n",
    "# TRAIN_TARGET_PATH = dir_path+'train_target.csv'"
   ]
  },
  {
   "cell_type": "code",
   "execution_count": 3,
   "metadata": {},
   "outputs": [],
   "source": [
    "TRAIN_TRANSACTIONS_PATH = '../../../train_transactions_contest/'\n",
    "TEST_TRANSACTIONS_PATH = '../../../test_transactions_contest/'\n",
    "\n",
    "TRAIN_TARGET_PATH = '../../../train_target.csv'"
   ]
  },
  {
   "cell_type": "code",
   "execution_count": 4,
   "metadata": {},
   "outputs": [
    {
     "data": {
      "text/html": [
       "<div>\n",
       "<style scoped>\n",
       "    .dataframe tbody tr th:only-of-type {\n",
       "        vertical-align: middle;\n",
       "    }\n",
       "\n",
       "    .dataframe tbody tr th {\n",
       "        vertical-align: top;\n",
       "    }\n",
       "\n",
       "    .dataframe thead th {\n",
       "        text-align: right;\n",
       "    }\n",
       "</style>\n",
       "<table border=\"1\" class=\"dataframe\">\n",
       "  <thead>\n",
       "    <tr style=\"text-align: right;\">\n",
       "      <th></th>\n",
       "      <th>app_id</th>\n",
       "      <th>product</th>\n",
       "      <th>flag</th>\n",
       "    </tr>\n",
       "  </thead>\n",
       "  <tbody>\n",
       "    <tr>\n",
       "      <th>0</th>\n",
       "      <td>0</td>\n",
       "      <td>3</td>\n",
       "      <td>0</td>\n",
       "    </tr>\n",
       "    <tr>\n",
       "      <th>1</th>\n",
       "      <td>1</td>\n",
       "      <td>1</td>\n",
       "      <td>0</td>\n",
       "    </tr>\n",
       "    <tr>\n",
       "      <th>2</th>\n",
       "      <td>2</td>\n",
       "      <td>1</td>\n",
       "      <td>0</td>\n",
       "    </tr>\n",
       "    <tr>\n",
       "      <th>3</th>\n",
       "      <td>3</td>\n",
       "      <td>1</td>\n",
       "      <td>0</td>\n",
       "    </tr>\n",
       "    <tr>\n",
       "      <th>4</th>\n",
       "      <td>4</td>\n",
       "      <td>1</td>\n",
       "      <td>0</td>\n",
       "    </tr>\n",
       "  </tbody>\n",
       "</table>\n",
       "</div>"
      ],
      "text/plain": [
       "   app_id  product  flag\n",
       "0       0        3     0\n",
       "1       1        1     0\n",
       "2       2        1     0\n",
       "3       3        1     0\n",
       "4       4        1     0"
      ]
     },
     "execution_count": 4,
     "metadata": {},
     "output_type": "execute_result"
    }
   ],
   "source": [
    "target_frame = pd.read_csv(TRAIN_TARGET_PATH)\n",
    "target_frame.head()"
   ]
  },
  {
   "cell_type": "markdown",
   "metadata": {},
   "source": [
    "* Как и в случае с бустингами, мы не можем поместить всю выборку в память, в виду, например, ограниченных ресурсов. Для итеративного чтения данных нам потребуется функция `utils.read_parquet_dataset_from_local`, которая читает N частей датасета за раз в память.\n",
    "\n",
    "\n",
    "* Нейронные сети требуют отделнього внимания к тому, как будут поданы и обработаны данные. Важные моменты, на которые требуется обратить внимание:\n",
    "    * Использование рекуррентных сетей подразумевает работу на уровне последовательностей, где одна последовательность - все исторические транзакции клиента. Чтобы преобразовать `pd.DataFrame` с транзакциями клиентов в табличном виде к последовательностям, мы подготовили функцию `dataset_preprocessing_utils.transform_transactions_to_sequences`, она делает необходимые манипуляции и возвращает фрейм с двумя колонками: `app_id` и `sequences`. Колонка `sequence` представляет из себя массив массивов длины `len(features)`, где каждый вложенный массив - значения одного конкретного признака во всех транзакциях клиента. \n",
    "    \n",
    "    * каждый клиент имеет различную по длине историю транзакций. При этом обучение сетей происходит батчами, что требует делать паддинги в последовательностях. Довольно неэффективно делать паддинг внутри батча на последовательностях случайной длины (довольно часто будем делать большой и бесполезный паддинг). Гораздо лучше использовать технику `sequence_bucketing` (о ней рассказано в образовательном ролике к данному бейзлайну). Для этого мы предоставляем функцию `dataset_preprocessing_utils.create_padded_buckets`. Один из аргументов в данную функцию - `bucket_info` - словарь, где для конкретной длины последовательности указано до какой длины нужно делать паддинг. Мы предоставялем для старта простой вид разбиения на 100 бакетов и файл где лежит отображение каждой длины в падднг (файл `buckets_info.pkl`).\n",
    "    \n",
    "    * Такие признаки, как [`amnt`, `days_before`, `hour_diff`] по своей природе не являются категориальными. Вы в праве самостоятельно выбирать способ работы с ними (модифицируя функции бейзлайна или адаптируя под себя). В рамках бейзлайна мы предлагаем интерпретировать каждую не категориальную фичу как категориальную. Для этого нужно подготовить bin-ы для каждой фичи. Мы предлагаем простой способ разбиения по бинам."
   ]
  },
  {
   "cell_type": "code",
   "execution_count": 5,
   "metadata": {},
   "outputs": [],
   "source": [
    "from utils import read_parquet_dataset_from_local\n",
    "from dataset_preprocessing_utils import transform_transactions_to_sequences, create_padded_buckets"
   ]
  },
  {
   "cell_type": "code",
   "execution_count": 6,
   "metadata": {},
   "outputs": [],
   "source": [
    "import pickle\n",
    "\n",
    "with open('../constants/buckets_info.pkl', 'rb') as f:\n",
    "    mapping_seq_len_to_padded_len = pickle.load(f)\n",
    "    \n",
    "with open('../constants/dense_features_buckets.pkl', 'rb') as f:\n",
    "    dense_features_buckets = pickle.load(f)"
   ]
  },
  {
   "cell_type": "markdown",
   "metadata": {},
   "source": [
    "* Функция `create_buckets_from_transactions` ниже реализует следующий набор действий:\n",
    "    * Читает `num_parts_to_preprocess_at_once` частей датасета в память\n",
    "    * Преобразует вещественные и численные признаки к категориальным (используя `np.digitize` и подготовленные бины)\n",
    "    * Формирует фрейм с транзакциями в виде последовательностей с помощью `transform_transactions_to_sequences`.\n",
    "    * Если указан `frame_with_ids`, то использует `app_id` из `frame_with_ids` - актуально, чтобы выделить валидационную выборку.\n",
    "    * Реализует технику `sequence_bucketing` и сохраняет словарь обработанных последовательностей в `.pkl` файл"
   ]
  },
  {
   "cell_type": "code",
   "execution_count": 7,
   "metadata": {},
   "outputs": [],
   "source": [
    "def create_buckets_from_transactions(path_to_dataset, save_to_path, frame_with_ids = None, \n",
    "                                     num_parts_to_preprocess_at_once: int = 1, \n",
    "                                     num_parts_total=50, has_target=False):\n",
    "    block = 0\n",
    "    for step in tqdm(range(0, num_parts_total, num_parts_to_preprocess_at_once), \n",
    "                                   desc=\"Transforming transactions data\"):\n",
    "        transactions_frame = read_parquet_dataset_from_local(path_to_dataset, step, \n",
    "                                                             num_parts_to_preprocess_at_once, \n",
    "                                                             verbose=True)\n",
    "        for dense_col in ['amnt', 'days_before', 'hour_diff']:\n",
    "            transactions_frame[dense_col] = np.digitize(transactions_frame[dense_col], bins=dense_features_buckets[dense_col])\n",
    "            \n",
    "        seq = transform_transactions_to_sequences(transactions_frame)\n",
    "        seq['sequence_length'] = seq.sequences.apply(lambda x: len(x[1]))\n",
    "        \n",
    "        if frame_with_ids is not None:\n",
    "            seq = seq.merge(frame_with_ids, on='app_id')\n",
    "\n",
    "        block_as_str = str(block)\n",
    "        if len(block_as_str) == 1:\n",
    "            block_as_str = '00' + block_as_str\n",
    "        else:\n",
    "            block_as_str = '0' + block_as_str\n",
    "            \n",
    "        processed_fragment =  create_padded_buckets(seq, mapping_seq_len_to_padded_len, has_target=has_target, \n",
    "                                                    save_to_file_path=os.path.join(save_to_path, \n",
    "                                                                                   f'processed_chunk_{block_as_str}.pkl'))\n",
    "        block += 1"
   ]
  },
  {
   "cell_type": "markdown",
   "metadata": {},
   "source": [
    "* Разобьем имеющиеся данные на `train` и `val` части. Воспользуемся самым простым способом - для валидации используем 10% случайных данных"
   ]
  },
  {
   "cell_type": "code",
   "execution_count": 8,
   "metadata": {},
   "outputs": [
    {
     "data": {
      "text/plain": [
       "((867429, 3), (96382, 3))"
      ]
     },
     "execution_count": 8,
     "metadata": {},
     "output_type": "execute_result"
    }
   ],
   "source": [
    "train, val = train_test_split(target_frame, random_state=42, test_size=0.1)\n",
    "train.shape, val.shape"
   ]
  },
  {
   "cell_type": "markdown",
   "metadata": {},
   "source": [
    "save val buckets"
   ]
  },
  {
   "cell_type": "code",
   "execution_count": 9,
   "metadata": {},
   "outputs": [],
   "source": [
    "# ! rm -r ../../../tiny_val_buckets\n",
    "# ! mkdir ../../../tiny_val_buckets"
   ]
  },
  {
   "cell_type": "code",
   "execution_count": 10,
   "metadata": {},
   "outputs": [],
   "source": [
    "# create_buckets_from_transactions(TRAIN_TRANSACTIONS_PATH, \n",
    "#                                 save_to_path='../../../tiny_val_buckets',\n",
    "#                                 frame_with_ids=val, num_parts_to_preprocess_at_once=1, num_parts_total=500, has_target=True)"
   ]
  },
  {
   "cell_type": "code",
   "execution_count": 11,
   "metadata": {},
   "outputs": [],
   "source": [
    "# ! rm -r ../../../val_buckets\n",
    "# ! mkdir ../../../val_buckets"
   ]
  },
  {
   "cell_type": "code",
   "execution_count": 12,
   "metadata": {},
   "outputs": [],
   "source": [
    "# create_buckets_from_transactions(TRAIN_TRANSACTIONS_PATH, \n",
    "#                                 save_to_path='../../../val_buckets',\n",
    "#                                 frame_with_ids=val, num_parts_to_preprocess_at_once=1, num_parts_total=50, has_target=True)"
   ]
  },
  {
   "cell_type": "code",
   "execution_count": 13,
   "metadata": {},
   "outputs": [
    {
     "data": {
      "text/plain": [
       "['../../../tiny_val_buckets/processed_chunk_000.pkl',\n",
       " '../../../tiny_val_buckets/processed_chunk_001.pkl',\n",
       " '../../../tiny_val_buckets/processed_chunk_002.pkl',\n",
       " '../../../tiny_val_buckets/processed_chunk_003.pkl',\n",
       " '../../../tiny_val_buckets/processed_chunk_004.pkl']"
      ]
     },
     "execution_count": 13,
     "metadata": {},
     "output_type": "execute_result"
    }
   ],
   "source": [
    "# path_to_dataset = '../../../val_buckets'\n",
    "path_to_dataset = '../../../tiny_val_buckets'\n",
    "dir_with_datasets = os.listdir(path_to_dataset)\n",
    "dataset_val = sorted([os.path.join(path_to_dataset, x) for x in dir_with_datasets])\n",
    "dataset_val"
   ]
  },
  {
   "cell_type": "markdown",
   "metadata": {},
   "source": [
    "save train buckets"
   ]
  },
  {
   "cell_type": "code",
   "execution_count": 14,
   "metadata": {},
   "outputs": [],
   "source": [
    "# ! rm -r ../../../tiny_train_buckets\n",
    "# ! mkdir ../../../tiny_train_buckets"
   ]
  },
  {
   "cell_type": "code",
   "execution_count": 15,
   "metadata": {},
   "outputs": [],
   "source": [
    "# TRAIN_TRANSACTIONS_PATH\n"
   ]
  },
  {
   "cell_type": "code",
   "execution_count": 16,
   "metadata": {},
   "outputs": [],
   "source": [
    "# create_buckets_from_transactions(TRAIN_TRANSACTIONS_PATH, \n",
    "#                                 save_to_path='../../../tiny_train_buckets',\n",
    "#                                 frame_with_ids=train, num_parts_to_preprocess_at_once=1, num_parts_total=500, has_target=True)"
   ]
  },
  {
   "cell_type": "code",
   "execution_count": 17,
   "metadata": {},
   "outputs": [],
   "source": [
    "# ! rm -r ../../../train_buckets\n",
    "# ! mkdir ../../../train_buckets"
   ]
  },
  {
   "cell_type": "code",
   "execution_count": 18,
   "metadata": {},
   "outputs": [],
   "source": [
    "# create_buckets_from_transactions(TRAIN_TRANSACTIONS_PATH, \n",
    "#                                 save_to_path='../../../train_buckets',\n",
    "#                                 frame_with_ids=train, num_parts_to_preprocess_at_once=1, num_parts_total=50, has_target=True)"
   ]
  },
  {
   "cell_type": "code",
   "execution_count": 19,
   "metadata": {},
   "outputs": [
    {
     "data": {
      "text/plain": [
       "['../../../train_buckets/processed_chunk_000.pkl',\n",
       " '../../../train_buckets/processed_chunk_001.pkl',\n",
       " '../../../train_buckets/processed_chunk_002.pkl',\n",
       " '../../../train_buckets/processed_chunk_003.pkl',\n",
       " '../../../train_buckets/processed_chunk_004.pkl',\n",
       " '../../../train_buckets/processed_chunk_005.pkl',\n",
       " '../../../train_buckets/processed_chunk_006.pkl',\n",
       " '../../../train_buckets/processed_chunk_007.pkl',\n",
       " '../../../train_buckets/processed_chunk_008.pkl',\n",
       " '../../../train_buckets/processed_chunk_009.pkl',\n",
       " '../../../train_buckets/processed_chunk_010.pkl',\n",
       " '../../../train_buckets/processed_chunk_011.pkl',\n",
       " '../../../train_buckets/processed_chunk_012.pkl',\n",
       " '../../../train_buckets/processed_chunk_013.pkl',\n",
       " '../../../train_buckets/processed_chunk_014.pkl',\n",
       " '../../../train_buckets/processed_chunk_015.pkl',\n",
       " '../../../train_buckets/processed_chunk_016.pkl',\n",
       " '../../../train_buckets/processed_chunk_017.pkl',\n",
       " '../../../train_buckets/processed_chunk_018.pkl',\n",
       " '../../../train_buckets/processed_chunk_019.pkl',\n",
       " '../../../train_buckets/processed_chunk_020.pkl',\n",
       " '../../../train_buckets/processed_chunk_021.pkl',\n",
       " '../../../train_buckets/processed_chunk_022.pkl',\n",
       " '../../../train_buckets/processed_chunk_023.pkl',\n",
       " '../../../train_buckets/processed_chunk_024.pkl',\n",
       " '../../../train_buckets/processed_chunk_025.pkl',\n",
       " '../../../train_buckets/processed_chunk_026.pkl',\n",
       " '../../../train_buckets/processed_chunk_027.pkl',\n",
       " '../../../train_buckets/processed_chunk_028.pkl',\n",
       " '../../../train_buckets/processed_chunk_029.pkl',\n",
       " '../../../train_buckets/processed_chunk_030.pkl',\n",
       " '../../../train_buckets/processed_chunk_031.pkl',\n",
       " '../../../train_buckets/processed_chunk_032.pkl',\n",
       " '../../../train_buckets/processed_chunk_033.pkl',\n",
       " '../../../train_buckets/processed_chunk_034.pkl',\n",
       " '../../../train_buckets/processed_chunk_035.pkl',\n",
       " '../../../train_buckets/processed_chunk_036.pkl',\n",
       " '../../../train_buckets/processed_chunk_037.pkl',\n",
       " '../../../train_buckets/processed_chunk_038.pkl',\n",
       " '../../../train_buckets/processed_chunk_039.pkl',\n",
       " '../../../train_buckets/processed_chunk_040.pkl',\n",
       " '../../../train_buckets/processed_chunk_041.pkl',\n",
       " '../../../train_buckets/processed_chunk_042.pkl',\n",
       " '../../../train_buckets/processed_chunk_043.pkl',\n",
       " '../../../train_buckets/processed_chunk_044.pkl',\n",
       " '../../../train_buckets/processed_chunk_045.pkl',\n",
       " '../../../train_buckets/processed_chunk_046.pkl',\n",
       " '../../../train_buckets/processed_chunk_047.pkl',\n",
       " '../../../train_buckets/processed_chunk_048.pkl',\n",
       " '../../../train_buckets/processed_chunk_049.pkl']"
      ]
     },
     "execution_count": 19,
     "metadata": {},
     "output_type": "execute_result"
    }
   ],
   "source": [
    "path_to_dataset = '../../../train_buckets'\n",
    "dir_with_datasets = os.listdir(path_to_dataset)\n",
    "dataset_train = sorted([os.path.join(path_to_dataset, x) for x in dir_with_datasets])\n",
    "dataset_train"
   ]
  },
  {
   "cell_type": "markdown",
   "metadata": {},
   "source": [
    "### 2. Modeling"
   ]
  },
  {
   "cell_type": "code",
   "execution_count": 20,
   "metadata": {},
   "outputs": [
    {
     "name": "stdout",
     "output_type": "stream",
     "text": [
      "Using device: cpu\n"
     ]
    }
   ],
   "source": [
    "device = torch.device('cuda' if torch.cuda.is_available() else 'cpu')\n",
    "print('Using device:', device)"
   ]
  },
  {
   "cell_type": "markdown",
   "metadata": {},
   "source": [
    "* Для создания модели будем использовать фреймворк `torch`. В нем есть все, чтобы писать произвольные сложные архитектуры и быстро эксперементировать. Для того, чтобы мониторить и логировать весь процесс во время обучения сетей, рекомендуется использовать надстройки над данным фреймворков, например, `lightning`.\n",
    "\n",
    "* В бейзлайне мы предлагаем базовые компоненты, чтобы можно было обучать нейронную сеть и отслеживать ее качество. Для этого вам предоставлены следующие функции:\n",
    "    * `data_generators.batches_generator` - функция-генератор, итеративно возвращает батчи, поддерживает батчи для `tensorflow.keras` и `torch.nn.module` моделей. В зависимости от флага `is_train` может быть использована для генерации батчей на train/val/test стадию.\n",
    "    * функция `pytorch_training.train_epoch` - обучает модель одну эпоху.\n",
    "    * функция `pytorch_training.eval_model` - проверяет качество модели на отложенной выборке и возвращает roc_auc_score.\n",
    "    * функция `pytorch_training.inference` - делает предикты на новых данных и готовит фрейм для проверяющей системы.\n",
    "    * класс `training_aux.EarlyStopping` - реализует early_stopping, сохраняя лучшую модель. Пример использования приведен ниже."
   ]
  },
  {
   "cell_type": "code",
   "execution_count": 21,
   "metadata": {},
   "outputs": [],
   "source": [
    "from data_generators import batches_generator, transaction_features\n",
    "from pytorch_training import train_epoch, eval_model, inference\n",
    "from training_aux import EarlyStopping"
   ]
  },
  {
   "cell_type": "markdown",
   "metadata": {},
   "source": [
    "* Все признаки в нашей модели будут категориальными. Для их представления в модели используем категориальные эмбеддинги. Для этого нужно каждому категориальному признаку задать размерность латентного пространства. Используем [формулу](https://forums.fast.ai/t/size-of-embedding-for-categorical-variables/42608) из библиотеки `fast.ai`. Все отображения хранятся в файле `embedding_projections.pkl`"
   ]
  },
  {
   "cell_type": "code",
   "execution_count": 22,
   "metadata": {},
   "outputs": [],
   "source": [
    "with open('../constants/embedding_projections.pkl', 'rb') as f:\n",
    "    embedding_projections = pickle.load(f)\n",
    "# embedding_projections"
   ]
  },
  {
   "cell_type": "markdown",
   "metadata": {},
   "source": [
    "* Реализуем модель. Все входные признаки представим в виде эмбеддингов, сконкатенируем, чтобы получить векторное представление транзакции. Подадим последовательности в `GRU` рекуррентную сеть. Используем последнее скрытое состояние в качестве выхода сети. Представим признак `product` в виде отдельного эмбеддинга. Сконкатенируем его с выходом сети. На основе такого входа построим небольшой `MLP`, выступающий классификатором для целевой задачи. Используем градиентный спуск, чтобы решить оптимизационную задачу. "
   ]
  },
  {
   "cell_type": "code",
   "execution_count": 23,
   "metadata": {},
   "outputs": [],
   "source": [
    "class TransactionsRnn(nn.Module):\n",
    "    def __init__(self, transactions_cat_features, embedding_projections, product_col_name='product', rnn_units=128, top_classifier_units=32):\n",
    "        super(TransactionsRnn, self).__init__()\n",
    "        self._transaction_cat_embeddings = nn.ModuleList([self._create_embedding_projection(*embedding_projections[feature]) \n",
    "                                                          for feature in transactions_cat_features])\n",
    "                \n",
    "        self._product_embedding = self._create_embedding_projection(*embedding_projections[product_col_name], padding_idx=None)\n",
    "        \n",
    "        self._gru = nn.GRU(input_size=sum([embedding_projections[x][1] for x in transactions_cat_features]),\n",
    "                             hidden_size=rnn_units, batch_first=True, bidirectional=False)\n",
    "        \n",
    "        self._hidden_size = rnn_units\n",
    "                \n",
    "        self._top_classifier = nn.Linear(in_features=rnn_units+embedding_projections[product_col_name][1], \n",
    "                                         out_features=top_classifier_units)\n",
    "        self._intermediate_activation = nn.ReLU()\n",
    "        \n",
    "        self._head = nn.Linear(in_features=top_classifier_units, out_features=1)\n",
    "    \n",
    "    def forward(self, transactions_cat_features, product_feature):\n",
    "        batch_size = product_feature.shape[0]\n",
    "        \n",
    "        embeddings = [embedding(transactions_cat_features[i]) for i, embedding in enumerate(self._transaction_cat_embeddings)]\n",
    "        concated_embeddings = torch.cat(embeddings, dim=-1)\n",
    "        \n",
    "        _, last_hidden = self._gru(concated_embeddings)\n",
    "        last_hidden = torch.reshape(last_hidden.permute(1, 2, 0), shape=(batch_size, self._hidden_size))\n",
    "        \n",
    "        product_embed = self._product_embedding(product_feature)\n",
    "        \n",
    "        intermediate_concat = torch.cat([last_hidden, product_embed], dim=-1)\n",
    "                \n",
    "        classification_hidden = self._top_classifier(intermediate_concat)\n",
    "        activation = self._intermediate_activation(classification_hidden)\n",
    "        \n",
    "        logit = self._head(activation)\n",
    "        \n",
    "        return logit\n",
    "    \n",
    "    @classmethod\n",
    "    def _create_embedding_projection(cls, cardinality, embed_size, add_missing=True, padding_idx=0):\n",
    "        add_missing = 1 if add_missing else 0\n",
    "        return nn.Embedding(num_embeddings=cardinality+add_missing, embedding_dim=embed_size, padding_idx=padding_idx)\n"
   ]
  },
  {
   "cell_type": "markdown",
   "metadata": {},
   "source": [
    "### 3. Training"
   ]
  },
  {
   "cell_type": "code",
   "execution_count": 24,
   "metadata": {},
   "outputs": [],
   "source": [
    "# for"
   ]
  },
  {
   "cell_type": "code",
   "execution_count": 25,
   "metadata": {},
   "outputs": [
    {
     "name": "stdout",
     "output_type": "stream",
     "text": [
      "mkdir: cannot create directory ‘../../rnn_baseline/checkpoints/’: File exists\n"
     ]
    }
   ],
   "source": [
    "! mkdir ../../rnn_baseline/checkpoints/"
   ]
  },
  {
   "cell_type": "code",
   "execution_count": 26,
   "metadata": {},
   "outputs": [],
   "source": [
    "! rm -r ../../rnn_baseline/checkpoints/pytorch_baseline\n",
    "! mkdir ../../rnn_baseline/checkpoints/pytorch_baseline"
   ]
  },
  {
   "cell_type": "markdown",
   "metadata": {},
   "source": [
    "* Для того, чтобы детектировать переобучение используем EarlyStopping."
   ]
  },
  {
   "cell_type": "code",
   "execution_count": 27,
   "metadata": {},
   "outputs": [],
   "source": [
    "path_to_checkpoints = '../../rnn_baseline/checkpoints/pytorch_baseline/'\n",
    "es = EarlyStopping(patience=3, mode='max', verbose=True, \n",
    "                   save_path=os.path.join(path_to_checkpoints, 'best_checkpoint.pt'), \n",
    "                   metric_name='ROC-AUC', save_format='torch')"
   ]
  },
  {
   "cell_type": "code",
   "execution_count": 28,
   "metadata": {},
   "outputs": [],
   "source": [
    "num_epochs = 1#3#15\n",
    "# train_batch_size = 128\n",
    "# val_batch_szie = 128\n",
    "train_batch_size = val_batch_szie = 128"
   ]
  },
  {
   "cell_type": "code",
   "execution_count": 29,
   "metadata": {},
   "outputs": [],
   "source": [
    "# val_batch_szie"
   ]
  },
  {
   "cell_type": "code",
   "execution_count": 30,
   "metadata": {},
   "outputs": [],
   "source": [
    "# for"
   ]
  },
  {
   "cell_type": "code",
   "execution_count": 31,
   "metadata": {},
   "outputs": [],
   "source": [
    "model = TransactionsRnn(transaction_features, embedding_projections, rnn_units=4, top_classifier_units=4 ).to(device)"
   ]
  },
  {
   "cell_type": "code",
   "execution_count": 32,
   "metadata": {},
   "outputs": [
    {
     "data": {
      "text/plain": [
       "device(type='cpu')"
      ]
     },
     "execution_count": 32,
     "metadata": {},
     "output_type": "execute_result"
    }
   ],
   "source": [
    "device"
   ]
  },
  {
   "cell_type": "code",
   "execution_count": 33,
   "metadata": {},
   "outputs": [],
   "source": [
    "# model"
   ]
  },
  {
   "cell_type": "code",
   "execution_count": 34,
   "metadata": {},
   "outputs": [],
   "source": [
    "optimizer = torch.optim.Adam(lr=1e-3, params=model.parameters())"
   ]
  },
  {
   "cell_type": "markdown",
   "metadata": {},
   "source": [
    "* Запустим цикл обучения, каждую эпоху будем логировать лосс, а так же roc-auc на валидации и на обучении. Будем сохрнаять веса после каждой эпохи, а так же лучшие с помощью early_stopping."
   ]
  },
  {
   "cell_type": "code",
   "execution_count": 35,
   "metadata": {},
   "outputs": [],
   "source": [
    "file_num_constarint = 1\n",
    "dataset_val = dataset_val[:file_num_constarint]\n",
    "dataset_train = dataset_train[:file_num_constarint]"
   ]
  },
  {
   "cell_type": "code",
   "execution_count": 36,
   "metadata": {},
   "outputs": [
    {
     "data": {
      "text/plain": [
       "['../../../tiny_val_buckets/processed_chunk_000.pkl']"
      ]
     },
     "execution_count": 36,
     "metadata": {},
     "output_type": "execute_result"
    }
   ],
   "source": [
    "dataset_val"
   ]
  },
  {
   "cell_type": "code",
   "execution_count": 37,
   "metadata": {},
   "outputs": [
    {
     "name": "stdout",
     "output_type": "stream",
     "text": [
      "Starting epoch 1\n"
     ]
    },
    {
     "data": {
      "application/vnd.jupyter.widget-view+json": {
       "model_id": "94c09344e5cf42ea89ef9f7edf3c0d95",
       "version_major": 2,
       "version_minor": 0
      },
      "text/plain": [
       "Training: 0it [00:00, ?it/s]"
      ]
     },
     "metadata": {},
     "output_type": "display_data"
    },
    {
     "name": "stdout",
     "output_type": "stream",
     "text": [
      "Reached n_batches_to_train = 101 0.574523925781252\n",
      "Training loss after epoch: 0.5688355565071106\r"
     ]
    },
    {
     "data": {
      "application/vnd.jupyter.widget-view+json": {
       "model_id": "e0cb6e2f2b674922a3b72fb10d2a643b",
       "version_major": 2,
       "version_minor": 0
      },
      "text/plain": [
       "Evaluating model: 0it [00:00, ?it/s]"
      ]
     },
     "metadata": {},
     "output_type": "display_data"
    },
    {
     "name": "stdout",
     "output_type": "stream",
     "text": [
      "Validation ROC-AUC improved (-inf --> 0.446794).  Saving model ...\n"
     ]
    },
    {
     "data": {
      "application/vnd.jupyter.widget-view+json": {
       "model_id": "64f2d83eb6f042b8b20e0327a40af1c1",
       "version_major": 2,
       "version_minor": 0
      },
      "text/plain": [
       "Evaluating model: 0it [00:00, ?it/s]"
      ]
     },
     "metadata": {},
     "output_type": "display_data"
    },
    {
     "name": "stdout",
     "output_type": "stream",
     "text": [
      "Epoch 1 completed. Train roc-auc: 0.45797811173944103, Val roc-auc: 0.4467940125111706\n"
     ]
    }
   ],
   "source": [
    "for epoch in range(num_epochs):\n",
    "    print(f'Starting epoch {epoch+1}')\n",
    "    train_epoch(model, optimizer, dataset_train, batch_size=train_batch_size, \n",
    "                shuffle=True, print_loss_every_n_batches=25, device=device, n_batches_to_train= 101)\n",
    "    \n",
    "    val_roc_auc = eval_model(model, dataset_val, batch_size=val_batch_szie, device=device)\n",
    "    es(val_roc_auc, model)\n",
    "    \n",
    "    if es.early_stop:\n",
    "        print('Early stopping reached. Stop training...')\n",
    "        break\n",
    "    torch.save(model.state_dict(), os.path.join(path_to_checkpoints, f'epoch_{epoch+1}_val_{val_roc_auc:.3f}.pt'))\n",
    "    \n",
    "    train_roc_auc = eval_model(model, dataset_train, batch_size=val_batch_szie, device=device)\n",
    "    print(f'Epoch {epoch+1} completed. Train roc-auc: {train_roc_auc}, Val roc-auc: {val_roc_auc}')"
   ]
  },
  {
   "cell_type": "markdown",
   "metadata": {},
   "source": [
    "### 4. Submission"
   ]
  },
  {
   "cell_type": "markdown",
   "metadata": {},
   "source": [
    "* Все готово, чтобы сделать предсказания для тестовой выборки. Нужно только подготовить данные в том же формате, как и для train."
   ]
  },
  {
   "cell_type": "code",
   "execution_count": 38,
   "metadata": {},
   "outputs": [],
   "source": [
    "! rm -r ../../../test_buckets\n",
    "! mkdir ../../../test_buckets"
   ]
  },
  {
   "cell_type": "code",
   "execution_count": 39,
   "metadata": {},
   "outputs": [
    {
     "data": {
      "text/html": [
       "<div>\n",
       "<style scoped>\n",
       "    .dataframe tbody tr th:only-of-type {\n",
       "        vertical-align: middle;\n",
       "    }\n",
       "\n",
       "    .dataframe tbody tr th {\n",
       "        vertical-align: top;\n",
       "    }\n",
       "\n",
       "    .dataframe thead th {\n",
       "        text-align: right;\n",
       "    }\n",
       "</style>\n",
       "<table border=\"1\" class=\"dataframe\">\n",
       "  <thead>\n",
       "    <tr style=\"text-align: right;\">\n",
       "      <th></th>\n",
       "      <th>app_id</th>\n",
       "      <th>product</th>\n",
       "    </tr>\n",
       "  </thead>\n",
       "  <tbody>\n",
       "    <tr>\n",
       "      <th>0</th>\n",
       "      <td>1063620</td>\n",
       "      <td>0</td>\n",
       "    </tr>\n",
       "    <tr>\n",
       "      <th>1</th>\n",
       "      <td>1063621</td>\n",
       "      <td>0</td>\n",
       "    </tr>\n",
       "    <tr>\n",
       "      <th>2</th>\n",
       "      <td>1063622</td>\n",
       "      <td>1</td>\n",
       "    </tr>\n",
       "    <tr>\n",
       "      <th>3</th>\n",
       "      <td>1063623</td>\n",
       "      <td>1</td>\n",
       "    </tr>\n",
       "    <tr>\n",
       "      <th>4</th>\n",
       "      <td>1063624</td>\n",
       "      <td>2</td>\n",
       "    </tr>\n",
       "  </tbody>\n",
       "</table>\n",
       "</div>"
      ],
      "text/plain": [
       "    app_id  product\n",
       "0  1063620        0\n",
       "1  1063621        0\n",
       "2  1063622        1\n",
       "3  1063623        1\n",
       "4  1063624        2"
      ]
     },
     "execution_count": 39,
     "metadata": {},
     "output_type": "execute_result"
    }
   ],
   "source": [
    "test_frame = pd.read_csv('../../../test_target_contest.csv')\n",
    "test_frame.head()"
   ]
  },
  {
   "cell_type": "code",
   "execution_count": 40,
   "metadata": {},
   "outputs": [
    {
     "data": {
      "text/plain": [
       "'../../../train_transactions_contest/'"
      ]
     },
     "execution_count": 40,
     "metadata": {},
     "output_type": "execute_result"
    }
   ],
   "source": [
    "TRAIN_TRANSACTIONS_PATH"
   ]
  },
  {
   "cell_type": "code",
   "execution_count": 41,
   "metadata": {},
   "outputs": [
    {
     "data": {
      "text/plain": [
       "'../../../test_transactions_contest/'"
      ]
     },
     "execution_count": 41,
     "metadata": {},
     "output_type": "execute_result"
    }
   ],
   "source": [
    "TEST_TRANSACTIONS_PATH"
   ]
  },
  {
   "cell_type": "code",
   "execution_count": 42,
   "metadata": {},
   "outputs": [
    {
     "name": "stderr",
     "output_type": "stream",
     "text": [
      "Transforming transactions data:   0%|          | 0/5 [00:00<?, ?it/s]"
     ]
    },
    {
     "name": "stdout",
     "output_type": "stream",
     "text": [
      "Reading chunks:\n",
      "\n"
     ]
    },
    {
     "data": {
      "application/vnd.jupyter.widget-view+json": {
       "model_id": "9b541055ecdc48b6b7a5e8c2e835166a",
       "version_major": 2,
       "version_minor": 0
      },
      "text/plain": [
       "Reading dataset with pandas: 0it [00:00, ?it/s]"
      ]
     },
     "metadata": {},
     "output_type": "display_data"
    },
    {
     "name": "stderr",
     "output_type": "stream",
     "text": [
      "Transforming transactions data:   0%|          | 0/5 [00:00<?, ?it/s]\n"
     ]
    },
    {
     "ename": "ValueError",
     "evalue": "No objects to concatenate",
     "output_type": "error",
     "traceback": [
      "\u001b[0;31m---------------------------------------------------------------------------\u001b[0m",
      "\u001b[0;31mValueError\u001b[0m                                Traceback (most recent call last)",
      "\u001b[1;32m/home/serhio/Data/1Education/FL/AlfaBattle2.0AuthorBaseline/AlfaBattle2.0AuthorBaseline/rnn_baseline/baseline/pytorch_baseline.ipynb Cell 58\u001b[0m line \u001b[0;36m1\n\u001b[0;32m----> <a href='vscode-notebook-cell:/home/serhio/Data/1Education/FL/AlfaBattle2.0AuthorBaseline/AlfaBattle2.0AuthorBaseline/rnn_baseline/baseline/pytorch_baseline.ipynb#Y113sZmlsZQ%3D%3D?line=0'>1</a>\u001b[0m create_buckets_from_transactions(TEST_TRANSACTIONS_PATH, \n\u001b[1;32m      <a href='vscode-notebook-cell:/home/serhio/Data/1Education/FL/AlfaBattle2.0AuthorBaseline/AlfaBattle2.0AuthorBaseline/rnn_baseline/baseline/pytorch_baseline.ipynb#Y113sZmlsZQ%3D%3D?line=1'>2</a>\u001b[0m                                 save_to_path\u001b[39m=\u001b[39;49m\u001b[39m'\u001b[39;49m\u001b[39m../../../test_buckets\u001b[39;49m\u001b[39m'\u001b[39;49m, frame_with_ids\u001b[39m=\u001b[39;49mtest_frame, \n\u001b[1;32m      <a href='vscode-notebook-cell:/home/serhio/Data/1Education/FL/AlfaBattle2.0AuthorBaseline/AlfaBattle2.0AuthorBaseline/rnn_baseline/baseline/pytorch_baseline.ipynb#Y113sZmlsZQ%3D%3D?line=2'>3</a>\u001b[0m                                  num_parts_to_preprocess_at_once\u001b[39m=\u001b[39;49m\u001b[39m10\u001b[39;49m, num_parts_total\u001b[39m=\u001b[39;49m\u001b[39m50\u001b[39;49m, has_target\u001b[39m=\u001b[39;49m\u001b[39mFalse\u001b[39;49;00m)\n",
      "\u001b[1;32m/home/serhio/Data/1Education/FL/AlfaBattle2.0AuthorBaseline/AlfaBattle2.0AuthorBaseline/rnn_baseline/baseline/pytorch_baseline.ipynb Cell 58\u001b[0m line \u001b[0;36m7\n\u001b[1;32m      <a href='vscode-notebook-cell:/home/serhio/Data/1Education/FL/AlfaBattle2.0AuthorBaseline/AlfaBattle2.0AuthorBaseline/rnn_baseline/baseline/pytorch_baseline.ipynb#Y113sZmlsZQ%3D%3D?line=3'>4</a>\u001b[0m block \u001b[39m=\u001b[39m \u001b[39m0\u001b[39m\n\u001b[1;32m      <a href='vscode-notebook-cell:/home/serhio/Data/1Education/FL/AlfaBattle2.0AuthorBaseline/AlfaBattle2.0AuthorBaseline/rnn_baseline/baseline/pytorch_baseline.ipynb#Y113sZmlsZQ%3D%3D?line=4'>5</a>\u001b[0m \u001b[39mfor\u001b[39;00m step \u001b[39min\u001b[39;00m tqdm(\u001b[39mrange\u001b[39m(\u001b[39m0\u001b[39m, num_parts_total, num_parts_to_preprocess_at_once), \n\u001b[1;32m      <a href='vscode-notebook-cell:/home/serhio/Data/1Education/FL/AlfaBattle2.0AuthorBaseline/AlfaBattle2.0AuthorBaseline/rnn_baseline/baseline/pytorch_baseline.ipynb#Y113sZmlsZQ%3D%3D?line=5'>6</a>\u001b[0m                                desc\u001b[39m=\u001b[39m\u001b[39m\"\u001b[39m\u001b[39mTransforming transactions data\u001b[39m\u001b[39m\"\u001b[39m):\n\u001b[0;32m----> <a href='vscode-notebook-cell:/home/serhio/Data/1Education/FL/AlfaBattle2.0AuthorBaseline/AlfaBattle2.0AuthorBaseline/rnn_baseline/baseline/pytorch_baseline.ipynb#Y113sZmlsZQ%3D%3D?line=6'>7</a>\u001b[0m     transactions_frame \u001b[39m=\u001b[39m read_parquet_dataset_from_local(path_to_dataset, step, \n\u001b[1;32m      <a href='vscode-notebook-cell:/home/serhio/Data/1Education/FL/AlfaBattle2.0AuthorBaseline/AlfaBattle2.0AuthorBaseline/rnn_baseline/baseline/pytorch_baseline.ipynb#Y113sZmlsZQ%3D%3D?line=7'>8</a>\u001b[0m                                                          num_parts_to_preprocess_at_once, \n\u001b[1;32m      <a href='vscode-notebook-cell:/home/serhio/Data/1Education/FL/AlfaBattle2.0AuthorBaseline/AlfaBattle2.0AuthorBaseline/rnn_baseline/baseline/pytorch_baseline.ipynb#Y113sZmlsZQ%3D%3D?line=8'>9</a>\u001b[0m                                                          verbose\u001b[39m=\u001b[39;49m\u001b[39mTrue\u001b[39;49;00m)\n\u001b[1;32m     <a href='vscode-notebook-cell:/home/serhio/Data/1Education/FL/AlfaBattle2.0AuthorBaseline/AlfaBattle2.0AuthorBaseline/rnn_baseline/baseline/pytorch_baseline.ipynb#Y113sZmlsZQ%3D%3D?line=9'>10</a>\u001b[0m     \u001b[39mfor\u001b[39;00m dense_col \u001b[39min\u001b[39;00m [\u001b[39m'\u001b[39m\u001b[39mamnt\u001b[39m\u001b[39m'\u001b[39m, \u001b[39m'\u001b[39m\u001b[39mdays_before\u001b[39m\u001b[39m'\u001b[39m, \u001b[39m'\u001b[39m\u001b[39mhour_diff\u001b[39m\u001b[39m'\u001b[39m]:\n\u001b[1;32m     <a href='vscode-notebook-cell:/home/serhio/Data/1Education/FL/AlfaBattle2.0AuthorBaseline/AlfaBattle2.0AuthorBaseline/rnn_baseline/baseline/pytorch_baseline.ipynb#Y113sZmlsZQ%3D%3D?line=10'>11</a>\u001b[0m         transactions_frame[dense_col] \u001b[39m=\u001b[39m np\u001b[39m.\u001b[39mdigitize(transactions_frame[dense_col], bins\u001b[39m=\u001b[39mdense_features_buckets[dense_col])\n",
      "File \u001b[0;32m~/Data/1Education/FL/AlfaBattle2.0AuthorBaseline/AlfaBattle2.0AuthorBaseline/rnn_baseline/baseline/../../utils.py:30\u001b[0m, in \u001b[0;36mread_parquet_dataset_from_local\u001b[0;34m(path_to_dataset, start_from, num_parts_to_read, columns, verbose)\u001b[0m\n\u001b[1;32m     28\u001b[0m     chunk \u001b[39m=\u001b[39m pd\u001b[39m.\u001b[39mread_parquet(chunk_path,columns\u001b[39m=\u001b[39mcolumns)\n\u001b[1;32m     29\u001b[0m     res\u001b[39m.\u001b[39mappend(chunk)\n\u001b[0;32m---> 30\u001b[0m \u001b[39mreturn\u001b[39;00m pd\u001b[39m.\u001b[39;49mconcat(res)\u001b[39m.\u001b[39mreset_index(drop\u001b[39m=\u001b[39m\u001b[39mTrue\u001b[39;00m)\n",
      "File \u001b[0;32m~/.local/lib/python3.10/site-packages/pandas/util/_decorators.py:311\u001b[0m, in \u001b[0;36mdeprecate_nonkeyword_arguments.<locals>.decorate.<locals>.wrapper\u001b[0;34m(*args, **kwargs)\u001b[0m\n\u001b[1;32m    305\u001b[0m \u001b[39mif\u001b[39;00m \u001b[39mlen\u001b[39m(args) \u001b[39m>\u001b[39m num_allow_args:\n\u001b[1;32m    306\u001b[0m     warnings\u001b[39m.\u001b[39mwarn(\n\u001b[1;32m    307\u001b[0m         msg\u001b[39m.\u001b[39mformat(arguments\u001b[39m=\u001b[39marguments),\n\u001b[1;32m    308\u001b[0m         \u001b[39mFutureWarning\u001b[39;00m,\n\u001b[1;32m    309\u001b[0m         stacklevel\u001b[39m=\u001b[39mstacklevel,\n\u001b[1;32m    310\u001b[0m     )\n\u001b[0;32m--> 311\u001b[0m \u001b[39mreturn\u001b[39;00m func(\u001b[39m*\u001b[39;49margs, \u001b[39m*\u001b[39;49m\u001b[39m*\u001b[39;49mkwargs)\n",
      "File \u001b[0;32m~/.local/lib/python3.10/site-packages/pandas/core/reshape/concat.py:294\u001b[0m, in \u001b[0;36mconcat\u001b[0;34m(objs, axis, join, ignore_index, keys, levels, names, verify_integrity, sort, copy)\u001b[0m\n\u001b[1;32m     90\u001b[0m \u001b[39m@deprecate_nonkeyword_arguments\u001b[39m(version\u001b[39m=\u001b[39m\u001b[39mNone\u001b[39;00m, allowed_args\u001b[39m=\u001b[39m[\u001b[39m\"\u001b[39m\u001b[39mobjs\u001b[39m\u001b[39m\"\u001b[39m])\n\u001b[1;32m     91\u001b[0m \u001b[39mdef\u001b[39;00m \u001b[39mconcat\u001b[39m(\n\u001b[1;32m     92\u001b[0m     objs: Iterable[NDFrame] \u001b[39m|\u001b[39m Mapping[Hashable, NDFrame],\n\u001b[0;32m   (...)\u001b[0m\n\u001b[1;32m    101\u001b[0m     copy: \u001b[39mbool\u001b[39m \u001b[39m=\u001b[39m \u001b[39mTrue\u001b[39;00m,\n\u001b[1;32m    102\u001b[0m ) \u001b[39m-\u001b[39m\u001b[39m>\u001b[39m FrameOrSeriesUnion:\n\u001b[1;32m    103\u001b[0m \u001b[39m    \u001b[39m\u001b[39m\"\"\"\u001b[39;00m\n\u001b[1;32m    104\u001b[0m \u001b[39m    Concatenate pandas objects along a particular axis with optional set logic\u001b[39;00m\n\u001b[1;32m    105\u001b[0m \u001b[39m    along the other axes.\u001b[39;00m\n\u001b[0;32m   (...)\u001b[0m\n\u001b[1;32m    292\u001b[0m \u001b[39m    ValueError: Indexes have overlapping values: ['a']\u001b[39;00m\n\u001b[1;32m    293\u001b[0m \u001b[39m    \"\"\"\u001b[39;00m\n\u001b[0;32m--> 294\u001b[0m     op \u001b[39m=\u001b[39m _Concatenator(\n\u001b[1;32m    295\u001b[0m         objs,\n\u001b[1;32m    296\u001b[0m         axis\u001b[39m=\u001b[39;49maxis,\n\u001b[1;32m    297\u001b[0m         ignore_index\u001b[39m=\u001b[39;49mignore_index,\n\u001b[1;32m    298\u001b[0m         join\u001b[39m=\u001b[39;49mjoin,\n\u001b[1;32m    299\u001b[0m         keys\u001b[39m=\u001b[39;49mkeys,\n\u001b[1;32m    300\u001b[0m         levels\u001b[39m=\u001b[39;49mlevels,\n\u001b[1;32m    301\u001b[0m         names\u001b[39m=\u001b[39;49mnames,\n\u001b[1;32m    302\u001b[0m         verify_integrity\u001b[39m=\u001b[39;49mverify_integrity,\n\u001b[1;32m    303\u001b[0m         copy\u001b[39m=\u001b[39;49mcopy,\n\u001b[1;32m    304\u001b[0m         sort\u001b[39m=\u001b[39;49msort,\n\u001b[1;32m    305\u001b[0m     )\n\u001b[1;32m    307\u001b[0m     \u001b[39mreturn\u001b[39;00m op\u001b[39m.\u001b[39mget_result()\n",
      "File \u001b[0;32m~/.local/lib/python3.10/site-packages/pandas/core/reshape/concat.py:351\u001b[0m, in \u001b[0;36m_Concatenator.__init__\u001b[0;34m(self, objs, axis, join, keys, levels, names, ignore_index, verify_integrity, copy, sort)\u001b[0m\n\u001b[1;32m    348\u001b[0m     objs \u001b[39m=\u001b[39m \u001b[39mlist\u001b[39m(objs)\n\u001b[1;32m    350\u001b[0m \u001b[39mif\u001b[39;00m \u001b[39mlen\u001b[39m(objs) \u001b[39m==\u001b[39m \u001b[39m0\u001b[39m:\n\u001b[0;32m--> 351\u001b[0m     \u001b[39mraise\u001b[39;00m \u001b[39mValueError\u001b[39;00m(\u001b[39m\"\u001b[39m\u001b[39mNo objects to concatenate\u001b[39m\u001b[39m\"\u001b[39m)\n\u001b[1;32m    353\u001b[0m \u001b[39mif\u001b[39;00m keys \u001b[39mis\u001b[39;00m \u001b[39mNone\u001b[39;00m:\n\u001b[1;32m    354\u001b[0m     objs \u001b[39m=\u001b[39m \u001b[39mlist\u001b[39m(com\u001b[39m.\u001b[39mnot_none(\u001b[39m*\u001b[39mobjs))\n",
      "\u001b[0;31mValueError\u001b[0m: No objects to concatenate"
     ]
    }
   ],
   "source": [
    "create_buckets_from_transactions(TEST_TRANSACTIONS_PATH, \n",
    "                                save_to_path='../../../test_buckets', frame_with_ids=test_frame, \n",
    "                                 num_parts_to_preprocess_at_once=10, num_parts_total=50, has_target=False)"
   ]
  },
  {
   "cell_type": "code",
   "execution_count": null,
   "metadata": {},
   "outputs": [
    {
     "data": {
      "text/plain": [
       "['../../../test_buckets/processed_chunk_000.pkl',\n",
       " '../../../test_buckets/processed_chunk_001.pkl',\n",
       " '../../../test_buckets/processed_chunk_002.pkl',\n",
       " '../../../test_buckets/processed_chunk_003.pkl',\n",
       " '../../../test_buckets/processed_chunk_004.pkl']"
      ]
     },
     "execution_count": 69,
     "metadata": {},
     "output_type": "execute_result"
    }
   ],
   "source": [
    "path_to_test_dataset = '../../../test_buckets/'\n",
    "dir_with_test_datasets = os.listdir(path_to_test_dataset)\n",
    "dataset_test = sorted([os.path.join(path_to_test_dataset, x) for x in dir_with_test_datasets])\n",
    "\n",
    "dataset_test"
   ]
  },
  {
   "cell_type": "markdown",
   "metadata": {},
   "source": [
    "* Отдельный вопрос, какую из построенных моделей использовать для того, чтобы делать предсказания на тест. Можно выбирать лучшую по early_stopping. В таком случае есть риск, что мы подгонимся под валидационную выборку, особенно если она не является очень репрезентативной, однако это самый базовый вариант (используем его). Можно делать разные версии ансамблирования, используя веса с разных эпох. Такой подход требует дополнительного кода (обязательно попробуйте его!). Наконец, можно выбирать такую модель, которая показывает хорошие результаты на валидации и в то же время, не слишком переучена под train выборку."
   ]
  },
  {
   "cell_type": "code",
   "execution_count": null,
   "metadata": {},
   "outputs": [
    {
     "name": "stdout",
     "output_type": "stream",
     "text": [
      "best_checkpoint.pt    epoch_2_val_0.786.pt  epoch_4_val_0.784.pt\r\n",
      "epoch_1_val_0.777.pt  epoch_3_val_0.784.pt\r\n"
     ]
    }
   ],
   "source": [
    "! ls $path_to_checkpoints"
   ]
  },
  {
   "cell_type": "code",
   "execution_count": null,
   "metadata": {},
   "outputs": [
    {
     "data": {
      "text/plain": [
       "<All keys matched successfully>"
      ]
     },
     "execution_count": 93,
     "metadata": {},
     "output_type": "execute_result"
    }
   ],
   "source": [
    "model.load_state_dict(torch.load(os.path.join(path_to_checkpoints, 'best_checkpoint.pt')))"
   ]
  },
  {
   "cell_type": "code",
   "execution_count": null,
   "metadata": {},
   "outputs": [
    {
     "data": {
      "application/vnd.jupyter.widget-view+json": {
       "model_id": "21564d2f55394158a7cde265ffb9c016",
       "version_major": 2,
       "version_minor": 0
      },
      "text/plain": [
       "HBox(children=(HTML(value='Test time predictions'), FloatProgress(value=1.0, bar_style='info', layout=Layout(w…"
      ]
     },
     "metadata": {},
     "output_type": "display_data"
    },
    {
     "name": "stdout",
     "output_type": "stream",
     "text": [
      "\n"
     ]
    }
   ],
   "source": [
    "test_preds = inference(model, dataset_test, batch_size=128, device=device)"
   ]
  },
  {
   "cell_type": "code",
   "execution_count": null,
   "metadata": {},
   "outputs": [
    {
     "data": {
      "text/html": [
       "<div>\n",
       "<style scoped>\n",
       "    .dataframe tbody tr th:only-of-type {\n",
       "        vertical-align: middle;\n",
       "    }\n",
       "\n",
       "    .dataframe tbody tr th {\n",
       "        vertical-align: top;\n",
       "    }\n",
       "\n",
       "    .dataframe thead th {\n",
       "        text-align: right;\n",
       "    }\n",
       "</style>\n",
       "<table border=\"1\" class=\"dataframe\">\n",
       "  <thead>\n",
       "    <tr style=\"text-align: right;\">\n",
       "      <th></th>\n",
       "      <th>app_id</th>\n",
       "      <th>score</th>\n",
       "    </tr>\n",
       "  </thead>\n",
       "  <tbody>\n",
       "    <tr>\n",
       "      <th>0</th>\n",
       "      <td>1063655</td>\n",
       "      <td>-3.865098</td>\n",
       "    </tr>\n",
       "    <tr>\n",
       "      <th>1</th>\n",
       "      <td>1063672</td>\n",
       "      <td>-2.472911</td>\n",
       "    </tr>\n",
       "    <tr>\n",
       "      <th>2</th>\n",
       "      <td>1063694</td>\n",
       "      <td>-3.957081</td>\n",
       "    </tr>\n",
       "    <tr>\n",
       "      <th>3</th>\n",
       "      <td>1063709</td>\n",
       "      <td>-3.381659</td>\n",
       "    </tr>\n",
       "    <tr>\n",
       "      <th>4</th>\n",
       "      <td>1063715</td>\n",
       "      <td>-4.051003</td>\n",
       "    </tr>\n",
       "  </tbody>\n",
       "</table>\n",
       "</div>"
      ],
      "text/plain": [
       "    app_id     score\n",
       "0  1063655 -3.865098\n",
       "1  1063672 -2.472911\n",
       "2  1063694 -3.957081\n",
       "3  1063709 -3.381659\n",
       "4  1063715 -4.051003"
      ]
     },
     "execution_count": 95,
     "metadata": {},
     "output_type": "execute_result"
    }
   ],
   "source": [
    "test_preds.head()"
   ]
  },
  {
   "cell_type": "code",
   "execution_count": null,
   "metadata": {},
   "outputs": [],
   "source": [
    "test_preds.to_csv('rnn_baseline_submission.csv', index=None) # ~ 0.750 на public test"
   ]
  },
  {
   "cell_type": "code",
   "execution_count": null,
   "metadata": {},
   "outputs": [],
   "source": []
  }
 ],
 "metadata": {
  "kernelspec": {
   "display_name": "Python 3",
   "language": "python",
   "name": "python3"
  },
  "language_info": {
   "codemirror_mode": {
    "name": "ipython",
    "version": 3
   },
   "file_extension": ".py",
   "mimetype": "text/x-python",
   "name": "python",
   "nbconvert_exporter": "python",
   "pygments_lexer": "ipython3",
   "version": "3.10.12"
  }
 },
 "nbformat": 4,
 "nbformat_minor": 4
}
